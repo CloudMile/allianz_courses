{
 "cells": [
  {
   "cell_type": "markdown",
   "metadata": {
    "colab_type": "text",
    "id": "X6TzudIkLSb2"
   },
   "source": [
    "# Load Libs"
   ]
  },
  {
   "cell_type": "code",
   "execution_count": 2,
   "metadata": {
    "colab": {
     "base_uri": "https://localhost:8080/",
     "height": 222
    },
    "colab_type": "code",
    "executionInfo": {
     "elapsed": 4910,
     "status": "ok",
     "timestamp": 1539915132033,
     "user": {
      "displayName": "Gary Chen",
      "photoUrl": "",
      "userId": "10783188122132859162"
     },
     "user_tz": -480
    },
    "id": "_OceWebGEClz",
    "outputId": "dc536e27-445c-4775-8131-01126f800c7b"
   },
   "outputs": [
    {
     "name": "stdout",
     "output_type": "stream",
     "text": [
      "Requirement already up-to-date: seaborn in d:\\python\\anaconda3-5.2.0\\envs\\py3_6\\lib\\site-packages (0.9.0)\n",
      "Requirement already satisfied, skipping upgrade: pandas>=0.15.2 in d:\\python\\anaconda3-5.2.0\\envs\\py3_6\\lib\\site-packages (from seaborn) (0.23.4)\n",
      "Requirement already satisfied, skipping upgrade: numpy>=1.9.3 in d:\\python\\anaconda3-5.2.0\\envs\\py3_6\\lib\\site-packages (from seaborn) (1.14.5)\n",
      "Requirement already satisfied, skipping upgrade: matplotlib>=1.4.3 in d:\\python\\anaconda3-5.2.0\\envs\\py3_6\\lib\\site-packages (from seaborn) (2.2.3)\n",
      "Requirement already satisfied, skipping upgrade: scipy>=0.14.0 in d:\\python\\anaconda3-5.2.0\\envs\\py3_6\\lib\\site-packages (from seaborn) (1.1.0)\n",
      "Requirement already satisfied, skipping upgrade: python-dateutil>=2.5.0 in d:\\python\\anaconda3-5.2.0\\envs\\py3_6\\lib\\site-packages (from pandas>=0.15.2->seaborn) (2.7.3)\n",
      "Requirement already satisfied, skipping upgrade: pytz>=2011k in d:\\python\\anaconda3-5.2.0\\envs\\py3_6\\lib\\site-packages (from pandas>=0.15.2->seaborn) (2018.5)\n",
      "Requirement already satisfied, skipping upgrade: cycler>=0.10 in d:\\python\\anaconda3-5.2.0\\envs\\py3_6\\lib\\site-packages (from matplotlib>=1.4.3->seaborn) (0.10.0)\n",
      "Requirement already satisfied, skipping upgrade: kiwisolver>=1.0.1 in d:\\python\\anaconda3-5.2.0\\envs\\py3_6\\lib\\site-packages (from matplotlib>=1.4.3->seaborn) (1.0.1)\n",
      "Requirement already satisfied, skipping upgrade: six>=1.10 in d:\\python\\anaconda3-5.2.0\\envs\\py3_6\\lib\\site-packages (from matplotlib>=1.4.3->seaborn) (1.11.0)\n",
      "Requirement already satisfied, skipping upgrade: pyparsing!=2.0.4,!=2.1.2,!=2.1.6,>=2.0.1 in d:\\python\\anaconda3-5.2.0\\envs\\py3_6\\lib\\site-packages (from matplotlib>=1.4.3->seaborn) (2.2.0)\n",
      "Requirement already satisfied, skipping upgrade: setuptools in d:\\python\\anaconda3-5.2.0\\envs\\py3_6\\lib\\site-packages (from kiwisolver>=1.0.1->matplotlib>=1.4.3->seaborn) (39.1.0)\n"
     ]
    },
    {
     "name": "stderr",
     "output_type": "stream",
     "text": [
      "Using TensorFlow backend.\n"
     ]
    }
   ],
   "source": [
    "%reload_ext autoreload\n",
    "%autoreload 2\n",
    "\n",
    "!pip install seaborn --upgrade\n",
    "\n",
    "import os, sys, numpy as np, pandas as pd, tensorflow as tf, cv2\n",
    "import seaborn as sns\n",
    "import scipy.stats as stats\n",
    "\n",
    "from collections import defaultdict\n",
    "from sklearn.model_selection import train_test_split\n",
    "from sklearn.preprocessing import StandardScaler, MinMaxScaler, LabelEncoder, LabelBinarizer\n",
    "from sklearn.metrics import auc, roc_curve, f1_score, confusion_matrix, classification_report\n",
    "from sklearn.metrics import precision_recall_fscore_support, accuracy_score\n",
    "\n",
    "from matplotlib import pyplot as plt\n",
    "sns.set(style=\"white\")\n",
    "\n",
    "import keras\n",
    "from keras import backend as K\n",
    "from keras.models import Sequential, Model\n",
    "from keras.layers import Dense, BatchNormalization, Activation, Input, Dropout, Embedding, Flatten, Input\n",
    "from keras.layers import Concatenate\n",
    "from keras.optimizers import Adam, Nadam\n",
    "from keras import regularizers\n",
    "\n",
    "%matplotlib inline\n",
    "\n",
    "def plot_result(hist):\n",
    "    plt.figure(figsize=(16, 5))\n",
    "\n",
    "    plt.subplot(1, 2, 1)\n",
    "    plt.plot(hist.history['loss'], label='tr_loss')\n",
    "    plt.plot(hist.history['val_loss'], label='vl_loss')\n",
    "    plt.title('Loss')\n",
    "\n",
    "    plt.subplot(1, 2, 2)\n",
    "    plt.plot(hist.history['acc'], label='acc')\n",
    "    plt.plot(hist.history['val_acc'], label='val_acc')\n",
    "    plt.title('Accuracy')\n",
    "\n",
    "    plt.legend(loc='best')\n",
    "    plt.show()\n",
    "    \n",
    "def draw_roc_curve(y, pred):\n",
    "    from matplotlib import pyplot as plt\n",
    "\n",
    "    fprRf, tprRf, _ = roc_curve(y, pred, pos_label=1)\n",
    "    auc_scr = auc(fprRf, tprRf)\n",
    "    print(\"auc:\", auc_scr)\n",
    "    f, ax = plt.subplots(1, 1, figsize=(6, 6))\n",
    "\n",
    "    ax.plot([0, 1], [0, 1], 'k--')\n",
    "    ax.plot(fprRf, tprRf, label='ROC CURVE')\n",
    "    ax.set_xlabel('False positive rate')\n",
    "    ax.set_ylabel('True positive rate')\n",
    "    ax.set_title('Area Under Curve(ROC) (score: {:.4f})'.format(auc_scr))\n",
    "    ax.legend(loc='best')\n",
    "    plt.show()"
   ]
  },
  {
   "cell_type": "markdown",
   "metadata": {
    "colab_type": "text",
    "id": "qeEHBniStlgU"
   },
   "source": [
    "## Data Schema\n",
    "\n",
    "Column name     | Description\n",
    "             ---|---\n",
    "RorNumber       |    Row number\n",
    "CustomerId      |    Customer id\n",
    "Surname         |    Customer surname\n",
    "CreditScore     |    Credit score\n",
    "Geography       |    Country the customer belong to\n",
    "Gender          |    Female or Male\n",
    "Age             |    Customer's age\n",
    "Tenure          |    Life length of customer\n",
    "Balance         |    Bank balance of the customer\n",
    "NumOfProducts   |    Number of product belong to the customer\n",
    "HasCrCard       |    If customer has credit card\n",
    "IsActiveMember  |    If customer status is active or disabled\n",
    "EstimatedSalary |    Estimated salary for the customer\n",
    "Claim          |    Label, 1: Claim, 0: Not Claim\n",
    "\n",
    "---\n",
    "\n",
    "* 7個類別變數\n",
    "* 6個數值變數\n",
    "---\n",
    "\n"
   ]
  },
  {
   "cell_type": "markdown",
   "metadata": {
    "colab_type": "text",
    "id": "Ps1HdA6twJck"
   },
   "source": [
    "# Purpose: \n",
    "* 給定客戶Metadata, 預測該客戶是否在未來會發生需要理陪的風險?"
   ]
  },
  {
   "cell_type": "code",
   "execution_count": 3,
   "metadata": {
    "colab": {
     "base_uri": "https://localhost:8080/",
     "height": 215
    },
    "colab_type": "code",
    "executionInfo": {
     "elapsed": 1860,
     "status": "ok",
     "timestamp": 1539915133987,
     "user": {
      "displayName": "Gary Chen",
      "photoUrl": "",
      "userId": "10783188122132859162"
     },
     "user_tz": -480
    },
    "id": "_UOyp6tUECl1",
    "outputId": "eacd5cf0-3ce6-46d5-d1bd-7feb771a174d"
   },
   "outputs": [
    {
     "data": {
      "text/html": [
       "<div>\n",
       "<style scoped>\n",
       "    .dataframe tbody tr th:only-of-type {\n",
       "        vertical-align: middle;\n",
       "    }\n",
       "\n",
       "    .dataframe tbody tr th {\n",
       "        vertical-align: top;\n",
       "    }\n",
       "\n",
       "    .dataframe thead th {\n",
       "        text-align: right;\n",
       "    }\n",
       "</style>\n",
       "<table border=\"1\" class=\"dataframe\">\n",
       "  <thead>\n",
       "    <tr style=\"text-align: right;\">\n",
       "      <th></th>\n",
       "      <th>RowNumber</th>\n",
       "      <th>CustomerId</th>\n",
       "      <th>Surname</th>\n",
       "      <th>CreditScore</th>\n",
       "      <th>Geography</th>\n",
       "      <th>Gender</th>\n",
       "      <th>Age</th>\n",
       "      <th>Tenure</th>\n",
       "      <th>Balance</th>\n",
       "      <th>NumOfProducts</th>\n",
       "      <th>HasCrCard</th>\n",
       "      <th>IsActiveMember</th>\n",
       "      <th>EstimatedSalary</th>\n",
       "      <th>Claim</th>\n",
       "    </tr>\n",
       "  </thead>\n",
       "  <tbody>\n",
       "    <tr>\n",
       "      <th>0</th>\n",
       "      <td>6396</td>\n",
       "      <td>15707918</td>\n",
       "      <td>Bentley</td>\n",
       "      <td>741</td>\n",
       "      <td>Germany</td>\n",
       "      <td>Female</td>\n",
       "      <td>36</td>\n",
       "      <td>0</td>\n",
       "      <td>127675.39</td>\n",
       "      <td>2</td>\n",
       "      <td>1</td>\n",
       "      <td>0</td>\n",
       "      <td>74260.16</td>\n",
       "      <td>0</td>\n",
       "    </tr>\n",
       "    <tr>\n",
       "      <th>1</th>\n",
       "      <td>6055</td>\n",
       "      <td>15773013</td>\n",
       "      <td>Uvarov</td>\n",
       "      <td>633</td>\n",
       "      <td>France</td>\n",
       "      <td>Female</td>\n",
       "      <td>47</td>\n",
       "      <td>0</td>\n",
       "      <td>0.00</td>\n",
       "      <td>1</td>\n",
       "      <td>1</td>\n",
       "      <td>1</td>\n",
       "      <td>6342.84</td>\n",
       "      <td>1</td>\n",
       "    </tr>\n",
       "    <tr>\n",
       "      <th>2</th>\n",
       "      <td>8866</td>\n",
       "      <td>15639004</td>\n",
       "      <td>Chiemezie</td>\n",
       "      <td>668</td>\n",
       "      <td>France</td>\n",
       "      <td>Male</td>\n",
       "      <td>72</td>\n",
       "      <td>2</td>\n",
       "      <td>0.00</td>\n",
       "      <td>2</td>\n",
       "      <td>1</td>\n",
       "      <td>1</td>\n",
       "      <td>70783.61</td>\n",
       "      <td>0</td>\n",
       "    </tr>\n",
       "    <tr>\n",
       "      <th>3</th>\n",
       "      <td>9098</td>\n",
       "      <td>15606901</td>\n",
       "      <td>Graham</td>\n",
       "      <td>728</td>\n",
       "      <td>France</td>\n",
       "      <td>Male</td>\n",
       "      <td>43</td>\n",
       "      <td>7</td>\n",
       "      <td>0.00</td>\n",
       "      <td>2</td>\n",
       "      <td>1</td>\n",
       "      <td>0</td>\n",
       "      <td>40023.70</td>\n",
       "      <td>0</td>\n",
       "    </tr>\n",
       "    <tr>\n",
       "      <th>4</th>\n",
       "      <td>3865</td>\n",
       "      <td>15808960</td>\n",
       "      <td>Alleyne</td>\n",
       "      <td>620</td>\n",
       "      <td>Germany</td>\n",
       "      <td>Male</td>\n",
       "      <td>40</td>\n",
       "      <td>5</td>\n",
       "      <td>108197.11</td>\n",
       "      <td>2</td>\n",
       "      <td>1</td>\n",
       "      <td>0</td>\n",
       "      <td>49722.34</td>\n",
       "      <td>0</td>\n",
       "    </tr>\n",
       "  </tbody>\n",
       "</table>\n",
       "</div>"
      ],
      "text/plain": [
       "   RowNumber  CustomerId    Surname  CreditScore Geography  Gender  Age  \\\n",
       "0       6396    15707918    Bentley          741   Germany  Female   36   \n",
       "1       6055    15773013     Uvarov          633    France  Female   47   \n",
       "2       8866    15639004  Chiemezie          668    France    Male   72   \n",
       "3       9098    15606901     Graham          728    France    Male   43   \n",
       "4       3865    15808960    Alleyne          620   Germany    Male   40   \n",
       "\n",
       "   Tenure    Balance  NumOfProducts  HasCrCard  IsActiveMember  \\\n",
       "0       0  127675.39              2          1               0   \n",
       "1       0       0.00              1          1               1   \n",
       "2       2       0.00              2          1               1   \n",
       "3       7       0.00              2          1               0   \n",
       "4       5  108197.11              2          1               0   \n",
       "\n",
       "   EstimatedSalary  Claim  \n",
       "0         74260.16      0  \n",
       "1          6342.84      1  \n",
       "2         70783.61      0  \n",
       "3         40023.70      0  \n",
       "4         49722.34      0  "
      ]
     },
     "execution_count": 3,
     "metadata": {},
     "output_type": "execute_result"
    }
   ],
   "source": [
    "raw = pd.read_csv(\"https://storage.googleapis.com/allianz-course/data/raw_tr_insurance_claim.csv\")\n",
    "raw_vl = pd.read_csv(\"https://storage.googleapis.com/allianz-course/data/raw_vl_insurance_claim.csv\")\n",
    "raw.head()"
   ]
  },
  {
   "cell_type": "markdown",
   "metadata": {
    "colab_type": "text",
    "id": "CP0v2VzYvUmG"
   },
   "source": [
    "# Drop 不必要的欄位"
   ]
  },
  {
   "cell_type": "code",
   "execution_count": 4,
   "metadata": {
    "colab": {},
    "colab_type": "code",
    "id": "ScS756pOvTLl"
   },
   "outputs": [],
   "source": [
    "raw.drop(['RowNumber', 'CustomerId', 'Surname'], 1, inplace=True)\n",
    "raw_vl.drop(['RowNumber', 'CustomerId', 'Surname'], 1, inplace=True)"
   ]
  },
  {
   "cell_type": "code",
   "execution_count": 5,
   "metadata": {
    "colab": {
     "base_uri": "https://localhost:8080/",
     "height": 286
    },
    "colab_type": "code",
    "executionInfo": {
     "elapsed": 621,
     "status": "ok",
     "timestamp": 1539915137245,
     "user": {
      "displayName": "Gary Chen",
      "photoUrl": "",
      "userId": "10783188122132859162"
     },
     "user_tz": -480
    },
    "id": "xbmIazS-_S9Z",
    "outputId": "3bb9ee67-5290-40ca-d0db-40d596b8352e"
   },
   "outputs": [
    {
     "name": "stdout",
     "output_type": "stream",
     "text": [
      "<class 'pandas.core.frame.DataFrame'>\n",
      "RangeIndex: 7500 entries, 0 to 7499\n",
      "Data columns (total 11 columns):\n",
      "CreditScore        7500 non-null int64\n",
      "Geography          7500 non-null object\n",
      "Gender             7500 non-null object\n",
      "Age                7500 non-null int64\n",
      "Tenure             7500 non-null int64\n",
      "Balance            7500 non-null float64\n",
      "NumOfProducts      7500 non-null int64\n",
      "HasCrCard          7500 non-null int64\n",
      "IsActiveMember     7500 non-null int64\n",
      "EstimatedSalary    7500 non-null float64\n",
      "Claim              7500 non-null int64\n",
      "dtypes: float64(2), int64(7), object(2)\n",
      "memory usage: 644.6+ KB\n"
     ]
    }
   ],
   "source": [
    "raw.info()"
   ]
  },
  {
   "cell_type": "markdown",
   "metadata": {
    "colab_type": "text",
    "id": "xoyVZct4tpFa"
   },
   "source": [
    "# Features setting"
   ]
  },
  {
   "cell_type": "code",
   "execution_count": 6,
   "metadata": {
    "colab": {
     "base_uri": "https://localhost:8080/",
     "height": 50
    },
    "colab_type": "code",
    "executionInfo": {
     "elapsed": 676,
     "status": "ok",
     "timestamp": 1539915139918,
     "user": {
      "displayName": "Gary Chen",
      "photoUrl": "",
      "userId": "10783188122132859162"
     },
     "user_tz": -480
    },
    "id": "plpAXiiatNgD",
    "outputId": "c54c8bf7-9f2a-4822-9dc9-5419a275d7d8"
   },
   "outputs": [
    {
     "name": "stdout",
     "output_type": "stream",
     "text": [
      "Categorical:  ['Gender', 'HasCrCard', 'IsActiveMember', 'Geography']\n",
      "Numerical:  ['CreditScore', 'Age', 'Tenure', 'Balance', 'NumOfProducts', 'EstimatedSalary']\n"
     ]
    }
   ],
   "source": [
    "catg_features = ['Gender', 'HasCrCard', 'IsActiveMember', 'Geography', ]\n",
    "num_features = ['CreditScore', 'Age', 'Tenure', 'Balance', 'NumOfProducts', 'EstimatedSalary']\n",
    "label = 'Claim'\n",
    "print('Categorical: ', catg_features)\n",
    "print('Numerical: ', num_features)"
   ]
  },
  {
   "cell_type": "markdown",
   "metadata": {
    "colab_type": "text",
    "id": "oCud9-1Esa6S"
   },
   "source": [
    "<br/>\n",
    "<br/>\n",
    "<br/>\n",
    "\n",
    "---\n",
    "\n",
    "# Base Feature Preprocessing\n",
    "\n",
    "* catg_ftrs: 類別變數的欄位\n",
    "* num_features: 連續變數的欄位\n",
    "* encoded_ftrs: 編碼後的欄位\n",
    "* status: training 資料預處理時紀錄的狀態物件\n",
    "* is_train: 是否為 training 狀態"
   ]
  },
  {
   "cell_type": "code",
   "execution_count": 7,
   "metadata": {
    "colab": {},
    "colab_type": "code",
    "id": "-7GRAyvZtmta"
   },
   "outputs": [],
   "source": [
    "def feature_engineering(raw, is_train=True, status=None):\n",
    "    data = raw.copy()\n",
    "    \n",
    "    if is_train:\n",
    "        status = {'scaler': None, # Normalize object\n",
    "                  # One Hot Encoding mapper\n",
    "                  'mapper': defaultdict(LabelBinarizer),\n",
    "                  'woe_mapper': {},\n",
    "                  'binn_mapper': {},\n",
    "                  'freq_mapper': {},\n",
    "                  'mean_mapper': {},\n",
    "                  'entropy_mapper': {}}\n",
    "\n",
    "    catg_ftrs = catg_features.copy()\n",
    "        \n",
    "    # Numeric binning to categorical features\n",
    "    do_binning(catg_ftrs, status, data, is_train)\n",
    "    # -----------------------------------------------------------------------------------------\n",
    "\n",
    "    encoded_ftrs = pd.DataFrame()\n",
    "    \n",
    "    # One Hot Encoding\n",
    "    do_onehot(catg_ftrs, encoded_ftrs, status, data, is_train)\n",
    "    # -----------------------------------------------------------------------------------------\n",
    "    \n",
    "    # WOE encoding\n",
    "    do_woe_encoding(catg_ftrs, encoded_ftrs, status, data, is_train)\n",
    "    # -----------------------------------------------------------------------------------------\n",
    "    \n",
    "    # Entropy encoding\n",
    "    do_entropy_encoding(catg_ftrs, encoded_ftrs, status, data, is_train)\n",
    "    # -----------------------------------------------------------------------------------------\n",
    "\n",
    "    # Frequency encoding, target mean encoding\n",
    "    do_target_encoding(catg_ftrs, encoded_ftrs, status, data, is_train)\n",
    "    # -----------------------------------------------------------------------------------------\n",
    "\n",
    "    # Normalize numerical features\n",
    "    do_norm(num_features, encoded_ftrs, status, data, is_train)\n",
    "    # -----------------------------------------------------------------------------------------\n",
    "    \n",
    "    # \n",
    "    data_x, data_y = encoded_ftrs, data['Claim'].copy()\n",
    "    \n",
    "    # Include quadratic term, cube term\n",
    "    do_nth_order_polynominal(num_features, data_x)\n",
    "    # ----------------------------------------------------------------------------------------- \n",
    "    return data_x, data_y, status\n"
   ]
  },
  {
   "cell_type": "markdown",
   "metadata": {
    "colab_type": "text",
    "id": "ECJMndaStmtc"
   },
   "source": [
    "# Functions of Features Processing"
   ]
  },
  {
   "cell_type": "code",
   "execution_count": 9,
   "metadata": {
    "colab": {},
    "colab_type": "code",
    "id": "_SF8dwpitmtd"
   },
   "outputs": [],
   "source": [
    "def do_binning(catg_ftrs, status, data, is_train): pass\n",
    "\n",
    "# Basic one hot encoding\n",
    "def do_onehot(catg_ftrs, encoded_ftrs, status, data, is_train):\n",
    "    mapper = status['mapper']\n",
    "    tmp = []\n",
    "    for catg_col in catg_ftrs:\n",
    "        if is_train:\n",
    "            result = mapper[catg_col].fit_transform(data[catg_col])\n",
    "        else:\n",
    "            result = mapper[catg_col].transform(data[catg_col])\n",
    "\n",
    "        columns = [f'{catg_col}_{col}' for col in mapper[catg_col].classes_]\n",
    "        if result.shape[1] == 1:\n",
    "            columns = columns[:1]\n",
    "        tmp.append(pd.DataFrame(data=result, columns=columns))\n",
    "    tmp = pd.concat(tmp, 1)\n",
    "    for col in tmp:\n",
    "        encoded_ftrs[col] = tmp[col]\n",
    "\n",
    "def do_woe_encoding(catg_ftrs, catg_part, status, data, is_train): pass\n",
    "\n",
    "def do_entropy_encoding(catg_ftrs, catg_part, status, data, is_train): pass\n",
    "\n",
    "def do_target_encoding(catg_ftrs, catg_part, status, data, is_train): pass\n",
    "\n",
    "# Basic normalize (Z-score normalize to zero mean , unit variance)\n",
    "def do_norm(num_features, encoded_ftrs, status, data, is_train):\n",
    "    num_part = data[num_features].copy()\n",
    "    if is_train:\n",
    "        scaler = StandardScaler()\n",
    "        status['scaler'] = scaler\n",
    "        num_part = pd.DataFrame(data=scaler.fit_transform(num_part), columns=num_part.columns)\n",
    "    else:\n",
    "        scaler = status['scaler']\n",
    "        num_part = pd.DataFrame(data=scaler.transform(num_part), columns=num_part.columns)\n",
    "\n",
    "    for col in num_part:\n",
    "        encoded_ftrs[col] = num_part[col].values\n",
    "\n",
    "def do_nth_order_polynominal(num_features, data): pass"
   ]
  },
  {
   "cell_type": "markdown",
   "metadata": {
    "colab_type": "text",
    "id": "Gz0G2RHnF7TB"
   },
   "source": [
    "## Get Encoded Train Data and Valid Data"
   ]
  },
  {
   "cell_type": "code",
   "execution_count": 10,
   "metadata": {
    "colab": {
     "base_uri": "https://localhost:8080/",
     "height": 232
    },
    "colab_type": "code",
    "executionInfo": {
     "elapsed": 702,
     "status": "ok",
     "timestamp": 1539915329733,
     "user": {
      "displayName": "Gary Chen",
      "photoUrl": "",
      "userId": "10783188122132859162"
     },
     "user_tz": -480
    },
    "id": "udNVad7usaNe",
    "outputId": "11ffc252-59da-4657-a892-a96667d3eeac",
    "scrolled": false
   },
   "outputs": [
    {
     "name": "stdout",
     "output_type": "stream",
     "text": [
      "(7500, 12) (2500, 12)\n"
     ]
    },
    {
     "data": {
      "text/html": [
       "<div>\n",
       "<style scoped>\n",
       "    .dataframe tbody tr th:only-of-type {\n",
       "        vertical-align: middle;\n",
       "    }\n",
       "\n",
       "    .dataframe tbody tr th {\n",
       "        vertical-align: top;\n",
       "    }\n",
       "\n",
       "    .dataframe thead th {\n",
       "        text-align: right;\n",
       "    }\n",
       "</style>\n",
       "<table border=\"1\" class=\"dataframe\">\n",
       "  <thead>\n",
       "    <tr style=\"text-align: right;\">\n",
       "      <th></th>\n",
       "      <th>Gender_Female</th>\n",
       "      <th>HasCrCard_0</th>\n",
       "      <th>IsActiveMember_0</th>\n",
       "      <th>Geography_France</th>\n",
       "      <th>Geography_Germany</th>\n",
       "      <th>Geography_Spain</th>\n",
       "      <th>CreditScore</th>\n",
       "      <th>Age</th>\n",
       "      <th>Tenure</th>\n",
       "      <th>Balance</th>\n",
       "      <th>NumOfProducts</th>\n",
       "      <th>EstimatedSalary</th>\n",
       "    </tr>\n",
       "  </thead>\n",
       "  <tbody>\n",
       "    <tr>\n",
       "      <th>0</th>\n",
       "      <td>0</td>\n",
       "      <td>1</td>\n",
       "      <td>0</td>\n",
       "      <td>0</td>\n",
       "      <td>1</td>\n",
       "      <td>0</td>\n",
       "      <td>0.931808</td>\n",
       "      <td>-0.286140</td>\n",
       "      <td>-1.726890</td>\n",
       "      <td>0.818951</td>\n",
       "      <td>0.804202</td>\n",
       "      <td>-0.449945</td>\n",
       "    </tr>\n",
       "    <tr>\n",
       "      <th>1</th>\n",
       "      <td>0</td>\n",
       "      <td>1</td>\n",
       "      <td>1</td>\n",
       "      <td>1</td>\n",
       "      <td>0</td>\n",
       "      <td>0</td>\n",
       "      <td>-0.185926</td>\n",
       "      <td>0.761549</td>\n",
       "      <td>-1.726890</td>\n",
       "      <td>-1.223103</td>\n",
       "      <td>-0.913689</td>\n",
       "      <td>-1.631281</td>\n",
       "    </tr>\n",
       "    <tr>\n",
       "      <th>2</th>\n",
       "      <td>1</td>\n",
       "      <td>1</td>\n",
       "      <td>1</td>\n",
       "      <td>1</td>\n",
       "      <td>0</td>\n",
       "      <td>0</td>\n",
       "      <td>0.176303</td>\n",
       "      <td>3.142658</td>\n",
       "      <td>-1.036539</td>\n",
       "      <td>-1.223103</td>\n",
       "      <td>0.804202</td>\n",
       "      <td>-0.510415</td>\n",
       "    </tr>\n",
       "    <tr>\n",
       "      <th>3</th>\n",
       "      <td>1</td>\n",
       "      <td>1</td>\n",
       "      <td>0</td>\n",
       "      <td>1</td>\n",
       "      <td>0</td>\n",
       "      <td>0</td>\n",
       "      <td>0.797266</td>\n",
       "      <td>0.380571</td>\n",
       "      <td>0.689338</td>\n",
       "      <td>-1.223103</td>\n",
       "      <td>0.804202</td>\n",
       "      <td>-1.045445</td>\n",
       "    </tr>\n",
       "    <tr>\n",
       "      <th>4</th>\n",
       "      <td>1</td>\n",
       "      <td>1</td>\n",
       "      <td>0</td>\n",
       "      <td>0</td>\n",
       "      <td>1</td>\n",
       "      <td>0</td>\n",
       "      <td>-0.320468</td>\n",
       "      <td>0.094838</td>\n",
       "      <td>-0.001013</td>\n",
       "      <td>0.507413</td>\n",
       "      <td>0.804202</td>\n",
       "      <td>-0.876750</td>\n",
       "    </tr>\n",
       "  </tbody>\n",
       "</table>\n",
       "</div>"
      ],
      "text/plain": [
       "   Gender_Female  HasCrCard_0  IsActiveMember_0  Geography_France  \\\n",
       "0              0            1                 0                 0   \n",
       "1              0            1                 1                 1   \n",
       "2              1            1                 1                 1   \n",
       "3              1            1                 0                 1   \n",
       "4              1            1                 0                 0   \n",
       "\n",
       "   Geography_Germany  Geography_Spain  CreditScore       Age    Tenure  \\\n",
       "0                  1                0     0.931808 -0.286140 -1.726890   \n",
       "1                  0                0    -0.185926  0.761549 -1.726890   \n",
       "2                  0                0     0.176303  3.142658 -1.036539   \n",
       "3                  0                0     0.797266  0.380571  0.689338   \n",
       "4                  1                0    -0.320468  0.094838 -0.001013   \n",
       "\n",
       "    Balance  NumOfProducts  EstimatedSalary  \n",
       "0  0.818951       0.804202        -0.449945  \n",
       "1 -1.223103      -0.913689        -1.631281  \n",
       "2 -1.223103       0.804202        -0.510415  \n",
       "3 -1.223103       0.804202        -1.045445  \n",
       "4  0.507413       0.804202        -0.876750  "
      ]
     },
     "execution_count": 10,
     "metadata": {},
     "output_type": "execute_result"
    }
   ],
   "source": [
    "# Trnasform raw data to foramt model recognized\n",
    "tr_x, tr_y, status = feature_engineering(raw, is_train=True)\n",
    "vl_x, vl_y, _ = feature_engineering(raw_vl, is_train=False, status=status)\n",
    "\n",
    "print( tr_x.shape, vl_x.shape )\n",
    "tr_x.head()"
   ]
  },
  {
   "cell_type": "markdown",
   "metadata": {
    "colab_type": "text",
    "id": "52CvQZa1t2A7"
   },
   "source": [
    "# Model on Base Featue Engineering\n",
    "\n",
    "* Network Structure: \n",
    "    * `dimension of input, 6, 6, 1`\n",
    "* ReLU Activation Function\n",
    "* Adam Optimizer\n",
    "* Sigmoid Cross Entropy"
   ]
  },
  {
   "cell_type": "code",
   "execution_count": 11,
   "metadata": {
    "colab": {},
    "colab_type": "code",
    "id": "2Hk-jtN6tmtk"
   },
   "outputs": [],
   "source": [
    "def get_model(input_dim):\n",
    "    model = Sequential()\n",
    "    # kernel_regularizer=regularizers.l2(0.005)\n",
    "    model.add(Dense(units = 6, activation = 'relu', kernel_initializer='uniform', input_dim = input_dim))\n",
    "    model.add(Dense(units = 6, activation = 'relu', kernel_initializer='uniform'))\n",
    "    model.add(Dense(units = 1, activation = 'sigmoid', kernel_initializer='uniform'))\n",
    "    model.summary()\n",
    "    model.compile(optimizer = 'adam', loss = 'binary_crossentropy', metrics = ['accuracy'])\n",
    "    \n",
    "    return model"
   ]
  },
  {
   "cell_type": "code",
   "execution_count": 12,
   "metadata": {
    "colab": {
     "base_uri": "https://localhost:8080/",
     "height": 1990
    },
    "colab_type": "code",
    "executionInfo": {
     "elapsed": 6130,
     "status": "ok",
     "timestamp": 1539915353233,
     "user": {
      "displayName": "Gary Chen",
      "photoUrl": "",
      "userId": "10783188122132859162"
     },
     "user_tz": -480
    },
    "id": "SMJbH52ot1aD",
    "outputId": "e41e4a27-509e-4cda-df39-cc7142b9fcc0",
    "scrolled": true
   },
   "outputs": [
    {
     "name": "stdout",
     "output_type": "stream",
     "text": [
      "_________________________________________________________________\n",
      "Layer (type)                 Output Shape              Param #   \n",
      "=================================================================\n",
      "dense_1 (Dense)              (None, 6)                 78        \n",
      "_________________________________________________________________\n",
      "dense_2 (Dense)              (None, 6)                 42        \n",
      "_________________________________________________________________\n",
      "dense_3 (Dense)              (None, 1)                 7         \n",
      "=================================================================\n",
      "Total params: 127\n",
      "Trainable params: 127\n",
      "Non-trainable params: 0\n",
      "_________________________________________________________________\n",
      "Train on 7500 samples, validate on 2500 samples\n",
      "Epoch 1/30\n"
     ]
    },
    {
     "ename": "InternalError",
     "evalue": "Blas GEMM launch failed : a.shape=(100, 12), b.shape=(12, 6), m=100, n=6, k=12\n\t [[Node: dense_1/MatMul = MatMul[T=DT_FLOAT, _class=[\"loc:@training/Adam/gradients/dense_1/MatMul_grad/MatMul_1\"], transpose_a=false, transpose_b=false, _device=\"/job:localhost/replica:0/task:0/device:GPU:0\"](_arg_dense_1_input_0_0/_63, dense_1/kernel/read)]]\n\t [[Node: loss/mul/_83 = _Recv[client_terminated=false, recv_device=\"/job:localhost/replica:0/task:0/device:CPU:0\", send_device=\"/job:localhost/replica:0/task:0/device:GPU:0\", send_device_incarnation=1, tensor_name=\"edge_577_loss/mul\", tensor_type=DT_FLOAT, _device=\"/job:localhost/replica:0/task:0/device:CPU:0\"]()]]",
     "output_type": "error",
     "traceback": [
      "\u001b[1;31m---------------------------------------------------------------------------\u001b[0m",
      "\u001b[1;31mInternalError\u001b[0m                             Traceback (most recent call last)",
      "\u001b[1;32m<ipython-input-12-beabb9e17568>\u001b[0m in \u001b[0;36m<module>\u001b[1;34m()\u001b[0m\n\u001b[0;32m      2\u001b[0m \u001b[1;33m\u001b[0m\u001b[0m\n\u001b[0;32m      3\u001b[0m \u001b[0mmodel\u001b[0m \u001b[1;33m=\u001b[0m \u001b[0mget_model\u001b[0m\u001b[1;33m(\u001b[0m\u001b[0minput_dim\u001b[0m\u001b[1;33m=\u001b[0m\u001b[0mtr_x\u001b[0m\u001b[1;33m.\u001b[0m\u001b[0mshape\u001b[0m\u001b[1;33m[\u001b[0m\u001b[1;36m1\u001b[0m\u001b[1;33m]\u001b[0m\u001b[1;33m)\u001b[0m\u001b[1;33m\u001b[0m\u001b[0m\n\u001b[1;32m----> 4\u001b[1;33m \u001b[0mhist\u001b[0m \u001b[1;33m=\u001b[0m \u001b[0mmodel\u001b[0m\u001b[1;33m.\u001b[0m\u001b[0mfit\u001b[0m\u001b[1;33m(\u001b[0m\u001b[0mtr_x\u001b[0m\u001b[1;33m,\u001b[0m \u001b[0mtr_y\u001b[0m\u001b[1;33m,\u001b[0m \u001b[0mvalidation_data\u001b[0m\u001b[1;33m=\u001b[0m\u001b[1;33m(\u001b[0m\u001b[0mvl_x\u001b[0m\u001b[1;33m,\u001b[0m \u001b[0mvl_y\u001b[0m\u001b[1;33m)\u001b[0m\u001b[1;33m,\u001b[0m \u001b[0mbatch_size\u001b[0m\u001b[1;33m=\u001b[0m\u001b[1;36m100\u001b[0m\u001b[1;33m,\u001b[0m \u001b[0mepochs\u001b[0m\u001b[1;33m=\u001b[0m\u001b[1;36m30\u001b[0m\u001b[1;33m)\u001b[0m\u001b[1;33m\u001b[0m\u001b[0m\n\u001b[0m\u001b[0;32m      5\u001b[0m \u001b[0mplot_result\u001b[0m\u001b[1;33m(\u001b[0m\u001b[0mhist\u001b[0m\u001b[1;33m)\u001b[0m\u001b[1;33m\u001b[0m\u001b[0m\n\u001b[0;32m      6\u001b[0m \u001b[0mdraw_roc_curve\u001b[0m\u001b[1;33m(\u001b[0m\u001b[0mvl_y\u001b[0m\u001b[1;33m,\u001b[0m \u001b[0mmodel\u001b[0m\u001b[1;33m.\u001b[0m\u001b[0mpredict\u001b[0m\u001b[1;33m(\u001b[0m\u001b[0mvl_x\u001b[0m\u001b[1;33m)\u001b[0m\u001b[1;33m)\u001b[0m\u001b[1;33m\u001b[0m\u001b[0m\n",
      "\u001b[1;32md:\\python\\anaconda3-5.2.0\\envs\\py3_6\\lib\\site-packages\\keras\\engine\\training.py\u001b[0m in \u001b[0;36mfit\u001b[1;34m(self, x, y, batch_size, epochs, verbose, callbacks, validation_split, validation_data, shuffle, class_weight, sample_weight, initial_epoch, steps_per_epoch, validation_steps, **kwargs)\u001b[0m\n\u001b[0;32m   1035\u001b[0m                                         \u001b[0minitial_epoch\u001b[0m\u001b[1;33m=\u001b[0m\u001b[0minitial_epoch\u001b[0m\u001b[1;33m,\u001b[0m\u001b[1;33m\u001b[0m\u001b[0m\n\u001b[0;32m   1036\u001b[0m                                         \u001b[0msteps_per_epoch\u001b[0m\u001b[1;33m=\u001b[0m\u001b[0msteps_per_epoch\u001b[0m\u001b[1;33m,\u001b[0m\u001b[1;33m\u001b[0m\u001b[0m\n\u001b[1;32m-> 1037\u001b[1;33m                                         validation_steps=validation_steps)\n\u001b[0m\u001b[0;32m   1038\u001b[0m \u001b[1;33m\u001b[0m\u001b[0m\n\u001b[0;32m   1039\u001b[0m     def evaluate(self, x=None, y=None,\n",
      "\u001b[1;32md:\\python\\anaconda3-5.2.0\\envs\\py3_6\\lib\\site-packages\\keras\\engine\\training_arrays.py\u001b[0m in \u001b[0;36mfit_loop\u001b[1;34m(model, f, ins, out_labels, batch_size, epochs, verbose, callbacks, val_f, val_ins, shuffle, callback_metrics, initial_epoch, steps_per_epoch, validation_steps)\u001b[0m\n\u001b[0;32m    197\u001b[0m                     \u001b[0mins_batch\u001b[0m\u001b[1;33m[\u001b[0m\u001b[0mi\u001b[0m\u001b[1;33m]\u001b[0m \u001b[1;33m=\u001b[0m \u001b[0mins_batch\u001b[0m\u001b[1;33m[\u001b[0m\u001b[0mi\u001b[0m\u001b[1;33m]\u001b[0m\u001b[1;33m.\u001b[0m\u001b[0mtoarray\u001b[0m\u001b[1;33m(\u001b[0m\u001b[1;33m)\u001b[0m\u001b[1;33m\u001b[0m\u001b[0m\n\u001b[0;32m    198\u001b[0m \u001b[1;33m\u001b[0m\u001b[0m\n\u001b[1;32m--> 199\u001b[1;33m                 \u001b[0mouts\u001b[0m \u001b[1;33m=\u001b[0m \u001b[0mf\u001b[0m\u001b[1;33m(\u001b[0m\u001b[0mins_batch\u001b[0m\u001b[1;33m)\u001b[0m\u001b[1;33m\u001b[0m\u001b[0m\n\u001b[0m\u001b[0;32m    200\u001b[0m                 \u001b[0mouts\u001b[0m \u001b[1;33m=\u001b[0m \u001b[0mto_list\u001b[0m\u001b[1;33m(\u001b[0m\u001b[0mouts\u001b[0m\u001b[1;33m)\u001b[0m\u001b[1;33m\u001b[0m\u001b[0m\n\u001b[0;32m    201\u001b[0m                 \u001b[1;32mfor\u001b[0m \u001b[0ml\u001b[0m\u001b[1;33m,\u001b[0m \u001b[0mo\u001b[0m \u001b[1;32min\u001b[0m \u001b[0mzip\u001b[0m\u001b[1;33m(\u001b[0m\u001b[0mout_labels\u001b[0m\u001b[1;33m,\u001b[0m \u001b[0mouts\u001b[0m\u001b[1;33m)\u001b[0m\u001b[1;33m:\u001b[0m\u001b[1;33m\u001b[0m\u001b[0m\n",
      "\u001b[1;32md:\\python\\anaconda3-5.2.0\\envs\\py3_6\\lib\\site-packages\\keras\\backend\\tensorflow_backend.py\u001b[0m in \u001b[0;36m__call__\u001b[1;34m(self, inputs)\u001b[0m\n\u001b[0;32m   2664\u001b[0m                 \u001b[1;32mreturn\u001b[0m \u001b[0mself\u001b[0m\u001b[1;33m.\u001b[0m\u001b[0m_legacy_call\u001b[0m\u001b[1;33m(\u001b[0m\u001b[0minputs\u001b[0m\u001b[1;33m)\u001b[0m\u001b[1;33m\u001b[0m\u001b[0m\n\u001b[0;32m   2665\u001b[0m \u001b[1;33m\u001b[0m\u001b[0m\n\u001b[1;32m-> 2666\u001b[1;33m             \u001b[1;32mreturn\u001b[0m \u001b[0mself\u001b[0m\u001b[1;33m.\u001b[0m\u001b[0m_call\u001b[0m\u001b[1;33m(\u001b[0m\u001b[0minputs\u001b[0m\u001b[1;33m)\u001b[0m\u001b[1;33m\u001b[0m\u001b[0m\n\u001b[0m\u001b[0;32m   2667\u001b[0m         \u001b[1;32melse\u001b[0m\u001b[1;33m:\u001b[0m\u001b[1;33m\u001b[0m\u001b[0m\n\u001b[0;32m   2668\u001b[0m             \u001b[1;32mif\u001b[0m \u001b[0mpy_any\u001b[0m\u001b[1;33m(\u001b[0m\u001b[0mis_tensor\u001b[0m\u001b[1;33m(\u001b[0m\u001b[0mx\u001b[0m\u001b[1;33m)\u001b[0m \u001b[1;32mfor\u001b[0m \u001b[0mx\u001b[0m \u001b[1;32min\u001b[0m \u001b[0minputs\u001b[0m\u001b[1;33m)\u001b[0m\u001b[1;33m:\u001b[0m\u001b[1;33m\u001b[0m\u001b[0m\n",
      "\u001b[1;32md:\\python\\anaconda3-5.2.0\\envs\\py3_6\\lib\\site-packages\\keras\\backend\\tensorflow_backend.py\u001b[0m in \u001b[0;36m_call\u001b[1;34m(self, inputs)\u001b[0m\n\u001b[0;32m   2634\u001b[0m                                 \u001b[0msymbol_vals\u001b[0m\u001b[1;33m,\u001b[0m\u001b[1;33m\u001b[0m\u001b[0m\n\u001b[0;32m   2635\u001b[0m                                 session)\n\u001b[1;32m-> 2636\u001b[1;33m         \u001b[0mfetched\u001b[0m \u001b[1;33m=\u001b[0m \u001b[0mself\u001b[0m\u001b[1;33m.\u001b[0m\u001b[0m_callable_fn\u001b[0m\u001b[1;33m(\u001b[0m\u001b[1;33m*\u001b[0m\u001b[0marray_vals\u001b[0m\u001b[1;33m)\u001b[0m\u001b[1;33m\u001b[0m\u001b[0m\n\u001b[0m\u001b[0;32m   2637\u001b[0m         \u001b[1;32mreturn\u001b[0m \u001b[0mfetched\u001b[0m\u001b[1;33m[\u001b[0m\u001b[1;33m:\u001b[0m\u001b[0mlen\u001b[0m\u001b[1;33m(\u001b[0m\u001b[0mself\u001b[0m\u001b[1;33m.\u001b[0m\u001b[0moutputs\u001b[0m\u001b[1;33m)\u001b[0m\u001b[1;33m]\u001b[0m\u001b[1;33m\u001b[0m\u001b[0m\n\u001b[0;32m   2638\u001b[0m \u001b[1;33m\u001b[0m\u001b[0m\n",
      "\u001b[1;32md:\\python\\anaconda3-5.2.0\\envs\\py3_6\\lib\\site-packages\\tensorflow\\python\\client\\session.py\u001b[0m in \u001b[0;36m__call__\u001b[1;34m(self, *args, **kwargs)\u001b[0m\n\u001b[0;32m   1380\u001b[0m           ret = tf_session.TF_SessionRunCallable(\n\u001b[0;32m   1381\u001b[0m               \u001b[0mself\u001b[0m\u001b[1;33m.\u001b[0m\u001b[0m_session\u001b[0m\u001b[1;33m.\u001b[0m\u001b[0m_session\u001b[0m\u001b[1;33m,\u001b[0m \u001b[0mself\u001b[0m\u001b[1;33m.\u001b[0m\u001b[0m_handle\u001b[0m\u001b[1;33m,\u001b[0m \u001b[0margs\u001b[0m\u001b[1;33m,\u001b[0m \u001b[0mstatus\u001b[0m\u001b[1;33m,\u001b[0m\u001b[1;33m\u001b[0m\u001b[0m\n\u001b[1;32m-> 1382\u001b[1;33m               run_metadata_ptr)\n\u001b[0m\u001b[0;32m   1383\u001b[0m         \u001b[1;32mif\u001b[0m \u001b[0mrun_metadata\u001b[0m\u001b[1;33m:\u001b[0m\u001b[1;33m\u001b[0m\u001b[0m\n\u001b[0;32m   1384\u001b[0m           \u001b[0mproto_data\u001b[0m \u001b[1;33m=\u001b[0m \u001b[0mtf_session\u001b[0m\u001b[1;33m.\u001b[0m\u001b[0mTF_GetBuffer\u001b[0m\u001b[1;33m(\u001b[0m\u001b[0mrun_metadata_ptr\u001b[0m\u001b[1;33m)\u001b[0m\u001b[1;33m\u001b[0m\u001b[0m\n",
      "\u001b[1;32md:\\python\\anaconda3-5.2.0\\envs\\py3_6\\lib\\site-packages\\tensorflow\\python\\framework\\errors_impl.py\u001b[0m in \u001b[0;36m__exit__\u001b[1;34m(self, type_arg, value_arg, traceback_arg)\u001b[0m\n\u001b[0;32m    517\u001b[0m             \u001b[1;32mNone\u001b[0m\u001b[1;33m,\u001b[0m \u001b[1;32mNone\u001b[0m\u001b[1;33m,\u001b[0m\u001b[1;33m\u001b[0m\u001b[0m\n\u001b[0;32m    518\u001b[0m             \u001b[0mcompat\u001b[0m\u001b[1;33m.\u001b[0m\u001b[0mas_text\u001b[0m\u001b[1;33m(\u001b[0m\u001b[0mc_api\u001b[0m\u001b[1;33m.\u001b[0m\u001b[0mTF_Message\u001b[0m\u001b[1;33m(\u001b[0m\u001b[0mself\u001b[0m\u001b[1;33m.\u001b[0m\u001b[0mstatus\u001b[0m\u001b[1;33m.\u001b[0m\u001b[0mstatus\u001b[0m\u001b[1;33m)\u001b[0m\u001b[1;33m)\u001b[0m\u001b[1;33m,\u001b[0m\u001b[1;33m\u001b[0m\u001b[0m\n\u001b[1;32m--> 519\u001b[1;33m             c_api.TF_GetCode(self.status.status))\n\u001b[0m\u001b[0;32m    520\u001b[0m     \u001b[1;31m# Delete the underlying status object from memory otherwise it stays alive\u001b[0m\u001b[1;33m\u001b[0m\u001b[1;33m\u001b[0m\u001b[0m\n\u001b[0;32m    521\u001b[0m     \u001b[1;31m# as there is a reference to status from this from the traceback due to\u001b[0m\u001b[1;33m\u001b[0m\u001b[1;33m\u001b[0m\u001b[0m\n",
      "\u001b[1;31mInternalError\u001b[0m: Blas GEMM launch failed : a.shape=(100, 12), b.shape=(12, 6), m=100, n=6, k=12\n\t [[Node: dense_1/MatMul = MatMul[T=DT_FLOAT, _class=[\"loc:@training/Adam/gradients/dense_1/MatMul_grad/MatMul_1\"], transpose_a=false, transpose_b=false, _device=\"/job:localhost/replica:0/task:0/device:GPU:0\"](_arg_dense_1_input_0_0/_63, dense_1/kernel/read)]]\n\t [[Node: loss/mul/_83 = _Recv[client_terminated=false, recv_device=\"/job:localhost/replica:0/task:0/device:CPU:0\", send_device=\"/job:localhost/replica:0/task:0/device:GPU:0\", send_device_incarnation=1, tensor_name=\"edge_577_loss/mul\", tensor_type=DT_FLOAT, _device=\"/job:localhost/replica:0/task:0/device:CPU:0\"]()]]"
     ]
    }
   ],
   "source": [
    "K.clear_session()\n",
    "\n",
    "model = get_model(input_dim=tr_x.shape[1])\n",
    "hist = model.fit(tr_x, tr_y, validation_data=(vl_x, vl_y), batch_size=100, epochs=30)\n",
    "plot_result(hist)\n",
    "draw_roc_curve(vl_y, model.predict(vl_x))"
   ]
  },
  {
   "cell_type": "markdown",
   "metadata": {
    "colab_type": "text",
    "id": "WSBYMdwktmts"
   },
   "source": [
    "## Analyze the Prediction\n",
    "* 注意預測出來的label是`2D array`, 分析時需要使用`np.ravel`降低一個維度"
   ]
  },
  {
   "cell_type": "code",
   "execution_count": null,
   "metadata": {
    "colab": {
     "base_uri": "https://localhost:8080/",
     "height": 134
    },
    "colab_type": "code",
    "executionInfo": {
     "elapsed": 639,
     "status": "ok",
     "timestamp": 1539915376708,
     "user": {
      "displayName": "Gary Chen",
      "photoUrl": "",
      "userId": "10783188122132859162"
     },
     "user_tz": -480
    },
    "id": "o353u_4Etmtt",
    "outputId": "7a846ebc-2c2b-4efa-94b5-3372bacf7ae9",
    "scrolled": true
   },
   "outputs": [],
   "source": [
    "y_pred = model.predict(vl_x)\n",
    "y_pred"
   ]
  },
  {
   "cell_type": "code",
   "execution_count": null,
   "metadata": {
    "colab": {
     "base_uri": "https://localhost:8080/",
     "height": 942
    },
    "colab_type": "code",
    "executionInfo": {
     "elapsed": 1354,
     "status": "ok",
     "timestamp": 1539915380225,
     "user": {
      "displayName": "Gary Chen",
      "photoUrl": "",
      "userId": "10783188122132859162"
     },
     "user_tz": -480
    },
    "id": "b8R8nLyrtmtw",
    "outputId": "7b9f1e5d-35d1-4823-ddb1-0a625dfe66d6",
    "scrolled": true
   },
   "outputs": [],
   "source": [
    "def pred_dist(y_pred):\n",
    "    y_pred = pd.Series(y_pred.ravel())\n",
    "    print( y_pred.describe() )\n",
    "    print( y_pred.mean(), y_pred.std() )\n",
    "    sns.lineplot(range(len(y_pred)), sorted(y_pred.ravel()))\n",
    "    plt.show()\n",
    "\n",
    "    sns.boxplot(y_pred.ravel(), orient='v')\n",
    "    plt.show()\n",
    "\n",
    "    sns.distplot(y_pred.ravel())\n",
    "    plt.show()\n",
    "    \n",
    "pred_dist(y_pred)"
   ]
  },
  {
   "cell_type": "markdown",
   "metadata": {
    "colab_type": "text",
    "id": "nsSuOlyZtmtz"
   },
   "source": [
    "## Observation\n",
    "\n",
    "* 觀察預測結果的範圍 (每次跑都會有些不同)\n",
    "* 問題變成找出最佳Threshold ==> 預測機率大於多少時認為是`Claim = 1`\n",
    "\n",
    "---\n"
   ]
  },
  {
   "cell_type": "markdown",
   "metadata": {
    "colab_type": "text",
    "id": "JvzynMUbtmt0"
   },
   "source": [
    "## 找出最佳閥值"
   ]
  },
  {
   "cell_type": "code",
   "execution_count": 16,
   "metadata": {
    "colab": {
     "base_uri": "https://localhost:8080/",
     "height": 423
    },
    "colab_type": "code",
    "executionInfo": {
     "elapsed": 631,
     "status": "ok",
     "timestamp": 1539915388440,
     "user": {
      "displayName": "Gary Chen",
      "photoUrl": "",
      "userId": "10783188122132859162"
     },
     "user_tz": -480
    },
    "id": "ridThbnStmt1",
    "outputId": "aa758ca1-7f98-4ab5-ae89-d71bc92ee7cf",
    "scrolled": false
   },
   "outputs": [
    {
     "name": "stdout",
     "output_type": "stream",
     "text": [
      "threshold@0.5, accuracy: 0.8304\n",
      "[[1985   26]\n",
      " [ 398   91]] \n",
      "\n",
      "             precision    recall  f1-score   support\n",
      "\n",
      "          0       0.83      0.99      0.90      2011\n",
      "          1       0.78      0.19      0.30       489\n",
      "\n",
      "avg / total       0.82      0.83      0.79      2500\n",
      "\n",
      "threshold@0.3275, accuracy: 0.8228\n",
      "[[1790  221]\n",
      " [ 222  267]]\n",
      "             precision    recall  f1-score   support\n",
      "\n",
      "          0       0.89      0.89      0.89      2011\n",
      "          1       0.55      0.55      0.55       489\n",
      "\n",
      "avg / total       0.82      0.82      0.82      2500\n",
      "\n"
     ]
    },
    {
     "name": "stderr",
     "output_type": "stream",
     "text": [
      "/usr/local/lib/python3.6/dist-packages/sklearn/metrics/classification.py:1135: UndefinedMetricWarning: Precision and F-score are ill-defined and being set to 0.0 in labels with no predicted samples.\n",
      "  'precision', 'predicted', average, warn_for)\n"
     ]
    }
   ],
   "source": [
    "# 依照所有的閥值(切割100等分)算出F score, 找出分數最高的閥值\n",
    "def f_beta_scann(y_true, y_pred, beta=0.5):\n",
    "    \"\"\"F beta score掃描找出最佳threshold\"\"\"\n",
    "    y_pred = pd.Series(y_pred.ravel())\n",
    "    # 切割100等分, 尋找最佳 f beta score\n",
    "    bins = np.linspace(y_pred.min(), y_pred.max(), 100)\n",
    "    # 找出F beta score最高的點\n",
    "    result = np.array([precision_recall_fscore_support(y_true=y_true, y_pred=y_pred > thres, beta=beta)[2][1]\n",
    "                       for thres in bins])\n",
    "    best_idx = result.argmax()\n",
    "    return bins[best_idx], result[best_idx]\n",
    "\n",
    "def analyze(y_true, y_pred, beta=1):\n",
    "    thres, f_beta = f_beta_scann(y_true, y_pred, beta=beta)\n",
    "\n",
    "    print(f'threshold@0.5, accuracy: {accuracy_score(y_true, y_pred.ravel() > 0.5):.4f}')\n",
    "    print(confusion_matrix(y_true, y_pred.ravel() > 0.5), '\\n')\n",
    "    print(classification_report(y_true, y_pred.ravel() > 0.5))\n",
    "\n",
    "    print(f'threshold@{thres:.4f}, accuracy: {accuracy_score(y_true, y_pred.ravel() > thres):.4f}')\n",
    "    print(confusion_matrix(y_true, y_pred.ravel() > thres))\n",
    "    print(classification_report(y_true, y_pred.ravel() > thres))\n",
    "    \n",
    "analyze(vl_y, y_pred)"
   ]
  },
  {
   "cell_type": "markdown",
   "metadata": {
    "colab_type": "text",
    "id": "sNhNGDjTF7Tc"
   },
   "source": [
    "## (LAB) 調整bata值(0.1 ~ 2), 觀察precision, recall變化"
   ]
  },
  {
   "cell_type": "code",
   "execution_count": 17,
   "metadata": {
    "colab": {
     "base_uri": "https://localhost:8080/",
     "height": 423
    },
    "colab_type": "code",
    "executionInfo": {
     "elapsed": 637,
     "status": "ok",
     "timestamp": 1539915420014,
     "user": {
      "displayName": "Gary Chen",
      "photoUrl": "",
      "userId": "10783188122132859162"
     },
     "user_tz": -480
    },
    "id": "g1VFhTYsF7Tc",
    "outputId": "2a8c017f-402c-40cb-b44e-f0c5c6f57c65",
    "scrolled": true
   },
   "outputs": [
    {
     "name": "stdout",
     "output_type": "stream",
     "text": [
      "threshold@0.5, accuracy: 0.8304\n",
      "[[1985   26]\n",
      " [ 398   91]] \n",
      "\n",
      "             precision    recall  f1-score   support\n",
      "\n",
      "          0       0.83      0.99      0.90      2011\n",
      "          1       0.78      0.19      0.30       489\n",
      "\n",
      "avg / total       0.82      0.83      0.79      2500\n",
      "\n",
      "threshold@0.4120, accuracy: 0.8432\n",
      "[[1910  101]\n",
      " [ 291  198]]\n",
      "             precision    recall  f1-score   support\n",
      "\n",
      "          0       0.87      0.95      0.91      2011\n",
      "          1       0.66      0.40      0.50       489\n",
      "\n",
      "avg / total       0.83      0.84      0.83      2500\n",
      "\n"
     ]
    },
    {
     "name": "stderr",
     "output_type": "stream",
     "text": [
      "/usr/local/lib/python3.6/dist-packages/sklearn/metrics/classification.py:1135: UndefinedMetricWarning: Precision and F-score are ill-defined and being set to 0.0 in labels with no predicted samples.\n",
      "  'precision', 'predicted', average, warn_for)\n"
     ]
    }
   ],
   "source": [
    "analyze(vl_y, y_pred, beta=.5)"
   ]
  },
  {
   "cell_type": "markdown",
   "metadata": {
    "colab_type": "text",
    "id": "1dtd1HrBu04h"
   },
   "source": [
    "## Observation\n",
    "\n",
    "* 同樣的預測結果, 決定不同的threshold能夠找到更好的結果\n",
    "\n",
    "---\n",
    "\n",
    "<br/>\n",
    "<br/>\n",
    "<br/>"
   ]
  },
  {
   "cell_type": "markdown",
   "metadata": {
    "colab_type": "text",
    "id": "h9MWinD-e6SX"
   },
   "source": [
    "## Bining Numeric Feature\n",
    "\n",
    "* Quartile cut\n",
    "* `Age`欄位特殊處理 => [14, 30, 35, 40, 45, 62]\n",
    "* `Balance`欄位特殊處理, 0 => Balance等於0,  1=> Balance大於0\n"
   ]
  },
  {
   "cell_type": "code",
   "execution_count": 0,
   "metadata": {
    "colab": {},
    "colab_type": "code",
    "id": "KEZCNmIMqlor"
   },
   "outputs": [],
   "source": [
    "def do_binning(catg_ftrs, status, data, is_train):\n",
    "    # Quartile binning, outlier set to class \"0\"\n",
    "    def quartile_binning(x):\n",
    "        bins = np.percentile(x, range(0, 100, 25))[1:].tolist()\n",
    "        iqr_x_150 = (bins[-1] - bins[0]) * 1.5\n",
    "        bins = [bins[0] - iqr_x_150] + bins + [bins[-1] + iqr_x_150]\n",
    "        result = pd.Series(np.digitize(x, bins)).map(pd.Series([0, 1, 2, 3, 4, 0])).values\n",
    "        return result, bins\n",
    "    \n",
    "    # Age\n",
    "    bins = np.array([14, 30, 35, 40, 45, 62])\n",
    "    labels = ['~14', '14-30', '30-35', '35-40', '40-45', '45-62', '62up']\n",
    "    age_map = pd.Series(labels)\n",
    "    data['binn_Age'] = pd.Series(np.digitize(data.Age, bins)).map(age_map).values\n",
    "    catg_ftrs.append('binn_Age')\n",
    "    # Balance \n",
    "    data['binn_Balance'] = data.Balance.map(lambda e: 0 if e == 0 else 1)\n",
    "    catg_ftrs.append('binn_Balance')\n",
    "    \n",
    "    for col in ('CreditScore', 'Tenure', 'EstimatedSalary'):\n",
    "        binned_name = f'binn_{col}'\n",
    "        if is_train:\n",
    "            result, bins = quartile_binning(data[col])\n",
    "            status['binn_mapper'][binned_name] = bins\n",
    "            data[binned_name] = result\n",
    "        else:\n",
    "            bins = status['binn_mapper'][binned_name]\n",
    "            data[binned_name] = pd.Series(np.digitize(data[col], bins))\\\n",
    "                                  .map(pd.Series([0, 1, 2, 3, 4, 0])).values\n",
    "\n",
    "        catg_ftrs.append(binned_name)\n",
    "    pass"
   ]
  },
  {
   "cell_type": "code",
   "execution_count": 19,
   "metadata": {
    "colab": {
     "base_uri": "https://localhost:8080/",
     "height": 278
    },
    "colab_type": "code",
    "executionInfo": {
     "elapsed": 618,
     "status": "ok",
     "timestamp": 1539915443688,
     "user": {
      "displayName": "Gary Chen",
      "photoUrl": "",
      "userId": "10783188122132859162"
     },
     "user_tz": -480
    },
    "id": "VEBkc5Rctmt9",
    "outputId": "8f9f88f2-e55c-4981-9000-f221eaeb179c"
   },
   "outputs": [
    {
     "name": "stdout",
     "output_type": "stream",
     "text": [
      "(7500, 32) (2500, 32)\n"
     ]
    },
    {
     "data": {
      "text/html": [
       "<div>\n",
       "<style scoped>\n",
       "    .dataframe tbody tr th:only-of-type {\n",
       "        vertical-align: middle;\n",
       "    }\n",
       "\n",
       "    .dataframe tbody tr th {\n",
       "        vertical-align: top;\n",
       "    }\n",
       "\n",
       "    .dataframe thead th {\n",
       "        text-align: right;\n",
       "    }\n",
       "</style>\n",
       "<table border=\"1\" class=\"dataframe\">\n",
       "  <thead>\n",
       "    <tr style=\"text-align: right;\">\n",
       "      <th></th>\n",
       "      <th>Gender_Female</th>\n",
       "      <th>HasCrCard_0</th>\n",
       "      <th>IsActiveMember_0</th>\n",
       "      <th>Geography_France</th>\n",
       "      <th>Geography_Germany</th>\n",
       "      <th>Geography_Spain</th>\n",
       "      <th>binn_Age_14-30</th>\n",
       "      <th>binn_Age_30-35</th>\n",
       "      <th>binn_Age_35-40</th>\n",
       "      <th>binn_Age_40-45</th>\n",
       "      <th>...</th>\n",
       "      <th>binn_EstimatedSalary_1</th>\n",
       "      <th>binn_EstimatedSalary_2</th>\n",
       "      <th>binn_EstimatedSalary_3</th>\n",
       "      <th>binn_EstimatedSalary_4</th>\n",
       "      <th>CreditScore</th>\n",
       "      <th>Age</th>\n",
       "      <th>Tenure</th>\n",
       "      <th>Balance</th>\n",
       "      <th>NumOfProducts</th>\n",
       "      <th>EstimatedSalary</th>\n",
       "    </tr>\n",
       "  </thead>\n",
       "  <tbody>\n",
       "    <tr>\n",
       "      <th>0</th>\n",
       "      <td>0</td>\n",
       "      <td>1</td>\n",
       "      <td>0</td>\n",
       "      <td>0</td>\n",
       "      <td>1</td>\n",
       "      <td>0</td>\n",
       "      <td>0</td>\n",
       "      <td>0</td>\n",
       "      <td>1</td>\n",
       "      <td>0</td>\n",
       "      <td>...</td>\n",
       "      <td>0</td>\n",
       "      <td>1</td>\n",
       "      <td>0</td>\n",
       "      <td>0</td>\n",
       "      <td>0.931808</td>\n",
       "      <td>-0.286140</td>\n",
       "      <td>-1.726890</td>\n",
       "      <td>0.818951</td>\n",
       "      <td>0.804202</td>\n",
       "      <td>-0.449945</td>\n",
       "    </tr>\n",
       "    <tr>\n",
       "      <th>1</th>\n",
       "      <td>0</td>\n",
       "      <td>1</td>\n",
       "      <td>1</td>\n",
       "      <td>1</td>\n",
       "      <td>0</td>\n",
       "      <td>0</td>\n",
       "      <td>0</td>\n",
       "      <td>0</td>\n",
       "      <td>0</td>\n",
       "      <td>0</td>\n",
       "      <td>...</td>\n",
       "      <td>1</td>\n",
       "      <td>0</td>\n",
       "      <td>0</td>\n",
       "      <td>0</td>\n",
       "      <td>-0.185926</td>\n",
       "      <td>0.761549</td>\n",
       "      <td>-1.726890</td>\n",
       "      <td>-1.223103</td>\n",
       "      <td>-0.913689</td>\n",
       "      <td>-1.631281</td>\n",
       "    </tr>\n",
       "    <tr>\n",
       "      <th>2</th>\n",
       "      <td>1</td>\n",
       "      <td>1</td>\n",
       "      <td>1</td>\n",
       "      <td>1</td>\n",
       "      <td>0</td>\n",
       "      <td>0</td>\n",
       "      <td>0</td>\n",
       "      <td>0</td>\n",
       "      <td>0</td>\n",
       "      <td>0</td>\n",
       "      <td>...</td>\n",
       "      <td>0</td>\n",
       "      <td>1</td>\n",
       "      <td>0</td>\n",
       "      <td>0</td>\n",
       "      <td>0.176303</td>\n",
       "      <td>3.142658</td>\n",
       "      <td>-1.036539</td>\n",
       "      <td>-1.223103</td>\n",
       "      <td>0.804202</td>\n",
       "      <td>-0.510415</td>\n",
       "    </tr>\n",
       "    <tr>\n",
       "      <th>3</th>\n",
       "      <td>1</td>\n",
       "      <td>1</td>\n",
       "      <td>0</td>\n",
       "      <td>1</td>\n",
       "      <td>0</td>\n",
       "      <td>0</td>\n",
       "      <td>0</td>\n",
       "      <td>0</td>\n",
       "      <td>0</td>\n",
       "      <td>1</td>\n",
       "      <td>...</td>\n",
       "      <td>1</td>\n",
       "      <td>0</td>\n",
       "      <td>0</td>\n",
       "      <td>0</td>\n",
       "      <td>0.797266</td>\n",
       "      <td>0.380571</td>\n",
       "      <td>0.689338</td>\n",
       "      <td>-1.223103</td>\n",
       "      <td>0.804202</td>\n",
       "      <td>-1.045445</td>\n",
       "    </tr>\n",
       "    <tr>\n",
       "      <th>4</th>\n",
       "      <td>1</td>\n",
       "      <td>1</td>\n",
       "      <td>0</td>\n",
       "      <td>0</td>\n",
       "      <td>1</td>\n",
       "      <td>0</td>\n",
       "      <td>0</td>\n",
       "      <td>0</td>\n",
       "      <td>0</td>\n",
       "      <td>1</td>\n",
       "      <td>...</td>\n",
       "      <td>1</td>\n",
       "      <td>0</td>\n",
       "      <td>0</td>\n",
       "      <td>0</td>\n",
       "      <td>-0.320468</td>\n",
       "      <td>0.094838</td>\n",
       "      <td>-0.001013</td>\n",
       "      <td>0.507413</td>\n",
       "      <td>0.804202</td>\n",
       "      <td>-0.876750</td>\n",
       "    </tr>\n",
       "  </tbody>\n",
       "</table>\n",
       "<p>5 rows × 32 columns</p>\n",
       "</div>"
      ],
      "text/plain": [
       "   Gender_Female  HasCrCard_0  IsActiveMember_0  Geography_France  \\\n",
       "0              0            1                 0                 0   \n",
       "1              0            1                 1                 1   \n",
       "2              1            1                 1                 1   \n",
       "3              1            1                 0                 1   \n",
       "4              1            1                 0                 0   \n",
       "\n",
       "   Geography_Germany  Geography_Spain  binn_Age_14-30  binn_Age_30-35  \\\n",
       "0                  1                0               0               0   \n",
       "1                  0                0               0               0   \n",
       "2                  0                0               0               0   \n",
       "3                  0                0               0               0   \n",
       "4                  1                0               0               0   \n",
       "\n",
       "   binn_Age_35-40  binn_Age_40-45       ...         binn_EstimatedSalary_1  \\\n",
       "0               1               0       ...                              0   \n",
       "1               0               0       ...                              1   \n",
       "2               0               0       ...                              0   \n",
       "3               0               1       ...                              1   \n",
       "4               0               1       ...                              1   \n",
       "\n",
       "   binn_EstimatedSalary_2  binn_EstimatedSalary_3  binn_EstimatedSalary_4  \\\n",
       "0                       1                       0                       0   \n",
       "1                       0                       0                       0   \n",
       "2                       1                       0                       0   \n",
       "3                       0                       0                       0   \n",
       "4                       0                       0                       0   \n",
       "\n",
       "   CreditScore       Age    Tenure   Balance  NumOfProducts  EstimatedSalary  \n",
       "0     0.931808 -0.286140 -1.726890  0.818951       0.804202        -0.449945  \n",
       "1    -0.185926  0.761549 -1.726890 -1.223103      -0.913689        -1.631281  \n",
       "2     0.176303  3.142658 -1.036539 -1.223103       0.804202        -0.510415  \n",
       "3     0.797266  0.380571  0.689338 -1.223103       0.804202        -1.045445  \n",
       "4    -0.320468  0.094838 -0.001013  0.507413       0.804202        -0.876750  \n",
       "\n",
       "[5 rows x 32 columns]"
      ]
     },
     "execution_count": 19,
     "metadata": {
      "tags": []
     },
     "output_type": "execute_result"
    }
   ],
   "source": [
    "# Trnasform raw data to foramt model recognized\n",
    "tr_x, tr_y, status = feature_engineering(raw, is_train=True)\n",
    "vl_x, vl_y, _ = feature_engineering(raw_vl, is_train=False, status=status)\n",
    "\n",
    "print( tr_x.shape, vl_x.shape )\n",
    "tr_x.head()"
   ]
  },
  {
   "cell_type": "markdown",
   "metadata": {
    "colab_type": "text",
    "id": "dnxnxDXNtmuB"
   },
   "source": [
    "## (LAB) Model (Binning)\n",
    "\n",
    "* 調整network架構\n",
    "* 調整analyze的beta參數(0.1 ~ 2), 觀察precision, recall變化"
   ]
  },
  {
   "cell_type": "code",
   "execution_count": 20,
   "metadata": {
    "colab": {
     "base_uri": "https://localhost:8080/",
     "height": 3322
    },
    "colab_type": "code",
    "executionInfo": {
     "elapsed": 7008,
     "status": "ok",
     "timestamp": 1539915459789,
     "user": {
      "displayName": "Gary Chen",
      "photoUrl": "",
      "userId": "10783188122132859162"
     },
     "user_tz": -480
    },
    "id": "71eIwvz7tmuE",
    "outputId": "e3fc155d-e257-4eb8-ec0c-312ba1b32385",
    "scrolled": true
   },
   "outputs": [
    {
     "name": "stdout",
     "output_type": "stream",
     "text": [
      "_________________________________________________________________\n",
      "Layer (type)                 Output Shape              Param #   \n",
      "=================================================================\n",
      "dense_1 (Dense)              (None, 32)                1056      \n",
      "_________________________________________________________________\n",
      "dense_2 (Dense)              (None, 16)                528       \n",
      "_________________________________________________________________\n",
      "dense_3 (Dense)              (None, 1)                 17        \n",
      "=================================================================\n",
      "Total params: 1,601\n",
      "Trainable params: 1,601\n",
      "Non-trainable params: 0\n",
      "_________________________________________________________________\n",
      "Train on 7500 samples, validate on 2500 samples\n",
      "Epoch 1/30\n",
      "7500/7500 [==============================] - 0s 51us/step - loss: 0.6063 - acc: 0.7873 - val_loss: 0.4488 - val_acc: 0.8044\n",
      "Epoch 2/30\n",
      "7500/7500 [==============================] - 0s 19us/step - loss: 0.4474 - acc: 0.7936 - val_loss: 0.4075 - val_acc: 0.8044\n",
      "Epoch 3/30\n",
      "7500/7500 [==============================] - 0s 18us/step - loss: 0.4282 - acc: 0.8003 - val_loss: 0.3967 - val_acc: 0.8292\n",
      "Epoch 4/30\n",
      "7500/7500 [==============================] - 0s 19us/step - loss: 0.4196 - acc: 0.8196 - val_loss: 0.3873 - val_acc: 0.8408\n",
      "Epoch 5/30\n",
      "7500/7500 [==============================] - 0s 20us/step - loss: 0.4101 - acc: 0.8289 - val_loss: 0.3770 - val_acc: 0.8464\n",
      "Epoch 6/30\n",
      "7500/7500 [==============================] - 0s 19us/step - loss: 0.4005 - acc: 0.8305 - val_loss: 0.3691 - val_acc: 0.8508\n",
      "Epoch 7/30\n",
      "7500/7500 [==============================] - 0s 19us/step - loss: 0.3912 - acc: 0.8353 - val_loss: 0.3652 - val_acc: 0.8528\n",
      "Epoch 8/30\n",
      "7500/7500 [==============================] - 0s 19us/step - loss: 0.3824 - acc: 0.8403 - val_loss: 0.3549 - val_acc: 0.8536\n",
      "Epoch 9/30\n",
      "7500/7500 [==============================] - 0s 19us/step - loss: 0.3740 - acc: 0.8445 - val_loss: 0.3479 - val_acc: 0.8552\n",
      "Epoch 10/30\n",
      "7500/7500 [==============================] - 0s 19us/step - loss: 0.3654 - acc: 0.8457 - val_loss: 0.3441 - val_acc: 0.8552\n",
      "Epoch 11/30\n",
      "7500/7500 [==============================] - 0s 19us/step - loss: 0.3597 - acc: 0.8483 - val_loss: 0.3400 - val_acc: 0.8604\n",
      "Epoch 12/30\n",
      "7500/7500 [==============================] - 0s 18us/step - loss: 0.3542 - acc: 0.8528 - val_loss: 0.3392 - val_acc: 0.8636\n",
      "Epoch 13/30\n",
      "7500/7500 [==============================] - 0s 19us/step - loss: 0.3501 - acc: 0.8565 - val_loss: 0.3387 - val_acc: 0.8612\n",
      "Epoch 14/30\n",
      "7500/7500 [==============================] - 0s 19us/step - loss: 0.3478 - acc: 0.8559 - val_loss: 0.3384 - val_acc: 0.8636\n",
      "Epoch 15/30\n",
      "7500/7500 [==============================] - 0s 19us/step - loss: 0.3457 - acc: 0.8580 - val_loss: 0.3363 - val_acc: 0.8624\n",
      "Epoch 16/30\n",
      "7500/7500 [==============================] - 0s 19us/step - loss: 0.3446 - acc: 0.8583 - val_loss: 0.3373 - val_acc: 0.8608\n",
      "Epoch 17/30\n",
      "7500/7500 [==============================] - 0s 19us/step - loss: 0.3425 - acc: 0.8615 - val_loss: 0.3355 - val_acc: 0.8640\n",
      "Epoch 18/30\n",
      "7500/7500 [==============================] - 0s 20us/step - loss: 0.3429 - acc: 0.8573 - val_loss: 0.3356 - val_acc: 0.8624\n",
      "Epoch 19/30\n",
      "7500/7500 [==============================] - 0s 20us/step - loss: 0.3417 - acc: 0.8589 - val_loss: 0.3359 - val_acc: 0.8640\n",
      "Epoch 20/30\n",
      "7500/7500 [==============================] - 0s 20us/step - loss: 0.3398 - acc: 0.8604 - val_loss: 0.3364 - val_acc: 0.8628\n",
      "Epoch 21/30\n",
      "7500/7500 [==============================] - 0s 19us/step - loss: 0.3399 - acc: 0.8605 - val_loss: 0.3364 - val_acc: 0.8608\n",
      "Epoch 22/30\n",
      "7500/7500 [==============================] - 0s 18us/step - loss: 0.3394 - acc: 0.8609 - val_loss: 0.3381 - val_acc: 0.8620\n",
      "Epoch 23/30\n",
      "7500/7500 [==============================] - 0s 19us/step - loss: 0.3393 - acc: 0.8600 - val_loss: 0.3384 - val_acc: 0.8600\n",
      "Epoch 24/30\n",
      "7500/7500 [==============================] - 0s 19us/step - loss: 0.3381 - acc: 0.8607 - val_loss: 0.3415 - val_acc: 0.8616\n",
      "Epoch 25/30\n",
      "7500/7500 [==============================] - 0s 18us/step - loss: 0.3372 - acc: 0.8611 - val_loss: 0.3399 - val_acc: 0.8604\n",
      "Epoch 26/30\n",
      "7500/7500 [==============================] - 0s 19us/step - loss: 0.3372 - acc: 0.8611 - val_loss: 0.3387 - val_acc: 0.8624\n",
      "Epoch 27/30\n",
      "7500/7500 [==============================] - 0s 19us/step - loss: 0.3357 - acc: 0.8619 - val_loss: 0.3377 - val_acc: 0.8620\n",
      "Epoch 28/30\n",
      "7500/7500 [==============================] - 0s 19us/step - loss: 0.3362 - acc: 0.8615 - val_loss: 0.3409 - val_acc: 0.8604\n",
      "Epoch 29/30\n",
      "7500/7500 [==============================] - 0s 19us/step - loss: 0.3361 - acc: 0.8613 - val_loss: 0.3363 - val_acc: 0.8624\n",
      "Epoch 30/30\n",
      "7500/7500 [==============================] - 0s 20us/step - loss: 0.3349 - acc: 0.8621 - val_loss: 0.3383 - val_acc: 0.8608\n"
     ]
    },
    {
     "data": {
      "image/png": "[encoded data removed]",
      "text/plain": [
       "<matplotlib.figure.Figure at 0x7f84d71965f8>"
      ]
     },
     "metadata": {
      "tags": []
     },
     "output_type": "display_data"
    },
    {
     "name": "stdout",
     "output_type": "stream",
     "text": [
      "auc: 0.8536545929900883\n"
     ]
    },
    {
     "data": {
      "image/png": "[encoded data removed]",
      "text/plain": [
       "<matplotlib.figure.Figure at 0x7f84d710f0b8>"
      ]
     },
     "metadata": {
      "tags": []
     },
     "output_type": "display_data"
    },
    {
     "name": "stdout",
     "output_type": "stream",
     "text": [
      "count    2500.000000\n",
      "mean        0.189237\n",
      "std         0.240597\n",
      "min         0.002510\n",
      "25%         0.029138\n",
      "50%         0.084574\n",
      "75%         0.240158\n",
      "max         0.998692\n",
      "dtype: float64\n",
      "0.18923686 0.24059685\n"
     ]
    },
    {
     "data": {
      "image/png": "[encoded data removed]",
      "text/plain": [
       "<matplotlib.figure.Figure at 0x7f84dd2a70f0>"
      ]
     },
     "metadata": {
      "tags": []
     },
     "output_type": "display_data"
    },
    {
     "data": {
      "image/png": "[encoded data removed]",
      "text/plain": [
       "<matplotlib.figure.Figure at 0x7f84dd260630>"
      ]
     },
     "metadata": {
      "tags": []
     },
     "output_type": "display_data"
    },
    {
     "data": {
      "image/png": "[encoded data removed]",
      "text/plain": [
       "<matplotlib.figure.Figure at 0x7f84dd10e320>"
      ]
     },
     "metadata": {
      "tags": []
     },
     "output_type": "display_data"
    },
    {
     "name": "stdout",
     "output_type": "stream",
     "text": [
      "threshold@0.5, accuracy: 0.8608\n",
      "[[1923   88]\n",
      " [ 260  229]] \n",
      "\n",
      "             precision    recall  f1-score   support\n",
      "\n",
      "          0       0.88      0.96      0.92      2011\n",
      "          1       0.72      0.47      0.57       489\n",
      "\n",
      "avg / total       0.85      0.86      0.85      2500\n",
      "\n",
      "threshold@0.2440, accuracy: 0.8252\n",
      "[[1730  281]\n",
      " [ 156  333]]\n",
      "             precision    recall  f1-score   support\n",
      "\n",
      "          0       0.92      0.86      0.89      2011\n",
      "          1       0.54      0.68      0.60       489\n",
      "\n",
      "avg / total       0.84      0.83      0.83      2500\n",
      "\n"
     ]
    },
    {
     "name": "stderr",
     "output_type": "stream",
     "text": [
      "/usr/local/lib/python3.6/dist-packages/sklearn/metrics/classification.py:1135: UndefinedMetricWarning: Precision and F-score are ill-defined and being set to 0.0 in labels with no predicted samples.\n",
      "  'precision', 'predicted', average, warn_for)\n"
     ]
    }
   ],
   "source": [
    "def get_model(input_dim):\n",
    "    model = Sequential()\n",
    "    model.add(Dense(units = 32, activation = 'relu', kernel_initializer='uniform', input_dim = input_dim))\n",
    "    model.add(Dense(units = 16, activation = 'relu', kernel_initializer='uniform'))\n",
    "    model.add(Dense(units = 1, activation = 'sigmoid', kernel_initializer='uniform'))\n",
    "    model.summary()\n",
    "    model.compile(optimizer = 'adam', loss = 'binary_crossentropy', metrics = ['accuracy'])\n",
    "    \n",
    "    return model\n",
    "\n",
    "K.clear_session()\n",
    "\n",
    "model = get_model(input_dim=tr_x.shape[1])\n",
    "hist = model.fit(tr_x, tr_y, validation_data=(vl_x, vl_y), batch_size=100, epochs=30)\n",
    "plot_result(hist)\n",
    "draw_roc_curve(vl_y, model.predict(vl_x))\n",
    "\n",
    "y_pred = model.predict(vl_x)\n",
    "pred_dist(y_pred)\n",
    "analyze(vl_y, y_pred)"
   ]
  },
  {
   "cell_type": "markdown",
   "metadata": {
    "colab_type": "text",
    "id": "4EtiRvZDGVfV"
   },
   "source": [
    "# Add Weight of Evidence Encoding"
   ]
  },
  {
   "cell_type": "code",
   "execution_count": 0,
   "metadata": {
    "colab": {},
    "colab_type": "code",
    "id": "L_YwlDOpGVml"
   },
   "outputs": [],
   "source": [
    "def do_woe_encoding(catg_ftrs, catg_part, status, data, is_train):\n",
    "\n",
    "    def woe_encode(x, label, data):\n",
    "        \"\"\"Calculate the Weight of Evidence of given categorical feature and label\n",
    "\n",
    "        :param x: Given feature name\n",
    "        :param label: Label name\n",
    "        :param data:\n",
    "        :return: WOE encoded dictionary\n",
    "        \"\"\"\n",
    "        total_vc = data[label].value_counts().sort_index()\n",
    "\n",
    "        def woe(pipe, total_vc):\n",
    "            # Count by label in this group\n",
    "            group_vc = pipe[label].value_counts().sort_index()\n",
    "\n",
    "            # Some class in the feature is missing, fill zero to missing class\n",
    "            if len(group_vc) < len(total_vc):\n",
    "                for key in total_vc.index:\n",
    "                    if key not in group_vc:\n",
    "                        group_vc[key] = 0.\n",
    "                group_vc = group_vc.sort_index()\n",
    "\n",
    "            # WOE formula\n",
    "            r = ((group_vc + 0.5) / total_vc).values\n",
    "\n",
    "            # Odd ratio => 1 to 0, you can define meaning of each class\n",
    "            return np.log(r[1] / r[0])\n",
    "\n",
    "        return data.groupby(x).apply(lambda pipe: woe(pipe, total_vc))\n",
    "\n",
    "    for catg_col in catg_ftrs:\n",
    "        if is_train:\n",
    "            kv = woe_encode(catg_col, 'Claim', data)\n",
    "            status['woe_mapper'][catg_col] = kv.to_dict()\n",
    "        else:\n",
    "            kv = pd.Series(status['woe_mapper'][catg_col])\n",
    "        catg_part[f'woe_{catg_col}'] = kv.reindex(data[catg_col]).values\n",
    "    pass"
   ]
  },
  {
   "cell_type": "code",
   "execution_count": 22,
   "metadata": {
    "colab": {
     "base_uri": "https://localhost:8080/",
     "height": 278
    },
    "colab_type": "code",
    "executionInfo": {
     "elapsed": 815,
     "status": "ok",
     "timestamp": 1539915468698,
     "user": {
      "displayName": "Gary Chen",
      "photoUrl": "",
      "userId": "10783188122132859162"
     },
     "user_tz": -480
    },
    "id": "97KvsdGYtmuK",
    "outputId": "481b9b55-7043-44ee-9fdd-407d502ce058"
   },
   "outputs": [
    {
     "name": "stdout",
     "output_type": "stream",
     "text": [
      "(7500, 41) (2500, 41)\n"
     ]
    },
    {
     "data": {
      "text/html": [
       "<div>\n",
       "<style scoped>\n",
       "    .dataframe tbody tr th:only-of-type {\n",
       "        vertical-align: middle;\n",
       "    }\n",
       "\n",
       "    .dataframe tbody tr th {\n",
       "        vertical-align: top;\n",
       "    }\n",
       "\n",
       "    .dataframe thead th {\n",
       "        text-align: right;\n",
       "    }\n",
       "</style>\n",
       "<table border=\"1\" class=\"dataframe\">\n",
       "  <thead>\n",
       "    <tr style=\"text-align: right;\">\n",
       "      <th></th>\n",
       "      <th>Gender_Female</th>\n",
       "      <th>HasCrCard_0</th>\n",
       "      <th>IsActiveMember_0</th>\n",
       "      <th>Geography_France</th>\n",
       "      <th>Geography_Germany</th>\n",
       "      <th>Geography_Spain</th>\n",
       "      <th>binn_Age_14-30</th>\n",
       "      <th>binn_Age_30-35</th>\n",
       "      <th>binn_Age_35-40</th>\n",
       "      <th>binn_Age_40-45</th>\n",
       "      <th>...</th>\n",
       "      <th>woe_binn_Balance</th>\n",
       "      <th>woe_binn_CreditScore</th>\n",
       "      <th>woe_binn_Tenure</th>\n",
       "      <th>woe_binn_EstimatedSalary</th>\n",
       "      <th>CreditScore</th>\n",
       "      <th>Age</th>\n",
       "      <th>Tenure</th>\n",
       "      <th>Balance</th>\n",
       "      <th>NumOfProducts</th>\n",
       "      <th>EstimatedSalary</th>\n",
       "    </tr>\n",
       "  </thead>\n",
       "  <tbody>\n",
       "    <tr>\n",
       "      <th>0</th>\n",
       "      <td>0</td>\n",
       "      <td>1</td>\n",
       "      <td>0</td>\n",
       "      <td>0</td>\n",
       "      <td>1</td>\n",
       "      <td>0</td>\n",
       "      <td>0</td>\n",
       "      <td>0</td>\n",
       "      <td>1</td>\n",
       "      <td>0</td>\n",
       "      <td>...</td>\n",
       "      <td>0.206449</td>\n",
       "      <td>0.004414</td>\n",
       "      <td>0.147695</td>\n",
       "      <td>-0.005562</td>\n",
       "      <td>0.931808</td>\n",
       "      <td>-0.286140</td>\n",
       "      <td>-1.726890</td>\n",
       "      <td>0.818951</td>\n",
       "      <td>0.804202</td>\n",
       "      <td>-0.449945</td>\n",
       "    </tr>\n",
       "    <tr>\n",
       "      <th>1</th>\n",
       "      <td>0</td>\n",
       "      <td>1</td>\n",
       "      <td>1</td>\n",
       "      <td>1</td>\n",
       "      <td>0</td>\n",
       "      <td>0</td>\n",
       "      <td>0</td>\n",
       "      <td>0</td>\n",
       "      <td>0</td>\n",
       "      <td>0</td>\n",
       "      <td>...</td>\n",
       "      <td>-0.439217</td>\n",
       "      <td>0.028947</td>\n",
       "      <td>0.147695</td>\n",
       "      <td>-0.058630</td>\n",
       "      <td>-0.185926</td>\n",
       "      <td>0.761549</td>\n",
       "      <td>-1.726890</td>\n",
       "      <td>-1.223103</td>\n",
       "      <td>-0.913689</td>\n",
       "      <td>-1.631281</td>\n",
       "    </tr>\n",
       "    <tr>\n",
       "      <th>2</th>\n",
       "      <td>1</td>\n",
       "      <td>1</td>\n",
       "      <td>1</td>\n",
       "      <td>1</td>\n",
       "      <td>0</td>\n",
       "      <td>0</td>\n",
       "      <td>0</td>\n",
       "      <td>0</td>\n",
       "      <td>0</td>\n",
       "      <td>0</td>\n",
       "      <td>...</td>\n",
       "      <td>-0.439217</td>\n",
       "      <td>-0.128854</td>\n",
       "      <td>-0.032175</td>\n",
       "      <td>-0.005562</td>\n",
       "      <td>0.176303</td>\n",
       "      <td>3.142658</td>\n",
       "      <td>-1.036539</td>\n",
       "      <td>-1.223103</td>\n",
       "      <td>0.804202</td>\n",
       "      <td>-0.510415</td>\n",
       "    </tr>\n",
       "    <tr>\n",
       "      <th>3</th>\n",
       "      <td>1</td>\n",
       "      <td>1</td>\n",
       "      <td>0</td>\n",
       "      <td>1</td>\n",
       "      <td>0</td>\n",
       "      <td>0</td>\n",
       "      <td>0</td>\n",
       "      <td>0</td>\n",
       "      <td>0</td>\n",
       "      <td>1</td>\n",
       "      <td>...</td>\n",
       "      <td>-0.439217</td>\n",
       "      <td>0.004414</td>\n",
       "      <td>-0.057250</td>\n",
       "      <td>-0.058630</td>\n",
       "      <td>0.797266</td>\n",
       "      <td>0.380571</td>\n",
       "      <td>0.689338</td>\n",
       "      <td>-1.223103</td>\n",
       "      <td>0.804202</td>\n",
       "      <td>-1.045445</td>\n",
       "    </tr>\n",
       "    <tr>\n",
       "      <th>4</th>\n",
       "      <td>1</td>\n",
       "      <td>1</td>\n",
       "      <td>0</td>\n",
       "      <td>0</td>\n",
       "      <td>1</td>\n",
       "      <td>0</td>\n",
       "      <td>0</td>\n",
       "      <td>0</td>\n",
       "      <td>0</td>\n",
       "      <td>1</td>\n",
       "      <td>...</td>\n",
       "      <td>0.206449</td>\n",
       "      <td>0.028947</td>\n",
       "      <td>-0.057250</td>\n",
       "      <td>-0.058630</td>\n",
       "      <td>-0.320468</td>\n",
       "      <td>0.094838</td>\n",
       "      <td>-0.001013</td>\n",
       "      <td>0.507413</td>\n",
       "      <td>0.804202</td>\n",
       "      <td>-0.876750</td>\n",
       "    </tr>\n",
       "  </tbody>\n",
       "</table>\n",
       "<p>5 rows × 41 columns</p>\n",
       "</div>"
      ],
      "text/plain": [
       "   Gender_Female  HasCrCard_0  IsActiveMember_0  Geography_France  \\\n",
       "0              0            1                 0                 0   \n",
       "1              0            1                 1                 1   \n",
       "2              1            1                 1                 1   \n",
       "3              1            1                 0                 1   \n",
       "4              1            1                 0                 0   \n",
       "\n",
       "   Geography_Germany  Geography_Spain  binn_Age_14-30  binn_Age_30-35  \\\n",
       "0                  1                0               0               0   \n",
       "1                  0                0               0               0   \n",
       "2                  0                0               0               0   \n",
       "3                  0                0               0               0   \n",
       "4                  1                0               0               0   \n",
       "\n",
       "   binn_Age_35-40  binn_Age_40-45       ...         woe_binn_Balance  \\\n",
       "0               1               0       ...                 0.206449   \n",
       "1               0               0       ...                -0.439217   \n",
       "2               0               0       ...                -0.439217   \n",
       "3               0               1       ...                -0.439217   \n",
       "4               0               1       ...                 0.206449   \n",
       "\n",
       "   woe_binn_CreditScore  woe_binn_Tenure  woe_binn_EstimatedSalary  \\\n",
       "0              0.004414         0.147695                 -0.005562   \n",
       "1              0.028947         0.147695                 -0.058630   \n",
       "2             -0.128854        -0.032175                 -0.005562   \n",
       "3              0.004414        -0.057250                 -0.058630   \n",
       "4              0.028947        -0.057250                 -0.058630   \n",
       "\n",
       "   CreditScore       Age    Tenure   Balance  NumOfProducts  EstimatedSalary  \n",
       "0     0.931808 -0.286140 -1.726890  0.818951       0.804202        -0.449945  \n",
       "1    -0.185926  0.761549 -1.726890 -1.223103      -0.913689        -1.631281  \n",
       "2     0.176303  3.142658 -1.036539 -1.223103       0.804202        -0.510415  \n",
       "3     0.797266  0.380571  0.689338 -1.223103       0.804202        -1.045445  \n",
       "4    -0.320468  0.094838 -0.001013  0.507413       0.804202        -0.876750  \n",
       "\n",
       "[5 rows x 41 columns]"
      ]
     },
     "execution_count": 22,
     "metadata": {
      "tags": []
     },
     "output_type": "execute_result"
    }
   ],
   "source": [
    "# Trnasform raw data to foramt model recognized\n",
    "tr_x, tr_y, status = feature_engineering(raw, is_train=True)\n",
    "vl_x, vl_y, _ = feature_engineering(raw_vl, is_train=False, status=status)\n",
    "\n",
    "print( tr_x.shape, vl_x.shape )\n",
    "tr_x.head()"
   ]
  },
  {
   "cell_type": "markdown",
   "metadata": {
    "colab_type": "text",
    "id": "xp-VkesMgDVz"
   },
   "source": [
    "## (LAB) Model (WOE)\n",
    "\n",
    "* 調整network架構\n",
    "* 調整analyze的beta參數(0.1 ~ 2), 觀察precision, recall變化"
   ]
  },
  {
   "cell_type": "code",
   "execution_count": 23,
   "metadata": {
    "colab": {
     "base_uri": "https://localhost:8080/",
     "height": 3322
    },
    "colab_type": "code",
    "executionInfo": {
     "elapsed": 7164,
     "status": "ok",
     "timestamp": 1539915476538,
     "user": {
      "displayName": "Gary Chen",
      "photoUrl": "",
      "userId": "10783188122132859162"
     },
     "user_tz": -480
    },
    "id": "_1oC02RWeZoH",
    "outputId": "3c078a65-5de7-4b5a-e751-d2027ff64703",
    "scrolled": true
   },
   "outputs": [
    {
     "name": "stdout",
     "output_type": "stream",
     "text": [
      "_________________________________________________________________\n",
      "Layer (type)                 Output Shape              Param #   \n",
      "=================================================================\n",
      "dense_1 (Dense)              (None, 64)                2688      \n",
      "_________________________________________________________________\n",
      "dense_2 (Dense)              (None, 32)                2080      \n",
      "_________________________________________________________________\n",
      "dense_3 (Dense)              (None, 1)                 33        \n",
      "=================================================================\n",
      "Total params: 4,801\n",
      "Trainable params: 4,801\n",
      "Non-trainable params: 0\n",
      "_________________________________________________________________\n",
      "Train on 7500 samples, validate on 2500 samples\n",
      "Epoch 1/30\n",
      "7500/7500 [==============================] - 0s 52us/step - loss: 0.5386 - acc: 0.7904 - val_loss: 0.4049 - val_acc: 0.8044\n",
      "Epoch 2/30\n",
      "7500/7500 [==============================] - 0s 20us/step - loss: 0.4238 - acc: 0.8091 - val_loss: 0.3888 - val_acc: 0.8432\n",
      "Epoch 3/30\n",
      "7500/7500 [==============================] - 0s 20us/step - loss: 0.4147 - acc: 0.8263 - val_loss: 0.3799 - val_acc: 0.8488\n",
      "Epoch 4/30\n",
      "7500/7500 [==============================] - 0s 20us/step - loss: 0.4051 - acc: 0.8277 - val_loss: 0.3699 - val_acc: 0.8512\n",
      "Epoch 5/30\n",
      "7500/7500 [==============================] - 0s 20us/step - loss: 0.3928 - acc: 0.8340 - val_loss: 0.3602 - val_acc: 0.8516\n",
      "Epoch 6/30\n",
      "7500/7500 [==============================] - 0s 22us/step - loss: 0.3781 - acc: 0.8427 - val_loss: 0.3519 - val_acc: 0.8544\n",
      "Epoch 7/30\n",
      "7500/7500 [==============================] - 0s 21us/step - loss: 0.3631 - acc: 0.8475 - val_loss: 0.3391 - val_acc: 0.8572\n",
      "Epoch 8/30\n",
      "7500/7500 [==============================] - 0s 20us/step - loss: 0.3526 - acc: 0.8536 - val_loss: 0.3372 - val_acc: 0.8596\n",
      "Epoch 9/30\n",
      "7500/7500 [==============================] - 0s 20us/step - loss: 0.3433 - acc: 0.8603 - val_loss: 0.3366 - val_acc: 0.8608\n",
      "Epoch 10/30\n",
      "7500/7500 [==============================] - 0s 21us/step - loss: 0.3394 - acc: 0.8589 - val_loss: 0.3352 - val_acc: 0.8616\n",
      "Epoch 11/30\n",
      "7500/7500 [==============================] - 0s 20us/step - loss: 0.3340 - acc: 0.8633 - val_loss: 0.3330 - val_acc: 0.8620\n",
      "Epoch 12/30\n",
      "7500/7500 [==============================] - 0s 21us/step - loss: 0.3332 - acc: 0.8645 - val_loss: 0.3330 - val_acc: 0.8616\n",
      "Epoch 13/30\n",
      "7500/7500 [==============================] - 0s 21us/step - loss: 0.3306 - acc: 0.8632 - val_loss: 0.3338 - val_acc: 0.8596\n",
      "Epoch 14/30\n",
      "7500/7500 [==============================] - 0s 20us/step - loss: 0.3294 - acc: 0.8671 - val_loss: 0.3383 - val_acc: 0.8652\n",
      "Epoch 15/30\n",
      "7500/7500 [==============================] - 0s 21us/step - loss: 0.3293 - acc: 0.8651 - val_loss: 0.3388 - val_acc: 0.8648\n",
      "Epoch 16/30\n",
      "7500/7500 [==============================] - 0s 20us/step - loss: 0.3259 - acc: 0.8663 - val_loss: 0.3369 - val_acc: 0.8620\n",
      "Epoch 17/30\n",
      "7500/7500 [==============================] - 0s 20us/step - loss: 0.3264 - acc: 0.8675 - val_loss: 0.3342 - val_acc: 0.8636\n",
      "Epoch 18/30\n",
      "7500/7500 [==============================] - 0s 20us/step - loss: 0.3242 - acc: 0.8675 - val_loss: 0.3489 - val_acc: 0.8624\n",
      "Epoch 19/30\n",
      "7500/7500 [==============================] - 0s 20us/step - loss: 0.3249 - acc: 0.8676 - val_loss: 0.3338 - val_acc: 0.8656\n",
      "Epoch 20/30\n",
      "7500/7500 [==============================] - 0s 20us/step - loss: 0.3237 - acc: 0.8676 - val_loss: 0.3398 - val_acc: 0.8652\n",
      "Epoch 21/30\n",
      "7500/7500 [==============================] - 0s 21us/step - loss: 0.3231 - acc: 0.8681 - val_loss: 0.3393 - val_acc: 0.8624\n",
      "Epoch 22/30\n",
      "7500/7500 [==============================] - 0s 20us/step - loss: 0.3210 - acc: 0.8680 - val_loss: 0.3414 - val_acc: 0.8612\n",
      "Epoch 23/30\n",
      "7500/7500 [==============================] - 0s 19us/step - loss: 0.3209 - acc: 0.8693 - val_loss: 0.3354 - val_acc: 0.8620\n",
      "Epoch 24/30\n",
      "7500/7500 [==============================] - 0s 20us/step - loss: 0.3217 - acc: 0.8681 - val_loss: 0.3390 - val_acc: 0.8676\n",
      "Epoch 25/30\n",
      "7500/7500 [==============================] - 0s 20us/step - loss: 0.3204 - acc: 0.8653 - val_loss: 0.3369 - val_acc: 0.8700\n",
      "Epoch 26/30\n",
      "7500/7500 [==============================] - 0s 20us/step - loss: 0.3173 - acc: 0.8688 - val_loss: 0.3384 - val_acc: 0.8656\n",
      "Epoch 27/30\n",
      "7500/7500 [==============================] - 0s 20us/step - loss: 0.3182 - acc: 0.8701 - val_loss: 0.3363 - val_acc: 0.8688\n",
      "Epoch 28/30\n",
      "7500/7500 [==============================] - 0s 22us/step - loss: 0.3159 - acc: 0.8711 - val_loss: 0.3368 - val_acc: 0.8648\n",
      "Epoch 29/30\n",
      "7500/7500 [==============================] - 0s 20us/step - loss: 0.3161 - acc: 0.8697 - val_loss: 0.3434 - val_acc: 0.8588\n",
      "Epoch 30/30\n",
      "7500/7500 [==============================] - 0s 20us/step - loss: 0.3139 - acc: 0.8725 - val_loss: 0.3403 - val_acc: 0.8636\n"
     ]
    },
    {
     "data": {
      "image/png": "[encoded data removed]",
      "text/plain": [
       "<matplotlib.figure.Figure at 0x7f84d6f31080>"
      ]
     },
     "metadata": {
      "tags": []
     },
     "output_type": "display_data"
    },
    {
     "name": "stdout",
     "output_type": "stream",
     "text": [
      "auc: 0.8510279353128345\n"
     ]
    },
    {
     "data": {
      "image/png": "[encoded data removed]",
      "text/plain": [
       "<matplotlib.figure.Figure at 0x7f84dd090240>"
      ]
     },
     "metadata": {
      "tags": []
     },
     "output_type": "display_data"
    },
    {
     "name": "stdout",
     "output_type": "stream",
     "text": [
      "count    2500.000000\n",
      "mean        0.186715\n",
      "std         0.251716\n",
      "min         0.002020\n",
      "25%         0.026328\n",
      "50%         0.074670\n",
      "75%         0.219266\n",
      "max         0.999953\n",
      "dtype: float64\n",
      "0.18671453 0.25171557\n"
     ]
    },
    {
     "data": {
      "image/png": "[encoded data removed]",
      "text/plain": [
       "<matplotlib.figure.Figure at 0x7f84d7af2b70>"
      ]
     },
     "metadata": {
      "tags": []
     },
     "output_type": "display_data"
    },
    {
     "data": {
      "image/png": "[encoded data removed]",
      "text/plain": [
       "<matplotlib.figure.Figure at 0x7f84d70a6da0>"
      ]
     },
     "metadata": {
      "tags": []
     },
     "output_type": "display_data"
    },
    {
     "data": {
      "image/png": "[encoded data removed]",
      "text/plain": [
       "<matplotlib.figure.Figure at 0x7f84d7d5ef98>"
      ]
     },
     "metadata": {
      "tags": []
     },
     "output_type": "display_data"
    },
    {
     "name": "stdout",
     "output_type": "stream",
     "text": [
      "threshold@0.5, accuracy: 0.8636\n",
      "[[1928   83]\n",
      " [ 258  231]] \n",
      "\n",
      "             precision    recall  f1-score   support\n",
      "\n",
      "          0       0.88      0.96      0.92      2011\n",
      "          1       0.74      0.47      0.58       489\n",
      "\n",
      "avg / total       0.85      0.86      0.85      2500\n",
      "\n",
      "threshold@0.3044, accuracy: 0.8480\n",
      "[[1825  186]\n",
      " [ 194  295]]\n",
      "             precision    recall  f1-score   support\n",
      "\n",
      "          0       0.90      0.91      0.91      2011\n",
      "          1       0.61      0.60      0.61       489\n",
      "\n",
      "avg / total       0.85      0.85      0.85      2500\n",
      "\n"
     ]
    },
    {
     "name": "stderr",
     "output_type": "stream",
     "text": [
      "/usr/local/lib/python3.6/dist-packages/sklearn/metrics/classification.py:1135: UndefinedMetricWarning: Precision and F-score are ill-defined and being set to 0.0 in labels with no predicted samples.\n",
      "  'precision', 'predicted', average, warn_for)\n"
     ]
    }
   ],
   "source": [
    "def get_model(input_dim):\n",
    "    model = Sequential()\n",
    "    # kernel_regularizer=regularizers.l2(0.005)\n",
    "    model.add(Dense(units = 64, activation = 'relu', kernel_initializer='uniform', input_dim = input_dim))\n",
    "    model.add(Dense(units = 32, activation = 'relu', kernel_initializer='uniform'))\n",
    "    model.add(Dense(units = 1, activation = 'sigmoid', kernel_initializer='uniform'))\n",
    "    model.summary()\n",
    "    model.compile(optimizer = 'adam', loss = 'binary_crossentropy', metrics = ['accuracy'])\n",
    "    \n",
    "    return model\n",
    "\n",
    "K.clear_session()\n",
    "\n",
    "model = get_model(input_dim=tr_x.shape[1])\n",
    "hist = model.fit(tr_x, tr_y, validation_data=(vl_x, vl_y), batch_size=100, epochs=30)\n",
    "plot_result(hist)\n",
    "draw_roc_curve(vl_y, model.predict(vl_x))\n",
    "\n",
    "y_pred = model.predict(vl_x)\n",
    "pred_dist(y_pred)\n",
    "analyze(vl_y, y_pred)"
   ]
  },
  {
   "cell_type": "markdown",
   "metadata": {
    "colab_type": "text",
    "id": "r9PxgBqptmuU"
   },
   "source": [
    "# Target Encoding\n",
    "\n",
    "* Frequency encoding\n",
    "* Mean encoding"
   ]
  },
  {
   "cell_type": "code",
   "execution_count": 0,
   "metadata": {
    "colab": {},
    "colab_type": "code",
    "id": "7HPcgCG0tmuV"
   },
   "outputs": [],
   "source": [
    "def do_target_encoding(catg_ftrs, catg_part, status, data, is_train):\n",
    "    for catg_col in catg_ftrs:\n",
    "        if is_train:\n",
    "            freq_proportion = data[catg_col].value_counts() / len(data)\n",
    "            catg_part[f'freq_{catg_col}'] = freq_proportion.reindex(data[catg_col]).values\n",
    "            target_mean = data.groupby(catg_col).Claim.mean()\n",
    "            catg_part[f'mean_{catg_col}'] = target_mean.reindex(data[catg_col]).values\n",
    "\n",
    "            status['freq_mapper'][catg_col] = freq_proportion.to_dict()\n",
    "            status['mean_mapper'][catg_col] = target_mean.to_dict()\n",
    "        else:\n",
    "            catg_part[f'freq_{catg_col}'] = pd.Series(status['freq_mapper'][catg_col]).reindex(data[catg_col]).values\n",
    "            catg_part[f'mean_{catg_col}'] = pd.Series(status['mean_mapper'][catg_col]).reindex(data[catg_col]).values\n",
    "    pass"
   ]
  },
  {
   "cell_type": "code",
   "execution_count": 27,
   "metadata": {
    "colab": {
     "base_uri": "https://localhost:8080/",
     "height": 278
    },
    "colab_type": "code",
    "executionInfo": {
     "elapsed": 821,
     "status": "ok",
     "timestamp": 1539915665437,
     "user": {
      "displayName": "Gary Chen",
      "photoUrl": "",
      "userId": "10783188122132859162"
     },
     "user_tz": -480
    },
    "id": "y6sDmkOZtmuX",
    "outputId": "69b45fca-b237-4b09-cae1-5fb3784085fd",
    "scrolled": true
   },
   "outputs": [
    {
     "name": "stdout",
     "output_type": "stream",
     "text": [
      "(7500, 59) (2500, 59)\n"
     ]
    },
    {
     "data": {
      "text/html": [
       "<div>\n",
       "<style scoped>\n",
       "    .dataframe tbody tr th:only-of-type {\n",
       "        vertical-align: middle;\n",
       "    }\n",
       "\n",
       "    .dataframe tbody tr th {\n",
       "        vertical-align: top;\n",
       "    }\n",
       "\n",
       "    .dataframe thead th {\n",
       "        text-align: right;\n",
       "    }\n",
       "</style>\n",
       "<table border=\"1\" class=\"dataframe\">\n",
       "  <thead>\n",
       "    <tr style=\"text-align: right;\">\n",
       "      <th></th>\n",
       "      <th>Gender_Female</th>\n",
       "      <th>HasCrCard_0</th>\n",
       "      <th>IsActiveMember_0</th>\n",
       "      <th>Geography_France</th>\n",
       "      <th>Geography_Germany</th>\n",
       "      <th>Geography_Spain</th>\n",
       "      <th>binn_Age_14-30</th>\n",
       "      <th>binn_Age_30-35</th>\n",
       "      <th>binn_Age_35-40</th>\n",
       "      <th>binn_Age_40-45</th>\n",
       "      <th>...</th>\n",
       "      <th>freq_binn_Tenure</th>\n",
       "      <th>mean_binn_Tenure</th>\n",
       "      <th>freq_binn_EstimatedSalary</th>\n",
       "      <th>mean_binn_EstimatedSalary</th>\n",
       "      <th>CreditScore</th>\n",
       "      <th>Age</th>\n",
       "      <th>Tenure</th>\n",
       "      <th>Balance</th>\n",
       "      <th>NumOfProducts</th>\n",
       "      <th>EstimatedSalary</th>\n",
       "    </tr>\n",
       "  </thead>\n",
       "  <tbody>\n",
       "    <tr>\n",
       "      <th>0</th>\n",
       "      <td>0</td>\n",
       "      <td>1</td>\n",
       "      <td>0</td>\n",
       "      <td>0</td>\n",
       "      <td>1</td>\n",
       "      <td>0</td>\n",
       "      <td>0</td>\n",
       "      <td>0</td>\n",
       "      <td>1</td>\n",
       "      <td>0</td>\n",
       "      <td>...</td>\n",
       "      <td>0.146933</td>\n",
       "      <td>0.231397</td>\n",
       "      <td>0.25</td>\n",
       "      <td>0.205333</td>\n",
       "      <td>0.931808</td>\n",
       "      <td>-0.286140</td>\n",
       "      <td>-1.726890</td>\n",
       "      <td>0.818951</td>\n",
       "      <td>0.804202</td>\n",
       "      <td>-0.449945</td>\n",
       "    </tr>\n",
       "    <tr>\n",
       "      <th>1</th>\n",
       "      <td>0</td>\n",
       "      <td>1</td>\n",
       "      <td>1</td>\n",
       "      <td>1</td>\n",
       "      <td>0</td>\n",
       "      <td>0</td>\n",
       "      <td>0</td>\n",
       "      <td>0</td>\n",
       "      <td>0</td>\n",
       "      <td>0</td>\n",
       "      <td>...</td>\n",
       "      <td>0.146933</td>\n",
       "      <td>0.231397</td>\n",
       "      <td>0.25</td>\n",
       "      <td>0.196800</td>\n",
       "      <td>-0.185926</td>\n",
       "      <td>0.761549</td>\n",
       "      <td>-1.726890</td>\n",
       "      <td>-1.223103</td>\n",
       "      <td>-0.913689</td>\n",
       "      <td>-1.631281</td>\n",
       "    </tr>\n",
       "    <tr>\n",
       "      <th>2</th>\n",
       "      <td>1</td>\n",
       "      <td>1</td>\n",
       "      <td>1</td>\n",
       "      <td>1</td>\n",
       "      <td>0</td>\n",
       "      <td>0</td>\n",
       "      <td>0</td>\n",
       "      <td>0</td>\n",
       "      <td>0</td>\n",
       "      <td>0</td>\n",
       "      <td>...</td>\n",
       "      <td>0.305067</td>\n",
       "      <td>0.201049</td>\n",
       "      <td>0.25</td>\n",
       "      <td>0.205333</td>\n",
       "      <td>0.176303</td>\n",
       "      <td>3.142658</td>\n",
       "      <td>-1.036539</td>\n",
       "      <td>-1.223103</td>\n",
       "      <td>0.804202</td>\n",
       "      <td>-0.510415</td>\n",
       "    </tr>\n",
       "    <tr>\n",
       "      <th>3</th>\n",
       "      <td>1</td>\n",
       "      <td>1</td>\n",
       "      <td>0</td>\n",
       "      <td>1</td>\n",
       "      <td>0</td>\n",
       "      <td>0</td>\n",
       "      <td>0</td>\n",
       "      <td>0</td>\n",
       "      <td>0</td>\n",
       "      <td>1</td>\n",
       "      <td>...</td>\n",
       "      <td>0.297733</td>\n",
       "      <td>0.197044</td>\n",
       "      <td>0.25</td>\n",
       "      <td>0.196800</td>\n",
       "      <td>0.797266</td>\n",
       "      <td>0.380571</td>\n",
       "      <td>0.689338</td>\n",
       "      <td>-1.223103</td>\n",
       "      <td>0.804202</td>\n",
       "      <td>-1.045445</td>\n",
       "    </tr>\n",
       "    <tr>\n",
       "      <th>4</th>\n",
       "      <td>1</td>\n",
       "      <td>1</td>\n",
       "      <td>0</td>\n",
       "      <td>0</td>\n",
       "      <td>1</td>\n",
       "      <td>0</td>\n",
       "      <td>0</td>\n",
       "      <td>0</td>\n",
       "      <td>0</td>\n",
       "      <td>1</td>\n",
       "      <td>...</td>\n",
       "      <td>0.297733</td>\n",
       "      <td>0.197044</td>\n",
       "      <td>0.25</td>\n",
       "      <td>0.196800</td>\n",
       "      <td>-0.320468</td>\n",
       "      <td>0.094838</td>\n",
       "      <td>-0.001013</td>\n",
       "      <td>0.507413</td>\n",
       "      <td>0.804202</td>\n",
       "      <td>-0.876750</td>\n",
       "    </tr>\n",
       "  </tbody>\n",
       "</table>\n",
       "<p>5 rows × 59 columns</p>\n",
       "</div>"
      ],
      "text/plain": [
       "   Gender_Female  HasCrCard_0  IsActiveMember_0  Geography_France  \\\n",
       "0              0            1                 0                 0   \n",
       "1              0            1                 1                 1   \n",
       "2              1            1                 1                 1   \n",
       "3              1            1                 0                 1   \n",
       "4              1            1                 0                 0   \n",
       "\n",
       "   Geography_Germany  Geography_Spain  binn_Age_14-30  binn_Age_30-35  \\\n",
       "0                  1                0               0               0   \n",
       "1                  0                0               0               0   \n",
       "2                  0                0               0               0   \n",
       "3                  0                0               0               0   \n",
       "4                  1                0               0               0   \n",
       "\n",
       "   binn_Age_35-40  binn_Age_40-45       ...         freq_binn_Tenure  \\\n",
       "0               1               0       ...                 0.146933   \n",
       "1               0               0       ...                 0.146933   \n",
       "2               0               0       ...                 0.305067   \n",
       "3               0               1       ...                 0.297733   \n",
       "4               0               1       ...                 0.297733   \n",
       "\n",
       "   mean_binn_Tenure  freq_binn_EstimatedSalary  mean_binn_EstimatedSalary  \\\n",
       "0          0.231397                       0.25                   0.205333   \n",
       "1          0.231397                       0.25                   0.196800   \n",
       "2          0.201049                       0.25                   0.205333   \n",
       "3          0.197044                       0.25                   0.196800   \n",
       "4          0.197044                       0.25                   0.196800   \n",
       "\n",
       "   CreditScore       Age    Tenure   Balance  NumOfProducts  EstimatedSalary  \n",
       "0     0.931808 -0.286140 -1.726890  0.818951       0.804202        -0.449945  \n",
       "1    -0.185926  0.761549 -1.726890 -1.223103      -0.913689        -1.631281  \n",
       "2     0.176303  3.142658 -1.036539 -1.223103       0.804202        -0.510415  \n",
       "3     0.797266  0.380571  0.689338 -1.223103       0.804202        -1.045445  \n",
       "4    -0.320468  0.094838 -0.001013  0.507413       0.804202        -0.876750  \n",
       "\n",
       "[5 rows x 59 columns]"
      ]
     },
     "execution_count": 27,
     "metadata": {
      "tags": []
     },
     "output_type": "execute_result"
    }
   ],
   "source": [
    "# Trnasform raw data to foramt model recognized\n",
    "tr_x, tr_y, status = feature_engineering(raw, is_train=True)\n",
    "vl_x, vl_y, _ = feature_engineering(raw_vl, is_train=False, status=status)\n",
    "\n",
    "print( tr_x.shape, vl_x.shape )\n",
    "tr_x.head()"
   ]
  },
  {
   "cell_type": "markdown",
   "metadata": {
    "colab_type": "text",
    "id": "lBgfcS9Otmua"
   },
   "source": [
    "## (LAB) Model (Target Mean Encoding)\n",
    "\n",
    "* 調整network架構\n",
    "* 調整analyze的beta參數(0.1 ~ 2), 觀察precision, recall變化"
   ]
  },
  {
   "cell_type": "code",
   "execution_count": 28,
   "metadata": {
    "colab": {
     "base_uri": "https://localhost:8080/",
     "height": 3355
    },
    "colab_type": "code",
    "executionInfo": {
     "elapsed": 8247,
     "status": "ok",
     "timestamp": 1539915675442,
     "user": {
      "displayName": "Gary Chen",
      "photoUrl": "",
      "userId": "10783188122132859162"
     },
     "user_tz": -480
    },
    "id": "YQ9IMErmtmua",
    "outputId": "7d1498d3-89a6-4d28-9fa8-de02f6c86411",
    "scrolled": true
   },
   "outputs": [
    {
     "name": "stdout",
     "output_type": "stream",
     "text": [
      "_________________________________________________________________\n",
      "Layer (type)                 Output Shape              Param #   \n",
      "=================================================================\n",
      "dense_1 (Dense)              (None, 64)                3840      \n",
      "_________________________________________________________________\n",
      "dense_2 (Dense)              (None, 32)                2080      \n",
      "_________________________________________________________________\n",
      "dense_3 (Dense)              (None, 16)                528       \n",
      "_________________________________________________________________\n",
      "dense_4 (Dense)              (None, 1)                 17        \n",
      "=================================================================\n",
      "Total params: 6,465\n",
      "Trainable params: 6,465\n",
      "Non-trainable params: 0\n",
      "_________________________________________________________________\n",
      "Train on 7500 samples, validate on 2500 samples\n",
      "Epoch 1/30\n",
      "7500/7500 [==============================] - 0s 65us/step - loss: 0.6008 - acc: 0.7912 - val_loss: 0.4335 - val_acc: 0.8044\n",
      "Epoch 2/30\n",
      "7500/7500 [==============================] - 0s 26us/step - loss: 0.4334 - acc: 0.7944 - val_loss: 0.3935 - val_acc: 0.8344\n",
      "Epoch 3/30\n",
      "7500/7500 [==============================] - 0s 26us/step - loss: 0.4202 - acc: 0.8248 - val_loss: 0.3859 - val_acc: 0.8448\n",
      "Epoch 4/30\n",
      "7500/7500 [==============================] - 0s 26us/step - loss: 0.4145 - acc: 0.8237 - val_loss: 0.3805 - val_acc: 0.8456\n",
      "Epoch 5/30\n",
      "7500/7500 [==============================] - 0s 25us/step - loss: 0.4081 - acc: 0.8271 - val_loss: 0.3791 - val_acc: 0.8440\n",
      "Epoch 6/30\n",
      "7500/7500 [==============================] - 0s 26us/step - loss: 0.4010 - acc: 0.8305 - val_loss: 0.3668 - val_acc: 0.8516\n",
      "Epoch 7/30\n",
      "7500/7500 [==============================] - 0s 25us/step - loss: 0.3893 - acc: 0.8359 - val_loss: 0.3633 - val_acc: 0.8524\n",
      "Epoch 8/30\n",
      "7500/7500 [==============================] - 0s 25us/step - loss: 0.3751 - acc: 0.8408 - val_loss: 0.3473 - val_acc: 0.8592\n",
      "Epoch 9/30\n",
      "7500/7500 [==============================] - 0s 26us/step - loss: 0.3618 - acc: 0.8468 - val_loss: 0.3447 - val_acc: 0.8600\n",
      "Epoch 10/30\n",
      "7500/7500 [==============================] - 0s 26us/step - loss: 0.3507 - acc: 0.8552 - val_loss: 0.3390 - val_acc: 0.8596\n",
      "Epoch 11/30\n",
      "7500/7500 [==============================] - 0s 22us/step - loss: 0.3496 - acc: 0.8576 - val_loss: 0.3354 - val_acc: 0.8608\n",
      "Epoch 12/30\n",
      "7500/7500 [==============================] - 0s 21us/step - loss: 0.3403 - acc: 0.8585 - val_loss: 0.3334 - val_acc: 0.8612\n",
      "Epoch 13/30\n",
      "7500/7500 [==============================] - 0s 21us/step - loss: 0.3369 - acc: 0.8611 - val_loss: 0.3344 - val_acc: 0.8604\n",
      "Epoch 14/30\n",
      "7500/7500 [==============================] - 0s 21us/step - loss: 0.3377 - acc: 0.8599 - val_loss: 0.3397 - val_acc: 0.8600\n",
      "Epoch 15/30\n",
      "7500/7500 [==============================] - 0s 22us/step - loss: 0.3352 - acc: 0.8621 - val_loss: 0.3339 - val_acc: 0.8640\n",
      "Epoch 16/30\n",
      "7500/7500 [==============================] - 0s 22us/step - loss: 0.3340 - acc: 0.8617 - val_loss: 0.3374 - val_acc: 0.8620\n",
      "Epoch 17/30\n",
      "7500/7500 [==============================] - 0s 22us/step - loss: 0.3338 - acc: 0.8613 - val_loss: 0.3624 - val_acc: 0.8516\n",
      "Epoch 18/30\n",
      "7500/7500 [==============================] - 0s 21us/step - loss: 0.3340 - acc: 0.8632 - val_loss: 0.3333 - val_acc: 0.8652\n",
      "Epoch 19/30\n",
      "7500/7500 [==============================] - 0s 21us/step - loss: 0.3316 - acc: 0.8633 - val_loss: 0.3354 - val_acc: 0.8612\n",
      "Epoch 20/30\n",
      "7500/7500 [==============================] - 0s 21us/step - loss: 0.3302 - acc: 0.8617 - val_loss: 0.3334 - val_acc: 0.8648\n",
      "Epoch 21/30\n",
      "7500/7500 [==============================] - 0s 21us/step - loss: 0.3300 - acc: 0.8643 - val_loss: 0.3343 - val_acc: 0.8668\n",
      "Epoch 22/30\n",
      "7500/7500 [==============================] - 0s 21us/step - loss: 0.3291 - acc: 0.8652 - val_loss: 0.3371 - val_acc: 0.8644\n",
      "Epoch 23/30\n",
      "7500/7500 [==============================] - 0s 21us/step - loss: 0.3304 - acc: 0.8635 - val_loss: 0.3413 - val_acc: 0.8628\n",
      "Epoch 24/30\n",
      "7500/7500 [==============================] - 0s 21us/step - loss: 0.3297 - acc: 0.8624 - val_loss: 0.3448 - val_acc: 0.8612\n",
      "Epoch 25/30\n",
      "7500/7500 [==============================] - 0s 22us/step - loss: 0.3267 - acc: 0.8637 - val_loss: 0.3421 - val_acc: 0.8636\n",
      "Epoch 26/30\n",
      "7500/7500 [==============================] - 0s 21us/step - loss: 0.3272 - acc: 0.8655 - val_loss: 0.3345 - val_acc: 0.8636\n",
      "Epoch 27/30\n",
      "7500/7500 [==============================] - 0s 22us/step - loss: 0.3257 - acc: 0.8668 - val_loss: 0.3365 - val_acc: 0.8652\n",
      "Epoch 28/30\n",
      "7500/7500 [==============================] - 0s 22us/step - loss: 0.3253 - acc: 0.8676 - val_loss: 0.3386 - val_acc: 0.8648\n",
      "Epoch 29/30\n",
      "7500/7500 [==============================] - 0s 21us/step - loss: 0.3253 - acc: 0.8684 - val_loss: 0.3449 - val_acc: 0.8600\n",
      "Epoch 30/30\n",
      "7500/7500 [==============================] - 0s 21us/step - loss: 0.3245 - acc: 0.8661 - val_loss: 0.3346 - val_acc: 0.8656\n"
     ]
    },
    {
     "data": {
      "image/png": "[encoded data removed]",
      "text/plain": [
       "<matplotlib.figure.Figure at 0x7f84d7aa8438>"
      ]
     },
     "metadata": {
      "tags": []
     },
     "output_type": "display_data"
    },
    {
     "name": "stdout",
     "output_type": "stream",
     "text": [
      "auc: 0.8572351046747999\n"
     ]
    },
    {
     "data": {
      "image/png": "[encoded data removed]",
      "text/plain": [
       "<matplotlib.figure.Figure at 0x7f84d70d3c88>"
      ]
     },
     "metadata": {
      "tags": []
     },
     "output_type": "display_data"
    },
    {
     "name": "stdout",
     "output_type": "stream",
     "text": [
      "count    2500.000000\n",
      "mean        0.185960\n",
      "std         0.247350\n",
      "min         0.003355\n",
      "25%         0.029733\n",
      "50%         0.077525\n",
      "75%         0.216127\n",
      "max         0.999957\n",
      "dtype: float64\n",
      "0.18595994 0.24735042\n"
     ]
    },
    {
     "data": {
      "image/png": "[encoded data removed]",
      "text/plain": [
       "<matplotlib.figure.Figure at 0x7f84dd148c50>"
      ]
     },
     "metadata": {
      "tags": []
     },
     "output_type": "display_data"
    },
    {
     "data": {
      "image/png": "[encoded data removed]",
      "text/plain": [
       "<matplotlib.figure.Figure at 0x7f84d7d5e630>"
      ]
     },
     "metadata": {
      "tags": []
     },
     "output_type": "display_data"
    },
    {
     "data": {
      "image/png": "[encoded data removed]",
      "text/plain": [
       "<matplotlib.figure.Figure at 0x7f84da727f98>"
      ]
     },
     "metadata": {
      "tags": []
     },
     "output_type": "display_data"
    },
    {
     "name": "stdout",
     "output_type": "stream",
     "text": [
      "threshold@0.5, accuracy: 0.8656\n",
      "[[1932   79]\n",
      " [ 257  232]] \n",
      "\n",
      "             precision    recall  f1-score   support\n",
      "\n",
      "          0       0.88      0.96      0.92      2011\n",
      "          1       0.75      0.47      0.58       489\n",
      "\n",
      "avg / total       0.86      0.87      0.85      2500\n",
      "\n",
      "threshold@0.3456, accuracy: 0.8588\n",
      "[[1866  145]\n",
      " [ 208  281]]\n",
      "             precision    recall  f1-score   support\n",
      "\n",
      "          0       0.90      0.93      0.91      2011\n",
      "          1       0.66      0.57      0.61       489\n",
      "\n",
      "avg / total       0.85      0.86      0.86      2500\n",
      "\n"
     ]
    },
    {
     "name": "stderr",
     "output_type": "stream",
     "text": [
      "/usr/local/lib/python3.6/dist-packages/sklearn/metrics/classification.py:1135: UndefinedMetricWarning: Precision and F-score are ill-defined and being set to 0.0 in labels with no predicted samples.\n",
      "  'precision', 'predicted', average, warn_for)\n"
     ]
    }
   ],
   "source": [
    "def get_model(input_dim):\n",
    "    model = Sequential()\n",
    "    # kernel_regularizer=regularizers.l2(0.005)\n",
    "    model.add(Dense(units = 64, activation = 'relu', kernel_initializer='uniform', input_dim = input_dim))\n",
    "    model.add(Dense(units = 32, activation = 'relu', kernel_initializer='uniform'))\n",
    "    model.add(Dense(units = 16, activation = 'relu', kernel_initializer='uniform'))\n",
    "    model.add(Dense(units = 1, activation = 'sigmoid', kernel_initializer='uniform'))\n",
    "    model.summary()\n",
    "    model.compile(optimizer = 'adam', loss = 'binary_crossentropy', metrics = ['accuracy'])\n",
    "    \n",
    "    return model\n",
    "\n",
    "K.clear_session()\n",
    "\n",
    "model = get_model(input_dim=tr_x.shape[1])\n",
    "hist = model.fit(tr_x, tr_y, validation_data=(vl_x, vl_y), batch_size=100, epochs=30)\n",
    "plot_result(hist)\n",
    "draw_roc_curve(vl_y, model.predict(vl_x))\n",
    "\n",
    "y_pred = model.predict(vl_x)\n",
    "pred_dist(y_pred)\n",
    "analyze(vl_y, y_pred)"
   ]
  },
  {
   "cell_type": "markdown",
   "metadata": {
    "colab_type": "text",
    "id": "9a4U_tgIF7T3"
   },
   "source": [
    "# Add Entropy Engineering\n",
    "$$ -\\sum_{i} p_{i} \\times log(p_{i}) $$"
   ]
  },
  {
   "cell_type": "code",
   "execution_count": 0,
   "metadata": {
    "colab": {},
    "colab_type": "code",
    "id": "YmnFHX-gF7T4"
   },
   "outputs": [],
   "source": [
    "def do_entropy_encoding(catg_ftrs, encoded_ftrs, status, data, is_train):\n",
    "    def entropy_encode(x, label, data):\n",
    "        def entropy(pipe):\n",
    "            # Count by label in this group\n",
    "            group_vc = pipe[label].value_counts()\n",
    "            # Only one class in label, the entropy equal to zero\n",
    "            if len(group_vc) <= 1:\n",
    "                return 0\n",
    "\n",
    "            return -(group_vc / len(pipe)).map(lambda e: e * np.log2(e)).sum()\n",
    "\n",
    "        class_proba = data.groupby(x).size() / len(data)\n",
    "        class_entropy = data.groupby(x).apply(entropy)\n",
    "        return class_proba.reindex(class_entropy.index).values * class_entropy\n",
    "\n",
    "    for catg_col in catg_ftrs:\n",
    "        if is_train:\n",
    "            kv = entropy_encode(catg_col, 'Claim', data)\n",
    "            status['entropy_mapper'][catg_col] = kv.to_dict()\n",
    "        else:\n",
    "            kv = pd.Series(status['entropy_mapper'][catg_col])\n",
    "        encoded_ftrs[f'entropy_{catg_col}'] = kv.reindex(data[catg_col]).values\n",
    "    pass"
   ]
  },
  {
   "cell_type": "code",
   "execution_count": 33,
   "metadata": {
    "colab": {
     "base_uri": "https://localhost:8080/",
     "height": 278
    },
    "colab_type": "code",
    "executionInfo": {
     "elapsed": 845,
     "status": "ok",
     "timestamp": 1539915809740,
     "user": {
      "displayName": "Gary Chen",
      "photoUrl": "",
      "userId": "10783188122132859162"
     },
     "user_tz": -480
    },
    "id": "AHteQWFFF7T5",
    "outputId": "41b5c5df-9d79-4d0f-d124-4187c6a0a82f"
   },
   "outputs": [
    {
     "name": "stdout",
     "output_type": "stream",
     "text": [
      "(7500, 68) (2500, 68)\n"
     ]
    },
    {
     "data": {
      "text/html": [
       "<div>\n",
       "<style scoped>\n",
       "    .dataframe tbody tr th:only-of-type {\n",
       "        vertical-align: middle;\n",
       "    }\n",
       "\n",
       "    .dataframe tbody tr th {\n",
       "        vertical-align: top;\n",
       "    }\n",
       "\n",
       "    .dataframe thead th {\n",
       "        text-align: right;\n",
       "    }\n",
       "</style>\n",
       "<table border=\"1\" class=\"dataframe\">\n",
       "  <thead>\n",
       "    <tr style=\"text-align: right;\">\n",
       "      <th></th>\n",
       "      <th>Gender_Female</th>\n",
       "      <th>HasCrCard_0</th>\n",
       "      <th>IsActiveMember_0</th>\n",
       "      <th>Geography_France</th>\n",
       "      <th>Geography_Germany</th>\n",
       "      <th>Geography_Spain</th>\n",
       "      <th>binn_Age_14-30</th>\n",
       "      <th>binn_Age_30-35</th>\n",
       "      <th>binn_Age_35-40</th>\n",
       "      <th>binn_Age_40-45</th>\n",
       "      <th>...</th>\n",
       "      <th>freq_binn_Tenure</th>\n",
       "      <th>mean_binn_Tenure</th>\n",
       "      <th>freq_binn_EstimatedSalary</th>\n",
       "      <th>mean_binn_EstimatedSalary</th>\n",
       "      <th>CreditScore</th>\n",
       "      <th>Age</th>\n",
       "      <th>Tenure</th>\n",
       "      <th>Balance</th>\n",
       "      <th>NumOfProducts</th>\n",
       "      <th>EstimatedSalary</th>\n",
       "    </tr>\n",
       "  </thead>\n",
       "  <tbody>\n",
       "    <tr>\n",
       "      <th>0</th>\n",
       "      <td>0</td>\n",
       "      <td>1</td>\n",
       "      <td>0</td>\n",
       "      <td>0</td>\n",
       "      <td>1</td>\n",
       "      <td>0</td>\n",
       "      <td>0</td>\n",
       "      <td>0</td>\n",
       "      <td>1</td>\n",
       "      <td>0</td>\n",
       "      <td>...</td>\n",
       "      <td>0.146933</td>\n",
       "      <td>0.231397</td>\n",
       "      <td>0.25</td>\n",
       "      <td>0.205333</td>\n",
       "      <td>0.931808</td>\n",
       "      <td>-0.286140</td>\n",
       "      <td>-1.726890</td>\n",
       "      <td>0.818951</td>\n",
       "      <td>0.804202</td>\n",
       "      <td>-0.449945</td>\n",
       "    </tr>\n",
       "    <tr>\n",
       "      <th>1</th>\n",
       "      <td>0</td>\n",
       "      <td>1</td>\n",
       "      <td>1</td>\n",
       "      <td>1</td>\n",
       "      <td>0</td>\n",
       "      <td>0</td>\n",
       "      <td>0</td>\n",
       "      <td>0</td>\n",
       "      <td>0</td>\n",
       "      <td>0</td>\n",
       "      <td>...</td>\n",
       "      <td>0.146933</td>\n",
       "      <td>0.231397</td>\n",
       "      <td>0.25</td>\n",
       "      <td>0.196800</td>\n",
       "      <td>-0.185926</td>\n",
       "      <td>0.761549</td>\n",
       "      <td>-1.726890</td>\n",
       "      <td>-1.223103</td>\n",
       "      <td>-0.913689</td>\n",
       "      <td>-1.631281</td>\n",
       "    </tr>\n",
       "    <tr>\n",
       "      <th>2</th>\n",
       "      <td>1</td>\n",
       "      <td>1</td>\n",
       "      <td>1</td>\n",
       "      <td>1</td>\n",
       "      <td>0</td>\n",
       "      <td>0</td>\n",
       "      <td>0</td>\n",
       "      <td>0</td>\n",
       "      <td>0</td>\n",
       "      <td>0</td>\n",
       "      <td>...</td>\n",
       "      <td>0.305067</td>\n",
       "      <td>0.201049</td>\n",
       "      <td>0.25</td>\n",
       "      <td>0.205333</td>\n",
       "      <td>0.176303</td>\n",
       "      <td>3.142658</td>\n",
       "      <td>-1.036539</td>\n",
       "      <td>-1.223103</td>\n",
       "      <td>0.804202</td>\n",
       "      <td>-0.510415</td>\n",
       "    </tr>\n",
       "    <tr>\n",
       "      <th>3</th>\n",
       "      <td>1</td>\n",
       "      <td>1</td>\n",
       "      <td>0</td>\n",
       "      <td>1</td>\n",
       "      <td>0</td>\n",
       "      <td>0</td>\n",
       "      <td>0</td>\n",
       "      <td>0</td>\n",
       "      <td>0</td>\n",
       "      <td>1</td>\n",
       "      <td>...</td>\n",
       "      <td>0.297733</td>\n",
       "      <td>0.197044</td>\n",
       "      <td>0.25</td>\n",
       "      <td>0.196800</td>\n",
       "      <td>0.797266</td>\n",
       "      <td>0.380571</td>\n",
       "      <td>0.689338</td>\n",
       "      <td>-1.223103</td>\n",
       "      <td>0.804202</td>\n",
       "      <td>-1.045445</td>\n",
       "    </tr>\n",
       "    <tr>\n",
       "      <th>4</th>\n",
       "      <td>1</td>\n",
       "      <td>1</td>\n",
       "      <td>0</td>\n",
       "      <td>0</td>\n",
       "      <td>1</td>\n",
       "      <td>0</td>\n",
       "      <td>0</td>\n",
       "      <td>0</td>\n",
       "      <td>0</td>\n",
       "      <td>1</td>\n",
       "      <td>...</td>\n",
       "      <td>0.297733</td>\n",
       "      <td>0.197044</td>\n",
       "      <td>0.25</td>\n",
       "      <td>0.196800</td>\n",
       "      <td>-0.320468</td>\n",
       "      <td>0.094838</td>\n",
       "      <td>-0.001013</td>\n",
       "      <td>0.507413</td>\n",
       "      <td>0.804202</td>\n",
       "      <td>-0.876750</td>\n",
       "    </tr>\n",
       "  </tbody>\n",
       "</table>\n",
       "<p>5 rows × 68 columns</p>\n",
       "</div>"
      ],
      "text/plain": [
       "   Gender_Female  HasCrCard_0  IsActiveMember_0  Geography_France  \\\n",
       "0              0            1                 0                 0   \n",
       "1              0            1                 1                 1   \n",
       "2              1            1                 1                 1   \n",
       "3              1            1                 0                 1   \n",
       "4              1            1                 0                 0   \n",
       "\n",
       "   Geography_Germany  Geography_Spain  binn_Age_14-30  binn_Age_30-35  \\\n",
       "0                  1                0               0               0   \n",
       "1                  0                0               0               0   \n",
       "2                  0                0               0               0   \n",
       "3                  0                0               0               0   \n",
       "4                  1                0               0               0   \n",
       "\n",
       "   binn_Age_35-40  binn_Age_40-45       ...         freq_binn_Tenure  \\\n",
       "0               1               0       ...                 0.146933   \n",
       "1               0               0       ...                 0.146933   \n",
       "2               0               0       ...                 0.305067   \n",
       "3               0               1       ...                 0.297733   \n",
       "4               0               1       ...                 0.297733   \n",
       "\n",
       "   mean_binn_Tenure  freq_binn_EstimatedSalary  mean_binn_EstimatedSalary  \\\n",
       "0          0.231397                       0.25                   0.205333   \n",
       "1          0.231397                       0.25                   0.196800   \n",
       "2          0.201049                       0.25                   0.205333   \n",
       "3          0.197044                       0.25                   0.196800   \n",
       "4          0.197044                       0.25                   0.196800   \n",
       "\n",
       "   CreditScore       Age    Tenure   Balance  NumOfProducts  EstimatedSalary  \n",
       "0     0.931808 -0.286140 -1.726890  0.818951       0.804202        -0.449945  \n",
       "1    -0.185926  0.761549 -1.726890 -1.223103      -0.913689        -1.631281  \n",
       "2     0.176303  3.142658 -1.036539 -1.223103       0.804202        -0.510415  \n",
       "3     0.797266  0.380571  0.689338 -1.223103       0.804202        -1.045445  \n",
       "4    -0.320468  0.094838 -0.001013  0.507413       0.804202        -0.876750  \n",
       "\n",
       "[5 rows x 68 columns]"
      ]
     },
     "execution_count": 33,
     "metadata": {
      "tags": []
     },
     "output_type": "execute_result"
    }
   ],
   "source": [
    "# Trnasform raw data to foramt model recognized\n",
    "tr_x, tr_y, status = feature_engineering(raw, is_train=True)\n",
    "vl_x, vl_y, _ = feature_engineering(raw_vl, is_train=False, status=status)\n",
    "\n",
    "print( tr_x.shape, vl_x.shape )\n",
    "tr_x.head()"
   ]
  },
  {
   "cell_type": "markdown",
   "metadata": {
    "colab_type": "text",
    "id": "mgYcxz4IF7T8"
   },
   "source": [
    "## (LAB) Model (Entropy Encoding)\n",
    "\n",
    "* 調整network架構\n",
    "* 調整analyze的beta參數(0.1 ~ 2), 觀察precision, recall變化"
   ]
  },
  {
   "cell_type": "code",
   "execution_count": 34,
   "metadata": {
    "colab": {
     "base_uri": "https://localhost:8080/",
     "height": 3355
    },
    "colab_type": "code",
    "executionInfo": {
     "elapsed": 8262,
     "status": "ok",
     "timestamp": 1539915819518,
     "user": {
      "displayName": "Gary Chen",
      "photoUrl": "",
      "userId": "10783188122132859162"
     },
     "user_tz": -480
    },
    "id": "WudqNXhUF7T8",
    "outputId": "1a6f4ce1-4620-4957-9151-d10cf5c3fda6",
    "scrolled": true
   },
   "outputs": [
    {
     "name": "stdout",
     "output_type": "stream",
     "text": [
      "_________________________________________________________________\n",
      "Layer (type)                 Output Shape              Param #   \n",
      "=================================================================\n",
      "dense_1 (Dense)              (None, 64)                4416      \n",
      "_________________________________________________________________\n",
      "dense_2 (Dense)              (None, 32)                2080      \n",
      "_________________________________________________________________\n",
      "dense_3 (Dense)              (None, 16)                528       \n",
      "_________________________________________________________________\n",
      "dense_4 (Dense)              (None, 1)                 17        \n",
      "=================================================================\n",
      "Total params: 7,041\n",
      "Trainable params: 7,041\n",
      "Non-trainable params: 0\n",
      "_________________________________________________________________\n",
      "Train on 7500 samples, validate on 2500 samples\n",
      "Epoch 1/30\n",
      "7500/7500 [==============================] - 1s 67us/step - loss: 0.5765 - acc: 0.7888 - val_loss: 0.4310 - val_acc: 0.8044\n",
      "Epoch 2/30\n",
      "7500/7500 [==============================] - 0s 26us/step - loss: 0.4307 - acc: 0.7936 - val_loss: 0.3963 - val_acc: 0.8044\n",
      "Epoch 3/30\n",
      "7500/7500 [==============================] - 0s 26us/step - loss: 0.4226 - acc: 0.8096 - val_loss: 0.3913 - val_acc: 0.8428\n",
      "Epoch 4/30\n",
      "7500/7500 [==============================] - 0s 25us/step - loss: 0.4181 - acc: 0.8241 - val_loss: 0.3835 - val_acc: 0.8432\n",
      "Epoch 5/30\n",
      "7500/7500 [==============================] - 0s 26us/step - loss: 0.4140 - acc: 0.8247 - val_loss: 0.3782 - val_acc: 0.8468\n",
      "Epoch 6/30\n",
      "7500/7500 [==============================] - 0s 26us/step - loss: 0.4080 - acc: 0.8285 - val_loss: 0.3784 - val_acc: 0.8476\n",
      "Epoch 7/30\n",
      "7500/7500 [==============================] - 0s 26us/step - loss: 0.4048 - acc: 0.8316 - val_loss: 0.3725 - val_acc: 0.8472\n",
      "Epoch 8/30\n",
      "7500/7500 [==============================] - 0s 26us/step - loss: 0.3985 - acc: 0.8329 - val_loss: 0.3681 - val_acc: 0.8464\n",
      "Epoch 9/30\n",
      "7500/7500 [==============================] - 0s 26us/step - loss: 0.3927 - acc: 0.8337 - val_loss: 0.3650 - val_acc: 0.8480\n",
      "Epoch 10/30\n",
      "7500/7500 [==============================] - 0s 23us/step - loss: 0.3863 - acc: 0.8371 - val_loss: 0.3585 - val_acc: 0.8496\n",
      "Epoch 11/30\n",
      "7500/7500 [==============================] - 0s 22us/step - loss: 0.3766 - acc: 0.8421 - val_loss: 0.3526 - val_acc: 0.8540\n",
      "Epoch 12/30\n",
      "7500/7500 [==============================] - 0s 22us/step - loss: 0.3655 - acc: 0.8497 - val_loss: 0.3455 - val_acc: 0.8576\n",
      "Epoch 13/30\n",
      "7500/7500 [==============================] - 0s 22us/step - loss: 0.3569 - acc: 0.8500 - val_loss: 0.3426 - val_acc: 0.8620\n",
      "Epoch 14/30\n",
      "7500/7500 [==============================] - 0s 22us/step - loss: 0.3528 - acc: 0.8513 - val_loss: 0.3563 - val_acc: 0.8516\n",
      "Epoch 15/30\n",
      "7500/7500 [==============================] - 0s 23us/step - loss: 0.3473 - acc: 0.8584 - val_loss: 0.3394 - val_acc: 0.8600\n",
      "Epoch 16/30\n",
      "7500/7500 [==============================] - 0s 23us/step - loss: 0.3459 - acc: 0.8560 - val_loss: 0.3398 - val_acc: 0.8612\n",
      "Epoch 17/30\n",
      "7500/7500 [==============================] - 0s 22us/step - loss: 0.3413 - acc: 0.8596 - val_loss: 0.3455 - val_acc: 0.8624\n",
      "Epoch 18/30\n",
      "7500/7500 [==============================] - 0s 22us/step - loss: 0.3373 - acc: 0.8597 - val_loss: 0.3351 - val_acc: 0.8624\n",
      "Epoch 19/30\n",
      "7500/7500 [==============================] - 0s 22us/step - loss: 0.3365 - acc: 0.8599 - val_loss: 0.3341 - val_acc: 0.8624\n",
      "Epoch 20/30\n",
      "7500/7500 [==============================] - 0s 22us/step - loss: 0.3348 - acc: 0.8625 - val_loss: 0.3365 - val_acc: 0.8616\n",
      "Epoch 21/30\n",
      "7500/7500 [==============================] - 0s 22us/step - loss: 0.3333 - acc: 0.8620 - val_loss: 0.3362 - val_acc: 0.8628\n",
      "Epoch 22/30\n",
      "7500/7500 [==============================] - 0s 23us/step - loss: 0.3348 - acc: 0.8616 - val_loss: 0.3371 - val_acc: 0.8636\n",
      "Epoch 23/30\n",
      "7500/7500 [==============================] - 0s 22us/step - loss: 0.3296 - acc: 0.8643 - val_loss: 0.3416 - val_acc: 0.8624\n",
      "Epoch 24/30\n",
      "7500/7500 [==============================] - 0s 23us/step - loss: 0.3329 - acc: 0.8625 - val_loss: 0.3363 - val_acc: 0.8636\n",
      "Epoch 25/30\n",
      "7500/7500 [==============================] - 0s 23us/step - loss: 0.3272 - acc: 0.8668 - val_loss: 0.3381 - val_acc: 0.8660\n",
      "Epoch 26/30\n",
      "7500/7500 [==============================] - 0s 22us/step - loss: 0.3285 - acc: 0.8657 - val_loss: 0.3402 - val_acc: 0.8612\n",
      "Epoch 27/30\n",
      "7500/7500 [==============================] - 0s 23us/step - loss: 0.3261 - acc: 0.8661 - val_loss: 0.3439 - val_acc: 0.8632\n",
      "Epoch 28/30\n",
      "7500/7500 [==============================] - 0s 23us/step - loss: 0.3273 - acc: 0.8655 - val_loss: 0.3385 - val_acc: 0.8620\n",
      "Epoch 29/30\n",
      "7500/7500 [==============================] - 0s 22us/step - loss: 0.3251 - acc: 0.8672 - val_loss: 0.3405 - val_acc: 0.8628\n",
      "Epoch 30/30\n",
      "7500/7500 [==============================] - 0s 22us/step - loss: 0.3240 - acc: 0.8661 - val_loss: 0.3415 - val_acc: 0.8648\n"
     ]
    },
    {
     "data": {
      "image/png": "[encoded data removed]",
      "text/plain": [
       "<matplotlib.figure.Figure at 0x7f84dd07c4e0>"
      ]
     },
     "metadata": {
      "tags": []
     },
     "output_type": "display_data"
    },
    {
     "name": "stdout",
     "output_type": "stream",
     "text": [
      "auc: 0.8502876307100314\n"
     ]
    },
    {
     "data": {
      "image/png": "[encoded data removed]",
      "text/plain": [
       "<matplotlib.figure.Figure at 0x7f84d7bb1470>"
      ]
     },
     "metadata": {
      "tags": []
     },
     "output_type": "display_data"
    },
    {
     "name": "stdout",
     "output_type": "stream",
     "text": [
      "count    2500.000000\n",
      "mean        0.208297\n",
      "std         0.253378\n",
      "min         0.003530\n",
      "25%         0.034923\n",
      "50%         0.099298\n",
      "75%         0.272036\n",
      "max         0.999867\n",
      "dtype: float64\n",
      "0.20829727 0.25337765\n"
     ]
    },
    {
     "data": {
      "image/png": "[encoded data removed]",
      "text/plain": [
       "<matplotlib.figure.Figure at 0x7f84dd086a90>"
      ]
     },
     "metadata": {
      "tags": []
     },
     "output_type": "display_data"
    },
    {
     "data": {
      "image/png": "[encoded data removed]",
      "text/plain": [
       "<matplotlib.figure.Figure at 0x7f84dd067550>"
      ]
     },
     "metadata": {
      "tags": []
     },
     "output_type": "display_data"
    },
    {
     "data": {
      "image/png": "[encoded data removed]",
      "text/plain": [
       "<matplotlib.figure.Figure at 0x7f84dd15ca90>"
      ]
     },
     "metadata": {
      "tags": []
     },
     "output_type": "display_data"
    },
    {
     "name": "stdout",
     "output_type": "stream",
     "text": [
      "threshold@0.5, accuracy: 0.8648\n",
      "[[1913   98]\n",
      " [ 240  249]] \n",
      "\n",
      "             precision    recall  f1-score   support\n",
      "\n",
      "          0       0.89      0.95      0.92      2011\n",
      "          1       0.72      0.51      0.60       489\n",
      "\n",
      "avg / total       0.86      0.86      0.86      2500\n",
      "\n",
      "threshold@0.3759, accuracy: 0.8508\n",
      "[[1839  172]\n",
      " [ 201  288]]\n",
      "             precision    recall  f1-score   support\n",
      "\n",
      "          0       0.90      0.91      0.91      2011\n",
      "          1       0.63      0.59      0.61       489\n",
      "\n",
      "avg / total       0.85      0.85      0.85      2500\n",
      "\n"
     ]
    },
    {
     "name": "stderr",
     "output_type": "stream",
     "text": [
      "/usr/local/lib/python3.6/dist-packages/sklearn/metrics/classification.py:1135: UndefinedMetricWarning: Precision and F-score are ill-defined and being set to 0.0 in labels with no predicted samples.\n",
      "  'precision', 'predicted', average, warn_for)\n"
     ]
    }
   ],
   "source": [
    "def get_model(input_dim):\n",
    "    model = Sequential()\n",
    "    # kernel_regularizer=regularizers.l2(0.005)\n",
    "    model.add(Dense(units = 64, activation = 'relu', kernel_initializer='uniform', input_dim = input_dim))\n",
    "    model.add(Dense(units = 32, activation = 'relu', kernel_initializer='uniform'))\n",
    "    model.add(Dense(units = 16, activation = 'relu', kernel_initializer='uniform'))\n",
    "    model.add(Dense(units = 1, activation = 'sigmoid', kernel_initializer='uniform'))\n",
    "    model.summary()\n",
    "    model.compile(optimizer = 'adam', loss = 'binary_crossentropy', metrics = ['accuracy'])\n",
    "    \n",
    "    return model\n",
    "\n",
    "K.clear_session()\n",
    "\n",
    "model = get_model(input_dim=tr_x.shape[1])\n",
    "hist = model.fit(tr_x, tr_y, validation_data=(vl_x, vl_y), batch_size=100, epochs=30)\n",
    "plot_result(hist)\n",
    "draw_roc_curve(vl_y, model.predict(vl_x))\n",
    "\n",
    "y_pred = model.predict(vl_x)\n",
    "pred_dist(y_pred)\n",
    "analyze(vl_y, y_pred)"
   ]
  },
  {
   "cell_type": "markdown",
   "metadata": {
    "colab_type": "text",
    "id": "r5crE3xFBn91"
   },
   "source": [
    "# Add Polynomial Featue Engineering\n",
    "\n",
    "* Add quradratic, cube term base on numeric features"
   ]
  },
  {
   "cell_type": "code",
   "execution_count": 0,
   "metadata": {
    "colab": {},
    "colab_type": "code",
    "id": "0m8uAkjbuBa7"
   },
   "outputs": [],
   "source": [
    "def do_nth_order_polynominal(num_features, data):\n",
    "    for num_col in num_features:\n",
    "        data[f'{num_col}_degree_2'] = data[num_col] ** 2\n",
    "        data[f'{num_col}_degree_3'] = data[num_col] ** 3\n",
    "    pass"
   ]
  },
  {
   "cell_type": "code",
   "execution_count": 36,
   "metadata": {
    "colab": {
     "base_uri": "https://localhost:8080/",
     "height": 278
    },
    "colab_type": "code",
    "executionInfo": {
     "elapsed": 1239,
     "status": "ok",
     "timestamp": 1539915827529,
     "user": {
      "displayName": "Gary Chen",
      "photoUrl": "",
      "userId": "10783188122132859162"
     },
     "user_tz": -480
    },
    "id": "9vo1AYDHtmuf",
    "outputId": "ba99b499-c5bd-48b7-bfc2-e4b1e2e8f94e"
   },
   "outputs": [
    {
     "name": "stdout",
     "output_type": "stream",
     "text": [
      "(7500, 80) (2500, 80)\n"
     ]
    },
    {
     "data": {
      "text/html": [
       "<div>\n",
       "<style scoped>\n",
       "    .dataframe tbody tr th:only-of-type {\n",
       "        vertical-align: middle;\n",
       "    }\n",
       "\n",
       "    .dataframe tbody tr th {\n",
       "        vertical-align: top;\n",
       "    }\n",
       "\n",
       "    .dataframe thead th {\n",
       "        text-align: right;\n",
       "    }\n",
       "</style>\n",
       "<table border=\"1\" class=\"dataframe\">\n",
       "  <thead>\n",
       "    <tr style=\"text-align: right;\">\n",
       "      <th></th>\n",
       "      <th>Gender_Female</th>\n",
       "      <th>HasCrCard_0</th>\n",
       "      <th>IsActiveMember_0</th>\n",
       "      <th>Geography_France</th>\n",
       "      <th>Geography_Germany</th>\n",
       "      <th>Geography_Spain</th>\n",
       "      <th>binn_Age_14-30</th>\n",
       "      <th>binn_Age_30-35</th>\n",
       "      <th>binn_Age_35-40</th>\n",
       "      <th>binn_Age_40-45</th>\n",
       "      <th>...</th>\n",
       "      <th>Age_degree_2</th>\n",
       "      <th>Age_degree_3</th>\n",
       "      <th>Tenure_degree_2</th>\n",
       "      <th>Tenure_degree_3</th>\n",
       "      <th>Balance_degree_2</th>\n",
       "      <th>Balance_degree_3</th>\n",
       "      <th>NumOfProducts_degree_2</th>\n",
       "      <th>NumOfProducts_degree_3</th>\n",
       "      <th>EstimatedSalary_degree_2</th>\n",
       "      <th>EstimatedSalary_degree_3</th>\n",
       "    </tr>\n",
       "  </thead>\n",
       "  <tbody>\n",
       "    <tr>\n",
       "      <th>0</th>\n",
       "      <td>0</td>\n",
       "      <td>1</td>\n",
       "      <td>0</td>\n",
       "      <td>0</td>\n",
       "      <td>1</td>\n",
       "      <td>0</td>\n",
       "      <td>0</td>\n",
       "      <td>0</td>\n",
       "      <td>1</td>\n",
       "      <td>0</td>\n",
       "      <td>...</td>\n",
       "      <td>0.081876</td>\n",
       "      <td>-0.023428</td>\n",
       "      <td>2.982148</td>\n",
       "      <td>-5.149841e+00</td>\n",
       "      <td>0.670681</td>\n",
       "      <td>0.549255</td>\n",
       "      <td>0.646741</td>\n",
       "      <td>0.520110</td>\n",
       "      <td>0.202451</td>\n",
       "      <td>-0.091092</td>\n",
       "    </tr>\n",
       "    <tr>\n",
       "      <th>1</th>\n",
       "      <td>0</td>\n",
       "      <td>1</td>\n",
       "      <td>1</td>\n",
       "      <td>1</td>\n",
       "      <td>0</td>\n",
       "      <td>0</td>\n",
       "      <td>0</td>\n",
       "      <td>0</td>\n",
       "      <td>0</td>\n",
       "      <td>0</td>\n",
       "      <td>...</td>\n",
       "      <td>0.579956</td>\n",
       "      <td>0.441665</td>\n",
       "      <td>2.982148</td>\n",
       "      <td>-5.149841e+00</td>\n",
       "      <td>1.495981</td>\n",
       "      <td>-1.829740</td>\n",
       "      <td>0.834827</td>\n",
       "      <td>-0.762772</td>\n",
       "      <td>2.661079</td>\n",
       "      <td>-4.340968</td>\n",
       "    </tr>\n",
       "    <tr>\n",
       "      <th>2</th>\n",
       "      <td>1</td>\n",
       "      <td>1</td>\n",
       "      <td>1</td>\n",
       "      <td>1</td>\n",
       "      <td>0</td>\n",
       "      <td>0</td>\n",
       "      <td>0</td>\n",
       "      <td>0</td>\n",
       "      <td>0</td>\n",
       "      <td>0</td>\n",
       "      <td>...</td>\n",
       "      <td>9.876301</td>\n",
       "      <td>31.037837</td>\n",
       "      <td>1.074413</td>\n",
       "      <td>-1.113671e+00</td>\n",
       "      <td>1.495981</td>\n",
       "      <td>-1.829740</td>\n",
       "      <td>0.646741</td>\n",
       "      <td>0.520110</td>\n",
       "      <td>0.260524</td>\n",
       "      <td>-0.132975</td>\n",
       "    </tr>\n",
       "    <tr>\n",
       "      <th>3</th>\n",
       "      <td>1</td>\n",
       "      <td>1</td>\n",
       "      <td>0</td>\n",
       "      <td>1</td>\n",
       "      <td>0</td>\n",
       "      <td>0</td>\n",
       "      <td>0</td>\n",
       "      <td>0</td>\n",
       "      <td>0</td>\n",
       "      <td>1</td>\n",
       "      <td>...</td>\n",
       "      <td>0.144834</td>\n",
       "      <td>0.055120</td>\n",
       "      <td>0.475187</td>\n",
       "      <td>3.275649e-01</td>\n",
       "      <td>1.495981</td>\n",
       "      <td>-1.829740</td>\n",
       "      <td>0.646741</td>\n",
       "      <td>0.520110</td>\n",
       "      <td>1.092956</td>\n",
       "      <td>-1.142625</td>\n",
       "    </tr>\n",
       "    <tr>\n",
       "      <th>4</th>\n",
       "      <td>1</td>\n",
       "      <td>1</td>\n",
       "      <td>0</td>\n",
       "      <td>0</td>\n",
       "      <td>1</td>\n",
       "      <td>0</td>\n",
       "      <td>0</td>\n",
       "      <td>0</td>\n",
       "      <td>0</td>\n",
       "      <td>1</td>\n",
       "      <td>...</td>\n",
       "      <td>0.008994</td>\n",
       "      <td>0.000853</td>\n",
       "      <td>0.000001</td>\n",
       "      <td>-1.038016e-09</td>\n",
       "      <td>0.257468</td>\n",
       "      <td>0.130643</td>\n",
       "      <td>0.646741</td>\n",
       "      <td>0.520110</td>\n",
       "      <td>0.768690</td>\n",
       "      <td>-0.673949</td>\n",
       "    </tr>\n",
       "  </tbody>\n",
       "</table>\n",
       "<p>5 rows × 80 columns</p>\n",
       "</div>"
      ],
      "text/plain": [
       "   Gender_Female  HasCrCard_0  IsActiveMember_0  Geography_France  \\\n",
       "0              0            1                 0                 0   \n",
       "1              0            1                 1                 1   \n",
       "2              1            1                 1                 1   \n",
       "3              1            1                 0                 1   \n",
       "4              1            1                 0                 0   \n",
       "\n",
       "   Geography_Germany  Geography_Spain  binn_Age_14-30  binn_Age_30-35  \\\n",
       "0                  1                0               0               0   \n",
       "1                  0                0               0               0   \n",
       "2                  0                0               0               0   \n",
       "3                  0                0               0               0   \n",
       "4                  1                0               0               0   \n",
       "\n",
       "   binn_Age_35-40  binn_Age_40-45            ...             Age_degree_2  \\\n",
       "0               1               0            ...                 0.081876   \n",
       "1               0               0            ...                 0.579956   \n",
       "2               0               0            ...                 9.876301   \n",
       "3               0               1            ...                 0.144834   \n",
       "4               0               1            ...                 0.008994   \n",
       "\n",
       "   Age_degree_3  Tenure_degree_2  Tenure_degree_3  Balance_degree_2  \\\n",
       "0     -0.023428         2.982148    -5.149841e+00          0.670681   \n",
       "1      0.441665         2.982148    -5.149841e+00          1.495981   \n",
       "2     31.037837         1.074413    -1.113671e+00          1.495981   \n",
       "3      0.055120         0.475187     3.275649e-01          1.495981   \n",
       "4      0.000853         0.000001    -1.038016e-09          0.257468   \n",
       "\n",
       "   Balance_degree_3  NumOfProducts_degree_2  NumOfProducts_degree_3  \\\n",
       "0          0.549255                0.646741                0.520110   \n",
       "1         -1.829740                0.834827               -0.762772   \n",
       "2         -1.829740                0.646741                0.520110   \n",
       "3         -1.829740                0.646741                0.520110   \n",
       "4          0.130643                0.646741                0.520110   \n",
       "\n",
       "   EstimatedSalary_degree_2  EstimatedSalary_degree_3  \n",
       "0                  0.202451                 -0.091092  \n",
       "1                  2.661079                 -4.340968  \n",
       "2                  0.260524                 -0.132975  \n",
       "3                  1.092956                 -1.142625  \n",
       "4                  0.768690                 -0.673949  \n",
       "\n",
       "[5 rows x 80 columns]"
      ]
     },
     "execution_count": 36,
     "metadata": {
      "tags": []
     },
     "output_type": "execute_result"
    }
   ],
   "source": [
    "# Trnasform raw data to foramt model recognized\n",
    "tr_x, tr_y, status = feature_engineering(raw, is_train=True)\n",
    "vl_x, vl_y, _ = feature_engineering(raw_vl, is_train=False, status=status)\n",
    "\n",
    "print( tr_x.shape, vl_x.shape )\n",
    "tr_x.head()"
   ]
  },
  {
   "cell_type": "markdown",
   "metadata": {
    "colab_type": "text",
    "id": "Wfc1V2cYFz50"
   },
   "source": [
    "## (LAB) Model (Polynominal)\n",
    "\n",
    "* 調整network架構\n",
    "* 調整analyze的beta參數(0.1 ~ 2), 觀察precision, recall變化"
   ]
  },
  {
   "cell_type": "code",
   "execution_count": 37,
   "metadata": {
    "colab": {
     "base_uri": "https://localhost:8080/",
     "height": 3355
    },
    "colab_type": "code",
    "executionInfo": {
     "elapsed": 7950,
     "status": "ok",
     "timestamp": 1539915835690,
     "user": {
      "displayName": "Gary Chen",
      "photoUrl": "",
      "userId": "10783188122132859162"
     },
     "user_tz": -480
    },
    "id": "Dl32_fhCFz-_",
    "outputId": "42553975-235b-4c93-feb9-967c7e1c8f51",
    "scrolled": true
   },
   "outputs": [
    {
     "name": "stdout",
     "output_type": "stream",
     "text": [
      "_________________________________________________________________\n",
      "Layer (type)                 Output Shape              Param #   \n",
      "=================================================================\n",
      "dense_1 (Dense)              (None, 64)                5184      \n",
      "_________________________________________________________________\n",
      "dense_2 (Dense)              (None, 32)                2080      \n",
      "_________________________________________________________________\n",
      "dense_3 (Dense)              (None, 16)                528       \n",
      "_________________________________________________________________\n",
      "dense_4 (Dense)              (None, 1)                 17        \n",
      "=================================================================\n",
      "Total params: 7,809\n",
      "Trainable params: 7,809\n",
      "Non-trainable params: 0\n",
      "_________________________________________________________________\n",
      "Train on 7500 samples, validate on 2500 samples\n",
      "Epoch 1/30\n",
      "7500/7500 [==============================] - 0s 61us/step - loss: 0.5604 - acc: 0.7911 - val_loss: 0.4013 - val_acc: 0.8268\n",
      "Epoch 2/30\n",
      "7500/7500 [==============================] - 0s 22us/step - loss: 0.3911 - acc: 0.8355 - val_loss: 0.3495 - val_acc: 0.8560\n",
      "Epoch 3/30\n",
      "7500/7500 [==============================] - 0s 23us/step - loss: 0.3621 - acc: 0.8544 - val_loss: 0.3463 - val_acc: 0.8560\n",
      "Epoch 4/30\n",
      "7500/7500 [==============================] - 0s 23us/step - loss: 0.3545 - acc: 0.8545 - val_loss: 0.3390 - val_acc: 0.8580\n",
      "Epoch 5/30\n",
      "7500/7500 [==============================] - 0s 22us/step - loss: 0.3500 - acc: 0.8556 - val_loss: 0.3404 - val_acc: 0.8604\n",
      "Epoch 6/30\n",
      "7500/7500 [==============================] - 0s 22us/step - loss: 0.3472 - acc: 0.8592 - val_loss: 0.3375 - val_acc: 0.8612\n",
      "Epoch 7/30\n",
      "7500/7500 [==============================] - 0s 22us/step - loss: 0.3457 - acc: 0.8597 - val_loss: 0.3357 - val_acc: 0.8604\n",
      "Epoch 8/30\n",
      "7500/7500 [==============================] - 0s 23us/step - loss: 0.3457 - acc: 0.8603 - val_loss: 0.3359 - val_acc: 0.8604\n",
      "Epoch 9/30\n",
      "7500/7500 [==============================] - 0s 23us/step - loss: 0.3423 - acc: 0.8609 - val_loss: 0.3364 - val_acc: 0.8644\n",
      "Epoch 10/30\n",
      "7500/7500 [==============================] - 0s 22us/step - loss: 0.3415 - acc: 0.8612 - val_loss: 0.3334 - val_acc: 0.8644\n",
      "Epoch 11/30\n",
      "7500/7500 [==============================] - 0s 23us/step - loss: 0.3383 - acc: 0.8639 - val_loss: 0.3336 - val_acc: 0.8656\n",
      "Epoch 12/30\n",
      "7500/7500 [==============================] - 0s 23us/step - loss: 0.3362 - acc: 0.8667 - val_loss: 0.3395 - val_acc: 0.8592\n",
      "Epoch 13/30\n",
      "7500/7500 [==============================] - 0s 22us/step - loss: 0.3359 - acc: 0.8652 - val_loss: 0.3343 - val_acc: 0.8644\n",
      "Epoch 14/30\n",
      "7500/7500 [==============================] - 0s 22us/step - loss: 0.3347 - acc: 0.8647 - val_loss: 0.3337 - val_acc: 0.8656\n",
      "Epoch 15/30\n",
      "7500/7500 [==============================] - 0s 22us/step - loss: 0.3317 - acc: 0.8693 - val_loss: 0.3320 - val_acc: 0.8676\n",
      "Epoch 16/30\n",
      "7500/7500 [==============================] - 0s 22us/step - loss: 0.3309 - acc: 0.8668 - val_loss: 0.3336 - val_acc: 0.8668\n",
      "Epoch 17/30\n",
      "7500/7500 [==============================] - 0s 22us/step - loss: 0.3287 - acc: 0.8680 - val_loss: 0.3308 - val_acc: 0.8672\n",
      "Epoch 18/30\n",
      "7500/7500 [==============================] - 0s 22us/step - loss: 0.3261 - acc: 0.8689 - val_loss: 0.3344 - val_acc: 0.8664\n",
      "Epoch 19/30\n",
      "7500/7500 [==============================] - 0s 22us/step - loss: 0.3241 - acc: 0.8709 - val_loss: 0.3321 - val_acc: 0.8668\n",
      "Epoch 20/30\n",
      "7500/7500 [==============================] - 0s 23us/step - loss: 0.3261 - acc: 0.8689 - val_loss: 0.3297 - val_acc: 0.8664\n",
      "Epoch 21/30\n",
      "7500/7500 [==============================] - 0s 23us/step - loss: 0.3233 - acc: 0.8721 - val_loss: 0.3301 - val_acc: 0.8648\n",
      "Epoch 22/30\n",
      "7500/7500 [==============================] - 0s 23us/step - loss: 0.3230 - acc: 0.8701 - val_loss: 0.3300 - val_acc: 0.8676\n",
      "Epoch 23/30\n",
      "7500/7500 [==============================] - 0s 23us/step - loss: 0.3229 - acc: 0.8681 - val_loss: 0.3311 - val_acc: 0.8672\n",
      "Epoch 24/30\n",
      "7500/7500 [==============================] - 0s 22us/step - loss: 0.3208 - acc: 0.8707 - val_loss: 0.3338 - val_acc: 0.8648\n",
      "Epoch 25/30\n",
      "7500/7500 [==============================] - 0s 22us/step - loss: 0.3179 - acc: 0.8727 - val_loss: 0.3326 - val_acc: 0.8664\n",
      "Epoch 26/30\n",
      "7500/7500 [==============================] - 0s 23us/step - loss: 0.3163 - acc: 0.8748 - val_loss: 0.3376 - val_acc: 0.8628\n",
      "Epoch 27/30\n",
      "7500/7500 [==============================] - 0s 22us/step - loss: 0.3152 - acc: 0.8749 - val_loss: 0.3387 - val_acc: 0.8648\n",
      "Epoch 28/30\n",
      "7500/7500 [==============================] - 0s 22us/step - loss: 0.3163 - acc: 0.8732 - val_loss: 0.3345 - val_acc: 0.8660\n",
      "Epoch 29/30\n",
      "7500/7500 [==============================] - 0s 22us/step - loss: 0.3155 - acc: 0.8741 - val_loss: 0.3384 - val_acc: 0.8648\n",
      "Epoch 30/30\n",
      "7500/7500 [==============================] - 0s 22us/step - loss: 0.3137 - acc: 0.8759 - val_loss: 0.3379 - val_acc: 0.8688\n"
     ]
    },
    {
     "data": {
      "image/png": "[encoded data removed]",
      "text/plain": [
       "<matplotlib.figure.Figure at 0x7f84dd01a160>"
      ]
     },
     "metadata": {
      "tags": []
     },
     "output_type": "display_data"
    },
    {
     "name": "stdout",
     "output_type": "stream",
     "text": [
      "auc: 0.8559700786777021\n"
     ]
    },
    {
     "data": {
      "image/png": "[encoded data removed]",
      "text/plain": [
       "<matplotlib.figure.Figure at 0x7f84dd1297f0>"
      ]
     },
     "metadata": {
      "tags": []
     },
     "output_type": "display_data"
    },
    {
     "name": "stdout",
     "output_type": "stream",
     "text": [
      "count    2500.000000\n",
      "mean        0.170234\n",
      "std         0.243821\n",
      "min         0.000889\n",
      "25%         0.024167\n",
      "50%         0.066877\n",
      "75%         0.189571\n",
      "max         1.000000\n",
      "dtype: float64\n",
      "0.17023383 0.24382074\n"
     ]
    },
    {
     "data": {
      "image/png": "[encoded data removed]",
      "text/plain": [
       "<matplotlib.figure.Figure at 0x7f84d611bef0>"
      ]
     },
     "metadata": {
      "tags": []
     },
     "output_type": "display_data"
    },
    {
     "data": {
      "image/png": "[encoded data removed]",
      "text/plain": [
       "<matplotlib.figure.Figure at 0x7f84d6991908>"
      ]
     },
     "metadata": {
      "tags": []
     },
     "output_type": "display_data"
    },
    {
     "data": {
      "image/png": "[encoded data removed]",
      "text/plain": [
       "<matplotlib.figure.Figure at 0x7f84de0de898>"
      ]
     },
     "metadata": {
      "tags": []
     },
     "output_type": "display_data"
    },
    {
     "name": "stdout",
     "output_type": "stream",
     "text": [
      "threshold@0.5, accuracy: 0.8688\n",
      "[[1954   57]\n",
      " [ 271  218]] \n",
      "\n",
      "             precision    recall  f1-score   support\n",
      "\n",
      "          0       0.88      0.97      0.92      2011\n",
      "          1       0.79      0.45      0.57       489\n",
      "\n",
      "avg / total       0.86      0.87      0.85      2500\n",
      "\n",
      "threshold@0.2532, accuracy: 0.8492\n",
      "[[1827  184]\n",
      " [ 193  296]]\n",
      "             precision    recall  f1-score   support\n",
      "\n",
      "          0       0.90      0.91      0.91      2011\n",
      "          1       0.62      0.61      0.61       489\n",
      "\n",
      "avg / total       0.85      0.85      0.85      2500\n",
      "\n"
     ]
    },
    {
     "name": "stderr",
     "output_type": "stream",
     "text": [
      "/usr/local/lib/python3.6/dist-packages/sklearn/metrics/classification.py:1135: UndefinedMetricWarning: Precision and F-score are ill-defined and being set to 0.0 in labels with no predicted samples.\n",
      "  'precision', 'predicted', average, warn_for)\n"
     ]
    }
   ],
   "source": [
    "def get_model(input_dim):\n",
    "    model = Sequential()\n",
    "    # kernel_regularizer=regularizers.l2(0.005)\n",
    "    model.add(Dense(units = 64, activation = 'relu', kernel_initializer='uniform', input_dim = input_dim))\n",
    "    model.add(Dense(units = 32, activation = 'relu', kernel_initializer='uniform'))\n",
    "    model.add(Dense(units = 16, activation = 'relu', kernel_initializer='uniform'))\n",
    "    model.add(Dense(units = 1, activation = 'sigmoid', kernel_initializer='uniform'))\n",
    "    model.summary()\n",
    "    model.compile(optimizer = 'adam', loss = 'binary_crossentropy', metrics = ['accuracy'])\n",
    "    \n",
    "    return model\n",
    "\n",
    "K.clear_session()\n",
    "\n",
    "model = get_model(input_dim=tr_x.shape[1])\n",
    "hist = model.fit(tr_x, tr_y, validation_data=(vl_x, vl_y), batch_size=100, epochs=30)\n",
    "plot_result(hist)\n",
    "draw_roc_curve(vl_y, model.predict(vl_x))\n",
    "\n",
    "y_pred = model.predict(vl_x)\n",
    "pred_dist(y_pred)\n",
    "analyze(vl_y, y_pred)"
   ]
  },
  {
   "cell_type": "markdown",
   "metadata": {
    "colab_type": "text",
    "id": "2nyIpWl1tmul"
   },
   "source": [
    "# PCA"
   ]
  },
  {
   "cell_type": "code",
   "execution_count": 0,
   "metadata": {
    "colab": {},
    "colab_type": "code",
    "id": "TMnL5oObtmum"
   },
   "outputs": [],
   "source": [
    "from sklearn.decomposition import PCA\n",
    "\n",
    "pca = PCA(n_components=64)\n",
    "tr_x_pca = pca.fit_transform(tr_x)\n",
    "vl_x_pca = pca.transform(vl_x)"
   ]
  },
  {
   "cell_type": "code",
   "execution_count": 39,
   "metadata": {
    "colab": {
     "base_uri": "https://localhost:8080/",
     "height": 34
    },
    "colab_type": "code",
    "executionInfo": {
     "elapsed": 792,
     "status": "ok",
     "timestamp": 1539915849418,
     "user": {
      "displayName": "Gary Chen",
      "photoUrl": "",
      "userId": "10783188122132859162"
     },
     "user_tz": -480
    },
    "id": "IQlOU34ztmup",
    "outputId": "a5ca3503-6906-4555-e373-57d42916f01c"
   },
   "outputs": [
    {
     "data": {
      "text/plain": [
       "((7500, 64), (2500, 64))"
      ]
     },
     "execution_count": 39,
     "metadata": {
      "tags": []
     },
     "output_type": "execute_result"
    }
   ],
   "source": [
    "tr_x_pca.shape, vl_x_pca.shape"
   ]
  },
  {
   "cell_type": "markdown",
   "metadata": {
    "colab_type": "text",
    "id": "PSnXqwEeF7UT"
   },
   "source": [
    "## (LAB) Model (PCA) \n",
    "\n",
    "* 調整network架構\n",
    "* 調整analyze的beta參數(0.1 ~ 2), 觀察precision, recall變化"
   ]
  },
  {
   "cell_type": "code",
   "execution_count": 40,
   "metadata": {
    "colab": {
     "base_uri": "https://localhost:8080/",
     "height": 3355
    },
    "colab_type": "code",
    "executionInfo": {
     "elapsed": 7693,
     "status": "ok",
     "timestamp": 1539915862286,
     "user": {
      "displayName": "Gary Chen",
      "photoUrl": "",
      "userId": "10783188122132859162"
     },
     "user_tz": -480
    },
    "id": "l2BevFVPtmus",
    "outputId": "a534ab3a-e7d9-41b0-9007-93431b6cb30a",
    "scrolled": true
   },
   "outputs": [
    {
     "name": "stdout",
     "output_type": "stream",
     "text": [
      "_________________________________________________________________\n",
      "Layer (type)                 Output Shape              Param #   \n",
      "=================================================================\n",
      "dense_1 (Dense)              (None, 64)                4160      \n",
      "_________________________________________________________________\n",
      "dense_2 (Dense)              (None, 32)                2080      \n",
      "_________________________________________________________________\n",
      "dense_3 (Dense)              (None, 16)                528       \n",
      "_________________________________________________________________\n",
      "dense_4 (Dense)              (None, 1)                 17        \n",
      "=================================================================\n",
      "Total params: 6,785\n",
      "Trainable params: 6,785\n",
      "Non-trainable params: 0\n",
      "_________________________________________________________________\n",
      "Train on 7500 samples, validate on 2500 samples\n",
      "Epoch 1/30\n",
      "7500/7500 [==============================] - 0s 62us/step - loss: 0.5831 - acc: 0.7983 - val_loss: 0.3894 - val_acc: 0.8256\n",
      "Epoch 2/30\n",
      "7500/7500 [==============================] - 0s 22us/step - loss: 0.3754 - acc: 0.8360 - val_loss: 0.3512 - val_acc: 0.8544\n",
      "Epoch 3/30\n",
      "7500/7500 [==============================] - 0s 22us/step - loss: 0.3542 - acc: 0.8560 - val_loss: 0.3430 - val_acc: 0.8568\n",
      "Epoch 4/30\n",
      "7500/7500 [==============================] - 0s 22us/step - loss: 0.3454 - acc: 0.8603 - val_loss: 0.3401 - val_acc: 0.8604\n",
      "Epoch 5/30\n",
      "7500/7500 [==============================] - 0s 22us/step - loss: 0.3405 - acc: 0.8600 - val_loss: 0.3386 - val_acc: 0.8636\n",
      "Epoch 6/30\n",
      "7500/7500 [==============================] - 0s 22us/step - loss: 0.3368 - acc: 0.8616 - val_loss: 0.3363 - val_acc: 0.8644\n",
      "Epoch 7/30\n",
      "7500/7500 [==============================] - 0s 22us/step - loss: 0.3331 - acc: 0.8647 - val_loss: 0.3380 - val_acc: 0.8640\n",
      "Epoch 8/30\n",
      "7500/7500 [==============================] - 0s 22us/step - loss: 0.3289 - acc: 0.8656 - val_loss: 0.3335 - val_acc: 0.8644\n",
      "Epoch 9/30\n",
      "7500/7500 [==============================] - 0s 23us/step - loss: 0.3266 - acc: 0.8677 - val_loss: 0.3350 - val_acc: 0.8632\n",
      "Epoch 10/30\n",
      "7500/7500 [==============================] - 0s 22us/step - loss: 0.3238 - acc: 0.8695 - val_loss: 0.3339 - val_acc: 0.8660\n",
      "Epoch 11/30\n",
      "7500/7500 [==============================] - 0s 23us/step - loss: 0.3207 - acc: 0.8727 - val_loss: 0.3327 - val_acc: 0.8668\n",
      "Epoch 12/30\n",
      "7500/7500 [==============================] - 0s 22us/step - loss: 0.3163 - acc: 0.8739 - val_loss: 0.3331 - val_acc: 0.8640\n",
      "Epoch 13/30\n",
      "7500/7500 [==============================] - 0s 22us/step - loss: 0.3153 - acc: 0.8736 - val_loss: 0.3336 - val_acc: 0.8632\n",
      "Epoch 14/30\n",
      "7500/7500 [==============================] - 0s 22us/step - loss: 0.3125 - acc: 0.8713 - val_loss: 0.3334 - val_acc: 0.8644\n",
      "Epoch 15/30\n",
      "7500/7500 [==============================] - 0s 21us/step - loss: 0.3101 - acc: 0.8748 - val_loss: 0.3368 - val_acc: 0.8620\n",
      "Epoch 16/30\n",
      "7500/7500 [==============================] - 0s 22us/step - loss: 0.3082 - acc: 0.8779 - val_loss: 0.3365 - val_acc: 0.8652\n",
      "Epoch 17/30\n",
      "7500/7500 [==============================] - 0s 22us/step - loss: 0.3051 - acc: 0.8773 - val_loss: 0.3333 - val_acc: 0.8676\n",
      "Epoch 18/30\n",
      "7500/7500 [==============================] - 0s 23us/step - loss: 0.3014 - acc: 0.8792 - val_loss: 0.3357 - val_acc: 0.8668\n",
      "Epoch 19/30\n",
      "7500/7500 [==============================] - 0s 24us/step - loss: 0.3002 - acc: 0.8812 - val_loss: 0.3354 - val_acc: 0.8644\n",
      "Epoch 20/30\n",
      "7500/7500 [==============================] - 0s 22us/step - loss: 0.2989 - acc: 0.8807 - val_loss: 0.3388 - val_acc: 0.8656\n",
      "Epoch 21/30\n",
      "7500/7500 [==============================] - 0s 22us/step - loss: 0.2960 - acc: 0.8824 - val_loss: 0.3372 - val_acc: 0.8684\n",
      "Epoch 22/30\n",
      "7500/7500 [==============================] - 0s 21us/step - loss: 0.2929 - acc: 0.8837 - val_loss: 0.3391 - val_acc: 0.8636\n",
      "Epoch 23/30\n",
      "7500/7500 [==============================] - 0s 22us/step - loss: 0.2919 - acc: 0.8845 - val_loss: 0.3412 - val_acc: 0.8616\n",
      "Epoch 24/30\n",
      "7500/7500 [==============================] - 0s 21us/step - loss: 0.2914 - acc: 0.8857 - val_loss: 0.3507 - val_acc: 0.8544\n",
      "Epoch 25/30\n",
      "7500/7500 [==============================] - 0s 22us/step - loss: 0.2862 - acc: 0.8863 - val_loss: 0.3469 - val_acc: 0.8620\n",
      "Epoch 26/30\n",
      "7500/7500 [==============================] - 0s 22us/step - loss: 0.2850 - acc: 0.8899 - val_loss: 0.3445 - val_acc: 0.8648\n",
      "Epoch 27/30\n",
      "7500/7500 [==============================] - 0s 22us/step - loss: 0.2856 - acc: 0.8889 - val_loss: 0.3520 - val_acc: 0.8604\n",
      "Epoch 28/30\n",
      "7500/7500 [==============================] - 0s 22us/step - loss: 0.2834 - acc: 0.8875 - val_loss: 0.3479 - val_acc: 0.8632\n",
      "Epoch 29/30\n",
      "7500/7500 [==============================] - 0s 22us/step - loss: 0.2796 - acc: 0.8917 - val_loss: 0.3454 - val_acc: 0.8628\n",
      "Epoch 30/30\n",
      "7500/7500 [==============================] - 0s 22us/step - loss: 0.2775 - acc: 0.8921 - val_loss: 0.3502 - val_acc: 0.8628\n"
     ]
    },
    {
     "data": {
      "image/png": "[encoded data removed]",
      "text/plain": [
       "<matplotlib.figure.Figure at 0x7f84d7d5a5c0>"
      ]
     },
     "metadata": {
      "tags": []
     },
     "output_type": "display_data"
    },
    {
     "name": "stdout",
     "output_type": "stream",
     "text": [
      "auc: 0.8463562878605299\n"
     ]
    },
    {
     "data": {
      "image/png": "[encoded data removed]",
      "text/plain": [
       "<matplotlib.figure.Figure at 0x7f84d6d28cf8>"
      ]
     },
     "metadata": {
      "tags": []
     },
     "output_type": "display_data"
    },
    {
     "name": "stdout",
     "output_type": "stream",
     "text": [
      "count    2500.000000\n",
      "mean        0.189247\n",
      "std         0.269934\n",
      "min         0.000512\n",
      "25%         0.027628\n",
      "50%         0.068459\n",
      "75%         0.195248\n",
      "max         1.000000\n",
      "dtype: float64\n",
      "0.1892469 0.26993376\n"
     ]
    },
    {
     "data": {
      "image/png": "[encoded data removed]",
      "text/plain": [
       "<matplotlib.figure.Figure at 0x7f84d6d5ea20>"
      ]
     },
     "metadata": {
      "tags": []
     },
     "output_type": "display_data"
    },
    {
     "data": {
      "image/png": "[encoded data removed]",
      "text/plain": [
       "<matplotlib.figure.Figure at 0x7f84d6d3e550>"
      ]
     },
     "metadata": {
      "tags": []
     },
     "output_type": "display_data"
    },
    {
     "data": {
      "image/png": "[encoded data removed]",
      "text/plain": [
       "<matplotlib.figure.Figure at 0x7f84dd2ea588>"
      ]
     },
     "metadata": {
      "tags": []
     },
     "output_type": "display_data"
    },
    {
     "name": "stdout",
     "output_type": "stream",
     "text": [
      "threshold@0.5, accuracy: 0.8628\n",
      "[[1911  100]\n",
      " [ 243  246]] \n",
      "\n",
      "             precision    recall  f1-score   support\n",
      "\n",
      "          0       0.89      0.95      0.92      2011\n",
      "          1       0.71      0.50      0.59       489\n",
      "\n",
      "avg / total       0.85      0.86      0.85      2500\n",
      "\n",
      "threshold@0.4346, accuracy: 0.8624\n",
      "[[1897  114]\n",
      " [ 230  259]]\n",
      "             precision    recall  f1-score   support\n",
      "\n",
      "          0       0.89      0.94      0.92      2011\n",
      "          1       0.69      0.53      0.60       489\n",
      "\n",
      "avg / total       0.85      0.86      0.86      2500\n",
      "\n"
     ]
    },
    {
     "name": "stderr",
     "output_type": "stream",
     "text": [
      "/usr/local/lib/python3.6/dist-packages/sklearn/metrics/classification.py:1135: UndefinedMetricWarning: Precision and F-score are ill-defined and being set to 0.0 in labels with no predicted samples.\n",
      "  'precision', 'predicted', average, warn_for)\n"
     ]
    }
   ],
   "source": [
    "def get_model(input_dim):\n",
    "    model = Sequential()\n",
    "    # kernel_regularizer=regularizers.l2(0.005)\n",
    "    model.add(Dense(units = 64, activation = 'relu', kernel_initializer='uniform', input_dim = input_dim))\n",
    "    model.add(Dense(units = 32, activation = 'relu', kernel_initializer='uniform'))\n",
    "    model.add(Dense(units = 16, activation = 'relu', kernel_initializer='uniform'))\n",
    "    model.add(Dense(units = 1, activation = 'sigmoid', kernel_initializer='uniform'))\n",
    "    model.summary()\n",
    "    model.compile(optimizer = 'adam', loss = 'binary_crossentropy', metrics = ['accuracy'])\n",
    "    \n",
    "    return model\n",
    "\n",
    "K.clear_session()\n",
    "\n",
    "model = get_model(input_dim=tr_x_pca.shape[1])\n",
    "hist = model.fit(tr_x_pca, tr_y, validation_data=(vl_x_pca, vl_y), batch_size=100, epochs=30)\n",
    "plot_result(hist)\n",
    "draw_roc_curve(vl_y, model.predict(vl_x_pca))\n",
    "\n",
    "y_pred = model.predict(vl_x_pca)\n",
    "pred_dist(y_pred)\n",
    "analyze(vl_y, y_pred)"
   ]
  },
  {
   "cell_type": "markdown",
   "metadata": {
    "colab_type": "text",
    "id": "TRjEBov5tmux"
   },
   "source": [
    "# AutoEncoder"
   ]
  },
  {
   "cell_type": "code",
   "execution_count": 41,
   "metadata": {
    "colab": {
     "base_uri": "https://localhost:8080/",
     "height": 278
    },
    "colab_type": "code",
    "executionInfo": {
     "elapsed": 869,
     "status": "ok",
     "timestamp": 1539915891438,
     "user": {
      "displayName": "Gary Chen",
      "photoUrl": "",
      "userId": "10783188122132859162"
     },
     "user_tz": -480
    },
    "id": "4DrsTrBdtmuy",
    "outputId": "9ec1ad97-6f85-498b-d6b2-f0369b0a1dfc"
   },
   "outputs": [
    {
     "name": "stdout",
     "output_type": "stream",
     "text": [
      "(7500, 80) (2500, 80)\n"
     ]
    },
    {
     "data": {
      "text/html": [
       "<div>\n",
       "<style scoped>\n",
       "    .dataframe tbody tr th:only-of-type {\n",
       "        vertical-align: middle;\n",
       "    }\n",
       "\n",
       "    .dataframe tbody tr th {\n",
       "        vertical-align: top;\n",
       "    }\n",
       "\n",
       "    .dataframe thead th {\n",
       "        text-align: right;\n",
       "    }\n",
       "</style>\n",
       "<table border=\"1\" class=\"dataframe\">\n",
       "  <thead>\n",
       "    <tr style=\"text-align: right;\">\n",
       "      <th></th>\n",
       "      <th>Gender_Female</th>\n",
       "      <th>HasCrCard_0</th>\n",
       "      <th>IsActiveMember_0</th>\n",
       "      <th>Geography_France</th>\n",
       "      <th>Geography_Germany</th>\n",
       "      <th>Geography_Spain</th>\n",
       "      <th>binn_Age_14-30</th>\n",
       "      <th>binn_Age_30-35</th>\n",
       "      <th>binn_Age_35-40</th>\n",
       "      <th>binn_Age_40-45</th>\n",
       "      <th>...</th>\n",
       "      <th>Age_degree_2</th>\n",
       "      <th>Age_degree_3</th>\n",
       "      <th>Tenure_degree_2</th>\n",
       "      <th>Tenure_degree_3</th>\n",
       "      <th>Balance_degree_2</th>\n",
       "      <th>Balance_degree_3</th>\n",
       "      <th>NumOfProducts_degree_2</th>\n",
       "      <th>NumOfProducts_degree_3</th>\n",
       "      <th>EstimatedSalary_degree_2</th>\n",
       "      <th>EstimatedSalary_degree_3</th>\n",
       "    </tr>\n",
       "  </thead>\n",
       "  <tbody>\n",
       "    <tr>\n",
       "      <th>0</th>\n",
       "      <td>0</td>\n",
       "      <td>1</td>\n",
       "      <td>0</td>\n",
       "      <td>0</td>\n",
       "      <td>1</td>\n",
       "      <td>0</td>\n",
       "      <td>0</td>\n",
       "      <td>0</td>\n",
       "      <td>1</td>\n",
       "      <td>0</td>\n",
       "      <td>...</td>\n",
       "      <td>0.081876</td>\n",
       "      <td>-0.023428</td>\n",
       "      <td>2.982148</td>\n",
       "      <td>-5.149841e+00</td>\n",
       "      <td>0.670681</td>\n",
       "      <td>0.549255</td>\n",
       "      <td>0.646741</td>\n",
       "      <td>0.520110</td>\n",
       "      <td>0.202451</td>\n",
       "      <td>-0.091092</td>\n",
       "    </tr>\n",
       "    <tr>\n",
       "      <th>1</th>\n",
       "      <td>0</td>\n",
       "      <td>1</td>\n",
       "      <td>1</td>\n",
       "      <td>1</td>\n",
       "      <td>0</td>\n",
       "      <td>0</td>\n",
       "      <td>0</td>\n",
       "      <td>0</td>\n",
       "      <td>0</td>\n",
       "      <td>0</td>\n",
       "      <td>...</td>\n",
       "      <td>0.579956</td>\n",
       "      <td>0.441665</td>\n",
       "      <td>2.982148</td>\n",
       "      <td>-5.149841e+00</td>\n",
       "      <td>1.495981</td>\n",
       "      <td>-1.829740</td>\n",
       "      <td>0.834827</td>\n",
       "      <td>-0.762772</td>\n",
       "      <td>2.661079</td>\n",
       "      <td>-4.340968</td>\n",
       "    </tr>\n",
       "    <tr>\n",
       "      <th>2</th>\n",
       "      <td>1</td>\n",
       "      <td>1</td>\n",
       "      <td>1</td>\n",
       "      <td>1</td>\n",
       "      <td>0</td>\n",
       "      <td>0</td>\n",
       "      <td>0</td>\n",
       "      <td>0</td>\n",
       "      <td>0</td>\n",
       "      <td>0</td>\n",
       "      <td>...</td>\n",
       "      <td>9.876301</td>\n",
       "      <td>31.037837</td>\n",
       "      <td>1.074413</td>\n",
       "      <td>-1.113671e+00</td>\n",
       "      <td>1.495981</td>\n",
       "      <td>-1.829740</td>\n",
       "      <td>0.646741</td>\n",
       "      <td>0.520110</td>\n",
       "      <td>0.260524</td>\n",
       "      <td>-0.132975</td>\n",
       "    </tr>\n",
       "    <tr>\n",
       "      <th>3</th>\n",
       "      <td>1</td>\n",
       "      <td>1</td>\n",
       "      <td>0</td>\n",
       "      <td>1</td>\n",
       "      <td>0</td>\n",
       "      <td>0</td>\n",
       "      <td>0</td>\n",
       "      <td>0</td>\n",
       "      <td>0</td>\n",
       "      <td>1</td>\n",
       "      <td>...</td>\n",
       "      <td>0.144834</td>\n",
       "      <td>0.055120</td>\n",
       "      <td>0.475187</td>\n",
       "      <td>3.275649e-01</td>\n",
       "      <td>1.495981</td>\n",
       "      <td>-1.829740</td>\n",
       "      <td>0.646741</td>\n",
       "      <td>0.520110</td>\n",
       "      <td>1.092956</td>\n",
       "      <td>-1.142625</td>\n",
       "    </tr>\n",
       "    <tr>\n",
       "      <th>4</th>\n",
       "      <td>1</td>\n",
       "      <td>1</td>\n",
       "      <td>0</td>\n",
       "      <td>0</td>\n",
       "      <td>1</td>\n",
       "      <td>0</td>\n",
       "      <td>0</td>\n",
       "      <td>0</td>\n",
       "      <td>0</td>\n",
       "      <td>1</td>\n",
       "      <td>...</td>\n",
       "      <td>0.008994</td>\n",
       "      <td>0.000853</td>\n",
       "      <td>0.000001</td>\n",
       "      <td>-1.038016e-09</td>\n",
       "      <td>0.257468</td>\n",
       "      <td>0.130643</td>\n",
       "      <td>0.646741</td>\n",
       "      <td>0.520110</td>\n",
       "      <td>0.768690</td>\n",
       "      <td>-0.673949</td>\n",
       "    </tr>\n",
       "  </tbody>\n",
       "</table>\n",
       "<p>5 rows × 80 columns</p>\n",
       "</div>"
      ],
      "text/plain": [
       "   Gender_Female  HasCrCard_0  IsActiveMember_0  Geography_France  \\\n",
       "0              0            1                 0                 0   \n",
       "1              0            1                 1                 1   \n",
       "2              1            1                 1                 1   \n",
       "3              1            1                 0                 1   \n",
       "4              1            1                 0                 0   \n",
       "\n",
       "   Geography_Germany  Geography_Spain  binn_Age_14-30  binn_Age_30-35  \\\n",
       "0                  1                0               0               0   \n",
       "1                  0                0               0               0   \n",
       "2                  0                0               0               0   \n",
       "3                  0                0               0               0   \n",
       "4                  1                0               0               0   \n",
       "\n",
       "   binn_Age_35-40  binn_Age_40-45            ...             Age_degree_2  \\\n",
       "0               1               0            ...                 0.081876   \n",
       "1               0               0            ...                 0.579956   \n",
       "2               0               0            ...                 9.876301   \n",
       "3               0               1            ...                 0.144834   \n",
       "4               0               1            ...                 0.008994   \n",
       "\n",
       "   Age_degree_3  Tenure_degree_2  Tenure_degree_3  Balance_degree_2  \\\n",
       "0     -0.023428         2.982148    -5.149841e+00          0.670681   \n",
       "1      0.441665         2.982148    -5.149841e+00          1.495981   \n",
       "2     31.037837         1.074413    -1.113671e+00          1.495981   \n",
       "3      0.055120         0.475187     3.275649e-01          1.495981   \n",
       "4      0.000853         0.000001    -1.038016e-09          0.257468   \n",
       "\n",
       "   Balance_degree_3  NumOfProducts_degree_2  NumOfProducts_degree_3  \\\n",
       "0          0.549255                0.646741                0.520110   \n",
       "1         -1.829740                0.834827               -0.762772   \n",
       "2         -1.829740                0.646741                0.520110   \n",
       "3         -1.829740                0.646741                0.520110   \n",
       "4          0.130643                0.646741                0.520110   \n",
       "\n",
       "   EstimatedSalary_degree_2  EstimatedSalary_degree_3  \n",
       "0                  0.202451                 -0.091092  \n",
       "1                  2.661079                 -4.340968  \n",
       "2                  0.260524                 -0.132975  \n",
       "3                  1.092956                 -1.142625  \n",
       "4                  0.768690                 -0.673949  \n",
       "\n",
       "[5 rows x 80 columns]"
      ]
     },
     "execution_count": 41,
     "metadata": {
      "tags": []
     },
     "output_type": "execute_result"
    }
   ],
   "source": [
    "# Trnasform raw data to foramt model recognized\n",
    "tr_x, tr_y, status = feature_engineering(raw, is_train=True)\n",
    "vl_x, vl_y, _ = feature_engineering(raw_vl, is_train=False, status=status)\n",
    "\n",
    "print( tr_x.shape, vl_x.shape )\n",
    "tr_x.head()"
   ]
  },
  {
   "cell_type": "markdown",
   "metadata": {
    "colab_type": "text",
    "id": "kvc772t3F7UY"
   },
   "source": [
    "## (LAB) Model (AutoEncoder)\n",
    "\n",
    "* 調整AutoEncoder架構, 目前valid loss約0.003, 是否減少層數也能夠達到0.003以下的loss, 或者增加層數獲取更低的loss"
   ]
  },
  {
   "cell_type": "code",
   "execution_count": 42,
   "metadata": {
    "colab": {
     "base_uri": "https://localhost:8080/",
     "height": 3714
    },
    "colab_type": "code",
    "executionInfo": {
     "elapsed": 35910,
     "status": "ok",
     "timestamp": 1539915927424,
     "user": {
      "displayName": "Gary Chen",
      "photoUrl": "",
      "userId": "10783188122132859162"
     },
     "user_tz": -480
    },
    "id": "KSA2_hJstmu1",
    "outputId": "ec19fc74-b433-4b20-a5ad-18d3e49d0123",
    "scrolled": true
   },
   "outputs": [
    {
     "name": "stdout",
     "output_type": "stream",
     "text": [
      "Train on 7500 samples, validate on 2500 samples\n",
      "Epoch 1/100\n",
      "7500/7500 [==============================] - 1s 125us/step - loss: 0.9183 - val_loss: 0.2316\n",
      "Epoch 2/100\n",
      "7500/7500 [==============================] - 0s 46us/step - loss: 0.1620 - val_loss: 0.1109\n",
      "Epoch 3/100\n",
      "7500/7500 [==============================] - 0s 45us/step - loss: 0.0948 - val_loss: 0.0757\n",
      "Epoch 4/100\n",
      "7500/7500 [==============================] - 0s 45us/step - loss: 0.0682 - val_loss: 0.0605\n",
      "Epoch 5/100\n",
      "7500/7500 [==============================] - 0s 45us/step - loss: 0.0538 - val_loss: 0.0474\n",
      "Epoch 6/100\n",
      "7500/7500 [==============================] - 0s 46us/step - loss: 0.0440 - val_loss: 0.0392\n",
      "Epoch 7/100\n",
      "7500/7500 [==============================] - 0s 45us/step - loss: 0.0365 - val_loss: 0.0317\n",
      "Epoch 8/100\n",
      "7500/7500 [==============================] - 0s 44us/step - loss: 0.0317 - val_loss: 0.0297\n",
      "Epoch 9/100\n",
      "7500/7500 [==============================] - 0s 44us/step - loss: 0.0270 - val_loss: 0.0256\n",
      "Epoch 10/100\n",
      "7500/7500 [==============================] - 0s 46us/step - loss: 0.0230 - val_loss: 0.0222\n",
      "Epoch 11/100\n",
      "7500/7500 [==============================] - 0s 44us/step - loss: 0.0212 - val_loss: 0.0197\n",
      "Epoch 12/100\n",
      "7500/7500 [==============================] - 0s 44us/step - loss: 0.0200 - val_loss: 0.0189\n",
      "Epoch 13/100\n",
      "7500/7500 [==============================] - 0s 46us/step - loss: 0.0177 - val_loss: 0.0177\n",
      "Epoch 14/100\n",
      "7500/7500 [==============================] - 0s 45us/step - loss: 0.0167 - val_loss: 0.0153\n",
      "Epoch 15/100\n",
      "7500/7500 [==============================] - 0s 46us/step - loss: 0.0154 - val_loss: 0.0142\n",
      "Epoch 16/100\n",
      "7500/7500 [==============================] - 0s 45us/step - loss: 0.0139 - val_loss: 0.0136\n",
      "Epoch 17/100\n",
      "7500/7500 [==============================] - 0s 44us/step - loss: 0.0131 - val_loss: 0.0129\n",
      "Epoch 18/100\n",
      "7500/7500 [==============================] - 0s 46us/step - loss: 0.0119 - val_loss: 0.0132\n",
      "Epoch 19/100\n",
      "7500/7500 [==============================] - 0s 45us/step - loss: 0.0112 - val_loss: 0.0109\n",
      "Epoch 20/100\n",
      "7500/7500 [==============================] - 0s 44us/step - loss: 0.0110 - val_loss: 0.0113\n",
      "Epoch 21/100\n",
      "7500/7500 [==============================] - 0s 45us/step - loss: 0.0136 - val_loss: 0.0127\n",
      "Epoch 22/100\n",
      "7500/7500 [==============================] - 0s 44us/step - loss: 0.0125 - val_loss: 0.0106\n",
      "Epoch 23/100\n",
      "7500/7500 [==============================] - 0s 45us/step - loss: 0.0098 - val_loss: 0.0103\n",
      "Epoch 24/100\n",
      "7500/7500 [==============================] - 0s 46us/step - loss: 0.0092 - val_loss: 0.0088\n",
      "Epoch 25/100\n",
      "7500/7500 [==============================] - 0s 47us/step - loss: 0.0081 - val_loss: 0.0087\n",
      "Epoch 26/100\n",
      "7500/7500 [==============================] - 0s 45us/step - loss: 0.0094 - val_loss: 0.0093\n",
      "Epoch 27/100\n",
      "7500/7500 [==============================] - 0s 46us/step - loss: 0.0097 - val_loss: 0.0087\n",
      "Epoch 28/100\n",
      "7500/7500 [==============================] - 0s 45us/step - loss: 0.0073 - val_loss: 0.0074\n",
      "Epoch 29/100\n",
      "7500/7500 [==============================] - 0s 44us/step - loss: 0.0076 - val_loss: 0.0083\n",
      "Epoch 30/100\n",
      "7500/7500 [==============================] - 0s 44us/step - loss: 0.0071 - val_loss: 0.0067\n",
      "Epoch 31/100\n",
      "7500/7500 [==============================] - 0s 44us/step - loss: 0.0077 - val_loss: 0.0075\n",
      "Epoch 32/100\n",
      "7500/7500 [==============================] - 0s 44us/step - loss: 0.0068 - val_loss: 0.0063\n",
      "Epoch 33/100\n",
      "7500/7500 [==============================] - 0s 43us/step - loss: 0.0061 - val_loss: 0.0061\n",
      "Epoch 34/100\n",
      "7500/7500 [==============================] - 0s 44us/step - loss: 0.0059 - val_loss: 0.0064\n",
      "Epoch 35/100\n",
      "7500/7500 [==============================] - 0s 44us/step - loss: 0.0061 - val_loss: 0.0090\n",
      "Epoch 36/100\n",
      "7500/7500 [==============================] - 0s 45us/step - loss: 0.0064 - val_loss: 0.0060\n",
      "Epoch 37/100\n",
      "7500/7500 [==============================] - 0s 44us/step - loss: 0.0059 - val_loss: 0.0054\n",
      "Epoch 38/100\n",
      "7500/7500 [==============================] - 0s 43us/step - loss: 0.0055 - val_loss: 0.0053\n",
      "Epoch 39/100\n",
      "7500/7500 [==============================] - 0s 45us/step - loss: 0.0051 - val_loss: 0.0075\n",
      "Epoch 40/100\n",
      "7500/7500 [==============================] - 0s 45us/step - loss: 0.0063 - val_loss: 0.0077\n",
      "Epoch 41/100\n",
      "7500/7500 [==============================] - 0s 45us/step - loss: 0.0069 - val_loss: 0.0060\n",
      "Epoch 42/100\n",
      "7500/7500 [==============================] - 0s 44us/step - loss: 0.0055 - val_loss: 0.0053\n",
      "Epoch 43/100\n",
      "7500/7500 [==============================] - 0s 45us/step - loss: 0.0045 - val_loss: 0.0043\n",
      "Epoch 44/100\n",
      "7500/7500 [==============================] - 0s 45us/step - loss: 0.0043 - val_loss: 0.0047\n",
      "Epoch 45/100\n",
      "7500/7500 [==============================] - 0s 45us/step - loss: 0.0042 - val_loss: 0.0044\n",
      "Epoch 46/100\n",
      "7500/7500 [==============================] - 0s 44us/step - loss: 0.0050 - val_loss: 0.0067\n",
      "Epoch 47/100\n",
      "7500/7500 [==============================] - 0s 43us/step - loss: 0.0061 - val_loss: 0.0073\n",
      "Epoch 48/100\n",
      "7500/7500 [==============================] - 0s 44us/step - loss: 0.0058 - val_loss: 0.0058\n",
      "Epoch 49/100\n",
      "7500/7500 [==============================] - 0s 46us/step - loss: 0.0059 - val_loss: 0.0073\n",
      "Epoch 50/100\n",
      "7500/7500 [==============================] - 0s 45us/step - loss: 0.0057 - val_loss: 0.0055\n",
      "Epoch 51/100\n",
      "7500/7500 [==============================] - 0s 44us/step - loss: 0.0045 - val_loss: 0.0055\n",
      "Epoch 52/100\n",
      "7500/7500 [==============================] - 0s 45us/step - loss: 0.0053 - val_loss: 0.0052\n",
      "Epoch 53/100\n",
      "7500/7500 [==============================] - 0s 43us/step - loss: 0.0045 - val_loss: 0.0045\n",
      "Epoch 54/100\n",
      "7500/7500 [==============================] - 0s 44us/step - loss: 0.0046 - val_loss: 0.0057\n",
      "Epoch 55/100\n",
      "7500/7500 [==============================] - 0s 44us/step - loss: 0.0043 - val_loss: 0.0048\n",
      "Epoch 56/100\n",
      "7500/7500 [==============================] - 0s 44us/step - loss: 0.0046 - val_loss: 0.0046\n",
      "Epoch 57/100\n",
      "7500/7500 [==============================] - 0s 45us/step - loss: 0.0048 - val_loss: 0.0043\n",
      "Epoch 58/100\n",
      "7500/7500 [==============================] - 0s 44us/step - loss: 0.0041 - val_loss: 0.0049\n",
      "Epoch 59/100\n",
      "7500/7500 [==============================] - 0s 44us/step - loss: 0.0035 - val_loss: 0.0035\n",
      "Epoch 60/100\n",
      "7500/7500 [==============================] - 0s 44us/step - loss: 0.0032 - val_loss: 0.0036\n",
      "Epoch 61/100\n",
      "7500/7500 [==============================] - 0s 45us/step - loss: 0.0036 - val_loss: 0.0048\n",
      "Epoch 62/100\n",
      "7500/7500 [==============================] - 0s 43us/step - loss: 0.0056 - val_loss: 0.0066\n",
      "Epoch 63/100\n",
      "7500/7500 [==============================] - 0s 44us/step - loss: 0.0046 - val_loss: 0.0035\n",
      "Epoch 64/100\n",
      "7500/7500 [==============================] - 0s 44us/step - loss: 0.0035 - val_loss: 0.0042\n",
      "Epoch 65/100\n",
      "7500/7500 [==============================] - 0s 45us/step - loss: 0.0035 - val_loss: 0.0034\n",
      "Epoch 66/100\n",
      "7500/7500 [==============================] - 0s 44us/step - loss: 0.0033 - val_loss: 0.0029\n",
      "Epoch 67/100\n",
      "7500/7500 [==============================] - 0s 44us/step - loss: 0.0031 - val_loss: 0.0030\n",
      "Epoch 68/100\n",
      "7500/7500 [==============================] - 0s 43us/step - loss: 0.0032 - val_loss: 0.0034\n",
      "Epoch 69/100\n",
      "7500/7500 [==============================] - 0s 45us/step - loss: 0.0034 - val_loss: 0.0034\n",
      "Epoch 70/100\n",
      "7500/7500 [==============================] - 0s 44us/step - loss: 0.0029 - val_loss: 0.0031\n",
      "Epoch 71/100\n",
      "7500/7500 [==============================] - 0s 44us/step - loss: 0.0032 - val_loss: 0.0029\n",
      "Epoch 72/100\n",
      "7500/7500 [==============================] - 0s 45us/step - loss: 0.0029 - val_loss: 0.0034\n",
      "Epoch 73/100\n",
      "7500/7500 [==============================] - 0s 47us/step - loss: 0.0032 - val_loss: 0.0031\n",
      "Epoch 74/100\n",
      "7500/7500 [==============================] - 0s 44us/step - loss: 0.0041 - val_loss: 0.0038\n",
      "Epoch 75/100\n",
      "7500/7500 [==============================] - 0s 45us/step - loss: 0.0040 - val_loss: 0.0039\n",
      "Epoch 76/100\n",
      "7500/7500 [==============================] - 0s 44us/step - loss: 0.0033 - val_loss: 0.0028\n",
      "Epoch 77/100\n",
      "7500/7500 [==============================] - 0s 44us/step - loss: 0.0032 - val_loss: 0.0036\n",
      "Epoch 78/100\n",
      "7500/7500 [==============================] - 0s 45us/step - loss: 0.0035 - val_loss: 0.0033\n",
      "Epoch 79/100\n",
      "7500/7500 [==============================] - 0s 44us/step - loss: 0.0036 - val_loss: 0.0046\n",
      "Epoch 80/100\n",
      "7500/7500 [==============================] - 0s 44us/step - loss: 0.0029 - val_loss: 0.0028\n",
      "Epoch 81/100\n",
      "7500/7500 [==============================] - 0s 45us/step - loss: 0.0025 - val_loss: 0.0025\n",
      "Epoch 82/100\n",
      "7500/7500 [==============================] - 0s 45us/step - loss: 0.0024 - val_loss: 0.0037\n",
      "Epoch 83/100\n",
      "7500/7500 [==============================] - 0s 44us/step - loss: 0.0030 - val_loss: 0.0026\n",
      "Epoch 84/100\n",
      "7500/7500 [==============================] - 0s 45us/step - loss: 0.0038 - val_loss: 0.0099\n",
      "Epoch 85/100\n",
      "7500/7500 [==============================] - 0s 45us/step - loss: 0.0144 - val_loss: 0.0058\n",
      "Epoch 86/100\n",
      "7500/7500 [==============================] - 0s 44us/step - loss: 0.0042 - val_loss: 0.0032\n",
      "Epoch 87/100\n",
      "7500/7500 [==============================] - 0s 45us/step - loss: 0.0026 - val_loss: 0.0034\n",
      "Epoch 88/100\n",
      "7500/7500 [==============================] - 0s 45us/step - loss: 0.0026 - val_loss: 0.0027\n",
      "Epoch 89/100\n",
      "7500/7500 [==============================] - 0s 45us/step - loss: 0.0028 - val_loss: 0.0027\n",
      "Epoch 90/100\n",
      "7500/7500 [==============================] - 0s 46us/step - loss: 0.0024 - val_loss: 0.0033\n",
      "Epoch 91/100\n",
      "7500/7500 [==============================] - 0s 45us/step - loss: 0.0034 - val_loss: 0.0040\n",
      "Epoch 92/100\n",
      "7500/7500 [==============================] - 0s 45us/step - loss: 0.0026 - val_loss: 0.0025\n",
      "Epoch 93/100\n",
      "7500/7500 [==============================] - 0s 46us/step - loss: 0.0026 - val_loss: 0.0028\n",
      "Epoch 94/100\n",
      "7500/7500 [==============================] - 0s 45us/step - loss: 0.0029 - val_loss: 0.0031\n",
      "Epoch 95/100\n",
      "7500/7500 [==============================] - 0s 45us/step - loss: 0.0075 - val_loss: 0.0043\n",
      "Epoch 96/100\n",
      "7500/7500 [==============================] - 0s 46us/step - loss: 0.0032 - val_loss: 0.0027\n",
      "Epoch 97/100\n",
      "7500/7500 [==============================] - 0s 46us/step - loss: 0.0022 - val_loss: 0.0024\n",
      "Epoch 98/100\n",
      "7500/7500 [==============================] - 0s 45us/step - loss: 0.0023 - val_loss: 0.0032\n",
      "Epoch 99/100\n",
      "7500/7500 [==============================] - 0s 45us/step - loss: 0.0029 - val_loss: 0.0028\n",
      "Epoch 100/100\n",
      "7500/7500 [==============================] - 0s 44us/step - loss: 0.0085 - val_loss: 0.0072\n"
     ]
    },
    {
     "data": {
      "image/png": "[encoded data removed]",
      "text/plain": [
       "<matplotlib.figure.Figure at 0x7f84d6f981d0>"
      ]
     },
     "metadata": {
      "tags": []
     },
     "output_type": "display_data"
    }
   ],
   "source": [
    "K.clear_session()\n",
    "\n",
    "inputs_dim = tr_x.shape[1]\n",
    "\n",
    "inputs = Input(shape=(inputs_dim, ))\n",
    "# Encoder\n",
    "encoded = Dense(inputs_dim, activation='selu')(inputs)\n",
    "encoded = Dense(128, activation='selu')(encoded)\n",
    "encoded = Dense(64, activation='selu')(encoded)\n",
    "\n",
    "encoded = Dense(64, activation='selu')(encoded)\n",
    "\n",
    "# Decoder\n",
    "decoded = Dense(64, activation='selu')(encoded)\n",
    "decoded = Dense(128, activation='selu')(decoded)\n",
    "decoded = Dense(inputs_dim, activation='linear')(decoded)\n",
    "\n",
    "# this model maps an input to its reconstruction\n",
    "autoencoder = Model(inputs, decoded)\n",
    "\n",
    "# this model maps an input to its encoded representation\n",
    "encoder = Model(inputs, encoded)\n",
    "\n",
    "# Adam Optimizer + Mean square error loss\n",
    "autoencoder.compile(optimizer='adam', loss='mse')\n",
    "hist = autoencoder.fit(\n",
    "    tr_x, tr_x, \n",
    "    epochs=100, \n",
    "    batch_size=200, \n",
    "    shuffle=True, \n",
    "    validation_data=(vl_x, vl_x))\n",
    "\n",
    "def plot_ae(hist):\n",
    "    plt.figure(figsize=(16, 5))\n",
    "    plt.plot(hist.history['loss'], label='tr_loss')\n",
    "    plt.plot(hist.history['val_loss'], label='vl_loss')\n",
    "    plt.title('Loss')\n",
    "    plt.legend(loc='best')\n",
    "    plt.show()\n",
    "    \n",
    "plot_ae(hist)"
   ]
  },
  {
   "cell_type": "code",
   "execution_count": 46,
   "metadata": {
    "colab": {
     "base_uri": "https://localhost:8080/",
     "height": 1102
    },
    "colab_type": "code",
    "executionInfo": {
     "elapsed": 919,
     "status": "error",
     "timestamp": 1539915937844,
     "user": {
      "displayName": "Gary Chen",
      "photoUrl": "",
      "userId": "10783188122132859162"
     },
     "user_tz": -480
    },
    "id": "LP_e2nEqtmu4",
    "outputId": "a9d2104c-225f-4ae5-a70c-bc104c591d8a",
    "scrolled": true
   },
   "outputs": [
    {
     "ename": "TypeError",
     "evalue": "ignored",
     "output_type": "error",
     "traceback": [
      "\u001b[0;31m---------------------------------------------------------------------------\u001b[0m",
      "\u001b[0;31mValueError\u001b[0m                                Traceback (most recent call last)",
      "\u001b[0;32m/usr/local/lib/python3.6/dist-packages/tensorflow/python/client/session.py\u001b[0m in \u001b[0;36m_run\u001b[0;34m(self, handle, fetches, feed_dict, options, run_metadata)\u001b[0m\n\u001b[1;32m   1049\u001b[0m             subfeed_t = self.graph.as_graph_element(\n\u001b[0;32m-> 1050\u001b[0;31m                 subfeed, allow_tensor=True, allow_operation=False)\n\u001b[0m\u001b[1;32m   1051\u001b[0m           \u001b[0;32mexcept\u001b[0m \u001b[0mException\u001b[0m \u001b[0;32mas\u001b[0m \u001b[0me\u001b[0m\u001b[0;34m:\u001b[0m\u001b[0;34m\u001b[0m\u001b[0m\n",
      "\u001b[0;32m/usr/local/lib/python3.6/dist-packages/tensorflow/python/framework/ops.py\u001b[0m in \u001b[0;36mas_graph_element\u001b[0;34m(self, obj, allow_tensor, allow_operation)\u001b[0m\n\u001b[1;32m   3487\u001b[0m     \u001b[0;32mwith\u001b[0m \u001b[0mself\u001b[0m\u001b[0;34m.\u001b[0m\u001b[0m_lock\u001b[0m\u001b[0;34m:\u001b[0m\u001b[0;34m\u001b[0m\u001b[0m\n\u001b[0;32m-> 3488\u001b[0;31m       \u001b[0;32mreturn\u001b[0m \u001b[0mself\u001b[0m\u001b[0;34m.\u001b[0m\u001b[0m_as_graph_element_locked\u001b[0m\u001b[0;34m(\u001b[0m\u001b[0mobj\u001b[0m\u001b[0;34m,\u001b[0m \u001b[0mallow_tensor\u001b[0m\u001b[0;34m,\u001b[0m \u001b[0mallow_operation\u001b[0m\u001b[0;34m)\u001b[0m\u001b[0;34m\u001b[0m\u001b[0m\n\u001b[0m\u001b[1;32m   3489\u001b[0m \u001b[0;34m\u001b[0m\u001b[0m\n",
      "\u001b[0;32m/usr/local/lib/python3.6/dist-packages/tensorflow/python/framework/ops.py\u001b[0m in \u001b[0;36m_as_graph_element_locked\u001b[0;34m(self, obj, allow_tensor, allow_operation)\u001b[0m\n\u001b[1;32m   3566\u001b[0m       \u001b[0;32mif\u001b[0m \u001b[0mobj\u001b[0m\u001b[0;34m.\u001b[0m\u001b[0mgraph\u001b[0m \u001b[0;32mis\u001b[0m \u001b[0;32mnot\u001b[0m \u001b[0mself\u001b[0m\u001b[0;34m:\u001b[0m\u001b[0;34m\u001b[0m\u001b[0m\n\u001b[0;32m-> 3567\u001b[0;31m         \u001b[0;32mraise\u001b[0m \u001b[0mValueError\u001b[0m\u001b[0;34m(\u001b[0m\u001b[0;34m\"Tensor %s is not an element of this graph.\"\u001b[0m \u001b[0;34m%\u001b[0m \u001b[0mobj\u001b[0m\u001b[0;34m)\u001b[0m\u001b[0;34m\u001b[0m\u001b[0m\n\u001b[0m\u001b[1;32m   3568\u001b[0m       \u001b[0;32mreturn\u001b[0m \u001b[0mobj\u001b[0m\u001b[0;34m\u001b[0m\u001b[0m\n",
      "\u001b[0;31mValueError\u001b[0m: Tensor Tensor(\"input_1:0\", shape=(?, 80), dtype=float32) is not an element of this graph.",
      "\nDuring handling of the above exception, another exception occurred:\n",
      "\u001b[0;31mTypeError\u001b[0m                                 Traceback (most recent call last)",
      "\u001b[0;32m<ipython-input-46-ce4e153c5286>\u001b[0m in \u001b[0;36m<module>\u001b[0;34m()\u001b[0m\n\u001b[0;32m----> 1\u001b[0;31m \u001b[0mtr_x_ae\u001b[0m \u001b[0;34m=\u001b[0m \u001b[0mencoder\u001b[0m\u001b[0;34m.\u001b[0m\u001b[0mpredict\u001b[0m\u001b[0;34m(\u001b[0m\u001b[0mtr_x\u001b[0m\u001b[0;34m)\u001b[0m\u001b[0;34m\u001b[0m\u001b[0m\n\u001b[0m\u001b[1;32m      2\u001b[0m \u001b[0mvl_x_ae\u001b[0m \u001b[0;34m=\u001b[0m \u001b[0mencoder\u001b[0m\u001b[0;34m.\u001b[0m\u001b[0mpredict\u001b[0m\u001b[0;34m(\u001b[0m\u001b[0mvl_x\u001b[0m\u001b[0;34m)\u001b[0m\u001b[0;34m\u001b[0m\u001b[0m\n",
      "\u001b[0;32m/usr/local/lib/python3.6/dist-packages/keras/engine/training.py\u001b[0m in \u001b[0;36mpredict\u001b[0;34m(self, x, batch_size, verbose, steps)\u001b[0m\n\u001b[1;32m   1833\u001b[0m         \u001b[0mf\u001b[0m \u001b[0;34m=\u001b[0m \u001b[0mself\u001b[0m\u001b[0;34m.\u001b[0m\u001b[0mpredict_function\u001b[0m\u001b[0;34m\u001b[0m\u001b[0m\n\u001b[1;32m   1834\u001b[0m         return self._predict_loop(f, ins, batch_size=batch_size,\n\u001b[0;32m-> 1835\u001b[0;31m                                   verbose=verbose, steps=steps)\n\u001b[0m\u001b[1;32m   1836\u001b[0m \u001b[0;34m\u001b[0m\u001b[0m\n\u001b[1;32m   1837\u001b[0m     def train_on_batch(self, x, y,\n",
      "\u001b[0;32m/usr/local/lib/python3.6/dist-packages/keras/engine/training.py\u001b[0m in \u001b[0;36m_predict_loop\u001b[0;34m(self, f, ins, batch_size, verbose, steps)\u001b[0m\n\u001b[1;32m   1329\u001b[0m                     \u001b[0mins_batch\u001b[0m\u001b[0;34m[\u001b[0m\u001b[0mi\u001b[0m\u001b[0;34m]\u001b[0m \u001b[0;34m=\u001b[0m \u001b[0mins_batch\u001b[0m\u001b[0;34m[\u001b[0m\u001b[0mi\u001b[0m\u001b[0;34m]\u001b[0m\u001b[0;34m.\u001b[0m\u001b[0mtoarray\u001b[0m\u001b[0;34m(\u001b[0m\u001b[0;34m)\u001b[0m\u001b[0;34m\u001b[0m\u001b[0m\n\u001b[1;32m   1330\u001b[0m \u001b[0;34m\u001b[0m\u001b[0m\n\u001b[0;32m-> 1331\u001b[0;31m                 \u001b[0mbatch_outs\u001b[0m \u001b[0;34m=\u001b[0m \u001b[0mf\u001b[0m\u001b[0;34m(\u001b[0m\u001b[0mins_batch\u001b[0m\u001b[0;34m)\u001b[0m\u001b[0;34m\u001b[0m\u001b[0m\n\u001b[0m\u001b[1;32m   1332\u001b[0m                 \u001b[0;32mif\u001b[0m \u001b[0;32mnot\u001b[0m \u001b[0misinstance\u001b[0m\u001b[0;34m(\u001b[0m\u001b[0mbatch_outs\u001b[0m\u001b[0;34m,\u001b[0m \u001b[0mlist\u001b[0m\u001b[0;34m)\u001b[0m\u001b[0;34m:\u001b[0m\u001b[0;34m\u001b[0m\u001b[0m\n\u001b[1;32m   1333\u001b[0m                     \u001b[0mbatch_outs\u001b[0m \u001b[0;34m=\u001b[0m \u001b[0;34m[\u001b[0m\u001b[0mbatch_outs\u001b[0m\u001b[0;34m]\u001b[0m\u001b[0;34m\u001b[0m\u001b[0m\n",
      "\u001b[0;32m/usr/local/lib/python3.6/dist-packages/keras/backend/tensorflow_backend.py\u001b[0m in \u001b[0;36m__call__\u001b[0;34m(self, inputs)\u001b[0m\n\u001b[1;32m   2480\u001b[0m         \u001b[0msession\u001b[0m \u001b[0;34m=\u001b[0m \u001b[0mget_session\u001b[0m\u001b[0;34m(\u001b[0m\u001b[0;34m)\u001b[0m\u001b[0;34m\u001b[0m\u001b[0m\n\u001b[1;32m   2481\u001b[0m         updated = session.run(fetches=fetches, feed_dict=feed_dict,\n\u001b[0;32m-> 2482\u001b[0;31m                               **self.session_kwargs)\n\u001b[0m\u001b[1;32m   2483\u001b[0m         \u001b[0;32mreturn\u001b[0m \u001b[0mupdated\u001b[0m\u001b[0;34m[\u001b[0m\u001b[0;34m:\u001b[0m\u001b[0mlen\u001b[0m\u001b[0;34m(\u001b[0m\u001b[0mself\u001b[0m\u001b[0;34m.\u001b[0m\u001b[0moutputs\u001b[0m\u001b[0;34m)\u001b[0m\u001b[0;34m]\u001b[0m\u001b[0;34m\u001b[0m\u001b[0m\n\u001b[1;32m   2484\u001b[0m \u001b[0;34m\u001b[0m\u001b[0m\n",
      "\u001b[0;32m/usr/local/lib/python3.6/dist-packages/tensorflow/python/client/session.py\u001b[0m in \u001b[0;36mrun\u001b[0;34m(self, fetches, feed_dict, options, run_metadata)\u001b[0m\n\u001b[1;32m    885\u001b[0m     \u001b[0;32mtry\u001b[0m\u001b[0;34m:\u001b[0m\u001b[0;34m\u001b[0m\u001b[0m\n\u001b[1;32m    886\u001b[0m       result = self._run(None, fetches, feed_dict, options_ptr,\n\u001b[0;32m--> 887\u001b[0;31m                          run_metadata_ptr)\n\u001b[0m\u001b[1;32m    888\u001b[0m       \u001b[0;32mif\u001b[0m \u001b[0mrun_metadata\u001b[0m\u001b[0;34m:\u001b[0m\u001b[0;34m\u001b[0m\u001b[0m\n\u001b[1;32m    889\u001b[0m         \u001b[0mproto_data\u001b[0m \u001b[0;34m=\u001b[0m \u001b[0mtf_session\u001b[0m\u001b[0;34m.\u001b[0m\u001b[0mTF_GetBuffer\u001b[0m\u001b[0;34m(\u001b[0m\u001b[0mrun_metadata_ptr\u001b[0m\u001b[0;34m)\u001b[0m\u001b[0;34m\u001b[0m\u001b[0m\n",
      "\u001b[0;32m/usr/local/lib/python3.6/dist-packages/tensorflow/python/client/session.py\u001b[0m in \u001b[0;36m_run\u001b[0;34m(self, handle, fetches, feed_dict, options, run_metadata)\u001b[0m\n\u001b[1;32m   1051\u001b[0m           \u001b[0;32mexcept\u001b[0m \u001b[0mException\u001b[0m \u001b[0;32mas\u001b[0m \u001b[0me\u001b[0m\u001b[0;34m:\u001b[0m\u001b[0;34m\u001b[0m\u001b[0m\n\u001b[1;32m   1052\u001b[0m             raise TypeError(\n\u001b[0;32m-> 1053\u001b[0;31m                 'Cannot interpret feed_dict key as Tensor: ' + e.args[0])\n\u001b[0m\u001b[1;32m   1054\u001b[0m \u001b[0;34m\u001b[0m\u001b[0m\n\u001b[1;32m   1055\u001b[0m           \u001b[0;32mif\u001b[0m \u001b[0misinstance\u001b[0m\u001b[0;34m(\u001b[0m\u001b[0msubfeed_val\u001b[0m\u001b[0;34m,\u001b[0m \u001b[0mops\u001b[0m\u001b[0;34m.\u001b[0m\u001b[0mTensor\u001b[0m\u001b[0;34m)\u001b[0m\u001b[0;34m:\u001b[0m\u001b[0;34m\u001b[0m\u001b[0m\n",
      "\u001b[0;31mTypeError\u001b[0m: Cannot interpret feed_dict key as Tensor: Tensor Tensor(\"input_1:0\", shape=(?, 80), dtype=float32) is not an element of this graph."
     ]
    }
   ],
   "source": [
    "tr_x_ae = encoder.predict(tr_x)\n",
    "vl_x_ae = encoder.predict(vl_x)"
   ]
  },
  {
   "cell_type": "code",
   "execution_count": 44,
   "metadata": {
    "colab": {
     "base_uri": "https://localhost:8080/",
     "height": 34
    },
    "colab_type": "code",
    "executionInfo": {
     "elapsed": 770,
     "status": "ok",
     "timestamp": 1539915929213,
     "user": {
      "displayName": "Gary Chen",
      "photoUrl": "",
      "userId": "10783188122132859162"
     },
     "user_tz": -480
    },
    "id": "n0Y3LIONtmu7",
    "outputId": "5d98cee1-3d5e-4529-d539-3de9d79bdf80"
   },
   "outputs": [
    {
     "data": {
      "text/plain": [
       "((7500, 64), (2500, 64))"
      ]
     },
     "execution_count": 44,
     "metadata": {
      "tags": []
     },
     "output_type": "execute_result"
    }
   ],
   "source": [
    "tr_x_ae.shape, vl_x_ae.shape"
   ]
  },
  {
   "cell_type": "markdown",
   "metadata": {
    "colab_type": "text",
    "id": "QJl4DOVhF7Uf"
   },
   "source": [
    "## (LAB) Model (After AutoEncoder)\n",
    "\n",
    "* 調整network架構\n",
    "* 調整analyze的beta參數(0.1 ~ 2), 觀察precision, recall變化"
   ]
  },
  {
   "cell_type": "code",
   "execution_count": 45,
   "metadata": {
    "colab": {
     "base_uri": "https://localhost:8080/",
     "height": 3355
    },
    "colab_type": "code",
    "executionInfo": {
     "elapsed": 7586,
     "status": "ok",
     "timestamp": 1539915936868,
     "user": {
      "displayName": "Gary Chen",
      "photoUrl": "",
      "userId": "10783188122132859162"
     },
     "user_tz": -480
    },
    "id": "SsnEuTt3tmu-",
    "outputId": "af12c933-3d7d-43a7-ccde-5e891905b65e",
    "scrolled": true
   },
   "outputs": [
    {
     "name": "stdout",
     "output_type": "stream",
     "text": [
      "_________________________________________________________________\n",
      "Layer (type)                 Output Shape              Param #   \n",
      "=================================================================\n",
      "dense_1 (Dense)              (None, 64)                4160      \n",
      "_________________________________________________________________\n",
      "dense_2 (Dense)              (None, 32)                2080      \n",
      "_________________________________________________________________\n",
      "dense_3 (Dense)              (None, 16)                528       \n",
      "_________________________________________________________________\n",
      "dense_4 (Dense)              (None, 1)                 17        \n",
      "=================================================================\n",
      "Total params: 6,785\n",
      "Trainable params: 6,785\n",
      "Non-trainable params: 0\n",
      "_________________________________________________________________\n",
      "Train on 7500 samples, validate on 2500 samples\n",
      "Epoch 1/30\n",
      "7500/7500 [==============================] - 0s 64us/step - loss: 0.5629 - acc: 0.7871 - val_loss: 0.4536 - val_acc: 0.8100\n",
      "Epoch 2/30\n",
      "7500/7500 [==============================] - 0s 21us/step - loss: 0.4290 - acc: 0.8148 - val_loss: 0.3774 - val_acc: 0.8360\n",
      "Epoch 3/30\n",
      "7500/7500 [==============================] - 0s 20us/step - loss: 0.3741 - acc: 0.8443 - val_loss: 0.3588 - val_acc: 0.8444\n",
      "Epoch 4/30\n",
      "7500/7500 [==============================] - 0s 21us/step - loss: 0.3626 - acc: 0.8511 - val_loss: 0.3457 - val_acc: 0.8584\n",
      "Epoch 5/30\n",
      "7500/7500 [==============================] - 0s 20us/step - loss: 0.3635 - acc: 0.8483 - val_loss: 0.3458 - val_acc: 0.8532\n",
      "Epoch 6/30\n",
      "7500/7500 [==============================] - 0s 21us/step - loss: 0.3608 - acc: 0.8536 - val_loss: 0.3477 - val_acc: 0.8608\n",
      "Epoch 7/30\n",
      "7500/7500 [==============================] - 0s 21us/step - loss: 0.3581 - acc: 0.8545 - val_loss: 0.3435 - val_acc: 0.8616\n",
      "Epoch 8/30\n",
      "7500/7500 [==============================] - 0s 22us/step - loss: 0.3568 - acc: 0.8563 - val_loss: 0.3441 - val_acc: 0.8596\n",
      "Epoch 9/30\n",
      "7500/7500 [==============================] - 0s 21us/step - loss: 0.3552 - acc: 0.8556 - val_loss: 0.3550 - val_acc: 0.8504\n",
      "Epoch 10/30\n",
      "7500/7500 [==============================] - 0s 21us/step - loss: 0.3533 - acc: 0.8567 - val_loss: 0.3520 - val_acc: 0.8516\n",
      "Epoch 11/30\n",
      "7500/7500 [==============================] - 0s 21us/step - loss: 0.3536 - acc: 0.8564 - val_loss: 0.3417 - val_acc: 0.8584\n",
      "Epoch 12/30\n",
      "7500/7500 [==============================] - 0s 21us/step - loss: 0.3526 - acc: 0.8565 - val_loss: 0.3400 - val_acc: 0.8580\n",
      "Epoch 13/30\n",
      "7500/7500 [==============================] - 0s 21us/step - loss: 0.3528 - acc: 0.8537 - val_loss: 0.3408 - val_acc: 0.8572\n",
      "Epoch 14/30\n",
      "7500/7500 [==============================] - 0s 22us/step - loss: 0.3523 - acc: 0.8567 - val_loss: 0.3416 - val_acc: 0.8596\n",
      "Epoch 15/30\n",
      "7500/7500 [==============================] - 0s 21us/step - loss: 0.3511 - acc: 0.8585 - val_loss: 0.3412 - val_acc: 0.8572\n",
      "Epoch 16/30\n",
      "7500/7500 [==============================] - 0s 21us/step - loss: 0.3519 - acc: 0.8583 - val_loss: 0.3528 - val_acc: 0.8500\n",
      "Epoch 17/30\n",
      "7500/7500 [==============================] - 0s 22us/step - loss: 0.3511 - acc: 0.8587 - val_loss: 0.3399 - val_acc: 0.8580\n",
      "Epoch 18/30\n",
      "7500/7500 [==============================] - 0s 21us/step - loss: 0.3505 - acc: 0.8579 - val_loss: 0.3408 - val_acc: 0.8572\n",
      "Epoch 19/30\n",
      "7500/7500 [==============================] - 0s 21us/step - loss: 0.3509 - acc: 0.8559 - val_loss: 0.3387 - val_acc: 0.8592\n",
      "Epoch 20/30\n",
      "7500/7500 [==============================] - 0s 21us/step - loss: 0.3504 - acc: 0.8593 - val_loss: 0.3385 - val_acc: 0.8580\n",
      "Epoch 21/30\n",
      "7500/7500 [==============================] - 0s 20us/step - loss: 0.3496 - acc: 0.8575 - val_loss: 0.3396 - val_acc: 0.8596\n",
      "Epoch 22/30\n",
      "7500/7500 [==============================] - 0s 21us/step - loss: 0.3499 - acc: 0.8571 - val_loss: 0.3775 - val_acc: 0.8420\n",
      "Epoch 23/30\n",
      "7500/7500 [==============================] - 0s 21us/step - loss: 0.3506 - acc: 0.8579 - val_loss: 0.3401 - val_acc: 0.8592\n",
      "Epoch 24/30\n",
      "7500/7500 [==============================] - 0s 22us/step - loss: 0.3494 - acc: 0.8585 - val_loss: 0.3395 - val_acc: 0.8616\n",
      "Epoch 25/30\n",
      "7500/7500 [==============================] - 0s 21us/step - loss: 0.3464 - acc: 0.8605 - val_loss: 0.3369 - val_acc: 0.8616\n",
      "Epoch 26/30\n",
      "7500/7500 [==============================] - 0s 21us/step - loss: 0.3489 - acc: 0.8563 - val_loss: 0.3374 - val_acc: 0.8608\n",
      "Epoch 27/30\n",
      "7500/7500 [==============================] - 0s 20us/step - loss: 0.3449 - acc: 0.8596 - val_loss: 0.3369 - val_acc: 0.8612\n",
      "Epoch 28/30\n",
      "7500/7500 [==============================] - 0s 21us/step - loss: 0.3471 - acc: 0.8577 - val_loss: 0.3392 - val_acc: 0.8632\n",
      "Epoch 29/30\n",
      "7500/7500 [==============================] - 0s 21us/step - loss: 0.3452 - acc: 0.8595 - val_loss: 0.3356 - val_acc: 0.8620\n",
      "Epoch 30/30\n",
      "7500/7500 [==============================] - 0s 21us/step - loss: 0.3450 - acc: 0.8611 - val_loss: 0.3351 - val_acc: 0.8624\n"
     ]
    },
    {
     "data": {
      "image/png": "[encoded data removed]",
      "text/plain": [
       "<matplotlib.figure.Figure at 0x7f84dd02c4e0>"
      ]
     },
     "metadata": {
      "tags": []
     },
     "output_type": "display_data"
    },
    {
     "name": "stdout",
     "output_type": "stream",
     "text": [
      "auc: 0.8571974793035037\n"
     ]
    },
    {
     "data": {
      "image/png": "[encoded data removed]",
      "text/plain": [
       "<matplotlib.figure.Figure at 0x7f84d15ed908>"
      ]
     },
     "metadata": {
      "tags": []
     },
     "output_type": "display_data"
    },
    {
     "name": "stdout",
     "output_type": "stream",
     "text": [
      "count    2500.000000\n",
      "mean        0.188874\n",
      "std         0.237682\n",
      "min         0.001005\n",
      "25%         0.037927\n",
      "50%         0.088884\n",
      "75%         0.218258\n",
      "max         0.999906\n",
      "dtype: float64\n",
      "0.1888739 0.23768231\n"
     ]
    },
    {
     "data": {
      "image/png": "[encoded data removed]",
      "text/plain": [
       "<matplotlib.figure.Figure at 0x7f84d1597470>"
      ]
     },
     "metadata": {
      "tags": []
     },
     "output_type": "display_data"
    },
    {
     "data": {
      "image/png": "[encoded data removed]",
      "text/plain": [
       "<matplotlib.figure.Figure at 0x7f84da766be0>"
      ]
     },
     "metadata": {
      "tags": []
     },
     "output_type": "display_data"
    },
    {
     "data": {
      "image/png": "[encoded data removed]",
      "text/plain": [
       "<matplotlib.figure.Figure at 0x7f84d1503668>"
      ]
     },
     "metadata": {
      "tags": []
     },
     "output_type": "display_data"
    },
    {
     "name": "stdout",
     "output_type": "stream",
     "text": [
      "threshold@0.5, accuracy: 0.8624\n",
      "[[1933   78]\n",
      " [ 266  223]] \n",
      "\n",
      "             precision    recall  f1-score   support\n",
      "\n",
      "          0       0.88      0.96      0.92      2011\n",
      "          1       0.74      0.46      0.56       489\n",
      "\n",
      "avg / total       0.85      0.86      0.85      2500\n",
      "\n",
      "threshold@0.2432, accuracy: 0.8356\n",
      "[[1768  243]\n",
      " [ 168  321]]\n",
      "             precision    recall  f1-score   support\n",
      "\n",
      "          0       0.91      0.88      0.90      2011\n",
      "          1       0.57      0.66      0.61       489\n",
      "\n",
      "avg / total       0.85      0.84      0.84      2500\n",
      "\n"
     ]
    },
    {
     "name": "stderr",
     "output_type": "stream",
     "text": [
      "/usr/local/lib/python3.6/dist-packages/sklearn/metrics/classification.py:1135: UndefinedMetricWarning: Precision and F-score are ill-defined and being set to 0.0 in labels with no predicted samples.\n",
      "  'precision', 'predicted', average, warn_for)\n"
     ]
    }
   ],
   "source": [
    "def get_model(input_dim):\n",
    "    model = Sequential()\n",
    "    # kernel_regularizer=regularizers.l2(0.005)\n",
    "    model.add(Dense(units = 64, activation = 'relu', kernel_initializer='uniform', input_dim = input_dim))\n",
    "    model.add(Dense(units = 32, activation = 'relu', kernel_initializer='uniform'))\n",
    "    model.add(Dense(units = 16, activation = 'relu', kernel_initializer='uniform'))\n",
    "    model.add(Dense(units = 1, activation = 'sigmoid', kernel_initializer='uniform'))\n",
    "    model.summary()\n",
    "    model.compile(optimizer = 'adam', loss = 'binary_crossentropy', metrics = ['accuracy'])\n",
    "    \n",
    "    return model\n",
    "\n",
    "K.clear_session()\n",
    "\n",
    "model = get_model(input_dim=tr_x_ae.shape[1])\n",
    "hist = model.fit(tr_x_ae, tr_y, validation_data=(vl_x_ae, vl_y), batch_size=100, epochs=30)\n",
    "\n",
    "plot_result(hist)\n",
    "draw_roc_curve(vl_y, model.predict(vl_x_ae))\n",
    "\n",
    "y_pred = model.predict(vl_x_ae)\n",
    "pred_dist(y_pred)\n",
    "analyze(vl_y, y_pred)"
   ]
  }
 ],
 "metadata": {
  "accelerator": "TPU",
  "colab": {
   "collapsed_sections": [],
   "name": "model_financial_customer_churn.ipynb",
   "provenance": [],
   "toc_visible": true,
   "version": "0.3.2"
  },
  "kernelspec": {
   "display_name": "Python 3",
   "language": "python",
   "name": "python3"
  },
  "language_info": {
   "codemirror_mode": {
    "name": "ipython",
    "version": 3
   },
   "file_extension": ".py",
   "mimetype": "text/x-python",
   "name": "python",
   "nbconvert_exporter": "python",
   "pygments_lexer": "ipython3",
   "version": "3.6.6"
  }
 },
 "nbformat": 4,
 "nbformat_minor": 1
}
