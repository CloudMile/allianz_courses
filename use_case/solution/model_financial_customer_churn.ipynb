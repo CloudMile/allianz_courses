{
 "cells": [
  {
   "cell_type": "markdown",
   "metadata": {
    "colab_type": "text",
    "id": "X6TzudIkLSb2"
   },
   "source": [
    "## Load Libs"
   ]
  },
  {
   "cell_type": "code",
   "execution_count": 1,
   "metadata": {
    "colab": {
     "base_uri": "https://localhost:8080/",
     "height": 222
    },
    "colab_type": "code",
    "executionInfo": {
     "elapsed": 3626,
     "status": "ok",
     "timestamp": 1539071016260,
     "user": {
      "displayName": "Gary Chen",
      "photoUrl": "",
      "userId": "10783188122132859162"
     },
     "user_tz": -480
    },
    "id": "_OceWebGEClz",
    "outputId": "8a6d97b1-c4d6-4dd0-967a-719b241ec72f"
   },
   "outputs": [
    {
     "name": "stdout",
     "output_type": "stream",
     "text": [
      "Requirement already up-to-date: seaborn in d:\\python\\anaconda3-5.2.0\\envs\\py3_6\\lib\\site-packages (0.9.0)\n",
      "Requirement already satisfied, skipping upgrade: numpy>=1.9.3 in d:\\python\\anaconda3-5.2.0\\envs\\py3_6\\lib\\site-packages (from seaborn) (1.14.5)\n",
      "Requirement already satisfied, skipping upgrade: matplotlib>=1.4.3 in d:\\python\\anaconda3-5.2.0\\envs\\py3_6\\lib\\site-packages (from seaborn) (2.2.3)\n",
      "Requirement already satisfied, skipping upgrade: scipy>=0.14.0 in d:\\python\\anaconda3-5.2.0\\envs\\py3_6\\lib\\site-packages (from seaborn) (1.1.0)\n",
      "Requirement already satisfied, skipping upgrade: pandas>=0.15.2 in d:\\python\\anaconda3-5.2.0\\envs\\py3_6\\lib\\site-packages (from seaborn) (0.23.4)\n",
      "Requirement already satisfied, skipping upgrade: kiwisolver>=1.0.1 in d:\\python\\anaconda3-5.2.0\\envs\\py3_6\\lib\\site-packages (from matplotlib>=1.4.3->seaborn) (1.0.1)\n",
      "Requirement already satisfied, skipping upgrade: pyparsing!=2.0.4,!=2.1.2,!=2.1.6,>=2.0.1 in d:\\python\\anaconda3-5.2.0\\envs\\py3_6\\lib\\site-packages (from matplotlib>=1.4.3->seaborn) (2.2.0)\n",
      "Requirement already satisfied, skipping upgrade: python-dateutil>=2.1 in d:\\python\\anaconda3-5.2.0\\envs\\py3_6\\lib\\site-packages (from matplotlib>=1.4.3->seaborn) (2.7.3)\n",
      "Requirement already satisfied, skipping upgrade: pytz in d:\\python\\anaconda3-5.2.0\\envs\\py3_6\\lib\\site-packages (from matplotlib>=1.4.3->seaborn) (2018.5)\n",
      "Requirement already satisfied, skipping upgrade: six>=1.10 in d:\\python\\anaconda3-5.2.0\\envs\\py3_6\\lib\\site-packages (from matplotlib>=1.4.3->seaborn) (1.11.0)\n",
      "Requirement already satisfied, skipping upgrade: cycler>=0.10 in d:\\python\\anaconda3-5.2.0\\envs\\py3_6\\lib\\site-packages (from matplotlib>=1.4.3->seaborn) (0.10.0)\n",
      "Requirement already satisfied, skipping upgrade: setuptools in d:\\python\\anaconda3-5.2.0\\envs\\py3_6\\lib\\site-packages (from kiwisolver>=1.0.1->matplotlib>=1.4.3->seaborn) (39.1.0)\n"
     ]
    },
    {
     "name": "stderr",
     "output_type": "stream",
     "text": [
      "Using TensorFlow backend.\n"
     ]
    }
   ],
   "source": [
    "%reload_ext autoreload\n",
    "%autoreload 2\n",
    "\n",
    "!pip install seaborn --upgrade\n",
    "\n",
    "import os, sys, numpy as np, pandas as pd, tensorflow as tf, cv2\n",
    "import seaborn as sns\n",
    "import scipy.stats as stats\n",
    "\n",
    "from collections import defaultdict\n",
    "from sklearn.model_selection import train_test_split\n",
    "from sklearn.preprocessing import StandardScaler, MinMaxScaler, LabelEncoder, LabelBinarizer\n",
    "from sklearn.metrics import auc, roc_curve, f1_score, confusion_matrix, classification_report\n",
    "from sklearn.metrics import precision_recall_fscore_support, accuracy_score\n",
    "\n",
    "from matplotlib import pyplot as plt\n",
    "sns.set(style=\"white\")\n",
    "\n",
    "import keras\n",
    "from keras import backend as K\n",
    "from keras.models import Sequential, Model\n",
    "from keras.layers import Dense, BatchNormalization, Activation, Input, Dropout, Embedding, Flatten, Input\n",
    "from keras.layers import Concatenate\n",
    "from keras.optimizers import Adam, Nadam\n",
    "from keras import regularizers\n",
    "\n",
    "%matplotlib inline\n",
    "\n",
    "def plot_result(hist):\n",
    "    plt.figure(figsize=(16, 5))\n",
    "\n",
    "    plt.subplot(1, 2, 1)\n",
    "    plt.plot(hist.history['loss'], label='tr_loss')\n",
    "    plt.plot(hist.history['val_loss'], label='vl_loss')\n",
    "    plt.title('Loss')\n",
    "\n",
    "    plt.subplot(1, 2, 2)\n",
    "    plt.plot(hist.history['acc'], label='acc')\n",
    "    plt.plot(hist.history['val_acc'], label='val_acc')\n",
    "    plt.title('Accuracy')\n",
    "\n",
    "    plt.legend(loc='best')\n",
    "    plt.show()\n",
    "    \n",
    "def draw_roc_curve(y, pred):\n",
    "    from matplotlib import pyplot as plt\n",
    "\n",
    "    fprRf, tprRf, _ = roc_curve(y, pred, pos_label=1)\n",
    "    auc_scr = auc(fprRf, tprRf)\n",
    "    print(\"auc:\", auc_scr)\n",
    "    f, ax = plt.subplots(1, 1, figsize=(6, 6))\n",
    "\n",
    "    ax.plot([0, 1], [0, 1], 'k--')\n",
    "    ax.plot(fprRf, tprRf, label='ROC CURVE')\n",
    "    ax.set_xlabel('False positive rate')\n",
    "    ax.set_ylabel('True positive rate')\n",
    "    ax.set_title('Area Under Curve(ROC) (score: {:.4f})'.format(auc_scr))\n",
    "    ax.legend(loc='best')\n",
    "    plt.show()"
   ]
  },
  {
   "cell_type": "markdown",
   "metadata": {
    "colab_type": "text",
    "id": "qeEHBniStlgU"
   },
   "source": [
    "## Data Schema\n",
    "\n",
    "Column name     | Description\n",
    "             ---|---\n",
    "RorNumber       |    Row number\n",
    "CustomerId      |    Customer id\n",
    "Surname         |    Customer surname\n",
    "CreditScore     |    Credit score\n",
    "Geography       |    Country the customer belong to\n",
    "Gender          |    Female or Male\n",
    "Age             |    Customer's age\n",
    "Tenure          |    Life length of customer\n",
    "Balance         |    Bank balance of the customer\n",
    "NumOfProducts   |    Number of product belong to the customer\n",
    "HasCrCard       |    If customer has credit card\n",
    "IsActiveMember  |    If customer status is active or disabled\n",
    "EstimatedSalary |    Estimated salary for the customer\n",
    "Exited                   |    Label, 1: Churn, 0: Not Churn\n",
    "\n",
    "---\n",
    "\n",
    "* 7個類別變數\n",
    "* 6個數值變數\n",
    "---\n",
    "\n"
   ]
  },
  {
   "cell_type": "markdown",
   "metadata": {
    "colab_type": "text",
    "id": "Ps1HdA6twJck"
   },
   "source": [
    "## Purpose: \n",
    "* 給定客戶Metadata, 繳費行為等等, 預測該客戶是否在未來有可能離開?"
   ]
  },
  {
   "cell_type": "code",
   "execution_count": 2,
   "metadata": {
    "colab": {
     "base_uri": "https://localhost:8080/",
     "height": 215
    },
    "colab_type": "code",
    "executionInfo": {
     "elapsed": 1667,
     "status": "ok",
     "timestamp": 1539071017958,
     "user": {
      "displayName": "Gary Chen",
      "photoUrl": "",
      "userId": "10783188122132859162"
     },
     "user_tz": -480
    },
    "id": "_UOyp6tUECl1",
    "outputId": "ba7099f4-7ddc-4025-8190-25248b728e0d"
   },
   "outputs": [
    {
     "data": {
      "text/html": [
       "<div>\n",
       "<style scoped>\n",
       "    .dataframe tbody tr th:only-of-type {\n",
       "        vertical-align: middle;\n",
       "    }\n",
       "\n",
       "    .dataframe tbody tr th {\n",
       "        vertical-align: top;\n",
       "    }\n",
       "\n",
       "    .dataframe thead th {\n",
       "        text-align: right;\n",
       "    }\n",
       "</style>\n",
       "<table border=\"1\" class=\"dataframe\">\n",
       "  <thead>\n",
       "    <tr style=\"text-align: right;\">\n",
       "      <th></th>\n",
       "      <th>RowNumber</th>\n",
       "      <th>CustomerId</th>\n",
       "      <th>Surname</th>\n",
       "      <th>CreditScore</th>\n",
       "      <th>Geography</th>\n",
       "      <th>Gender</th>\n",
       "      <th>Age</th>\n",
       "      <th>Tenure</th>\n",
       "      <th>Balance</th>\n",
       "      <th>NumOfProducts</th>\n",
       "      <th>HasCrCard</th>\n",
       "      <th>IsActiveMember</th>\n",
       "      <th>EstimatedSalary</th>\n",
       "      <th>Exited</th>\n",
       "    </tr>\n",
       "  </thead>\n",
       "  <tbody>\n",
       "    <tr>\n",
       "      <th>0</th>\n",
       "      <td>6396</td>\n",
       "      <td>15707918</td>\n",
       "      <td>Bentley</td>\n",
       "      <td>741</td>\n",
       "      <td>Germany</td>\n",
       "      <td>Female</td>\n",
       "      <td>36</td>\n",
       "      <td>0</td>\n",
       "      <td>127675.39</td>\n",
       "      <td>2</td>\n",
       "      <td>1</td>\n",
       "      <td>0</td>\n",
       "      <td>74260.16</td>\n",
       "      <td>0</td>\n",
       "    </tr>\n",
       "    <tr>\n",
       "      <th>1</th>\n",
       "      <td>6055</td>\n",
       "      <td>15773013</td>\n",
       "      <td>Uvarov</td>\n",
       "      <td>633</td>\n",
       "      <td>France</td>\n",
       "      <td>Female</td>\n",
       "      <td>47</td>\n",
       "      <td>0</td>\n",
       "      <td>0.00</td>\n",
       "      <td>1</td>\n",
       "      <td>1</td>\n",
       "      <td>1</td>\n",
       "      <td>6342.84</td>\n",
       "      <td>1</td>\n",
       "    </tr>\n",
       "    <tr>\n",
       "      <th>2</th>\n",
       "      <td>8866</td>\n",
       "      <td>15639004</td>\n",
       "      <td>Chiemezie</td>\n",
       "      <td>668</td>\n",
       "      <td>France</td>\n",
       "      <td>Male</td>\n",
       "      <td>72</td>\n",
       "      <td>2</td>\n",
       "      <td>0.00</td>\n",
       "      <td>2</td>\n",
       "      <td>1</td>\n",
       "      <td>1</td>\n",
       "      <td>70783.61</td>\n",
       "      <td>0</td>\n",
       "    </tr>\n",
       "    <tr>\n",
       "      <th>3</th>\n",
       "      <td>9098</td>\n",
       "      <td>15606901</td>\n",
       "      <td>Graham</td>\n",
       "      <td>728</td>\n",
       "      <td>France</td>\n",
       "      <td>Male</td>\n",
       "      <td>43</td>\n",
       "      <td>7</td>\n",
       "      <td>0.00</td>\n",
       "      <td>2</td>\n",
       "      <td>1</td>\n",
       "      <td>0</td>\n",
       "      <td>40023.70</td>\n",
       "      <td>0</td>\n",
       "    </tr>\n",
       "    <tr>\n",
       "      <th>4</th>\n",
       "      <td>3865</td>\n",
       "      <td>15808960</td>\n",
       "      <td>Alleyne</td>\n",
       "      <td>620</td>\n",
       "      <td>Germany</td>\n",
       "      <td>Male</td>\n",
       "      <td>40</td>\n",
       "      <td>5</td>\n",
       "      <td>108197.11</td>\n",
       "      <td>2</td>\n",
       "      <td>1</td>\n",
       "      <td>0</td>\n",
       "      <td>49722.34</td>\n",
       "      <td>0</td>\n",
       "    </tr>\n",
       "  </tbody>\n",
       "</table>\n",
       "</div>"
      ],
      "text/plain": [
       "   RowNumber  CustomerId    Surname  CreditScore Geography  Gender  Age  \\\n",
       "0       6396    15707918    Bentley          741   Germany  Female   36   \n",
       "1       6055    15773013     Uvarov          633    France  Female   47   \n",
       "2       8866    15639004  Chiemezie          668    France    Male   72   \n",
       "3       9098    15606901     Graham          728    France    Male   43   \n",
       "4       3865    15808960    Alleyne          620   Germany    Male   40   \n",
       "\n",
       "   Tenure    Balance  NumOfProducts  HasCrCard  IsActiveMember  \\\n",
       "0       0  127675.39              2          1               0   \n",
       "1       0       0.00              1          1               1   \n",
       "2       2       0.00              2          1               1   \n",
       "3       7       0.00              2          1               0   \n",
       "4       5  108197.11              2          1               0   \n",
       "\n",
       "   EstimatedSalary  Exited  \n",
       "0         74260.16       0  \n",
       "1          6342.84       1  \n",
       "2         70783.61       0  \n",
       "3         40023.70       0  \n",
       "4         49722.34       0  "
      ]
     },
     "execution_count": 2,
     "metadata": {},
     "output_type": "execute_result"
    }
   ],
   "source": [
    "raw = pd.read_csv(\"https://storage.googleapis.com/allianz-course/data/raw_tr_financial_churn.csv\")\n",
    "raw_vl = pd.read_csv(\"https://storage.googleapis.com/allianz-course/data/raw_vl_financial_churn.csv\")\n",
    "raw.head()"
   ]
  },
  {
   "cell_type": "markdown",
   "metadata": {
    "colab_type": "text",
    "id": "CP0v2VzYvUmG"
   },
   "source": [
    "## Drop 不必要的欄位"
   ]
  },
  {
   "cell_type": "code",
   "execution_count": 3,
   "metadata": {
    "colab": {},
    "colab_type": "code",
    "id": "ScS756pOvTLl"
   },
   "outputs": [],
   "source": [
    "raw.drop(['RowNumber', 'CustomerId', 'Surname'], 1, inplace=True)\n",
    "raw_vl.drop(['RowNumber', 'CustomerId', 'Surname'], 1, inplace=True)"
   ]
  },
  {
   "cell_type": "code",
   "execution_count": 4,
   "metadata": {
    "colab": {
     "base_uri": "https://localhost:8080/",
     "height": 286
    },
    "colab_type": "code",
    "executionInfo": {
     "elapsed": 818,
     "status": "ok",
     "timestamp": 1539071019638,
     "user": {
      "displayName": "Gary Chen",
      "photoUrl": "",
      "userId": "10783188122132859162"
     },
     "user_tz": -480
    },
    "id": "xbmIazS-_S9Z",
    "outputId": "9b78dde0-9461-4909-d97f-a435d494fc92"
   },
   "outputs": [
    {
     "name": "stdout",
     "output_type": "stream",
     "text": [
      "<class 'pandas.core.frame.DataFrame'>\n",
      "RangeIndex: 7500 entries, 0 to 7499\n",
      "Data columns (total 11 columns):\n",
      "CreditScore        7500 non-null int64\n",
      "Geography          7500 non-null object\n",
      "Gender             7500 non-null object\n",
      "Age                7500 non-null int64\n",
      "Tenure             7500 non-null int64\n",
      "Balance            7500 non-null float64\n",
      "NumOfProducts      7500 non-null int64\n",
      "HasCrCard          7500 non-null int64\n",
      "IsActiveMember     7500 non-null int64\n",
      "EstimatedSalary    7500 non-null float64\n",
      "Exited             7500 non-null int64\n",
      "dtypes: float64(2), int64(7), object(2)\n",
      "memory usage: 644.6+ KB\n"
     ]
    }
   ],
   "source": [
    "raw.info()"
   ]
  },
  {
   "cell_type": "markdown",
   "metadata": {
    "colab_type": "text",
    "id": "xoyVZct4tpFa"
   },
   "source": [
    "## Features setting"
   ]
  },
  {
   "cell_type": "code",
   "execution_count": 5,
   "metadata": {
    "colab": {},
    "colab_type": "code",
    "id": "plpAXiiatNgD"
   },
   "outputs": [],
   "source": [
    "catg_features = [\n",
    "    'Gender', 'HasCrCard', 'IsActiveMember', 'Geography', \n",
    "]\n",
    "num_features = ['CreditScore', 'Age', 'Tenure', 'Balance', 'NumOfProducts', 'EstimatedSalary']\n",
    "label = 'Exited'"
   ]
  },
  {
   "cell_type": "markdown",
   "metadata": {
    "colab_type": "text",
    "id": "oCud9-1Esa6S"
   },
   "source": [
    "<br/>\n",
    "<br/>\n",
    "<br/>\n",
    "\n",
    "---\n",
    "\n",
    "## Base Feature Preprocessing\n",
    "\n",
    "* Normalize ofr numeric features\n",
    "* One Hot Encoding for categorical features"
   ]
  },
  {
   "cell_type": "code",
   "execution_count": 6,
   "metadata": {
    "colab": {},
    "colab_type": "code",
    "id": "-7GRAyvZtmta"
   },
   "outputs": [],
   "source": [
    "def feature_engineering(raw, is_train=True, status=None):\n",
    "    data = raw.copy()\n",
    "    \n",
    "    if is_train:\n",
    "        status = {'scaler': None, # Normalize object\n",
    "                  # One Hot Encoding mapper\n",
    "                  'mapper': defaultdict(LabelBinarizer),\n",
    "                  'woe_mapper': {},\n",
    "                  'binn_mapper': {},\n",
    "                  'freq_mapper': {},\n",
    "                  'mean_mapper': {},\n",
    "                  'entropy_mapper': {}}\n",
    "\n",
    "    catg_ftrs = catg_features.copy()\n",
    "        \n",
    "    # Numeric binning to categorical features\n",
    "    do_binning(catg_ftrs, status, data, is_train)\n",
    "    # -----------------------------------------------------------------------------------------\n",
    "\n",
    "    encoded_ftrs = pd.DataFrame()\n",
    "    \n",
    "    # One Hot Encoding\n",
    "    # encoded_ftrs = pd.get_dummies(data[catg_ftrs])\n",
    "    do_onehot(catg_ftrs, encoded_ftrs, status, data, is_train)\n",
    "    # -----------------------------------------------------------------------------------------\n",
    "    \n",
    "    # WOE encoding\n",
    "    do_woe_encoding(catg_ftrs, encoded_ftrs, status, data, is_train)\n",
    "    # -----------------------------------------------------------------------------------------\n",
    "    \n",
    "    # Entropy encoding\n",
    "    do_entropy_encoding(catg_ftrs, encoded_ftrs, status, data, is_train)\n",
    "    # -----------------------------------------------------------------------------------------\n",
    "\n",
    "    # Frequency encoding, target mean encoding\n",
    "    do_target_encoding(catg_ftrs, encoded_ftrs, status, data, is_train)\n",
    "    # -----------------------------------------------------------------------------------------\n",
    "\n",
    "    # Normalize\n",
    "    do_norm(num_features, encoded_ftrs, status, data, is_train)\n",
    "    # -----------------------------------------------------------------------------------------\n",
    "    \n",
    "    # Merge categorical, numeric features\n",
    "    data_x, data_y = encoded_ftrs, data['Exited'].copy()\n",
    "    \n",
    "    # Include quadratic term, cube term\n",
    "    do_nth_order_polynominal(num_features, data_x)\n",
    "    # ----------------------------------------------------------------------------------------- \n",
    "    return data_x, data_y, status\n"
   ]
  },
  {
   "cell_type": "markdown",
   "metadata": {
    "colab_type": "text",
    "id": "ECJMndaStmtc"
   },
   "source": [
    "## Functions of Features Processing"
   ]
  },
  {
   "cell_type": "code",
   "execution_count": 7,
   "metadata": {
    "colab": {},
    "colab_type": "code",
    "id": "_SF8dwpitmtd"
   },
   "outputs": [],
   "source": [
    "def do_binning(catg_ftrs, status, data, is_train): pass\n",
    "\n",
    "def do_onehot(catg_ftrs, encoded_ftrs, status, data, is_train):\n",
    "    mapper = status['mapper']\n",
    "    tmp = []\n",
    "    for catg_col in catg_ftrs:\n",
    "        if is_train:\n",
    "            result = mapper[catg_col].fit_transform(data[catg_col])\n",
    "        else:\n",
    "            result = mapper[catg_col].transform(data[catg_col])\n",
    "\n",
    "        columns = [f'{catg_col}_{col}' for col in mapper[catg_col].classes_]\n",
    "        if result.shape[1] == 1:\n",
    "            columns = columns[:1]\n",
    "        tmp.append(pd.DataFrame(data=result, columns=columns))\n",
    "    tmp = pd.concat(tmp, 1)\n",
    "    for col in tmp:\n",
    "        encoded_ftrs[col] = tmp[col]\n",
    "\n",
    "def do_woe_encoding(catg_ftrs, catg_part, status, data, is_train): pass\n",
    "\n",
    "def do_entropy_encoding(catg_ftrs, catg_part, status, data, is_train): pass\n",
    "\n",
    "def do_target_encoding(catg_ftrs, catg_part, status, data, is_train): pass\n",
    "\n",
    "def do_norm(num_features, encoded_ftrs, status, data, is_train):\n",
    "    num_part = data[num_features].copy()\n",
    "    if is_train:\n",
    "        scaler = StandardScaler()\n",
    "        status['scaler'] = scaler\n",
    "        num_part = pd.DataFrame(data=scaler.fit_transform(num_part), columns=num_part.columns)\n",
    "    else:\n",
    "        scaler = status['scaler']\n",
    "        num_part = pd.DataFrame(data=scaler.transform(num_part), columns=num_part.columns)\n",
    "\n",
    "    for col in num_part:\n",
    "        encoded_ftrs[col] = num_part[col].values\n",
    "\n",
    "def do_nth_order_polynominal(num_features, data): pass"
   ]
  },
  {
   "cell_type": "markdown",
   "metadata": {},
   "source": [
    "## Get Encoded Train Data and Valid Data"
   ]
  },
  {
   "cell_type": "code",
   "execution_count": 8,
   "metadata": {
    "colab": {
     "base_uri": "https://localhost:8080/",
     "height": 232
    },
    "colab_type": "code",
    "executionInfo": {
     "elapsed": 701,
     "status": "ok",
     "timestamp": 1539071022613,
     "user": {
      "displayName": "Gary Chen",
      "photoUrl": "",
      "userId": "10783188122132859162"
     },
     "user_tz": -480
    },
    "id": "udNVad7usaNe",
    "outputId": "50d352c3-af93-4cca-bed9-4936ac894156",
    "scrolled": false
   },
   "outputs": [
    {
     "name": "stdout",
     "output_type": "stream",
     "text": [
      "(7500, 12) (2500, 12)\n"
     ]
    },
    {
     "data": {
      "text/html": [
       "<div>\n",
       "<style scoped>\n",
       "    .dataframe tbody tr th:only-of-type {\n",
       "        vertical-align: middle;\n",
       "    }\n",
       "\n",
       "    .dataframe tbody tr th {\n",
       "        vertical-align: top;\n",
       "    }\n",
       "\n",
       "    .dataframe thead th {\n",
       "        text-align: right;\n",
       "    }\n",
       "</style>\n",
       "<table border=\"1\" class=\"dataframe\">\n",
       "  <thead>\n",
       "    <tr style=\"text-align: right;\">\n",
       "      <th></th>\n",
       "      <th>Gender_Female</th>\n",
       "      <th>HasCrCard_0</th>\n",
       "      <th>IsActiveMember_0</th>\n",
       "      <th>Geography_France</th>\n",
       "      <th>Geography_Germany</th>\n",
       "      <th>Geography_Spain</th>\n",
       "      <th>CreditScore</th>\n",
       "      <th>Age</th>\n",
       "      <th>Tenure</th>\n",
       "      <th>Balance</th>\n",
       "      <th>NumOfProducts</th>\n",
       "      <th>EstimatedSalary</th>\n",
       "    </tr>\n",
       "  </thead>\n",
       "  <tbody>\n",
       "    <tr>\n",
       "      <th>0</th>\n",
       "      <td>0</td>\n",
       "      <td>1</td>\n",
       "      <td>0</td>\n",
       "      <td>0</td>\n",
       "      <td>1</td>\n",
       "      <td>0</td>\n",
       "      <td>0.931808</td>\n",
       "      <td>-0.286140</td>\n",
       "      <td>-1.726890</td>\n",
       "      <td>0.818951</td>\n",
       "      <td>0.804202</td>\n",
       "      <td>-0.449945</td>\n",
       "    </tr>\n",
       "    <tr>\n",
       "      <th>1</th>\n",
       "      <td>0</td>\n",
       "      <td>1</td>\n",
       "      <td>1</td>\n",
       "      <td>1</td>\n",
       "      <td>0</td>\n",
       "      <td>0</td>\n",
       "      <td>-0.185926</td>\n",
       "      <td>0.761549</td>\n",
       "      <td>-1.726890</td>\n",
       "      <td>-1.223103</td>\n",
       "      <td>-0.913689</td>\n",
       "      <td>-1.631281</td>\n",
       "    </tr>\n",
       "    <tr>\n",
       "      <th>2</th>\n",
       "      <td>1</td>\n",
       "      <td>1</td>\n",
       "      <td>1</td>\n",
       "      <td>1</td>\n",
       "      <td>0</td>\n",
       "      <td>0</td>\n",
       "      <td>0.176303</td>\n",
       "      <td>3.142658</td>\n",
       "      <td>-1.036539</td>\n",
       "      <td>-1.223103</td>\n",
       "      <td>0.804202</td>\n",
       "      <td>-0.510415</td>\n",
       "    </tr>\n",
       "    <tr>\n",
       "      <th>3</th>\n",
       "      <td>1</td>\n",
       "      <td>1</td>\n",
       "      <td>0</td>\n",
       "      <td>1</td>\n",
       "      <td>0</td>\n",
       "      <td>0</td>\n",
       "      <td>0.797266</td>\n",
       "      <td>0.380571</td>\n",
       "      <td>0.689338</td>\n",
       "      <td>-1.223103</td>\n",
       "      <td>0.804202</td>\n",
       "      <td>-1.045445</td>\n",
       "    </tr>\n",
       "    <tr>\n",
       "      <th>4</th>\n",
       "      <td>1</td>\n",
       "      <td>1</td>\n",
       "      <td>0</td>\n",
       "      <td>0</td>\n",
       "      <td>1</td>\n",
       "      <td>0</td>\n",
       "      <td>-0.320468</td>\n",
       "      <td>0.094838</td>\n",
       "      <td>-0.001013</td>\n",
       "      <td>0.507413</td>\n",
       "      <td>0.804202</td>\n",
       "      <td>-0.876750</td>\n",
       "    </tr>\n",
       "  </tbody>\n",
       "</table>\n",
       "</div>"
      ],
      "text/plain": [
       "   Gender_Female  HasCrCard_0  IsActiveMember_0  Geography_France  \\\n",
       "0              0            1                 0                 0   \n",
       "1              0            1                 1                 1   \n",
       "2              1            1                 1                 1   \n",
       "3              1            1                 0                 1   \n",
       "4              1            1                 0                 0   \n",
       "\n",
       "   Geography_Germany  Geography_Spain  CreditScore       Age    Tenure  \\\n",
       "0                  1                0     0.931808 -0.286140 -1.726890   \n",
       "1                  0                0    -0.185926  0.761549 -1.726890   \n",
       "2                  0                0     0.176303  3.142658 -1.036539   \n",
       "3                  0                0     0.797266  0.380571  0.689338   \n",
       "4                  1                0    -0.320468  0.094838 -0.001013   \n",
       "\n",
       "    Balance  NumOfProducts  EstimatedSalary  \n",
       "0  0.818951       0.804202        -0.449945  \n",
       "1 -1.223103      -0.913689        -1.631281  \n",
       "2 -1.223103       0.804202        -0.510415  \n",
       "3 -1.223103       0.804202        -1.045445  \n",
       "4  0.507413       0.804202        -0.876750  "
      ]
     },
     "execution_count": 8,
     "metadata": {},
     "output_type": "execute_result"
    }
   ],
   "source": [
    "# Trnasform raw data to foramt model recognized\n",
    "tr_x, tr_y, status = feature_engineering(raw, is_train=True)\n",
    "vl_x, vl_y, _ = feature_engineering(raw_vl, is_train=False, status=status)\n",
    "\n",
    "print( tr_x.shape, vl_x.shape )\n",
    "tr_x.head()"
   ]
  },
  {
   "cell_type": "markdown",
   "metadata": {
    "colab_type": "text",
    "id": "52CvQZa1t2A7"
   },
   "source": [
    "## Model on Base Featue Engineering\n",
    "\n",
    "* Network Structure: \n",
    "    * `dimension of input, 6, 6, 1`\n",
    "* ReLU Activation Function\n",
    "* Adam Optimizer\n",
    "* Sigmoid Cross Entropy"
   ]
  },
  {
   "cell_type": "code",
   "execution_count": 9,
   "metadata": {
    "colab": {},
    "colab_type": "code",
    "id": "2Hk-jtN6tmtk"
   },
   "outputs": [],
   "source": [
    "def get_model(input_dim):\n",
    "    model = Sequential()\n",
    "    # kernel_regularizer=regularizers.l2(0.005)\n",
    "    model.add(Dense(units = 6, activation = 'relu', kernel_initializer='uniform', input_dim = input_dim))\n",
    "    model.add(Dense(units = 6, activation = 'relu', kernel_initializer='uniform'))\n",
    "    model.add(Dense(units = 1, activation = 'sigmoid', kernel_initializer='uniform'))\n",
    "    model.summary()\n",
    "    model.compile(optimizer = 'adam', loss = 'binary_crossentropy', metrics = ['accuracy'])\n",
    "    \n",
    "    return model"
   ]
  },
  {
   "cell_type": "code",
   "execution_count": 10,
   "metadata": {
    "colab": {
     "base_uri": "https://localhost:8080/",
     "height": 1990
    },
    "colab_type": "code",
    "executionInfo": {
     "elapsed": 6258,
     "status": "ok",
     "timestamp": 1539071040525,
     "user": {
      "displayName": "Gary Chen",
      "photoUrl": "",
      "userId": "10783188122132859162"
     },
     "user_tz": -480
    },
    "id": "SMJbH52ot1aD",
    "outputId": "f28abeb5-a333-40bc-98f3-d4c12b0c46c6",
    "scrolled": true
   },
   "outputs": [
    {
     "name": "stdout",
     "output_type": "stream",
     "text": [
      "_________________________________________________________________\n",
      "Layer (type)                 Output Shape              Param #   \n",
      "=================================================================\n",
      "dense_1 (Dense)              (None, 6)                 78        \n",
      "_________________________________________________________________\n",
      "dense_2 (Dense)              (None, 6)                 42        \n",
      "_________________________________________________________________\n",
      "dense_3 (Dense)              (None, 1)                 7         \n",
      "=================================================================\n",
      "Total params: 127\n",
      "Trainable params: 127\n",
      "Non-trainable params: 0\n",
      "_________________________________________________________________\n",
      "Train on 7500 samples, validate on 2500 samples\n",
      "Epoch 1/30\n",
      "7500/7500 [==============================] - 3s 374us/step - loss: 0.6752 - acc: 0.7937 - val_loss: 0.6433 - val_acc: 0.8044\n",
      "Epoch 2/30\n",
      "7500/7500 [==============================] - 0s 36us/step - loss: 0.5728 - acc: 0.7936 - val_loss: 0.4778 - val_acc: 0.8044\n",
      "Epoch 3/30\n",
      "7500/7500 [==============================] - 0s 36us/step - loss: 0.4651 - acc: 0.7936 - val_loss: 0.4317 - val_acc: 0.8044\n",
      "Epoch 4/30\n",
      "7500/7500 [==============================] - 0s 36us/step - loss: 0.4503 - acc: 0.7936 - val_loss: 0.4217 - val_acc: 0.8044\n",
      "Epoch 5/30\n",
      "7500/7500 [==============================] - 0s 38us/step - loss: 0.4439 - acc: 0.7936 - val_loss: 0.4160 - val_acc: 0.8044\n",
      "Epoch 6/30\n",
      "7500/7500 [==============================] - 0s 40us/step - loss: 0.4401 - acc: 0.7936 - val_loss: 0.4116 - val_acc: 0.8044\n",
      "Epoch 7/30\n",
      "7500/7500 [==============================] - 0s 32us/step - loss: 0.4377 - acc: 0.7936 - val_loss: 0.4097 - val_acc: 0.8044\n",
      "Epoch 8/30\n",
      "7500/7500 [==============================] - 0s 30us/step - loss: 0.4362 - acc: 0.7936 - val_loss: 0.4077 - val_acc: 0.8044\n",
      "Epoch 9/30\n",
      "7500/7500 [==============================] - 0s 32us/step - loss: 0.4355 - acc: 0.7936 - val_loss: 0.4072 - val_acc: 0.8044\n",
      "Epoch 10/30\n",
      "7500/7500 [==============================] - 0s 32us/step - loss: 0.4349 - acc: 0.7936 - val_loss: 0.4057 - val_acc: 0.8044\n",
      "Epoch 11/30\n",
      "7500/7500 [==============================] - 0s 31us/step - loss: 0.4345 - acc: 0.7936 - val_loss: 0.4053 - val_acc: 0.8044\n",
      "Epoch 12/30\n",
      "7500/7500 [==============================] - 0s 30us/step - loss: 0.4342 - acc: 0.7936 - val_loss: 0.4052 - val_acc: 0.8044\n",
      "Epoch 13/30\n",
      "7500/7500 [==============================] - 0s 31us/step - loss: 0.4341 - acc: 0.7936 - val_loss: 0.4046 - val_acc: 0.8044\n",
      "Epoch 14/30\n",
      "7500/7500 [==============================] - 0s 32us/step - loss: 0.4337 - acc: 0.7936 - val_loss: 0.4047 - val_acc: 0.8044\n",
      "Epoch 15/30\n",
      "7500/7500 [==============================] - 0s 32us/step - loss: 0.4335 - acc: 0.7936 - val_loss: 0.4040 - val_acc: 0.8044\n",
      "Epoch 16/30\n",
      "7500/7500 [==============================] - 0s 34us/step - loss: 0.4332 - acc: 0.7936 - val_loss: 0.4043 - val_acc: 0.8044\n",
      "Epoch 17/30\n",
      "7500/7500 [==============================] - 0s 38us/step - loss: 0.4329 - acc: 0.7936 - val_loss: 0.4037 - val_acc: 0.8044\n",
      "Epoch 18/30\n",
      "7500/7500 [==============================] - 0s 39us/step - loss: 0.4327 - acc: 0.7936 - val_loss: 0.4036 - val_acc: 0.8044\n",
      "Epoch 19/30\n",
      "7500/7500 [==============================] - 0s 34us/step - loss: 0.4322 - acc: 0.7936 - val_loss: 0.4026 - val_acc: 0.8044\n",
      "Epoch 20/30\n",
      "7500/7500 [==============================] - 0s 32us/step - loss: 0.4320 - acc: 0.7936 - val_loss: 0.4023 - val_acc: 0.8044\n",
      "Epoch 21/30\n",
      "7500/7500 [==============================] - 0s 34us/step - loss: 0.4313 - acc: 0.7936 - val_loss: 0.4013 - val_acc: 0.8044\n",
      "Epoch 22/30\n",
      "7500/7500 [==============================] - 0s 36us/step - loss: 0.4308 - acc: 0.7936 - val_loss: 0.4020 - val_acc: 0.8044\n",
      "Epoch 23/30\n",
      "7500/7500 [==============================] - 0s 34us/step - loss: 0.4304 - acc: 0.7936 - val_loss: 0.4011 - val_acc: 0.8044\n",
      "Epoch 24/30\n",
      "7500/7500 [==============================] - 0s 30us/step - loss: 0.4298 - acc: 0.7939 - val_loss: 0.3997 - val_acc: 0.8236\n",
      "Epoch 25/30\n",
      "7500/7500 [==============================] - 0s 30us/step - loss: 0.4297 - acc: 0.8089 - val_loss: 0.4013 - val_acc: 0.8268\n",
      "Epoch 26/30\n",
      "7500/7500 [==============================] - 0s 30us/step - loss: 0.4292 - acc: 0.8108 - val_loss: 0.3995 - val_acc: 0.8252\n",
      "Epoch 27/30\n",
      "7500/7500 [==============================] - 0s 29us/step - loss: 0.4286 - acc: 0.8119 - val_loss: 0.3983 - val_acc: 0.8252\n",
      "Epoch 28/30\n",
      "7500/7500 [==============================] - 0s 28us/step - loss: 0.4281 - acc: 0.8113 - val_loss: 0.3988 - val_acc: 0.8260\n",
      "Epoch 29/30\n",
      "7500/7500 [==============================] - 0s 31us/step - loss: 0.4275 - acc: 0.8129 - val_loss: 0.3977 - val_acc: 0.8312\n",
      "Epoch 30/30\n",
      "7500/7500 [==============================] - 0s 30us/step - loss: 0.4272 - acc: 0.8133 - val_loss: 0.3968 - val_acc: 0.8292\n"
     ]
    },
    {
     "data": {
      "image/png": "[encoded data removed]",
      "text/plain": [
       "<Figure size 1152x360 with 2 Axes>"
      ]
     },
     "metadata": {},
     "output_type": "display_data"
    },
    {
     "name": "stdout",
     "output_type": "stream",
     "text": [
      "auc: 0.8077816386154271\n"
     ]
    },
    {
     "data": {
      "image/png": "[encoded data removed]",
      "text/plain": [
       "<Figure size 432x432 with 1 Axes>"
      ]
     },
     "metadata": {},
     "output_type": "display_data"
    }
   ],
   "source": [
    "K.clear_session()\n",
    "\n",
    "model = get_model(input_dim=tr_x.shape[1])\n",
    "hist = model.fit(tr_x, tr_y, validation_data=(vl_x, vl_y), batch_size=100, epochs=30)\n",
    "plot_result(hist)\n",
    "draw_roc_curve(vl_y, model.predict(vl_x))"
   ]
  },
  {
   "cell_type": "markdown",
   "metadata": {
    "colab_type": "text",
    "id": "WSBYMdwktmts"
   },
   "source": [
    "## Analyze the Prediction\n",
    "* 注意預測出來的label是`2D array`, 分析時需要使用`np.ravel`降低一個維度"
   ]
  },
  {
   "cell_type": "code",
   "execution_count": 11,
   "metadata": {
    "colab": {
     "base_uri": "https://localhost:8080/",
     "height": 134
    },
    "colab_type": "code",
    "executionInfo": {
     "elapsed": 619,
     "status": "ok",
     "timestamp": 1539071044917,
     "user": {
      "displayName": "Gary Chen",
      "photoUrl": "",
      "userId": "10783188122132859162"
     },
     "user_tz": -480
    },
    "id": "o353u_4Etmtt",
    "outputId": "954a830d-036a-4583-f8ca-be7cbf7da0f9",
    "scrolled": true
   },
   "outputs": [
    {
     "data": {
      "text/plain": [
       "array([[0.04742164],\n",
       "       [0.3440546 ],\n",
       "       [0.15786101],\n",
       "       ...,\n",
       "       [0.3662083 ],\n",
       "       [0.10069332],\n",
       "       [0.04756103]], dtype=float32)"
      ]
     },
     "execution_count": 11,
     "metadata": {},
     "output_type": "execute_result"
    }
   ],
   "source": [
    "y_pred = model.predict(vl_x)\n",
    "y_pred"
   ]
  },
  {
   "cell_type": "code",
   "execution_count": 12,
   "metadata": {
    "colab": {
     "base_uri": "https://localhost:8080/",
     "height": 942
    },
    "colab_type": "code",
    "executionInfo": {
     "elapsed": 1088,
     "status": "ok",
     "timestamp": 1539071047208,
     "user": {
      "displayName": "Gary Chen",
      "photoUrl": "",
      "userId": "10783188122132859162"
     },
     "user_tz": -480
    },
    "id": "b8R8nLyrtmtw",
    "outputId": "5325fd2d-947b-4cc4-a519-3868d38d5223",
    "scrolled": true
   },
   "outputs": [
    {
     "name": "stdout",
     "output_type": "stream",
     "text": [
      "count    2500.000000\n",
      "mean        0.192842\n",
      "std         0.143480\n",
      "min         0.005897\n",
      "25%         0.074725\n",
      "50%         0.152566\n",
      "75%         0.291959\n",
      "max         0.519057\n",
      "dtype: float64\n",
      "0.19284229 0.14347973\n"
     ]
    },
    {
     "data": {
      "image/png": "[encoded data removed]",
      "text/plain": [
       "<Figure size 432x288 with 1 Axes>"
      ]
     },
     "metadata": {},
     "output_type": "display_data"
    },
    {
     "data": {
      "image/png": "[encoded data removed]",
      "text/plain": [
       "<Figure size 432x288 with 1 Axes>"
      ]
     },
     "metadata": {},
     "output_type": "display_data"
    },
    {
     "data": {
      "image/png": "[encoded data removed]",
      "text/plain": [
       "<Figure size 432x288 with 1 Axes>"
      ]
     },
     "metadata": {},
     "output_type": "display_data"
    }
   ],
   "source": [
    "def pred_dist(y_pred):\n",
    "    y_pred = pd.Series(y_pred.ravel())\n",
    "    print( y_pred.describe() )\n",
    "    print( y_pred.mean(), y_pred.std() )\n",
    "    sns.lineplot(range(len(y_pred)), sorted(y_pred.ravel()))\n",
    "    plt.show()\n",
    "\n",
    "    sns.boxplot(y_pred.ravel(), orient='v')\n",
    "    plt.show()\n",
    "\n",
    "    sns.distplot(y_pred.ravel())\n",
    "    plt.show()\n",
    "    \n",
    "pred_dist(y_pred)"
   ]
  },
  {
   "cell_type": "markdown",
   "metadata": {
    "colab_type": "text",
    "id": "nsSuOlyZtmtz"
   },
   "source": [
    "## Observation\n",
    "\n",
    "* 預測結果大約介於0.1 ~ 0.8之間\n",
    "* 問題變成找出最佳Threshold ==> 預測機率大於多少時認為是`Exited = 1`\n",
    "\n",
    "---\n"
   ]
  },
  {
   "cell_type": "markdown",
   "metadata": {
    "colab_type": "text",
    "id": "JvzynMUbtmt0"
   },
   "source": [
    "## 找出最佳閥值"
   ]
  },
  {
   "cell_type": "code",
   "execution_count": 13,
   "metadata": {
    "colab": {
     "base_uri": "https://localhost:8080/",
     "height": 238
    },
    "colab_type": "code",
    "executionInfo": {
     "elapsed": 703,
     "status": "ok",
     "timestamp": 1539071056671,
     "user": {
      "displayName": "Gary Chen",
      "photoUrl": "",
      "userId": "10783188122132859162"
     },
     "user_tz": -480
    },
    "id": "ridThbnStmt1",
    "outputId": "7b4da9d4-e833-447a-cc8c-e91b5c0cc65c",
    "scrolled": false
   },
   "outputs": [
    {
     "name": "stdout",
     "output_type": "stream",
     "text": [
      "thres: 0.3221, f_beta score: 0.5391\n",
      "accuracy@0.3221: 0.81\n",
      "\n",
      "threshold@0.5, accuracy: 0.8292\n",
      "[[1996   15]\n",
      " [ 412   77]] \n",
      "\n",
      "             precision    recall  f1-score   support\n",
      "\n",
      "          0       0.83      0.99      0.90      2011\n",
      "          1       0.84      0.16      0.27       489\n",
      "\n",
      "avg / total       0.83      0.83      0.78      2500\n",
      "\n",
      "threshold@0.3221, accuracy: 0.8140\n",
      "[[1763  248]\n",
      " [ 217  272]]\n",
      "             precision    recall  f1-score   support\n",
      "\n",
      "          0       0.89      0.88      0.88      2011\n",
      "          1       0.52      0.56      0.54       489\n",
      "\n",
      "avg / total       0.82      0.81      0.82      2500\n",
      "\n"
     ]
    },
    {
     "name": "stderr",
     "output_type": "stream",
     "text": [
      "d:\\python\\anaconda3-5.2.0\\envs\\py3_6\\lib\\site-packages\\sklearn\\metrics\\classification.py:1135: UndefinedMetricWarning: Precision and F-score are ill-defined and being set to 0.0 in labels with no predicted samples.\n",
      "  'precision', 'predicted', average, warn_for)\n"
     ]
    }
   ],
   "source": [
    "# 依照所有的閥值(切割100等分)算出F score, 找出分數最高的閥值\n",
    "def f_beta_scann(y_true, y_pred, beta=0.5):\n",
    "    \"\"\"F beta score掃描找出最佳threshold\"\"\"\n",
    "    y_pred = pd.Series(y_pred.ravel())\n",
    "    # 切割100等分, 尋找最佳 f beta score\n",
    "    bins = np.linspace(y_pred.min(), y_pred.max(), 100)\n",
    "    # 找出F beta score最高的點\n",
    "    result = np.array([precision_recall_fscore_support(y_true=y_true, y_pred=y_pred > thres, beta=beta)[2][1]\n",
    "                       for thres in bins])\n",
    "    best_idx = result.argmax()\n",
    "    return bins[best_idx], result[best_idx]\n",
    "\n",
    "def analyze(y_true, y_pred, beta=1):\n",
    "    thres, f_beta = f_beta_scann(y_true, y_pred, beta=beta)\n",
    "    acc = accuracy_score(y_true, y_pred.ravel() > thres)\n",
    "    print(f'thres: {thres:.4f}, f_beta score: {f_beta:.4f}')\n",
    "    print(f'accuracy@{thres:.4f}: {acc:.2f}\\n')\n",
    "\n",
    "    print(f'threshold@0.5, accuracy: {accuracy_score(y_true, y_pred.ravel() > 0.5):.4f}')\n",
    "    print(confusion_matrix(y_true, y_pred.ravel() > 0.5), '\\n')\n",
    "    print(classification_report(y_true, y_pred.ravel() > 0.5))\n",
    "\n",
    "    print(f'threshold@{thres:.4f}, accuracy: {accuracy_score(y_true, y_pred.ravel() > thres):.4f}')\n",
    "    print(confusion_matrix(y_true, y_pred.ravel() > thres))\n",
    "    print(classification_report(y_true, y_pred.ravel() > thres))\n",
    "    \n",
    "analyze(vl_y, y_pred)"
   ]
  },
  {
   "cell_type": "markdown",
   "metadata": {},
   "source": [
    "## (LAB) 調整bata值(0.1 ~ 2), 觀察precision, recall變化"
   ]
  },
  {
   "cell_type": "code",
   "execution_count": 24,
   "metadata": {
    "scrolled": true
   },
   "outputs": [
    {
     "name": "stdout",
     "output_type": "stream",
     "text": [
      "thres: 0.4206, f_beta score: 0.5790\n",
      "accuracy@0.4206: 0.84\n",
      "\n",
      "threshold@0.5, accuracy: 0.8292\n",
      "[[1996   15]\n",
      " [ 412   77]] \n",
      "\n",
      "             precision    recall  f1-score   support\n",
      "\n",
      "          0       0.83      0.99      0.90      2011\n",
      "          1       0.84      0.16      0.27       489\n",
      "\n",
      "avg / total       0.83      0.83      0.78      2500\n",
      "\n",
      "threshold@0.4206, accuracy: 0.8416\n",
      "[[1920   91]\n",
      " [ 305  184]]\n",
      "             precision    recall  f1-score   support\n",
      "\n",
      "          0       0.86      0.95      0.91      2011\n",
      "          1       0.67      0.38      0.48       489\n",
      "\n",
      "avg / total       0.83      0.84      0.82      2500\n",
      "\n"
     ]
    },
    {
     "name": "stderr",
     "output_type": "stream",
     "text": [
      "d:\\python\\anaconda3-5.2.0\\envs\\py3_6\\lib\\site-packages\\sklearn\\metrics\\classification.py:1135: UndefinedMetricWarning: Precision and F-score are ill-defined and being set to 0.0 in labels with no predicted samples.\n",
      "  'precision', 'predicted', average, warn_for)\n"
     ]
    }
   ],
   "source": [
    "analyze(vl_y, y_pred, beta=.5)"
   ]
  },
  {
   "cell_type": "markdown",
   "metadata": {
    "colab_type": "text",
    "id": "1dtd1HrBu04h"
   },
   "source": [
    "## Observation\n",
    "\n",
    "* 同樣的預測結果, 決定不同的threshold能夠找到更好的結果\n",
    "\n",
    "---\n",
    "\n",
    "<br/>\n",
    "<br/>\n",
    "<br/>"
   ]
  },
  {
   "cell_type": "markdown",
   "metadata": {
    "colab_type": "text",
    "id": "h9MWinD-e6SX"
   },
   "source": [
    "## Bining Numeric Feature\n",
    "\n",
    "* Quartile cut\n",
    "* `Age`欄位特殊處理 => [14, 30, 35, 40, 45, 62]\n",
    "* `Balance`欄位特殊處理 => `IsBalanceZero`\n"
   ]
  },
  {
   "cell_type": "code",
   "execution_count": 25,
   "metadata": {
    "colab": {},
    "colab_type": "code",
    "id": "KEZCNmIMqlor"
   },
   "outputs": [],
   "source": [
    "def do_binning(catg_ftrs, status, data, is_train):\n",
    "    # Quartile binning, outlier set to class \"0\"\n",
    "    def quartile_binning(x):\n",
    "        bins = np.percentile(x, range(0, 100, 25))[1:].tolist()\n",
    "        iqr_x_150 = (bins[-1] - bins[0]) * 1.5\n",
    "        bins = [bins[0] - iqr_x_150] + bins + [bins[-1] + iqr_x_150]\n",
    "        result = pd.Series(np.digitize(x, bins)).map(pd.Series([0, 1, 2, 3, 4, 0])).values\n",
    "        return result, bins\n",
    "    \n",
    "    # Age\n",
    "    bins = np.array([14, 30, 35, 40, 45, 62])\n",
    "    labels = ['~14', '14-30', '30-35', '35-40', '40-45', '45-62', '62up']\n",
    "    age_map = pd.Series(labels)\n",
    "    data['binn_Age'] = pd.Series(np.digitize(data.Age, bins)).map(age_map).values\n",
    "    catg_ftrs.append('binn_Age')\n",
    "    # Balance\n",
    "    data['binn_Balance'] = data.Balance.map(lambda e: 0 if e == 0 else 1)\n",
    "    catg_ftrs.append('binn_Balance')\n",
    "    \n",
    "    for col in ('CreditScore', 'Tenure', 'EstimatedSalary'):\n",
    "        binned_name = f'binn_{col}'\n",
    "        if is_train:\n",
    "            result, bins = quartile_binning(data[col])\n",
    "            status['binn_mapper'][binned_name] = bins\n",
    "            data[binned_name] = result\n",
    "        else:\n",
    "            bins = status['binn_mapper'][binned_name]\n",
    "            data[binned_name] = pd.Series(np.digitize(data[col], bins))\\\n",
    "                                  .map(pd.Series([0, 1, 2, 3, 4, 0])).values\n",
    "\n",
    "        catg_ftrs.append(binned_name)\n",
    "    pass"
   ]
  },
  {
   "cell_type": "code",
   "execution_count": 26,
   "metadata": {
    "colab": {
     "base_uri": "https://localhost:8080/",
     "height": 278
    },
    "colab_type": "code",
    "executionInfo": {
     "elapsed": 635,
     "status": "ok",
     "timestamp": 1539071066568,
     "user": {
      "displayName": "Gary Chen",
      "photoUrl": "",
      "userId": "10783188122132859162"
     },
     "user_tz": -480
    },
    "id": "VEBkc5Rctmt9",
    "outputId": "f84f9bff-6fd5-4325-be6f-85f4c7e90b2d"
   },
   "outputs": [
    {
     "name": "stdout",
     "output_type": "stream",
     "text": [
      "(7500, 32) (2500, 32)\n"
     ]
    },
    {
     "data": {
      "text/html": [
       "<div>\n",
       "<style scoped>\n",
       "    .dataframe tbody tr th:only-of-type {\n",
       "        vertical-align: middle;\n",
       "    }\n",
       "\n",
       "    .dataframe tbody tr th {\n",
       "        vertical-align: top;\n",
       "    }\n",
       "\n",
       "    .dataframe thead th {\n",
       "        text-align: right;\n",
       "    }\n",
       "</style>\n",
       "<table border=\"1\" class=\"dataframe\">\n",
       "  <thead>\n",
       "    <tr style=\"text-align: right;\">\n",
       "      <th></th>\n",
       "      <th>Gender_Female</th>\n",
       "      <th>HasCrCard_0</th>\n",
       "      <th>IsActiveMember_0</th>\n",
       "      <th>Geography_France</th>\n",
       "      <th>Geography_Germany</th>\n",
       "      <th>Geography_Spain</th>\n",
       "      <th>binn_Age_14-30</th>\n",
       "      <th>binn_Age_30-35</th>\n",
       "      <th>binn_Age_35-40</th>\n",
       "      <th>binn_Age_40-45</th>\n",
       "      <th>...</th>\n",
       "      <th>binn_EstimatedSalary_1</th>\n",
       "      <th>binn_EstimatedSalary_2</th>\n",
       "      <th>binn_EstimatedSalary_3</th>\n",
       "      <th>binn_EstimatedSalary_4</th>\n",
       "      <th>CreditScore</th>\n",
       "      <th>Age</th>\n",
       "      <th>Tenure</th>\n",
       "      <th>Balance</th>\n",
       "      <th>NumOfProducts</th>\n",
       "      <th>EstimatedSalary</th>\n",
       "    </tr>\n",
       "  </thead>\n",
       "  <tbody>\n",
       "    <tr>\n",
       "      <th>0</th>\n",
       "      <td>0</td>\n",
       "      <td>1</td>\n",
       "      <td>0</td>\n",
       "      <td>0</td>\n",
       "      <td>1</td>\n",
       "      <td>0</td>\n",
       "      <td>0</td>\n",
       "      <td>0</td>\n",
       "      <td>1</td>\n",
       "      <td>0</td>\n",
       "      <td>...</td>\n",
       "      <td>0</td>\n",
       "      <td>1</td>\n",
       "      <td>0</td>\n",
       "      <td>0</td>\n",
       "      <td>0.931808</td>\n",
       "      <td>-0.286140</td>\n",
       "      <td>-1.726890</td>\n",
       "      <td>0.818951</td>\n",
       "      <td>0.804202</td>\n",
       "      <td>-0.449945</td>\n",
       "    </tr>\n",
       "    <tr>\n",
       "      <th>1</th>\n",
       "      <td>0</td>\n",
       "      <td>1</td>\n",
       "      <td>1</td>\n",
       "      <td>1</td>\n",
       "      <td>0</td>\n",
       "      <td>0</td>\n",
       "      <td>0</td>\n",
       "      <td>0</td>\n",
       "      <td>0</td>\n",
       "      <td>0</td>\n",
       "      <td>...</td>\n",
       "      <td>1</td>\n",
       "      <td>0</td>\n",
       "      <td>0</td>\n",
       "      <td>0</td>\n",
       "      <td>-0.185926</td>\n",
       "      <td>0.761549</td>\n",
       "      <td>-1.726890</td>\n",
       "      <td>-1.223103</td>\n",
       "      <td>-0.913689</td>\n",
       "      <td>-1.631281</td>\n",
       "    </tr>\n",
       "    <tr>\n",
       "      <th>2</th>\n",
       "      <td>1</td>\n",
       "      <td>1</td>\n",
       "      <td>1</td>\n",
       "      <td>1</td>\n",
       "      <td>0</td>\n",
       "      <td>0</td>\n",
       "      <td>0</td>\n",
       "      <td>0</td>\n",
       "      <td>0</td>\n",
       "      <td>0</td>\n",
       "      <td>...</td>\n",
       "      <td>0</td>\n",
       "      <td>1</td>\n",
       "      <td>0</td>\n",
       "      <td>0</td>\n",
       "      <td>0.176303</td>\n",
       "      <td>3.142658</td>\n",
       "      <td>-1.036539</td>\n",
       "      <td>-1.223103</td>\n",
       "      <td>0.804202</td>\n",
       "      <td>-0.510415</td>\n",
       "    </tr>\n",
       "    <tr>\n",
       "      <th>3</th>\n",
       "      <td>1</td>\n",
       "      <td>1</td>\n",
       "      <td>0</td>\n",
       "      <td>1</td>\n",
       "      <td>0</td>\n",
       "      <td>0</td>\n",
       "      <td>0</td>\n",
       "      <td>0</td>\n",
       "      <td>0</td>\n",
       "      <td>1</td>\n",
       "      <td>...</td>\n",
       "      <td>1</td>\n",
       "      <td>0</td>\n",
       "      <td>0</td>\n",
       "      <td>0</td>\n",
       "      <td>0.797266</td>\n",
       "      <td>0.380571</td>\n",
       "      <td>0.689338</td>\n",
       "      <td>-1.223103</td>\n",
       "      <td>0.804202</td>\n",
       "      <td>-1.045445</td>\n",
       "    </tr>\n",
       "    <tr>\n",
       "      <th>4</th>\n",
       "      <td>1</td>\n",
       "      <td>1</td>\n",
       "      <td>0</td>\n",
       "      <td>0</td>\n",
       "      <td>1</td>\n",
       "      <td>0</td>\n",
       "      <td>0</td>\n",
       "      <td>0</td>\n",
       "      <td>0</td>\n",
       "      <td>1</td>\n",
       "      <td>...</td>\n",
       "      <td>1</td>\n",
       "      <td>0</td>\n",
       "      <td>0</td>\n",
       "      <td>0</td>\n",
       "      <td>-0.320468</td>\n",
       "      <td>0.094838</td>\n",
       "      <td>-0.001013</td>\n",
       "      <td>0.507413</td>\n",
       "      <td>0.804202</td>\n",
       "      <td>-0.876750</td>\n",
       "    </tr>\n",
       "  </tbody>\n",
       "</table>\n",
       "<p>5 rows × 32 columns</p>\n",
       "</div>"
      ],
      "text/plain": [
       "   Gender_Female  HasCrCard_0  IsActiveMember_0  Geography_France  \\\n",
       "0              0            1                 0                 0   \n",
       "1              0            1                 1                 1   \n",
       "2              1            1                 1                 1   \n",
       "3              1            1                 0                 1   \n",
       "4              1            1                 0                 0   \n",
       "\n",
       "   Geography_Germany  Geography_Spain  binn_Age_14-30  binn_Age_30-35  \\\n",
       "0                  1                0               0               0   \n",
       "1                  0                0               0               0   \n",
       "2                  0                0               0               0   \n",
       "3                  0                0               0               0   \n",
       "4                  1                0               0               0   \n",
       "\n",
       "   binn_Age_35-40  binn_Age_40-45       ...         binn_EstimatedSalary_1  \\\n",
       "0               1               0       ...                              0   \n",
       "1               0               0       ...                              1   \n",
       "2               0               0       ...                              0   \n",
       "3               0               1       ...                              1   \n",
       "4               0               1       ...                              1   \n",
       "\n",
       "   binn_EstimatedSalary_2  binn_EstimatedSalary_3  binn_EstimatedSalary_4  \\\n",
       "0                       1                       0                       0   \n",
       "1                       0                       0                       0   \n",
       "2                       1                       0                       0   \n",
       "3                       0                       0                       0   \n",
       "4                       0                       0                       0   \n",
       "\n",
       "   CreditScore       Age    Tenure   Balance  NumOfProducts  EstimatedSalary  \n",
       "0     0.931808 -0.286140 -1.726890  0.818951       0.804202        -0.449945  \n",
       "1    -0.185926  0.761549 -1.726890 -1.223103      -0.913689        -1.631281  \n",
       "2     0.176303  3.142658 -1.036539 -1.223103       0.804202        -0.510415  \n",
       "3     0.797266  0.380571  0.689338 -1.223103       0.804202        -1.045445  \n",
       "4    -0.320468  0.094838 -0.001013  0.507413       0.804202        -0.876750  \n",
       "\n",
       "[5 rows x 32 columns]"
      ]
     },
     "execution_count": 26,
     "metadata": {},
     "output_type": "execute_result"
    }
   ],
   "source": [
    "# Trnasform raw data to foramt model recognized\n",
    "tr_x, tr_y, status = feature_engineering(raw, is_train=True)\n",
    "vl_x, vl_y, _ = feature_engineering(raw_vl, is_train=False, status=status)\n",
    "\n",
    "print( tr_x.shape, vl_x.shape )\n",
    "tr_x.head()"
   ]
  },
  {
   "cell_type": "markdown",
   "metadata": {
    "colab_type": "text",
    "id": "dnxnxDXNtmuB"
   },
   "source": [
    "## (LAB) Model (Binning)\n",
    "\n",
    "* 調整network架構\n",
    "* 調整analyze的beta參數(0.1 ~ 2), 觀察precision, recall變化"
   ]
  },
  {
   "cell_type": "code",
   "execution_count": 27,
   "metadata": {
    "colab": {
     "base_uri": "https://localhost:8080/",
     "height": 3137
    },
    "colab_type": "code",
    "executionInfo": {
     "elapsed": 7049,
     "status": "ok",
     "timestamp": 1539071078354,
     "user": {
      "displayName": "Gary Chen",
      "photoUrl": "",
      "userId": "10783188122132859162"
     },
     "user_tz": -480
    },
    "id": "71eIwvz7tmuE",
    "outputId": "088bb8fc-5b51-4d0a-c85d-35ad434e7880",
    "scrolled": true
   },
   "outputs": [
    {
     "name": "stdout",
     "output_type": "stream",
     "text": [
      "_________________________________________________________________\n",
      "Layer (type)                 Output Shape              Param #   \n",
      "=================================================================\n",
      "dense_1 (Dense)              (None, 32)                1056      \n",
      "_________________________________________________________________\n",
      "dense_2 (Dense)              (None, 16)                528       \n",
      "_________________________________________________________________\n",
      "dense_3 (Dense)              (None, 1)                 17        \n",
      "=================================================================\n",
      "Total params: 1,601\n",
      "Trainable params: 1,601\n",
      "Non-trainable params: 0\n",
      "_________________________________________________________________\n",
      "Train on 7500 samples, validate on 2500 samples\n",
      "Epoch 1/30\n",
      "7500/7500 [==============================] - 1s 110us/step - loss: 0.6131 - acc: 0.7839 - val_loss: 0.4501 - val_acc: 0.8044\n",
      "Epoch 2/30\n",
      "7500/7500 [==============================] - 0s 36us/step - loss: 0.4475 - acc: 0.7936 - val_loss: 0.4085 - val_acc: 0.8044\n",
      "Epoch 3/30\n",
      "7500/7500 [==============================] - 0s 38us/step - loss: 0.4296 - acc: 0.7949 - val_loss: 0.3985 - val_acc: 0.8192\n",
      "Epoch 4/30\n",
      "7500/7500 [==============================] - 0s 34us/step - loss: 0.4227 - acc: 0.8159 - val_loss: 0.3903 - val_acc: 0.8340\n",
      "Epoch 5/30\n",
      "7500/7500 [==============================] - 0s 34us/step - loss: 0.4159 - acc: 0.8245 - val_loss: 0.3839 - val_acc: 0.8400\n",
      "Epoch 6/30\n",
      "7500/7500 [==============================] - 0s 35us/step - loss: 0.4086 - acc: 0.8277 - val_loss: 0.3774 - val_acc: 0.8412\n",
      "Epoch 7/30\n",
      "7500/7500 [==============================] - 0s 33us/step - loss: 0.4036 - acc: 0.8303 - val_loss: 0.3730 - val_acc: 0.8444\n",
      "Epoch 8/30\n",
      "7500/7500 [==============================] - 0s 32us/step - loss: 0.3950 - acc: 0.8325 - val_loss: 0.3703 - val_acc: 0.8444\n",
      "Epoch 9/30\n",
      "7500/7500 [==============================] - 0s 37us/step - loss: 0.3885 - acc: 0.8369 - val_loss: 0.3640 - val_acc: 0.8460\n",
      "Epoch 10/30\n",
      "7500/7500 [==============================] - 0s 35us/step - loss: 0.3829 - acc: 0.8389 - val_loss: 0.3615 - val_acc: 0.8464\n",
      "Epoch 11/30\n",
      "7500/7500 [==============================] - 0s 37us/step - loss: 0.3776 - acc: 0.8411 - val_loss: 0.3586 - val_acc: 0.8492\n",
      "Epoch 12/30\n",
      "7500/7500 [==============================] - 0s 32us/step - loss: 0.3753 - acc: 0.8416 - val_loss: 0.3557 - val_acc: 0.8532\n",
      "Epoch 13/30\n",
      "7500/7500 [==============================] - 0s 34us/step - loss: 0.3694 - acc: 0.8443 - val_loss: 0.3577 - val_acc: 0.8552\n",
      "Epoch 14/30\n",
      "7500/7500 [==============================] - 0s 35us/step - loss: 0.3640 - acc: 0.8489 - val_loss: 0.3506 - val_acc: 0.8556\n",
      "Epoch 15/30\n",
      "7500/7500 [==============================] - 0s 33us/step - loss: 0.3581 - acc: 0.8527 - val_loss: 0.3552 - val_acc: 0.8564\n",
      "Epoch 16/30\n",
      "7500/7500 [==============================] - 0s 35us/step - loss: 0.3531 - acc: 0.8551 - val_loss: 0.3382 - val_acc: 0.8636\n",
      "Epoch 17/30\n",
      "7500/7500 [==============================] - 0s 33us/step - loss: 0.3458 - acc: 0.8581 - val_loss: 0.3355 - val_acc: 0.8624\n",
      "Epoch 18/30\n",
      "7500/7500 [==============================] - 0s 34us/step - loss: 0.3428 - acc: 0.8557 - val_loss: 0.3396 - val_acc: 0.8584\n",
      "Epoch 19/30\n",
      "7500/7500 [==============================] - 0s 34us/step - loss: 0.3400 - acc: 0.8579 - val_loss: 0.3380 - val_acc: 0.8608\n",
      "Epoch 20/30\n",
      "7500/7500 [==============================] - 0s 33us/step - loss: 0.3394 - acc: 0.8581 - val_loss: 0.3378 - val_acc: 0.8608\n",
      "Epoch 21/30\n",
      "7500/7500 [==============================] - 0s 33us/step - loss: 0.3391 - acc: 0.8579 - val_loss: 0.3418 - val_acc: 0.8552\n",
      "Epoch 22/30\n",
      "7500/7500 [==============================] - 0s 34us/step - loss: 0.3387 - acc: 0.8600 - val_loss: 0.3464 - val_acc: 0.8544\n",
      "Epoch 23/30\n",
      "7500/7500 [==============================] - 0s 34us/step - loss: 0.3383 - acc: 0.8596 - val_loss: 0.3365 - val_acc: 0.8632\n",
      "Epoch 24/30\n",
      "7500/7500 [==============================] - 0s 35us/step - loss: 0.3363 - acc: 0.8596 - val_loss: 0.3372 - val_acc: 0.8604\n",
      "Epoch 25/30\n",
      "7500/7500 [==============================] - 0s 35us/step - loss: 0.3361 - acc: 0.8585 - val_loss: 0.3377 - val_acc: 0.8620\n",
      "Epoch 26/30\n",
      "7500/7500 [==============================] - 0s 33us/step - loss: 0.3357 - acc: 0.8616 - val_loss: 0.3413 - val_acc: 0.8564\n",
      "Epoch 27/30\n",
      "7500/7500 [==============================] - 0s 34us/step - loss: 0.3353 - acc: 0.8619 - val_loss: 0.3391 - val_acc: 0.8608\n",
      "Epoch 28/30\n",
      "7500/7500 [==============================] - 0s 32us/step - loss: 0.3355 - acc: 0.8599 - val_loss: 0.3389 - val_acc: 0.8644\n",
      "Epoch 29/30\n",
      "7500/7500 [==============================] - 0s 33us/step - loss: 0.3343 - acc: 0.8624 - val_loss: 0.3398 - val_acc: 0.8616\n",
      "Epoch 30/30\n",
      "7500/7500 [==============================] - 0s 34us/step - loss: 0.3348 - acc: 0.8608 - val_loss: 0.3400 - val_acc: 0.8640\n"
     ]
    },
    {
     "data": {
      "image/png": "[encoded data removed]",
      "text/plain": [
       "<Figure size 1152x360 with 2 Axes>"
      ]
     },
     "metadata": {},
     "output_type": "display_data"
    },
    {
     "name": "stdout",
     "output_type": "stream",
     "text": [
      "auc: 0.8516024849015487\n"
     ]
    },
    {
     "data": {
      "image/png": "[encoded data removed]",
      "text/plain": [
       "<Figure size 432x432 with 1 Axes>"
      ]
     },
     "metadata": {},
     "output_type": "display_data"
    },
    {
     "name": "stdout",
     "output_type": "stream",
     "text": [
      "count    2500.000000\n",
      "mean        0.194791\n",
      "std         0.236795\n",
      "min         0.003973\n",
      "25%         0.039943\n",
      "50%         0.093930\n",
      "75%         0.244428\n",
      "max         0.998732\n",
      "dtype: float64\n",
      "0.19479059 0.23679458\n"
     ]
    },
    {
     "data": {
      "image/png": "[encoded data removed]",
      "text/plain": [
       "<Figure size 432x288 with 1 Axes>"
      ]
     },
     "metadata": {},
     "output_type": "display_data"
    },
    {
     "data": {
      "image/png": "[encoded data removed]",
      "text/plain": [
       "<Figure size 432x288 with 1 Axes>"
      ]
     },
     "metadata": {},
     "output_type": "display_data"
    },
    {
     "data": {
      "image/png": "[encoded data removed]",
      "text/plain": [
       "<Figure size 432x288 with 1 Axes>"
      ]
     },
     "metadata": {},
     "output_type": "display_data"
    },
    {
     "name": "stdout",
     "output_type": "stream",
     "text": [
      "thres: 0.3456, f_beta score: 0.6032\n",
      "accuracy@0.3456: 0.85\n",
      "\n",
      "threshold@0.5, accuracy: 0.8640\n",
      "[[1934   77]\n",
      " [ 263  226]] \n",
      "\n",
      "             precision    recall  f1-score   support\n",
      "\n",
      "          0       0.88      0.96      0.92      2011\n",
      "          1       0.75      0.46      0.57       489\n",
      "\n",
      "avg / total       0.85      0.86      0.85      2500\n",
      "\n",
      "threshold@0.3456, accuracy: 0.8516\n",
      "[[1847  164]\n",
      " [ 207  282]]\n",
      "             precision    recall  f1-score   support\n",
      "\n",
      "          0       0.90      0.92      0.91      2011\n",
      "          1       0.63      0.58      0.60       489\n",
      "\n",
      "avg / total       0.85      0.85      0.85      2500\n",
      "\n"
     ]
    },
    {
     "name": "stderr",
     "output_type": "stream",
     "text": [
      "d:\\python\\anaconda3-5.2.0\\envs\\py3_6\\lib\\site-packages\\sklearn\\metrics\\classification.py:1135: UndefinedMetricWarning: Precision and F-score are ill-defined and being set to 0.0 in labels with no predicted samples.\n",
      "  'precision', 'predicted', average, warn_for)\n"
     ]
    }
   ],
   "source": [
    "def get_model(input_dim):\n",
    "    model = Sequential()\n",
    "    # kernel_regularizer=regularizers.l2(0.005)\n",
    "    model.add(Dense(units = 32, activation = 'relu', kernel_initializer='uniform', input_dim = input_dim))\n",
    "    model.add(Dense(units = 16, activation = 'relu', kernel_initializer='uniform'))\n",
    "    model.add(Dense(units = 1, activation = 'sigmoid', kernel_initializer='uniform'))\n",
    "    model.summary()\n",
    "    model.compile(optimizer = 'adam', loss = 'binary_crossentropy', metrics = ['accuracy'])\n",
    "    \n",
    "    return model\n",
    "\n",
    "K.clear_session()\n",
    "\n",
    "model = get_model(input_dim=tr_x.shape[1])\n",
    "hist = model.fit(tr_x, tr_y, validation_data=(vl_x, vl_y), batch_size=100, epochs=30)\n",
    "plot_result(hist)\n",
    "draw_roc_curve(vl_y, model.predict(vl_x))\n",
    "\n",
    "y_pred = model.predict(vl_x)\n",
    "pred_dist(y_pred)\n",
    "analyze(vl_y, y_pred)"
   ]
  },
  {
   "cell_type": "markdown",
   "metadata": {
    "colab_type": "text",
    "id": "4EtiRvZDGVfV"
   },
   "source": [
    "## Add Weight of Evidence Encoding"
   ]
  },
  {
   "cell_type": "code",
   "execution_count": null,
   "metadata": {
    "colab": {},
    "colab_type": "code",
    "id": "L_YwlDOpGVml"
   },
   "outputs": [],
   "source": [
    "def do_woe_encoding(catg_ftrs, catg_part, status, data, is_train):\n",
    "\n",
    "    def woe_encode(x, label, data):\n",
    "        \"\"\"Calculate the Weight of Evidence of given categorical feature and label\n",
    "\n",
    "        :param x: Given feature name\n",
    "        :param label: Label name\n",
    "        :param data:\n",
    "        :return: WOE encoded dictionary\n",
    "        \"\"\"\n",
    "        total_vc = data[label].value_counts().sort_index()\n",
    "\n",
    "        def woe(pipe, total_vc):\n",
    "            # Count by label in this group\n",
    "            group_vc = pipe[label].value_counts().sort_index()\n",
    "\n",
    "            # Some class in the feature is missing, fill zero to missing class\n",
    "            if len(group_vc) < len(total_vc):\n",
    "                for key in total_vc.index:\n",
    "                    if key not in group_vc:\n",
    "                        group_vc[key] = 0.\n",
    "                group_vc = group_vc.sort_index()\n",
    "\n",
    "            # WOE formula\n",
    "            r = ((group_vc + 0.5) / total_vc).values\n",
    "\n",
    "            # Odd ratio => 1 to 0, you can define meaning of each class\n",
    "            return np.log(r[1] / r[0])\n",
    "\n",
    "        return data.groupby(x).apply(lambda pipe: woe(pipe, total_vc))\n",
    "\n",
    "    for catg_col in catg_ftrs:\n",
    "        if is_train:\n",
    "            kv = woe_encode(catg_col, 'Exited', data)\n",
    "            status['woe_mapper'][catg_col] = kv.to_dict()\n",
    "        else:\n",
    "            kv = pd.Series(status['woe_mapper'][catg_col])\n",
    "        catg_part[f'woe_{catg_col}'] = kv.reindex(data[catg_col]).values\n",
    "    pass"
   ]
  },
  {
   "cell_type": "code",
   "execution_count": null,
   "metadata": {
    "colab": {
     "base_uri": "https://localhost:8080/",
     "height": 278
    },
    "colab_type": "code",
    "executionInfo": {
     "elapsed": 812,
     "status": "ok",
     "timestamp": 1539071088202,
     "user": {
      "displayName": "Gary Chen",
      "photoUrl": "",
      "userId": "10783188122132859162"
     },
     "user_tz": -480
    },
    "id": "97KvsdGYtmuK",
    "outputId": "790fc281-197f-4855-d182-34472d58e368"
   },
   "outputs": [],
   "source": [
    "# Trnasform raw data to foramt model recognized\n",
    "tr_x, tr_y, status = feature_engineering(raw, is_train=True)\n",
    "vl_x, vl_y, _ = feature_engineering(raw_vl, is_train=False, status=status)\n",
    "\n",
    "print( tr_x.shape, vl_x.shape )\n",
    "tr_x.head()"
   ]
  },
  {
   "cell_type": "markdown",
   "metadata": {
    "colab_type": "text",
    "id": "xp-VkesMgDVz"
   },
   "source": [
    "## (LAB) Model (WOE)\n",
    "\n",
    "* 調整network架構\n",
    "* 調整analyze的beta參數(0.1 ~ 2), 觀察precision, recall變化"
   ]
  },
  {
   "cell_type": "code",
   "execution_count": null,
   "metadata": {
    "colab": {
     "base_uri": "https://localhost:8080/",
     "height": 3137
    },
    "colab_type": "code",
    "executionInfo": {
     "elapsed": 7446,
     "status": "ok",
     "timestamp": 1539071099830,
     "user": {
      "displayName": "Gary Chen",
      "photoUrl": "",
      "userId": "10783188122132859162"
     },
     "user_tz": -480
    },
    "id": "_1oC02RWeZoH",
    "outputId": "28eff2c3-4274-43a0-922b-c4d0008c29f1",
    "scrolled": true
   },
   "outputs": [],
   "source": [
    "def get_model(input_dim):\n",
    "    model = Sequential()\n",
    "    # kernel_regularizer=regularizers.l2(0.005)\n",
    "    model.add(Dense(units = 64, activation = 'relu', kernel_initializer='uniform', input_dim = input_dim))\n",
    "    model.add(Dense(units = 32, activation = 'relu', kernel_initializer='uniform'))\n",
    "    model.add(Dense(units = 1, activation = 'sigmoid', kernel_initializer='uniform'))\n",
    "    model.summary()\n",
    "    model.compile(optimizer = 'adam', loss = 'binary_crossentropy', metrics = ['accuracy'])\n",
    "    \n",
    "    return model\n",
    "\n",
    "K.clear_session()\n",
    "\n",
    "model = get_model(input_dim=tr_x.shape[1])\n",
    "hist = model.fit(tr_x, tr_y, validation_data=(vl_x, vl_y), batch_size=100, epochs=30)\n",
    "plot_result(hist)\n",
    "draw_roc_curve(vl_y, model.predict(vl_x))\n",
    "\n",
    "y_pred = model.predict(vl_x)\n",
    "pred_dist(y_pred)\n",
    "analyze(vl_y, y_pred)"
   ]
  },
  {
   "cell_type": "markdown",
   "metadata": {
    "colab_type": "text",
    "id": "r9PxgBqptmuU"
   },
   "source": [
    "## Target Encoding\n",
    "\n",
    "* Frequency encoding\n",
    "* Mean encoding"
   ]
  },
  {
   "cell_type": "code",
   "execution_count": null,
   "metadata": {
    "colab": {},
    "colab_type": "code",
    "id": "7HPcgCG0tmuV"
   },
   "outputs": [],
   "source": [
    "def do_target_encoding(catg_ftrs, catg_part, status, data, is_train):\n",
    "    for catg_col in catg_ftrs:\n",
    "        if is_train:\n",
    "            freq_proportion = data[catg_col].value_counts() / len(data)\n",
    "            catg_part[f'freq_{catg_col}'] = freq_proportion.reindex(data[catg_col]).values\n",
    "            target_mean = data.groupby(catg_col).Exited.mean()\n",
    "            catg_part[f'mean_{catg_col}'] = target_mean.reindex(data[catg_col]).values\n",
    "\n",
    "            status['freq_mapper'][catg_col] = freq_proportion.to_dict()\n",
    "            status['mean_mapper'][catg_col] = target_mean.to_dict()\n",
    "        else:\n",
    "            catg_part[f'freq_{catg_col}'] = pd.Series(status['freq_mapper'][catg_col]).reindex(data[catg_col]).values\n",
    "            catg_part[f'mean_{catg_col}'] = pd.Series(status['mean_mapper'][catg_col]).reindex(data[catg_col]).values\n",
    "    pass"
   ]
  },
  {
   "cell_type": "code",
   "execution_count": null,
   "metadata": {
    "colab": {
     "base_uri": "https://localhost:8080/",
     "height": 278
    },
    "colab_type": "code",
    "executionInfo": {
     "elapsed": 871,
     "status": "ok",
     "timestamp": 1539071107923,
     "user": {
      "displayName": "Gary Chen",
      "photoUrl": "",
      "userId": "10783188122132859162"
     },
     "user_tz": -480
    },
    "id": "y6sDmkOZtmuX",
    "outputId": "db2d4bf4-26c6-4974-8356-31332c952060",
    "scrolled": true
   },
   "outputs": [],
   "source": [
    "# Trnasform raw data to foramt model recognized\n",
    "tr_x, tr_y, status = feature_engineering(raw, is_train=True)\n",
    "vl_x, vl_y, _ = feature_engineering(raw_vl, is_train=False, status=status)\n",
    "\n",
    "print( tr_x.shape, vl_x.shape )\n",
    "tr_x.head()"
   ]
  },
  {
   "cell_type": "markdown",
   "metadata": {
    "colab_type": "text",
    "id": "lBgfcS9Otmua"
   },
   "source": [
    "## (LAB) Model (Target Mean Encoding)\n",
    "\n",
    "* 調整network架構\n",
    "* 調整analyze的beta參數(0.1 ~ 2), 觀察precision, recall變化"
   ]
  },
  {
   "cell_type": "code",
   "execution_count": null,
   "metadata": {
    "colab": {
     "base_uri": "https://localhost:8080/",
     "height": 3170
    },
    "colab_type": "code",
    "executionInfo": {
     "elapsed": 7670,
     "status": "ok",
     "timestamp": 1539071143341,
     "user": {
      "displayName": "Gary Chen",
      "photoUrl": "",
      "userId": "10783188122132859162"
     },
     "user_tz": -480
    },
    "id": "YQ9IMErmtmua",
    "outputId": "a8db937d-cc2a-42c5-c90e-2935c1a13f95",
    "scrolled": true
   },
   "outputs": [],
   "source": [
    "def get_model(input_dim):\n",
    "    model = Sequential()\n",
    "    # kernel_regularizer=regularizers.l2(0.005)\n",
    "    model.add(Dense(units = 64, activation = 'relu', kernel_initializer='uniform', input_dim = input_dim))\n",
    "    model.add(Dense(units = 32, activation = 'relu', kernel_initializer='uniform'))\n",
    "    model.add(Dense(units = 16, activation = 'relu', kernel_initializer='uniform'))\n",
    "    model.add(Dense(units = 1, activation = 'sigmoid', kernel_initializer='uniform'))\n",
    "    model.summary()\n",
    "    model.compile(optimizer = 'adam', loss = 'binary_crossentropy', metrics = ['accuracy'])\n",
    "    \n",
    "    return model\n",
    "\n",
    "K.clear_session()\n",
    "\n",
    "model = get_model(input_dim=tr_x.shape[1])\n",
    "hist = model.fit(tr_x, tr_y, validation_data=(vl_x, vl_y), batch_size=100, epochs=30)\n",
    "plot_result(hist)\n",
    "draw_roc_curve(vl_y, model.predict(vl_x))\n",
    "\n",
    "y_pred = model.predict(vl_x)\n",
    "pred_dist(y_pred)\n",
    "analyze(vl_y, y_pred)"
   ]
  },
  {
   "cell_type": "markdown",
   "metadata": {},
   "source": [
    "## Add Entropy Engineering\n",
    "$$ -\\sum_{i} p_{i} \\times log(p_{i}) $$"
   ]
  },
  {
   "cell_type": "code",
   "execution_count": 37,
   "metadata": {},
   "outputs": [],
   "source": [
    "def do_entropy_encoding(catg_ftrs, encoded_ftrs, status, data, is_train):\n",
    "    def entropy_encode(x, label, data):\n",
    "        def entropy(pipe):\n",
    "            # Count by label in this group\n",
    "            group_vc = pipe[label].value_counts()\n",
    "            # Only one class in label, the entropy equal to zero\n",
    "            if len(group_vc) <= 1:\n",
    "                return 0\n",
    "\n",
    "            return -(group_vc / len(pipe)).map(lambda e: e * np.log2(e)).sum()\n",
    "\n",
    "        class_proba = data.groupby(x).size() / len(data)\n",
    "        class_entropy = data.groupby(x).apply(entropy)\n",
    "        return class_proba.reindex(class_entropy.index).values * class_entropy\n",
    "\n",
    "    for catg_col in catg_ftrs:\n",
    "        if is_train:\n",
    "            kv = entropy_encode(catg_col, 'Exited', data)\n",
    "            status['entropy_mapper'][catg_col] = kv.to_dict()\n",
    "        else:\n",
    "            kv = pd.Series(status['entropy_mapper'][catg_col])\n",
    "        encoded_ftrs[f'entropy_{catg_col}'] = kv.reindex(data[catg_col]).values\n",
    "    pass"
   ]
  },
  {
   "cell_type": "code",
   "execution_count": 38,
   "metadata": {},
   "outputs": [
    {
     "name": "stdout",
     "output_type": "stream",
     "text": [
      "(7500, 41) (2500, 41)\n"
     ]
    },
    {
     "data": {
      "text/html": [
       "<div>\n",
       "<style scoped>\n",
       "    .dataframe tbody tr th:only-of-type {\n",
       "        vertical-align: middle;\n",
       "    }\n",
       "\n",
       "    .dataframe tbody tr th {\n",
       "        vertical-align: top;\n",
       "    }\n",
       "\n",
       "    .dataframe thead th {\n",
       "        text-align: right;\n",
       "    }\n",
       "</style>\n",
       "<table border=\"1\" class=\"dataframe\">\n",
       "  <thead>\n",
       "    <tr style=\"text-align: right;\">\n",
       "      <th></th>\n",
       "      <th>Gender_Female</th>\n",
       "      <th>HasCrCard_0</th>\n",
       "      <th>IsActiveMember_0</th>\n",
       "      <th>Geography_France</th>\n",
       "      <th>Geography_Germany</th>\n",
       "      <th>Geography_Spain</th>\n",
       "      <th>binn_Age_14-30</th>\n",
       "      <th>binn_Age_30-35</th>\n",
       "      <th>binn_Age_35-40</th>\n",
       "      <th>binn_Age_40-45</th>\n",
       "      <th>...</th>\n",
       "      <th>entropy_binn_Balance</th>\n",
       "      <th>entropy_binn_CreditScore</th>\n",
       "      <th>entropy_binn_Tenure</th>\n",
       "      <th>entropy_binn_EstimatedSalary</th>\n",
       "      <th>CreditScore</th>\n",
       "      <th>Age</th>\n",
       "      <th>Tenure</th>\n",
       "      <th>Balance</th>\n",
       "      <th>NumOfProducts</th>\n",
       "      <th>EstimatedSalary</th>\n",
       "    </tr>\n",
       "  </thead>\n",
       "  <tbody>\n",
       "    <tr>\n",
       "      <th>0</th>\n",
       "      <td>0</td>\n",
       "      <td>1</td>\n",
       "      <td>0</td>\n",
       "      <td>0</td>\n",
       "      <td>1</td>\n",
       "      <td>0</td>\n",
       "      <td>0</td>\n",
       "      <td>0</td>\n",
       "      <td>1</td>\n",
       "      <td>0</td>\n",
       "      <td>...</td>\n",
       "      <td>0.509141</td>\n",
       "      <td>0.185776</td>\n",
       "      <td>0.114673</td>\n",
       "      <td>0.183117</td>\n",
       "      <td>0.931808</td>\n",
       "      <td>-0.286140</td>\n",
       "      <td>-1.726890</td>\n",
       "      <td>0.818951</td>\n",
       "      <td>0.804202</td>\n",
       "      <td>-0.449945</td>\n",
       "    </tr>\n",
       "    <tr>\n",
       "      <th>1</th>\n",
       "      <td>0</td>\n",
       "      <td>1</td>\n",
       "      <td>1</td>\n",
       "      <td>1</td>\n",
       "      <td>0</td>\n",
       "      <td>0</td>\n",
       "      <td>0</td>\n",
       "      <td>0</td>\n",
       "      <td>0</td>\n",
       "      <td>0</td>\n",
       "      <td>...</td>\n",
       "      <td>0.215042</td>\n",
       "      <td>0.186951</td>\n",
       "      <td>0.114673</td>\n",
       "      <td>0.178870</td>\n",
       "      <td>-0.185926</td>\n",
       "      <td>0.761549</td>\n",
       "      <td>-1.726890</td>\n",
       "      <td>-1.223103</td>\n",
       "      <td>-0.913689</td>\n",
       "      <td>-1.631281</td>\n",
       "    </tr>\n",
       "    <tr>\n",
       "      <th>2</th>\n",
       "      <td>1</td>\n",
       "      <td>1</td>\n",
       "      <td>1</td>\n",
       "      <td>1</td>\n",
       "      <td>0</td>\n",
       "      <td>0</td>\n",
       "      <td>0</td>\n",
       "      <td>0</td>\n",
       "      <td>0</td>\n",
       "      <td>0</td>\n",
       "      <td>...</td>\n",
       "      <td>0.215042</td>\n",
       "      <td>0.171922</td>\n",
       "      <td>0.220875</td>\n",
       "      <td>0.183117</td>\n",
       "      <td>0.176303</td>\n",
       "      <td>3.142658</td>\n",
       "      <td>-1.036539</td>\n",
       "      <td>-1.223103</td>\n",
       "      <td>0.804202</td>\n",
       "      <td>-0.510415</td>\n",
       "    </tr>\n",
       "    <tr>\n",
       "      <th>3</th>\n",
       "      <td>1</td>\n",
       "      <td>1</td>\n",
       "      <td>0</td>\n",
       "      <td>1</td>\n",
       "      <td>0</td>\n",
       "      <td>0</td>\n",
       "      <td>0</td>\n",
       "      <td>0</td>\n",
       "      <td>0</td>\n",
       "      <td>1</td>\n",
       "      <td>...</td>\n",
       "      <td>0.215042</td>\n",
       "      <td>0.185776</td>\n",
       "      <td>0.213170</td>\n",
       "      <td>0.178870</td>\n",
       "      <td>0.797266</td>\n",
       "      <td>0.380571</td>\n",
       "      <td>0.689338</td>\n",
       "      <td>-1.223103</td>\n",
       "      <td>0.804202</td>\n",
       "      <td>-1.045445</td>\n",
       "    </tr>\n",
       "    <tr>\n",
       "      <th>4</th>\n",
       "      <td>1</td>\n",
       "      <td>1</td>\n",
       "      <td>0</td>\n",
       "      <td>0</td>\n",
       "      <td>1</td>\n",
       "      <td>0</td>\n",
       "      <td>0</td>\n",
       "      <td>0</td>\n",
       "      <td>0</td>\n",
       "      <td>1</td>\n",
       "      <td>...</td>\n",
       "      <td>0.509141</td>\n",
       "      <td>0.186951</td>\n",
       "      <td>0.213170</td>\n",
       "      <td>0.178870</td>\n",
       "      <td>-0.320468</td>\n",
       "      <td>0.094838</td>\n",
       "      <td>-0.001013</td>\n",
       "      <td>0.507413</td>\n",
       "      <td>0.804202</td>\n",
       "      <td>-0.876750</td>\n",
       "    </tr>\n",
       "  </tbody>\n",
       "</table>\n",
       "<p>5 rows × 41 columns</p>\n",
       "</div>"
      ],
      "text/plain": [
       "   Gender_Female  HasCrCard_0  IsActiveMember_0  Geography_France  \\\n",
       "0              0            1                 0                 0   \n",
       "1              0            1                 1                 1   \n",
       "2              1            1                 1                 1   \n",
       "3              1            1                 0                 1   \n",
       "4              1            1                 0                 0   \n",
       "\n",
       "   Geography_Germany  Geography_Spain  binn_Age_14-30  binn_Age_30-35  \\\n",
       "0                  1                0               0               0   \n",
       "1                  0                0               0               0   \n",
       "2                  0                0               0               0   \n",
       "3                  0                0               0               0   \n",
       "4                  1                0               0               0   \n",
       "\n",
       "   binn_Age_35-40  binn_Age_40-45       ...         entropy_binn_Balance  \\\n",
       "0               1               0       ...                     0.509141   \n",
       "1               0               0       ...                     0.215042   \n",
       "2               0               0       ...                     0.215042   \n",
       "3               0               1       ...                     0.215042   \n",
       "4               0               1       ...                     0.509141   \n",
       "\n",
       "   entropy_binn_CreditScore  entropy_binn_Tenure  \\\n",
       "0                  0.185776             0.114673   \n",
       "1                  0.186951             0.114673   \n",
       "2                  0.171922             0.220875   \n",
       "3                  0.185776             0.213170   \n",
       "4                  0.186951             0.213170   \n",
       "\n",
       "   entropy_binn_EstimatedSalary  CreditScore       Age    Tenure   Balance  \\\n",
       "0                      0.183117     0.931808 -0.286140 -1.726890  0.818951   \n",
       "1                      0.178870    -0.185926  0.761549 -1.726890 -1.223103   \n",
       "2                      0.183117     0.176303  3.142658 -1.036539 -1.223103   \n",
       "3                      0.178870     0.797266  0.380571  0.689338 -1.223103   \n",
       "4                      0.178870    -0.320468  0.094838 -0.001013  0.507413   \n",
       "\n",
       "   NumOfProducts  EstimatedSalary  \n",
       "0       0.804202        -0.449945  \n",
       "1      -0.913689        -1.631281  \n",
       "2       0.804202        -0.510415  \n",
       "3       0.804202        -1.045445  \n",
       "4       0.804202        -0.876750  \n",
       "\n",
       "[5 rows x 41 columns]"
      ]
     },
     "execution_count": 38,
     "metadata": {},
     "output_type": "execute_result"
    }
   ],
   "source": [
    "# Trnasform raw data to foramt model recognized\n",
    "tr_x, tr_y, status = feature_engineering(raw, is_train=True)\n",
    "vl_x, vl_y, _ = feature_engineering(raw_vl, is_train=False, status=status)\n",
    "\n",
    "print( tr_x.shape, vl_x.shape )\n",
    "tr_x.head()"
   ]
  },
  {
   "cell_type": "code",
   "execution_count": 39,
   "metadata": {
    "scrolled": true
   },
   "outputs": [
    {
     "name": "stdout",
     "output_type": "stream",
     "text": [
      "_________________________________________________________________\n",
      "Layer (type)                 Output Shape              Param #   \n",
      "=================================================================\n",
      "dense_1 (Dense)              (None, 64)                2688      \n",
      "_________________________________________________________________\n",
      "dense_2 (Dense)              (None, 32)                2080      \n",
      "_________________________________________________________________\n",
      "dense_3 (Dense)              (None, 16)                528       \n",
      "_________________________________________________________________\n",
      "dense_4 (Dense)              (None, 1)                 17        \n",
      "=================================================================\n",
      "Total params: 5,313\n",
      "Trainable params: 5,313\n",
      "Non-trainable params: 0\n",
      "_________________________________________________________________\n",
      "Train on 7500 samples, validate on 2500 samples\n",
      "Epoch 1/30\n",
      "7500/7500 [==============================] - 1s 88us/step - loss: 0.5757 - acc: 0.7872 - val_loss: 0.4387 - val_acc: 0.8044\n",
      "Epoch 2/30\n",
      "7500/7500 [==============================] - 0s 41us/step - loss: 0.4373 - acc: 0.7936 - val_loss: 0.4002 - val_acc: 0.8044\n",
      "Epoch 3/30\n",
      "7500/7500 [==============================] - 0s 41us/step - loss: 0.4255 - acc: 0.7936 - val_loss: 0.3917 - val_acc: 0.8044\n",
      "Epoch 4/30\n",
      "7500/7500 [==============================] - 0s 37us/step - loss: 0.4185 - acc: 0.8163 - val_loss: 0.3833 - val_acc: 0.8452\n",
      "Epoch 5/30\n",
      "7500/7500 [==============================] - 0s 38us/step - loss: 0.4044 - acc: 0.8301 - val_loss: 0.3758 - val_acc: 0.8448\n",
      "Epoch 6/30\n",
      "7500/7500 [==============================] - 0s 39us/step - loss: 0.3859 - acc: 0.8395 - val_loss: 0.3556 - val_acc: 0.8528\n",
      "Epoch 7/30\n",
      "7500/7500 [==============================] - 0s 40us/step - loss: 0.3688 - acc: 0.8471 - val_loss: 0.3415 - val_acc: 0.8612\n",
      "Epoch 8/30\n",
      "7500/7500 [==============================] - 0s 42us/step - loss: 0.3518 - acc: 0.8520 - val_loss: 0.3443 - val_acc: 0.8584\n",
      "Epoch 9/30\n",
      "7500/7500 [==============================] - 0s 38us/step - loss: 0.3495 - acc: 0.8555 - val_loss: 0.3407 - val_acc: 0.8616\n",
      "Epoch 10/30\n",
      "7500/7500 [==============================] - 0s 42us/step - loss: 0.3437 - acc: 0.8575 - val_loss: 0.3350 - val_acc: 0.8624\n",
      "Epoch 11/30\n",
      "7500/7500 [==============================] - 0s 39us/step - loss: 0.3392 - acc: 0.8597 - val_loss: 0.3389 - val_acc: 0.8640\n",
      "Epoch 12/30\n",
      "7500/7500 [==============================] - 0s 43us/step - loss: 0.3367 - acc: 0.8604 - val_loss: 0.3415 - val_acc: 0.8600\n",
      "Epoch 13/30\n",
      "7500/7500 [==============================] - 0s 41us/step - loss: 0.3369 - acc: 0.8600 - val_loss: 0.3384 - val_acc: 0.8608\n",
      "Epoch 14/30\n",
      "7500/7500 [==============================] - 0s 38us/step - loss: 0.3393 - acc: 0.8607 - val_loss: 0.3391 - val_acc: 0.8640\n",
      "Epoch 15/30\n",
      "7500/7500 [==============================] - 0s 36us/step - loss: 0.3373 - acc: 0.8635 - val_loss: 0.3366 - val_acc: 0.8628\n",
      "Epoch 16/30\n",
      "7500/7500 [==============================] - 0s 37us/step - loss: 0.3341 - acc: 0.8636 - val_loss: 0.3484 - val_acc: 0.8544\n",
      "Epoch 17/30\n",
      "7500/7500 [==============================] - 0s 37us/step - loss: 0.3315 - acc: 0.8641 - val_loss: 0.3370 - val_acc: 0.8612\n",
      "Epoch 18/30\n",
      "7500/7500 [==============================] - 0s 37us/step - loss: 0.3314 - acc: 0.8644 - val_loss: 0.3394 - val_acc: 0.8616\n",
      "Epoch 19/30\n",
      "7500/7500 [==============================] - 0s 36us/step - loss: 0.3310 - acc: 0.8644 - val_loss: 0.3475 - val_acc: 0.8656\n",
      "Epoch 20/30\n",
      "7500/7500 [==============================] - 0s 40us/step - loss: 0.3308 - acc: 0.8640 - val_loss: 0.3411 - val_acc: 0.8616\n",
      "Epoch 21/30\n",
      "7500/7500 [==============================] - 0s 37us/step - loss: 0.3278 - acc: 0.8659 - val_loss: 0.3387 - val_acc: 0.8648\n",
      "Epoch 22/30\n",
      "7500/7500 [==============================] - 0s 37us/step - loss: 0.3267 - acc: 0.8641 - val_loss: 0.3494 - val_acc: 0.8584\n",
      "Epoch 23/30\n",
      "7500/7500 [==============================] - 0s 37us/step - loss: 0.3293 - acc: 0.8647 - val_loss: 0.3381 - val_acc: 0.8636\n",
      "Epoch 24/30\n",
      "7500/7500 [==============================] - 0s 40us/step - loss: 0.3262 - acc: 0.8669 - val_loss: 0.3402 - val_acc: 0.8628\n",
      "Epoch 25/30\n",
      "7500/7500 [==============================] - 0s 39us/step - loss: 0.3274 - acc: 0.8647 - val_loss: 0.3378 - val_acc: 0.8652\n",
      "Epoch 26/30\n",
      "7500/7500 [==============================] - 0s 40us/step - loss: 0.3264 - acc: 0.8672 - val_loss: 0.3424 - val_acc: 0.8612\n",
      "Epoch 27/30\n",
      "7500/7500 [==============================] - 0s 37us/step - loss: 0.3248 - acc: 0.8681 - val_loss: 0.3399 - val_acc: 0.8644\n",
      "Epoch 28/30\n",
      "7500/7500 [==============================] - 0s 36us/step - loss: 0.3224 - acc: 0.8693 - val_loss: 0.3390 - val_acc: 0.8656\n",
      "Epoch 29/30\n",
      "7500/7500 [==============================] - 0s 38us/step - loss: 0.3231 - acc: 0.8683 - val_loss: 0.3395 - val_acc: 0.8644\n",
      "Epoch 30/30\n",
      "7500/7500 [==============================] - 0s 38us/step - loss: 0.3213 - acc: 0.8677 - val_loss: 0.3409 - val_acc: 0.8664\n"
     ]
    },
    {
     "data": {
      "image/png": "[encoded data removed]",
      "text/plain": [
       "<Figure size 1152x360 with 2 Axes>"
      ]
     },
     "metadata": {},
     "output_type": "display_data"
    },
    {
     "name": "stdout",
     "output_type": "stream",
     "text": [
      "auc: 0.8522858429964438\n"
     ]
    },
    {
     "data": {
      "image/png": "[encoded data removed]",
      "text/plain": [
       "<Figure size 432x432 with 1 Axes>"
      ]
     },
     "metadata": {},
     "output_type": "display_data"
    },
    {
     "name": "stdout",
     "output_type": "stream",
     "text": [
      "count    2500.000000\n",
      "mean        0.201080\n",
      "std         0.256999\n",
      "min         0.002014\n",
      "25%         0.027536\n",
      "50%         0.087831\n",
      "75%         0.258067\n",
      "max         0.999320\n",
      "dtype: float64\n",
      "0.20107979 0.2569988\n"
     ]
    },
    {
     "data": {
      "image/png": "[encoded data removed]",
      "text/plain": [
       "<Figure size 432x288 with 1 Axes>"
      ]
     },
     "metadata": {},
     "output_type": "display_data"
    },
    {
     "data": {
      "image/png": "[encoded data removed]",
      "text/plain": [
       "<Figure size 432x288 with 1 Axes>"
      ]
     },
     "metadata": {},
     "output_type": "display_data"
    },
    {
     "data": {
      "image/png": "[encoded data removed]",
      "text/plain": [
       "<Figure size 432x288 with 1 Axes>"
      ]
     },
     "metadata": {},
     "output_type": "display_data"
    },
    {
     "name": "stdout",
     "output_type": "stream",
     "text": [
      "thres: 0.4150, f_beta score: 0.6104\n",
      "accuracy@0.4150: 0.86\n",
      "\n",
      "threshold@0.5, accuracy: 0.8664\n",
      "[[1916   95]\n",
      " [ 239  250]] \n",
      "\n",
      "             precision    recall  f1-score   support\n",
      "\n",
      "          0       0.89      0.95      0.92      2011\n",
      "          1       0.72      0.51      0.60       489\n",
      "\n",
      "avg / total       0.86      0.87      0.86      2500\n",
      "\n",
      "threshold@0.4150, accuracy: 0.8596\n",
      "[[1874  137]\n",
      " [ 214  275]]\n",
      "             precision    recall  f1-score   support\n",
      "\n",
      "          0       0.90      0.93      0.91      2011\n",
      "          1       0.67      0.56      0.61       489\n",
      "\n",
      "avg / total       0.85      0.86      0.85      2500\n",
      "\n"
     ]
    },
    {
     "name": "stderr",
     "output_type": "stream",
     "text": [
      "d:\\python\\anaconda3-5.2.0\\envs\\py3_6\\lib\\site-packages\\sklearn\\metrics\\classification.py:1135: UndefinedMetricWarning: Precision and F-score are ill-defined and being set to 0.0 in labels with no predicted samples.\n",
      "  'precision', 'predicted', average, warn_for)\n"
     ]
    }
   ],
   "source": [
    "def get_model(input_dim):\n",
    "    model = Sequential()\n",
    "    # kernel_regularizer=regularizers.l2(0.005)\n",
    "    model.add(Dense(units = 64, activation = 'relu', kernel_initializer='uniform', input_dim = input_dim))\n",
    "    model.add(Dense(units = 32, activation = 'relu', kernel_initializer='uniform'))\n",
    "    model.add(Dense(units = 16, activation = 'relu', kernel_initializer='uniform'))\n",
    "    model.add(Dense(units = 1, activation = 'sigmoid', kernel_initializer='uniform'))\n",
    "    model.summary()\n",
    "    model.compile(optimizer = 'adam', loss = 'binary_crossentropy', metrics = ['accuracy'])\n",
    "    \n",
    "    return model\n",
    "\n",
    "K.clear_session()\n",
    "\n",
    "model = get_model(input_dim=tr_x.shape[1])\n",
    "hist = model.fit(tr_x, tr_y, validation_data=(vl_x, vl_y), batch_size=100, epochs=30)\n",
    "plot_result(hist)\n",
    "draw_roc_curve(vl_y, model.predict(vl_x))\n",
    "\n",
    "y_pred = model.predict(vl_x)\n",
    "pred_dist(y_pred)\n",
    "analyze(vl_y, y_pred)"
   ]
  },
  {
   "cell_type": "markdown",
   "metadata": {
    "colab_type": "text",
    "id": "r5crE3xFBn91"
   },
   "source": [
    "## Add Polynomial Featue Engineering\n",
    "\n",
    "* Add quradratic, cube term base on numeric features"
   ]
  },
  {
   "cell_type": "code",
   "execution_count": null,
   "metadata": {
    "colab": {},
    "colab_type": "code",
    "id": "0m8uAkjbuBa7"
   },
   "outputs": [],
   "source": [
    "def do_nth_order_polynominal(num_features, data):\n",
    "    for num_col in num_features:\n",
    "        data[f'{num_col}_degree_2'] = data[num_col] ** 2\n",
    "        data[f'{num_col}_degree_3'] = data[num_col] ** 3\n",
    "    pass"
   ]
  },
  {
   "cell_type": "code",
   "execution_count": null,
   "metadata": {
    "colab": {
     "base_uri": "https://localhost:8080/",
     "height": 278
    },
    "colab_type": "code",
    "executionInfo": {
     "elapsed": 930,
     "status": "ok",
     "timestamp": 1539071156190,
     "user": {
      "displayName": "Gary Chen",
      "photoUrl": "",
      "userId": "10783188122132859162"
     },
     "user_tz": -480
    },
    "id": "9vo1AYDHtmuf",
    "outputId": "107896d4-2426-4f46-a79f-5432301b9bed"
   },
   "outputs": [],
   "source": [
    "# Trnasform raw data to foramt model recognized\n",
    "tr_x, tr_y, status = feature_engineering(raw, is_train=True)\n",
    "vl_x, vl_y, _ = feature_engineering(raw_vl, is_train=False, status=status)\n",
    "\n",
    "print( tr_x.shape, vl_x.shape )\n",
    "tr_x.head()"
   ]
  },
  {
   "cell_type": "markdown",
   "metadata": {
    "colab_type": "text",
    "id": "Wfc1V2cYFz50"
   },
   "source": [
    "## (LAB) Model (Polynominal)\n",
    "\n",
    "* 調整network架構\n",
    "* 調整analyze的beta參數(0.1 ~ 2), 觀察precision, recall變化"
   ]
  },
  {
   "cell_type": "code",
   "execution_count": null,
   "metadata": {
    "colab": {
     "base_uri": "https://localhost:8080/",
     "height": 3170
    },
    "colab_type": "code",
    "executionInfo": {
     "elapsed": 7653,
     "status": "ok",
     "timestamp": 1539071216437,
     "user": {
      "displayName": "Gary Chen",
      "photoUrl": "",
      "userId": "10783188122132859162"
     },
     "user_tz": -480
    },
    "id": "Dl32_fhCFz-_",
    "outputId": "7608d953-a7a0-4609-d593-bbb11df188f6",
    "scrolled": true
   },
   "outputs": [],
   "source": [
    "def get_model(input_dim):\n",
    "    model = Sequential()\n",
    "    # kernel_regularizer=regularizers.l2(0.005)\n",
    "    model.add(Dense(units = 64, activation = 'relu', kernel_initializer='uniform', input_dim = input_dim))\n",
    "    model.add(Dense(units = 32, activation = 'relu', kernel_initializer='uniform'))\n",
    "    model.add(Dense(units = 16, activation = 'relu', kernel_initializer='uniform'))\n",
    "    model.add(Dense(units = 1, activation = 'sigmoid', kernel_initializer='uniform'))\n",
    "    model.summary()\n",
    "    model.compile(optimizer = 'adam', loss = 'binary_crossentropy', metrics = ['accuracy'])\n",
    "    \n",
    "    return model\n",
    "\n",
    "K.clear_session()\n",
    "\n",
    "model = get_model(input_dim=tr_x.shape[1])\n",
    "hist = model.fit(tr_x, tr_y, validation_data=(vl_x, vl_y), batch_size=100, epochs=30)\n",
    "plot_result(hist)\n",
    "draw_roc_curve(vl_y, model.predict(vl_x))\n",
    "\n",
    "y_pred = model.predict(vl_x)\n",
    "pred_dist(y_pred)\n",
    "analyze(vl_y, y_pred)"
   ]
  },
  {
   "cell_type": "markdown",
   "metadata": {
    "colab_type": "text",
    "id": "2nyIpWl1tmul"
   },
   "source": [
    "## PCA"
   ]
  },
  {
   "cell_type": "code",
   "execution_count": null,
   "metadata": {
    "colab": {},
    "colab_type": "code",
    "id": "TMnL5oObtmum"
   },
   "outputs": [],
   "source": [
    "from sklearn.decomposition import PCA\n",
    "\n",
    "pca = PCA(n_components=64)\n",
    "tr_x_pca = pca.fit_transform(tr_x)\n",
    "vl_x_pca = pca.transform(vl_x)"
   ]
  },
  {
   "cell_type": "code",
   "execution_count": null,
   "metadata": {
    "colab": {
     "base_uri": "https://localhost:8080/",
     "height": 34
    },
    "colab_type": "code",
    "executionInfo": {
     "elapsed": 673,
     "status": "ok",
     "timestamp": 1539071242934,
     "user": {
      "displayName": "Gary Chen",
      "photoUrl": "",
      "userId": "10783188122132859162"
     },
     "user_tz": -480
    },
    "id": "IQlOU34ztmup",
    "outputId": "a5fbae86-ddc6-4066-8309-e0c5a9ba3912"
   },
   "outputs": [],
   "source": [
    "tr_x_pca.shape, vl_x_pca.shape"
   ]
  },
  {
   "cell_type": "markdown",
   "metadata": {},
   "source": [
    "## Model (PCA) \n",
    "\n",
    "* 調整network架構\n",
    "* 調整analyze的beta參數(0.1 ~ 2), 觀察precision, recall變化"
   ]
  },
  {
   "cell_type": "code",
   "execution_count": null,
   "metadata": {
    "colab": {
     "base_uri": "https://localhost:8080/",
     "height": 3170
    },
    "colab_type": "code",
    "executionInfo": {
     "elapsed": 7796,
     "status": "ok",
     "timestamp": 1539071260813,
     "user": {
      "displayName": "Gary Chen",
      "photoUrl": "",
      "userId": "10783188122132859162"
     },
     "user_tz": -480
    },
    "id": "l2BevFVPtmus",
    "outputId": "a125a452-848c-4aa5-a251-9b6d27fd0f9e",
    "scrolled": true
   },
   "outputs": [],
   "source": [
    "def get_model(input_dim):\n",
    "    model = Sequential()\n",
    "    # kernel_regularizer=regularizers.l2(0.005)\n",
    "    model.add(Dense(units = 64, activation = 'relu', kernel_initializer='uniform', input_dim = input_dim))\n",
    "    model.add(Dense(units = 32, activation = 'relu', kernel_initializer='uniform'))\n",
    "    model.add(Dense(units = 16, activation = 'relu', kernel_initializer='uniform'))\n",
    "    model.add(Dense(units = 1, activation = 'sigmoid', kernel_initializer='uniform'))\n",
    "    model.summary()\n",
    "    model.compile(optimizer = 'adam', loss = 'binary_crossentropy', metrics = ['accuracy'])\n",
    "    \n",
    "    return model\n",
    "\n",
    "K.clear_session()\n",
    "\n",
    "model = get_model(input_dim=tr_x_pca.shape[1])\n",
    "hist = model.fit(tr_x_pca, tr_y, validation_data=(vl_x_pca, vl_y), batch_size=100, epochs=30)\n",
    "plot_result(hist)\n",
    "draw_roc_curve(vl_y, model.predict(vl_x_pca))\n",
    "\n",
    "y_pred = model.predict(vl_x_pca)\n",
    "pred_dist(y_pred)\n",
    "analyze(vl_y, y_pred)"
   ]
  },
  {
   "cell_type": "markdown",
   "metadata": {
    "colab_type": "text",
    "id": "TRjEBov5tmux"
   },
   "source": [
    "## AutoEncoder"
   ]
  },
  {
   "cell_type": "code",
   "execution_count": null,
   "metadata": {
    "colab": {
     "base_uri": "https://localhost:8080/",
     "height": 278
    },
    "colab_type": "code",
    "executionInfo": {
     "elapsed": 841,
     "status": "ok",
     "timestamp": 1539071282187,
     "user": {
      "displayName": "Gary Chen",
      "photoUrl": "",
      "userId": "10783188122132859162"
     },
     "user_tz": -480
    },
    "id": "4DrsTrBdtmuy",
    "outputId": "02996535-c207-4bc5-a189-283d26d1419b"
   },
   "outputs": [],
   "source": [
    "# Trnasform raw data to foramt model recognized\n",
    "tr_x, tr_y, status = feature_engineering(raw, is_train=True)\n",
    "vl_x, vl_y, _ = feature_engineering(raw_vl, is_train=False, status=status)\n",
    "\n",
    "print( tr_x.shape, vl_x.shape )\n",
    "tr_x.head()"
   ]
  },
  {
   "cell_type": "markdown",
   "metadata": {},
   "source": [
    "## (LAB) Model (AutoEncoder)\n",
    "\n",
    "* 調整AutoEncoder架構, 目前valid loss約0.003, 是否減少層數也能夠達到0.003以下的loss, 或者增加層數獲取更低的loss"
   ]
  },
  {
   "cell_type": "code",
   "execution_count": null,
   "metadata": {
    "colab": {
     "base_uri": "https://localhost:8080/",
     "height": 3714
    },
    "colab_type": "code",
    "executionInfo": {
     "elapsed": 36120,
     "status": "ok",
     "timestamp": 1539071383149,
     "user": {
      "displayName": "Gary Chen",
      "photoUrl": "",
      "userId": "10783188122132859162"
     },
     "user_tz": -480
    },
    "id": "KSA2_hJstmu1",
    "outputId": "462ed16b-b3ed-4cbd-a1e7-6b3d53478627",
    "scrolled": true
   },
   "outputs": [],
   "source": [
    "K.clear_session()\n",
    "\n",
    "inputs_dim = tr_x.shape[1]\n",
    "\n",
    "inputs = Input(shape=(inputs_dim, ))\n",
    "# Encoder\n",
    "encoded = Dense(inputs_dim, activation='selu')(inputs)\n",
    "encoded = Dense(128, activation='selu')(encoded)\n",
    "encoded = Dense(64, activation='selu')(encoded)\n",
    "\n",
    "encoded = Dense(64, activation='selu')(encoded)\n",
    "\n",
    "# Decoder\n",
    "decoded = Dense(64, activation='selu')(encoded)\n",
    "decoded = Dense(128, activation='selu')(decoded)\n",
    "decoded = Dense(inputs_dim, activation='linear')(decoded)\n",
    "\n",
    "# this model maps an input to its reconstruction\n",
    "autoencoder = Model(inputs, decoded)\n",
    "\n",
    "# this model maps an input to its encoded representation\n",
    "encoder = Model(inputs, encoded)\n",
    "\n",
    "# Adam Optimizer + Mean square error loss\n",
    "autoencoder.compile(optimizer='adam', loss='mse')\n",
    "hist = autoencoder.fit(\n",
    "    tr_x, tr_x, \n",
    "    epochs=100, \n",
    "    batch_size=200, \n",
    "    shuffle=True, \n",
    "    validation_data=(vl_x, vl_x))\n",
    "\n",
    "def plot_ae(hist):\n",
    "    plt.figure(figsize=(16, 5))\n",
    "    plt.plot(hist.history['loss'], label='tr_loss')\n",
    "    plt.plot(hist.history['val_loss'], label='vl_loss')\n",
    "    plt.title('Loss')\n",
    "    plt.legend(loc='best')\n",
    "    plt.show()\n",
    "    \n",
    "plot_ae(hist)"
   ]
  },
  {
   "cell_type": "code",
   "execution_count": null,
   "metadata": {
    "colab": {},
    "colab_type": "code",
    "id": "LP_e2nEqtmu4",
    "scrolled": true
   },
   "outputs": [],
   "source": [
    "tr_x_ae = encoder.predict(tr_x)\n",
    "vl_x_ae = encoder.predict(vl_x)"
   ]
  },
  {
   "cell_type": "code",
   "execution_count": null,
   "metadata": {
    "colab": {
     "base_uri": "https://localhost:8080/",
     "height": 34
    },
    "colab_type": "code",
    "executionInfo": {
     "elapsed": 618,
     "status": "ok",
     "timestamp": 1539071389837,
     "user": {
      "displayName": "Gary Chen",
      "photoUrl": "",
      "userId": "10783188122132859162"
     },
     "user_tz": -480
    },
    "id": "n0Y3LIONtmu7",
    "outputId": "78ccfd5f-057c-4a35-e50b-a178b71cdabc"
   },
   "outputs": [],
   "source": [
    "tr_x_ae.shape, vl_x_ae.shape"
   ]
  },
  {
   "cell_type": "markdown",
   "metadata": {},
   "source": [
    "## (LAB) Model (After AutoEncoder)\n",
    "\n",
    "* 調整network架構\n",
    "* 調整analyze的beta參數(0.1 ~ 2), 觀察precision, recall變化"
   ]
  },
  {
   "cell_type": "code",
   "execution_count": null,
   "metadata": {
    "colab": {
     "base_uri": "https://localhost:8080/",
     "height": 3170
    },
    "colab_type": "code",
    "executionInfo": {
     "elapsed": 7495,
     "status": "ok",
     "timestamp": 1539071398292,
     "user": {
      "displayName": "Gary Chen",
      "photoUrl": "",
      "userId": "10783188122132859162"
     },
     "user_tz": -480
    },
    "id": "SsnEuTt3tmu-",
    "outputId": "8b15254f-7a22-4f79-eb5f-34a3ab5fd964",
    "scrolled": true
   },
   "outputs": [],
   "source": [
    "def get_model(input_dim):\n",
    "    model = Sequential()\n",
    "    # kernel_regularizer=regularizers.l2(0.005)\n",
    "    model.add(Dense(units = 64, activation = 'relu', kernel_initializer='uniform', input_dim = input_dim))\n",
    "    model.add(Dense(units = 32, activation = 'relu', kernel_initializer='uniform'))\n",
    "    model.add(Dense(units = 16, activation = 'relu', kernel_initializer='uniform'))\n",
    "    model.add(Dense(units = 1, activation = 'sigmoid', kernel_initializer='uniform'))\n",
    "    model.summary()\n",
    "    model.compile(optimizer = 'adam', loss = 'binary_crossentropy', metrics = ['accuracy'])\n",
    "    \n",
    "    return model\n",
    "\n",
    "K.clear_session()\n",
    "\n",
    "model = get_model(input_dim=tr_x_ae.shape[1])\n",
    "hist = model.fit(tr_x_ae, tr_y, validation_data=(vl_x_ae, vl_y), batch_size=100, epochs=30)\n",
    "\n",
    "plot_result(hist)\n",
    "draw_roc_curve(vl_y, model.predict(vl_x_ae))\n",
    "\n",
    "y_pred = model.predict(vl_x_ae)\n",
    "pred_dist(y_pred)\n",
    "analyze(vl_y, y_pred)"
   ]
  },
  {
   "cell_type": "code",
   "execution_count": null,
   "metadata": {
    "colab": {},
    "colab_type": "code",
    "id": "dNzo8F8I1Nvh"
   },
   "outputs": [],
   "source": []
  }
 ],
 "metadata": {
  "accelerator": "TPU",
  "colab": {
   "collapsed_sections": [],
   "name": "model_financial_customer_churn.ipynb",
   "provenance": [],
   "toc_visible": true,
   "version": "0.3.2"
  },
  "kernelspec": {
   "display_name": "Python 3",
   "language": "python",
   "name": "python3"
  },
  "language_info": {
   "codemirror_mode": {
    "name": "ipython",
    "version": 3
   },
   "file_extension": ".py",
   "mimetype": "text/x-python",
   "name": "python",
   "nbconvert_exporter": "python",
   "pygments_lexer": "ipython3",
   "version": "3.6.6"
  }
 },
 "nbformat": 4,
 "nbformat_minor": 1
}
