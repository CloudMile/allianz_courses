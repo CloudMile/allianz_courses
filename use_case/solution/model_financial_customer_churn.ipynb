{
 "cells": [
  {
   "cell_type": "markdown",
   "metadata": {
    "colab_type": "text",
    "id": "X6TzudIkLSb2"
   },
   "source": [
    "## Load Libs"
   ]
  },
  {
   "cell_type": "code",
   "execution_count": 1,
   "metadata": {
    "colab": {
     "base_uri": "https://localhost:8080/",
     "height": 222
    },
    "colab_type": "code",
    "executionInfo": {
     "elapsed": 3626,
     "status": "ok",
     "timestamp": 1539071016260,
     "user": {
      "displayName": "Gary Chen",
      "photoUrl": "",
      "userId": "10783188122132859162"
     },
     "user_tz": -480
    },
    "id": "_OceWebGEClz",
    "outputId": "8a6d97b1-c4d6-4dd0-967a-719b241ec72f"
   },
   "outputs": [
    {
     "name": "stdout",
     "output_type": "stream",
     "text": [
      "Requirement already up-to-date: seaborn in d:\\python\\anaconda3-5.2.0\\envs\\py3_6\\lib\\site-packages (0.9.0)\n",
      "Requirement already satisfied, skipping upgrade: numpy>=1.9.3 in d:\\python\\anaconda3-5.2.0\\envs\\py3_6\\lib\\site-packages (from seaborn) (1.14.5)\n",
      "Requirement already satisfied, skipping upgrade: pandas>=0.15.2 in d:\\python\\anaconda3-5.2.0\\envs\\py3_6\\lib\\site-packages (from seaborn) (0.23.4)\n",
      "Requirement already satisfied, skipping upgrade: scipy>=0.14.0 in d:\\python\\anaconda3-5.2.0\\envs\\py3_6\\lib\\site-packages (from seaborn) (1.1.0)\n",
      "Requirement already satisfied, skipping upgrade: matplotlib>=1.4.3 in d:\\python\\anaconda3-5.2.0\\envs\\py3_6\\lib\\site-packages (from seaborn) (2.2.3)\n",
      "Requirement already satisfied, skipping upgrade: python-dateutil>=2.5.0 in d:\\python\\anaconda3-5.2.0\\envs\\py3_6\\lib\\site-packages (from pandas>=0.15.2->seaborn) (2.7.3)\n",
      "Requirement already satisfied, skipping upgrade: pytz>=2011k in d:\\python\\anaconda3-5.2.0\\envs\\py3_6\\lib\\site-packages (from pandas>=0.15.2->seaborn) (2018.5)\n",
      "Requirement already satisfied, skipping upgrade: kiwisolver>=1.0.1 in d:\\python\\anaconda3-5.2.0\\envs\\py3_6\\lib\\site-packages (from matplotlib>=1.4.3->seaborn) (1.0.1)\n",
      "Requirement already satisfied, skipping upgrade: cycler>=0.10 in d:\\python\\anaconda3-5.2.0\\envs\\py3_6\\lib\\site-packages (from matplotlib>=1.4.3->seaborn) (0.10.0)\n",
      "Requirement already satisfied, skipping upgrade: pyparsing!=2.0.4,!=2.1.2,!=2.1.6,>=2.0.1 in d:\\python\\anaconda3-5.2.0\\envs\\py3_6\\lib\\site-packages (from matplotlib>=1.4.3->seaborn) (2.2.0)\n",
      "Requirement already satisfied, skipping upgrade: six>=1.10 in d:\\python\\anaconda3-5.2.0\\envs\\py3_6\\lib\\site-packages (from matplotlib>=1.4.3->seaborn) (1.11.0)\n",
      "Requirement already satisfied, skipping upgrade: setuptools in d:\\python\\anaconda3-5.2.0\\envs\\py3_6\\lib\\site-packages (from kiwisolver>=1.0.1->matplotlib>=1.4.3->seaborn) (39.1.0)\n"
     ]
    },
    {
     "name": "stderr",
     "output_type": "stream",
     "text": [
      "Using TensorFlow backend.\n"
     ]
    }
   ],
   "source": [
    "%reload_ext autoreload\n",
    "%autoreload 2\n",
    "\n",
    "!pip install seaborn --upgrade\n",
    "\n",
    "import os, sys, numpy as np, pandas as pd, tensorflow as tf, cv2\n",
    "import seaborn as sns\n",
    "import scipy.stats as stats\n",
    "\n",
    "from collections import defaultdict\n",
    "from sklearn.model_selection import train_test_split\n",
    "from sklearn.preprocessing import StandardScaler, MinMaxScaler, LabelEncoder, LabelBinarizer\n",
    "from sklearn.metrics import auc, roc_curve, f1_score, confusion_matrix, classification_report\n",
    "from sklearn.metrics import precision_recall_fscore_support, accuracy_score\n",
    "\n",
    "from matplotlib import pyplot as plt\n",
    "sns.set(style=\"white\")\n",
    "\n",
    "import keras\n",
    "from keras import backend as K\n",
    "from keras.models import Sequential, Model\n",
    "from keras.layers import Dense, BatchNormalization, Activation, Input, Dropout, Embedding, Flatten, Input\n",
    "from keras.layers import Concatenate\n",
    "from keras.optimizers import Adam, Nadam\n",
    "from keras import regularizers\n",
    "\n",
    "%matplotlib inline\n",
    "\n",
    "def plot_result(hist):\n",
    "    plt.figure(figsize=(16, 5))\n",
    "\n",
    "    plt.subplot(1, 2, 1)\n",
    "    plt.plot(hist.history['loss'], label='tr_loss')\n",
    "    plt.plot(hist.history['val_loss'], label='vl_loss')\n",
    "    plt.title('Loss')\n",
    "\n",
    "    plt.subplot(1, 2, 2)\n",
    "    plt.plot(hist.history['acc'], label='acc')\n",
    "    plt.plot(hist.history['val_acc'], label='val_acc')\n",
    "    plt.title('Accuracy')\n",
    "\n",
    "    plt.legend(loc='best')\n",
    "    plt.show()\n",
    "    \n",
    "def draw_roc_curve(y, pred):\n",
    "    from matplotlib import pyplot as plt\n",
    "\n",
    "    fprRf, tprRf, _ = roc_curve(y, pred, pos_label=1)\n",
    "    auc_scr = auc(fprRf, tprRf)\n",
    "    print(\"auc:\", auc_scr)\n",
    "    f, ax = plt.subplots(1, 1, figsize=(6, 6))\n",
    "\n",
    "    ax.plot([0, 1], [0, 1], 'k--')\n",
    "    ax.plot(fprRf, tprRf, label='ROC CURVE')\n",
    "    ax.set_xlabel('False positive rate')\n",
    "    ax.set_ylabel('True positive rate')\n",
    "    ax.set_title('Area Under Curve(ROC) (score: {:.4f})'.format(auc_scr))\n",
    "    ax.legend(loc='best')\n",
    "    plt.show()"
   ]
  },
  {
   "cell_type": "markdown",
   "metadata": {
    "colab_type": "text",
    "id": "qeEHBniStlgU"
   },
   "source": [
    "## Data Schema\n",
    "\n",
    "Column name     | Description\n",
    "             ---|---\n",
    "RorNumber       |    Row number\n",
    "CustomerId      |    Customer id\n",
    "Surname         |    Customer surname\n",
    "CreditScore     |    Credit score\n",
    "Geography       |    Country the customer belong to\n",
    "Gender          |    Female or Male\n",
    "Age             |    Customer's age\n",
    "Tenure          |    Life length of customer\n",
    "Balance         |    Bank balance of the customer\n",
    "NumOfProducts   |    Number of product belong to the customer\n",
    "HasCrCard       |    If customer has credit card\n",
    "IsActiveMember  |    If customer status is active or disabled\n",
    "EstimatedSalary |    Estimated salary for the customer\n",
    "Exited                   |    Label, 1: Churn, 0: Not Churn\n",
    "\n",
    "---\n",
    "\n",
    "* 7個類別變數\n",
    "* 6個數值變數\n",
    "---\n",
    "\n"
   ]
  },
  {
   "cell_type": "markdown",
   "metadata": {
    "colab_type": "text",
    "id": "Ps1HdA6twJck"
   },
   "source": [
    "## Purpose: \n",
    "* 給定客戶Metadata, 繳費行為等等, 預測該客戶是否在未來有可能離開?"
   ]
  },
  {
   "cell_type": "code",
   "execution_count": 2,
   "metadata": {
    "colab": {
     "base_uri": "https://localhost:8080/",
     "height": 215
    },
    "colab_type": "code",
    "executionInfo": {
     "elapsed": 1667,
     "status": "ok",
     "timestamp": 1539071017958,
     "user": {
      "displayName": "Gary Chen",
      "photoUrl": "",
      "userId": "10783188122132859162"
     },
     "user_tz": -480
    },
    "id": "_UOyp6tUECl1",
    "outputId": "ba7099f4-7ddc-4025-8190-25248b728e0d"
   },
   "outputs": [
    {
     "data": {
      "text/html": [
       "<div>\n",
       "<style scoped>\n",
       "    .dataframe tbody tr th:only-of-type {\n",
       "        vertical-align: middle;\n",
       "    }\n",
       "\n",
       "    .dataframe tbody tr th {\n",
       "        vertical-align: top;\n",
       "    }\n",
       "\n",
       "    .dataframe thead th {\n",
       "        text-align: right;\n",
       "    }\n",
       "</style>\n",
       "<table border=\"1\" class=\"dataframe\">\n",
       "  <thead>\n",
       "    <tr style=\"text-align: right;\">\n",
       "      <th></th>\n",
       "      <th>RowNumber</th>\n",
       "      <th>CustomerId</th>\n",
       "      <th>Surname</th>\n",
       "      <th>CreditScore</th>\n",
       "      <th>Geography</th>\n",
       "      <th>Gender</th>\n",
       "      <th>Age</th>\n",
       "      <th>Tenure</th>\n",
       "      <th>Balance</th>\n",
       "      <th>NumOfProducts</th>\n",
       "      <th>HasCrCard</th>\n",
       "      <th>IsActiveMember</th>\n",
       "      <th>EstimatedSalary</th>\n",
       "      <th>Exited</th>\n",
       "    </tr>\n",
       "  </thead>\n",
       "  <tbody>\n",
       "    <tr>\n",
       "      <th>0</th>\n",
       "      <td>6396</td>\n",
       "      <td>15707918</td>\n",
       "      <td>Bentley</td>\n",
       "      <td>741</td>\n",
       "      <td>Germany</td>\n",
       "      <td>Female</td>\n",
       "      <td>36</td>\n",
       "      <td>0</td>\n",
       "      <td>127675.39</td>\n",
       "      <td>2</td>\n",
       "      <td>1</td>\n",
       "      <td>0</td>\n",
       "      <td>74260.16</td>\n",
       "      <td>0</td>\n",
       "    </tr>\n",
       "    <tr>\n",
       "      <th>1</th>\n",
       "      <td>6055</td>\n",
       "      <td>15773013</td>\n",
       "      <td>Uvarov</td>\n",
       "      <td>633</td>\n",
       "      <td>France</td>\n",
       "      <td>Female</td>\n",
       "      <td>47</td>\n",
       "      <td>0</td>\n",
       "      <td>0.00</td>\n",
       "      <td>1</td>\n",
       "      <td>1</td>\n",
       "      <td>1</td>\n",
       "      <td>6342.84</td>\n",
       "      <td>1</td>\n",
       "    </tr>\n",
       "    <tr>\n",
       "      <th>2</th>\n",
       "      <td>8866</td>\n",
       "      <td>15639004</td>\n",
       "      <td>Chiemezie</td>\n",
       "      <td>668</td>\n",
       "      <td>France</td>\n",
       "      <td>Male</td>\n",
       "      <td>72</td>\n",
       "      <td>2</td>\n",
       "      <td>0.00</td>\n",
       "      <td>2</td>\n",
       "      <td>1</td>\n",
       "      <td>1</td>\n",
       "      <td>70783.61</td>\n",
       "      <td>0</td>\n",
       "    </tr>\n",
       "    <tr>\n",
       "      <th>3</th>\n",
       "      <td>9098</td>\n",
       "      <td>15606901</td>\n",
       "      <td>Graham</td>\n",
       "      <td>728</td>\n",
       "      <td>France</td>\n",
       "      <td>Male</td>\n",
       "      <td>43</td>\n",
       "      <td>7</td>\n",
       "      <td>0.00</td>\n",
       "      <td>2</td>\n",
       "      <td>1</td>\n",
       "      <td>0</td>\n",
       "      <td>40023.70</td>\n",
       "      <td>0</td>\n",
       "    </tr>\n",
       "    <tr>\n",
       "      <th>4</th>\n",
       "      <td>3865</td>\n",
       "      <td>15808960</td>\n",
       "      <td>Alleyne</td>\n",
       "      <td>620</td>\n",
       "      <td>Germany</td>\n",
       "      <td>Male</td>\n",
       "      <td>40</td>\n",
       "      <td>5</td>\n",
       "      <td>108197.11</td>\n",
       "      <td>2</td>\n",
       "      <td>1</td>\n",
       "      <td>0</td>\n",
       "      <td>49722.34</td>\n",
       "      <td>0</td>\n",
       "    </tr>\n",
       "  </tbody>\n",
       "</table>\n",
       "</div>"
      ],
      "text/plain": [
       "   RowNumber  CustomerId    Surname  CreditScore Geography  Gender  Age  \\\n",
       "0       6396    15707918    Bentley          741   Germany  Female   36   \n",
       "1       6055    15773013     Uvarov          633    France  Female   47   \n",
       "2       8866    15639004  Chiemezie          668    France    Male   72   \n",
       "3       9098    15606901     Graham          728    France    Male   43   \n",
       "4       3865    15808960    Alleyne          620   Germany    Male   40   \n",
       "\n",
       "   Tenure    Balance  NumOfProducts  HasCrCard  IsActiveMember  \\\n",
       "0       0  127675.39              2          1               0   \n",
       "1       0       0.00              1          1               1   \n",
       "2       2       0.00              2          1               1   \n",
       "3       7       0.00              2          1               0   \n",
       "4       5  108197.11              2          1               0   \n",
       "\n",
       "   EstimatedSalary  Exited  \n",
       "0         74260.16       0  \n",
       "1          6342.84       1  \n",
       "2         70783.61       0  \n",
       "3         40023.70       0  \n",
       "4         49722.34       0  "
      ]
     },
     "execution_count": 2,
     "metadata": {},
     "output_type": "execute_result"
    }
   ],
   "source": [
    "raw = pd.read_csv(\"https://storage.googleapis.com/allianz-course/data/raw_tr_financial_churn.csv\")\n",
    "raw_vl = pd.read_csv(\"https://storage.googleapis.com/allianz-course/data/raw_vl_financial_churn.csv\")\n",
    "raw.head()"
   ]
  },
  {
   "cell_type": "markdown",
   "metadata": {
    "colab_type": "text",
    "id": "CP0v2VzYvUmG"
   },
   "source": [
    "## Drop 不必要的欄位"
   ]
  },
  {
   "cell_type": "code",
   "execution_count": 3,
   "metadata": {
    "colab": {},
    "colab_type": "code",
    "id": "ScS756pOvTLl"
   },
   "outputs": [],
   "source": [
    "raw.drop(['RowNumber', 'CustomerId', 'Surname'], 1, inplace=True)\n",
    "raw_vl.drop(['RowNumber', 'CustomerId', 'Surname'], 1, inplace=True)"
   ]
  },
  {
   "cell_type": "code",
   "execution_count": 4,
   "metadata": {
    "colab": {
     "base_uri": "https://localhost:8080/",
     "height": 286
    },
    "colab_type": "code",
    "executionInfo": {
     "elapsed": 818,
     "status": "ok",
     "timestamp": 1539071019638,
     "user": {
      "displayName": "Gary Chen",
      "photoUrl": "",
      "userId": "10783188122132859162"
     },
     "user_tz": -480
    },
    "id": "xbmIazS-_S9Z",
    "outputId": "9b78dde0-9461-4909-d97f-a435d494fc92"
   },
   "outputs": [
    {
     "name": "stdout",
     "output_type": "stream",
     "text": [
      "<class 'pandas.core.frame.DataFrame'>\n",
      "RangeIndex: 7500 entries, 0 to 7499\n",
      "Data columns (total 11 columns):\n",
      "CreditScore        7500 non-null int64\n",
      "Geography          7500 non-null object\n",
      "Gender             7500 non-null object\n",
      "Age                7500 non-null int64\n",
      "Tenure             7500 non-null int64\n",
      "Balance            7500 non-null float64\n",
      "NumOfProducts      7500 non-null int64\n",
      "HasCrCard          7500 non-null int64\n",
      "IsActiveMember     7500 non-null int64\n",
      "EstimatedSalary    7500 non-null float64\n",
      "Exited             7500 non-null int64\n",
      "dtypes: float64(2), int64(7), object(2)\n",
      "memory usage: 644.6+ KB\n"
     ]
    }
   ],
   "source": [
    "raw.info()"
   ]
  },
  {
   "cell_type": "markdown",
   "metadata": {
    "colab_type": "text",
    "id": "xoyVZct4tpFa"
   },
   "source": [
    "## Features setting"
   ]
  },
  {
   "cell_type": "code",
   "execution_count": 5,
   "metadata": {
    "colab": {},
    "colab_type": "code",
    "id": "plpAXiiatNgD"
   },
   "outputs": [],
   "source": [
    "catg_features = [\n",
    "    'Gender', 'HasCrCard', 'IsActiveMember', 'Geography', \n",
    "]\n",
    "num_features = ['CreditScore', 'Age', 'Tenure', 'Balance', 'NumOfProducts', 'EstimatedSalary']\n",
    "label = 'Exited'"
   ]
  },
  {
   "cell_type": "markdown",
   "metadata": {
    "colab_type": "text",
    "id": "oCud9-1Esa6S"
   },
   "source": [
    "<br/>\n",
    "<br/>\n",
    "<br/>\n",
    "\n",
    "---\n",
    "\n",
    "## Base Feature Preprocessing\n",
    "\n",
    "* Normalize ofr numeric features\n",
    "* One Hot Encoding for categorical features"
   ]
  },
  {
   "cell_type": "code",
   "execution_count": 6,
   "metadata": {
    "colab": {},
    "colab_type": "code",
    "id": "-7GRAyvZtmta"
   },
   "outputs": [],
   "source": [
    "def feature_engineering(raw, is_train=True, status=None):\n",
    "    data = raw.copy()\n",
    "    \n",
    "    if is_train:\n",
    "        status = {'scaler': None, \n",
    "                  'mapper': defaultdict(LabelBinarizer),\n",
    "                  'woe_mapper': {},\n",
    "                  'binn_mapper': {},\n",
    "                  'freq_mapper': {},\n",
    "                  'mean_mapper': {},\n",
    "                  'entropy_mapper': {}}\n",
    "\n",
    "    catg_ftrs = catg_features.copy()\n",
    "        \n",
    "    # Numeric binning to categorical features\n",
    "    do_binning(catg_ftrs, status, data, is_train)\n",
    "    # -----------------------------------------------------------------------------------------\n",
    "\n",
    "    encoded_ftrs = pd.DataFrame()\n",
    "    \n",
    "    # One Hot Encoding\n",
    "    # encoded_ftrs = pd.get_dummies(data[catg_ftrs])\n",
    "    do_onehot(catg_ftrs, encoded_ftrs, status, data, is_train)\n",
    "    # -----------------------------------------------------------------------------------------\n",
    "    \n",
    "    # WOE encoding\n",
    "    do_woe_encoding(catg_ftrs, encoded_ftrs, status, data, is_train)\n",
    "    # -----------------------------------------------------------------------------------------\n",
    "    \n",
    "    # Entropy encoding\n",
    "    do_entropy_encoding(catg_ftrs, encoded_ftrs, status, data, is_train)\n",
    "    # -----------------------------------------------------------------------------------------\n",
    "\n",
    "    # Frequency encoding, target mean encoding\n",
    "    do_target_encoding(catg_ftrs, encoded_ftrs, status, data, is_train)\n",
    "    # -----------------------------------------------------------------------------------------\n",
    "\n",
    "    # Normalize\n",
    "    do_norm(num_features, encoded_ftrs, status, data, is_train)\n",
    "    # -----------------------------------------------------------------------------------------\n",
    "    \n",
    "    # Merge categorical, numeric features\n",
    "    data_x, data_y = encoded_ftrs, data['Exited'].copy()\n",
    "    \n",
    "    # Include quadratic term, cube term\n",
    "    do_nth_order_polynominal(num_features, data_x)\n",
    "    # ----------------------------------------------------------------------------------------- \n",
    "    return data_x, data_y, status\n"
   ]
  },
  {
   "cell_type": "markdown",
   "metadata": {
    "colab_type": "text",
    "id": "ECJMndaStmtc"
   },
   "source": [
    "## Functions of Features Processing"
   ]
  },
  {
   "cell_type": "code",
   "execution_count": 7,
   "metadata": {
    "colab": {},
    "colab_type": "code",
    "id": "_SF8dwpitmtd"
   },
   "outputs": [],
   "source": [
    "def do_binning(catg_ftrs, status, data, is_train): pass\n",
    "\n",
    "def do_onehot(catg_ftrs, encoded_ftrs, status, data, is_train):\n",
    "    mapper = status['mapper']\n",
    "    tmp = []\n",
    "    for catg_col in catg_ftrs:\n",
    "        if is_train:\n",
    "            result = mapper[catg_col].fit_transform(data[catg_col])\n",
    "        else:\n",
    "            result = mapper[catg_col].transform(data[catg_col])\n",
    "\n",
    "        columns = [f'{catg_col}_{col}' for col in mapper[catg_col].classes_]\n",
    "        if result.shape[1] == 1:\n",
    "            columns = columns[:1]\n",
    "        tmp.append(pd.DataFrame(data=result, columns=columns))\n",
    "    tmp = pd.concat(tmp, 1)\n",
    "    for col in tmp:\n",
    "        encoded_ftrs[col] = tmp[col]\n",
    "\n",
    "def do_woe_encoding(catg_ftrs, catg_part, status, data, is_train): pass\n",
    "\n",
    "def do_entropy_encoding(catg_ftrs, catg_part, status, data, is_train): pass\n",
    "\n",
    "def do_target_encoding(catg_ftrs, catg_part, status, data, is_train): pass\n",
    "\n",
    "def do_norm(num_features, encoded_ftrs, status, data, is_train):\n",
    "    num_part = data[num_features].copy()\n",
    "    if is_train:\n",
    "        scaler = StandardScaler()\n",
    "        status['scaler'] = scaler\n",
    "        num_part = pd.DataFrame(data=scaler.fit_transform(num_part), columns=num_part.columns)\n",
    "    else:\n",
    "        scaler = status['scaler']\n",
    "        num_part = pd.DataFrame(data=scaler.transform(num_part), columns=num_part.columns)\n",
    "\n",
    "    for col in num_part:\n",
    "        encoded_ftrs[col] = num_part[col].values\n",
    "\n",
    "def do_nth_order_polynominal(num_features, data): pass"
   ]
  },
  {
   "cell_type": "markdown",
   "metadata": {},
   "source": [
    "## Get Encoded Train Data and Valid Data"
   ]
  },
  {
   "cell_type": "code",
   "execution_count": 8,
   "metadata": {
    "colab": {
     "base_uri": "https://localhost:8080/",
     "height": 232
    },
    "colab_type": "code",
    "executionInfo": {
     "elapsed": 701,
     "status": "ok",
     "timestamp": 1539071022613,
     "user": {
      "displayName": "Gary Chen",
      "photoUrl": "",
      "userId": "10783188122132859162"
     },
     "user_tz": -480
    },
    "id": "udNVad7usaNe",
    "outputId": "50d352c3-af93-4cca-bed9-4936ac894156",
    "scrolled": true
   },
   "outputs": [
    {
     "name": "stdout",
     "output_type": "stream",
     "text": [
      "(7500, 12) (2500, 12)\n"
     ]
    },
    {
     "data": {
      "text/html": [
       "<div>\n",
       "<style scoped>\n",
       "    .dataframe tbody tr th:only-of-type {\n",
       "        vertical-align: middle;\n",
       "    }\n",
       "\n",
       "    .dataframe tbody tr th {\n",
       "        vertical-align: top;\n",
       "    }\n",
       "\n",
       "    .dataframe thead th {\n",
       "        text-align: right;\n",
       "    }\n",
       "</style>\n",
       "<table border=\"1\" class=\"dataframe\">\n",
       "  <thead>\n",
       "    <tr style=\"text-align: right;\">\n",
       "      <th></th>\n",
       "      <th>Gender_Female</th>\n",
       "      <th>HasCrCard_0</th>\n",
       "      <th>IsActiveMember_0</th>\n",
       "      <th>Geography_France</th>\n",
       "      <th>Geography_Germany</th>\n",
       "      <th>Geography_Spain</th>\n",
       "      <th>CreditScore</th>\n",
       "      <th>Age</th>\n",
       "      <th>Tenure</th>\n",
       "      <th>Balance</th>\n",
       "      <th>NumOfProducts</th>\n",
       "      <th>EstimatedSalary</th>\n",
       "    </tr>\n",
       "  </thead>\n",
       "  <tbody>\n",
       "    <tr>\n",
       "      <th>0</th>\n",
       "      <td>0</td>\n",
       "      <td>1</td>\n",
       "      <td>0</td>\n",
       "      <td>0</td>\n",
       "      <td>1</td>\n",
       "      <td>0</td>\n",
       "      <td>0.931808</td>\n",
       "      <td>-0.286140</td>\n",
       "      <td>-1.726890</td>\n",
       "      <td>0.818951</td>\n",
       "      <td>0.804202</td>\n",
       "      <td>-0.449945</td>\n",
       "    </tr>\n",
       "    <tr>\n",
       "      <th>1</th>\n",
       "      <td>0</td>\n",
       "      <td>1</td>\n",
       "      <td>1</td>\n",
       "      <td>1</td>\n",
       "      <td>0</td>\n",
       "      <td>0</td>\n",
       "      <td>-0.185926</td>\n",
       "      <td>0.761549</td>\n",
       "      <td>-1.726890</td>\n",
       "      <td>-1.223103</td>\n",
       "      <td>-0.913689</td>\n",
       "      <td>-1.631281</td>\n",
       "    </tr>\n",
       "    <tr>\n",
       "      <th>2</th>\n",
       "      <td>1</td>\n",
       "      <td>1</td>\n",
       "      <td>1</td>\n",
       "      <td>1</td>\n",
       "      <td>0</td>\n",
       "      <td>0</td>\n",
       "      <td>0.176303</td>\n",
       "      <td>3.142658</td>\n",
       "      <td>-1.036539</td>\n",
       "      <td>-1.223103</td>\n",
       "      <td>0.804202</td>\n",
       "      <td>-0.510415</td>\n",
       "    </tr>\n",
       "    <tr>\n",
       "      <th>3</th>\n",
       "      <td>1</td>\n",
       "      <td>1</td>\n",
       "      <td>0</td>\n",
       "      <td>1</td>\n",
       "      <td>0</td>\n",
       "      <td>0</td>\n",
       "      <td>0.797266</td>\n",
       "      <td>0.380571</td>\n",
       "      <td>0.689338</td>\n",
       "      <td>-1.223103</td>\n",
       "      <td>0.804202</td>\n",
       "      <td>-1.045445</td>\n",
       "    </tr>\n",
       "    <tr>\n",
       "      <th>4</th>\n",
       "      <td>1</td>\n",
       "      <td>1</td>\n",
       "      <td>0</td>\n",
       "      <td>0</td>\n",
       "      <td>1</td>\n",
       "      <td>0</td>\n",
       "      <td>-0.320468</td>\n",
       "      <td>0.094838</td>\n",
       "      <td>-0.001013</td>\n",
       "      <td>0.507413</td>\n",
       "      <td>0.804202</td>\n",
       "      <td>-0.876750</td>\n",
       "    </tr>\n",
       "  </tbody>\n",
       "</table>\n",
       "</div>"
      ],
      "text/plain": [
       "   Gender_Female  HasCrCard_0  IsActiveMember_0  Geography_France  \\\n",
       "0              0            1                 0                 0   \n",
       "1              0            1                 1                 1   \n",
       "2              1            1                 1                 1   \n",
       "3              1            1                 0                 1   \n",
       "4              1            1                 0                 0   \n",
       "\n",
       "   Geography_Germany  Geography_Spain  CreditScore       Age    Tenure  \\\n",
       "0                  1                0     0.931808 -0.286140 -1.726890   \n",
       "1                  0                0    -0.185926  0.761549 -1.726890   \n",
       "2                  0                0     0.176303  3.142658 -1.036539   \n",
       "3                  0                0     0.797266  0.380571  0.689338   \n",
       "4                  1                0    -0.320468  0.094838 -0.001013   \n",
       "\n",
       "    Balance  NumOfProducts  EstimatedSalary  \n",
       "0  0.818951       0.804202        -0.449945  \n",
       "1 -1.223103      -0.913689        -1.631281  \n",
       "2 -1.223103       0.804202        -0.510415  \n",
       "3 -1.223103       0.804202        -1.045445  \n",
       "4  0.507413       0.804202        -0.876750  "
      ]
     },
     "execution_count": 8,
     "metadata": {},
     "output_type": "execute_result"
    }
   ],
   "source": [
    "# Trnasform raw data to foramt model recognized\n",
    "tr_x, tr_y, status = feature_engineering(raw, is_train=True)\n",
    "vl_x, vl_y, _ = feature_engineering(raw_vl, is_train=False, status=status)\n",
    "\n",
    "print( tr_x.shape, vl_x.shape )\n",
    "tr_x.head()"
   ]
  },
  {
   "cell_type": "markdown",
   "metadata": {
    "colab_type": "text",
    "id": "52CvQZa1t2A7"
   },
   "source": [
    "## Model on Base Featue Engineering\n",
    "\n",
    "* Network Structure: \n",
    "    * `dimension of input, 6, 6, 1`\n",
    "* ReLU Activation Function\n",
    "* Adam Optimizer\n",
    "* Sigmoid Cross Entropy"
   ]
  },
  {
   "cell_type": "code",
   "execution_count": 9,
   "metadata": {
    "colab": {},
    "colab_type": "code",
    "id": "2Hk-jtN6tmtk"
   },
   "outputs": [],
   "source": [
    "def get_model(input_dim):\n",
    "    model = Sequential()\n",
    "    # kernel_regularizer=regularizers.l2(0.005)\n",
    "    model.add(Dense(units = 6, activation = 'relu', kernel_initializer='uniform', input_dim = input_dim))\n",
    "    model.add(Dense(units = 6, activation = 'relu', kernel_initializer='uniform'))\n",
    "    model.add(Dense(units = 1, activation = 'sigmoid', kernel_initializer='uniform'))\n",
    "    model.summary()\n",
    "    model.compile(optimizer = 'adam', loss = 'binary_crossentropy', metrics = ['accuracy'])\n",
    "    \n",
    "    return model"
   ]
  },
  {
   "cell_type": "code",
   "execution_count": 10,
   "metadata": {
    "colab": {
     "base_uri": "https://localhost:8080/",
     "height": 1990
    },
    "colab_type": "code",
    "executionInfo": {
     "elapsed": 6258,
     "status": "ok",
     "timestamp": 1539071040525,
     "user": {
      "displayName": "Gary Chen",
      "photoUrl": "",
      "userId": "10783188122132859162"
     },
     "user_tz": -480
    },
    "id": "SMJbH52ot1aD",
    "outputId": "f28abeb5-a333-40bc-98f3-d4c12b0c46c6",
    "scrolled": true
   },
   "outputs": [
    {
     "name": "stdout",
     "output_type": "stream",
     "text": [
      "_________________________________________________________________\n",
      "Layer (type)                 Output Shape              Param #   \n",
      "=================================================================\n",
      "dense_1 (Dense)              (None, 6)                 78        \n",
      "_________________________________________________________________\n",
      "dense_2 (Dense)              (None, 6)                 42        \n",
      "_________________________________________________________________\n",
      "dense_3 (Dense)              (None, 1)                 7         \n",
      "=================================================================\n",
      "Total params: 127\n",
      "Trainable params: 127\n",
      "Non-trainable params: 0\n",
      "_________________________________________________________________\n",
      "Train on 7500 samples, validate on 2500 samples\n",
      "Epoch 1/30\n",
      "7500/7500 [==============================] - 3s 384us/step - loss: 0.6747 - acc: 0.7915 - val_loss: 0.6384 - val_acc: 0.8044\n",
      "Epoch 2/30\n",
      "7500/7500 [==============================] - 0s 36us/step - loss: 0.5627 - acc: 0.7936 - val_loss: 0.4674 - val_acc: 0.8044\n",
      "Epoch 3/30\n",
      "7500/7500 [==============================] - 0s 32us/step - loss: 0.4618 - acc: 0.7936 - val_loss: 0.4277 - val_acc: 0.8044\n",
      "Epoch 4/30\n",
      "7500/7500 [==============================] - 0s 32us/step - loss: 0.4468 - acc: 0.7936 - val_loss: 0.4173 - val_acc: 0.8044\n",
      "Epoch 5/30\n",
      "7500/7500 [==============================] - 0s 32us/step - loss: 0.4405 - acc: 0.7936 - val_loss: 0.4116 - val_acc: 0.8044\n",
      "Epoch 6/30\n",
      "7500/7500 [==============================] - 0s 35us/step - loss: 0.4369 - acc: 0.7936 - val_loss: 0.4085 - val_acc: 0.8044\n",
      "Epoch 7/30\n",
      "7500/7500 [==============================] - 0s 34us/step - loss: 0.4352 - acc: 0.7936 - val_loss: 0.4067 - val_acc: 0.8044\n",
      "Epoch 8/30\n",
      "7500/7500 [==============================] - 0s 34us/step - loss: 0.4345 - acc: 0.7923 - val_loss: 0.4054 - val_acc: 0.8148\n",
      "Epoch 9/30\n",
      "7500/7500 [==============================] - 0s 34us/step - loss: 0.4339 - acc: 0.7964 - val_loss: 0.4056 - val_acc: 0.8160\n",
      "Epoch 10/30\n",
      "7500/7500 [==============================] - 0s 35us/step - loss: 0.4336 - acc: 0.7984 - val_loss: 0.4039 - val_acc: 0.8164\n",
      "Epoch 11/30\n",
      "7500/7500 [==============================] - 0s 34us/step - loss: 0.4334 - acc: 0.8003 - val_loss: 0.4031 - val_acc: 0.8180\n",
      "Epoch 12/30\n",
      "7500/7500 [==============================] - 0s 34us/step - loss: 0.4332 - acc: 0.8015 - val_loss: 0.4029 - val_acc: 0.8180\n",
      "Epoch 13/30\n",
      "7500/7500 [==============================] - 0s 33us/step - loss: 0.4329 - acc: 0.8029 - val_loss: 0.4024 - val_acc: 0.8180\n",
      "Epoch 14/30\n",
      "7500/7500 [==============================] - 0s 36us/step - loss: 0.4324 - acc: 0.8047 - val_loss: 0.4025 - val_acc: 0.8196\n",
      "Epoch 15/30\n",
      "7500/7500 [==============================] - 0s 34us/step - loss: 0.4318 - acc: 0.8068 - val_loss: 0.4016 - val_acc: 0.8236\n",
      "Epoch 16/30\n",
      "7500/7500 [==============================] - 0s 34us/step - loss: 0.4310 - acc: 0.8088 - val_loss: 0.4000 - val_acc: 0.8244\n",
      "Epoch 17/30\n",
      "7500/7500 [==============================] - 0s 34us/step - loss: 0.4302 - acc: 0.8107 - val_loss: 0.3985 - val_acc: 0.8260\n",
      "Epoch 18/30\n",
      "7500/7500 [==============================] - 0s 39us/step - loss: 0.4292 - acc: 0.8124 - val_loss: 0.3977 - val_acc: 0.8276\n",
      "Epoch 19/30\n",
      "7500/7500 [==============================] - 0s 33us/step - loss: 0.4281 - acc: 0.8136 - val_loss: 0.3970 - val_acc: 0.8292\n",
      "Epoch 20/30\n",
      "7500/7500 [==============================] - 0s 30us/step - loss: 0.4271 - acc: 0.8157 - val_loss: 0.3951 - val_acc: 0.8300\n",
      "Epoch 21/30\n",
      "7500/7500 [==============================] - 0s 32us/step - loss: 0.4255 - acc: 0.8141 - val_loss: 0.3952 - val_acc: 0.8296\n",
      "Epoch 22/30\n",
      "7500/7500 [==============================] - 0s 32us/step - loss: 0.4250 - acc: 0.8167 - val_loss: 0.3928 - val_acc: 0.8312\n",
      "Epoch 23/30\n",
      "7500/7500 [==============================] - 0s 32us/step - loss: 0.4235 - acc: 0.8171 - val_loss: 0.3911 - val_acc: 0.8312\n",
      "Epoch 24/30\n",
      "7500/7500 [==============================] - 0s 31us/step - loss: 0.4223 - acc: 0.8197 - val_loss: 0.3897 - val_acc: 0.8320\n",
      "Epoch 25/30\n",
      "7500/7500 [==============================] - 0s 34us/step - loss: 0.4212 - acc: 0.8205 - val_loss: 0.3891 - val_acc: 0.8348\n",
      "Epoch 26/30\n",
      "7500/7500 [==============================] - 0s 33us/step - loss: 0.4201 - acc: 0.8224 - val_loss: 0.3873 - val_acc: 0.8348\n",
      "Epoch 27/30\n",
      "7500/7500 [==============================] - 0s 34us/step - loss: 0.4194 - acc: 0.8221 - val_loss: 0.3869 - val_acc: 0.8368\n",
      "Epoch 28/30\n",
      "7500/7500 [==============================] - 0s 31us/step - loss: 0.4187 - acc: 0.8240 - val_loss: 0.3857 - val_acc: 0.8396\n",
      "Epoch 29/30\n",
      "7500/7500 [==============================] - 0s 31us/step - loss: 0.4177 - acc: 0.8243 - val_loss: 0.3851 - val_acc: 0.8432\n",
      "Epoch 30/30\n",
      "7500/7500 [==============================] - 0s 32us/step - loss: 0.4167 - acc: 0.8271 - val_loss: 0.3844 - val_acc: 0.8472\n"
     ]
    },
    {
     "data": {
      "image/png": "[encoded data removed]",
      "text/plain": [
       "<Figure size 1152x360 with 2 Axes>"
      ]
     },
     "metadata": {},
     "output_type": "display_data"
    },
    {
     "name": "stdout",
     "output_type": "stream",
     "text": [
      "auc: 0.8127171721177694\n"
     ]
    },
    {
     "data": {
      "image/png": "[encoded data removed]",
      "text/plain": [
       "<Figure size 432x432 with 1 Axes>"
      ]
     },
     "metadata": {},
     "output_type": "display_data"
    }
   ],
   "source": [
    "K.clear_session()\n",
    "\n",
    "model = get_model(input_dim=tr_x.shape[1])\n",
    "hist = model.fit(tr_x, tr_y, validation_data=(vl_x, vl_y), batch_size=100, epochs=30)\n",
    "plot_result(hist)\n",
    "draw_roc_curve(vl_y, model.predict(vl_x))"
   ]
  },
  {
   "cell_type": "markdown",
   "metadata": {
    "colab_type": "text",
    "id": "WSBYMdwktmts"
   },
   "source": [
    "## Analyze the Prediction\n",
    "* 注意預測出來的label是`2D array`, 分析時需要使用`np.ravel`降低一個維度"
   ]
  },
  {
   "cell_type": "code",
   "execution_count": 11,
   "metadata": {
    "colab": {
     "base_uri": "https://localhost:8080/",
     "height": 134
    },
    "colab_type": "code",
    "executionInfo": {
     "elapsed": 619,
     "status": "ok",
     "timestamp": 1539071044917,
     "user": {
      "displayName": "Gary Chen",
      "photoUrl": "",
      "userId": "10783188122132859162"
     },
     "user_tz": -480
    },
    "id": "o353u_4Etmtt",
    "outputId": "954a830d-036a-4583-f8ca-be7cbf7da0f9",
    "scrolled": true
   },
   "outputs": [
    {
     "data": {
      "text/plain": [
       "array([[0.05503634],\n",
       "       [0.40675557],\n",
       "       [0.1605861 ],\n",
       "       ...,\n",
       "       [0.4319342 ],\n",
       "       [0.11088775],\n",
       "       [0.05369715]], dtype=float32)"
      ]
     },
     "execution_count": 11,
     "metadata": {},
     "output_type": "execute_result"
    }
   ],
   "source": [
    "y_pred = model.predict(vl_x)\n",
    "y_pred"
   ]
  },
  {
   "cell_type": "code",
   "execution_count": 12,
   "metadata": {
    "colab": {
     "base_uri": "https://localhost:8080/",
     "height": 942
    },
    "colab_type": "code",
    "executionInfo": {
     "elapsed": 1088,
     "status": "ok",
     "timestamp": 1539071047208,
     "user": {
      "displayName": "Gary Chen",
      "photoUrl": "",
      "userId": "10783188122132859162"
     },
     "user_tz": -480
    },
    "id": "b8R8nLyrtmtw",
    "outputId": "5325fd2d-947b-4cc4-a519-3868d38d5223",
    "scrolled": true
   },
   "outputs": [
    {
     "name": "stdout",
     "output_type": "stream",
     "text": [
      "count    2500.000000\n",
      "mean        0.208416\n",
      "std         0.173931\n",
      "min         0.009391\n",
      "25%         0.079319\n",
      "50%         0.147404\n",
      "75%         0.287583\n",
      "max         0.717033\n",
      "dtype: float64\n",
      "0.20841578 0.17393145\n"
     ]
    },
    {
     "data": {
      "image/png": "[encoded data removed]",
      "text/plain": [
       "<Figure size 432x288 with 1 Axes>"
      ]
     },
     "metadata": {},
     "output_type": "display_data"
    },
    {
     "data": {
      "image/png": "[encoded data removed]",
      "text/plain": [
       "<Figure size 432x288 with 1 Axes>"
      ]
     },
     "metadata": {},
     "output_type": "display_data"
    },
    {
     "data": {
      "image/png": "[encoded data removed]",
      "text/plain": [
       "<Figure size 432x288 with 1 Axes>"
      ]
     },
     "metadata": {},
     "output_type": "display_data"
    }
   ],
   "source": [
    "def pred_dist(y_pred):\n",
    "    y_pred = pd.Series(y_pred.ravel())\n",
    "    print( y_pred.describe() )\n",
    "    print( y_pred.mean(), y_pred.std() )\n",
    "    sns.lineplot(range(len(y_pred)), sorted(y_pred.ravel()))\n",
    "    plt.show()\n",
    "\n",
    "    sns.boxplot(y_pred.ravel(), orient='v')\n",
    "    plt.show()\n",
    "\n",
    "    sns.distplot(y_pred.ravel())\n",
    "    plt.show()\n",
    "    \n",
    "pred_dist(y_pred)"
   ]
  },
  {
   "cell_type": "markdown",
   "metadata": {
    "colab_type": "text",
    "id": "nsSuOlyZtmtz"
   },
   "source": [
    "## Observation\n",
    "\n",
    "* 預測結果介於0 ~ 0.8之間\n",
    "* 問題變成找出最佳Threshold ==> 預測機率大於多少時認為是`Exited = 1`\n",
    "\n",
    "---\n"
   ]
  },
  {
   "cell_type": "markdown",
   "metadata": {
    "colab_type": "text",
    "id": "JvzynMUbtmt0"
   },
   "source": [
    "## 找出最佳閥值"
   ]
  },
  {
   "cell_type": "code",
   "execution_count": 13,
   "metadata": {
    "colab": {
     "base_uri": "https://localhost:8080/",
     "height": 238
    },
    "colab_type": "code",
    "executionInfo": {
     "elapsed": 703,
     "status": "ok",
     "timestamp": 1539071056671,
     "user": {
      "displayName": "Gary Chen",
      "photoUrl": "",
      "userId": "10783188122132859162"
     },
     "user_tz": -480
    },
    "id": "ridThbnStmt1",
    "outputId": "7b4da9d4-e833-447a-cc8c-e91b5c0cc65c",
    "scrolled": true
   },
   "outputs": [
    {
     "name": "stdout",
     "output_type": "stream",
     "text": [
      "thres: 0.2739, f_beta score: 0.5453\n",
      "accuracy@0.2739: 0.79\n",
      "\n",
      "threshold@0.5, accuracy: 0.8472\n",
      "[[1941   70]\n",
      " [ 312  177]] \n",
      "\n",
      "             precision    recall  f1-score   support\n",
      "\n",
      "          0       0.86      0.97      0.91      2011\n",
      "          1       0.72      0.36      0.48       489\n",
      "\n",
      "avg / total       0.83      0.85      0.83      2500\n",
      "\n",
      "threshold@0.2739, accuracy: 0.7892\n",
      "[[1657  354]\n",
      " [ 173  316]]\n",
      "             precision    recall  f1-score   support\n",
      "\n",
      "          0       0.91      0.82      0.86      2011\n",
      "          1       0.47      0.65      0.55       489\n",
      "\n",
      "avg / total       0.82      0.79      0.80      2500\n",
      "\n"
     ]
    },
    {
     "name": "stderr",
     "output_type": "stream",
     "text": [
      "d:\\python\\anaconda3-5.2.0\\envs\\py3_6\\lib\\site-packages\\sklearn\\metrics\\classification.py:1135: UndefinedMetricWarning: Precision and F-score are ill-defined and being set to 0.0 in labels with no predicted samples.\n",
      "  'precision', 'predicted', average, warn_for)\n"
     ]
    }
   ],
   "source": [
    "# 依照所有的閥值(切割100等分)算出F score, 找出分數最高的閥值\n",
    "def f_beta_scann(y_true, y_pred, beta=0.5):\n",
    "    \"\"\"F beta score掃描找出最佳threshold\"\"\"\n",
    "    y_pred = pd.Series(y_pred.ravel())\n",
    "    # 切割100等分, 尋找最佳 f beta score\n",
    "    bins = np.linspace(y_pred.min(), y_pred.max(), 100)\n",
    "    # 找出F beta score最高的點\n",
    "    result = np.array([precision_recall_fscore_support(y_true=y_true, y_pred=y_pred > thres, beta=beta)[2][1]\n",
    "                       for thres in bins])\n",
    "    best_idx = result.argmax()\n",
    "    return bins[best_idx], result[best_idx]\n",
    "\n",
    "def analyze(y_true, y_pred, beta=1):\n",
    "    thres, f_beta = f_beta_scann(y_true, y_pred, beta=beta)\n",
    "    acc = accuracy_score(y_true, y_pred.ravel() > thres)\n",
    "    print(f'thres: {thres:.4f}, f_beta score: {f_beta:.4f}')\n",
    "    print(f'accuracy@{thres:.4f}: {acc:.2f}\\n')\n",
    "\n",
    "    print(f'threshold@0.5, accuracy: {accuracy_score(y_true, y_pred.ravel() > 0.5):.4f}')\n",
    "    print(confusion_matrix(y_true, y_pred.ravel() > 0.5), '\\n')\n",
    "    print(classification_report(y_true, y_pred.ravel() > 0.5))\n",
    "\n",
    "    print(f'threshold@{thres:.4f}, accuracy: {accuracy_score(y_true, y_pred.ravel() > thres):.4f}')\n",
    "    print(confusion_matrix(y_true, y_pred.ravel() > thres))\n",
    "    print(classification_report(y_true, y_pred.ravel() > thres))\n",
    "    \n",
    "analyze(vl_y, y_pred)"
   ]
  },
  {
   "cell_type": "markdown",
   "metadata": {},
   "source": [
    "## (LAB) 調整bata值(0.1 ~ 2), 觀察precision, recall變化"
   ]
  },
  {
   "cell_type": "code",
   "execution_count": 38,
   "metadata": {
    "scrolled": true
   },
   "outputs": [
    {
     "name": "stdout",
     "output_type": "stream",
     "text": [
      "thres: 0.7291, f_beta score: 0.6553\n",
      "accuracy@0.7291: 0.86\n",
      "\n",
      "threshold@0.5, accuracy: 0.8564\n",
      "[[1889  122]\n",
      " [ 237  252]] \n",
      "\n",
      "             precision    recall  f1-score   support\n",
      "\n",
      "          0       0.89      0.94      0.91      2011\n",
      "          1       0.67      0.52      0.58       489\n",
      "\n",
      "avg / total       0.85      0.86      0.85      2500\n",
      "\n",
      "threshold@0.7291, accuracy: 0.8600\n",
      "[[1969   42]\n",
      " [ 308  181]]\n",
      "             precision    recall  f1-score   support\n",
      "\n",
      "          0       0.86      0.98      0.92      2011\n",
      "          1       0.81      0.37      0.51       489\n",
      "\n",
      "avg / total       0.85      0.86      0.84      2500\n",
      "\n",
      "thres: 0.1773, f_beta score: 0.6425\n",
      "accuracy@0.1773: 0.76\n",
      "\n",
      "threshold@0.5, accuracy: 0.8564\n",
      "[[1889  122]\n",
      " [ 237  252]] \n",
      "\n",
      "             precision    recall  f1-score   support\n",
      "\n",
      "          0       0.89      0.94      0.91      2011\n",
      "          1       0.67      0.52      0.58       489\n",
      "\n",
      "avg / total       0.85      0.86      0.85      2500\n",
      "\n",
      "threshold@0.1773, accuracy: 0.7600\n",
      "[[1504  507]\n",
      " [  93  396]]\n",
      "             precision    recall  f1-score   support\n",
      "\n",
      "          0       0.94      0.75      0.83      2011\n",
      "          1       0.44      0.81      0.57       489\n",
      "\n",
      "avg / total       0.84      0.76      0.78      2500\n",
      "\n"
     ]
    },
    {
     "name": "stderr",
     "output_type": "stream",
     "text": [
      "d:\\python\\anaconda3-5.2.0\\envs\\py3_6\\lib\\site-packages\\sklearn\\metrics\\classification.py:1135: UndefinedMetricWarning: Precision and F-score are ill-defined and being set to 0.0 in labels with no predicted samples.\n",
      "  'precision', 'predicted', average, warn_for)\n",
      "d:\\python\\anaconda3-5.2.0\\envs\\py3_6\\lib\\site-packages\\sklearn\\metrics\\classification.py:1135: UndefinedMetricWarning: Precision and F-score are ill-defined and being set to 0.0 in labels with no predicted samples.\n",
      "  'precision', 'predicted', average, warn_for)\n"
     ]
    }
   ],
   "source": [
    "analyze(vl_y, y_pred, beta=.5)\n",
    "analyze(vl_y, y_pred, beta=1.5)"
   ]
  },
  {
   "cell_type": "markdown",
   "metadata": {
    "colab_type": "text",
    "id": "1dtd1HrBu04h"
   },
   "source": [
    "## Observation\n",
    "\n",
    "* 同樣的預測結果, 決定不同的threshold能夠找到更好的結果\n",
    "\n",
    "---\n",
    "\n",
    "<br/>\n",
    "<br/>\n",
    "<br/>"
   ]
  },
  {
   "cell_type": "markdown",
   "metadata": {
    "colab_type": "text",
    "id": "h9MWinD-e6SX"
   },
   "source": [
    "## Bining Numeric Feature\n",
    "\n",
    "* Quartile cut\n",
    "* `Age`欄位特殊處理 => [14, 30, 35, 40, 45, 62]\n",
    "* `Balance`欄位特殊處理 => `IsBalanceZero`\n"
   ]
  },
  {
   "cell_type": "code",
   "execution_count": 14,
   "metadata": {
    "colab": {},
    "colab_type": "code",
    "id": "KEZCNmIMqlor"
   },
   "outputs": [],
   "source": [
    "def do_binning(catg_ftrs, status, data, is_train):\n",
    "    # Quartile binning, outlier set to class \"0\"\n",
    "    def quartile_binning(x):\n",
    "        bins = np.percentile(x, range(0, 100, 25))[1:].tolist()\n",
    "        iqr_x_150 = (bins[-1] - bins[0]) * 1.5\n",
    "        bins = [bins[0] - iqr_x_150] + bins + [bins[-1] + iqr_x_150]\n",
    "        result = pd.Series(np.digitize(x, bins)).map(pd.Series([0, 1, 2, 3, 4, 0])).values\n",
    "        return result, bins\n",
    "    \n",
    "    # Age\n",
    "    bins = np.array([14, 30, 35, 40, 45, 62])\n",
    "    labels = ['~14', '14-30', '30-35', '35-40', '40-45', '45-62', '62up']\n",
    "    age_map = pd.Series(labels)\n",
    "    data['binn_Age'] = pd.Series(np.digitize(data.Age, bins)).map(age_map).values\n",
    "    catg_ftrs.append('binn_Age')\n",
    "    # Balance\n",
    "    data['binn_Balance'] = data.Balance.map(lambda e: 0 if e == 0 else 1)\n",
    "    catg_ftrs.append('binn_Balance')\n",
    "    \n",
    "    for col in ('CreditScore', 'Tenure', 'EstimatedSalary'):\n",
    "        binned_name = f'binn_{col}'\n",
    "        if is_train:\n",
    "            result, bins = quartile_binning(data[col])\n",
    "            status['binn_mapper'][binned_name] = bins\n",
    "            data[binned_name] = result\n",
    "        else:\n",
    "            bins = status['binn_mapper'][binned_name]\n",
    "            data[binned_name] = pd.Series(np.digitize(data[col], bins))\\\n",
    "                                  .map(pd.Series([0, 1, 2, 3, 4, 0])).values\n",
    "\n",
    "        catg_ftrs.append(binned_name)\n",
    "    pass"
   ]
  },
  {
   "cell_type": "code",
   "execution_count": 15,
   "metadata": {
    "colab": {
     "base_uri": "https://localhost:8080/",
     "height": 278
    },
    "colab_type": "code",
    "executionInfo": {
     "elapsed": 635,
     "status": "ok",
     "timestamp": 1539071066568,
     "user": {
      "displayName": "Gary Chen",
      "photoUrl": "",
      "userId": "10783188122132859162"
     },
     "user_tz": -480
    },
    "id": "VEBkc5Rctmt9",
    "outputId": "f84f9bff-6fd5-4325-be6f-85f4c7e90b2d"
   },
   "outputs": [
    {
     "name": "stdout",
     "output_type": "stream",
     "text": [
      "(7500, 32) (2500, 32)\n"
     ]
    },
    {
     "data": {
      "text/html": [
       "<div>\n",
       "<style scoped>\n",
       "    .dataframe tbody tr th:only-of-type {\n",
       "        vertical-align: middle;\n",
       "    }\n",
       "\n",
       "    .dataframe tbody tr th {\n",
       "        vertical-align: top;\n",
       "    }\n",
       "\n",
       "    .dataframe thead th {\n",
       "        text-align: right;\n",
       "    }\n",
       "</style>\n",
       "<table border=\"1\" class=\"dataframe\">\n",
       "  <thead>\n",
       "    <tr style=\"text-align: right;\">\n",
       "      <th></th>\n",
       "      <th>Gender_Female</th>\n",
       "      <th>HasCrCard_0</th>\n",
       "      <th>IsActiveMember_0</th>\n",
       "      <th>Geography_France</th>\n",
       "      <th>Geography_Germany</th>\n",
       "      <th>Geography_Spain</th>\n",
       "      <th>binn_Age_14-30</th>\n",
       "      <th>binn_Age_30-35</th>\n",
       "      <th>binn_Age_35-40</th>\n",
       "      <th>binn_Age_40-45</th>\n",
       "      <th>...</th>\n",
       "      <th>binn_EstimatedSalary_1</th>\n",
       "      <th>binn_EstimatedSalary_2</th>\n",
       "      <th>binn_EstimatedSalary_3</th>\n",
       "      <th>binn_EstimatedSalary_4</th>\n",
       "      <th>CreditScore</th>\n",
       "      <th>Age</th>\n",
       "      <th>Tenure</th>\n",
       "      <th>Balance</th>\n",
       "      <th>NumOfProducts</th>\n",
       "      <th>EstimatedSalary</th>\n",
       "    </tr>\n",
       "  </thead>\n",
       "  <tbody>\n",
       "    <tr>\n",
       "      <th>0</th>\n",
       "      <td>0</td>\n",
       "      <td>1</td>\n",
       "      <td>0</td>\n",
       "      <td>0</td>\n",
       "      <td>1</td>\n",
       "      <td>0</td>\n",
       "      <td>0</td>\n",
       "      <td>0</td>\n",
       "      <td>1</td>\n",
       "      <td>0</td>\n",
       "      <td>...</td>\n",
       "      <td>0</td>\n",
       "      <td>1</td>\n",
       "      <td>0</td>\n",
       "      <td>0</td>\n",
       "      <td>0.931808</td>\n",
       "      <td>-0.286140</td>\n",
       "      <td>-1.726890</td>\n",
       "      <td>0.818951</td>\n",
       "      <td>0.804202</td>\n",
       "      <td>-0.449945</td>\n",
       "    </tr>\n",
       "    <tr>\n",
       "      <th>1</th>\n",
       "      <td>0</td>\n",
       "      <td>1</td>\n",
       "      <td>1</td>\n",
       "      <td>1</td>\n",
       "      <td>0</td>\n",
       "      <td>0</td>\n",
       "      <td>0</td>\n",
       "      <td>0</td>\n",
       "      <td>0</td>\n",
       "      <td>0</td>\n",
       "      <td>...</td>\n",
       "      <td>1</td>\n",
       "      <td>0</td>\n",
       "      <td>0</td>\n",
       "      <td>0</td>\n",
       "      <td>-0.185926</td>\n",
       "      <td>0.761549</td>\n",
       "      <td>-1.726890</td>\n",
       "      <td>-1.223103</td>\n",
       "      <td>-0.913689</td>\n",
       "      <td>-1.631281</td>\n",
       "    </tr>\n",
       "    <tr>\n",
       "      <th>2</th>\n",
       "      <td>1</td>\n",
       "      <td>1</td>\n",
       "      <td>1</td>\n",
       "      <td>1</td>\n",
       "      <td>0</td>\n",
       "      <td>0</td>\n",
       "      <td>0</td>\n",
       "      <td>0</td>\n",
       "      <td>0</td>\n",
       "      <td>0</td>\n",
       "      <td>...</td>\n",
       "      <td>0</td>\n",
       "      <td>1</td>\n",
       "      <td>0</td>\n",
       "      <td>0</td>\n",
       "      <td>0.176303</td>\n",
       "      <td>3.142658</td>\n",
       "      <td>-1.036539</td>\n",
       "      <td>-1.223103</td>\n",
       "      <td>0.804202</td>\n",
       "      <td>-0.510415</td>\n",
       "    </tr>\n",
       "    <tr>\n",
       "      <th>3</th>\n",
       "      <td>1</td>\n",
       "      <td>1</td>\n",
       "      <td>0</td>\n",
       "      <td>1</td>\n",
       "      <td>0</td>\n",
       "      <td>0</td>\n",
       "      <td>0</td>\n",
       "      <td>0</td>\n",
       "      <td>0</td>\n",
       "      <td>1</td>\n",
       "      <td>...</td>\n",
       "      <td>1</td>\n",
       "      <td>0</td>\n",
       "      <td>0</td>\n",
       "      <td>0</td>\n",
       "      <td>0.797266</td>\n",
       "      <td>0.380571</td>\n",
       "      <td>0.689338</td>\n",
       "      <td>-1.223103</td>\n",
       "      <td>0.804202</td>\n",
       "      <td>-1.045445</td>\n",
       "    </tr>\n",
       "    <tr>\n",
       "      <th>4</th>\n",
       "      <td>1</td>\n",
       "      <td>1</td>\n",
       "      <td>0</td>\n",
       "      <td>0</td>\n",
       "      <td>1</td>\n",
       "      <td>0</td>\n",
       "      <td>0</td>\n",
       "      <td>0</td>\n",
       "      <td>0</td>\n",
       "      <td>1</td>\n",
       "      <td>...</td>\n",
       "      <td>1</td>\n",
       "      <td>0</td>\n",
       "      <td>0</td>\n",
       "      <td>0</td>\n",
       "      <td>-0.320468</td>\n",
       "      <td>0.094838</td>\n",
       "      <td>-0.001013</td>\n",
       "      <td>0.507413</td>\n",
       "      <td>0.804202</td>\n",
       "      <td>-0.876750</td>\n",
       "    </tr>\n",
       "  </tbody>\n",
       "</table>\n",
       "<p>5 rows × 32 columns</p>\n",
       "</div>"
      ],
      "text/plain": [
       "   Gender_Female  HasCrCard_0  IsActiveMember_0  Geography_France  \\\n",
       "0              0            1                 0                 0   \n",
       "1              0            1                 1                 1   \n",
       "2              1            1                 1                 1   \n",
       "3              1            1                 0                 1   \n",
       "4              1            1                 0                 0   \n",
       "\n",
       "   Geography_Germany  Geography_Spain  binn_Age_14-30  binn_Age_30-35  \\\n",
       "0                  1                0               0               0   \n",
       "1                  0                0               0               0   \n",
       "2                  0                0               0               0   \n",
       "3                  0                0               0               0   \n",
       "4                  1                0               0               0   \n",
       "\n",
       "   binn_Age_35-40  binn_Age_40-45       ...         binn_EstimatedSalary_1  \\\n",
       "0               1               0       ...                              0   \n",
       "1               0               0       ...                              1   \n",
       "2               0               0       ...                              0   \n",
       "3               0               1       ...                              1   \n",
       "4               0               1       ...                              1   \n",
       "\n",
       "   binn_EstimatedSalary_2  binn_EstimatedSalary_3  binn_EstimatedSalary_4  \\\n",
       "0                       1                       0                       0   \n",
       "1                       0                       0                       0   \n",
       "2                       1                       0                       0   \n",
       "3                       0                       0                       0   \n",
       "4                       0                       0                       0   \n",
       "\n",
       "   CreditScore       Age    Tenure   Balance  NumOfProducts  EstimatedSalary  \n",
       "0     0.931808 -0.286140 -1.726890  0.818951       0.804202        -0.449945  \n",
       "1    -0.185926  0.761549 -1.726890 -1.223103      -0.913689        -1.631281  \n",
       "2     0.176303  3.142658 -1.036539 -1.223103       0.804202        -0.510415  \n",
       "3     0.797266  0.380571  0.689338 -1.223103       0.804202        -1.045445  \n",
       "4    -0.320468  0.094838 -0.001013  0.507413       0.804202        -0.876750  \n",
       "\n",
       "[5 rows x 32 columns]"
      ]
     },
     "execution_count": 15,
     "metadata": {},
     "output_type": "execute_result"
    }
   ],
   "source": [
    "# Trnasform raw data to foramt model recognized\n",
    "tr_x, tr_y, status = feature_engineering(raw, is_train=True)\n",
    "vl_x, vl_y, _ = feature_engineering(raw_vl, is_train=False, status=status)\n",
    "\n",
    "print( tr_x.shape, vl_x.shape )\n",
    "tr_x.head()"
   ]
  },
  {
   "cell_type": "markdown",
   "metadata": {
    "colab_type": "text",
    "id": "dnxnxDXNtmuB"
   },
   "source": [
    "## (LAB) Model (Binning)\n",
    "\n",
    "* 調整network架構\n",
    "* 調整analyze的beta參數(0.1 ~ 2), 觀察precision, recall變化"
   ]
  },
  {
   "cell_type": "code",
   "execution_count": 16,
   "metadata": {
    "colab": {
     "base_uri": "https://localhost:8080/",
     "height": 3137
    },
    "colab_type": "code",
    "executionInfo": {
     "elapsed": 7049,
     "status": "ok",
     "timestamp": 1539071078354,
     "user": {
      "displayName": "Gary Chen",
      "photoUrl": "",
      "userId": "10783188122132859162"
     },
     "user_tz": -480
    },
    "id": "71eIwvz7tmuE",
    "outputId": "088bb8fc-5b51-4d0a-c85d-35ad434e7880",
    "scrolled": true
   },
   "outputs": [
    {
     "name": "stdout",
     "output_type": "stream",
     "text": [
      "_________________________________________________________________\n",
      "Layer (type)                 Output Shape              Param #   \n",
      "=================================================================\n",
      "dense_1 (Dense)              (None, 32)                1056      \n",
      "_________________________________________________________________\n",
      "dense_2 (Dense)              (None, 16)                528       \n",
      "_________________________________________________________________\n",
      "dense_3 (Dense)              (None, 1)                 17        \n",
      "=================================================================\n",
      "Total params: 1,601\n",
      "Trainable params: 1,601\n",
      "Non-trainable params: 0\n",
      "_________________________________________________________________\n",
      "Train on 7500 samples, validate on 2500 samples\n",
      "Epoch 1/30\n",
      "7500/7500 [==============================] - 1s 83us/step - loss: 0.6208 - acc: 0.7857 - val_loss: 0.4583 - val_acc: 0.8044\n",
      "Epoch 2/30\n",
      "7500/7500 [==============================] - 0s 34us/step - loss: 0.4500 - acc: 0.7936 - val_loss: 0.4096 - val_acc: 0.8044\n",
      "Epoch 3/30\n",
      "7500/7500 [==============================] - 0s 37us/step - loss: 0.4293 - acc: 0.7936 - val_loss: 0.3982 - val_acc: 0.8044\n",
      "Epoch 4/30\n",
      "7500/7500 [==============================] - 0s 37us/step - loss: 0.4231 - acc: 0.8092 - val_loss: 0.3898 - val_acc: 0.8416\n",
      "Epoch 5/30\n",
      "7500/7500 [==============================] - 0s 35us/step - loss: 0.4177 - acc: 0.8208 - val_loss: 0.3846 - val_acc: 0.8452\n",
      "Epoch 6/30\n",
      "7500/7500 [==============================] - 0s 37us/step - loss: 0.4144 - acc: 0.8221 - val_loss: 0.3884 - val_acc: 0.8440\n",
      "Epoch 7/30\n",
      "7500/7500 [==============================] - 0s 34us/step - loss: 0.4122 - acc: 0.8205 - val_loss: 0.3784 - val_acc: 0.8472\n",
      "Epoch 8/30\n",
      "7500/7500 [==============================] - 0s 32us/step - loss: 0.4076 - acc: 0.8228 - val_loss: 0.3740 - val_acc: 0.8484\n",
      "Epoch 9/30\n",
      "7500/7500 [==============================] - 0s 30us/step - loss: 0.4013 - acc: 0.8281 - val_loss: 0.3684 - val_acc: 0.8524\n",
      "Epoch 10/30\n",
      "7500/7500 [==============================] - 0s 30us/step - loss: 0.3932 - acc: 0.8327 - val_loss: 0.3630 - val_acc: 0.8552\n",
      "Epoch 11/30\n",
      "7500/7500 [==============================] - 0s 33us/step - loss: 0.3826 - acc: 0.8420 - val_loss: 0.3525 - val_acc: 0.8592\n",
      "Epoch 12/30\n",
      "7500/7500 [==============================] - 0s 33us/step - loss: 0.3701 - acc: 0.8467 - val_loss: 0.3476 - val_acc: 0.8584\n",
      "Epoch 13/30\n",
      "7500/7500 [==============================] - 0s 29us/step - loss: 0.3601 - acc: 0.8508 - val_loss: 0.3402 - val_acc: 0.8592\n",
      "Epoch 14/30\n",
      "7500/7500 [==============================] - 0s 30us/step - loss: 0.3519 - acc: 0.8543 - val_loss: 0.3379 - val_acc: 0.8616\n",
      "Epoch 15/30\n",
      "7500/7500 [==============================] - 0s 32us/step - loss: 0.3457 - acc: 0.8568 - val_loss: 0.3363 - val_acc: 0.8608\n",
      "Epoch 16/30\n",
      "7500/7500 [==============================] - 0s 33us/step - loss: 0.3428 - acc: 0.8573 - val_loss: 0.3406 - val_acc: 0.8584\n",
      "Epoch 17/30\n",
      "7500/7500 [==============================] - 0s 31us/step - loss: 0.3420 - acc: 0.8587 - val_loss: 0.3367 - val_acc: 0.8608\n",
      "Epoch 18/30\n",
      "7500/7500 [==============================] - 0s 34us/step - loss: 0.3393 - acc: 0.8601 - val_loss: 0.3368 - val_acc: 0.8620\n",
      "Epoch 19/30\n",
      "7500/7500 [==============================] - 0s 34us/step - loss: 0.3387 - acc: 0.8615 - val_loss: 0.3360 - val_acc: 0.8616\n",
      "Epoch 20/30\n",
      "7500/7500 [==============================] - 0s 32us/step - loss: 0.3369 - acc: 0.8585 - val_loss: 0.3358 - val_acc: 0.8592\n",
      "Epoch 21/30\n",
      "7500/7500 [==============================] - 0s 32us/step - loss: 0.3364 - acc: 0.8621 - val_loss: 0.3369 - val_acc: 0.8628\n",
      "Epoch 22/30\n",
      "7500/7500 [==============================] - 0s 30us/step - loss: 0.3353 - acc: 0.8609 - val_loss: 0.3368 - val_acc: 0.8640\n",
      "Epoch 23/30\n",
      "7500/7500 [==============================] - 0s 31us/step - loss: 0.3340 - acc: 0.8628 - val_loss: 0.3359 - val_acc: 0.8624\n",
      "Epoch 24/30\n",
      "7500/7500 [==============================] - 0s 34us/step - loss: 0.3335 - acc: 0.8613 - val_loss: 0.3368 - val_acc: 0.8640\n",
      "Epoch 25/30\n",
      "7500/7500 [==============================] - 0s 32us/step - loss: 0.3324 - acc: 0.8639 - val_loss: 0.3389 - val_acc: 0.8604\n",
      "Epoch 26/30\n",
      "7500/7500 [==============================] - 0s 32us/step - loss: 0.3323 - acc: 0.8625 - val_loss: 0.3360 - val_acc: 0.8660\n",
      "Epoch 27/30\n",
      "7500/7500 [==============================] - 0s 31us/step - loss: 0.3317 - acc: 0.8636 - val_loss: 0.3393 - val_acc: 0.8612\n",
      "Epoch 28/30\n",
      "7500/7500 [==============================] - 0s 34us/step - loss: 0.3320 - acc: 0.8635 - val_loss: 0.3415 - val_acc: 0.8612\n",
      "Epoch 29/30\n",
      "7500/7500 [==============================] - 0s 33us/step - loss: 0.3305 - acc: 0.8652 - val_loss: 0.3379 - val_acc: 0.8624\n",
      "Epoch 30/30\n",
      "7500/7500 [==============================] - 0s 30us/step - loss: 0.3301 - acc: 0.8643 - val_loss: 0.3383 - val_acc: 0.8620\n"
     ]
    },
    {
     "data": {
      "image/png": "[encoded data removed]",
      "text/plain": [
       "<Figure size 1152x360 with 2 Axes>"
      ]
     },
     "metadata": {},
     "output_type": "display_data"
    },
    {
     "name": "stdout",
     "output_type": "stream",
     "text": [
      "auc: 0.8555531488876619\n"
     ]
    },
    {
     "data": {
      "image/png": "[encoded data removed]",
      "text/plain": [
       "<Figure size 432x432 with 1 Axes>"
      ]
     },
     "metadata": {},
     "output_type": "display_data"
    },
    {
     "name": "stdout",
     "output_type": "stream",
     "text": [
      "count    2500.000000\n",
      "mean        0.210402\n",
      "std         0.250550\n",
      "min         0.002943\n",
      "25%         0.035520\n",
      "50%         0.101195\n",
      "75%         0.280192\n",
      "max         0.999961\n",
      "dtype: float64\n",
      "0.21040171 0.25054964\n"
     ]
    },
    {
     "data": {
      "image/png": "[encoded data removed]",
      "text/plain": [
       "<Figure size 432x288 with 1 Axes>"
      ]
     },
     "metadata": {},
     "output_type": "display_data"
    },
    {
     "data": {
      "image/png": "[encoded data removed]",
      "text/plain": [
       "<Figure size 432x288 with 1 Axes>"
      ]
     },
     "metadata": {},
     "output_type": "display_data"
    },
    {
     "data": {
      "image/png": "[encoded data removed]",
      "text/plain": [
       "<Figure size 432x288 with 1 Axes>"
      ]
     },
     "metadata": {},
     "output_type": "display_data"
    },
    {
     "name": "stdout",
     "output_type": "stream",
     "text": [
      "thres: 0.4058, f_beta score: 0.6122\n",
      "accuracy@0.4058: 0.86\n",
      "\n",
      "threshold@0.5, accuracy: 0.8620\n",
      "[[1906  105]\n",
      " [ 240  249]] \n",
      "\n",
      "             precision    recall  f1-score   support\n",
      "\n",
      "          0       0.89      0.95      0.92      2011\n",
      "          1       0.70      0.51      0.59       489\n",
      "\n",
      "avg / total       0.85      0.86      0.85      2500\n",
      "\n",
      "threshold@0.4058, accuracy: 0.8576\n",
      "[[1863  148]\n",
      " [ 208  281]]\n",
      "             precision    recall  f1-score   support\n",
      "\n",
      "          0       0.90      0.93      0.91      2011\n",
      "          1       0.66      0.57      0.61       489\n",
      "\n",
      "avg / total       0.85      0.86      0.85      2500\n",
      "\n"
     ]
    },
    {
     "name": "stderr",
     "output_type": "stream",
     "text": [
      "d:\\python\\anaconda3-5.2.0\\envs\\py3_6\\lib\\site-packages\\sklearn\\metrics\\classification.py:1135: UndefinedMetricWarning: Precision and F-score are ill-defined and being set to 0.0 in labels with no predicted samples.\n",
      "  'precision', 'predicted', average, warn_for)\n"
     ]
    }
   ],
   "source": [
    "def get_model(input_dim):\n",
    "    model = Sequential()\n",
    "    # kernel_regularizer=regularizers.l2(0.005)\n",
    "    model.add(Dense(units = 32, activation = 'relu', kernel_initializer='uniform', input_dim = input_dim))\n",
    "    model.add(Dense(units = 16, activation = 'relu', kernel_initializer='uniform'))\n",
    "    model.add(Dense(units = 1, activation = 'sigmoid', kernel_initializer='uniform'))\n",
    "    model.summary()\n",
    "    model.compile(optimizer = 'adam', loss = 'binary_crossentropy', metrics = ['accuracy'])\n",
    "    \n",
    "    return model\n",
    "\n",
    "K.clear_session()\n",
    "\n",
    "model = get_model(input_dim=tr_x.shape[1])\n",
    "hist = model.fit(tr_x, tr_y, validation_data=(vl_x, vl_y), batch_size=100, epochs=30)\n",
    "plot_result(hist)\n",
    "draw_roc_curve(vl_y, model.predict(vl_x))\n",
    "\n",
    "y_pred = model.predict(vl_x)\n",
    "pred_dist(y_pred)\n",
    "analyze(vl_y, y_pred)"
   ]
  },
  {
   "cell_type": "markdown",
   "metadata": {
    "colab_type": "text",
    "id": "4EtiRvZDGVfV"
   },
   "source": [
    "## Add Weight of Evidence Encoding"
   ]
  },
  {
   "cell_type": "code",
   "execution_count": 17,
   "metadata": {
    "colab": {},
    "colab_type": "code",
    "id": "L_YwlDOpGVml"
   },
   "outputs": [],
   "source": [
    "def do_woe_encoding(catg_ftrs, catg_part, status, data, is_train):\n",
    "\n",
    "    def woe_encode(x, label, data):\n",
    "        \"\"\"Calculate the Weight of Evidence of given categorical feature and label\n",
    "\n",
    "        :param x: Given feature name\n",
    "        :param label: Label name\n",
    "        :param data:\n",
    "        :return: WOE encoded dictionary\n",
    "        \"\"\"\n",
    "        total_vc = data[label].value_counts().sort_index()\n",
    "\n",
    "        def woe(pipe, total_vc):\n",
    "            # Count by label in this group\n",
    "            group_vc = pipe[label].value_counts().sort_index()\n",
    "\n",
    "            # Some class in the feature is missing, fill zero to missing class\n",
    "            if len(group_vc) < len(total_vc):\n",
    "                for key in total_vc.index:\n",
    "                    if key not in group_vc:\n",
    "                        group_vc[key] = 0.\n",
    "                group_vc = group_vc.sort_index()\n",
    "\n",
    "            # WOE formula\n",
    "            r = ((group_vc + 0.5) / total_vc).values\n",
    "\n",
    "            # Odd ratio => 1 to 0, you can define meaning of each class\n",
    "            return np.log(r[1] / r[0])\n",
    "\n",
    "        return data.groupby(x).apply(lambda pipe: woe(pipe, total_vc))\n",
    "\n",
    "    for catg_col in catg_ftrs:\n",
    "        if is_train:\n",
    "            kv = woe_encode(catg_col, 'Exited', data)\n",
    "            status['woe_mapper'][catg_col] = kv.to_dict()\n",
    "        else:\n",
    "            kv = pd.Series(status['woe_mapper'][catg_col])\n",
    "        catg_part[f'woe_{catg_col}'] = kv.reindex(data[catg_col]).values\n",
    "    pass"
   ]
  },
  {
   "cell_type": "code",
   "execution_count": 18,
   "metadata": {
    "colab": {
     "base_uri": "https://localhost:8080/",
     "height": 278
    },
    "colab_type": "code",
    "executionInfo": {
     "elapsed": 812,
     "status": "ok",
     "timestamp": 1539071088202,
     "user": {
      "displayName": "Gary Chen",
      "photoUrl": "",
      "userId": "10783188122132859162"
     },
     "user_tz": -480
    },
    "id": "97KvsdGYtmuK",
    "outputId": "790fc281-197f-4855-d182-34472d58e368"
   },
   "outputs": [
    {
     "name": "stdout",
     "output_type": "stream",
     "text": [
      "(7500, 41) (2500, 41)\n"
     ]
    },
    {
     "data": {
      "text/html": [
       "<div>\n",
       "<style scoped>\n",
       "    .dataframe tbody tr th:only-of-type {\n",
       "        vertical-align: middle;\n",
       "    }\n",
       "\n",
       "    .dataframe tbody tr th {\n",
       "        vertical-align: top;\n",
       "    }\n",
       "\n",
       "    .dataframe thead th {\n",
       "        text-align: right;\n",
       "    }\n",
       "</style>\n",
       "<table border=\"1\" class=\"dataframe\">\n",
       "  <thead>\n",
       "    <tr style=\"text-align: right;\">\n",
       "      <th></th>\n",
       "      <th>Gender_Female</th>\n",
       "      <th>HasCrCard_0</th>\n",
       "      <th>IsActiveMember_0</th>\n",
       "      <th>Geography_France</th>\n",
       "      <th>Geography_Germany</th>\n",
       "      <th>Geography_Spain</th>\n",
       "      <th>binn_Age_14-30</th>\n",
       "      <th>binn_Age_30-35</th>\n",
       "      <th>binn_Age_35-40</th>\n",
       "      <th>binn_Age_40-45</th>\n",
       "      <th>...</th>\n",
       "      <th>woe_binn_Balance</th>\n",
       "      <th>woe_binn_CreditScore</th>\n",
       "      <th>woe_binn_Tenure</th>\n",
       "      <th>woe_binn_EstimatedSalary</th>\n",
       "      <th>CreditScore</th>\n",
       "      <th>Age</th>\n",
       "      <th>Tenure</th>\n",
       "      <th>Balance</th>\n",
       "      <th>NumOfProducts</th>\n",
       "      <th>EstimatedSalary</th>\n",
       "    </tr>\n",
       "  </thead>\n",
       "  <tbody>\n",
       "    <tr>\n",
       "      <th>0</th>\n",
       "      <td>0</td>\n",
       "      <td>1</td>\n",
       "      <td>0</td>\n",
       "      <td>0</td>\n",
       "      <td>1</td>\n",
       "      <td>0</td>\n",
       "      <td>0</td>\n",
       "      <td>0</td>\n",
       "      <td>1</td>\n",
       "      <td>0</td>\n",
       "      <td>...</td>\n",
       "      <td>0.206449</td>\n",
       "      <td>0.004414</td>\n",
       "      <td>0.147695</td>\n",
       "      <td>-0.005562</td>\n",
       "      <td>0.931808</td>\n",
       "      <td>-0.286140</td>\n",
       "      <td>-1.726890</td>\n",
       "      <td>0.818951</td>\n",
       "      <td>0.804202</td>\n",
       "      <td>-0.449945</td>\n",
       "    </tr>\n",
       "    <tr>\n",
       "      <th>1</th>\n",
       "      <td>0</td>\n",
       "      <td>1</td>\n",
       "      <td>1</td>\n",
       "      <td>1</td>\n",
       "      <td>0</td>\n",
       "      <td>0</td>\n",
       "      <td>0</td>\n",
       "      <td>0</td>\n",
       "      <td>0</td>\n",
       "      <td>0</td>\n",
       "      <td>...</td>\n",
       "      <td>-0.439217</td>\n",
       "      <td>0.028947</td>\n",
       "      <td>0.147695</td>\n",
       "      <td>-0.058630</td>\n",
       "      <td>-0.185926</td>\n",
       "      <td>0.761549</td>\n",
       "      <td>-1.726890</td>\n",
       "      <td>-1.223103</td>\n",
       "      <td>-0.913689</td>\n",
       "      <td>-1.631281</td>\n",
       "    </tr>\n",
       "    <tr>\n",
       "      <th>2</th>\n",
       "      <td>1</td>\n",
       "      <td>1</td>\n",
       "      <td>1</td>\n",
       "      <td>1</td>\n",
       "      <td>0</td>\n",
       "      <td>0</td>\n",
       "      <td>0</td>\n",
       "      <td>0</td>\n",
       "      <td>0</td>\n",
       "      <td>0</td>\n",
       "      <td>...</td>\n",
       "      <td>-0.439217</td>\n",
       "      <td>-0.128854</td>\n",
       "      <td>-0.032175</td>\n",
       "      <td>-0.005562</td>\n",
       "      <td>0.176303</td>\n",
       "      <td>3.142658</td>\n",
       "      <td>-1.036539</td>\n",
       "      <td>-1.223103</td>\n",
       "      <td>0.804202</td>\n",
       "      <td>-0.510415</td>\n",
       "    </tr>\n",
       "    <tr>\n",
       "      <th>3</th>\n",
       "      <td>1</td>\n",
       "      <td>1</td>\n",
       "      <td>0</td>\n",
       "      <td>1</td>\n",
       "      <td>0</td>\n",
       "      <td>0</td>\n",
       "      <td>0</td>\n",
       "      <td>0</td>\n",
       "      <td>0</td>\n",
       "      <td>1</td>\n",
       "      <td>...</td>\n",
       "      <td>-0.439217</td>\n",
       "      <td>0.004414</td>\n",
       "      <td>-0.057250</td>\n",
       "      <td>-0.058630</td>\n",
       "      <td>0.797266</td>\n",
       "      <td>0.380571</td>\n",
       "      <td>0.689338</td>\n",
       "      <td>-1.223103</td>\n",
       "      <td>0.804202</td>\n",
       "      <td>-1.045445</td>\n",
       "    </tr>\n",
       "    <tr>\n",
       "      <th>4</th>\n",
       "      <td>1</td>\n",
       "      <td>1</td>\n",
       "      <td>0</td>\n",
       "      <td>0</td>\n",
       "      <td>1</td>\n",
       "      <td>0</td>\n",
       "      <td>0</td>\n",
       "      <td>0</td>\n",
       "      <td>0</td>\n",
       "      <td>1</td>\n",
       "      <td>...</td>\n",
       "      <td>0.206449</td>\n",
       "      <td>0.028947</td>\n",
       "      <td>-0.057250</td>\n",
       "      <td>-0.058630</td>\n",
       "      <td>-0.320468</td>\n",
       "      <td>0.094838</td>\n",
       "      <td>-0.001013</td>\n",
       "      <td>0.507413</td>\n",
       "      <td>0.804202</td>\n",
       "      <td>-0.876750</td>\n",
       "    </tr>\n",
       "  </tbody>\n",
       "</table>\n",
       "<p>5 rows × 41 columns</p>\n",
       "</div>"
      ],
      "text/plain": [
       "   Gender_Female  HasCrCard_0  IsActiveMember_0  Geography_France  \\\n",
       "0              0            1                 0                 0   \n",
       "1              0            1                 1                 1   \n",
       "2              1            1                 1                 1   \n",
       "3              1            1                 0                 1   \n",
       "4              1            1                 0                 0   \n",
       "\n",
       "   Geography_Germany  Geography_Spain  binn_Age_14-30  binn_Age_30-35  \\\n",
       "0                  1                0               0               0   \n",
       "1                  0                0               0               0   \n",
       "2                  0                0               0               0   \n",
       "3                  0                0               0               0   \n",
       "4                  1                0               0               0   \n",
       "\n",
       "   binn_Age_35-40  binn_Age_40-45       ...         woe_binn_Balance  \\\n",
       "0               1               0       ...                 0.206449   \n",
       "1               0               0       ...                -0.439217   \n",
       "2               0               0       ...                -0.439217   \n",
       "3               0               1       ...                -0.439217   \n",
       "4               0               1       ...                 0.206449   \n",
       "\n",
       "   woe_binn_CreditScore  woe_binn_Tenure  woe_binn_EstimatedSalary  \\\n",
       "0              0.004414         0.147695                 -0.005562   \n",
       "1              0.028947         0.147695                 -0.058630   \n",
       "2             -0.128854        -0.032175                 -0.005562   \n",
       "3              0.004414        -0.057250                 -0.058630   \n",
       "4              0.028947        -0.057250                 -0.058630   \n",
       "\n",
       "   CreditScore       Age    Tenure   Balance  NumOfProducts  EstimatedSalary  \n",
       "0     0.931808 -0.286140 -1.726890  0.818951       0.804202        -0.449945  \n",
       "1    -0.185926  0.761549 -1.726890 -1.223103      -0.913689        -1.631281  \n",
       "2     0.176303  3.142658 -1.036539 -1.223103       0.804202        -0.510415  \n",
       "3     0.797266  0.380571  0.689338 -1.223103       0.804202        -1.045445  \n",
       "4    -0.320468  0.094838 -0.001013  0.507413       0.804202        -0.876750  \n",
       "\n",
       "[5 rows x 41 columns]"
      ]
     },
     "execution_count": 18,
     "metadata": {},
     "output_type": "execute_result"
    }
   ],
   "source": [
    "# Trnasform raw data to foramt model recognized\n",
    "tr_x, tr_y, status = feature_engineering(raw, is_train=True)\n",
    "vl_x, vl_y, _ = feature_engineering(raw_vl, is_train=False, status=status)\n",
    "\n",
    "print( tr_x.shape, vl_x.shape )\n",
    "tr_x.head()"
   ]
  },
  {
   "cell_type": "markdown",
   "metadata": {
    "colab_type": "text",
    "id": "xp-VkesMgDVz"
   },
   "source": [
    "## (LAB) Model (WOE)\n",
    "\n",
    "* 調整network架構\n",
    "* 調整analyze的beta參數(0.1 ~ 2), 觀察precision, recall變化"
   ]
  },
  {
   "cell_type": "code",
   "execution_count": 19,
   "metadata": {
    "colab": {
     "base_uri": "https://localhost:8080/",
     "height": 3137
    },
    "colab_type": "code",
    "executionInfo": {
     "elapsed": 7446,
     "status": "ok",
     "timestamp": 1539071099830,
     "user": {
      "displayName": "Gary Chen",
      "photoUrl": "",
      "userId": "10783188122132859162"
     },
     "user_tz": -480
    },
    "id": "_1oC02RWeZoH",
    "outputId": "28eff2c3-4274-43a0-922b-c4d0008c29f1",
    "scrolled": true
   },
   "outputs": [
    {
     "name": "stdout",
     "output_type": "stream",
     "text": [
      "_________________________________________________________________\n",
      "Layer (type)                 Output Shape              Param #   \n",
      "=================================================================\n",
      "dense_1 (Dense)              (None, 64)                2688      \n",
      "_________________________________________________________________\n",
      "dense_2 (Dense)              (None, 32)                2080      \n",
      "_________________________________________________________________\n",
      "dense_3 (Dense)              (None, 1)                 33        \n",
      "=================================================================\n",
      "Total params: 4,801\n",
      "Trainable params: 4,801\n",
      "Non-trainable params: 0\n",
      "_________________________________________________________________\n",
      "Train on 7500 samples, validate on 2500 samples\n",
      "Epoch 1/30\n",
      "7500/7500 [==============================] - 1s 117us/step - loss: 0.5454 - acc: 0.7901 - val_loss: 0.4053 - val_acc: 0.8044\n",
      "Epoch 2/30\n",
      "7500/7500 [==============================] - 0s 36us/step - loss: 0.4240 - acc: 0.8083 - val_loss: 0.3900 - val_acc: 0.8424\n",
      "Epoch 3/30\n",
      "7500/7500 [==============================] - 0s 32us/step - loss: 0.4145 - acc: 0.8263 - val_loss: 0.3802 - val_acc: 0.8480\n",
      "Epoch 4/30\n",
      "7500/7500 [==============================] - 0s 33us/step - loss: 0.3984 - acc: 0.8344 - val_loss: 0.3617 - val_acc: 0.8540\n",
      "Epoch 5/30\n",
      "7500/7500 [==============================] - 0s 30us/step - loss: 0.3759 - acc: 0.8452 - val_loss: 0.3462 - val_acc: 0.8564\n",
      "Epoch 6/30\n",
      "7500/7500 [==============================] - 0s 34us/step - loss: 0.3562 - acc: 0.8552 - val_loss: 0.3388 - val_acc: 0.8580\n",
      "Epoch 7/30\n",
      "7500/7500 [==============================] - 0s 36us/step - loss: 0.3451 - acc: 0.8592 - val_loss: 0.3349 - val_acc: 0.8620\n",
      "Epoch 8/30\n",
      "7500/7500 [==============================] - 0s 33us/step - loss: 0.3429 - acc: 0.8588 - val_loss: 0.3417 - val_acc: 0.8612\n",
      "Epoch 9/30\n",
      "7500/7500 [==============================] - 0s 30us/step - loss: 0.3390 - acc: 0.8616 - val_loss: 0.3345 - val_acc: 0.8632\n",
      "Epoch 10/30\n",
      "7500/7500 [==============================] - 0s 31us/step - loss: 0.3372 - acc: 0.8600 - val_loss: 0.3382 - val_acc: 0.8596\n",
      "Epoch 11/30\n",
      "7500/7500 [==============================] - 0s 30us/step - loss: 0.3373 - acc: 0.8620 - val_loss: 0.3350 - val_acc: 0.8620\n",
      "Epoch 12/30\n",
      "7500/7500 [==============================] - 0s 31us/step - loss: 0.3341 - acc: 0.8613 - val_loss: 0.3351 - val_acc: 0.8608\n",
      "Epoch 13/30\n",
      "7500/7500 [==============================] - 0s 32us/step - loss: 0.3320 - acc: 0.8643 - val_loss: 0.3379 - val_acc: 0.8612\n",
      "Epoch 14/30\n",
      "7500/7500 [==============================] - 0s 33us/step - loss: 0.3309 - acc: 0.8629 - val_loss: 0.3365 - val_acc: 0.8624\n",
      "Epoch 15/30\n",
      "7500/7500 [==============================] - 0s 35us/step - loss: 0.3298 - acc: 0.8641 - val_loss: 0.3387 - val_acc: 0.8612\n",
      "Epoch 16/30\n",
      "7500/7500 [==============================] - 0s 35us/step - loss: 0.3301 - acc: 0.8664 - val_loss: 0.3379 - val_acc: 0.8644\n",
      "Epoch 17/30\n",
      "7500/7500 [==============================] - 0s 36us/step - loss: 0.3294 - acc: 0.8639 - val_loss: 0.3429 - val_acc: 0.8596\n",
      "Epoch 18/30\n",
      "7500/7500 [==============================] - 0s 40us/step - loss: 0.3280 - acc: 0.8655 - val_loss: 0.3366 - val_acc: 0.8640\n",
      "Epoch 19/30\n",
      "7500/7500 [==============================] - 0s 36us/step - loss: 0.3259 - acc: 0.8661 - val_loss: 0.3444 - val_acc: 0.8592\n",
      "Epoch 20/30\n",
      "7500/7500 [==============================] - 0s 34us/step - loss: 0.3252 - acc: 0.8643 - val_loss: 0.3411 - val_acc: 0.8644\n",
      "Epoch 21/30\n",
      "7500/7500 [==============================] - 0s 31us/step - loss: 0.3238 - acc: 0.8665 - val_loss: 0.3459 - val_acc: 0.8596\n",
      "Epoch 22/30\n",
      "7500/7500 [==============================] - 0s 33us/step - loss: 0.3251 - acc: 0.8675 - val_loss: 0.3384 - val_acc: 0.8644\n",
      "Epoch 23/30\n",
      "7500/7500 [==============================] - 0s 32us/step - loss: 0.3226 - acc: 0.8671 - val_loss: 0.3412 - val_acc: 0.8644\n",
      "Epoch 24/30\n",
      "7500/7500 [==============================] - 0s 31us/step - loss: 0.3222 - acc: 0.8655 - val_loss: 0.3441 - val_acc: 0.8604\n",
      "Epoch 25/30\n",
      "7500/7500 [==============================] - 0s 31us/step - loss: 0.3210 - acc: 0.8696 - val_loss: 0.3436 - val_acc: 0.8608\n",
      "Epoch 26/30\n",
      "7500/7500 [==============================] - 0s 33us/step - loss: 0.3198 - acc: 0.8704 - val_loss: 0.3424 - val_acc: 0.8624\n",
      "Epoch 27/30\n",
      "7500/7500 [==============================] - 0s 32us/step - loss: 0.3193 - acc: 0.8704 - val_loss: 0.3458 - val_acc: 0.8580\n",
      "Epoch 28/30\n",
      "7500/7500 [==============================] - 0s 31us/step - loss: 0.3190 - acc: 0.8705 - val_loss: 0.3405 - val_acc: 0.8620\n",
      "Epoch 29/30\n",
      "7500/7500 [==============================] - 0s 32us/step - loss: 0.3165 - acc: 0.8693 - val_loss: 0.3490 - val_acc: 0.8552\n",
      "Epoch 30/30\n",
      "7500/7500 [==============================] - 0s 33us/step - loss: 0.3190 - acc: 0.8697 - val_loss: 0.3409 - val_acc: 0.8624\n"
     ]
    },
    {
     "data": {
      "image/png": "[encoded data removed]",
      "text/plain": [
       "<Figure size 1152x360 with 2 Axes>"
      ]
     },
     "metadata": {},
     "output_type": "display_data"
    },
    {
     "name": "stdout",
     "output_type": "stream",
     "text": [
      "auc: 0.8532071561422403\n"
     ]
    },
    {
     "data": {
      "image/png": "[encoded data removed]",
      "text/plain": [
       "<Figure size 432x432 with 1 Axes>"
      ]
     },
     "metadata": {},
     "output_type": "display_data"
    },
    {
     "name": "stdout",
     "output_type": "stream",
     "text": [
      "count    2500.000000\n",
      "mean        0.196656\n",
      "std         0.257787\n",
      "min         0.002144\n",
      "25%         0.026229\n",
      "50%         0.080336\n",
      "75%         0.239812\n",
      "max         0.999999\n",
      "dtype: float64\n",
      "0.19665599 0.2577865\n"
     ]
    },
    {
     "data": {
      "image/png": "[encoded data removed]",
      "text/plain": [
       "<Figure size 432x288 with 1 Axes>"
      ]
     },
     "metadata": {},
     "output_type": "display_data"
    },
    {
     "data": {
      "image/png": "[encoded data removed]",
      "text/plain": [
       "<Figure size 432x288 with 1 Axes>"
      ]
     },
     "metadata": {},
     "output_type": "display_data"
    },
    {
     "data": {
      "image/png": "[encoded data removed]",
      "text/plain": [
       "<Figure size 432x288 with 1 Axes>"
      ]
     },
     "metadata": {},
     "output_type": "display_data"
    },
    {
     "name": "stdout",
     "output_type": "stream",
     "text": [
      "thres: 0.3852, f_beta score: 0.6048\n",
      "accuracy@0.3852: 0.86\n",
      "\n",
      "threshold@0.5, accuracy: 0.8624\n",
      "[[1918   93]\n",
      " [ 251  238]] \n",
      "\n",
      "             precision    recall  f1-score   support\n",
      "\n",
      "          0       0.88      0.95      0.92      2011\n",
      "          1       0.72      0.49      0.58       489\n",
      "\n",
      "avg / total       0.85      0.86      0.85      2500\n",
      "\n",
      "threshold@0.3852, accuracy: 0.8552\n",
      "[[1861  150]\n",
      " [ 212  277]]\n",
      "             precision    recall  f1-score   support\n",
      "\n",
      "          0       0.90      0.93      0.91      2011\n",
      "          1       0.65      0.57      0.60       489\n",
      "\n",
      "avg / total       0.85      0.86      0.85      2500\n",
      "\n"
     ]
    },
    {
     "name": "stderr",
     "output_type": "stream",
     "text": [
      "d:\\python\\anaconda3-5.2.0\\envs\\py3_6\\lib\\site-packages\\sklearn\\metrics\\classification.py:1135: UndefinedMetricWarning: Precision and F-score are ill-defined and being set to 0.0 in labels with no predicted samples.\n",
      "  'precision', 'predicted', average, warn_for)\n"
     ]
    }
   ],
   "source": [
    "def get_model(input_dim):\n",
    "    model = Sequential()\n",
    "    # kernel_regularizer=regularizers.l2(0.005)\n",
    "    model.add(Dense(units = 64, activation = 'relu', kernel_initializer='uniform', input_dim = input_dim))\n",
    "    model.add(Dense(units = 32, activation = 'relu', kernel_initializer='uniform'))\n",
    "    model.add(Dense(units = 1, activation = 'sigmoid', kernel_initializer='uniform'))\n",
    "    model.summary()\n",
    "    model.compile(optimizer = 'adam', loss = 'binary_crossentropy', metrics = ['accuracy'])\n",
    "    \n",
    "    return model\n",
    "\n",
    "K.clear_session()\n",
    "\n",
    "model = get_model(input_dim=tr_x.shape[1])\n",
    "hist = model.fit(tr_x, tr_y, validation_data=(vl_x, vl_y), batch_size=100, epochs=30)\n",
    "plot_result(hist)\n",
    "draw_roc_curve(vl_y, model.predict(vl_x))\n",
    "\n",
    "y_pred = model.predict(vl_x)\n",
    "pred_dist(y_pred)\n",
    "analyze(vl_y, y_pred)"
   ]
  },
  {
   "cell_type": "markdown",
   "metadata": {
    "colab_type": "text",
    "id": "r9PxgBqptmuU"
   },
   "source": [
    "## Statistical Encoding, Target Encoding\n",
    "\n",
    "* Frequency encoding\n",
    "* Mean encoding"
   ]
  },
  {
   "cell_type": "code",
   "execution_count": 20,
   "metadata": {
    "colab": {},
    "colab_type": "code",
    "id": "7HPcgCG0tmuV"
   },
   "outputs": [],
   "source": [
    "def do_target_encoding(catg_ftrs, catg_part, status, data, is_train):\n",
    "    for catg_col in catg_ftrs:\n",
    "        if is_train:\n",
    "            freq_proportion = data[catg_col].value_counts() / len(data)\n",
    "            catg_part[f'freq_{catg_col}'] = freq_proportion.reindex(data[catg_col]).values\n",
    "            target_mean = data.groupby(catg_col).Exited.mean()\n",
    "            catg_part[f'mean_{catg_col}'] = target_mean.reindex(data[catg_col]).values\n",
    "\n",
    "            status['freq_mapper'][catg_col] = freq_proportion.to_dict()\n",
    "            status['mean_mapper'][catg_col] = target_mean.to_dict()\n",
    "        else:\n",
    "            catg_part[f'freq_{catg_col}'] = pd.Series(status['freq_mapper'][catg_col]).reindex(data[catg_col]).values\n",
    "            catg_part[f'mean_{catg_col}'] = pd.Series(status['mean_mapper'][catg_col]).reindex(data[catg_col]).values\n",
    "    pass"
   ]
  },
  {
   "cell_type": "code",
   "execution_count": 21,
   "metadata": {
    "colab": {
     "base_uri": "https://localhost:8080/",
     "height": 278
    },
    "colab_type": "code",
    "executionInfo": {
     "elapsed": 871,
     "status": "ok",
     "timestamp": 1539071107923,
     "user": {
      "displayName": "Gary Chen",
      "photoUrl": "",
      "userId": "10783188122132859162"
     },
     "user_tz": -480
    },
    "id": "y6sDmkOZtmuX",
    "outputId": "db2d4bf4-26c6-4974-8356-31332c952060",
    "scrolled": true
   },
   "outputs": [
    {
     "name": "stdout",
     "output_type": "stream",
     "text": [
      "(7500, 59) (2500, 59)\n"
     ]
    },
    {
     "data": {
      "text/html": [
       "<div>\n",
       "<style scoped>\n",
       "    .dataframe tbody tr th:only-of-type {\n",
       "        vertical-align: middle;\n",
       "    }\n",
       "\n",
       "    .dataframe tbody tr th {\n",
       "        vertical-align: top;\n",
       "    }\n",
       "\n",
       "    .dataframe thead th {\n",
       "        text-align: right;\n",
       "    }\n",
       "</style>\n",
       "<table border=\"1\" class=\"dataframe\">\n",
       "  <thead>\n",
       "    <tr style=\"text-align: right;\">\n",
       "      <th></th>\n",
       "      <th>Gender_Female</th>\n",
       "      <th>HasCrCard_0</th>\n",
       "      <th>IsActiveMember_0</th>\n",
       "      <th>Geography_France</th>\n",
       "      <th>Geography_Germany</th>\n",
       "      <th>Geography_Spain</th>\n",
       "      <th>binn_Age_14-30</th>\n",
       "      <th>binn_Age_30-35</th>\n",
       "      <th>binn_Age_35-40</th>\n",
       "      <th>binn_Age_40-45</th>\n",
       "      <th>...</th>\n",
       "      <th>freq_binn_Tenure</th>\n",
       "      <th>mean_binn_Tenure</th>\n",
       "      <th>freq_binn_EstimatedSalary</th>\n",
       "      <th>mean_binn_EstimatedSalary</th>\n",
       "      <th>CreditScore</th>\n",
       "      <th>Age</th>\n",
       "      <th>Tenure</th>\n",
       "      <th>Balance</th>\n",
       "      <th>NumOfProducts</th>\n",
       "      <th>EstimatedSalary</th>\n",
       "    </tr>\n",
       "  </thead>\n",
       "  <tbody>\n",
       "    <tr>\n",
       "      <th>0</th>\n",
       "      <td>0</td>\n",
       "      <td>1</td>\n",
       "      <td>0</td>\n",
       "      <td>0</td>\n",
       "      <td>1</td>\n",
       "      <td>0</td>\n",
       "      <td>0</td>\n",
       "      <td>0</td>\n",
       "      <td>1</td>\n",
       "      <td>0</td>\n",
       "      <td>...</td>\n",
       "      <td>0.146933</td>\n",
       "      <td>0.231397</td>\n",
       "      <td>0.25</td>\n",
       "      <td>0.205333</td>\n",
       "      <td>0.931808</td>\n",
       "      <td>-0.286140</td>\n",
       "      <td>-1.726890</td>\n",
       "      <td>0.818951</td>\n",
       "      <td>0.804202</td>\n",
       "      <td>-0.449945</td>\n",
       "    </tr>\n",
       "    <tr>\n",
       "      <th>1</th>\n",
       "      <td>0</td>\n",
       "      <td>1</td>\n",
       "      <td>1</td>\n",
       "      <td>1</td>\n",
       "      <td>0</td>\n",
       "      <td>0</td>\n",
       "      <td>0</td>\n",
       "      <td>0</td>\n",
       "      <td>0</td>\n",
       "      <td>0</td>\n",
       "      <td>...</td>\n",
       "      <td>0.146933</td>\n",
       "      <td>0.231397</td>\n",
       "      <td>0.25</td>\n",
       "      <td>0.196800</td>\n",
       "      <td>-0.185926</td>\n",
       "      <td>0.761549</td>\n",
       "      <td>-1.726890</td>\n",
       "      <td>-1.223103</td>\n",
       "      <td>-0.913689</td>\n",
       "      <td>-1.631281</td>\n",
       "    </tr>\n",
       "    <tr>\n",
       "      <th>2</th>\n",
       "      <td>1</td>\n",
       "      <td>1</td>\n",
       "      <td>1</td>\n",
       "      <td>1</td>\n",
       "      <td>0</td>\n",
       "      <td>0</td>\n",
       "      <td>0</td>\n",
       "      <td>0</td>\n",
       "      <td>0</td>\n",
       "      <td>0</td>\n",
       "      <td>...</td>\n",
       "      <td>0.305067</td>\n",
       "      <td>0.201049</td>\n",
       "      <td>0.25</td>\n",
       "      <td>0.205333</td>\n",
       "      <td>0.176303</td>\n",
       "      <td>3.142658</td>\n",
       "      <td>-1.036539</td>\n",
       "      <td>-1.223103</td>\n",
       "      <td>0.804202</td>\n",
       "      <td>-0.510415</td>\n",
       "    </tr>\n",
       "    <tr>\n",
       "      <th>3</th>\n",
       "      <td>1</td>\n",
       "      <td>1</td>\n",
       "      <td>0</td>\n",
       "      <td>1</td>\n",
       "      <td>0</td>\n",
       "      <td>0</td>\n",
       "      <td>0</td>\n",
       "      <td>0</td>\n",
       "      <td>0</td>\n",
       "      <td>1</td>\n",
       "      <td>...</td>\n",
       "      <td>0.297733</td>\n",
       "      <td>0.197044</td>\n",
       "      <td>0.25</td>\n",
       "      <td>0.196800</td>\n",
       "      <td>0.797266</td>\n",
       "      <td>0.380571</td>\n",
       "      <td>0.689338</td>\n",
       "      <td>-1.223103</td>\n",
       "      <td>0.804202</td>\n",
       "      <td>-1.045445</td>\n",
       "    </tr>\n",
       "    <tr>\n",
       "      <th>4</th>\n",
       "      <td>1</td>\n",
       "      <td>1</td>\n",
       "      <td>0</td>\n",
       "      <td>0</td>\n",
       "      <td>1</td>\n",
       "      <td>0</td>\n",
       "      <td>0</td>\n",
       "      <td>0</td>\n",
       "      <td>0</td>\n",
       "      <td>1</td>\n",
       "      <td>...</td>\n",
       "      <td>0.297733</td>\n",
       "      <td>0.197044</td>\n",
       "      <td>0.25</td>\n",
       "      <td>0.196800</td>\n",
       "      <td>-0.320468</td>\n",
       "      <td>0.094838</td>\n",
       "      <td>-0.001013</td>\n",
       "      <td>0.507413</td>\n",
       "      <td>0.804202</td>\n",
       "      <td>-0.876750</td>\n",
       "    </tr>\n",
       "  </tbody>\n",
       "</table>\n",
       "<p>5 rows × 59 columns</p>\n",
       "</div>"
      ],
      "text/plain": [
       "   Gender_Female  HasCrCard_0  IsActiveMember_0  Geography_France  \\\n",
       "0              0            1                 0                 0   \n",
       "1              0            1                 1                 1   \n",
       "2              1            1                 1                 1   \n",
       "3              1            1                 0                 1   \n",
       "4              1            1                 0                 0   \n",
       "\n",
       "   Geography_Germany  Geography_Spain  binn_Age_14-30  binn_Age_30-35  \\\n",
       "0                  1                0               0               0   \n",
       "1                  0                0               0               0   \n",
       "2                  0                0               0               0   \n",
       "3                  0                0               0               0   \n",
       "4                  1                0               0               0   \n",
       "\n",
       "   binn_Age_35-40  binn_Age_40-45       ...         freq_binn_Tenure  \\\n",
       "0               1               0       ...                 0.146933   \n",
       "1               0               0       ...                 0.146933   \n",
       "2               0               0       ...                 0.305067   \n",
       "3               0               1       ...                 0.297733   \n",
       "4               0               1       ...                 0.297733   \n",
       "\n",
       "   mean_binn_Tenure  freq_binn_EstimatedSalary  mean_binn_EstimatedSalary  \\\n",
       "0          0.231397                       0.25                   0.205333   \n",
       "1          0.231397                       0.25                   0.196800   \n",
       "2          0.201049                       0.25                   0.205333   \n",
       "3          0.197044                       0.25                   0.196800   \n",
       "4          0.197044                       0.25                   0.196800   \n",
       "\n",
       "   CreditScore       Age    Tenure   Balance  NumOfProducts  EstimatedSalary  \n",
       "0     0.931808 -0.286140 -1.726890  0.818951       0.804202        -0.449945  \n",
       "1    -0.185926  0.761549 -1.726890 -1.223103      -0.913689        -1.631281  \n",
       "2     0.176303  3.142658 -1.036539 -1.223103       0.804202        -0.510415  \n",
       "3     0.797266  0.380571  0.689338 -1.223103       0.804202        -1.045445  \n",
       "4    -0.320468  0.094838 -0.001013  0.507413       0.804202        -0.876750  \n",
       "\n",
       "[5 rows x 59 columns]"
      ]
     },
     "execution_count": 21,
     "metadata": {},
     "output_type": "execute_result"
    }
   ],
   "source": [
    "# Trnasform raw data to foramt model recognized\n",
    "tr_x, tr_y, status = feature_engineering(raw, is_train=True)\n",
    "vl_x, vl_y, _ = feature_engineering(raw_vl, is_train=False, status=status)\n",
    "\n",
    "print( tr_x.shape, vl_x.shape )\n",
    "tr_x.head()"
   ]
  },
  {
   "cell_type": "markdown",
   "metadata": {
    "colab_type": "text",
    "id": "lBgfcS9Otmua"
   },
   "source": [
    "## (LAB) Model (Target Mean Encoding)\n",
    "\n",
    "* 調整network架構\n",
    "* 調整analyze的beta參數(0.1 ~ 2), 觀察precision, recall變化"
   ]
  },
  {
   "cell_type": "code",
   "execution_count": 22,
   "metadata": {
    "colab": {
     "base_uri": "https://localhost:8080/",
     "height": 3170
    },
    "colab_type": "code",
    "executionInfo": {
     "elapsed": 7670,
     "status": "ok",
     "timestamp": 1539071143341,
     "user": {
      "displayName": "Gary Chen",
      "photoUrl": "",
      "userId": "10783188122132859162"
     },
     "user_tz": -480
    },
    "id": "YQ9IMErmtmua",
    "outputId": "a8db937d-cc2a-42c5-c90e-2935c1a13f95",
    "scrolled": true
   },
   "outputs": [
    {
     "name": "stdout",
     "output_type": "stream",
     "text": [
      "_________________________________________________________________\n",
      "Layer (type)                 Output Shape              Param #   \n",
      "=================================================================\n",
      "dense_1 (Dense)              (None, 64)                3840      \n",
      "_________________________________________________________________\n",
      "dense_2 (Dense)              (None, 32)                2080      \n",
      "_________________________________________________________________\n",
      "dense_3 (Dense)              (None, 16)                528       \n",
      "_________________________________________________________________\n",
      "dense_4 (Dense)              (None, 1)                 17        \n",
      "=================================================================\n",
      "Total params: 6,465\n",
      "Trainable params: 6,465\n",
      "Non-trainable params: 0\n",
      "_________________________________________________________________\n",
      "Train on 7500 samples, validate on 2500 samples\n",
      "Epoch 1/30\n",
      "7500/7500 [==============================] - 1s 125us/step - loss: 0.5678 - acc: 0.7880 - val_loss: 0.4143 - val_acc: 0.8044\n",
      "Epoch 2/30\n",
      "7500/7500 [==============================] - 0s 38us/step - loss: 0.4262 - acc: 0.7952 - val_loss: 0.3908 - val_acc: 0.8388\n",
      "Epoch 3/30\n",
      "7500/7500 [==============================] - 0s 38us/step - loss: 0.4192 - acc: 0.8227 - val_loss: 0.3853 - val_acc: 0.8460\n",
      "Epoch 4/30\n",
      "7500/7500 [==============================] - 0s 38us/step - loss: 0.4120 - acc: 0.8252 - val_loss: 0.3801 - val_acc: 0.8444\n",
      "Epoch 5/30\n",
      "7500/7500 [==============================] - 0s 42us/step - loss: 0.4003 - acc: 0.8324 - val_loss: 0.3626 - val_acc: 0.8504\n",
      "Epoch 6/30\n",
      "7500/7500 [==============================] - 0s 37us/step - loss: 0.3768 - acc: 0.8420 - val_loss: 0.3482 - val_acc: 0.8556\n",
      "Epoch 7/30\n",
      "7500/7500 [==============================] - 0s 38us/step - loss: 0.3563 - acc: 0.8524 - val_loss: 0.3411 - val_acc: 0.8584\n",
      "Epoch 8/30\n",
      "7500/7500 [==============================] - 0s 37us/step - loss: 0.3503 - acc: 0.8564 - val_loss: 0.3424 - val_acc: 0.8576\n",
      "Epoch 9/30\n",
      "7500/7500 [==============================] - 0s 41us/step - loss: 0.3424 - acc: 0.8567 - val_loss: 0.3382 - val_acc: 0.8568\n",
      "Epoch 10/30\n",
      "7500/7500 [==============================] - 0s 37us/step - loss: 0.3409 - acc: 0.8591 - val_loss: 0.3369 - val_acc: 0.8588\n",
      "Epoch 11/30\n",
      "7500/7500 [==============================] - 0s 37us/step - loss: 0.3401 - acc: 0.8603 - val_loss: 0.3442 - val_acc: 0.8556\n",
      "Epoch 12/30\n",
      "7500/7500 [==============================] - 0s 39us/step - loss: 0.3354 - acc: 0.8599 - val_loss: 0.3373 - val_acc: 0.8620\n",
      "Epoch 13/30\n",
      "7500/7500 [==============================] - 0s 38us/step - loss: 0.3351 - acc: 0.8615 - val_loss: 0.3377 - val_acc: 0.8600\n",
      "Epoch 14/30\n",
      "7500/7500 [==============================] - 0s 40us/step - loss: 0.3356 - acc: 0.8633 - val_loss: 0.3378 - val_acc: 0.8604\n",
      "Epoch 15/30\n",
      "7500/7500 [==============================] - 0s 42us/step - loss: 0.3326 - acc: 0.8617 - val_loss: 0.3372 - val_acc: 0.8620\n",
      "Epoch 16/30\n",
      "7500/7500 [==============================] - 0s 40us/step - loss: 0.3306 - acc: 0.8636 - val_loss: 0.3413 - val_acc: 0.8580\n",
      "Epoch 17/30\n",
      "7500/7500 [==============================] - 0s 38us/step - loss: 0.3295 - acc: 0.8637 - val_loss: 0.3437 - val_acc: 0.8596\n",
      "Epoch 18/30\n",
      "7500/7500 [==============================] - 0s 38us/step - loss: 0.3289 - acc: 0.8657 - val_loss: 0.3373 - val_acc: 0.8624\n",
      "Epoch 19/30\n",
      "7500/7500 [==============================] - 0s 39us/step - loss: 0.3314 - acc: 0.8644 - val_loss: 0.3429 - val_acc: 0.8612\n",
      "Epoch 20/30\n",
      "7500/7500 [==============================] - 0s 38us/step - loss: 0.3275 - acc: 0.8659 - val_loss: 0.3356 - val_acc: 0.8648\n",
      "Epoch 21/30\n",
      "7500/7500 [==============================] - 0s 37us/step - loss: 0.3300 - acc: 0.8659 - val_loss: 0.3383 - val_acc: 0.8628\n",
      "Epoch 22/30\n",
      "7500/7500 [==============================] - 0s 39us/step - loss: 0.3277 - acc: 0.8669 - val_loss: 0.3383 - val_acc: 0.8620\n",
      "Epoch 23/30\n",
      "7500/7500 [==============================] - 0s 36us/step - loss: 0.3252 - acc: 0.8688 - val_loss: 0.3393 - val_acc: 0.8596\n",
      "Epoch 24/30\n",
      "7500/7500 [==============================] - 0s 35us/step - loss: 0.3258 - acc: 0.8684 - val_loss: 0.3383 - val_acc: 0.8644\n",
      "Epoch 25/30\n",
      "7500/7500 [==============================] - 0s 37us/step - loss: 0.3272 - acc: 0.8696 - val_loss: 0.3396 - val_acc: 0.8652\n",
      "Epoch 26/30\n",
      "7500/7500 [==============================] - 0s 40us/step - loss: 0.3221 - acc: 0.8701 - val_loss: 0.3377 - val_acc: 0.8644\n",
      "Epoch 27/30\n",
      "7500/7500 [==============================] - 0s 38us/step - loss: 0.3226 - acc: 0.8692 - val_loss: 0.3399 - val_acc: 0.8640\n",
      "Epoch 28/30\n",
      "7500/7500 [==============================] - 0s 37us/step - loss: 0.3237 - acc: 0.8695 - val_loss: 0.3359 - val_acc: 0.8640\n",
      "Epoch 29/30\n",
      "7500/7500 [==============================] - 0s 38us/step - loss: 0.3211 - acc: 0.8719 - val_loss: 0.3477 - val_acc: 0.8588\n",
      "Epoch 30/30\n",
      "7500/7500 [==============================] - 0s 39us/step - loss: 0.3226 - acc: 0.8700 - val_loss: 0.3464 - val_acc: 0.8612\n"
     ]
    },
    {
     "data": {
      "image/png": "[encoded data removed]",
      "text/plain": [
       "<Figure size 1152x360 with 2 Axes>"
      ]
     },
     "metadata": {},
     "output_type": "display_data"
    },
    {
     "name": "stdout",
     "output_type": "stream",
     "text": [
      "auc: 0.8523224514658134\n"
     ]
    },
    {
     "data": {
      "image/png": "[encoded data removed]",
      "text/plain": [
       "<Figure size 432x432 with 1 Axes>"
      ]
     },
     "metadata": {},
     "output_type": "display_data"
    },
    {
     "name": "stdout",
     "output_type": "stream",
     "text": [
      "count    2500.000000\n",
      "mean        0.223915\n",
      "std         0.269846\n",
      "min         0.002283\n",
      "25%         0.033688\n",
      "50%         0.106809\n",
      "75%         0.294274\n",
      "max         0.999511\n",
      "dtype: float64\n",
      "0.22391455 0.2698459\n"
     ]
    },
    {
     "data": {
      "image/png": "[encoded data removed]",
      "text/plain": [
       "<Figure size 432x288 with 1 Axes>"
      ]
     },
     "metadata": {},
     "output_type": "display_data"
    },
    {
     "data": {
      "image/png": "[encoded data removed]",
      "text/plain": [
       "<Figure size 432x288 with 1 Axes>"
      ]
     },
     "metadata": {},
     "output_type": "display_data"
    },
    {
     "data": {
      "image/png": "[encoded data removed]",
      "text/plain": [
       "<Figure size 432x288 with 1 Axes>"
      ]
     },
     "metadata": {},
     "output_type": "display_data"
    },
    {
     "name": "stdout",
     "output_type": "stream",
     "text": [
      "thres: 0.3951, f_beta score: 0.6083\n",
      "accuracy@0.3951: 0.85\n",
      "\n",
      "threshold@0.5, accuracy: 0.8612\n",
      "[[1892  119]\n",
      " [ 228  261]] \n",
      "\n",
      "             precision    recall  f1-score   support\n",
      "\n",
      "          0       0.89      0.94      0.92      2011\n",
      "          1       0.69      0.53      0.60       489\n",
      "\n",
      "avg / total       0.85      0.86      0.85      2500\n",
      "\n",
      "threshold@0.3951, accuracy: 0.8496\n",
      "[[1832  179]\n",
      " [ 197  292]]\n",
      "             precision    recall  f1-score   support\n",
      "\n",
      "          0       0.90      0.91      0.91      2011\n",
      "          1       0.62      0.60      0.61       489\n",
      "\n",
      "avg / total       0.85      0.85      0.85      2500\n",
      "\n"
     ]
    },
    {
     "name": "stderr",
     "output_type": "stream",
     "text": [
      "d:\\python\\anaconda3-5.2.0\\envs\\py3_6\\lib\\site-packages\\sklearn\\metrics\\classification.py:1135: UndefinedMetricWarning: Precision and F-score are ill-defined and being set to 0.0 in labels with no predicted samples.\n",
      "  'precision', 'predicted', average, warn_for)\n"
     ]
    }
   ],
   "source": [
    "def get_model(input_dim):\n",
    "    model = Sequential()\n",
    "    # kernel_regularizer=regularizers.l2(0.005)\n",
    "    model.add(Dense(units = 64, activation = 'relu', kernel_initializer='uniform', input_dim = input_dim))\n",
    "    model.add(Dense(units = 32, activation = 'relu', kernel_initializer='uniform'))\n",
    "    model.add(Dense(units = 16, activation = 'relu', kernel_initializer='uniform'))\n",
    "    model.add(Dense(units = 1, activation = 'sigmoid', kernel_initializer='uniform'))\n",
    "    model.summary()\n",
    "    model.compile(optimizer = 'adam', loss = 'binary_crossentropy', metrics = ['accuracy'])\n",
    "    \n",
    "    return model\n",
    "\n",
    "K.clear_session()\n",
    "\n",
    "model = get_model(input_dim=tr_x.shape[1])\n",
    "hist = model.fit(tr_x, tr_y, validation_data=(vl_x, vl_y), batch_size=100, epochs=30)\n",
    "plot_result(hist)\n",
    "draw_roc_curve(vl_y, model.predict(vl_x))\n",
    "\n",
    "y_pred = model.predict(vl_x)\n",
    "pred_dist(y_pred)\n",
    "analyze(vl_y, y_pred)"
   ]
  },
  {
   "cell_type": "markdown",
   "metadata": {
    "colab_type": "text",
    "id": "r5crE3xFBn91"
   },
   "source": [
    "## Add Polynomial Featue Engineering\n",
    "\n",
    "* Add quradratic, cube term base on numeric features"
   ]
  },
  {
   "cell_type": "code",
   "execution_count": 26,
   "metadata": {
    "colab": {},
    "colab_type": "code",
    "id": "0m8uAkjbuBa7"
   },
   "outputs": [],
   "source": [
    "def do_nth_order_polynominal(num_features, data):\n",
    "    for num_col in num_features:\n",
    "        data[f'{num_col}_degree_2'] = data[num_col] ** 2\n",
    "        data[f'{num_col}_degree_3'] = data[num_col] ** 3\n",
    "    pass"
   ]
  },
  {
   "cell_type": "code",
   "execution_count": 27,
   "metadata": {
    "colab": {
     "base_uri": "https://localhost:8080/",
     "height": 278
    },
    "colab_type": "code",
    "executionInfo": {
     "elapsed": 930,
     "status": "ok",
     "timestamp": 1539071156190,
     "user": {
      "displayName": "Gary Chen",
      "photoUrl": "",
      "userId": "10783188122132859162"
     },
     "user_tz": -480
    },
    "id": "9vo1AYDHtmuf",
    "outputId": "107896d4-2426-4f46-a79f-5432301b9bed"
   },
   "outputs": [
    {
     "name": "stdout",
     "output_type": "stream",
     "text": [
      "(7500, 71) (2500, 71)\n"
     ]
    },
    {
     "data": {
      "text/html": [
       "<div>\n",
       "<style scoped>\n",
       "    .dataframe tbody tr th:only-of-type {\n",
       "        vertical-align: middle;\n",
       "    }\n",
       "\n",
       "    .dataframe tbody tr th {\n",
       "        vertical-align: top;\n",
       "    }\n",
       "\n",
       "    .dataframe thead th {\n",
       "        text-align: right;\n",
       "    }\n",
       "</style>\n",
       "<table border=\"1\" class=\"dataframe\">\n",
       "  <thead>\n",
       "    <tr style=\"text-align: right;\">\n",
       "      <th></th>\n",
       "      <th>Gender_Female</th>\n",
       "      <th>HasCrCard_0</th>\n",
       "      <th>IsActiveMember_0</th>\n",
       "      <th>Geography_France</th>\n",
       "      <th>Geography_Germany</th>\n",
       "      <th>Geography_Spain</th>\n",
       "      <th>binn_Age_14-30</th>\n",
       "      <th>binn_Age_30-35</th>\n",
       "      <th>binn_Age_35-40</th>\n",
       "      <th>binn_Age_40-45</th>\n",
       "      <th>...</th>\n",
       "      <th>Age_degree_2</th>\n",
       "      <th>Age_degree_3</th>\n",
       "      <th>Tenure_degree_2</th>\n",
       "      <th>Tenure_degree_3</th>\n",
       "      <th>Balance_degree_2</th>\n",
       "      <th>Balance_degree_3</th>\n",
       "      <th>NumOfProducts_degree_2</th>\n",
       "      <th>NumOfProducts_degree_3</th>\n",
       "      <th>EstimatedSalary_degree_2</th>\n",
       "      <th>EstimatedSalary_degree_3</th>\n",
       "    </tr>\n",
       "  </thead>\n",
       "  <tbody>\n",
       "    <tr>\n",
       "      <th>0</th>\n",
       "      <td>0</td>\n",
       "      <td>1</td>\n",
       "      <td>0</td>\n",
       "      <td>0</td>\n",
       "      <td>1</td>\n",
       "      <td>0</td>\n",
       "      <td>0</td>\n",
       "      <td>0</td>\n",
       "      <td>1</td>\n",
       "      <td>0</td>\n",
       "      <td>...</td>\n",
       "      <td>0.081876</td>\n",
       "      <td>-0.023428</td>\n",
       "      <td>2.982148</td>\n",
       "      <td>-5.149841e+00</td>\n",
       "      <td>0.670681</td>\n",
       "      <td>0.549255</td>\n",
       "      <td>0.646741</td>\n",
       "      <td>0.520110</td>\n",
       "      <td>0.202451</td>\n",
       "      <td>-0.091092</td>\n",
       "    </tr>\n",
       "    <tr>\n",
       "      <th>1</th>\n",
       "      <td>0</td>\n",
       "      <td>1</td>\n",
       "      <td>1</td>\n",
       "      <td>1</td>\n",
       "      <td>0</td>\n",
       "      <td>0</td>\n",
       "      <td>0</td>\n",
       "      <td>0</td>\n",
       "      <td>0</td>\n",
       "      <td>0</td>\n",
       "      <td>...</td>\n",
       "      <td>0.579956</td>\n",
       "      <td>0.441665</td>\n",
       "      <td>2.982148</td>\n",
       "      <td>-5.149841e+00</td>\n",
       "      <td>1.495981</td>\n",
       "      <td>-1.829740</td>\n",
       "      <td>0.834827</td>\n",
       "      <td>-0.762772</td>\n",
       "      <td>2.661079</td>\n",
       "      <td>-4.340968</td>\n",
       "    </tr>\n",
       "    <tr>\n",
       "      <th>2</th>\n",
       "      <td>1</td>\n",
       "      <td>1</td>\n",
       "      <td>1</td>\n",
       "      <td>1</td>\n",
       "      <td>0</td>\n",
       "      <td>0</td>\n",
       "      <td>0</td>\n",
       "      <td>0</td>\n",
       "      <td>0</td>\n",
       "      <td>0</td>\n",
       "      <td>...</td>\n",
       "      <td>9.876301</td>\n",
       "      <td>31.037837</td>\n",
       "      <td>1.074413</td>\n",
       "      <td>-1.113671e+00</td>\n",
       "      <td>1.495981</td>\n",
       "      <td>-1.829740</td>\n",
       "      <td>0.646741</td>\n",
       "      <td>0.520110</td>\n",
       "      <td>0.260524</td>\n",
       "      <td>-0.132975</td>\n",
       "    </tr>\n",
       "    <tr>\n",
       "      <th>3</th>\n",
       "      <td>1</td>\n",
       "      <td>1</td>\n",
       "      <td>0</td>\n",
       "      <td>1</td>\n",
       "      <td>0</td>\n",
       "      <td>0</td>\n",
       "      <td>0</td>\n",
       "      <td>0</td>\n",
       "      <td>0</td>\n",
       "      <td>1</td>\n",
       "      <td>...</td>\n",
       "      <td>0.144834</td>\n",
       "      <td>0.055120</td>\n",
       "      <td>0.475187</td>\n",
       "      <td>3.275649e-01</td>\n",
       "      <td>1.495981</td>\n",
       "      <td>-1.829740</td>\n",
       "      <td>0.646741</td>\n",
       "      <td>0.520110</td>\n",
       "      <td>1.092956</td>\n",
       "      <td>-1.142625</td>\n",
       "    </tr>\n",
       "    <tr>\n",
       "      <th>4</th>\n",
       "      <td>1</td>\n",
       "      <td>1</td>\n",
       "      <td>0</td>\n",
       "      <td>0</td>\n",
       "      <td>1</td>\n",
       "      <td>0</td>\n",
       "      <td>0</td>\n",
       "      <td>0</td>\n",
       "      <td>0</td>\n",
       "      <td>1</td>\n",
       "      <td>...</td>\n",
       "      <td>0.008994</td>\n",
       "      <td>0.000853</td>\n",
       "      <td>0.000001</td>\n",
       "      <td>-1.038016e-09</td>\n",
       "      <td>0.257468</td>\n",
       "      <td>0.130643</td>\n",
       "      <td>0.646741</td>\n",
       "      <td>0.520110</td>\n",
       "      <td>0.768690</td>\n",
       "      <td>-0.673949</td>\n",
       "    </tr>\n",
       "  </tbody>\n",
       "</table>\n",
       "<p>5 rows × 71 columns</p>\n",
       "</div>"
      ],
      "text/plain": [
       "   Gender_Female  HasCrCard_0  IsActiveMember_0  Geography_France  \\\n",
       "0              0            1                 0                 0   \n",
       "1              0            1                 1                 1   \n",
       "2              1            1                 1                 1   \n",
       "3              1            1                 0                 1   \n",
       "4              1            1                 0                 0   \n",
       "\n",
       "   Geography_Germany  Geography_Spain  binn_Age_14-30  binn_Age_30-35  \\\n",
       "0                  1                0               0               0   \n",
       "1                  0                0               0               0   \n",
       "2                  0                0               0               0   \n",
       "3                  0                0               0               0   \n",
       "4                  1                0               0               0   \n",
       "\n",
       "   binn_Age_35-40  binn_Age_40-45            ...             Age_degree_2  \\\n",
       "0               1               0            ...                 0.081876   \n",
       "1               0               0            ...                 0.579956   \n",
       "2               0               0            ...                 9.876301   \n",
       "3               0               1            ...                 0.144834   \n",
       "4               0               1            ...                 0.008994   \n",
       "\n",
       "   Age_degree_3  Tenure_degree_2  Tenure_degree_3  Balance_degree_2  \\\n",
       "0     -0.023428         2.982148    -5.149841e+00          0.670681   \n",
       "1      0.441665         2.982148    -5.149841e+00          1.495981   \n",
       "2     31.037837         1.074413    -1.113671e+00          1.495981   \n",
       "3      0.055120         0.475187     3.275649e-01          1.495981   \n",
       "4      0.000853         0.000001    -1.038016e-09          0.257468   \n",
       "\n",
       "   Balance_degree_3  NumOfProducts_degree_2  NumOfProducts_degree_3  \\\n",
       "0          0.549255                0.646741                0.520110   \n",
       "1         -1.829740                0.834827               -0.762772   \n",
       "2         -1.829740                0.646741                0.520110   \n",
       "3         -1.829740                0.646741                0.520110   \n",
       "4          0.130643                0.646741                0.520110   \n",
       "\n",
       "   EstimatedSalary_degree_2  EstimatedSalary_degree_3  \n",
       "0                  0.202451                 -0.091092  \n",
       "1                  2.661079                 -4.340968  \n",
       "2                  0.260524                 -0.132975  \n",
       "3                  1.092956                 -1.142625  \n",
       "4                  0.768690                 -0.673949  \n",
       "\n",
       "[5 rows x 71 columns]"
      ]
     },
     "execution_count": 27,
     "metadata": {},
     "output_type": "execute_result"
    }
   ],
   "source": [
    "# Trnasform raw data to foramt model recognized\n",
    "tr_x, tr_y, status = feature_engineering(raw, is_train=True)\n",
    "vl_x, vl_y, _ = feature_engineering(raw_vl, is_train=False, status=status)\n",
    "\n",
    "print( tr_x.shape, vl_x.shape )\n",
    "tr_x.head()"
   ]
  },
  {
   "cell_type": "markdown",
   "metadata": {
    "colab_type": "text",
    "id": "Wfc1V2cYFz50"
   },
   "source": [
    "## (LAB) Model (Polynominal)\n",
    "\n",
    "* 調整network架構\n",
    "* 調整analyze的beta參數(0.1 ~ 2), 觀察precision, recall變化"
   ]
  },
  {
   "cell_type": "code",
   "execution_count": 28,
   "metadata": {
    "colab": {
     "base_uri": "https://localhost:8080/",
     "height": 3170
    },
    "colab_type": "code",
    "executionInfo": {
     "elapsed": 7653,
     "status": "ok",
     "timestamp": 1539071216437,
     "user": {
      "displayName": "Gary Chen",
      "photoUrl": "",
      "userId": "10783188122132859162"
     },
     "user_tz": -480
    },
    "id": "Dl32_fhCFz-_",
    "outputId": "7608d953-a7a0-4609-d593-bbb11df188f6",
    "scrolled": true
   },
   "outputs": [
    {
     "name": "stdout",
     "output_type": "stream",
     "text": [
      "_________________________________________________________________\n",
      "Layer (type)                 Output Shape              Param #   \n",
      "=================================================================\n",
      "dense_1 (Dense)              (None, 64)                4608      \n",
      "_________________________________________________________________\n",
      "dense_2 (Dense)              (None, 32)                2080      \n",
      "_________________________________________________________________\n",
      "dense_3 (Dense)              (None, 16)                528       \n",
      "_________________________________________________________________\n",
      "dense_4 (Dense)              (None, 1)                 17        \n",
      "=================================================================\n",
      "Total params: 7,233\n",
      "Trainable params: 7,233\n",
      "Non-trainable params: 0\n",
      "_________________________________________________________________\n",
      "Train on 7500 samples, validate on 2500 samples\n",
      "Epoch 1/30\n",
      "7500/7500 [==============================] - 1s 124us/step - loss: 0.5492 - acc: 0.8036 - val_loss: 0.3866 - val_acc: 0.8316\n",
      "Epoch 2/30\n",
      "7500/7500 [==============================] - 0s 41us/step - loss: 0.3801 - acc: 0.8448 - val_loss: 0.3417 - val_acc: 0.8572\n",
      "Epoch 3/30\n",
      "7500/7500 [==============================] - 0s 44us/step - loss: 0.3579 - acc: 0.8513 - val_loss: 0.3413 - val_acc: 0.8580\n",
      "Epoch 4/30\n",
      "7500/7500 [==============================] - 0s 36us/step - loss: 0.3543 - acc: 0.8553 - val_loss: 0.3391 - val_acc: 0.8596\n",
      "Epoch 5/30\n",
      "7500/7500 [==============================] - 0s 36us/step - loss: 0.3504 - acc: 0.8579 - val_loss: 0.3383 - val_acc: 0.8600\n",
      "Epoch 6/30\n",
      "7500/7500 [==============================] - 0s 39us/step - loss: 0.3488 - acc: 0.8564 - val_loss: 0.3390 - val_acc: 0.8568\n",
      "Epoch 7/30\n",
      "7500/7500 [==============================] - 0s 37us/step - loss: 0.3463 - acc: 0.8589 - val_loss: 0.3455 - val_acc: 0.8612\n",
      "Epoch 8/30\n",
      "7500/7500 [==============================] - 0s 38us/step - loss: 0.3471 - acc: 0.8581 - val_loss: 0.3382 - val_acc: 0.8596\n",
      "Epoch 9/30\n",
      "7500/7500 [==============================] - 0s 37us/step - loss: 0.3443 - acc: 0.8612 - val_loss: 0.3397 - val_acc: 0.8588\n",
      "Epoch 10/30\n",
      "7500/7500 [==============================] - 0s 39us/step - loss: 0.3444 - acc: 0.8607 - val_loss: 0.3461 - val_acc: 0.8596\n",
      "Epoch 11/30\n",
      "7500/7500 [==============================] - 0s 38us/step - loss: 0.3424 - acc: 0.8613 - val_loss: 0.3360 - val_acc: 0.8660\n",
      "Epoch 12/30\n",
      "7500/7500 [==============================] - 0s 35us/step - loss: 0.3392 - acc: 0.8633 - val_loss: 0.3351 - val_acc: 0.8668\n",
      "Epoch 13/30\n",
      "7500/7500 [==============================] - 0s 40us/step - loss: 0.3367 - acc: 0.8627 - val_loss: 0.3334 - val_acc: 0.8672\n",
      "Epoch 14/30\n",
      "7500/7500 [==============================] - 0s 38us/step - loss: 0.3348 - acc: 0.8671 - val_loss: 0.3348 - val_acc: 0.8696\n",
      "Epoch 15/30\n",
      "7500/7500 [==============================] - 0s 36us/step - loss: 0.3341 - acc: 0.8677 - val_loss: 0.3332 - val_acc: 0.8684\n",
      "Epoch 16/30\n",
      "7500/7500 [==============================] - 0s 37us/step - loss: 0.3314 - acc: 0.8640 - val_loss: 0.3409 - val_acc: 0.8632\n",
      "Epoch 17/30\n",
      "7500/7500 [==============================] - 0s 41us/step - loss: 0.3303 - acc: 0.8677 - val_loss: 0.3348 - val_acc: 0.8688\n",
      "Epoch 18/30\n",
      "7500/7500 [==============================] - 0s 38us/step - loss: 0.3272 - acc: 0.8676 - val_loss: 0.3304 - val_acc: 0.8684\n",
      "Epoch 19/30\n",
      "7500/7500 [==============================] - 0s 38us/step - loss: 0.3251 - acc: 0.8701 - val_loss: 0.3339 - val_acc: 0.8668\n",
      "Epoch 20/30\n",
      "7500/7500 [==============================] - 0s 40us/step - loss: 0.3258 - acc: 0.8684 - val_loss: 0.3354 - val_acc: 0.8668\n",
      "Epoch 21/30\n",
      "7500/7500 [==============================] - 0s 38us/step - loss: 0.3239 - acc: 0.8711 - val_loss: 0.3332 - val_acc: 0.8648\n",
      "Epoch 22/30\n",
      "7500/7500 [==============================] - 0s 38us/step - loss: 0.3220 - acc: 0.8693 - val_loss: 0.3371 - val_acc: 0.8644\n",
      "Epoch 23/30\n",
      "7500/7500 [==============================] - 0s 36us/step - loss: 0.3200 - acc: 0.8700 - val_loss: 0.3350 - val_acc: 0.8664\n",
      "Epoch 24/30\n",
      "7500/7500 [==============================] - 0s 39us/step - loss: 0.3211 - acc: 0.8704 - val_loss: 0.3322 - val_acc: 0.8668\n",
      "Epoch 25/30\n",
      "7500/7500 [==============================] - 0s 37us/step - loss: 0.3168 - acc: 0.8708 - val_loss: 0.3324 - val_acc: 0.8664\n",
      "Epoch 26/30\n",
      "7500/7500 [==============================] - 0s 37us/step - loss: 0.3171 - acc: 0.8731 - val_loss: 0.3320 - val_acc: 0.8660\n",
      "Epoch 27/30\n",
      "7500/7500 [==============================] - 0s 38us/step - loss: 0.3155 - acc: 0.8736 - val_loss: 0.3367 - val_acc: 0.8648\n",
      "Epoch 28/30\n",
      "7500/7500 [==============================] - 0s 39us/step - loss: 0.3169 - acc: 0.8752 - val_loss: 0.3348 - val_acc: 0.8672\n",
      "Epoch 29/30\n",
      "7500/7500 [==============================] - 0s 37us/step - loss: 0.3138 - acc: 0.8741 - val_loss: 0.3353 - val_acc: 0.8664\n",
      "Epoch 30/30\n",
      "7500/7500 [==============================] - 0s 37us/step - loss: 0.3155 - acc: 0.8725 - val_loss: 0.3360 - val_acc: 0.8664\n"
     ]
    },
    {
     "data": {
      "image/png": "[encoded data removed]",
      "text/plain": [
       "<Figure size 1152x360 with 2 Axes>"
      ]
     },
     "metadata": {},
     "output_type": "display_data"
    },
    {
     "name": "stdout",
     "output_type": "stream",
     "text": [
      "auc: 0.8560341434990985\n"
     ]
    },
    {
     "data": {
      "image/png": "[encoded data removed]",
      "text/plain": [
       "<Figure size 432x432 with 1 Axes>"
      ]
     },
     "metadata": {},
     "output_type": "display_data"
    },
    {
     "name": "stdout",
     "output_type": "stream",
     "text": [
      "count    2500.000000\n",
      "mean        0.169060\n",
      "std         0.237647\n",
      "min         0.000862\n",
      "25%         0.027301\n",
      "50%         0.072721\n",
      "75%         0.180653\n",
      "max         1.000000\n",
      "dtype: float64\n",
      "0.16906027 0.23764682\n"
     ]
    },
    {
     "data": {
      "image/png": "[encoded data removed]",
      "text/plain": [
       "<Figure size 432x288 with 1 Axes>"
      ]
     },
     "metadata": {},
     "output_type": "display_data"
    },
    {
     "data": {
      "image/png": "[encoded data removed]",
      "text/plain": [
       "<Figure size 432x288 with 1 Axes>"
      ]
     },
     "metadata": {},
     "output_type": "display_data"
    },
    {
     "data": {
      "image/png": "[encoded data removed]",
      "text/plain": [
       "<Figure size 432x288 with 1 Axes>"
      ]
     },
     "metadata": {},
     "output_type": "display_data"
    },
    {
     "name": "stdout",
     "output_type": "stream",
     "text": [
      "thres: 0.2633, f_beta score: 0.6129\n",
      "accuracy@0.2633: 0.85\n",
      "\n",
      "threshold@0.5, accuracy: 0.8664\n",
      "[[1961   50]\n",
      " [ 284  205]] \n",
      "\n",
      "             precision    recall  f1-score   support\n",
      "\n",
      "          0       0.87      0.98      0.92      2011\n",
      "          1       0.80      0.42      0.55       489\n",
      "\n",
      "avg / total       0.86      0.87      0.85      2500\n",
      "\n",
      "threshold@0.2633, accuracy: 0.8540\n",
      "[[1846  165]\n",
      " [ 200  289]]\n",
      "             precision    recall  f1-score   support\n",
      "\n",
      "          0       0.90      0.92      0.91      2011\n",
      "          1       0.64      0.59      0.61       489\n",
      "\n",
      "avg / total       0.85      0.85      0.85      2500\n",
      "\n"
     ]
    },
    {
     "name": "stderr",
     "output_type": "stream",
     "text": [
      "d:\\python\\anaconda3-5.2.0\\envs\\py3_6\\lib\\site-packages\\sklearn\\metrics\\classification.py:1135: UndefinedMetricWarning: Precision and F-score are ill-defined and being set to 0.0 in labels with no predicted samples.\n",
      "  'precision', 'predicted', average, warn_for)\n"
     ]
    }
   ],
   "source": [
    "def get_model(input_dim):\n",
    "    model = Sequential()\n",
    "    # kernel_regularizer=regularizers.l2(0.005)\n",
    "    model.add(Dense(units = 64, activation = 'relu', kernel_initializer='uniform', input_dim = input_dim))\n",
    "    model.add(Dense(units = 32, activation = 'relu', kernel_initializer='uniform'))\n",
    "    model.add(Dense(units = 16, activation = 'relu', kernel_initializer='uniform'))\n",
    "    model.add(Dense(units = 1, activation = 'sigmoid', kernel_initializer='uniform'))\n",
    "    model.summary()\n",
    "    model.compile(optimizer = 'adam', loss = 'binary_crossentropy', metrics = ['accuracy'])\n",
    "    \n",
    "    return model\n",
    "\n",
    "K.clear_session()\n",
    "\n",
    "model = get_model(input_dim=tr_x.shape[1])\n",
    "hist = model.fit(tr_x, tr_y, validation_data=(vl_x, vl_y), batch_size=100, epochs=30)\n",
    "plot_result(hist)\n",
    "draw_roc_curve(vl_y, model.predict(vl_x))\n",
    "\n",
    "y_pred = model.predict(vl_x)\n",
    "pred_dist(y_pred)\n",
    "analyze(vl_y, y_pred)"
   ]
  },
  {
   "cell_type": "markdown",
   "metadata": {
    "colab_type": "text",
    "id": "2nyIpWl1tmul"
   },
   "source": [
    "## PCA"
   ]
  },
  {
   "cell_type": "code",
   "execution_count": 29,
   "metadata": {
    "colab": {},
    "colab_type": "code",
    "id": "TMnL5oObtmum"
   },
   "outputs": [],
   "source": [
    "from sklearn.decomposition import PCA\n",
    "\n",
    "pca = PCA(n_components=64)\n",
    "tr_x_pca = pca.fit_transform(tr_x)\n",
    "vl_x_pca = pca.transform(vl_x)"
   ]
  },
  {
   "cell_type": "code",
   "execution_count": 30,
   "metadata": {
    "colab": {
     "base_uri": "https://localhost:8080/",
     "height": 34
    },
    "colab_type": "code",
    "executionInfo": {
     "elapsed": 673,
     "status": "ok",
     "timestamp": 1539071242934,
     "user": {
      "displayName": "Gary Chen",
      "photoUrl": "",
      "userId": "10783188122132859162"
     },
     "user_tz": -480
    },
    "id": "IQlOU34ztmup",
    "outputId": "a5fbae86-ddc6-4066-8309-e0c5a9ba3912"
   },
   "outputs": [
    {
     "data": {
      "text/plain": [
       "((7500, 64), (2500, 64))"
      ]
     },
     "execution_count": 30,
     "metadata": {},
     "output_type": "execute_result"
    }
   ],
   "source": [
    "tr_x_pca.shape, vl_x_pca.shape"
   ]
  },
  {
   "cell_type": "markdown",
   "metadata": {},
   "source": [
    "## Model (PCA) \n",
    "\n",
    "* 調整network架構\n",
    "* 調整analyze的beta參數(0.1 ~ 2), 觀察precision, recall變化"
   ]
  },
  {
   "cell_type": "code",
   "execution_count": 31,
   "metadata": {
    "colab": {
     "base_uri": "https://localhost:8080/",
     "height": 3170
    },
    "colab_type": "code",
    "executionInfo": {
     "elapsed": 7796,
     "status": "ok",
     "timestamp": 1539071260813,
     "user": {
      "displayName": "Gary Chen",
      "photoUrl": "",
      "userId": "10783188122132859162"
     },
     "user_tz": -480
    },
    "id": "l2BevFVPtmus",
    "outputId": "a125a452-848c-4aa5-a251-9b6d27fd0f9e",
    "scrolled": true
   },
   "outputs": [
    {
     "name": "stdout",
     "output_type": "stream",
     "text": [
      "_________________________________________________________________\n",
      "Layer (type)                 Output Shape              Param #   \n",
      "=================================================================\n",
      "dense_1 (Dense)              (None, 64)                4160      \n",
      "_________________________________________________________________\n",
      "dense_2 (Dense)              (None, 32)                2080      \n",
      "_________________________________________________________________\n",
      "dense_3 (Dense)              (None, 16)                528       \n",
      "_________________________________________________________________\n",
      "dense_4 (Dense)              (None, 1)                 17        \n",
      "=================================================================\n",
      "Total params: 6,785\n",
      "Trainable params: 6,785\n",
      "Non-trainable params: 0\n",
      "_________________________________________________________________\n",
      "Train on 7500 samples, validate on 2500 samples\n",
      "Epoch 1/30\n",
      "7500/7500 [==============================] - 1s 120us/step - loss: 0.5974 - acc: 0.8001 - val_loss: 0.3898 - val_acc: 0.8268\n",
      "Epoch 2/30\n",
      "7500/7500 [==============================] - 0s 40us/step - loss: 0.3760 - acc: 0.8408 - val_loss: 0.3459 - val_acc: 0.8572\n",
      "Epoch 3/30\n",
      "7500/7500 [==============================] - 0s 37us/step - loss: 0.3518 - acc: 0.8553 - val_loss: 0.3402 - val_acc: 0.8552\n",
      "Epoch 4/30\n",
      "7500/7500 [==============================] - 0s 36us/step - loss: 0.3444 - acc: 0.8573 - val_loss: 0.3391 - val_acc: 0.8592\n",
      "Epoch 5/30\n",
      "7500/7500 [==============================] - 0s 42us/step - loss: 0.3394 - acc: 0.8601 - val_loss: 0.3346 - val_acc: 0.8612\n",
      "Epoch 6/30\n",
      "7500/7500 [==============================] - 0s 40us/step - loss: 0.3353 - acc: 0.8611 - val_loss: 0.3353 - val_acc: 0.8616\n",
      "Epoch 7/30\n",
      "7500/7500 [==============================] - 0s 40us/step - loss: 0.3325 - acc: 0.8633 - val_loss: 0.3323 - val_acc: 0.8652\n",
      "Epoch 8/30\n",
      "7500/7500 [==============================] - 0s 37us/step - loss: 0.3285 - acc: 0.8651 - val_loss: 0.3337 - val_acc: 0.8604\n",
      "Epoch 9/30\n",
      "7500/7500 [==============================] - 0s 43us/step - loss: 0.3256 - acc: 0.8664 - val_loss: 0.3302 - val_acc: 0.8636\n",
      "Epoch 10/30\n",
      "7500/7500 [==============================] - 0s 36us/step - loss: 0.3228 - acc: 0.8700 - val_loss: 0.3286 - val_acc: 0.8668\n",
      "Epoch 11/30\n",
      "7500/7500 [==============================] - 0s 41us/step - loss: 0.3182 - acc: 0.8705 - val_loss: 0.3321 - val_acc: 0.8656\n",
      "Epoch 12/30\n",
      "7500/7500 [==============================] - 0s 41us/step - loss: 0.3154 - acc: 0.8716 - val_loss: 0.3304 - val_acc: 0.8668\n",
      "Epoch 13/30\n",
      "7500/7500 [==============================] - 0s 42us/step - loss: 0.3127 - acc: 0.8736 - val_loss: 0.3305 - val_acc: 0.8644\n",
      "Epoch 14/30\n",
      "7500/7500 [==============================] - 0s 35us/step - loss: 0.3104 - acc: 0.8743 - val_loss: 0.3350 - val_acc: 0.8660\n",
      "Epoch 15/30\n",
      "7500/7500 [==============================] - 0s 38us/step - loss: 0.3104 - acc: 0.8765 - val_loss: 0.3300 - val_acc: 0.8696\n",
      "Epoch 16/30\n",
      "7500/7500 [==============================] - 0s 37us/step - loss: 0.3075 - acc: 0.8768 - val_loss: 0.3323 - val_acc: 0.8632\n",
      "Epoch 17/30\n",
      "7500/7500 [==============================] - 0s 37us/step - loss: 0.3068 - acc: 0.8784 - val_loss: 0.3401 - val_acc: 0.8680\n",
      "Epoch 18/30\n",
      "7500/7500 [==============================] - 0s 37us/step - loss: 0.3033 - acc: 0.8775 - val_loss: 0.3428 - val_acc: 0.8580\n",
      "Epoch 19/30\n",
      "7500/7500 [==============================] - 0s 39us/step - loss: 0.3016 - acc: 0.8804 - val_loss: 0.3350 - val_acc: 0.8676\n",
      "Epoch 20/30\n",
      "7500/7500 [==============================] - 0s 37us/step - loss: 0.2990 - acc: 0.8825 - val_loss: 0.3364 - val_acc: 0.8648\n",
      "Epoch 21/30\n",
      "7500/7500 [==============================] - 0s 36us/step - loss: 0.2968 - acc: 0.8817 - val_loss: 0.3387 - val_acc: 0.8668\n",
      "Epoch 22/30\n",
      "7500/7500 [==============================] - 0s 40us/step - loss: 0.2947 - acc: 0.8831 - val_loss: 0.3410 - val_acc: 0.8640\n",
      "Epoch 23/30\n",
      "7500/7500 [==============================] - 0s 38us/step - loss: 0.2921 - acc: 0.8851 - val_loss: 0.3488 - val_acc: 0.8636\n",
      "Epoch 24/30\n",
      "7500/7500 [==============================] - 0s 34us/step - loss: 0.2904 - acc: 0.8835 - val_loss: 0.3415 - val_acc: 0.8708\n",
      "Epoch 25/30\n",
      "7500/7500 [==============================] - 0s 38us/step - loss: 0.2873 - acc: 0.8852 - val_loss: 0.3422 - val_acc: 0.8648\n",
      "Epoch 26/30\n",
      "7500/7500 [==============================] - 0s 42us/step - loss: 0.2865 - acc: 0.8848 - val_loss: 0.3505 - val_acc: 0.8576\n",
      "Epoch 27/30\n",
      "7500/7500 [==============================] - 0s 38us/step - loss: 0.2851 - acc: 0.8864 - val_loss: 0.3501 - val_acc: 0.8592\n",
      "Epoch 28/30\n",
      "7500/7500 [==============================] - 0s 36us/step - loss: 0.2799 - acc: 0.8908 - val_loss: 0.3507 - val_acc: 0.8628\n",
      "Epoch 29/30\n",
      "7500/7500 [==============================] - 0s 40us/step - loss: 0.2775 - acc: 0.8895 - val_loss: 0.3535 - val_acc: 0.8664\n",
      "Epoch 30/30\n",
      "7500/7500 [==============================] - 0s 38us/step - loss: 0.2750 - acc: 0.8908 - val_loss: 0.3583 - val_acc: 0.8572\n"
     ]
    },
    {
     "data": {
      "image/png": "[encoded data removed]",
      "text/plain": [
       "<Figure size 1152x360 with 2 Axes>"
      ]
     },
     "metadata": {},
     "output_type": "display_data"
    },
    {
     "name": "stdout",
     "output_type": "stream",
     "text": [
      "auc: 0.8426151056713638\n"
     ]
    },
    {
     "data": {
      "image/png": "[encoded data removed]",
      "text/plain": [
       "<Figure size 432x432 with 1 Axes>"
      ]
     },
     "metadata": {},
     "output_type": "display_data"
    },
    {
     "name": "stdout",
     "output_type": "stream",
     "text": [
      "count    2500.000000\n",
      "mean        0.210864\n",
      "std         0.278773\n",
      "min         0.000003\n",
      "25%         0.027973\n",
      "50%         0.077521\n",
      "75%         0.265507\n",
      "max         1.000000\n",
      "dtype: float64\n",
      "0.21086377 0.2787734\n"
     ]
    },
    {
     "data": {
      "image/png": "[encoded data removed]",
      "text/plain": [
       "<Figure size 432x288 with 1 Axes>"
      ]
     },
     "metadata": {},
     "output_type": "display_data"
    },
    {
     "data": {
      "image/png": "[encoded data removed]",
      "text/plain": [
       "<Figure size 432x288 with 1 Axes>"
      ]
     },
     "metadata": {},
     "output_type": "display_data"
    },
    {
     "data": {
      "image/png": "[encoded data removed]",
      "text/plain": [
       "<Figure size 432x288 with 1 Axes>"
      ]
     },
     "metadata": {},
     "output_type": "display_data"
    },
    {
     "name": "stdout",
     "output_type": "stream",
     "text": [
      "thres: 0.3737, f_beta score: 0.5970\n",
      "accuracy@0.3737: 0.84\n",
      "\n",
      "threshold@0.5, accuracy: 0.8572\n",
      "[[1884  127]\n",
      " [ 230  259]] \n",
      "\n",
      "             precision    recall  f1-score   support\n",
      "\n",
      "          0       0.89      0.94      0.91      2011\n",
      "          1       0.67      0.53      0.59       489\n",
      "\n",
      "avg / total       0.85      0.86      0.85      2500\n",
      "\n",
      "threshold@0.3737, accuracy: 0.8396\n",
      "[[1802  209]\n",
      " [ 192  297]]\n",
      "             precision    recall  f1-score   support\n",
      "\n",
      "          0       0.90      0.90      0.90      2011\n",
      "          1       0.59      0.61      0.60       489\n",
      "\n",
      "avg / total       0.84      0.84      0.84      2500\n",
      "\n"
     ]
    },
    {
     "name": "stderr",
     "output_type": "stream",
     "text": [
      "d:\\python\\anaconda3-5.2.0\\envs\\py3_6\\lib\\site-packages\\sklearn\\metrics\\classification.py:1135: UndefinedMetricWarning: Precision and F-score are ill-defined and being set to 0.0 in labels with no predicted samples.\n",
      "  'precision', 'predicted', average, warn_for)\n"
     ]
    }
   ],
   "source": [
    "def get_model(input_dim):\n",
    "    model = Sequential()\n",
    "    # kernel_regularizer=regularizers.l2(0.005)\n",
    "    model.add(Dense(units = 64, activation = 'relu', kernel_initializer='uniform', input_dim = input_dim))\n",
    "    model.add(Dense(units = 32, activation = 'relu', kernel_initializer='uniform'))\n",
    "    model.add(Dense(units = 16, activation = 'relu', kernel_initializer='uniform'))\n",
    "    model.add(Dense(units = 1, activation = 'sigmoid', kernel_initializer='uniform'))\n",
    "    model.summary()\n",
    "    model.compile(optimizer = 'adam', loss = 'binary_crossentropy', metrics = ['accuracy'])\n",
    "    \n",
    "    return model\n",
    "\n",
    "K.clear_session()\n",
    "\n",
    "model = get_model(input_dim=tr_x_pca.shape[1])\n",
    "hist = model.fit(tr_x_pca, tr_y, validation_data=(vl_x_pca, vl_y), batch_size=100, epochs=30)\n",
    "plot_result(hist)\n",
    "draw_roc_curve(vl_y, model.predict(vl_x_pca))\n",
    "\n",
    "y_pred = model.predict(vl_x_pca)\n",
    "pred_dist(y_pred)\n",
    "analyze(vl_y, y_pred)"
   ]
  },
  {
   "cell_type": "markdown",
   "metadata": {
    "colab_type": "text",
    "id": "TRjEBov5tmux"
   },
   "source": [
    "## AutoEncoder"
   ]
  },
  {
   "cell_type": "code",
   "execution_count": 39,
   "metadata": {
    "colab": {
     "base_uri": "https://localhost:8080/",
     "height": 278
    },
    "colab_type": "code",
    "executionInfo": {
     "elapsed": 841,
     "status": "ok",
     "timestamp": 1539071282187,
     "user": {
      "displayName": "Gary Chen",
      "photoUrl": "",
      "userId": "10783188122132859162"
     },
     "user_tz": -480
    },
    "id": "4DrsTrBdtmuy",
    "outputId": "02996535-c207-4bc5-a189-283d26d1419b"
   },
   "outputs": [
    {
     "name": "stdout",
     "output_type": "stream",
     "text": [
      "(7500, 71) (2500, 71)\n"
     ]
    },
    {
     "data": {
      "text/html": [
       "<div>\n",
       "<style scoped>\n",
       "    .dataframe tbody tr th:only-of-type {\n",
       "        vertical-align: middle;\n",
       "    }\n",
       "\n",
       "    .dataframe tbody tr th {\n",
       "        vertical-align: top;\n",
       "    }\n",
       "\n",
       "    .dataframe thead th {\n",
       "        text-align: right;\n",
       "    }\n",
       "</style>\n",
       "<table border=\"1\" class=\"dataframe\">\n",
       "  <thead>\n",
       "    <tr style=\"text-align: right;\">\n",
       "      <th></th>\n",
       "      <th>Gender_Female</th>\n",
       "      <th>HasCrCard_0</th>\n",
       "      <th>IsActiveMember_0</th>\n",
       "      <th>Geography_France</th>\n",
       "      <th>Geography_Germany</th>\n",
       "      <th>Geography_Spain</th>\n",
       "      <th>binn_Age_14-30</th>\n",
       "      <th>binn_Age_30-35</th>\n",
       "      <th>binn_Age_35-40</th>\n",
       "      <th>binn_Age_40-45</th>\n",
       "      <th>...</th>\n",
       "      <th>Age_degree_2</th>\n",
       "      <th>Age_degree_3</th>\n",
       "      <th>Tenure_degree_2</th>\n",
       "      <th>Tenure_degree_3</th>\n",
       "      <th>Balance_degree_2</th>\n",
       "      <th>Balance_degree_3</th>\n",
       "      <th>NumOfProducts_degree_2</th>\n",
       "      <th>NumOfProducts_degree_3</th>\n",
       "      <th>EstimatedSalary_degree_2</th>\n",
       "      <th>EstimatedSalary_degree_3</th>\n",
       "    </tr>\n",
       "  </thead>\n",
       "  <tbody>\n",
       "    <tr>\n",
       "      <th>0</th>\n",
       "      <td>0</td>\n",
       "      <td>1</td>\n",
       "      <td>0</td>\n",
       "      <td>0</td>\n",
       "      <td>1</td>\n",
       "      <td>0</td>\n",
       "      <td>0</td>\n",
       "      <td>0</td>\n",
       "      <td>1</td>\n",
       "      <td>0</td>\n",
       "      <td>...</td>\n",
       "      <td>0.081876</td>\n",
       "      <td>-0.023428</td>\n",
       "      <td>2.982148</td>\n",
       "      <td>-5.149841e+00</td>\n",
       "      <td>0.670681</td>\n",
       "      <td>0.549255</td>\n",
       "      <td>0.646741</td>\n",
       "      <td>0.520110</td>\n",
       "      <td>0.202451</td>\n",
       "      <td>-0.091092</td>\n",
       "    </tr>\n",
       "    <tr>\n",
       "      <th>1</th>\n",
       "      <td>0</td>\n",
       "      <td>1</td>\n",
       "      <td>1</td>\n",
       "      <td>1</td>\n",
       "      <td>0</td>\n",
       "      <td>0</td>\n",
       "      <td>0</td>\n",
       "      <td>0</td>\n",
       "      <td>0</td>\n",
       "      <td>0</td>\n",
       "      <td>...</td>\n",
       "      <td>0.579956</td>\n",
       "      <td>0.441665</td>\n",
       "      <td>2.982148</td>\n",
       "      <td>-5.149841e+00</td>\n",
       "      <td>1.495981</td>\n",
       "      <td>-1.829740</td>\n",
       "      <td>0.834827</td>\n",
       "      <td>-0.762772</td>\n",
       "      <td>2.661079</td>\n",
       "      <td>-4.340968</td>\n",
       "    </tr>\n",
       "    <tr>\n",
       "      <th>2</th>\n",
       "      <td>1</td>\n",
       "      <td>1</td>\n",
       "      <td>1</td>\n",
       "      <td>1</td>\n",
       "      <td>0</td>\n",
       "      <td>0</td>\n",
       "      <td>0</td>\n",
       "      <td>0</td>\n",
       "      <td>0</td>\n",
       "      <td>0</td>\n",
       "      <td>...</td>\n",
       "      <td>9.876301</td>\n",
       "      <td>31.037837</td>\n",
       "      <td>1.074413</td>\n",
       "      <td>-1.113671e+00</td>\n",
       "      <td>1.495981</td>\n",
       "      <td>-1.829740</td>\n",
       "      <td>0.646741</td>\n",
       "      <td>0.520110</td>\n",
       "      <td>0.260524</td>\n",
       "      <td>-0.132975</td>\n",
       "    </tr>\n",
       "    <tr>\n",
       "      <th>3</th>\n",
       "      <td>1</td>\n",
       "      <td>1</td>\n",
       "      <td>0</td>\n",
       "      <td>1</td>\n",
       "      <td>0</td>\n",
       "      <td>0</td>\n",
       "      <td>0</td>\n",
       "      <td>0</td>\n",
       "      <td>0</td>\n",
       "      <td>1</td>\n",
       "      <td>...</td>\n",
       "      <td>0.144834</td>\n",
       "      <td>0.055120</td>\n",
       "      <td>0.475187</td>\n",
       "      <td>3.275649e-01</td>\n",
       "      <td>1.495981</td>\n",
       "      <td>-1.829740</td>\n",
       "      <td>0.646741</td>\n",
       "      <td>0.520110</td>\n",
       "      <td>1.092956</td>\n",
       "      <td>-1.142625</td>\n",
       "    </tr>\n",
       "    <tr>\n",
       "      <th>4</th>\n",
       "      <td>1</td>\n",
       "      <td>1</td>\n",
       "      <td>0</td>\n",
       "      <td>0</td>\n",
       "      <td>1</td>\n",
       "      <td>0</td>\n",
       "      <td>0</td>\n",
       "      <td>0</td>\n",
       "      <td>0</td>\n",
       "      <td>1</td>\n",
       "      <td>...</td>\n",
       "      <td>0.008994</td>\n",
       "      <td>0.000853</td>\n",
       "      <td>0.000001</td>\n",
       "      <td>-1.038016e-09</td>\n",
       "      <td>0.257468</td>\n",
       "      <td>0.130643</td>\n",
       "      <td>0.646741</td>\n",
       "      <td>0.520110</td>\n",
       "      <td>0.768690</td>\n",
       "      <td>-0.673949</td>\n",
       "    </tr>\n",
       "  </tbody>\n",
       "</table>\n",
       "<p>5 rows × 71 columns</p>\n",
       "</div>"
      ],
      "text/plain": [
       "   Gender_Female  HasCrCard_0  IsActiveMember_0  Geography_France  \\\n",
       "0              0            1                 0                 0   \n",
       "1              0            1                 1                 1   \n",
       "2              1            1                 1                 1   \n",
       "3              1            1                 0                 1   \n",
       "4              1            1                 0                 0   \n",
       "\n",
       "   Geography_Germany  Geography_Spain  binn_Age_14-30  binn_Age_30-35  \\\n",
       "0                  1                0               0               0   \n",
       "1                  0                0               0               0   \n",
       "2                  0                0               0               0   \n",
       "3                  0                0               0               0   \n",
       "4                  1                0               0               0   \n",
       "\n",
       "   binn_Age_35-40  binn_Age_40-45            ...             Age_degree_2  \\\n",
       "0               1               0            ...                 0.081876   \n",
       "1               0               0            ...                 0.579956   \n",
       "2               0               0            ...                 9.876301   \n",
       "3               0               1            ...                 0.144834   \n",
       "4               0               1            ...                 0.008994   \n",
       "\n",
       "   Age_degree_3  Tenure_degree_2  Tenure_degree_3  Balance_degree_2  \\\n",
       "0     -0.023428         2.982148    -5.149841e+00          0.670681   \n",
       "1      0.441665         2.982148    -5.149841e+00          1.495981   \n",
       "2     31.037837         1.074413    -1.113671e+00          1.495981   \n",
       "3      0.055120         0.475187     3.275649e-01          1.495981   \n",
       "4      0.000853         0.000001    -1.038016e-09          0.257468   \n",
       "\n",
       "   Balance_degree_3  NumOfProducts_degree_2  NumOfProducts_degree_3  \\\n",
       "0          0.549255                0.646741                0.520110   \n",
       "1         -1.829740                0.834827               -0.762772   \n",
       "2         -1.829740                0.646741                0.520110   \n",
       "3         -1.829740                0.646741                0.520110   \n",
       "4          0.130643                0.646741                0.520110   \n",
       "\n",
       "   EstimatedSalary_degree_2  EstimatedSalary_degree_3  \n",
       "0                  0.202451                 -0.091092  \n",
       "1                  2.661079                 -4.340968  \n",
       "2                  0.260524                 -0.132975  \n",
       "3                  1.092956                 -1.142625  \n",
       "4                  0.768690                 -0.673949  \n",
       "\n",
       "[5 rows x 71 columns]"
      ]
     },
     "execution_count": 39,
     "metadata": {},
     "output_type": "execute_result"
    }
   ],
   "source": [
    "# Trnasform raw data to foramt model recognized\n",
    "tr_x, tr_y, status = feature_engineering(raw, is_train=True)\n",
    "vl_x, vl_y, _ = feature_engineering(raw_vl, is_train=False, status=status)\n",
    "\n",
    "print( tr_x.shape, vl_x.shape )\n",
    "tr_x.head()"
   ]
  },
  {
   "cell_type": "markdown",
   "metadata": {},
   "source": [
    "## (LAB) Model (AutoEncoder)\n",
    "\n",
    "* 調整AutoEncoder架構, 目前valid loss約0.003, 是否減少層數也能夠達到0.003以下的loss, 或者增加層數獲取更低的loss"
   ]
  },
  {
   "cell_type": "code",
   "execution_count": 40,
   "metadata": {
    "colab": {
     "base_uri": "https://localhost:8080/",
     "height": 3714
    },
    "colab_type": "code",
    "executionInfo": {
     "elapsed": 36120,
     "status": "ok",
     "timestamp": 1539071383149,
     "user": {
      "displayName": "Gary Chen",
      "photoUrl": "",
      "userId": "10783188122132859162"
     },
     "user_tz": -480
    },
    "id": "KSA2_hJstmu1",
    "outputId": "462ed16b-b3ed-4cbd-a1e7-6b3d53478627",
    "scrolled": true
   },
   "outputs": [
    {
     "name": "stdout",
     "output_type": "stream",
     "text": [
      "Train on 7500 samples, validate on 2500 samples\n",
      "Epoch 1/100\n",
      "7500/7500 [==============================] - 1s 135us/step - loss: 1.1554 - val_loss: 0.3120\n",
      "Epoch 2/100\n",
      "7500/7500 [==============================] - 0s 30us/step - loss: 0.2053 - val_loss: 0.1298\n",
      "Epoch 3/100\n",
      "7500/7500 [==============================] - 0s 29us/step - loss: 0.1105 - val_loss: 0.0864\n",
      "Epoch 4/100\n",
      "7500/7500 [==============================] - 0s 29us/step - loss: 0.0793 - val_loss: 0.0694\n",
      "Epoch 5/100\n",
      "7500/7500 [==============================] - 0s 29us/step - loss: 0.0626 - val_loss: 0.0546\n",
      "Epoch 6/100\n",
      "7500/7500 [==============================] - 0s 27us/step - loss: 0.0520 - val_loss: 0.0487\n",
      "Epoch 7/100\n",
      "7500/7500 [==============================] - 0s 28us/step - loss: 0.0447 - val_loss: 0.0410\n",
      "Epoch 8/100\n",
      "7500/7500 [==============================] - 0s 30us/step - loss: 0.0379 - val_loss: 0.0362\n",
      "Epoch 9/100\n",
      "7500/7500 [==============================] - 0s 32us/step - loss: 0.0338 - val_loss: 0.0292\n",
      "Epoch 10/100\n",
      "7500/7500 [==============================] - 0s 29us/step - loss: 0.0282 - val_loss: 0.0285\n",
      "Epoch 11/100\n",
      "7500/7500 [==============================] - 0s 29us/step - loss: 0.0262 - val_loss: 0.0234\n",
      "Epoch 12/100\n",
      "7500/7500 [==============================] - 0s 29us/step - loss: 0.0237 - val_loss: 0.0249\n",
      "Epoch 13/100\n",
      "7500/7500 [==============================] - 0s 29us/step - loss: 0.0227 - val_loss: 0.0204\n",
      "Epoch 14/100\n",
      "7500/7500 [==============================] - 0s 30us/step - loss: 0.0203 - val_loss: 0.0219\n",
      "Epoch 15/100\n",
      "7500/7500 [==============================] - 0s 28us/step - loss: 0.0198 - val_loss: 0.0189\n",
      "Epoch 16/100\n",
      "7500/7500 [==============================] - 0s 29us/step - loss: 0.0178 - val_loss: 0.0156\n",
      "Epoch 17/100\n",
      "7500/7500 [==============================] - 0s 28us/step - loss: 0.0150 - val_loss: 0.0178\n",
      "Epoch 18/100\n",
      "7500/7500 [==============================] - 0s 31us/step - loss: 0.0150 - val_loss: 0.0142\n",
      "Epoch 19/100\n",
      "7500/7500 [==============================] - 0s 27us/step - loss: 0.0137 - val_loss: 0.0129\n",
      "Epoch 20/100\n",
      "7500/7500 [==============================] - 0s 28us/step - loss: 0.0143 - val_loss: 0.0209\n",
      "Epoch 21/100\n",
      "7500/7500 [==============================] - 0s 30us/step - loss: 0.0161 - val_loss: 0.0178\n",
      "Epoch 22/100\n",
      "7500/7500 [==============================] - 0s 30us/step - loss: 0.0139 - val_loss: 0.0151\n",
      "Epoch 23/100\n",
      "7500/7500 [==============================] - 0s 32us/step - loss: 0.0120 - val_loss: 0.0109\n",
      "Epoch 24/100\n",
      "7500/7500 [==============================] - 0s 29us/step - loss: 0.0130 - val_loss: 0.0125\n",
      "Epoch 25/100\n",
      "7500/7500 [==============================] - 0s 29us/step - loss: 0.0105 - val_loss: 0.0104\n",
      "Epoch 26/100\n",
      "7500/7500 [==============================] - 0s 29us/step - loss: 0.0099 - val_loss: 0.0096\n",
      "Epoch 27/100\n",
      "7500/7500 [==============================] - 0s 30us/step - loss: 0.0095 - val_loss: 0.0098\n",
      "Epoch 28/100\n",
      "7500/7500 [==============================] - 0s 30us/step - loss: 0.0088 - val_loss: 0.0090\n",
      "Epoch 29/100\n",
      "7500/7500 [==============================] - 0s 28us/step - loss: 0.0087 - val_loss: 0.0087\n",
      "Epoch 30/100\n",
      "7500/7500 [==============================] - 0s 29us/step - loss: 0.0085 - val_loss: 0.0083\n",
      "Epoch 31/100\n",
      "7500/7500 [==============================] - 0s 30us/step - loss: 0.0085 - val_loss: 0.0094\n",
      "Epoch 32/100\n",
      "7500/7500 [==============================] - 0s 30us/step - loss: 0.0083 - val_loss: 0.0077\n",
      "Epoch 33/100\n",
      "7500/7500 [==============================] - 0s 30us/step - loss: 0.0080 - val_loss: 0.0083\n",
      "Epoch 34/100\n",
      "7500/7500 [==============================] - 0s 30us/step - loss: 0.0076 - val_loss: 0.0073\n",
      "Epoch 35/100\n",
      "7500/7500 [==============================] - 0s 28us/step - loss: 0.0076 - val_loss: 0.0091\n",
      "Epoch 36/100\n",
      "7500/7500 [==============================] - 0s 32us/step - loss: 0.0076 - val_loss: 0.0080\n",
      "Epoch 37/100\n",
      "7500/7500 [==============================] - 0s 27us/step - loss: 0.0078 - val_loss: 0.0076\n",
      "Epoch 38/100\n",
      "7500/7500 [==============================] - 0s 29us/step - loss: 0.0070 - val_loss: 0.0073\n",
      "Epoch 39/100\n",
      "7500/7500 [==============================] - 0s 29us/step - loss: 0.0068 - val_loss: 0.0066\n",
      "Epoch 40/100\n",
      "7500/7500 [==============================] - 0s 30us/step - loss: 0.0063 - val_loss: 0.0074\n",
      "Epoch 41/100\n",
      "7500/7500 [==============================] - 0s 30us/step - loss: 0.0061 - val_loss: 0.0055\n",
      "Epoch 42/100\n",
      "7500/7500 [==============================] - 0s 30us/step - loss: 0.0065 - val_loss: 0.0068\n",
      "Epoch 43/100\n",
      "7500/7500 [==============================] - 0s 30us/step - loss: 0.0065 - val_loss: 0.0069\n",
      "Epoch 44/100\n",
      "7500/7500 [==============================] - 0s 29us/step - loss: 0.0072 - val_loss: 0.0091\n",
      "Epoch 45/100\n",
      "7500/7500 [==============================] - 0s 31us/step - loss: 0.0066 - val_loss: 0.0059\n",
      "Epoch 46/100\n",
      "7500/7500 [==============================] - 0s 29us/step - loss: 0.0078 - val_loss: 0.0082\n",
      "Epoch 47/100\n",
      "7500/7500 [==============================] - 0s 30us/step - loss: 0.0073 - val_loss: 0.0105\n",
      "Epoch 48/100\n",
      "7500/7500 [==============================] - 0s 28us/step - loss: 0.0076 - val_loss: 0.0088\n",
      "Epoch 49/100\n",
      "7500/7500 [==============================] - 0s 29us/step - loss: 0.0078 - val_loss: 0.0090\n",
      "Epoch 50/100\n",
      "7500/7500 [==============================] - 0s 30us/step - loss: 0.0085 - val_loss: 0.0089\n",
      "Epoch 51/100\n",
      "7500/7500 [==============================] - 0s 30us/step - loss: 0.0071 - val_loss: 0.0085\n",
      "Epoch 52/100\n",
      "7500/7500 [==============================] - 0s 28us/step - loss: 0.0063 - val_loss: 0.0060\n",
      "Epoch 53/100\n",
      "7500/7500 [==============================] - 0s 29us/step - loss: 0.0044 - val_loss: 0.0043\n",
      "Epoch 54/100\n",
      "7500/7500 [==============================] - 0s 29us/step - loss: 0.0046 - val_loss: 0.0044\n",
      "Epoch 55/100\n",
      "7500/7500 [==============================] - 0s 32us/step - loss: 0.0051 - val_loss: 0.0068\n",
      "Epoch 56/100\n",
      "7500/7500 [==============================] - 0s 28us/step - loss: 0.0059 - val_loss: 0.0051\n",
      "Epoch 57/100\n",
      "7500/7500 [==============================] - 0s 28us/step - loss: 0.0043 - val_loss: 0.0045\n",
      "Epoch 58/100\n",
      "7500/7500 [==============================] - 0s 30us/step - loss: 0.0041 - val_loss: 0.0041\n",
      "Epoch 59/100\n",
      "7500/7500 [==============================] - 0s 31us/step - loss: 0.0044 - val_loss: 0.0045\n",
      "Epoch 60/100\n",
      "7500/7500 [==============================] - 0s 29us/step - loss: 0.0039 - val_loss: 0.0042\n",
      "Epoch 61/100\n",
      "7500/7500 [==============================] - 0s 28us/step - loss: 0.0046 - val_loss: 0.0042\n",
      "Epoch 62/100\n",
      "7500/7500 [==============================] - 0s 29us/step - loss: 0.0039 - val_loss: 0.0041\n",
      "Epoch 63/100\n",
      "7500/7500 [==============================] - 0s 30us/step - loss: 0.0048 - val_loss: 0.0048\n",
      "Epoch 64/100\n",
      "7500/7500 [==============================] - 0s 29us/step - loss: 0.0040 - val_loss: 0.0039\n",
      "Epoch 65/100\n",
      "7500/7500 [==============================] - 0s 28us/step - loss: 0.0038 - val_loss: 0.0038\n",
      "Epoch 66/100\n",
      "7500/7500 [==============================] - 0s 29us/step - loss: 0.0036 - val_loss: 0.0040\n",
      "Epoch 67/100\n",
      "7500/7500 [==============================] - 0s 29us/step - loss: 0.0045 - val_loss: 0.0052\n",
      "Epoch 68/100\n",
      "7500/7500 [==============================] - 0s 31us/step - loss: 0.0053 - val_loss: 0.0055\n",
      "Epoch 69/100\n",
      "7500/7500 [==============================] - 0s 30us/step - loss: 0.0050 - val_loss: 0.0050\n",
      "Epoch 70/100\n",
      "7500/7500 [==============================] - 0s 30us/step - loss: 0.0053 - val_loss: 0.0047\n",
      "Epoch 71/100\n",
      "7500/7500 [==============================] - 0s 28us/step - loss: 0.0041 - val_loss: 0.0042\n",
      "Epoch 72/100\n",
      "7500/7500 [==============================] - 0s 30us/step - loss: 0.0038 - val_loss: 0.0043\n",
      "Epoch 73/100\n",
      "7500/7500 [==============================] - 0s 31us/step - loss: 0.0032 - val_loss: 0.0036\n",
      "Epoch 74/100\n",
      "7500/7500 [==============================] - 0s 28us/step - loss: 0.0039 - val_loss: 0.0039\n",
      "Epoch 75/100\n",
      "7500/7500 [==============================] - 0s 29us/step - loss: 0.0040 - val_loss: 0.0036\n",
      "Epoch 76/100\n",
      "7500/7500 [==============================] - 0s 30us/step - loss: 0.0038 - val_loss: 0.0039\n",
      "Epoch 77/100\n",
      "7500/7500 [==============================] - 0s 29us/step - loss: 0.0037 - val_loss: 0.0043\n",
      "Epoch 78/100\n"
     ]
    },
    {
     "name": "stdout",
     "output_type": "stream",
     "text": [
      "7500/7500 [==============================] - 0s 27us/step - loss: 0.0035 - val_loss: 0.0038\n",
      "Epoch 79/100\n",
      "7500/7500 [==============================] - 0s 28us/step - loss: 0.0032 - val_loss: 0.0037\n",
      "Epoch 80/100\n",
      "7500/7500 [==============================] - 0s 29us/step - loss: 0.0039 - val_loss: 0.0051\n",
      "Epoch 81/100\n",
      "7500/7500 [==============================] - 0s 29us/step - loss: 0.0045 - val_loss: 0.0039\n",
      "Epoch 82/100\n",
      "7500/7500 [==============================] - 0s 29us/step - loss: 0.0037 - val_loss: 0.0049\n",
      "Epoch 83/100\n",
      "7500/7500 [==============================] - 0s 29us/step - loss: 0.0055 - val_loss: 0.0067\n",
      "Epoch 84/100\n",
      "7500/7500 [==============================] - 0s 29us/step - loss: 0.0048 - val_loss: 0.0047\n",
      "Epoch 85/100\n",
      "7500/7500 [==============================] - 0s 30us/step - loss: 0.0036 - val_loss: 0.0032\n",
      "Epoch 86/100\n",
      "7500/7500 [==============================] - 0s 31us/step - loss: 0.0035 - val_loss: 0.0034\n",
      "Epoch 87/100\n",
      "7500/7500 [==============================] - 0s 29us/step - loss: 0.0030 - val_loss: 0.0034\n",
      "Epoch 88/100\n",
      "7500/7500 [==============================] - 0s 29us/step - loss: 0.0043 - val_loss: 0.0046\n",
      "Epoch 89/100\n",
      "7500/7500 [==============================] - 0s 29us/step - loss: 0.0038 - val_loss: 0.0038\n",
      "Epoch 90/100\n",
      "7500/7500 [==============================] - 0s 28us/step - loss: 0.0046 - val_loss: 0.0038\n",
      "Epoch 91/100\n",
      "7500/7500 [==============================] - 0s 31us/step - loss: 0.0044 - val_loss: 0.0043\n",
      "Epoch 92/100\n",
      "7500/7500 [==============================] - 0s 28us/step - loss: 0.0033 - val_loss: 0.0029\n",
      "Epoch 93/100\n",
      "7500/7500 [==============================] - 0s 29us/step - loss: 0.0035 - val_loss: 0.0033\n",
      "Epoch 94/100\n",
      "7500/7500 [==============================] - 0s 29us/step - loss: 0.0034 - val_loss: 0.0042\n",
      "Epoch 95/100\n",
      "7500/7500 [==============================] - 0s 30us/step - loss: 0.0040 - val_loss: 0.0051\n",
      "Epoch 96/100\n",
      "7500/7500 [==============================] - 0s 30us/step - loss: 0.0035 - val_loss: 0.0040\n",
      "Epoch 97/100\n",
      "7500/7500 [==============================] - 0s 28us/step - loss: 0.0029 - val_loss: 0.0048\n",
      "Epoch 98/100\n",
      "7500/7500 [==============================] - 0s 29us/step - loss: 0.0061 - val_loss: 0.0050\n",
      "Epoch 99/100\n",
      "7500/7500 [==============================] - 0s 29us/step - loss: 0.0035 - val_loss: 0.0033\n",
      "Epoch 100/100\n",
      "7500/7500 [==============================] - 0s 30us/step - loss: 0.0028 - val_loss: 0.0031\n"
     ]
    },
    {
     "data": {
      "image/png": "[encoded data removed]",
      "text/plain": [
       "<Figure size 1152x360 with 1 Axes>"
      ]
     },
     "metadata": {},
     "output_type": "display_data"
    }
   ],
   "source": [
    "K.clear_session()\n",
    "\n",
    "inputs_dim = tr_x.shape[1]\n",
    "\n",
    "inputs = Input(shape=(inputs_dim, ))\n",
    "# Encoder\n",
    "encoded = Dense(inputs_dim, activation='selu')(inputs)\n",
    "encoded = Dense(128, activation='selu')(encoded)\n",
    "encoded = Dense(64, activation='selu')(encoded)\n",
    "\n",
    "encoded = Dense(64, activation='selu')(encoded)\n",
    "\n",
    "# Decoder\n",
    "decoded = Dense(64, activation='selu')(encoded)\n",
    "decoded = Dense(128, activation='selu')(decoded)\n",
    "decoded = Dense(inputs_dim, activation='linear')(decoded)\n",
    "\n",
    "# this model maps an input to its reconstruction\n",
    "autoencoder = Model(inputs, decoded)\n",
    "\n",
    "# this model maps an input to its encoded representation\n",
    "encoder = Model(inputs, encoded)\n",
    "\n",
    "# Adam Optimizer + Mean square error loss\n",
    "autoencoder.compile(optimizer='adam', loss='mse')\n",
    "hist = autoencoder.fit(\n",
    "    tr_x, tr_x, \n",
    "    epochs=100, \n",
    "    batch_size=200, \n",
    "    shuffle=True, \n",
    "    validation_data=(vl_x, vl_x))\n",
    "\n",
    "def plot_ae(hist):\n",
    "    plt.figure(figsize=(16, 5))\n",
    "    plt.plot(hist.history['loss'], label='tr_loss')\n",
    "    plt.plot(hist.history['val_loss'], label='vl_loss')\n",
    "    plt.title('Loss')\n",
    "    plt.legend(loc='best')\n",
    "    plt.show()\n",
    "    \n",
    "plot_ae(hist)"
   ]
  },
  {
   "cell_type": "code",
   "execution_count": 41,
   "metadata": {
    "colab": {},
    "colab_type": "code",
    "id": "LP_e2nEqtmu4",
    "scrolled": true
   },
   "outputs": [],
   "source": [
    "tr_x_ae = encoder.predict(tr_x)\n",
    "vl_x_ae = encoder.predict(vl_x)"
   ]
  },
  {
   "cell_type": "code",
   "execution_count": 42,
   "metadata": {
    "colab": {
     "base_uri": "https://localhost:8080/",
     "height": 34
    },
    "colab_type": "code",
    "executionInfo": {
     "elapsed": 618,
     "status": "ok",
     "timestamp": 1539071389837,
     "user": {
      "displayName": "Gary Chen",
      "photoUrl": "",
      "userId": "10783188122132859162"
     },
     "user_tz": -480
    },
    "id": "n0Y3LIONtmu7",
    "outputId": "78ccfd5f-057c-4a35-e50b-a178b71cdabc"
   },
   "outputs": [
    {
     "data": {
      "text/plain": [
       "((7500, 64), (2500, 64))"
      ]
     },
     "execution_count": 42,
     "metadata": {},
     "output_type": "execute_result"
    }
   ],
   "source": [
    "tr_x_ae.shape, vl_x_ae.shape"
   ]
  },
  {
   "cell_type": "markdown",
   "metadata": {},
   "source": [
    "## (LAB) Model (After AutoEncoder)\n",
    "\n",
    "* 調整network架構\n",
    "* 調整analyze的beta參數(0.1 ~ 2), 觀察precision, recall變化"
   ]
  },
  {
   "cell_type": "code",
   "execution_count": 43,
   "metadata": {
    "colab": {
     "base_uri": "https://localhost:8080/",
     "height": 3170
    },
    "colab_type": "code",
    "executionInfo": {
     "elapsed": 7495,
     "status": "ok",
     "timestamp": 1539071398292,
     "user": {
      "displayName": "Gary Chen",
      "photoUrl": "",
      "userId": "10783188122132859162"
     },
     "user_tz": -480
    },
    "id": "SsnEuTt3tmu-",
    "outputId": "8b15254f-7a22-4f79-eb5f-34a3ab5fd964",
    "scrolled": true
   },
   "outputs": [
    {
     "name": "stdout",
     "output_type": "stream",
     "text": [
      "_________________________________________________________________\n",
      "Layer (type)                 Output Shape              Param #   \n",
      "=================================================================\n",
      "dense_1 (Dense)              (None, 64)                4160      \n",
      "_________________________________________________________________\n",
      "dense_2 (Dense)              (None, 32)                2080      \n",
      "_________________________________________________________________\n",
      "dense_3 (Dense)              (None, 16)                528       \n",
      "_________________________________________________________________\n",
      "dense_4 (Dense)              (None, 1)                 17        \n",
      "=================================================================\n",
      "Total params: 6,785\n",
      "Trainable params: 6,785\n",
      "Non-trainable params: 0\n",
      "_________________________________________________________________\n",
      "Train on 7500 samples, validate on 2500 samples\n",
      "Epoch 1/30\n",
      "7500/7500 [==============================] - 1s 96us/step - loss: 0.5693 - acc: 0.7880 - val_loss: 0.4590 - val_acc: 0.8100\n",
      "Epoch 2/30\n",
      "7500/7500 [==============================] - 0s 38us/step - loss: 0.4391 - acc: 0.8141 - val_loss: 0.3809 - val_acc: 0.8316\n",
      "Epoch 3/30\n",
      "7500/7500 [==============================] - 0s 41us/step - loss: 0.3823 - acc: 0.8387 - val_loss: 0.3582 - val_acc: 0.8536\n",
      "Epoch 4/30\n",
      "7500/7500 [==============================] - 0s 35us/step - loss: 0.3674 - acc: 0.8477 - val_loss: 0.3492 - val_acc: 0.8456\n",
      "Epoch 5/30\n",
      "7500/7500 [==============================] - 0s 36us/step - loss: 0.3623 - acc: 0.8497 - val_loss: 0.3470 - val_acc: 0.8556\n",
      "Epoch 6/30\n",
      "7500/7500 [==============================] - 0s 35us/step - loss: 0.3611 - acc: 0.8531 - val_loss: 0.3651 - val_acc: 0.8400\n",
      "Epoch 7/30\n",
      "7500/7500 [==============================] - 0s 35us/step - loss: 0.3599 - acc: 0.8523 - val_loss: 0.3668 - val_acc: 0.8392\n",
      "Epoch 8/30\n",
      "7500/7500 [==============================] - 0s 36us/step - loss: 0.3568 - acc: 0.8532 - val_loss: 0.3450 - val_acc: 0.8524\n",
      "Epoch 9/30\n",
      "7500/7500 [==============================] - 0s 37us/step - loss: 0.3566 - acc: 0.8529 - val_loss: 0.3536 - val_acc: 0.8580\n",
      "Epoch 10/30\n",
      "7500/7500 [==============================] - 0s 35us/step - loss: 0.3556 - acc: 0.8524 - val_loss: 0.3460 - val_acc: 0.8584\n",
      "Epoch 11/30\n",
      "7500/7500 [==============================] - 0s 36us/step - loss: 0.3591 - acc: 0.8507 - val_loss: 0.3456 - val_acc: 0.8588\n",
      "Epoch 12/30\n",
      "7500/7500 [==============================] - 0s 37us/step - loss: 0.3599 - acc: 0.8545 - val_loss: 0.3484 - val_acc: 0.8516\n",
      "Epoch 13/30\n",
      "7500/7500 [==============================] - 0s 35us/step - loss: 0.3549 - acc: 0.8556 - val_loss: 0.3469 - val_acc: 0.8496\n",
      "Epoch 14/30\n",
      "7500/7500 [==============================] - 0s 38us/step - loss: 0.3559 - acc: 0.8528 - val_loss: 0.3421 - val_acc: 0.8592\n",
      "Epoch 15/30\n",
      "7500/7500 [==============================] - 0s 36us/step - loss: 0.3558 - acc: 0.8552 - val_loss: 0.3418 - val_acc: 0.8592\n",
      "Epoch 16/30\n",
      "7500/7500 [==============================] - 0s 35us/step - loss: 0.3567 - acc: 0.8556 - val_loss: 0.3440 - val_acc: 0.8568\n",
      "Epoch 17/30\n",
      "7500/7500 [==============================] - 0s 36us/step - loss: 0.3559 - acc: 0.8541 - val_loss: 0.3418 - val_acc: 0.8556\n",
      "Epoch 18/30\n",
      "7500/7500 [==============================] - 0s 35us/step - loss: 0.3532 - acc: 0.8549 - val_loss: 0.3417 - val_acc: 0.8576\n",
      "Epoch 19/30\n",
      "7500/7500 [==============================] - 0s 38us/step - loss: 0.3565 - acc: 0.8523 - val_loss: 0.3420 - val_acc: 0.8576\n",
      "Epoch 20/30\n",
      "7500/7500 [==============================] - 0s 35us/step - loss: 0.3573 - acc: 0.8521 - val_loss: 0.3494 - val_acc: 0.8500\n",
      "Epoch 21/30\n",
      "7500/7500 [==============================] - 0s 36us/step - loss: 0.3565 - acc: 0.8547 - val_loss: 0.3416 - val_acc: 0.8592\n",
      "Epoch 22/30\n",
      "7500/7500 [==============================] - 0s 36us/step - loss: 0.3543 - acc: 0.8535 - val_loss: 0.3418 - val_acc: 0.8576\n",
      "Epoch 23/30\n",
      "7500/7500 [==============================] - 0s 36us/step - loss: 0.3555 - acc: 0.8543 - val_loss: 0.3433 - val_acc: 0.8584\n",
      "Epoch 24/30\n",
      "7500/7500 [==============================] - 0s 34us/step - loss: 0.3553 - acc: 0.8549 - val_loss: 0.3431 - val_acc: 0.8564\n",
      "Epoch 25/30\n",
      "7500/7500 [==============================] - 0s 36us/step - loss: 0.3559 - acc: 0.8547 - val_loss: 0.3550 - val_acc: 0.8464\n",
      "Epoch 26/30\n",
      "7500/7500 [==============================] - 0s 34us/step - loss: 0.3545 - acc: 0.8567 - val_loss: 0.3438 - val_acc: 0.8564\n",
      "Epoch 27/30\n",
      "7500/7500 [==============================] - 0s 37us/step - loss: 0.3546 - acc: 0.8549 - val_loss: 0.3410 - val_acc: 0.8576\n",
      "Epoch 28/30\n",
      "7500/7500 [==============================] - 0s 35us/step - loss: 0.3537 - acc: 0.8553 - val_loss: 0.3416 - val_acc: 0.8576\n",
      "Epoch 29/30\n",
      "7500/7500 [==============================] - 0s 37us/step - loss: 0.3537 - acc: 0.8549 - val_loss: 0.3424 - val_acc: 0.8588\n",
      "Epoch 30/30\n",
      "7500/7500 [==============================] - 0s 40us/step - loss: 0.3533 - acc: 0.8535 - val_loss: 0.3407 - val_acc: 0.8580\n"
     ]
    },
    {
     "data": {
      "image/png": "[encoded data removed]",
      "text/plain": [
       "<Figure size 1152x360 with 2 Axes>"
      ]
     },
     "metadata": {},
     "output_type": "display_data"
    },
    {
     "name": "stdout",
     "output_type": "stream",
     "text": [
      "auc: 0.8538793283159393\n"
     ]
    },
    {
     "data": {
      "image/png": "[encoded data removed]",
      "text/plain": [
       "<Figure size 432x432 with 1 Axes>"
      ]
     },
     "metadata": {},
     "output_type": "display_data"
    },
    {
     "name": "stdout",
     "output_type": "stream",
     "text": [
      "count    2500.000000\n",
      "mean        0.181898\n",
      "std         0.221270\n",
      "min         0.002984\n",
      "25%         0.043455\n",
      "50%         0.088393\n",
      "75%         0.216214\n",
      "max         0.999992\n",
      "dtype: float64\n",
      "0.18189761 0.22127023\n"
     ]
    },
    {
     "data": {
      "image/png": "[encoded data removed]",
      "text/plain": [
       "<Figure size 432x288 with 1 Axes>"
      ]
     },
     "metadata": {},
     "output_type": "display_data"
    },
    {
     "data": {
      "image/png": "[encoded data removed]",
      "text/plain": [
       "<Figure size 432x288 with 1 Axes>"
      ]
     },
     "metadata": {},
     "output_type": "display_data"
    },
    {
     "data": {
      "image/png": "[encoded data removed]",
      "text/plain": [
       "<Figure size 432x288 with 1 Axes>"
      ]
     },
     "metadata": {},
     "output_type": "display_data"
    },
    {
     "name": "stdout",
     "output_type": "stream",
     "text": [
      "thres: 0.2648, f_beta score: 0.6096\n",
      "accuracy@0.2648: 0.84\n",
      "\n",
      "threshold@0.5, accuracy: 0.8580\n",
      "[[1945   66]\n",
      " [ 289  200]] \n",
      "\n",
      "             precision    recall  f1-score   support\n",
      "\n",
      "          0       0.87      0.97      0.92      2011\n",
      "          1       0.75      0.41      0.53       489\n",
      "\n",
      "avg / total       0.85      0.86      0.84      2500\n",
      "\n",
      "threshold@0.2648, accuracy: 0.8412\n",
      "[[1793  218]\n",
      " [ 179  310]]\n",
      "             precision    recall  f1-score   support\n",
      "\n",
      "          0       0.91      0.89      0.90      2011\n",
      "          1       0.59      0.63      0.61       489\n",
      "\n",
      "avg / total       0.85      0.84      0.84      2500\n",
      "\n"
     ]
    },
    {
     "name": "stderr",
     "output_type": "stream",
     "text": [
      "d:\\python\\anaconda3-5.2.0\\envs\\py3_6\\lib\\site-packages\\sklearn\\metrics\\classification.py:1135: UndefinedMetricWarning: Precision and F-score are ill-defined and being set to 0.0 in labels with no predicted samples.\n",
      "  'precision', 'predicted', average, warn_for)\n"
     ]
    }
   ],
   "source": [
    "def get_model(input_dim):\n",
    "    model = Sequential()\n",
    "    # kernel_regularizer=regularizers.l2(0.005)\n",
    "    model.add(Dense(units = 64, activation = 'relu', kernel_initializer='uniform', input_dim = input_dim))\n",
    "    model.add(Dense(units = 32, activation = 'relu', kernel_initializer='uniform'))\n",
    "    model.add(Dense(units = 16, activation = 'relu', kernel_initializer='uniform'))\n",
    "    model.add(Dense(units = 1, activation = 'sigmoid', kernel_initializer='uniform'))\n",
    "    model.summary()\n",
    "    model.compile(optimizer = 'adam', loss = 'binary_crossentropy', metrics = ['accuracy'])\n",
    "    \n",
    "    return model\n",
    "\n",
    "K.clear_session()\n",
    "\n",
    "model = get_model(input_dim=tr_x_ae.shape[1])\n",
    "hist = model.fit(tr_x_ae, tr_y, validation_data=(vl_x_ae, vl_y), batch_size=100, epochs=30)\n",
    "\n",
    "plot_result(hist)\n",
    "draw_roc_curve(vl_y, model.predict(vl_x_ae))\n",
    "\n",
    "y_pred = model.predict(vl_x_ae)\n",
    "pred_dist(y_pred)\n",
    "analyze(vl_y, y_pred)"
   ]
  },
  {
   "cell_type": "code",
   "execution_count": 0,
   "metadata": {
    "colab": {},
    "colab_type": "code",
    "id": "dNzo8F8I1Nvh"
   },
   "outputs": [],
   "source": []
  }
 ],
 "metadata": {
  "accelerator": "TPU",
  "colab": {
   "collapsed_sections": [],
   "name": "model_financial_customer_churn.ipynb",
   "provenance": [],
   "toc_visible": true,
   "version": "0.3.2"
  },
  "kernelspec": {
   "display_name": "Python 3",
   "language": "python",
   "name": "python3"
  },
  "language_info": {
   "codemirror_mode": {
    "name": "ipython",
    "version": 3
   },
   "file_extension": ".py",
   "mimetype": "text/x-python",
   "name": "python",
   "nbconvert_exporter": "python",
   "pygments_lexer": "ipython3",
   "version": "3.6.6"
  }
 },
 "nbformat": 4,
 "nbformat_minor": 1
}
