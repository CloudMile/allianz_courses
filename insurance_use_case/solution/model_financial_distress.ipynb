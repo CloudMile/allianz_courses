{
 "cells": [
  {
   "cell_type": "markdown",
   "metadata": {
    "colab_type": "text",
    "id": "X6TzudIkLSb2"
   },
   "source": [
    "## Load Libs"
   ]
  },
  {
   "cell_type": "code",
   "execution_count": 1,
   "metadata": {
    "colab": {
     "base_uri": "https://localhost:8080/",
     "height": 221
    },
    "colab_type": "code",
    "executionInfo": {
     "elapsed": 3826,
     "status": "ok",
     "timestamp": 1538625947853,
     "user": {
      "displayName": "Gary Chen",
      "photoUrl": "",
      "userId": "10783188122132859162"
     },
     "user_tz": -480
    },
    "id": "_OceWebGEClz",
    "outputId": "979cfb33-6793-4122-a947-73d1bd147a91"
   },
   "outputs": [
    {
     "name": "stdout",
     "output_type": "stream",
     "text": [
      "Requirement already up-to-date: seaborn in f:\\anaconda3\\envs\\py3_6\\lib\\site-packages (0.9.0)\n",
      "Requirement already satisfied, skipping upgrade: scipy>=0.14.0 in f:\\anaconda3\\envs\\py3_6\\lib\\site-packages (from seaborn) (1.1.0)\n",
      "Requirement already satisfied, skipping upgrade: matplotlib>=1.4.3 in f:\\anaconda3\\envs\\py3_6\\lib\\site-packages (from seaborn) (3.0.0)\n",
      "Requirement already satisfied, skipping upgrade: numpy>=1.9.3 in f:\\anaconda3\\envs\\py3_6\\lib\\site-packages (from seaborn) (1.14.5)\n",
      "Requirement already satisfied, skipping upgrade: pandas>=0.15.2 in f:\\anaconda3\\envs\\py3_6\\lib\\site-packages (from seaborn) (0.23.4)\n",
      "Requirement already satisfied, skipping upgrade: pyparsing!=2.0.4,!=2.1.2,!=2.1.6,>=2.0.1 in f:\\anaconda3\\envs\\py3_6\\lib\\site-packages (from matplotlib>=1.4.3->seaborn) (2.2.1)\n",
      "Requirement already satisfied, skipping upgrade: cycler>=0.10 in f:\\anaconda3\\envs\\py3_6\\lib\\site-packages (from matplotlib>=1.4.3->seaborn) (0.10.0)\n",
      "Requirement already satisfied, skipping upgrade: kiwisolver>=1.0.1 in f:\\anaconda3\\envs\\py3_6\\lib\\site-packages (from matplotlib>=1.4.3->seaborn) (1.0.1)\n",
      "Requirement already satisfied, skipping upgrade: python-dateutil>=2.1 in f:\\anaconda3\\envs\\py3_6\\lib\\site-packages (from matplotlib>=1.4.3->seaborn) (2.7.3)\n",
      "Requirement already satisfied, skipping upgrade: pytz>=2011k in f:\\anaconda3\\envs\\py3_6\\lib\\site-packages (from pandas>=0.15.2->seaborn) (2018.5)\n",
      "Requirement already satisfied, skipping upgrade: six in f:\\anaconda3\\envs\\py3_6\\lib\\site-packages (from cycler>=0.10->matplotlib>=1.4.3->seaborn) (1.11.0)\n",
      "Requirement already satisfied, skipping upgrade: setuptools in f:\\anaconda3\\envs\\py3_6\\lib\\site-packages (from kiwisolver>=1.0.1->matplotlib>=1.4.3->seaborn) (39.1.0)\n"
     ]
    },
    {
     "name": "stderr",
     "output_type": "stream",
     "text": [
      "Using TensorFlow backend.\n"
     ]
    }
   ],
   "source": [
    "%reload_ext autoreload\n",
    "%autoreload 2\n",
    "\n",
    "!pip install seaborn --upgrade\n",
    "\n",
    "import os, sys, numpy as np, pandas as pd, tensorflow as tf, cv2\n",
    "import seaborn as sns\n",
    "import scipy.stats as stats\n",
    "\n",
    "from collections import defaultdict\n",
    "from sklearn.model_selection import train_test_split\n",
    "from sklearn.preprocessing import StandardScaler, MinMaxScaler, LabelEncoder, LabelBinarizer\n",
    "from sklearn.metrics import auc, roc_curve, f1_score, confusion_matrix, classification_report\n",
    "from sklearn.metrics import precision_recall_fscore_support, accuracy_score\n",
    "\n",
    "from matplotlib import pyplot as plt\n",
    "sns.set(style=\"white\")\n",
    "\n",
    "import keras\n",
    "from keras import backend as K\n",
    "from keras.models import Sequential, Model\n",
    "from keras.layers import Dense, BatchNormalization, Activation, Input, Dropout, Embedding, Flatten, Input\n",
    "from keras.layers import Concatenate\n",
    "from keras.optimizers import Adam, Nadam\n",
    "from keras import regularizers\n",
    "\n",
    "%matplotlib inline\n",
    "\n",
    "def plot_result(hist):\n",
    "    plt.figure(figsize=(16, 5))\n",
    "\n",
    "    # plt.subplot(1, 2, 1)\n",
    "    plt.plot(hist.history['loss'], label='tr_loss')\n",
    "    plt.plot(hist.history['val_loss'], label='vl_loss')\n",
    "    plt.title('Loss')\n",
    "\n",
    "    # plt.subplot(1, 2, 2)\n",
    "    # plt.plot(hist.history['acc'], label='acc')\n",
    "    # plt.plot(hist.history['val_acc'], label='val_acc')\n",
    "    # plt.title('Accuracy')\n",
    "\n",
    "    plt.legend(loc='best')\n",
    "    plt.show()\n",
    "    \n",
    "def draw_roc_curve(y, pred):\n",
    "    from matplotlib import pyplot as plt\n",
    "\n",
    "    fprRf, tprRf, _ = roc_curve(y, pred, pos_label=1)\n",
    "    auc_scr = auc(fprRf, tprRf)\n",
    "    print(\"auc:\", auc_scr)\n",
    "    f, ax = plt.subplots(1, 1, figsize=(6, 6))\n",
    "\n",
    "    ax.plot([0, 1], [0, 1], 'k--')\n",
    "    ax.plot(fprRf, tprRf, label='ROC CURVE')\n",
    "    ax.set_xlabel('False positive rate')\n",
    "    ax.set_ylabel('True positive rate')\n",
    "    ax.set_title('Area Under Curve(ROC) (score: {:.4f})'.format(auc_scr))\n",
    "    ax.legend(loc='best')\n",
    "    plt.show()\n",
    "    \n",
    "import financial_distress_functions as fn"
   ]
  },
  {
   "cell_type": "markdown",
   "metadata": {
    "colab_type": "text",
    "id": "qeEHBniStlgU"
   },
   "source": [
    "## Data Schema\n",
    "\n",
    "Column name     | Description\n",
    "             ---|---\n",
    "RorNumber       |    Row number\n",
    "\n",
    "---\n",
    "\n",
    "\n",
    "---\n",
    "\n"
   ]
  },
  {
   "cell_type": "markdown",
   "metadata": {
    "colab_type": "text",
    "id": "Ps1HdA6twJck"
   },
   "source": [
    "# Purpose: \n"
   ]
  },
  {
   "cell_type": "code",
   "execution_count": 2,
   "metadata": {
    "colab": {
     "base_uri": "https://localhost:8080/",
     "height": 196
    },
    "colab_type": "code",
    "executionInfo": {
     "elapsed": 1451,
     "status": "ok",
     "timestamp": 1538625951034,
     "user": {
      "displayName": "Gary Chen",
      "photoUrl": "",
      "userId": "10783188122132859162"
     },
     "user_tz": -480
    },
    "id": "_UOyp6tUECl1",
    "outputId": "6b14c68e-7fb2-4959-dfec-8d970505dc52"
   },
   "outputs": [
    {
     "data": {
      "text/html": [
       "<div>\n",
       "<style scoped>\n",
       "    .dataframe tbody tr th:only-of-type {\n",
       "        vertical-align: middle;\n",
       "    }\n",
       "\n",
       "    .dataframe tbody tr th {\n",
       "        vertical-align: top;\n",
       "    }\n",
       "\n",
       "    .dataframe thead th {\n",
       "        text-align: right;\n",
       "    }\n",
       "</style>\n",
       "<table border=\"1\" class=\"dataframe\">\n",
       "  <thead>\n",
       "    <tr style=\"text-align: right;\">\n",
       "      <th></th>\n",
       "      <th>Company</th>\n",
       "      <th>Time</th>\n",
       "      <th>distress_num</th>\n",
       "      <th>x1</th>\n",
       "      <th>x2</th>\n",
       "      <th>x3</th>\n",
       "      <th>x4</th>\n",
       "      <th>x5</th>\n",
       "      <th>x6</th>\n",
       "      <th>x7</th>\n",
       "      <th>...</th>\n",
       "      <th>x74</th>\n",
       "      <th>x75</th>\n",
       "      <th>x76</th>\n",
       "      <th>x77</th>\n",
       "      <th>x78</th>\n",
       "      <th>x79</th>\n",
       "      <th>x80</th>\n",
       "      <th>x81</th>\n",
       "      <th>x82</th>\n",
       "      <th>x83</th>\n",
       "    </tr>\n",
       "  </thead>\n",
       "  <tbody>\n",
       "    <tr>\n",
       "      <th>0</th>\n",
       "      <td>1</td>\n",
       "      <td>1</td>\n",
       "      <td>0.010636</td>\n",
       "      <td>1.28100</td>\n",
       "      <td>0.022934</td>\n",
       "      <td>0.87454</td>\n",
       "      <td>1.21640</td>\n",
       "      <td>0.060940</td>\n",
       "      <td>0.188270</td>\n",
       "      <td>0.52510</td>\n",
       "      <td>...</td>\n",
       "      <td>85.437</td>\n",
       "      <td>27.07</td>\n",
       "      <td>26.102</td>\n",
       "      <td>16.000</td>\n",
       "      <td>16.0</td>\n",
       "      <td>0.2</td>\n",
       "      <td>22</td>\n",
       "      <td>0.060390</td>\n",
       "      <td>30</td>\n",
       "      <td>49</td>\n",
       "    </tr>\n",
       "    <tr>\n",
       "      <th>1</th>\n",
       "      <td>1</td>\n",
       "      <td>2</td>\n",
       "      <td>-0.455970</td>\n",
       "      <td>1.27000</td>\n",
       "      <td>0.006454</td>\n",
       "      <td>0.82067</td>\n",
       "      <td>1.00490</td>\n",
       "      <td>-0.014080</td>\n",
       "      <td>0.181040</td>\n",
       "      <td>0.62288</td>\n",
       "      <td>...</td>\n",
       "      <td>107.090</td>\n",
       "      <td>31.31</td>\n",
       "      <td>30.194</td>\n",
       "      <td>17.000</td>\n",
       "      <td>16.0</td>\n",
       "      <td>0.4</td>\n",
       "      <td>22</td>\n",
       "      <td>0.010636</td>\n",
       "      <td>31</td>\n",
       "      <td>50</td>\n",
       "    </tr>\n",
       "    <tr>\n",
       "      <th>2</th>\n",
       "      <td>1</td>\n",
       "      <td>3</td>\n",
       "      <td>-0.325390</td>\n",
       "      <td>1.05290</td>\n",
       "      <td>-0.059379</td>\n",
       "      <td>0.92242</td>\n",
       "      <td>0.72926</td>\n",
       "      <td>0.020476</td>\n",
       "      <td>0.044865</td>\n",
       "      <td>0.43292</td>\n",
       "      <td>...</td>\n",
       "      <td>120.870</td>\n",
       "      <td>36.07</td>\n",
       "      <td>35.273</td>\n",
       "      <td>17.000</td>\n",
       "      <td>15.0</td>\n",
       "      <td>-0.2</td>\n",
       "      <td>22</td>\n",
       "      <td>-0.455970</td>\n",
       "      <td>32</td>\n",
       "      <td>51</td>\n",
       "    </tr>\n",
       "    <tr>\n",
       "      <th>3</th>\n",
       "      <td>1</td>\n",
       "      <td>4</td>\n",
       "      <td>-0.566570</td>\n",
       "      <td>1.11310</td>\n",
       "      <td>-0.015229</td>\n",
       "      <td>0.85888</td>\n",
       "      <td>0.80974</td>\n",
       "      <td>0.076037</td>\n",
       "      <td>0.091033</td>\n",
       "      <td>0.67546</td>\n",
       "      <td>...</td>\n",
       "      <td>54.806</td>\n",
       "      <td>39.80</td>\n",
       "      <td>38.377</td>\n",
       "      <td>17.167</td>\n",
       "      <td>16.0</td>\n",
       "      <td>5.6</td>\n",
       "      <td>22</td>\n",
       "      <td>-0.325390</td>\n",
       "      <td>33</td>\n",
       "      <td>52</td>\n",
       "    </tr>\n",
       "    <tr>\n",
       "      <th>4</th>\n",
       "      <td>2</td>\n",
       "      <td>1</td>\n",
       "      <td>1.357300</td>\n",
       "      <td>1.06230</td>\n",
       "      <td>0.107020</td>\n",
       "      <td>0.81460</td>\n",
       "      <td>0.83593</td>\n",
       "      <td>0.199960</td>\n",
       "      <td>0.047800</td>\n",
       "      <td>0.74200</td>\n",
       "      <td>...</td>\n",
       "      <td>85.437</td>\n",
       "      <td>27.07</td>\n",
       "      <td>26.102</td>\n",
       "      <td>16.000</td>\n",
       "      <td>16.0</td>\n",
       "      <td>0.2</td>\n",
       "      <td>29</td>\n",
       "      <td>1.251000</td>\n",
       "      <td>7</td>\n",
       "      <td>27</td>\n",
       "    </tr>\n",
       "    <tr>\n",
       "      <th>5</th>\n",
       "      <td>2</td>\n",
       "      <td>2</td>\n",
       "      <td>0.007188</td>\n",
       "      <td>1.05580</td>\n",
       "      <td>0.081916</td>\n",
       "      <td>0.87949</td>\n",
       "      <td>0.68673</td>\n",
       "      <td>0.142630</td>\n",
       "      <td>0.043102</td>\n",
       "      <td>0.77198</td>\n",
       "      <td>...</td>\n",
       "      <td>107.090</td>\n",
       "      <td>31.31</td>\n",
       "      <td>30.194</td>\n",
       "      <td>17.000</td>\n",
       "      <td>16.0</td>\n",
       "      <td>0.4</td>\n",
       "      <td>29</td>\n",
       "      <td>1.357300</td>\n",
       "      <td>8</td>\n",
       "      <td>28</td>\n",
       "    </tr>\n",
       "    <tr>\n",
       "      <th>6</th>\n",
       "      <td>2</td>\n",
       "      <td>3</td>\n",
       "      <td>1.200200</td>\n",
       "      <td>0.97059</td>\n",
       "      <td>0.076064</td>\n",
       "      <td>0.90677</td>\n",
       "      <td>0.80980</td>\n",
       "      <td>0.165920</td>\n",
       "      <td>-0.024649</td>\n",
       "      <td>0.73660</td>\n",
       "      <td>...</td>\n",
       "      <td>120.870</td>\n",
       "      <td>36.07</td>\n",
       "      <td>35.273</td>\n",
       "      <td>17.000</td>\n",
       "      <td>15.0</td>\n",
       "      <td>-0.2</td>\n",
       "      <td>29</td>\n",
       "      <td>0.007188</td>\n",
       "      <td>9</td>\n",
       "      <td>29</td>\n",
       "    </tr>\n",
       "    <tr>\n",
       "      <th>7</th>\n",
       "      <td>2</td>\n",
       "      <td>4</td>\n",
       "      <td>2.234800</td>\n",
       "      <td>1.05900</td>\n",
       "      <td>0.130200</td>\n",
       "      <td>0.81811</td>\n",
       "      <td>0.87599</td>\n",
       "      <td>0.234450</td>\n",
       "      <td>0.045576</td>\n",
       "      <td>0.78727</td>\n",
       "      <td>...</td>\n",
       "      <td>54.806</td>\n",
       "      <td>39.80</td>\n",
       "      <td>38.377</td>\n",
       "      <td>17.167</td>\n",
       "      <td>16.0</td>\n",
       "      <td>5.6</td>\n",
       "      <td>29</td>\n",
       "      <td>1.200200</td>\n",
       "      <td>10</td>\n",
       "      <td>30</td>\n",
       "    </tr>\n",
       "    <tr>\n",
       "      <th>8</th>\n",
       "      <td>2</td>\n",
       "      <td>5</td>\n",
       "      <td>1.340500</td>\n",
       "      <td>1.12450</td>\n",
       "      <td>0.147840</td>\n",
       "      <td>0.75871</td>\n",
       "      <td>1.07990</td>\n",
       "      <td>0.276440</td>\n",
       "      <td>0.089408</td>\n",
       "      <td>0.80356</td>\n",
       "      <td>...</td>\n",
       "      <td>59.806</td>\n",
       "      <td>44.53</td>\n",
       "      <td>42.822</td>\n",
       "      <td>15.500</td>\n",
       "      <td>14.0</td>\n",
       "      <td>2.1</td>\n",
       "      <td>29</td>\n",
       "      <td>2.234800</td>\n",
       "      <td>11</td>\n",
       "      <td>31</td>\n",
       "    </tr>\n",
       "    <tr>\n",
       "      <th>9</th>\n",
       "      <td>2</td>\n",
       "      <td>6</td>\n",
       "      <td>2.047400</td>\n",
       "      <td>1.59980</td>\n",
       "      <td>0.262460</td>\n",
       "      <td>0.54615</td>\n",
       "      <td>1.31270</td>\n",
       "      <td>0.369480</td>\n",
       "      <td>0.296640</td>\n",
       "      <td>0.85364</td>\n",
       "      <td>...</td>\n",
       "      <td>66.262</td>\n",
       "      <td>52.74</td>\n",
       "      <td>49.206</td>\n",
       "      <td>15.500</td>\n",
       "      <td>12.0</td>\n",
       "      <td>-6.4</td>\n",
       "      <td>29</td>\n",
       "      <td>1.340500</td>\n",
       "      <td>12</td>\n",
       "      <td>32</td>\n",
       "    </tr>\n",
       "  </tbody>\n",
       "</table>\n",
       "<p>10 rows × 86 columns</p>\n",
       "</div>"
      ],
      "text/plain": [
       "   Company  Time  distress_num       x1        x2       x3       x4        x5  \\\n",
       "0        1     1      0.010636  1.28100  0.022934  0.87454  1.21640  0.060940   \n",
       "1        1     2     -0.455970  1.27000  0.006454  0.82067  1.00490 -0.014080   \n",
       "2        1     3     -0.325390  1.05290 -0.059379  0.92242  0.72926  0.020476   \n",
       "3        1     4     -0.566570  1.11310 -0.015229  0.85888  0.80974  0.076037   \n",
       "4        2     1      1.357300  1.06230  0.107020  0.81460  0.83593  0.199960   \n",
       "5        2     2      0.007188  1.05580  0.081916  0.87949  0.68673  0.142630   \n",
       "6        2     3      1.200200  0.97059  0.076064  0.90677  0.80980  0.165920   \n",
       "7        2     4      2.234800  1.05900  0.130200  0.81811  0.87599  0.234450   \n",
       "8        2     5      1.340500  1.12450  0.147840  0.75871  1.07990  0.276440   \n",
       "9        2     6      2.047400  1.59980  0.262460  0.54615  1.31270  0.369480   \n",
       "\n",
       "         x6       x7 ...       x74    x75     x76     x77   x78  x79  x80  \\\n",
       "0  0.188270  0.52510 ...    85.437  27.07  26.102  16.000  16.0  0.2   22   \n",
       "1  0.181040  0.62288 ...   107.090  31.31  30.194  17.000  16.0  0.4   22   \n",
       "2  0.044865  0.43292 ...   120.870  36.07  35.273  17.000  15.0 -0.2   22   \n",
       "3  0.091033  0.67546 ...    54.806  39.80  38.377  17.167  16.0  5.6   22   \n",
       "4  0.047800  0.74200 ...    85.437  27.07  26.102  16.000  16.0  0.2   29   \n",
       "5  0.043102  0.77198 ...   107.090  31.31  30.194  17.000  16.0  0.4   29   \n",
       "6 -0.024649  0.73660 ...   120.870  36.07  35.273  17.000  15.0 -0.2   29   \n",
       "7  0.045576  0.78727 ...    54.806  39.80  38.377  17.167  16.0  5.6   29   \n",
       "8  0.089408  0.80356 ...    59.806  44.53  42.822  15.500  14.0  2.1   29   \n",
       "9  0.296640  0.85364 ...    66.262  52.74  49.206  15.500  12.0 -6.4   29   \n",
       "\n",
       "        x81  x82  x83  \n",
       "0  0.060390   30   49  \n",
       "1  0.010636   31   50  \n",
       "2 -0.455970   32   51  \n",
       "3 -0.325390   33   52  \n",
       "4  1.251000    7   27  \n",
       "5  1.357300    8   28  \n",
       "6  0.007188    9   29  \n",
       "7  1.200200   10   30  \n",
       "8  2.234800   11   31  \n",
       "9  1.340500   12   32  \n",
       "\n",
       "[10 rows x 86 columns]"
      ]
     },
     "execution_count": 2,
     "metadata": {},
     "output_type": "execute_result"
    }
   ],
   "source": [
    "# raw = pd.read_csv(\"https://storage.googleapis.com/allianz-course/data/raw_tr_financial_churn.csv\")\n",
    "# raw_vl = pd.read_csv(\"https://storage.googleapis.com/allianz-course/data/raw_vl_financial_churn.csv\")\n",
    "# raw.head()\n",
    "raw = pd.read_csv('https://storage.googleapis.com/allianz-course/data/raw_financial_distess.csv').rename(columns={'Financial Distress': 'distress_num'})\n",
    "raw.head(10)"
   ]
  },
  {
   "cell_type": "markdown",
   "metadata": {
    "colab_type": "text",
    "id": "xoyVZct4tpFa"
   },
   "source": [
    "## Features setting"
   ]
  },
  {
   "cell_type": "code",
   "execution_count": 35,
   "metadata": {
    "colab": {},
    "colab_type": "code",
    "id": "plpAXiiatNgD"
   },
   "outputs": [],
   "source": [
    "catg_features = ['Company', 'x80'] # 'Company', \n",
    "num_features = [f'x{i}' for i in range(1, 84) if i != 80]\n",
    "# embedding_features = catg_features + ['binn_tenure', 'binn_MonthlyCharges', 'binn_TotalCharges']\n",
    "label = 'distress_catg'"
   ]
  },
  {
   "cell_type": "markdown",
   "metadata": {
    "colab_type": "text",
    "id": "GchbLNAmQaJo"
   },
   "source": [
    "<br/>\n",
    "\n",
    "---\n",
    "\n"
   ]
  },
  {
   "cell_type": "code",
   "execution_count": 5,
   "metadata": {},
   "outputs": [
    {
     "data": {
      "text/html": [
       "<div>\n",
       "<style scoped>\n",
       "    .dataframe tbody tr th:only-of-type {\n",
       "        vertical-align: middle;\n",
       "    }\n",
       "\n",
       "    .dataframe tbody tr th {\n",
       "        vertical-align: top;\n",
       "    }\n",
       "\n",
       "    .dataframe thead th {\n",
       "        text-align: right;\n",
       "    }\n",
       "</style>\n",
       "<table border=\"1\" class=\"dataframe\">\n",
       "  <thead>\n",
       "    <tr style=\"text-align: right;\">\n",
       "      <th></th>\n",
       "      <th>Company</th>\n",
       "      <th>Time</th>\n",
       "      <th>distress_num</th>\n",
       "      <th>x1</th>\n",
       "      <th>x2</th>\n",
       "      <th>x3</th>\n",
       "      <th>x4</th>\n",
       "      <th>x5</th>\n",
       "      <th>x6</th>\n",
       "      <th>x7</th>\n",
       "      <th>...</th>\n",
       "      <th>x75</th>\n",
       "      <th>x76</th>\n",
       "      <th>x77</th>\n",
       "      <th>x78</th>\n",
       "      <th>x79</th>\n",
       "      <th>x80</th>\n",
       "      <th>x81</th>\n",
       "      <th>x82</th>\n",
       "      <th>x83</th>\n",
       "      <th>distress_catg</th>\n",
       "    </tr>\n",
       "  </thead>\n",
       "  <tbody>\n",
       "    <tr>\n",
       "      <th>0</th>\n",
       "      <td>1</td>\n",
       "      <td>1</td>\n",
       "      <td>0.010636</td>\n",
       "      <td>1.2810</td>\n",
       "      <td>0.022934</td>\n",
       "      <td>0.87454</td>\n",
       "      <td>1.21640</td>\n",
       "      <td>0.060940</td>\n",
       "      <td>0.188270</td>\n",
       "      <td>0.52510</td>\n",
       "      <td>...</td>\n",
       "      <td>27.07</td>\n",
       "      <td>26.102</td>\n",
       "      <td>16.000</td>\n",
       "      <td>16.0</td>\n",
       "      <td>0.2</td>\n",
       "      <td>22</td>\n",
       "      <td>0.060390</td>\n",
       "      <td>30</td>\n",
       "      <td>49</td>\n",
       "      <td>0</td>\n",
       "    </tr>\n",
       "    <tr>\n",
       "      <th>1</th>\n",
       "      <td>1</td>\n",
       "      <td>2</td>\n",
       "      <td>-0.455970</td>\n",
       "      <td>1.2700</td>\n",
       "      <td>0.006454</td>\n",
       "      <td>0.82067</td>\n",
       "      <td>1.00490</td>\n",
       "      <td>-0.014080</td>\n",
       "      <td>0.181040</td>\n",
       "      <td>0.62288</td>\n",
       "      <td>...</td>\n",
       "      <td>31.31</td>\n",
       "      <td>30.194</td>\n",
       "      <td>17.000</td>\n",
       "      <td>16.0</td>\n",
       "      <td>0.4</td>\n",
       "      <td>22</td>\n",
       "      <td>0.010636</td>\n",
       "      <td>31</td>\n",
       "      <td>50</td>\n",
       "      <td>0</td>\n",
       "    </tr>\n",
       "    <tr>\n",
       "      <th>2</th>\n",
       "      <td>1</td>\n",
       "      <td>3</td>\n",
       "      <td>-0.325390</td>\n",
       "      <td>1.0529</td>\n",
       "      <td>-0.059379</td>\n",
       "      <td>0.92242</td>\n",
       "      <td>0.72926</td>\n",
       "      <td>0.020476</td>\n",
       "      <td>0.044865</td>\n",
       "      <td>0.43292</td>\n",
       "      <td>...</td>\n",
       "      <td>36.07</td>\n",
       "      <td>35.273</td>\n",
       "      <td>17.000</td>\n",
       "      <td>15.0</td>\n",
       "      <td>-0.2</td>\n",
       "      <td>22</td>\n",
       "      <td>-0.455970</td>\n",
       "      <td>32</td>\n",
       "      <td>51</td>\n",
       "      <td>0</td>\n",
       "    </tr>\n",
       "    <tr>\n",
       "      <th>3</th>\n",
       "      <td>1</td>\n",
       "      <td>4</td>\n",
       "      <td>-0.566570</td>\n",
       "      <td>1.1131</td>\n",
       "      <td>-0.015229</td>\n",
       "      <td>0.85888</td>\n",
       "      <td>0.80974</td>\n",
       "      <td>0.076037</td>\n",
       "      <td>0.091033</td>\n",
       "      <td>0.67546</td>\n",
       "      <td>...</td>\n",
       "      <td>39.80</td>\n",
       "      <td>38.377</td>\n",
       "      <td>17.167</td>\n",
       "      <td>16.0</td>\n",
       "      <td>5.6</td>\n",
       "      <td>22</td>\n",
       "      <td>-0.325390</td>\n",
       "      <td>33</td>\n",
       "      <td>52</td>\n",
       "      <td>1</td>\n",
       "    </tr>\n",
       "    <tr>\n",
       "      <th>4</th>\n",
       "      <td>2</td>\n",
       "      <td>1</td>\n",
       "      <td>1.357300</td>\n",
       "      <td>1.0623</td>\n",
       "      <td>0.107020</td>\n",
       "      <td>0.81460</td>\n",
       "      <td>0.83593</td>\n",
       "      <td>0.199960</td>\n",
       "      <td>0.047800</td>\n",
       "      <td>0.74200</td>\n",
       "      <td>...</td>\n",
       "      <td>27.07</td>\n",
       "      <td>26.102</td>\n",
       "      <td>16.000</td>\n",
       "      <td>16.0</td>\n",
       "      <td>0.2</td>\n",
       "      <td>29</td>\n",
       "      <td>1.251000</td>\n",
       "      <td>7</td>\n",
       "      <td>27</td>\n",
       "      <td>0</td>\n",
       "    </tr>\n",
       "  </tbody>\n",
       "</table>\n",
       "<p>5 rows × 87 columns</p>\n",
       "</div>"
      ],
      "text/plain": [
       "   Company  Time  distress_num      x1        x2       x3       x4        x5  \\\n",
       "0        1     1      0.010636  1.2810  0.022934  0.87454  1.21640  0.060940   \n",
       "1        1     2     -0.455970  1.2700  0.006454  0.82067  1.00490 -0.014080   \n",
       "2        1     3     -0.325390  1.0529 -0.059379  0.92242  0.72926  0.020476   \n",
       "3        1     4     -0.566570  1.1131 -0.015229  0.85888  0.80974  0.076037   \n",
       "4        2     1      1.357300  1.0623  0.107020  0.81460  0.83593  0.199960   \n",
       "\n",
       "         x6       x7      ...          x75     x76     x77   x78  x79  x80  \\\n",
       "0  0.188270  0.52510      ...        27.07  26.102  16.000  16.0  0.2   22   \n",
       "1  0.181040  0.62288      ...        31.31  30.194  17.000  16.0  0.4   22   \n",
       "2  0.044865  0.43292      ...        36.07  35.273  17.000  15.0 -0.2   22   \n",
       "3  0.091033  0.67546      ...        39.80  38.377  17.167  16.0  5.6   22   \n",
       "4  0.047800  0.74200      ...        27.07  26.102  16.000  16.0  0.2   29   \n",
       "\n",
       "        x81  x82  x83  distress_catg  \n",
       "0  0.060390   30   49              0  \n",
       "1  0.010636   31   50              0  \n",
       "2 -0.455970   32   51              0  \n",
       "3 -0.325390   33   52              1  \n",
       "4  1.251000    7   27              0  \n",
       "\n",
       "[5 rows x 87 columns]"
      ]
     },
     "execution_count": 5,
     "metadata": {},
     "output_type": "execute_result"
    }
   ],
   "source": [
    "# Rolling mean\n",
    "# raw['rolling_mean'] = (raw.groupby('Company', group_keys=False)\n",
    "#                           .apply(lambda pipe: pipe['distress_num'].rolling(window=3).mean().fillna(0))\n",
    "#                           .values)\n",
    "\n",
    "# Split train valid\n",
    "def split_fn(pipe):\n",
    "    lens = len(pipe)\n",
    "    ret = np.ones(lens)\n",
    "    if lens >= 5:\n",
    "        split_size = int(lens * 0.36)\n",
    "        ret[-split_size:] = 0\n",
    "    return ret\n",
    "\n",
    "raw['distress_catg'] = (raw.distress_num <= -0.5).astype(int)\n",
    "raw['is_train'] = np.concatenate(raw.groupby('Company').apply(split_fn).values)\n",
    "raw_vl = raw.query(\"is_train == 0\").drop('is_train', 1)\n",
    "raw = raw.query(\"is_train == 1\").drop('is_train', 1)\n",
    "raw.head()"
   ]
  },
  {
   "cell_type": "code",
   "execution_count": 6,
   "metadata": {},
   "outputs": [],
   "source": [
    "raw.to_csv('../data/raw_tr_financial_distree.csv', index=False)\n",
    "raw_vl.to_csv('../data/raw_vl_financial_distree.csv', index=False)"
   ]
  },
  {
   "cell_type": "code",
   "execution_count": 7,
   "metadata": {
    "scrolled": true
   },
   "outputs": [
    {
     "data": {
      "text/plain": [
       "distress_num    1.000000\n",
       "x25             0.302677\n",
       "x48             0.395974\n",
       "x81             0.385780\n",
       "Name: distress_num, dtype: float64"
      ]
     },
     "execution_count": 7,
     "metadata": {},
     "output_type": "execute_result"
    }
   ],
   "source": [
    "corr = raw.corr()\n",
    "corr['distress_num'][(corr['distress_num'] <= -0.3) | (corr['distress_num'] >= 0.3)]"
   ]
  },
  {
   "cell_type": "markdown",
   "metadata": {
    "colab_type": "text",
    "id": "oCud9-1Esa6S"
   },
   "source": [
    "## Base Feature Preprocessing\n",
    "\n",
    "* Normalize ofr numeric features\n",
    "* One Hot Encoding for categorical features"
   ]
  },
  {
   "cell_type": "code",
   "execution_count": 38,
   "metadata": {},
   "outputs": [],
   "source": [
    "def feature_engineering(raw, is_train=True, status=None):\n",
    "    data = raw.copy()\n",
    "    \n",
    "    if is_train:\n",
    "        status = {'scaler': None, \n",
    "                  'mapper': defaultdict(LabelBinarizer),\n",
    "                  'woe_mapper': {},\n",
    "                  'binn_mapper': {},\n",
    "                  'freq_mapper': {},\n",
    "                  'mean_mapper': {}}\n",
    "\n",
    "    catg_ftrs = catg_features.copy()\n",
    "        \n",
    "    # Numeric binning to categorical features\n",
    "    do_binning(catg_ftrs, status, data, is_train)\n",
    "    # -----------------------------------------------------------------------------------------\n",
    "\n",
    "    catg_part = pd.DataFrame()\n",
    "    \n",
    "    # One Hot Encoding\n",
    "    # catg_part = pd.get_dummies(data[catg_ftrs])\n",
    "    # do_onehot(catg_ftrs, catg_part, status, data, is_train)\n",
    "    # -----------------------------------------------------------------------------------------\n",
    "\n",
    "    # Embedding, simple indexing categorical features, actual embedding function in keras\n",
    "    do_embedding(catg_ftrs, catg_part, status, data, is_train)\n",
    "    # -----------------------------------------------------------------------------------------\n",
    "\n",
    "    # WOE encoding\n",
    "    do_woe_encoding(catg_ftrs, catg_part, status, data, is_train)\n",
    "    # -----------------------------------------------------------------------------------------\n",
    "\n",
    "    # Frequency encoding, target mean encoding\n",
    "    do_target_encoding(catg_ftrs, catg_part, status, data, is_train)\n",
    "    # -----------------------------------------------------------------------------------------\n",
    "\n",
    "    # Normalize\n",
    "    num_part = do_norm(num_features, status, data, is_train)\n",
    "    # -----------------------------------------------------------------------------------------\n",
    "    \n",
    "    # Merge categorical, numeric features\n",
    "    data_x, data_y = pd.concat([catg_part, num_part], 1), data['distress_catg'].copy()\n",
    "    \n",
    "    # Include quadratic term, cube term\n",
    "    do_nth_order_polynominal(num_features, data_x)\n",
    "    # ----------------------------------------------------------------------------------------- \n",
    "    # todo hack\n",
    "    # data_x['distress_num'] = data['distress_num'].values\n",
    "    return data_x, data_y, status\n",
    "\n",
    "\n",
    "do_binning = fn.do_binning\n",
    "do_onehot = fn.do_onehot\n",
    "do_embedding = fn.do_embedding\n",
    "do_woe_encoding = fn.do_woe_encoding\n",
    "do_target_encoding = fn.do_target_encoding\n",
    "do_norm = fn.do_norm\n",
    "do_nth_order_polynominal = fn.do_nth_order_polynominal"
   ]
  },
  {
   "cell_type": "markdown",
   "metadata": {},
   "source": [
    "## Functions of Features Processing"
   ]
  },
  {
   "cell_type": "code",
   "execution_count": null,
   "metadata": {},
   "outputs": [],
   "source": [
    "# def do_binning(catg_ftrs, status, data, is_train):\n",
    "#     pass\n",
    "\n",
    "# def do_onehot(catg_ftrs, catg_part, status, data, is_train):\n",
    "#     mapper = status['mapper']\n",
    "#     tmp = []\n",
    "#     for catg_col in catg_ftrs:\n",
    "#         if is_train:\n",
    "#             result = mapper[catg_col].fit_transform(data[catg_col])\n",
    "#         else:\n",
    "#             result = mapper[catg_col].transform(data[catg_col])\n",
    "\n",
    "#         columns = [f'{catg_col}_{col}' for col in mapper[catg_col].classes_]\n",
    "#         if result.shape[1] == 1:\n",
    "#             columns = columns[:1]\n",
    "#         tmp.append(pd.DataFrame(data=result, columns=columns))\n",
    "#     tmp = pd.concat(tmp, 1)\n",
    "#     for col in tmp:\n",
    "#         catg_part[col] = tmp[col]\n",
    "#     pass\n",
    "\n",
    "# def do_woe_encoding(catg_ftrs, catg_part, status, data, is_train):\n",
    "#     pass\n",
    "\n",
    "# def do_target_encoding(catg_ftrs, catg_part, status, data, is_train):\n",
    "#     pass\n",
    "\n",
    "# def do_norm(num_features, status, data, is_train):\n",
    "#     num_part = data[num_features].copy()\n",
    "#     if is_train:\n",
    "#         scaler = StandardScaler()\n",
    "#         status['scaler'] = scaler\n",
    "#         num_part = pd.DataFrame(data=scaler.fit_transform(num_part), columns=num_part.columns)\n",
    "#     else:\n",
    "#         scaler = status['scaler']\n",
    "#         num_part = pd.DataFrame(data=scaler.transform(num_part), columns=num_part.columns)\n",
    "#     return num_part\n",
    "#     pass\n",
    "\n",
    "# def do_nth_order_polynominal(num_features, data):\n",
    "#     pass"
   ]
  },
  {
   "cell_type": "code",
   "execution_count": 27,
   "metadata": {
    "colab": {
     "base_uri": "https://localhost:8080/",
     "height": 233
    },
    "colab_type": "code",
    "executionInfo": {
     "elapsed": 629,
     "status": "ok",
     "timestamp": 1538622762380,
     "user": {
      "displayName": "Gary Chen",
      "photoUrl": "",
      "userId": "10783188122132859162"
     },
     "user_tz": -480
    },
    "id": "udNVad7usaNe",
    "outputId": "22eba0e1-e10a-4822-d26a-af193fdf0362",
    "scrolled": true
   },
   "outputs": [
    {
     "name": "stdout",
     "output_type": "stream",
     "text": [
      "(2557, 121) (1115, 121)\n"
     ]
    },
    {
     "data": {
      "text/html": [
       "<div>\n",
       "<style scoped>\n",
       "    .dataframe tbody tr th:only-of-type {\n",
       "        vertical-align: middle;\n",
       "    }\n",
       "\n",
       "    .dataframe tbody tr th {\n",
       "        vertical-align: top;\n",
       "    }\n",
       "\n",
       "    .dataframe thead th {\n",
       "        text-align: right;\n",
       "    }\n",
       "</style>\n",
       "<table border=\"1\" class=\"dataframe\">\n",
       "  <thead>\n",
       "    <tr style=\"text-align: right;\">\n",
       "      <th></th>\n",
       "      <th>x80_1</th>\n",
       "      <th>x80_2</th>\n",
       "      <th>x80_3</th>\n",
       "      <th>x80_4</th>\n",
       "      <th>x80_5</th>\n",
       "      <th>x80_6</th>\n",
       "      <th>x80_7</th>\n",
       "      <th>x80_8</th>\n",
       "      <th>x80_9</th>\n",
       "      <th>x80_10</th>\n",
       "      <th>...</th>\n",
       "      <th>x73</th>\n",
       "      <th>x74</th>\n",
       "      <th>x75</th>\n",
       "      <th>x76</th>\n",
       "      <th>x77</th>\n",
       "      <th>x78</th>\n",
       "      <th>x79</th>\n",
       "      <th>x81</th>\n",
       "      <th>x82</th>\n",
       "      <th>x83</th>\n",
       "    </tr>\n",
       "  </thead>\n",
       "  <tbody>\n",
       "    <tr>\n",
       "      <th>0</th>\n",
       "      <td>0</td>\n",
       "      <td>0</td>\n",
       "      <td>0</td>\n",
       "      <td>0</td>\n",
       "      <td>0</td>\n",
       "      <td>0</td>\n",
       "      <td>0</td>\n",
       "      <td>0</td>\n",
       "      <td>0</td>\n",
       "      <td>0</td>\n",
       "      <td>...</td>\n",
       "      <td>1.281644</td>\n",
       "      <td>0.016187</td>\n",
       "      <td>-0.808312</td>\n",
       "      <td>-0.771575</td>\n",
       "      <td>-0.650523</td>\n",
       "      <td>0.694434</td>\n",
       "      <td>0.276039</td>\n",
       "      <td>-0.305815</td>\n",
       "      <td>2.179313</td>\n",
       "      <td>1.366050</td>\n",
       "    </tr>\n",
       "    <tr>\n",
       "      <th>1</th>\n",
       "      <td>0</td>\n",
       "      <td>0</td>\n",
       "      <td>0</td>\n",
       "      <td>0</td>\n",
       "      <td>0</td>\n",
       "      <td>0</td>\n",
       "      <td>0</td>\n",
       "      <td>0</td>\n",
       "      <td>0</td>\n",
       "      <td>0</td>\n",
       "      <td>...</td>\n",
       "      <td>1.281644</td>\n",
       "      <td>1.141300</td>\n",
       "      <td>-0.713097</td>\n",
       "      <td>-0.678267</td>\n",
       "      <td>0.046342</td>\n",
       "      <td>0.694434</td>\n",
       "      <td>0.307733</td>\n",
       "      <td>-0.322732</td>\n",
       "      <td>2.293469</td>\n",
       "      <td>1.441194</td>\n",
       "    </tr>\n",
       "    <tr>\n",
       "      <th>2</th>\n",
       "      <td>0</td>\n",
       "      <td>0</td>\n",
       "      <td>0</td>\n",
       "      <td>0</td>\n",
       "      <td>0</td>\n",
       "      <td>0</td>\n",
       "      <td>0</td>\n",
       "      <td>0</td>\n",
       "      <td>0</td>\n",
       "      <td>0</td>\n",
       "      <td>...</td>\n",
       "      <td>1.011921</td>\n",
       "      <td>1.857324</td>\n",
       "      <td>-0.606205</td>\n",
       "      <td>-0.562452</td>\n",
       "      <td>0.046342</td>\n",
       "      <td>0.229868</td>\n",
       "      <td>0.212650</td>\n",
       "      <td>-0.481388</td>\n",
       "      <td>2.407624</td>\n",
       "      <td>1.516338</td>\n",
       "    </tr>\n",
       "    <tr>\n",
       "      <th>3</th>\n",
       "      <td>0</td>\n",
       "      <td>0</td>\n",
       "      <td>0</td>\n",
       "      <td>0</td>\n",
       "      <td>0</td>\n",
       "      <td>0</td>\n",
       "      <td>0</td>\n",
       "      <td>0</td>\n",
       "      <td>0</td>\n",
       "      <td>0</td>\n",
       "      <td>...</td>\n",
       "      <td>0.472477</td>\n",
       "      <td>-1.575433</td>\n",
       "      <td>-0.522443</td>\n",
       "      <td>-0.491673</td>\n",
       "      <td>0.162718</td>\n",
       "      <td>0.694434</td>\n",
       "      <td>1.131785</td>\n",
       "      <td>-0.436988</td>\n",
       "      <td>2.521780</td>\n",
       "      <td>1.591482</td>\n",
       "    </tr>\n",
       "    <tr>\n",
       "      <th>4</th>\n",
       "      <td>0</td>\n",
       "      <td>0</td>\n",
       "      <td>0</td>\n",
       "      <td>0</td>\n",
       "      <td>0</td>\n",
       "      <td>0</td>\n",
       "      <td>0</td>\n",
       "      <td>0</td>\n",
       "      <td>0</td>\n",
       "      <td>0</td>\n",
       "      <td>...</td>\n",
       "      <td>1.281644</td>\n",
       "      <td>0.016187</td>\n",
       "      <td>-0.808312</td>\n",
       "      <td>-0.771575</td>\n",
       "      <td>-0.650523</td>\n",
       "      <td>0.694434</td>\n",
       "      <td>0.276039</td>\n",
       "      <td>0.099018</td>\n",
       "      <td>-0.446265</td>\n",
       "      <td>-0.287116</td>\n",
       "    </tr>\n",
       "  </tbody>\n",
       "</table>\n",
       "<p>5 rows × 121 columns</p>\n",
       "</div>"
      ],
      "text/plain": [
       "   x80_1  x80_2  x80_3  x80_4  x80_5  x80_6  x80_7  x80_8  x80_9  x80_10  \\\n",
       "0      0      0      0      0      0      0      0      0      0       0   \n",
       "1      0      0      0      0      0      0      0      0      0       0   \n",
       "2      0      0      0      0      0      0      0      0      0       0   \n",
       "3      0      0      0      0      0      0      0      0      0       0   \n",
       "4      0      0      0      0      0      0      0      0      0       0   \n",
       "\n",
       "     ...          x73       x74       x75       x76       x77       x78  \\\n",
       "0    ...     1.281644  0.016187 -0.808312 -0.771575 -0.650523  0.694434   \n",
       "1    ...     1.281644  1.141300 -0.713097 -0.678267  0.046342  0.694434   \n",
       "2    ...     1.011921  1.857324 -0.606205 -0.562452  0.046342  0.229868   \n",
       "3    ...     0.472477 -1.575433 -0.522443 -0.491673  0.162718  0.694434   \n",
       "4    ...     1.281644  0.016187 -0.808312 -0.771575 -0.650523  0.694434   \n",
       "\n",
       "        x79       x81       x82       x83  \n",
       "0  0.276039 -0.305815  2.179313  1.366050  \n",
       "1  0.307733 -0.322732  2.293469  1.441194  \n",
       "2  0.212650 -0.481388  2.407624  1.516338  \n",
       "3  1.131785 -0.436988  2.521780  1.591482  \n",
       "4  0.276039  0.099018 -0.446265 -0.287116  \n",
       "\n",
       "[5 rows x 121 columns]"
      ]
     },
     "execution_count": 27,
     "metadata": {},
     "output_type": "execute_result"
    }
   ],
   "source": [
    "# Trnasform raw data to foramt model recognized\n",
    "tr_x, tr_y, status = feature_engineering(raw, is_train=True)\n",
    "vl_x, vl_y, _ = feature_engineering(raw_vl, is_train=False, status=status)\n",
    "\n",
    "print( tr_x.shape, vl_x.shape )\n",
    "tr_x.head()"
   ]
  },
  {
   "cell_type": "markdown",
   "metadata": {
    "colab_type": "text",
    "id": "52CvQZa1t2A7"
   },
   "source": [
    "## Model on Base Featue Engineering"
   ]
  },
  {
   "cell_type": "code",
   "execution_count": 34,
   "metadata": {
    "colab": {
     "base_uri": "https://localhost:8080/",
     "height": 1575
    },
    "colab_type": "code",
    "executionInfo": {
     "elapsed": 4037,
     "status": "ok",
     "timestamp": 1538621868067,
     "user": {
      "displayName": "Gary Chen",
      "photoUrl": "",
      "userId": "10783188122132859162"
     },
     "user_tz": -480
    },
    "id": "SMJbH52ot1aD",
    "outputId": "70f5e5a7-4dc3-4269-f928-8c97c08f1598",
    "scrolled": true
   },
   "outputs": [
    {
     "name": "stdout",
     "output_type": "stream",
     "text": [
      "_________________________________________________________________\n",
      "Layer (type)                 Output Shape              Param #   \n",
      "=================================================================\n",
      "dense_1 (Dense)              (None, 64)                7808      \n",
      "_________________________________________________________________\n",
      "dropout_1 (Dropout)          (None, 64)                0         \n",
      "_________________________________________________________________\n",
      "dense_2 (Dense)              (None, 32)                2080      \n",
      "_________________________________________________________________\n",
      "dropout_2 (Dropout)          (None, 32)                0         \n",
      "_________________________________________________________________\n",
      "dense_3 (Dense)              (None, 16)                528       \n",
      "_________________________________________________________________\n",
      "dropout_3 (Dropout)          (None, 16)                0         \n",
      "_________________________________________________________________\n",
      "dense_4 (Dense)              (None, 1)                 17        \n",
      "=================================================================\n",
      "Total params: 10,433\n",
      "Trainable params: 10,433\n",
      "Non-trainable params: 0\n",
      "_________________________________________________________________\n",
      "Train on 2557 samples, validate on 1115 samples\n",
      "Epoch 1/20\n",
      "2557/2557 [==============================] - 1s 231us/step - loss: 1.2953 - acc: 0.5788 - val_loss: 0.6629 - val_acc: 0.6511\n",
      "Epoch 2/20\n",
      "2557/2557 [==============================] - 0s 54us/step - loss: 0.8386 - acc: 0.6961 - val_loss: 0.4399 - val_acc: 0.8161\n",
      "Epoch 3/20\n",
      "2557/2557 [==============================] - 0s 52us/step - loss: 0.5670 - acc: 0.7833 - val_loss: 0.2809 - val_acc: 0.9121\n",
      "Epoch 4/20\n",
      "2557/2557 [==============================] - 0s 55us/step - loss: 0.4923 - acc: 0.8213 - val_loss: 0.2560 - val_acc: 0.9184\n",
      "Epoch 5/20\n",
      "2557/2557 [==============================] - 0s 57us/step - loss: 0.3883 - acc: 0.8616 - val_loss: 0.2817 - val_acc: 0.9211\n",
      "Epoch 6/20\n",
      "2557/2557 [==============================] - 0s 57us/step - loss: 0.3230 - acc: 0.8870 - val_loss: 0.2857 - val_acc: 0.9238\n",
      "Epoch 7/20\n",
      "2557/2557 [==============================] - 0s 55us/step - loss: 0.2534 - acc: 0.9085 - val_loss: 0.3105 - val_acc: 0.9211\n",
      "Epoch 8/20\n",
      "2557/2557 [==============================] - 0s 56us/step - loss: 0.2234 - acc: 0.9245 - val_loss: 0.3480 - val_acc: 0.9220\n",
      "Epoch 9/20\n",
      "2557/2557 [==============================] - 0s 56us/step - loss: 0.1829 - acc: 0.9382 - val_loss: 0.3408 - val_acc: 0.9220\n",
      "Epoch 10/20\n",
      "2557/2557 [==============================] - 0s 55us/step - loss: 0.1996 - acc: 0.9366 - val_loss: 0.3451 - val_acc: 0.9220\n",
      "Epoch 11/20\n",
      "2557/2557 [==============================] - 0s 55us/step - loss: 0.1862 - acc: 0.9445 - val_loss: 0.3513 - val_acc: 0.9229\n",
      "Epoch 12/20\n",
      "2557/2557 [==============================] - 0s 56us/step - loss: 0.1612 - acc: 0.9476 - val_loss: 0.3779 - val_acc: 0.9229\n",
      "Epoch 13/20\n",
      "2557/2557 [==============================] - 0s 54us/step - loss: 0.1593 - acc: 0.9550 - val_loss: 0.3841 - val_acc: 0.9229\n",
      "Epoch 14/20\n",
      "2557/2557 [==============================] - 0s 54us/step - loss: 0.1699 - acc: 0.9546 - val_loss: 0.4005 - val_acc: 0.9229\n",
      "Epoch 15/20\n",
      "2557/2557 [==============================] - 0s 54us/step - loss: 0.1401 - acc: 0.9609 - val_loss: 0.3819 - val_acc: 0.9229\n",
      "Epoch 16/20\n",
      "2557/2557 [==============================] - 0s 53us/step - loss: 0.1394 - acc: 0.9617 - val_loss: 0.3982 - val_acc: 0.9229\n",
      "Epoch 17/20\n",
      "2557/2557 [==============================] - 0s 54us/step - loss: 0.1219 - acc: 0.9644 - val_loss: 0.4389 - val_acc: 0.9220\n",
      "Epoch 18/20\n",
      "2557/2557 [==============================] - 0s 57us/step - loss: 0.1278 - acc: 0.9656 - val_loss: 0.4240 - val_acc: 0.9229\n",
      "Epoch 19/20\n",
      "2557/2557 [==============================] - 0s 53us/step - loss: 0.1180 - acc: 0.9664 - val_loss: 0.4278 - val_acc: 0.9229\n",
      "Epoch 20/20\n",
      "2557/2557 [==============================] - 0s 55us/step - loss: 0.1374 - acc: 0.9628 - val_loss: 0.4417 - val_acc: 0.9229\n"
     ]
    },
    {
     "data": {
      "image/png": "[encoded data removed]",
      "text/plain": [
       "<Figure size 1152x360 with 1 Axes>"
      ]
     },
     "metadata": {
      "needs_background": "light"
     },
     "output_type": "display_data"
    },
    {
     "name": "stdout",
     "output_type": "stream",
     "text": [
      "auc: 0.9076888951153451\n"
     ]
    },
    {
     "data": {
      "image/png": "[encoded data removed]",
      "text/plain": [
       "<Figure size 432x432 with 1 Axes>"
      ]
     },
     "metadata": {
      "needs_background": "light"
     },
     "output_type": "display_data"
    },
    {
     "name": "stdout",
     "output_type": "stream",
     "text": [
      "count    1115.000000\n",
      "mean        0.009692\n",
      "std         0.077696\n",
      "min         0.000000\n",
      "25%         0.000008\n",
      "50%         0.000025\n",
      "75%         0.000145\n",
      "max         0.999998\n",
      "dtype: float64\n",
      "0.009691851 0.07769635\n"
     ]
    },
    {
     "data": {
      "image/png": "[encoded data removed]",
      "text/plain": [
       "<Figure size 432x288 with 1 Axes>"
      ]
     },
     "metadata": {
      "needs_background": "light"
     },
     "output_type": "display_data"
    },
    {
     "data": {
      "image/png": "[encoded data removed]",
      "text/plain": [
       "<Figure size 432x288 with 1 Axes>"
      ]
     },
     "metadata": {
      "needs_background": "light"
     },
     "output_type": "display_data"
    },
    {
     "data": {
      "image/png": "[encoded data removed]",
      "text/plain": [
       "<Figure size 432x288 with 1 Axes>"
      ]
     },
     "metadata": {
      "needs_background": "light"
     },
     "output_type": "display_data"
    },
    {
     "name": "stdout",
     "output_type": "stream",
     "text": [
      "thres: 0.0101, f_beta score: 0.4785\n",
      "accuracy@0.0101: 0.93\n",
      "\n",
      "threshold@0.5, accuracy: 0.9229\n",
      "[[1027    5]\n",
      " [  81    2]] \n",
      "\n",
      "threshold@0.0101, accuracy: 0.9283\n",
      "[[1006   26]\n",
      " [  54   29]]\n",
      "             precision    recall  f1-score   support\n",
      "\n",
      "          0       0.95      0.97      0.96      1032\n",
      "          1       0.53      0.35      0.42        83\n",
      "\n",
      "avg / total       0.92      0.93      0.92      1115\n",
      "\n"
     ]
    },
    {
     "name": "stderr",
     "output_type": "stream",
     "text": [
      "f:\\anaconda3\\envs\\py3_6\\lib\\site-packages\\sklearn\\metrics\\classification.py:1135: UndefinedMetricWarning: Precision and F-score are ill-defined and being set to 0.0 in labels with no predicted samples.\n",
      "  'precision', 'predicted', average, warn_for)\n"
     ]
    }
   ],
   "source": [
    "def get_model(input_dim):\n",
    "    model = Sequential()\n",
    "    # kernel_regularizer=regularizers.l2(0.005)\n",
    "    model.add(Dense(64, activation = 'selu', input_dim = input_dim))\n",
    "    model.add(Dropout(0.5))\n",
    "    model.add(Dense(32, activation = 'selu'))\n",
    "    model.add(Dropout(0.5))\n",
    "    model.add(Dense(16, activation = 'selu'))\n",
    "    model.add(Dropout(0.5))\n",
    "    model.add(Dense(1, activation = 'sigmoid'))\n",
    "    model.summary()\n",
    "    model.compile(optimizer = 'adam', loss = 'binary_crossentropy', metrics = ['accuracy'])\n",
    "    \n",
    "    return model\n",
    "\n",
    "K.clear_session()\n",
    "\n",
    "model = get_model(input_dim=tr_x.shape[1])\n",
    "hist = model.fit(tr_x, tr_y, \n",
    "                 validation_data=(vl_x, vl_y), \n",
    "                 batch_size=100, \n",
    "                 epochs=20)\n",
    "\n",
    "plot_result(hist)\n",
    "y_pred = model.predict(vl_x)\n",
    "draw_roc_curve(vl_y, y_pred)\n",
    "\n",
    "pred_dist(y_pred)\n",
    "analyze(vl_y, y_pred)"
   ]
  },
  {
   "cell_type": "markdown",
   "metadata": {},
   "source": [
    "## Embedding"
   ]
  },
  {
   "cell_type": "code",
   "execution_count": 39,
   "metadata": {},
   "outputs": [
    {
     "name": "stdout",
     "output_type": "stream",
     "text": [
      "(2557, 84) (1115, 84)\n"
     ]
    },
    {
     "data": {
      "text/html": [
       "<div>\n",
       "<style scoped>\n",
       "    .dataframe tbody tr th:only-of-type {\n",
       "        vertical-align: middle;\n",
       "    }\n",
       "\n",
       "    .dataframe tbody tr th {\n",
       "        vertical-align: top;\n",
       "    }\n",
       "\n",
       "    .dataframe thead th {\n",
       "        text-align: right;\n",
       "    }\n",
       "</style>\n",
       "<table border=\"1\" class=\"dataframe\">\n",
       "  <thead>\n",
       "    <tr style=\"text-align: right;\">\n",
       "      <th></th>\n",
       "      <th>Company</th>\n",
       "      <th>x80</th>\n",
       "      <th>x1</th>\n",
       "      <th>x2</th>\n",
       "      <th>x3</th>\n",
       "      <th>x4</th>\n",
       "      <th>x5</th>\n",
       "      <th>x6</th>\n",
       "      <th>x7</th>\n",
       "      <th>x8</th>\n",
       "      <th>...</th>\n",
       "      <th>x73</th>\n",
       "      <th>x74</th>\n",
       "      <th>x75</th>\n",
       "      <th>x76</th>\n",
       "      <th>x77</th>\n",
       "      <th>x78</th>\n",
       "      <th>x79</th>\n",
       "      <th>x81</th>\n",
       "      <th>x82</th>\n",
       "      <th>x83</th>\n",
       "    </tr>\n",
       "  </thead>\n",
       "  <tbody>\n",
       "    <tr>\n",
       "      <th>0</th>\n",
       "      <td>0</td>\n",
       "      <td>21</td>\n",
       "      <td>-0.051914</td>\n",
       "      <td>-0.975698</td>\n",
       "      <td>1.472336</td>\n",
       "      <td>0.614428</td>\n",
       "      <td>-0.820918</td>\n",
       "      <td>0.451191</td>\n",
       "      <td>-0.218844</td>\n",
       "      <td>-0.007532</td>\n",
       "      <td>...</td>\n",
       "      <td>1.281644</td>\n",
       "      <td>0.016187</td>\n",
       "      <td>-0.808312</td>\n",
       "      <td>-0.771575</td>\n",
       "      <td>-0.650523</td>\n",
       "      <td>0.694434</td>\n",
       "      <td>0.276039</td>\n",
       "      <td>-0.305815</td>\n",
       "      <td>2.179313</td>\n",
       "      <td>1.366050</td>\n",
       "    </tr>\n",
       "    <tr>\n",
       "      <th>1</th>\n",
       "      <td>0</td>\n",
       "      <td>21</td>\n",
       "      <td>-0.058599</td>\n",
       "      <td>-1.117226</td>\n",
       "      <td>1.158487</td>\n",
       "      <td>0.244714</td>\n",
       "      <td>-1.439245</td>\n",
       "      <td>0.416046</td>\n",
       "      <td>-0.135270</td>\n",
       "      <td>-0.007534</td>\n",
       "      <td>...</td>\n",
       "      <td>1.281644</td>\n",
       "      <td>1.141300</td>\n",
       "      <td>-0.713097</td>\n",
       "      <td>-0.678267</td>\n",
       "      <td>0.046342</td>\n",
       "      <td>0.694434</td>\n",
       "      <td>0.307733</td>\n",
       "      <td>-0.322732</td>\n",
       "      <td>2.293469</td>\n",
       "      <td>1.441194</td>\n",
       "    </tr>\n",
       "    <tr>\n",
       "      <th>2</th>\n",
       "      <td>0</td>\n",
       "      <td>21</td>\n",
       "      <td>-0.190532</td>\n",
       "      <td>-1.682597</td>\n",
       "      <td>1.751286</td>\n",
       "      <td>-0.237120</td>\n",
       "      <td>-1.154429</td>\n",
       "      <td>-0.245886</td>\n",
       "      <td>-0.297633</td>\n",
       "      <td>-0.007552</td>\n",
       "      <td>...</td>\n",
       "      <td>1.011921</td>\n",
       "      <td>1.857324</td>\n",
       "      <td>-0.606205</td>\n",
       "      <td>-0.562452</td>\n",
       "      <td>0.046342</td>\n",
       "      <td>0.229868</td>\n",
       "      <td>0.212650</td>\n",
       "      <td>-0.481388</td>\n",
       "      <td>2.407624</td>\n",
       "      <td>1.516338</td>\n",
       "    </tr>\n",
       "    <tr>\n",
       "      <th>3</th>\n",
       "      <td>0</td>\n",
       "      <td>21</td>\n",
       "      <td>-0.153948</td>\n",
       "      <td>-1.303440</td>\n",
       "      <td>1.381100</td>\n",
       "      <td>-0.096436</td>\n",
       "      <td>-0.696486</td>\n",
       "      <td>-0.021468</td>\n",
       "      <td>-0.090328</td>\n",
       "      <td>-0.007539</td>\n",
       "      <td>...</td>\n",
       "      <td>0.472477</td>\n",
       "      <td>-1.575433</td>\n",
       "      <td>-0.522443</td>\n",
       "      <td>-0.491673</td>\n",
       "      <td>0.162718</td>\n",
       "      <td>0.694434</td>\n",
       "      <td>1.131785</td>\n",
       "      <td>-0.436988</td>\n",
       "      <td>2.521780</td>\n",
       "      <td>1.591482</td>\n",
       "    </tr>\n",
       "    <tr>\n",
       "      <th>4</th>\n",
       "      <td>1</td>\n",
       "      <td>28</td>\n",
       "      <td>-0.184820</td>\n",
       "      <td>-0.253573</td>\n",
       "      <td>1.123123</td>\n",
       "      <td>-0.050655</td>\n",
       "      <td>0.324907</td>\n",
       "      <td>-0.231620</td>\n",
       "      <td>-0.033455</td>\n",
       "      <td>-0.007511</td>\n",
       "      <td>...</td>\n",
       "      <td>1.281644</td>\n",
       "      <td>0.016187</td>\n",
       "      <td>-0.808312</td>\n",
       "      <td>-0.771575</td>\n",
       "      <td>-0.650523</td>\n",
       "      <td>0.694434</td>\n",
       "      <td>0.276039</td>\n",
       "      <td>0.099018</td>\n",
       "      <td>-0.446265</td>\n",
       "      <td>-0.287116</td>\n",
       "    </tr>\n",
       "  </tbody>\n",
       "</table>\n",
       "<p>5 rows × 84 columns</p>\n",
       "</div>"
      ],
      "text/plain": [
       "   Company  x80        x1        x2        x3        x4        x5        x6  \\\n",
       "0        0   21 -0.051914 -0.975698  1.472336  0.614428 -0.820918  0.451191   \n",
       "1        0   21 -0.058599 -1.117226  1.158487  0.244714 -1.439245  0.416046   \n",
       "2        0   21 -0.190532 -1.682597  1.751286 -0.237120 -1.154429 -0.245886   \n",
       "3        0   21 -0.153948 -1.303440  1.381100 -0.096436 -0.696486 -0.021468   \n",
       "4        1   28 -0.184820 -0.253573  1.123123 -0.050655  0.324907 -0.231620   \n",
       "\n",
       "         x7        x8    ...          x73       x74       x75       x76  \\\n",
       "0 -0.218844 -0.007532    ...     1.281644  0.016187 -0.808312 -0.771575   \n",
       "1 -0.135270 -0.007534    ...     1.281644  1.141300 -0.713097 -0.678267   \n",
       "2 -0.297633 -0.007552    ...     1.011921  1.857324 -0.606205 -0.562452   \n",
       "3 -0.090328 -0.007539    ...     0.472477 -1.575433 -0.522443 -0.491673   \n",
       "4 -0.033455 -0.007511    ...     1.281644  0.016187 -0.808312 -0.771575   \n",
       "\n",
       "        x77       x78       x79       x81       x82       x83  \n",
       "0 -0.650523  0.694434  0.276039 -0.305815  2.179313  1.366050  \n",
       "1  0.046342  0.694434  0.307733 -0.322732  2.293469  1.441194  \n",
       "2  0.046342  0.229868  0.212650 -0.481388  2.407624  1.516338  \n",
       "3  0.162718  0.694434  1.131785 -0.436988  2.521780  1.591482  \n",
       "4 -0.650523  0.694434  0.276039  0.099018 -0.446265 -0.287116  \n",
       "\n",
       "[5 rows x 84 columns]"
      ]
     },
     "execution_count": 39,
     "metadata": {},
     "output_type": "execute_result"
    }
   ],
   "source": [
    "# Trnasform raw data to foramt model recognized\n",
    "tr_x, tr_y, status = feature_engineering(raw, is_train=True)\n",
    "vl_x, vl_y, _ = feature_engineering(raw_vl, is_train=False, status=status)\n",
    "\n",
    "print( tr_x.shape, vl_x.shape )\n",
    "tr_x.head()"
   ]
  },
  {
   "cell_type": "code",
   "execution_count": 40,
   "metadata": {},
   "outputs": [
    {
     "data": {
      "text/plain": [
       "Index(['Company', 'x80', 'x1', 'x2', 'x3', 'x4', 'x5', 'x6', 'x7', 'x8', 'x9',\n",
       "       'x10', 'x11', 'x12', 'x13', 'x14', 'x15', 'x16', 'x17', 'x18', 'x19',\n",
       "       'x20', 'x21', 'x22', 'x23', 'x24', 'x25', 'x26', 'x27', 'x28', 'x29',\n",
       "       'x30', 'x31', 'x32', 'x33', 'x34', 'x35', 'x36', 'x37', 'x38', 'x39',\n",
       "       'x40', 'x41', 'x42', 'x43', 'x44', 'x45', 'x46', 'x47', 'x48', 'x49',\n",
       "       'x50', 'x51', 'x52', 'x53', 'x54', 'x55', 'x56', 'x57', 'x58', 'x59',\n",
       "       'x60', 'x61', 'x62', 'x63', 'x64', 'x65', 'x66', 'x67', 'x68', 'x69',\n",
       "       'x70', 'x71', 'x72', 'x73', 'x74', 'x75', 'x76', 'x77', 'x78', 'x79',\n",
       "       'x81', 'x82', 'x83'],\n",
       "      dtype='object')"
      ]
     },
     "execution_count": 40,
     "metadata": {},
     "output_type": "execute_result"
    }
   ],
   "source": [
    "tr_x.columns"
   ]
  },
  {
   "cell_type": "code",
   "execution_count": 76,
   "metadata": {
    "scrolled": true
   },
   "outputs": [
    {
     "name": "stdout",
     "output_type": "stream",
     "text": [
      "__________________________________________________________________________________________________\n",
      "Layer (type)                    Output Shape         Param #     Connected to                     \n",
      "==================================================================================================\n",
      "input_2 (InputLayer)            (None, 1)            0                                            \n",
      "__________________________________________________________________________________________________\n",
      "input_3 (InputLayer)            (None, 1)            0                                            \n",
      "__________________________________________________________________________________________________\n",
      "embedding_1 (Embedding)         (None, 1, 4)         1688        input_2[0][0]                    \n",
      "__________________________________________________________________________________________________\n",
      "embedding_2 (Embedding)         (None, 1, 4)         148         input_3[0][0]                    \n",
      "__________________________________________________________________________________________________\n",
      "input_1 (InputLayer)            (None, 82)           0                                            \n",
      "__________________________________________________________________________________________________\n",
      "Company (Flatten)               (None, 4)            0           embedding_1[0][0]                \n",
      "__________________________________________________________________________________________________\n",
      "x80 (Flatten)                   (None, 4)            0           embedding_2[0][0]                \n",
      "__________________________________________________________________________________________________\n",
      "concatenate_1 (Concatenate)     (None, 90)           0           input_1[0][0]                    \n",
      "                                                                 Company[0][0]                    \n",
      "                                                                 x80[0][0]                        \n",
      "__________________________________________________________________________________________________\n",
      "dense_1 (Dense)                 (None, 64)           5824        concatenate_1[0][0]              \n",
      "__________________________________________________________________________________________________\n",
      "dropout_1 (Dropout)             (None, 64)           0           dense_1[0][0]                    \n",
      "__________________________________________________________________________________________________\n",
      "dense_2 (Dense)                 (None, 32)           2080        dropout_1[0][0]                  \n",
      "__________________________________________________________________________________________________\n",
      "dropout_2 (Dropout)             (None, 32)           0           dense_2[0][0]                    \n",
      "__________________________________________________________________________________________________\n",
      "dense_3 (Dense)                 (None, 16)           528         dropout_2[0][0]                  \n",
      "__________________________________________________________________________________________________\n",
      "dropout_3 (Dropout)             (None, 16)           0           dense_3[0][0]                    \n",
      "__________________________________________________________________________________________________\n",
      "dense_4 (Dense)                 (None, 1)            17          dropout_3[0][0]                  \n",
      "==================================================================================================\n",
      "Total params: 10,285\n",
      "Trainable params: 10,285\n",
      "Non-trainable params: 0\n",
      "__________________________________________________________________________________________________\n",
      "Train on 2557 samples, validate on 1115 samples\n",
      "Epoch 1/20\n",
      "2557/2557 [==============================] - 1s 288us/step - loss: 1.1669 - val_loss: 0.5610\n",
      "Epoch 2/20\n",
      "2557/2557 [==============================] - 0s 67us/step - loss: 0.8179 - val_loss: 0.5051\n",
      "Epoch 3/20\n",
      "2557/2557 [==============================] - 0s 64us/step - loss: 0.6438 - val_loss: 0.4648\n",
      "Epoch 4/20\n",
      "2557/2557 [==============================] - 0s 65us/step - loss: 0.5110 - val_loss: 0.3462\n",
      "Epoch 5/20\n",
      "2557/2557 [==============================] - 0s 67us/step - loss: 0.4218 - val_loss: 0.2612\n",
      "Epoch 6/20\n",
      "2557/2557 [==============================] - 0s 66us/step - loss: 0.3405 - val_loss: 0.2470\n",
      "Epoch 7/20\n",
      "2557/2557 [==============================] - 0s 69us/step - loss: 0.2751 - val_loss: 0.2616\n",
      "Epoch 8/20\n",
      "2557/2557 [==============================] - 0s 68us/step - loss: 0.2348 - val_loss: 0.2842\n",
      "Epoch 9/20\n",
      "2557/2557 [==============================] - 0s 66us/step - loss: 0.2098 - val_loss: 0.2878\n",
      "Epoch 10/20\n",
      "2557/2557 [==============================] - 0s 65us/step - loss: 0.1823 - val_loss: 0.3283\n",
      "Epoch 11/20\n",
      "2557/2557 [==============================] - 0s 65us/step - loss: 0.1566 - val_loss: 0.3326\n",
      "Epoch 12/20\n",
      "2557/2557 [==============================] - 0s 65us/step - loss: 0.1469 - val_loss: 0.3630\n",
      "Epoch 13/20\n",
      "2557/2557 [==============================] - 0s 65us/step - loss: 0.1311 - val_loss: 0.4001\n",
      "Epoch 14/20\n",
      "2557/2557 [==============================] - 0s 62us/step - loss: 0.1288 - val_loss: 0.4012\n",
      "Epoch 15/20\n",
      "2557/2557 [==============================] - 0s 68us/step - loss: 0.1243 - val_loss: 0.3857\n",
      "Epoch 16/20\n",
      "2557/2557 [==============================] - 0s 65us/step - loss: 0.1047 - val_loss: 0.4028\n",
      "Epoch 17/20\n",
      "2557/2557 [==============================] - 0s 64us/step - loss: 0.1062 - val_loss: 0.3990\n",
      "Epoch 18/20\n",
      "2557/2557 [==============================] - 0s 65us/step - loss: 0.0928 - val_loss: 0.4221\n",
      "Epoch 19/20\n",
      "2557/2557 [==============================] - ETA: 0s - loss: 0.093 - 0s 68us/step - loss: 0.0929 - val_loss: 0.4573\n",
      "Epoch 20/20\n",
      "2557/2557 [==============================] - 0s 65us/step - loss: 0.0898 - val_loss: 0.4827\n"
     ]
    },
    {
     "data": {
      "image/png": "[encoded data removed]",
      "text/plain": [
       "<Figure size 1152x360 with 1 Axes>"
      ]
     },
     "metadata": {
      "needs_background": "light"
     },
     "output_type": "display_data"
    },
    {
     "name": "stdout",
     "output_type": "stream",
     "text": [
      "auc: 0.8816311758662556\n"
     ]
    },
    {
     "data": {
      "image/png": "[encoded data removed]",
      "text/plain": [
       "<Figure size 432x432 with 1 Axes>"
      ]
     },
     "metadata": {
      "needs_background": "light"
     },
     "output_type": "display_data"
    },
    {
     "name": "stdout",
     "output_type": "stream",
     "text": [
      "count    1115.000000\n",
      "mean        0.006398\n",
      "std         0.059873\n",
      "min         0.000000\n",
      "25%         0.000005\n",
      "50%         0.000022\n",
      "75%         0.000151\n",
      "max         0.999993\n",
      "dtype: float64\n",
      "0.006398054 0.059873156\n"
     ]
    },
    {
     "data": {
      "image/png": "[encoded data removed]",
      "text/plain": [
       "<Figure size 432x288 with 1 Axes>"
      ]
     },
     "metadata": {
      "needs_background": "light"
     },
     "output_type": "display_data"
    },
    {
     "data": {
      "image/png": "[encoded data removed]",
      "text/plain": [
       "<Figure size 432x288 with 1 Axes>"
      ]
     },
     "metadata": {
      "needs_background": "light"
     },
     "output_type": "display_data"
    },
    {
     "data": {
      "image/png": "[encoded data removed]",
      "text/plain": [
       "<Figure size 432x288 with 1 Axes>"
      ]
     },
     "metadata": {
      "needs_background": "light"
     },
     "output_type": "display_data"
    },
    {
     "name": "stdout",
     "output_type": "stream",
     "text": [
      "thres: 0.0101, f_beta score: 0.3485\n",
      "accuracy@0.0101: 0.92\n",
      "\n",
      "threshold@0.5, accuracy: 0.9238\n",
      "[[1029    3]\n",
      " [  82    1]] \n",
      "\n",
      "threshold@0.0101, accuracy: 0.9229\n",
      "[[1006   26]\n",
      " [  60   23]]\n",
      "             precision    recall  f1-score   support\n",
      "\n",
      "          0       0.94      0.97      0.96      1032\n",
      "          1       0.47      0.28      0.35        83\n",
      "\n",
      "avg / total       0.91      0.92      0.91      1115\n",
      "\n"
     ]
    },
    {
     "name": "stderr",
     "output_type": "stream",
     "text": [
      "f:\\anaconda3\\envs\\py3_6\\lib\\site-packages\\sklearn\\metrics\\classification.py:1135: UndefinedMetricWarning: Precision and F-score are ill-defined and being set to 0.0 in labels with no predicted samples.\n",
      "  'precision', 'predicted', average, warn_for)\n"
     ]
    }
   ],
   "source": [
    "def get_model(input_dim, emb_info, data):\n",
    "    inputs = Input(shape=(input_dim,))\n",
    "    emb_inputs = [Input(shape=(1,)) for col in emb_info]\n",
    "    all_inputs = [inputs] + emb_inputs\n",
    "\n",
    "    embeddings = [Flatten(name=name)(Embedding(emb_info[name], 4, input_length=1)(emb))\n",
    "                  for name, emb in zip(emb_info.keys(), emb_inputs)]\n",
    "\n",
    "    concat = Concatenate(axis=1)([inputs] + embeddings)\n",
    "    nets = Dense(units=64, activation='selu')(concat)\n",
    "    nets = Dropout(.5)(nets)\n",
    "    nets = Dense(units=32, activation='selu')(nets)\n",
    "    nets = Dropout(.5)(nets)\n",
    "    nets = Dense(units=16, activation='selu')(nets)\n",
    "    nets = Dropout(.5)(nets)\n",
    "    nets = Dense(units=1, activation='sigmoid')(nets)\n",
    "\n",
    "    model = Model(inputs=all_inputs, outputs=nets)\n",
    "    model.summary()\n",
    "    model.compile(optimizer='adam', loss='binary_crossentropy')\n",
    "    return model\n",
    "\n",
    "K.clear_session()\n",
    "emb_info = {'Company': 422, 'x80': 37}\n",
    "# emb_info.update(dict((f'binn_x{i}', len(tr_x[f'binn_x{i}'].unique())) for i in range(1, 84) if i != 80))\n",
    "\n",
    "model = get_model(len(num_features), emb_info, data=tr_x)\n",
    "emb_features = list(emb_info.keys())\n",
    "hist = model.fit([tr_x.drop(emb_features, 1)] + \n",
    "                 [tr_x[col][:, None] for col in tr_x[emb_features]],\n",
    "                 tr_y, \n",
    "                 validation_data=([vl_x.drop(emb_features, 1)] + \n",
    "                                  [vl_x[col][:, None] for col in vl_x[emb_features]], \n",
    "                                  vl_y),\n",
    "                 batch_size=100, \n",
    "                 epochs=20)\n",
    "\n",
    "plot_result(hist)\n",
    "y_pred = model.predict([vl_x.drop(emb_features, 1)] + \n",
    "                       [vl_x[col][:, None] for col in vl_x[emb_features]])\n",
    "draw_roc_curve(vl_y, y_pred)\n",
    "\n",
    "pred_dist(y_pred)\n",
    "analyze(vl_y, y_pred)"
   ]
  },
  {
   "cell_type": "markdown",
   "metadata": {},
   "source": [
    "## Analyze the Prediction"
   ]
  },
  {
   "cell_type": "code",
   "execution_count": null,
   "metadata": {
    "scrolled": true
   },
   "outputs": [],
   "source": [
    "y_pred = model.predict(vl_x)\n",
    "y_pred"
   ]
  },
  {
   "cell_type": "code",
   "execution_count": 12,
   "metadata": {
    "collapsed": true
   },
   "outputs": [
    {
     "name": "stdout",
     "output_type": "stream",
     "text": [
      "count    1115.000000\n",
      "mean        0.011411\n",
      "std         0.060406\n",
      "min         0.000000\n",
      "25%         0.000052\n",
      "50%         0.000207\n",
      "75%         0.001142\n",
      "max         0.791097\n",
      "dtype: float64\n",
      "0.01141118 0.0604056\n"
     ]
    },
    {
     "data": {
      "image/png": "[encoded data removed]",
      "text/plain": [
       "<Figure size 432x288 with 1 Axes>"
      ]
     },
     "metadata": {
      "needs_background": "light"
     },
     "output_type": "display_data"
    },
    {
     "data": {
      "image/png": "[encoded data removed]",
      "text/plain": [
       "<Figure size 432x288 with 1 Axes>"
      ]
     },
     "metadata": {
      "needs_background": "light"
     },
     "output_type": "display_data"
    },
    {
     "data": {
      "image/png": "[encoded data removed]",
      "text/plain": [
       "<Figure size 432x288 with 1 Axes>"
      ]
     },
     "metadata": {
      "needs_background": "light"
     },
     "output_type": "display_data"
    }
   ],
   "source": [
    "def pred_dist(y_pred):\n",
    "    y_pred = pd.Series(y_pred.ravel())\n",
    "    print( y_pred.describe() )\n",
    "    print( y_pred.mean(), y_pred.std() )\n",
    "    sns.lineplot(range(len(y_pred)), sorted(y_pred.ravel()))\n",
    "    plt.show()\n",
    "\n",
    "    sns.boxplot(y_pred.ravel(), orient='v')\n",
    "    plt.show()\n",
    "\n",
    "    sns.distplot(y_pred.ravel())\n",
    "    plt.show()\n",
    "    \n",
    "pred_dist(y_pred)"
   ]
  },
  {
   "cell_type": "markdown",
   "metadata": {},
   "source": [
    "## Observation\n",
    "\n",
    "\n",
    "---\n"
   ]
  },
  {
   "cell_type": "markdown",
   "metadata": {},
   "source": [
    "## 找出最佳閥值"
   ]
  },
  {
   "cell_type": "code",
   "execution_count": 75,
   "metadata": {
    "scrolled": true
   },
   "outputs": [],
   "source": [
    "# 依照所有的閥值(切割100等分)算出F score, 找出分數最高的閥值\n",
    "def f_beta_scann(y_true, y_pred, beta=0.5):\n",
    "    y_pred = pd.Series(y_pred.ravel())\n",
    "    # 切割100等分, 尋找最佳 f beta score\n",
    "    bins = np.linspace(y_pred.min(), y_pred.max(), 100)\n",
    "    # 找出F beta score最高的點\n",
    "    result = np.array([precision_recall_fscore_support(y_true=y_true, y_pred=y_pred > thres, beta=beta)[2][1] \n",
    "                       for thres in bins])\n",
    "    best_idx = result.argmax()\n",
    "    return bins[best_idx], result[best_idx]\n",
    "\n",
    "def analyze(y_true, y_pred, beta=1):\n",
    "    thres, f_beta = f_beta_scann(y_true, y_pred, beta=beta)\n",
    "    acc = accuracy_score(y_true, y_pred.ravel() > thres)\n",
    "    print(f'thres: {thres:.4f}, f_beta score: {f_beta:.4f}')\n",
    "    print(f'accuracy@{thres:.4f}: {acc:.2f}\\n')\n",
    "\n",
    "    print(f'threshold@0.5, accuracy: {accuracy_score(y_true, y_pred.ravel() > 0.5):.4f}')\n",
    "    print(confusion_matrix(y_true, y_pred.ravel() > 0.5), '\\n')\n",
    "\n",
    "    print(f'threshold@{thres:.4f}, accuracy: {accuracy_score(y_true, y_pred.ravel() > thres):.4f}')\n",
    "    print(confusion_matrix(y_true, y_pred.ravel() > thres))\n",
    "    \n",
    "    print(classification_report(y_true, y_pred.ravel() > thres))\n",
    "\n",
    "# analyze(vl_y, y_pred)"
   ]
  },
  {
   "cell_type": "markdown",
   "metadata": {},
   "source": [
    "## Observation\n",
    "\n"
   ]
  },
  {
   "cell_type": "markdown",
   "metadata": {
    "colab_type": "text",
    "id": "h9MWinD-e6SX"
   },
   "source": [
    "## Bining Numeric Feature\n",
    "\n"
   ]
  },
  {
   "cell_type": "code",
   "execution_count": null,
   "metadata": {
    "colab": {
     "base_uri": "https://localhost:8080/",
     "height": 33
    },
    "colab_type": "code",
    "executionInfo": {
     "elapsed": 623,
     "status": "ok",
     "timestamp": 1538632948251,
     "user": {
      "displayName": "Gary Chen",
      "photoUrl": "",
      "userId": "10783188122132859162"
     },
     "user_tz": -480
    },
    "id": "KEZCNmIMqlor",
    "outputId": "e3f26c9d-4262-4591-f24a-84e80ec60012"
   },
   "outputs": [],
   "source": [
    "def do_binning(catg_ftrs, status, data, is_train):\n",
    "    def quartile_binning(x):\n",
    "        bins = np.percentile(x, range(0, 100, 25))[1:].tolist()\n",
    "        iqr_x_150 = (bins[-1] - bins[0]) * 1.5\n",
    "        bins = [bins[0] - iqr_x_150] + bins + [bins[-1] + iqr_x_150]\n",
    "        result = pd.Series(np.digitize(x, bins)).map(pd.Series([0, 1, 2, 3, 4, 0])).values\n",
    "        return result, bins\n",
    "\n",
    "    for col in [f'x{i}' for i in range(1, 84) if i != 80]:\n",
    "        binned_name = f'binn_{col}'\n",
    "        if is_train:\n",
    "            result, bins = quartile_binning(data[col])\n",
    "            status['binn_mapper'][binned_name] = bins\n",
    "            data[binned_name] = result\n",
    "        else:\n",
    "            bins = status['binn_mapper'][binned_name]\n",
    "            data[binned_name] = pd.Series(np.digitize(data[col], bins))\\\n",
    "                                  .map(pd.Series([0, 1, 2, 3, 4, 0])).values\n",
    "\n",
    "        catg_ftrs.append(binned_name)\n",
    "    pass"
   ]
  },
  {
   "cell_type": "code",
   "execution_count": null,
   "metadata": {},
   "outputs": [],
   "source": [
    "# Trnasform raw data to foramt model recognized\n",
    "tr_x, tr_y, status = feature_engineering(raw, is_train=True)\n",
    "vl_x, vl_y, _ = feature_engineering(raw_vl, is_train=False, status=status)\n",
    "\n",
    "print( tr_x.shape, vl_x.shape )\n",
    "tr_x.head()"
   ]
  },
  {
   "cell_type": "markdown",
   "metadata": {},
   "source": [
    "## Model (Binning)"
   ]
  },
  {
   "cell_type": "code",
   "execution_count": null,
   "metadata": {
    "scrolled": true
   },
   "outputs": [],
   "source": [
    "def get_model(input_dim, emb_info, data):\n",
    "    inputs = Input(shape=(input_dim,))\n",
    "    emb_inputs = [Input(shape=(1,)) for col in emb_info]\n",
    "    all_inputs = [inputs] + emb_inputs\n",
    "\n",
    "    embeddings = [Flatten(name=name)(Embedding(emb_info[name], 6, input_length=1)(emb))\n",
    "                  for name, emb in zip(emb_info.keys(), emb_inputs)]\n",
    "\n",
    "    concat = Concatenate(axis=1)([inputs] + embeddings)\n",
    "    nets = Dense(units=128, activation='selu')(concat)\n",
    "    nets = Dropout(.5)(nets)\n",
    "    nets = Dense(units=64, activation='selu')(nets)\n",
    "    nets = Dropout(.5)(nets)\n",
    "    nets = Dense(units=32, activation='selu')(nets)\n",
    "    nets = Dropout(.5)(nets)\n",
    "    nets = Dense(units=1, activation='linear')(nets)\n",
    "\n",
    "    model = Model(inputs=all_inputs, outputs=nets)\n",
    "    # model.summary()\n",
    "    model.compile(optimizer='adam', loss='mse')\n",
    "    return model\n",
    "\n",
    "K.clear_session()\n",
    "emb_info = {'Company': 422, 'x80': 37}\n",
    "emb_info.update(dict((f'binn_x{i}', len(tr_x[f'binn_x{i}'].unique())) for i in range(1, 84) if i != 80))\n",
    "\n",
    "model = get_model(len(num_features), emb_info, data=tr_x)\n",
    "emb_features = list(emb_info.keys())\n",
    "hist = model.fit([tr_x.drop(emb_features, 1)] + \n",
    "                 [tr_x[col][:, None] for col in tr_x[emb_features]],\n",
    "                 tr_y, \n",
    "                 validation_data=([vl_x.drop(emb_features, 1)] + \n",
    "                                  [vl_x[col][:, None] for col in vl_x[emb_features]], \n",
    "                                  vl_y), \n",
    "                 batch_size=100, \n",
    "                 epochs=20)\n",
    "\n",
    "plot_result(hist)\n",
    "# draw_roc_curve(vl_y, model.predict(vl_x))"
   ]
  },
  {
   "cell_type": "markdown",
   "metadata": {
    "colab_type": "text",
    "id": "4EtiRvZDGVfV"
   },
   "source": [
    "## Add Weight of Evidence Encoding"
   ]
  },
  {
   "cell_type": "code",
   "execution_count": null,
   "metadata": {
    "colab": {
     "base_uri": "https://localhost:8080/",
     "height": 262
    },
    "colab_type": "code",
    "executionInfo": {
     "elapsed": 615,
     "status": "ok",
     "timestamp": 1538629657376,
     "user": {
      "displayName": "Gary Chen",
      "photoUrl": "",
      "userId": "10783188122132859162"
     },
     "user_tz": -480
    },
    "id": "L_YwlDOpGVml",
    "outputId": "abfe5e13-576a-4d23-acc6-9cc8f4db9c78"
   },
   "outputs": [],
   "source": [
    "def do_woe_encoding(catg_ftrs, catg_part, status, data, is_train):\n",
    "\n",
    "    def woe_encode(x, label, data):\n",
    "        \"\"\"Calculate the Weight of Evidence of given categorical feature and label\n",
    "\n",
    "        :param x: Given feature name\n",
    "        :param label: Label name\n",
    "        :param data:\n",
    "        :return: WOE encoded dictionary\n",
    "        \"\"\"\n",
    "        total_vc = data[label].value_counts().sort_index()\n",
    "\n",
    "        def woe(pipe, total_vc):\n",
    "            # Count by label in this group\n",
    "            group_vc = pipe[label].value_counts().sort_index()\n",
    "\n",
    "            # Some class in the feature is missing, fill zero to missing class\n",
    "            if len(group_vc) < len(total_vc):\n",
    "                for key in total_vc.index:\n",
    "                    if key not in group_vc:\n",
    "                        group_vc[key] = 0.\n",
    "                group_vc = group_vc.sort_index()\n",
    "\n",
    "            # WOE formula\n",
    "            r = ((group_vc + 0.5) / total_vc).values\n",
    "\n",
    "            # Odd ratio => 1 to 0, you can define meaning of each class\n",
    "            return np.log(r[1] / r[0])\n",
    "\n",
    "        return data.groupby(x).apply(lambda pipe: woe(pipe, total_vc))\n",
    "\n",
    "    for catg_col in catg_ftrs:\n",
    "        if is_train:\n",
    "            kv = woe_encode(catg_col, 'Exited', data)\n",
    "            status['woe_mapper'][catg_col] = kv.to_dict()\n",
    "        else:\n",
    "            kv = pd.Series(status['woe_mapper'][catg_col])\n",
    "        catg_part[f'woe_{catg_col}'] = kv.reindex(data[catg_col]).values\n",
    "    pass"
   ]
  },
  {
   "cell_type": "code",
   "execution_count": null,
   "metadata": {},
   "outputs": [],
   "source": [
    "# Trnasform raw data to foramt model recognized\n",
    "tr_x, tr_y, status = feature_engineering(raw, is_train=True)\n",
    "vl_x, vl_y, _ = feature_engineering(raw_vl, is_train=False, status=status)\n",
    "\n",
    "print( tr_x.shape, vl_x.shape )\n",
    "tr_x.head()"
   ]
  },
  {
   "cell_type": "markdown",
   "metadata": {
    "colab_type": "text",
    "id": "xp-VkesMgDVz"
   },
   "source": [
    "## Model (WOE)"
   ]
  },
  {
   "cell_type": "code",
   "execution_count": null,
   "metadata": {
    "colab": {
     "base_uri": "https://localhost:8080/",
     "height": 1609
    },
    "colab_type": "code",
    "executionInfo": {
     "elapsed": 4738,
     "status": "ok",
     "timestamp": 1538629717958,
     "user": {
      "displayName": "Gary Chen",
      "photoUrl": "",
      "userId": "10783188122132859162"
     },
     "user_tz": -480
    },
    "id": "_1oC02RWeZoH",
    "outputId": "2c19cff1-1626-4319-8904-bf0f5bf81d36",
    "scrolled": true
   },
   "outputs": [],
   "source": [
    "def get_model(input_dim):\n",
    "    model = Sequential()\n",
    "    # kernel_regularizer=regularizers.l2(0.005)\n",
    "    model.add(Dense(units = 20, activation = 'relu', kernel_initializer='uniform', input_dim = input_dim))\n",
    "    model.add(Dense(units = 20, activation = 'relu', kernel_initializer='uniform'))\n",
    "    model.add(Dense(units = 1, activation = 'sigmoid', kernel_initializer='uniform'))\n",
    "    model.summary()\n",
    "    model.compile(optimizer = 'adam', loss = 'binary_crossentropy', metrics = ['accuracy'])\n",
    "    \n",
    "    return model\n",
    "\n",
    "K.clear_session()\n",
    "\n",
    "model = get_model(input_dim=tr_x.shape[1])\n",
    "hist = model.fit(tr_x, tr_y, validation_data=(vl_x, vl_y), batch_size=100, epochs=30)\n",
    "plot_result(hist)\n",
    "draw_roc_curve(vl_y, model.predict(vl_x))\n",
    "\n",
    "y_pred = model.predict(vl_x)\n",
    "pred_dist(y_pred)\n",
    "analyze(vl_y, y_pred)"
   ]
  },
  {
   "cell_type": "markdown",
   "metadata": {},
   "source": [
    "## Statistical Encoding, Target Encoding\n",
    "\n",
    "* Frequency encoding\n",
    "* Mean encoding"
   ]
  },
  {
   "cell_type": "code",
   "execution_count": null,
   "metadata": {},
   "outputs": [],
   "source": [
    "def do_target_encoding(catg_ftrs, catg_part, status, data, is_train):\n",
    "    for catg_col in catg_ftrs:\n",
    "        if is_train:\n",
    "            freq_proportion = data[catg_col].value_counts() / len(data)\n",
    "            catg_part[f'freq_{catg_col}'] = freq_proportion.reindex(data[catg_col]).values\n",
    "            target_mean = data.groupby(catg_col).Exited.mean()\n",
    "            catg_part[f'mean_{catg_col}'] = target_mean.reindex(data[catg_col]).values\n",
    "\n",
    "            status['freq_mapper'][catg_col] = freq_proportion.to_dict()\n",
    "            status['mean_mapper'][catg_col] = target_mean.to_dict()\n",
    "        else:\n",
    "            catg_part[f'freq_{catg_col}'] = pd.Series(status['freq_mapper'][catg_col]).reindex(data[catg_col]).values\n",
    "            catg_part[f'mean_{catg_col}'] = pd.Series(status['mean_mapper'][catg_col]).reindex(data[catg_col]).values\n",
    "    pass"
   ]
  },
  {
   "cell_type": "code",
   "execution_count": null,
   "metadata": {
    "scrolled": true
   },
   "outputs": [],
   "source": [
    "# Trnasform raw data to foramt model recognized\n",
    "tr_x, tr_y, status = feature_engineering(raw, is_train=True)\n",
    "vl_x, vl_y, _ = feature_engineering(raw_vl, is_train=False, status=status)\n",
    "\n",
    "print( tr_x.shape, vl_x.shape )\n",
    "print(tr_x.columns.values)\n",
    "tr_x.head()"
   ]
  },
  {
   "cell_type": "markdown",
   "metadata": {},
   "source": [
    "## Model (WOE + Binning + Freqency Encoding + Target Mean Encoding)"
   ]
  },
  {
   "cell_type": "code",
   "execution_count": null,
   "metadata": {
    "scrolled": true
   },
   "outputs": [],
   "source": [
    "def get_model(input_dim, emb_info, data):\n",
    "    inputs = Input(shape=(input_dim,))\n",
    "    emb_inputs = [Input(shape=(1,)) for col in emb_info]\n",
    "    all_inputs = [inputs] + emb_inputs\n",
    "\n",
    "    embeddings = [Flatten(name=name)(Embedding(emb_info[name], 6, input_length=1)(emb))\n",
    "                  for name, emb in zip(emb_info.keys(), emb_inputs)]\n",
    "\n",
    "    concat = Concatenate(axis=1)([inputs] + embeddings)\n",
    "    nets = Dense(units=256, activation='selu')(concat)\n",
    "    nets = Dropout(.5)(nets)\n",
    "    nets = Dense(units=128, activation='selu')(nets)\n",
    "    nets = Dropout(.5)(nets)\n",
    "    nets = Dense(units=64, activation='selu')(nets)\n",
    "    nets = Dropout(.5)(nets)\n",
    "    nets = Dense(units=1, activation='linear')(nets)\n",
    "\n",
    "    model = Model(inputs=all_inputs, outputs=nets)\n",
    "    # model.summary()\n",
    "    model.compile(optimizer='adam', loss='mse')\n",
    "    return model\n",
    "\n",
    "K.clear_session()\n",
    "emb_info = {'Company': 422, 'x80': 37}\n",
    "# emb_info.update(dict((f'binn_x{i}', len(tr_x[f'binn_x{i}'].unique())) for i in range(1, 84) if i != 80))\n",
    "emb_features = list(emb_info.keys())\n",
    "\n",
    "model = get_model(tr_x.drop(emb_features, 1).shape[1], emb_info, data=tr_x)\n",
    "hist = model.fit([tr_x.drop(emb_features, 1)] + \n",
    "                 [tr_x[col][:, None] for col in tr_x[emb_features]],\n",
    "                 tr_y, \n",
    "                 validation_data=([vl_x.drop(emb_features, 1)] + \n",
    "                                  [vl_x[col][:, None] for col in vl_x[emb_features]], \n",
    "                                  vl_y), \n",
    "                 batch_size=100, \n",
    "                 epochs=20)\n",
    "\n",
    "plot_result(hist)"
   ]
  },
  {
   "cell_type": "markdown",
   "metadata": {
    "colab_type": "text",
    "id": "r5crE3xFBn91"
   },
   "source": [
    "## Add Polynomial Featue Engineering\n",
    "\n",
    "* Add quradratic, cube term base on numeric features"
   ]
  },
  {
   "cell_type": "code",
   "execution_count": null,
   "metadata": {
    "colab": {
     "base_uri": "https://localhost:8080/",
     "height": 262
    },
    "colab_type": "code",
    "executionInfo": {
     "elapsed": 623,
     "status": "ok",
     "timestamp": 1538626022744,
     "user": {
      "displayName": "Gary Chen",
      "photoUrl": "",
      "userId": "10783188122132859162"
     },
     "user_tz": -480
    },
    "id": "0m8uAkjbuBa7",
    "outputId": "c318f7e6-0352-4a2a-b340-41b3b38e568a"
   },
   "outputs": [],
   "source": [
    "# def do_nth_order_polynominal(num_features, data):\n",
    "#     for num_col in num_features:\n",
    "#         data[f'{num_col}_degree_2'] = data[num_col] ** 2\n",
    "#         data[f'{num_col}_degree_3'] = data[num_col] ** 3\n",
    "#     pass"
   ]
  },
  {
   "cell_type": "code",
   "execution_count": null,
   "metadata": {},
   "outputs": [],
   "source": [
    "# Trnasform raw data to foramt model recognized\n",
    "tr_x, tr_y, status = feature_engineering(raw, is_train=True)\n",
    "vl_x, vl_y, _ = feature_engineering(raw_vl, is_train=False, status=status)\n",
    "\n",
    "print( tr_x.shape, vl_x.shape )\n",
    "tr_x.head()"
   ]
  },
  {
   "cell_type": "markdown",
   "metadata": {
    "colab_type": "text",
    "id": "Wfc1V2cYFz50"
   },
   "source": [
    "## Model (WOE + Binning + Freqency Encoding + Target Mean Encoding + Polynominal)\n"
   ]
  },
  {
   "cell_type": "code",
   "execution_count": null,
   "metadata": {
    "colab": {
     "base_uri": "https://localhost:8080/",
     "height": 1609
    },
    "colab_type": "code",
    "executionInfo": {
     "elapsed": 4788,
     "status": "ok",
     "timestamp": 1538626029956,
     "user": {
      "displayName": "Gary Chen",
      "photoUrl": "",
      "userId": "10783188122132859162"
     },
     "user_tz": -480
    },
    "id": "Dl32_fhCFz-_",
    "outputId": "4cc0a562-f5c6-44fd-ce29-1c52974296f2",
    "scrolled": true
   },
   "outputs": [],
   "source": [
    "def get_model(input_dim, emb_info, data):\n",
    "    inputs = Input(shape=(input_dim,))\n",
    "    emb_inputs = [Input(shape=(1,)) for col in emb_info]\n",
    "    all_inputs = [inputs] + emb_inputs\n",
    "\n",
    "    embeddings = [Flatten(name=name)(Embedding(emb_info[name], 6, input_length=1)(emb))\n",
    "                  for name, emb in zip(emb_info.keys(), emb_inputs)]\n",
    "\n",
    "    concat = Concatenate(axis=1)([inputs] + embeddings)\n",
    "    nets = Dense(units=256, activation='selu')(concat)\n",
    "    nets = Dropout(.6)(nets)\n",
    "    nets = Dense(units=128, activation='selu')(nets)\n",
    "    nets = Dropout(.6)(nets)\n",
    "    nets = Dense(units=64, activation='selu')(nets)\n",
    "    nets = Dropout(.5)(nets)\n",
    "    nets = Dense(units=1, activation='sigmoid')(nets)\n",
    "\n",
    "    model = Model(inputs=all_inputs, outputs=nets)\n",
    "    model.summary()\n",
    "    model.compile(optimizer='adam', loss='binary_crossentropy')\n",
    "    return model\n",
    "\n",
    "K.clear_session()\n",
    "emb_info = {'Company': 422, 'x80': 37}\n",
    "# emb_info.update(dict((f'binn_x{i}', len(tr_x[f'binn_x{i}'].unique())) for i in range(1, 84) if i != 80))\n",
    "emb_features = list(emb_info.keys())\n",
    "\n",
    "model = get_model(tr_x.drop(emb_features, 1).shape[1], emb_info, data=tr_x)\n",
    "hist = model.fit([tr_x.drop(emb_features, 1)] + \n",
    "                 [tr_x[col][:, None] for col in tr_x[emb_features]],\n",
    "                 tr_y, \n",
    "                 validation_data=([vl_x.drop(emb_features, 1)] + \n",
    "                                  [vl_x[col][:, None] for col in vl_x[emb_features]], \n",
    "                                  vl_y), \n",
    "                 batch_size=1000, \n",
    "                 epochs=30)\n",
    "\n",
    "plot_result(hist)\n",
    "draw_roc_curve(vl_y, model.predict([vl_x.drop(emb_features, 1)] + \n",
    "                                   [vl_x[col][:, None] for col in vl_x[emb_features]]))"
   ]
  },
  {
   "cell_type": "code",
   "execution_count": null,
   "metadata": {},
   "outputs": [],
   "source": [
    "# 依照所有的閥值(切割100等分)算出F score, 找出分數最高的閥值\n",
    "def f_beta_scann(y_true, y_pred, beta=0.5):\n",
    "    y_pred = pd.Series(y_pred.ravel())\n",
    "    # 切割100等分, 尋找最佳 f beta score\n",
    "    bins = np.linspace(y_pred.min(), y_pred.max(), 100)\n",
    "    # 找出F beta score最高的點\n",
    "    result = np.array([precision_recall_fscore_support(y_true=y_true, y_pred=y_pred > thres, beta=beta)[2][1] \n",
    "                       for thres in bins])\n",
    "    best_idx = result.argmax()\n",
    "    return bins[best_idx], result[best_idx]\n",
    "\n",
    "def analyze(y_true, y_pred, beta=0.5):\n",
    "    thres, f_beta = f_beta_scann(y_true, y_pred, beta=beta)\n",
    "    acc = accuracy_score(y_true, y_pred.ravel() > thres)\n",
    "    print(f'thres: {thres:.4f}, f_beta score: {f_beta:.4f}')\n",
    "    print(f'accuracy@{thres:.4f}: {acc:.2f}\\n')\n",
    "\n",
    "    print(f'threshold@0.5, accuracy: {accuracy_score(y_true, y_pred.ravel() > 0.5):.4f}')\n",
    "    print(confusion_matrix(y_true, y_pred.ravel() > 0.5), '\\n')\n",
    "\n",
    "    print(f'threshold@{thres:.4f}, accuracy: {accuracy_score(y_true, y_pred.ravel() > thres):.4f}')\n",
    "    print(confusion_matrix(y_true, y_pred.ravel() > thres))"
   ]
  },
  {
   "cell_type": "code",
   "execution_count": null,
   "metadata": {},
   "outputs": [],
   "source": [
    "y_pred = model.predict([vl_x.drop(emb_features, 1)] + \n",
    "                       [vl_x[col][:, None] for col in vl_x[emb_features]])\n",
    "analyze(vl_y, y_pred)\n",
    "draw_roc_curve(vl_y, )"
   ]
  },
  {
   "cell_type": "code",
   "execution_count": null,
   "metadata": {},
   "outputs": [],
   "source": [
    "sns.boxplot(y_pred)"
   ]
  },
  {
   "cell_type": "markdown",
   "metadata": {},
   "source": [
    "## PCA"
   ]
  },
  {
   "cell_type": "code",
   "execution_count": null,
   "metadata": {},
   "outputs": [],
   "source": [
    "from sklearn.decomposition import PCA\n",
    "\n",
    "pca = PCA(n_components=64)\n",
    "tr_x_pca = pca.fit_transform(tr_x)\n",
    "vl_x_pca = pca.transform(vl_x)"
   ]
  },
  {
   "cell_type": "code",
   "execution_count": null,
   "metadata": {},
   "outputs": [],
   "source": [
    "tr_x_pca.shape, vl_x_pca.shape"
   ]
  },
  {
   "cell_type": "code",
   "execution_count": null,
   "metadata": {
    "scrolled": true
   },
   "outputs": [],
   "source": [
    "def get_model(input_dim, emb_info, data):\n",
    "    inputs = Input(shape=(input_dim,))\n",
    "    emb_inputs = [Input(shape=(1,)) for col in emb_info]\n",
    "    all_inputs = [inputs] + emb_inputs\n",
    "\n",
    "    embeddings = [Flatten(name=name)(Embedding(emb_info[name], 6, input_length=1)(emb))\n",
    "                  for name, emb in zip(emb_info.keys(), emb_inputs)]\n",
    "\n",
    "    concat = Concatenate(axis=1)([inputs] + embeddings)\n",
    "    nets = Dense(units=256, activation='selu')(concat)\n",
    "    nets = Dropout(.5)(nets)\n",
    "    nets = Dense(units=128, activation='selu')(nets)\n",
    "    nets = Dropout(.5)(nets)\n",
    "    nets = Dense(units=64, activation='selu')(nets)\n",
    "    nets = Dropout(.5)(nets)\n",
    "    nets = Dense(units=1, activation='linear')(nets)\n",
    "\n",
    "    model = Model(inputs=all_inputs, outputs=nets)\n",
    "    model.summary()\n",
    "    model.compile(optimizer='adam', loss='mse')\n",
    "    return model\n",
    "\n",
    "K.clear_session()\n",
    "emb_info = {'Company': 422, 'x80': 37}\n",
    "# emb_info.update(dict((f'binn_x{i}', len(tr_x[f'binn_x{i}'].unique())) for i in range(1, 84) if i != 80))\n",
    "emb_features = list(emb_info.keys())\n",
    "\n",
    "model = get_model(tr_x.drop(emb_features, 1).shape[1], emb_info, data=tr_x)\n",
    "hist = model.fit([tr_x.drop(emb_features, 1)] + \n",
    "                 [tr_x[col][:, None] for col in tr_x[emb_features]],\n",
    "                 tr_y, \n",
    "                 validation_data=([vl_x.drop(emb_features, 1)] + \n",
    "                                  [vl_x[col][:, None] for col in vl_x[emb_features]], \n",
    "                                  vl_y), \n",
    "                 batch_size=1000, \n",
    "                 epochs=60)\n",
    "\n",
    "plot_result(hist)"
   ]
  },
  {
   "cell_type": "markdown",
   "metadata": {},
   "source": [
    "## Model (AutoEncoder)"
   ]
  },
  {
   "cell_type": "code",
   "execution_count": null,
   "metadata": {},
   "outputs": [],
   "source": [
    "# Trnasform raw data to foramt model recognized\n",
    "tr_x, tr_y, status = feature_engineering(raw, is_train=True)\n",
    "vl_x, vl_y, _ = feature_engineering(raw_vl, is_train=False, status=status)\n",
    "\n",
    "print( tr_x.shape, vl_x.shape )\n",
    "tr_x.head()"
   ]
  },
  {
   "cell_type": "code",
   "execution_count": null,
   "metadata": {
    "scrolled": true
   },
   "outputs": [],
   "source": [
    "K.clear_session()\n",
    "\n",
    "inputs_dim = tr_x.shape[1]\n",
    "\n",
    "inputs = Input(shape=(inputs_dim, ))\n",
    "# Encoder\n",
    "encoded = Dense(inputs_dim, activation='selu')(inputs)\n",
    "encoded = Dense(128, activation='selu')(encoded)\n",
    "encoded = Dense(64, activation='selu')(encoded)\n",
    "encoded = Dense(64, activation='selu')(encoded)\n",
    "\n",
    "# Decoder\n",
    "decoded = Dense(64, activation='selu')(encoded)\n",
    "decoded = Dense(64, activation='selu')(decoded)\n",
    "decoded = Dense(128, activation='selu')(decoded)\n",
    "decoded = Dense(inputs_dim, activation='linear')(decoded)\n",
    "\n",
    "# this model maps an input to its reconstruction\n",
    "autoencoder = Model(inputs, decoded)\n",
    "\n",
    "# this model maps an input to its encoded representation\n",
    "encoder = Model(inputs, encoded)\n",
    "\n",
    "# Adam Optimizer + Mean square error loss\n",
    "autoencoder.compile(optimizer='adam', loss='mse')\n",
    "hist = autoencoder.fit(\n",
    "    tr_x, tr_x, \n",
    "    epochs=100, \n",
    "    batch_size=200, \n",
    "    shuffle=True, \n",
    "    validation_data=(vl_x, vl_x))\n",
    "\n",
    "def plot_ae(hist):\n",
    "    plt.figure(figsize=(16, 5))\n",
    "    plt.plot(hist.history['loss'], label='tr_loss')\n",
    "    plt.plot(hist.history['val_loss'], label='vl_loss')\n",
    "    plt.title('Loss')\n",
    "    plt.legend(loc='best')\n",
    "    plt.show()\n",
    "    \n",
    "plot_ae(hist)"
   ]
  },
  {
   "cell_type": "code",
   "execution_count": null,
   "metadata": {
    "scrolled": true
   },
   "outputs": [],
   "source": [
    "tr_x_ae = encoder.predict(tr_x)\n",
    "vl_x_ae = encoder.predict(vl_x)"
   ]
  },
  {
   "cell_type": "code",
   "execution_count": null,
   "metadata": {},
   "outputs": [],
   "source": [
    "tr_x_ae.shape, vl_x_ae.shape"
   ]
  },
  {
   "cell_type": "code",
   "execution_count": null,
   "metadata": {
    "scrolled": true
   },
   "outputs": [],
   "source": [
    "def get_model(input_dim):\n",
    "    model = Sequential()\n",
    "    # kernel_regularizer=regularizers.l2(0.005)\n",
    "    model.add(Dense(units = 128, activation = 'relu', kernel_initializer='uniform', input_dim = input_dim))\n",
    "    model.add(Dense(units = 128, activation = 'relu', kernel_initializer='uniform'))\n",
    "    model.add(Dense(units = 1, activation = 'sigmoid', kernel_initializer='uniform'))\n",
    "    model.summary()\n",
    "    model.compile(optimizer = 'adam', loss = 'binary_crossentropy', metrics = ['accuracy'])\n",
    "    \n",
    "    return model\n",
    "\n",
    "K.clear_session()\n",
    "\n",
    "model = get_model(input_dim=tr_x_ae.shape[1])\n",
    "hist = model.fit(tr_x_ae, tr_y, validation_data=(vl_x_ae, vl_y), batch_size=100, epochs=30)\n",
    "\n",
    "plot_result(hist)\n",
    "draw_roc_curve(vl_y, model.predict(vl_x_ae))\n",
    "\n",
    "y_pred = model.predict(vl_x_ae)\n",
    "pred_dist(y_pred)\n",
    "analyze(vl_y, y_pred)"
   ]
  },
  {
   "cell_type": "code",
   "execution_count": null,
   "metadata": {},
   "outputs": [],
   "source": []
  }
 ],
 "metadata": {
  "accelerator": "TPU",
  "colab": {
   "collapsed_sections": [],
   "name": "model_finance_customer_churn.ipynb",
   "provenance": [],
   "version": "0.3.2"
  },
  "kernelspec": {
   "display_name": "Python 3",
   "language": "python",
   "name": "python3"
  },
  "language_info": {
   "codemirror_mode": {
    "name": "ipython",
    "version": 3
   },
   "file_extension": ".py",
   "mimetype": "text/x-python",
   "name": "python",
   "nbconvert_exporter": "python",
   "pygments_lexer": "ipython3",
   "version": "3.6.6"
  }
 },
 "nbformat": 4,
 "nbformat_minor": 1
}
