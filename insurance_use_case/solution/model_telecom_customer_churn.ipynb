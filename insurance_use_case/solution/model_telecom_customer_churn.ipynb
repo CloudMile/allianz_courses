{
 "cells": [
  {
   "cell_type": "markdown",
   "metadata": {
    "colab_type": "text",
    "id": "X6TzudIkLSb2"
   },
   "source": [
    "## Load Libs"
   ]
  },
  {
   "cell_type": "code",
   "execution_count": null,
   "metadata": {
    "colab": {
     "base_uri": "https://localhost:8080/",
     "height": 221
    },
    "colab_type": "code",
    "executionInfo": {
     "elapsed": 3826,
     "status": "ok",
     "timestamp": 1538625947853,
     "user": {
      "displayName": "Gary Chen",
      "photoUrl": "",
      "userId": "10783188122132859162"
     },
     "user_tz": -480
    },
    "id": "_OceWebGEClz",
    "outputId": "979cfb33-6793-4122-a947-73d1bd147a91"
   },
   "outputs": [],
   "source": [
    "%reload_ext autoreload\n",
    "%autoreload 2\n",
    "\n",
    "!pip install seaborn --upgrade\n",
    "\n",
    "import os, sys, numpy as np, pandas as pd, tensorflow as tf, cv2\n",
    "import seaborn as sns\n",
    "import scipy.stats as stats\n",
    "\n",
    "from collections import defaultdict\n",
    "from sklearn.model_selection import train_test_split\n",
    "from sklearn.preprocessing import StandardScaler, MinMaxScaler, LabelEncoder, LabelBinarizer\n",
    "from sklearn.metrics import auc, roc_curve\n",
    "\n",
    "from matplotlib import pyplot as plt\n",
    "sns.set(style=\"white\")\n",
    "\n",
    "import keras\n",
    "from keras import backend as K\n",
    "from keras.models import Sequential, Model\n",
    "from keras.layers import Dense, BatchNormalization, Activation, Input, Dropout, Embedding, Flatten, Input\n",
    "from keras.layers import Concatenate\n",
    "from keras.optimizers import Adam, Nadam\n",
    "from keras import regularizers\n",
    "\n",
    "classpath = os.path.abspath('..')\n",
    "if classpath not in sys.path: sys.path.insert(0, classpath)\n",
    "\n",
    "from solution import fe_functions as fn\n",
    "\n",
    "%matplotlib inline\n",
    "\n",
    "def plot_result(hist):\n",
    "    plt.figure(figsize=(16, 5))\n",
    "\n",
    "    plt.subplot(1, 2, 1)\n",
    "    plt.plot(hist.history['loss'], label='tr_loss')\n",
    "    plt.plot(hist.history['val_loss'], label='vl_loss')\n",
    "    plt.title('Loss')\n",
    "\n",
    "    plt.subplot(1, 2, 2)\n",
    "    plt.plot(hist.history['acc'], label='acc')\n",
    "    plt.plot(hist.history['val_acc'], label='val_acc')\n",
    "    plt.title('Accuracy')\n",
    "\n",
    "    plt.legend(loc='best')\n",
    "    plt.show()\n",
    "    \n",
    "def draw_roc_curve(y, pred):\n",
    "    from matplotlib import pyplot as plt\n",
    "\n",
    "    fprRf, tprRf, _ = roc_curve(y, pred, pos_label=1)\n",
    "    auc_scr = auc(fprRf, tprRf)\n",
    "    print(\"auc:\", auc_scr)\n",
    "    f, ax = plt.subplots(1, 1, figsize=(6, 6))\n",
    "\n",
    "    ax.plot([0, 1], [0, 1], 'k--')\n",
    "    ax.plot(fprRf, tprRf, label='ROC CURVE')\n",
    "    ax.set_xlabel('False positive rate')\n",
    "    ax.set_ylabel('True positive rate')\n",
    "    ax.set_title('Area Under Curve(ROC) (score: {:.4f})'.format(auc_scr))\n",
    "    ax.legend(loc='best')\n",
    "    plt.show()"
   ]
  },
  {
   "cell_type": "markdown",
   "metadata": {
    "colab_type": "text",
    "id": "qeEHBniStlgU"
   },
   "source": [
    "## Data Schema\n",
    "\n",
    "Column name         | Description\n",
    "\t\t\t\t ---|---\n",
    "customerIDCustomer \t|\tID\n",
    "genderCustomer  \t|\tgender (female, male)\n",
    "SeniorCitizen    \t|\tWhether the customer is a senior citizen or not (1, 0)\n",
    "Partner    \t\t\t|\tWhether the customer has a partner or not (Yes, No)\n",
    "Dependents    \t\t|\tWhether the customer has dependents or not (Yes, No)\n",
    "tenure\t\t\t\t|\tNumber of months the customer has stayed with the company\n",
    "PhoneService    \t|\tWhether the customer has a phone service or not (Yes, No)\n",
    "MultipleLines    \t|\tWhether the customer has multiple lines or not (Yes, No, No phone service)\n",
    "InternetService\t\t|\tCustomer’s internet service provider (DSL, Fiber optic, No)\n",
    "OnlineSecurity    \t|\tWhether the customer has online security or not (Yes, No, No internet service)\n",
    "OnlineBackup    \t|\tWhether the customer has online backup or not (Yes, No, No internet service)\n",
    "DeviceProtection   \t|\tWhether the customer has device protection or not (Yes, No, No internet service)\n",
    "TechSupport    \t\t|\tWhether the customer has tech support or not (Yes, No, No internet service)\n",
    "StreamingTV    \t\t|\tWhether the customer has streaming TV or not (Yes, No, No internet service)\n",
    "StreamingMovies    \t|\tWhether the customer has streaming movies or not (Yes, No, No internet service)\n",
    "contract \t\t\t|\tThe contract term of the customer (Month-to-month, One year, Two year)\n",
    "PaperlessBilling    |\tWhether the customer has paperless billing or not (Yes, No)\n",
    "PaymentMethod\t\t|\tThe customer’s payment method (Electronic check, Mailed check, Bank transfer (automatic), Credit card (automatic))\n",
    "MonthlyCharges\t\t|\tThe amount charged to the customer monthly\n",
    "TotalCharges\t\t|\tThe total amount charged to the customer\n",
    "churned\t\t\t\t|\tWhether the customer churned or not (Yes or No)\n",
    "\n",
    "---\n",
    "\n",
    "* 16個類別變數(customer id 不算)\n",
    "* 3個numeric變數\n",
    "\n",
    "\n",
    "---\n",
    "<br/>\n",
    "<br/>\n",
    "<br/>"
   ]
  },
  {
   "cell_type": "markdown",
   "metadata": {
    "colab_type": "text",
    "id": "Ps1HdA6twJck"
   },
   "source": [
    "# Purpose: \n",
    "* 給定金融客戶Metadata, 繳費行為等等, 預測該客戶是否在未來有可能離開?"
   ]
  },
  {
   "cell_type": "code",
   "execution_count": 2,
   "metadata": {
    "colab": {
     "base_uri": "https://localhost:8080/",
     "height": 196
    },
    "colab_type": "code",
    "executionInfo": {
     "elapsed": 1451,
     "status": "ok",
     "timestamp": 1538625951034,
     "user": {
      "displayName": "Gary Chen",
      "photoUrl": "",
      "userId": "10783188122132859162"
     },
     "user_tz": -480
    },
    "id": "_UOyp6tUECl1",
    "outputId": "6b14c68e-7fb2-4959-dfec-8d970505dc52"
   },
   "outputs": [
    {
     "data": {
      "text/html": [
       "<div>\n",
       "<style scoped>\n",
       "    .dataframe tbody tr th:only-of-type {\n",
       "        vertical-align: middle;\n",
       "    }\n",
       "\n",
       "    .dataframe tbody tr th {\n",
       "        vertical-align: top;\n",
       "    }\n",
       "\n",
       "    .dataframe thead th {\n",
       "        text-align: right;\n",
       "    }\n",
       "</style>\n",
       "<table border=\"1\" class=\"dataframe\">\n",
       "  <thead>\n",
       "    <tr style=\"text-align: right;\">\n",
       "      <th></th>\n",
       "      <th>customerID</th>\n",
       "      <th>gender</th>\n",
       "      <th>SeniorCitizen</th>\n",
       "      <th>Partner</th>\n",
       "      <th>Dependents</th>\n",
       "      <th>tenure</th>\n",
       "      <th>PhoneService</th>\n",
       "      <th>MultipleLines</th>\n",
       "      <th>InternetService</th>\n",
       "      <th>OnlineSecurity</th>\n",
       "      <th>...</th>\n",
       "      <th>DeviceProtection</th>\n",
       "      <th>TechSupport</th>\n",
       "      <th>StreamingTV</th>\n",
       "      <th>StreamingMovies</th>\n",
       "      <th>Contract</th>\n",
       "      <th>PaperlessBilling</th>\n",
       "      <th>PaymentMethod</th>\n",
       "      <th>MonthlyCharges</th>\n",
       "      <th>TotalCharges</th>\n",
       "      <th>Churn</th>\n",
       "    </tr>\n",
       "  </thead>\n",
       "  <tbody>\n",
       "    <tr>\n",
       "      <th>0</th>\n",
       "      <td>7590-VHVEG</td>\n",
       "      <td>Female</td>\n",
       "      <td>0</td>\n",
       "      <td>Yes</td>\n",
       "      <td>No</td>\n",
       "      <td>1</td>\n",
       "      <td>No</td>\n",
       "      <td>No phone service</td>\n",
       "      <td>DSL</td>\n",
       "      <td>No</td>\n",
       "      <td>...</td>\n",
       "      <td>No</td>\n",
       "      <td>No</td>\n",
       "      <td>No</td>\n",
       "      <td>No</td>\n",
       "      <td>Month-to-month</td>\n",
       "      <td>Yes</td>\n",
       "      <td>Electronic check</td>\n",
       "      <td>29.85</td>\n",
       "      <td>29.85</td>\n",
       "      <td>No</td>\n",
       "    </tr>\n",
       "    <tr>\n",
       "      <th>1</th>\n",
       "      <td>5575-GNVDE</td>\n",
       "      <td>Male</td>\n",
       "      <td>0</td>\n",
       "      <td>No</td>\n",
       "      <td>No</td>\n",
       "      <td>34</td>\n",
       "      <td>Yes</td>\n",
       "      <td>No</td>\n",
       "      <td>DSL</td>\n",
       "      <td>Yes</td>\n",
       "      <td>...</td>\n",
       "      <td>Yes</td>\n",
       "      <td>No</td>\n",
       "      <td>No</td>\n",
       "      <td>No</td>\n",
       "      <td>One year</td>\n",
       "      <td>No</td>\n",
       "      <td>Mailed check</td>\n",
       "      <td>56.95</td>\n",
       "      <td>1889.5</td>\n",
       "      <td>No</td>\n",
       "    </tr>\n",
       "    <tr>\n",
       "      <th>2</th>\n",
       "      <td>3668-QPYBK</td>\n",
       "      <td>Male</td>\n",
       "      <td>0</td>\n",
       "      <td>No</td>\n",
       "      <td>No</td>\n",
       "      <td>2</td>\n",
       "      <td>Yes</td>\n",
       "      <td>No</td>\n",
       "      <td>DSL</td>\n",
       "      <td>Yes</td>\n",
       "      <td>...</td>\n",
       "      <td>No</td>\n",
       "      <td>No</td>\n",
       "      <td>No</td>\n",
       "      <td>No</td>\n",
       "      <td>Month-to-month</td>\n",
       "      <td>Yes</td>\n",
       "      <td>Mailed check</td>\n",
       "      <td>53.85</td>\n",
       "      <td>108.15</td>\n",
       "      <td>Yes</td>\n",
       "    </tr>\n",
       "    <tr>\n",
       "      <th>3</th>\n",
       "      <td>7795-CFOCW</td>\n",
       "      <td>Male</td>\n",
       "      <td>0</td>\n",
       "      <td>No</td>\n",
       "      <td>No</td>\n",
       "      <td>45</td>\n",
       "      <td>No</td>\n",
       "      <td>No phone service</td>\n",
       "      <td>DSL</td>\n",
       "      <td>Yes</td>\n",
       "      <td>...</td>\n",
       "      <td>Yes</td>\n",
       "      <td>Yes</td>\n",
       "      <td>No</td>\n",
       "      <td>No</td>\n",
       "      <td>One year</td>\n",
       "      <td>No</td>\n",
       "      <td>Bank transfer (automatic)</td>\n",
       "      <td>42.30</td>\n",
       "      <td>1840.75</td>\n",
       "      <td>No</td>\n",
       "    </tr>\n",
       "    <tr>\n",
       "      <th>4</th>\n",
       "      <td>9237-HQITU</td>\n",
       "      <td>Female</td>\n",
       "      <td>0</td>\n",
       "      <td>No</td>\n",
       "      <td>No</td>\n",
       "      <td>2</td>\n",
       "      <td>Yes</td>\n",
       "      <td>No</td>\n",
       "      <td>Fiber optic</td>\n",
       "      <td>No</td>\n",
       "      <td>...</td>\n",
       "      <td>No</td>\n",
       "      <td>No</td>\n",
       "      <td>No</td>\n",
       "      <td>No</td>\n",
       "      <td>Month-to-month</td>\n",
       "      <td>Yes</td>\n",
       "      <td>Electronic check</td>\n",
       "      <td>70.70</td>\n",
       "      <td>151.65</td>\n",
       "      <td>Yes</td>\n",
       "    </tr>\n",
       "  </tbody>\n",
       "</table>\n",
       "<p>5 rows × 21 columns</p>\n",
       "</div>"
      ],
      "text/plain": [
       "   customerID  gender  SeniorCitizen Partner Dependents  tenure PhoneService  \\\n",
       "0  7590-VHVEG  Female              0     Yes         No       1           No   \n",
       "1  5575-GNVDE    Male              0      No         No      34          Yes   \n",
       "2  3668-QPYBK    Male              0      No         No       2          Yes   \n",
       "3  7795-CFOCW    Male              0      No         No      45           No   \n",
       "4  9237-HQITU  Female              0      No         No       2          Yes   \n",
       "\n",
       "      MultipleLines InternetService OnlineSecurity  ...  DeviceProtection  \\\n",
       "0  No phone service             DSL             No  ...                No   \n",
       "1                No             DSL            Yes  ...               Yes   \n",
       "2                No             DSL            Yes  ...                No   \n",
       "3  No phone service             DSL            Yes  ...               Yes   \n",
       "4                No     Fiber optic             No  ...                No   \n",
       "\n",
       "  TechSupport StreamingTV StreamingMovies        Contract PaperlessBilling  \\\n",
       "0          No          No              No  Month-to-month              Yes   \n",
       "1          No          No              No        One year               No   \n",
       "2          No          No              No  Month-to-month              Yes   \n",
       "3         Yes          No              No        One year               No   \n",
       "4          No          No              No  Month-to-month              Yes   \n",
       "\n",
       "               PaymentMethod MonthlyCharges  TotalCharges Churn  \n",
       "0           Electronic check          29.85         29.85    No  \n",
       "1               Mailed check          56.95        1889.5    No  \n",
       "2               Mailed check          53.85        108.15   Yes  \n",
       "3  Bank transfer (automatic)          42.30       1840.75    No  \n",
       "4           Electronic check          70.70        151.65   Yes  \n",
       "\n",
       "[5 rows x 21 columns]"
      ]
     },
     "execution_count": 2,
     "metadata": {},
     "output_type": "execute_result"
    }
   ],
   "source": [
    "raw = pd.read_csv(\"https://storage.googleapis.com/allianz-course/data/raw_tr_telco_customer_churn.csv\")\n",
    "raw_vl = pd.read_csv(\"https://storage.googleapis.com/allianz-course/data/raw_vl_telco_customer_churn.csv\")\n",
    "raw.head()"
   ]
  },
  {
   "cell_type": "markdown",
   "metadata": {
    "colab_type": "text",
    "id": "CP0v2VzYvUmG"
   },
   "source": [
    "## Drop 不必要的欄位"
   ]
  },
  {
   "cell_type": "code",
   "execution_count": 3,
   "metadata": {
    "colab": {},
    "colab_type": "code",
    "id": "ScS756pOvTLl"
   },
   "outputs": [],
   "source": [
    "raw.drop(['customerID'], 1, inplace=True)\n",
    "raw_vl.drop(['customerID'], 1, inplace=True)"
   ]
  },
  {
   "cell_type": "markdown",
   "metadata": {},
   "source": [
    "## Data Clean: TotalCharges\n",
    "\n",
    "* 讀取進來的時候因為有空字串, 導致於變成字串type, 需要轉型為float, 並且做missing value imputing\n",
    "* Tansfer `Churn` [Yes, No] to [1, 0]"
   ]
  },
  {
   "cell_type": "code",
   "execution_count": 4,
   "metadata": {},
   "outputs": [],
   "source": [
    "# TotalCharges 讀取進來的時候因為有missing value, 導致於變成字串type, 需要轉型為float, 並且做missing value imputing\n",
    "def str2num(e):\n",
    "    try:\n",
    "        return float(e)\n",
    "    except:\n",
    "        return np.nan\n",
    "              \n",
    "tmp = raw.TotalCharges.map(str2num)\n",
    "raw['TotalCharges'] = tmp.fillna(tmp.median())\n",
    "raw['Churn'] = raw.Churn.map(lambda e: 1 if e == 'Yes' else 0)\n",
    "\n",
    "tmp = raw_vl.TotalCharges.map(str2num)\n",
    "raw_vl['TotalCharges'] = tmp.fillna(tmp.median())\n",
    "raw_vl['Churn'] = raw_vl.Churn.map(lambda e: 1 if e == 'Yes' else 0)\n",
    "del tmp"
   ]
  },
  {
   "cell_type": "code",
   "execution_count": 5,
   "metadata": {
    "colab": {
     "base_uri": "https://localhost:8080/",
     "height": 284
    },
    "colab_type": "code",
    "executionInfo": {
     "elapsed": 721,
     "status": "ok",
     "timestamp": 1538625952553,
     "user": {
      "displayName": "Gary Chen",
      "photoUrl": "",
      "userId": "10783188122132859162"
     },
     "user_tz": -480
    },
    "id": "xbmIazS-_S9Z",
    "outputId": "61861644-02ea-4079-ab13-7f9c3b329469"
   },
   "outputs": [
    {
     "name": "stdout",
     "output_type": "stream",
     "text": [
      "<class 'pandas.core.frame.DataFrame'>\n",
      "RangeIndex: 5634 entries, 0 to 5633\n",
      "Data columns (total 20 columns):\n",
      "gender              5634 non-null object\n",
      "SeniorCitizen       5634 non-null int64\n",
      "Partner             5634 non-null object\n",
      "Dependents          5634 non-null object\n",
      "tenure              5634 non-null int64\n",
      "PhoneService        5634 non-null object\n",
      "MultipleLines       5634 non-null object\n",
      "InternetService     5634 non-null object\n",
      "OnlineSecurity      5634 non-null object\n",
      "OnlineBackup        5634 non-null object\n",
      "DeviceProtection    5634 non-null object\n",
      "TechSupport         5634 non-null object\n",
      "StreamingTV         5634 non-null object\n",
      "StreamingMovies     5634 non-null object\n",
      "Contract            5634 non-null object\n",
      "PaperlessBilling    5634 non-null object\n",
      "PaymentMethod       5634 non-null object\n",
      "MonthlyCharges      5634 non-null float64\n",
      "TotalCharges        5634 non-null float64\n",
      "Churn               5634 non-null int64\n",
      "dtypes: float64(2), int64(3), object(15)\n",
      "memory usage: 880.4+ KB\n"
     ]
    }
   ],
   "source": [
    "raw.info()"
   ]
  },
  {
   "cell_type": "markdown",
   "metadata": {
    "colab_type": "text",
    "id": "xoyVZct4tpFa"
   },
   "source": [
    "## Features setting"
   ]
  },
  {
   "cell_type": "code",
   "execution_count": 6,
   "metadata": {
    "colab": {},
    "colab_type": "code",
    "id": "plpAXiiatNgD"
   },
   "outputs": [],
   "source": [
    "catg_features = [\n",
    "    'gender', 'SeniorCitizen', 'Partner', 'Dependents',\n",
    "    'OnlineSecurity', 'OnlineBackup', 'DeviceProtection', 'TechSupport', 'StreamingTV', 'StreamingMovies',\n",
    "    'PhoneService', 'MultipleLines', 'InternetService',\n",
    "    'Contract', 'PaperlessBilling', 'PaymentMethod'\n",
    "]\n",
    "num_features = ['tenure', 'MonthlyCharges', 'TotalCharges']\n",
    "# embedding_features = catg_features + ['binn_tenure', 'binn_MonthlyCharges', 'binn_TotalCharges']\n",
    "label = 'Churn'"
   ]
  },
  {
   "cell_type": "markdown",
   "metadata": {
    "colab_type": "text",
    "id": "GchbLNAmQaJo"
   },
   "source": [
    "<br/>\n",
    "\n",
    "---\n",
    "\n"
   ]
  },
  {
   "cell_type": "markdown",
   "metadata": {
    "colab_type": "text",
    "id": "oCud9-1Esa6S"
   },
   "source": [
    "## Base Feature Preprocessing\n",
    "\n",
    "* Normalize ofr numeric features\n",
    "* One Hot Encoding for categorical features"
   ]
  },
  {
   "cell_type": "code",
   "execution_count": 7,
   "metadata": {},
   "outputs": [],
   "source": [
    "def feature_engineering(raw, is_train=True, status=None):\n",
    "    data = raw.copy()\n",
    "    \n",
    "    if is_train:\n",
    "        status = {'scaler': None, \n",
    "                  'mapper': defaultdict(LabelBinarizer),\n",
    "                  'woe_mapper': {},\n",
    "                  'binn_mapper': {},\n",
    "                  'freq_mapper': {},\n",
    "                  'mean_mapper': {}}\n",
    "\n",
    "    catg_ftrs = catg_features.copy()\n",
    "        \n",
    "    # Numeric binning to categorical features\n",
    "    do_binning(catg_ftrs, status, data, is_train)\n",
    "    # -----------------------------------------------------------------------------------------\n",
    "\n",
    "    catg_part = pd.DataFrame()\n",
    "    \n",
    "    # One Hot Encoding\n",
    "    # catg_part = pd.get_dummies(data[catg_ftrs])\n",
    "    do_onehot(catg_ftrs, catg_part, status, data, is_train)\n",
    "    # -----------------------------------------------------------------------------------------\n",
    "\n",
    "    # Embedding, simple indexing categorical features, actual embedding function in keras\n",
    "    # do_embedding(catg_ftrs, catg_part, status, data, is_train)\n",
    "    # -----------------------------------------------------------------------------------------\n",
    "\n",
    "    # WOE encoding\n",
    "    do_woe_encoding(catg_ftrs, catg_part, status, data, is_train)\n",
    "    # -----------------------------------------------------------------------------------------\n",
    "\n",
    "    # Frequency encoding, target mean encoding\n",
    "    do_target_encoding(catg_ftrs, catg_part, status, data, is_train)\n",
    "    # -----------------------------------------------------------------------------------------\n",
    "\n",
    "    # Normalize\n",
    "    num_part = do_norm(num_features, status, data, is_train)\n",
    "    # -----------------------------------------------------------------------------------------\n",
    "    \n",
    "    # Merge categorical, numeric features\n",
    "    data_x, data_y = pd.concat([catg_part, num_part], 1), data['Churn'].copy()\n",
    "    \n",
    "    # Include quadratic term, cube term\n",
    "    do_nth_order_polynominal(num_features, data_x)\n",
    "    # ----------------------------------------------------------------------------------------- \n",
    "    return data_x, data_y, status\n",
    "\n",
    "\n",
    "# # import fe_functions as fn\n",
    "# do_onehot = fn.do_onehot\n",
    "# do_norm = fn.do_norm\n",
    "# do_embedding = fn.do_embedding\n",
    "# do_binning = fn.do_binning\n",
    "# do_woe_encoding = fn.do_woe_encoding\n",
    "# do_target_encoding = fn.do_target_encoding\n",
    "# do_nth_order_polynominal = fn.do_nth_order_polynominal"
   ]
  },
  {
   "cell_type": "markdown",
   "metadata": {},
   "source": [
    "## Functions of Features Processing"
   ]
  },
  {
   "cell_type": "code",
   "execution_count": 8,
   "metadata": {},
   "outputs": [],
   "source": [
    "def do_binning(catg_ftrs, status, data, is_train):\n",
    "#     def quartile_binning(x):\n",
    "#         bins = np.percentile(x, range(0, 100, 25))[1:].tolist()\n",
    "#         iqr_x_150 = (bins[-1] - bins[0]) * 1.5\n",
    "#         bins = [bins[0] - iqr_x_150] + bins + [bins[-1] + iqr_x_150]\n",
    "#         result = pd.Series(np.digitize(x, bins)).map(pd.Series([0, 1, 2, 3, 4, 0])).values\n",
    "#         return result, bins\n",
    "#     for col in ('tenure', 'MonthlyCharges', 'TotalCharges'):\n",
    "#         binned_name = f'binn_{col}'\n",
    "#         if is_train:\n",
    "#             result, bins = quartile_binning(data[col])\n",
    "#             status['binn_mapper'][binned_name] = bins\n",
    "#             data[binned_name] = result\n",
    "#         else:\n",
    "#             bins = status['binn_mapper'][binned_name]\n",
    "#             data[binned_name] = pd.Series(np.digitize(data[col], bins))\\\n",
    "#                                   .map(pd.Series([0, 1, 2, 3, 4, 0])).values\n",
    "#         catg_ftrs.append(binned_name)\n",
    "    pass\n",
    "\n",
    "def do_onehot(catg_ftrs, catg_part, status, data, is_train):\n",
    "    mapper = status['mapper']\n",
    "    tmp = []\n",
    "    for catg_col in catg_ftrs:\n",
    "        if is_train:\n",
    "            result = mapper[catg_col].fit_transform(data[catg_col])\n",
    "        else:\n",
    "            result = mapper[catg_col].transform(data[catg_col])\n",
    "\n",
    "        columns = [f'{catg_col}_{col}' for col in mapper[catg_col].classes_]\n",
    "        if result.shape[1] == 1:\n",
    "            columns = columns[:1]\n",
    "        tmp.append(pd.DataFrame(data=result, columns=columns))\n",
    "    tmp = pd.concat(tmp, 1)\n",
    "    for col in tmp:\n",
    "        catg_part[col] = tmp[col]\n",
    "    pass\n",
    "\n",
    "def do_woe_encoding(catg_ftrs, catg_part, status, data, is_train):\n",
    "#     def woe_encode(x, label, data):\n",
    "#         \"\"\"Calculate the Weight of Evidence of given categorical feature and label\n",
    "\n",
    "#         :param x: Given feature name\n",
    "#         :param label: Label name\n",
    "#         :param data:\n",
    "#         :return: WOE encoded dictionary\n",
    "#         \"\"\"\n",
    "#         total_vc = data[label].value_counts().sort_index()\n",
    "\n",
    "#         def woe(pipe, total_vc):\n",
    "#             # Count by label in this group\n",
    "#             group_vc = pipe[label].value_counts().sort_index()\n",
    "\n",
    "#             # Some class in the feature is missing, fill zero to missing class\n",
    "#             if len(group_vc) < len(total_vc):\n",
    "#                 for key in total_vc.index:\n",
    "#                     if key not in group_vc:\n",
    "#                         group_vc[key] = 0.\n",
    "#                 group_vc = group_vc.sort_index()\n",
    "\n",
    "#             # WOE formula\n",
    "#             r = ((group_vc + 0.5) / total_vc).values\n",
    "\n",
    "#             # Odd ratio => 1 to 0, you can define meaning of each class\n",
    "#             return np.log(r[1] / r[0])\n",
    "\n",
    "#         return data.groupby(x).apply(lambda pipe: woe(pipe, total_vc))\n",
    "\n",
    "#     for catg_col in catg_ftrs:\n",
    "#         if is_train:\n",
    "#             kv = woe_encode(catg_col, 'Churn', data)\n",
    "#             status['woe_mapper'][catg_col] = kv.to_dict()\n",
    "#         else:\n",
    "#             kv = pd.Series(status['woe_mapper'][catg_col])\n",
    "#         catg_part[f'woe_{catg_col}'] = kv.reindex(data[catg_col]).values\n",
    "    pass\n",
    "\n",
    "def do_target_encoding(catg_ftrs, catg_part, status, data, is_train):\n",
    "#     for catg_col in catg_ftrs:\n",
    "#         if is_train:\n",
    "#             freq_proportion = data[catg_col].value_counts() / len(data)\n",
    "#             catg_part[f'freq_{catg_col}'] = freq_proportion.reindex(data[catg_col]).values\n",
    "#             target_mean = data.groupby(catg_col).Churn.mean()\n",
    "#             catg_part[f'mean_{catg_col}'] = target_mean.reindex(data[catg_col]).values\n",
    "\n",
    "#             status['freq_mapper'][catg_col] = freq_proportion.to_dict()\n",
    "#             status['mean_mapper'][catg_col] = target_mean.to_dict()\n",
    "#         else:\n",
    "#             catg_part[f'freq_{catg_col}'] = pd.Series(status['freq_mapper'][catg_col]).reindex(data[catg_col]).values\n",
    "#             catg_part[f'mean_{catg_col}'] = pd.Series(status['mean_mapper'][catg_col]).reindex(data[catg_col]).values\n",
    "    pass\n",
    "\n",
    "def do_norm(num_features, status, data, is_train):\n",
    "    num_part = data[num_features].copy()\n",
    "    if is_train:\n",
    "        scaler = StandardScaler()\n",
    "        status['scaler'] = scaler\n",
    "        num_part = pd.DataFrame(data=scaler.fit_transform(num_part), columns=num_part.columns)\n",
    "    else:\n",
    "        scaler = status['scaler']\n",
    "        num_part = pd.DataFrame(data=scaler.transform(num_part), columns=num_part.columns)\n",
    "    return num_part\n",
    "    pass\n",
    "\n",
    "def do_nth_order_polynominal(num_features, data):\n",
    "#     for num_col in num_features:\n",
    "#         data[f'{num_col}_degree_2'] = data[num_col] ** 2\n",
    "#         data[f'{num_col}_degree_3'] = data[num_col] ** 3\n",
    "    pass"
   ]
  },
  {
   "cell_type": "markdown",
   "metadata": {
    "colab_type": "text",
    "id": "52CvQZa1t2A7"
   },
   "source": [
    "## Model on Base Featue Engineering\n",
    "\n",
    "* Network Structure: \n",
    "    * `dimension of input, 32, 16, 16, 1`\n",
    "* ReLU Activation Function\n",
    "* Adam Optimizer\n",
    "* Sigmoid Cross Entropy"
   ]
  },
  {
   "cell_type": "code",
   "execution_count": 9,
   "metadata": {},
   "outputs": [],
   "source": [
    "def get_model(input_dim):\n",
    "    model = Sequential()\n",
    "    # kernel_regularizer=regularizers.l2(0.005)\n",
    "    model.add(Dense(units = 32, activation = 'relu', kernel_initializer='uniform', input_dim = input_dim))\n",
    "    model.add(Dense(units = 16, activation = 'relu', kernel_initializer='uniform'))\n",
    "    model.add(Dense(units = 16, activation = 'relu', kernel_initializer='uniform'))\n",
    "    model.add(Dense(units = 1, activation = 'sigmoid', kernel_initializer='uniform'))\n",
    "    model.summary()\n",
    "    model.compile(optimizer='adam', loss = 'binary_crossentropy', metrics = ['accuracy'])\n",
    "    return model"
   ]
  },
  {
   "cell_type": "code",
   "execution_count": 10,
   "metadata": {
    "colab": {
     "base_uri": "https://localhost:8080/",
     "height": 233
    },
    "colab_type": "code",
    "executionInfo": {
     "elapsed": 629,
     "status": "ok",
     "timestamp": 1538622762380,
     "user": {
      "displayName": "Gary Chen",
      "photoUrl": "",
      "userId": "10783188122132859162"
     },
     "user_tz": -480
    },
    "id": "udNVad7usaNe",
    "outputId": "22eba0e1-e10a-4822-d26a-af193fdf0362",
    "scrolled": true
   },
   "outputs": [
    {
     "name": "stdout",
     "output_type": "stream",
     "text": [
      "(5634, 40) (1409, 40)\n"
     ]
    },
    {
     "data": {
      "text/html": [
       "<div>\n",
       "<style scoped>\n",
       "    .dataframe tbody tr th:only-of-type {\n",
       "        vertical-align: middle;\n",
       "    }\n",
       "\n",
       "    .dataframe tbody tr th {\n",
       "        vertical-align: top;\n",
       "    }\n",
       "\n",
       "    .dataframe thead th {\n",
       "        text-align: right;\n",
       "    }\n",
       "</style>\n",
       "<table border=\"1\" class=\"dataframe\">\n",
       "  <thead>\n",
       "    <tr style=\"text-align: right;\">\n",
       "      <th></th>\n",
       "      <th>gender_Female</th>\n",
       "      <th>SeniorCitizen_0</th>\n",
       "      <th>Partner_No</th>\n",
       "      <th>Dependents_No</th>\n",
       "      <th>OnlineSecurity_No</th>\n",
       "      <th>OnlineSecurity_No internet service</th>\n",
       "      <th>OnlineSecurity_Yes</th>\n",
       "      <th>OnlineBackup_No</th>\n",
       "      <th>OnlineBackup_No internet service</th>\n",
       "      <th>OnlineBackup_Yes</th>\n",
       "      <th>...</th>\n",
       "      <th>Contract_One year</th>\n",
       "      <th>Contract_Two year</th>\n",
       "      <th>PaperlessBilling_No</th>\n",
       "      <th>PaymentMethod_Bank transfer (automatic)</th>\n",
       "      <th>PaymentMethod_Credit card (automatic)</th>\n",
       "      <th>PaymentMethod_Electronic check</th>\n",
       "      <th>PaymentMethod_Mailed check</th>\n",
       "      <th>tenure</th>\n",
       "      <th>MonthlyCharges</th>\n",
       "      <th>TotalCharges</th>\n",
       "    </tr>\n",
       "  </thead>\n",
       "  <tbody>\n",
       "    <tr>\n",
       "      <th>0</th>\n",
       "      <td>0</td>\n",
       "      <td>0</td>\n",
       "      <td>1</td>\n",
       "      <td>0</td>\n",
       "      <td>1</td>\n",
       "      <td>0</td>\n",
       "      <td>0</td>\n",
       "      <td>0</td>\n",
       "      <td>0</td>\n",
       "      <td>1</td>\n",
       "      <td>...</td>\n",
       "      <td>0</td>\n",
       "      <td>0</td>\n",
       "      <td>1</td>\n",
       "      <td>0</td>\n",
       "      <td>0</td>\n",
       "      <td>1</td>\n",
       "      <td>0</td>\n",
       "      <td>-1.273098</td>\n",
       "      <td>-1.155973</td>\n",
       "      <td>-0.990447</td>\n",
       "    </tr>\n",
       "    <tr>\n",
       "      <th>1</th>\n",
       "      <td>1</td>\n",
       "      <td>0</td>\n",
       "      <td>0</td>\n",
       "      <td>0</td>\n",
       "      <td>0</td>\n",
       "      <td>0</td>\n",
       "      <td>1</td>\n",
       "      <td>1</td>\n",
       "      <td>0</td>\n",
       "      <td>0</td>\n",
       "      <td>...</td>\n",
       "      <td>1</td>\n",
       "      <td>0</td>\n",
       "      <td>0</td>\n",
       "      <td>0</td>\n",
       "      <td>0</td>\n",
       "      <td>0</td>\n",
       "      <td>1</td>\n",
       "      <td>0.072520</td>\n",
       "      <td>-0.253553</td>\n",
       "      <td>-0.166213</td>\n",
       "    </tr>\n",
       "    <tr>\n",
       "      <th>2</th>\n",
       "      <td>1</td>\n",
       "      <td>0</td>\n",
       "      <td>0</td>\n",
       "      <td>0</td>\n",
       "      <td>0</td>\n",
       "      <td>0</td>\n",
       "      <td>1</td>\n",
       "      <td>0</td>\n",
       "      <td>0</td>\n",
       "      <td>1</td>\n",
       "      <td>...</td>\n",
       "      <td>0</td>\n",
       "      <td>0</td>\n",
       "      <td>1</td>\n",
       "      <td>0</td>\n",
       "      <td>0</td>\n",
       "      <td>0</td>\n",
       "      <td>1</td>\n",
       "      <td>-1.232322</td>\n",
       "      <td>-0.356781</td>\n",
       "      <td>-0.955743</td>\n",
       "    </tr>\n",
       "    <tr>\n",
       "      <th>3</th>\n",
       "      <td>1</td>\n",
       "      <td>0</td>\n",
       "      <td>0</td>\n",
       "      <td>0</td>\n",
       "      <td>0</td>\n",
       "      <td>0</td>\n",
       "      <td>1</td>\n",
       "      <td>1</td>\n",
       "      <td>0</td>\n",
       "      <td>0</td>\n",
       "      <td>...</td>\n",
       "      <td>1</td>\n",
       "      <td>0</td>\n",
       "      <td>0</td>\n",
       "      <td>1</td>\n",
       "      <td>0</td>\n",
       "      <td>0</td>\n",
       "      <td>0</td>\n",
       "      <td>0.521060</td>\n",
       "      <td>-0.741392</td>\n",
       "      <td>-0.187820</td>\n",
       "    </tr>\n",
       "    <tr>\n",
       "      <th>4</th>\n",
       "      <td>0</td>\n",
       "      <td>0</td>\n",
       "      <td>0</td>\n",
       "      <td>0</td>\n",
       "      <td>1</td>\n",
       "      <td>0</td>\n",
       "      <td>0</td>\n",
       "      <td>1</td>\n",
       "      <td>0</td>\n",
       "      <td>0</td>\n",
       "      <td>...</td>\n",
       "      <td>0</td>\n",
       "      <td>0</td>\n",
       "      <td>1</td>\n",
       "      <td>0</td>\n",
       "      <td>0</td>\n",
       "      <td>1</td>\n",
       "      <td>0</td>\n",
       "      <td>-1.232322</td>\n",
       "      <td>0.204318</td>\n",
       "      <td>-0.936463</td>\n",
       "    </tr>\n",
       "  </tbody>\n",
       "</table>\n",
       "<p>5 rows × 40 columns</p>\n",
       "</div>"
      ],
      "text/plain": [
       "   gender_Female  SeniorCitizen_0  Partner_No  Dependents_No  \\\n",
       "0              0                0           1              0   \n",
       "1              1                0           0              0   \n",
       "2              1                0           0              0   \n",
       "3              1                0           0              0   \n",
       "4              0                0           0              0   \n",
       "\n",
       "   OnlineSecurity_No  OnlineSecurity_No internet service  OnlineSecurity_Yes  \\\n",
       "0                  1                                   0                   0   \n",
       "1                  0                                   0                   1   \n",
       "2                  0                                   0                   1   \n",
       "3                  0                                   0                   1   \n",
       "4                  1                                   0                   0   \n",
       "\n",
       "   OnlineBackup_No  OnlineBackup_No internet service  OnlineBackup_Yes  \\\n",
       "0                0                                 0                 1   \n",
       "1                1                                 0                 0   \n",
       "2                0                                 0                 1   \n",
       "3                1                                 0                 0   \n",
       "4                1                                 0                 0   \n",
       "\n",
       "       ...       Contract_One year  Contract_Two year  PaperlessBilling_No  \\\n",
       "0      ...                       0                  0                    1   \n",
       "1      ...                       1                  0                    0   \n",
       "2      ...                       0                  0                    1   \n",
       "3      ...                       1                  0                    0   \n",
       "4      ...                       0                  0                    1   \n",
       "\n",
       "   PaymentMethod_Bank transfer (automatic)  \\\n",
       "0                                        0   \n",
       "1                                        0   \n",
       "2                                        0   \n",
       "3                                        1   \n",
       "4                                        0   \n",
       "\n",
       "   PaymentMethod_Credit card (automatic)  PaymentMethod_Electronic check  \\\n",
       "0                                      0                               1   \n",
       "1                                      0                               0   \n",
       "2                                      0                               0   \n",
       "3                                      0                               0   \n",
       "4                                      0                               1   \n",
       "\n",
       "   PaymentMethod_Mailed check    tenure  MonthlyCharges  TotalCharges  \n",
       "0                           0 -1.273098       -1.155973     -0.990447  \n",
       "1                           1  0.072520       -0.253553     -0.166213  \n",
       "2                           1 -1.232322       -0.356781     -0.955743  \n",
       "3                           0  0.521060       -0.741392     -0.187820  \n",
       "4                           0 -1.232322        0.204318     -0.936463  \n",
       "\n",
       "[5 rows x 40 columns]"
      ]
     },
     "execution_count": 10,
     "metadata": {},
     "output_type": "execute_result"
    }
   ],
   "source": [
    "# Trnasform raw data to foramt model recognized\n",
    "tr_x, tr_y, status = feature_engineering(raw, is_train=True)\n",
    "vl_x, vl_y, _ = feature_engineering(raw_vl, is_train=False, status=status)\n",
    "\n",
    "print( tr_x.shape, vl_x.shape )\n",
    "tr_x.head()"
   ]
  },
  {
   "cell_type": "code",
   "execution_count": 12,
   "metadata": {
    "colab": {
     "base_uri": "https://localhost:8080/",
     "height": 1575
    },
    "colab_type": "code",
    "executionInfo": {
     "elapsed": 4037,
     "status": "ok",
     "timestamp": 1538621868067,
     "user": {
      "displayName": "Gary Chen",
      "photoUrl": "",
      "userId": "10783188122132859162"
     },
     "user_tz": -480
    },
    "id": "SMJbH52ot1aD",
    "outputId": "70f5e5a7-4dc3-4269-f928-8c97c08f1598",
    "scrolled": true
   },
   "outputs": [
    {
     "name": "stdout",
     "output_type": "stream",
     "text": [
      "_________________________________________________________________\n",
      "Layer (type)                 Output Shape              Param #   \n",
      "=================================================================\n",
      "dense_1 (Dense)              (None, 32)                1312      \n",
      "_________________________________________________________________\n",
      "dense_2 (Dense)              (None, 16)                528       \n",
      "_________________________________________________________________\n",
      "dense_3 (Dense)              (None, 16)                272       \n",
      "_________________________________________________________________\n",
      "dense_4 (Dense)              (None, 1)                 17        \n",
      "=================================================================\n",
      "Total params: 2,129\n",
      "Trainable params: 2,129\n",
      "Non-trainable params: 0\n",
      "_________________________________________________________________\n",
      "Train on 5634 samples, validate on 1409 samples\n",
      "Epoch 1/30\n",
      "5634/5634 [==============================] - 1s 114us/step - loss: 0.6431 - acc: 0.7293 - val_loss: 0.5110 - val_acc: 0.7452\n",
      "Epoch 2/30\n",
      "5634/5634 [==============================] - 0s 42us/step - loss: 0.4626 - acc: 0.7320 - val_loss: 0.4460 - val_acc: 0.7452\n",
      "Epoch 3/30\n",
      "5634/5634 [==============================] - 0s 43us/step - loss: 0.4387 - acc: 0.7320 - val_loss: 0.4425 - val_acc: 0.7452\n",
      "Epoch 4/30\n",
      "5634/5634 [==============================] - 0s 40us/step - loss: 0.4343 - acc: 0.8019 - val_loss: 0.4414 - val_acc: 0.7828\n",
      "Epoch 5/30\n",
      "5634/5634 [==============================] - 0s 37us/step - loss: 0.4320 - acc: 0.8023 - val_loss: 0.4411 - val_acc: 0.7842\n",
      "Epoch 6/30\n",
      "5634/5634 [==============================] - 0s 37us/step - loss: 0.4288 - acc: 0.8042 - val_loss: 0.4403 - val_acc: 0.7850\n",
      "Epoch 7/30\n",
      "5634/5634 [==============================] - 0s 44us/step - loss: 0.4269 - acc: 0.8040 - val_loss: 0.4390 - val_acc: 0.7835\n",
      "Epoch 8/30\n",
      "5634/5634 [==============================] - 0s 43us/step - loss: 0.4248 - acc: 0.8035 - val_loss: 0.4389 - val_acc: 0.7800\n",
      "Epoch 9/30\n",
      "5634/5634 [==============================] - 0s 37us/step - loss: 0.4220 - acc: 0.8062 - val_loss: 0.4383 - val_acc: 0.7864\n",
      "Epoch 10/30\n",
      "5634/5634 [==============================] - 0s 38us/step - loss: 0.4200 - acc: 0.8108 - val_loss: 0.4369 - val_acc: 0.7842\n",
      "Epoch 11/30\n",
      "5634/5634 [==============================] - 0s 36us/step - loss: 0.4188 - acc: 0.8067 - val_loss: 0.4375 - val_acc: 0.7850\n",
      "Epoch 12/30\n",
      "5634/5634 [==============================] - 0s 38us/step - loss: 0.4180 - acc: 0.8072 - val_loss: 0.4363 - val_acc: 0.7842\n",
      "Epoch 13/30\n",
      "5634/5634 [==============================] - 0s 38us/step - loss: 0.4166 - acc: 0.8044 - val_loss: 0.4353 - val_acc: 0.7850\n",
      "Epoch 14/30\n",
      "5634/5634 [==============================] - 0s 36us/step - loss: 0.4149 - acc: 0.8060 - val_loss: 0.4353 - val_acc: 0.7850\n",
      "Epoch 15/30\n",
      "5634/5634 [==============================] - 0s 36us/step - loss: 0.4144 - acc: 0.8076 - val_loss: 0.4351 - val_acc: 0.7842\n",
      "Epoch 16/30\n",
      "5634/5634 [==============================] - 0s 39us/step - loss: 0.4140 - acc: 0.8080 - val_loss: 0.4353 - val_acc: 0.7857\n",
      "Epoch 17/30\n",
      "5634/5634 [==============================] - 0s 42us/step - loss: 0.4130 - acc: 0.8078 - val_loss: 0.4376 - val_acc: 0.7928\n",
      "Epoch 18/30\n",
      "5634/5634 [==============================] - 0s 40us/step - loss: 0.4123 - acc: 0.8074 - val_loss: 0.4351 - val_acc: 0.7885\n",
      "Epoch 19/30\n",
      "5634/5634 [==============================] - 0s 40us/step - loss: 0.4111 - acc: 0.8087 - val_loss: 0.4348 - val_acc: 0.7842\n",
      "Epoch 20/30\n",
      "5634/5634 [==============================] - 0s 39us/step - loss: 0.4106 - acc: 0.8094 - val_loss: 0.4352 - val_acc: 0.7835\n",
      "Epoch 21/30\n",
      "5634/5634 [==============================] - 0s 41us/step - loss: 0.4101 - acc: 0.8081 - val_loss: 0.4386 - val_acc: 0.7921\n",
      "Epoch 22/30\n",
      "5634/5634 [==============================] - 0s 38us/step - loss: 0.4098 - acc: 0.8087 - val_loss: 0.4373 - val_acc: 0.7942\n",
      "Epoch 23/30\n",
      "5634/5634 [==============================] - 0s 35us/step - loss: 0.4098 - acc: 0.8060 - val_loss: 0.4371 - val_acc: 0.7906\n",
      "Epoch 24/30\n",
      "5634/5634 [==============================] - 0s 41us/step - loss: 0.4085 - acc: 0.8092 - val_loss: 0.4364 - val_acc: 0.7885\n",
      "Epoch 25/30\n",
      "5634/5634 [==============================] - 0s 39us/step - loss: 0.4089 - acc: 0.8106 - val_loss: 0.4346 - val_acc: 0.7842\n",
      "Epoch 26/30\n",
      "5634/5634 [==============================] - 0s 41us/step - loss: 0.4077 - acc: 0.8115 - val_loss: 0.4378 - val_acc: 0.7913\n",
      "Epoch 27/30\n",
      "5634/5634 [==============================] - 0s 38us/step - loss: 0.4079 - acc: 0.8106 - val_loss: 0.4369 - val_acc: 0.7864\n",
      "Epoch 28/30\n",
      "5634/5634 [==============================] - 0s 38us/step - loss: 0.4075 - acc: 0.8108 - val_loss: 0.4385 - val_acc: 0.7857\n",
      "Epoch 29/30\n",
      "5634/5634 [==============================] - 0s 39us/step - loss: 0.4069 - acc: 0.8110 - val_loss: 0.4359 - val_acc: 0.7842\n",
      "Epoch 30/30\n",
      "5634/5634 [==============================] - 0s 38us/step - loss: 0.4064 - acc: 0.8133 - val_loss: 0.4368 - val_acc: 0.7885\n"
     ]
    },
    {
     "data": {
      "image/png": "[encoded data removed]",
      "text/plain": [
       "<Figure size 1152x360 with 2 Axes>"
      ]
     },
     "metadata": {},
     "output_type": "display_data"
    },
    {
     "name": "stdout",
     "output_type": "stream",
     "text": [
      "auc: 0.8219273113144978\n"
     ]
    },
    {
     "data": {
      "image/png": "[encoded data removed]",
      "text/plain": [
       "<Figure size 432x432 with 1 Axes>"
      ]
     },
     "metadata": {},
     "output_type": "display_data"
    }
   ],
   "source": [
    "K.clear_session()\n",
    "\n",
    "model = get_model(input_dim=tr_x.shape[1])\n",
    "hist = model.fit(tr_x, tr_y, validation_data=(vl_x, vl_y), batch_size=100, epochs=30)\n",
    "plot_result(hist)\n",
    "draw_roc_curve(vl_y, model.predict(vl_x))"
   ]
  },
  {
   "cell_type": "code",
   "execution_count": null,
   "metadata": {},
   "outputs": [],
   "source": []
  },
  {
   "cell_type": "markdown",
   "metadata": {
    "colab_type": "text",
    "id": "h9MWinD-e6SX"
   },
   "source": [
    "## Bining Numeric Feature: Age, Balance, CreditScore\n",
    "\n",
    "* `Age` Interquartile cut\n",
    "* `Balance` Binary cut => 0 if  `Balance = 0` else 1\n",
    "* `CreditScore` Deciles cut\n"
   ]
  },
  {
   "cell_type": "code",
   "execution_count": null,
   "metadata": {
    "colab": {
     "base_uri": "https://localhost:8080/",
     "height": 33
    },
    "colab_type": "code",
    "executionInfo": {
     "elapsed": 623,
     "status": "ok",
     "timestamp": 1538632948251,
     "user": {
      "displayName": "Gary Chen",
      "photoUrl": "",
      "userId": "10783188122132859162"
     },
     "user_tz": -480
    },
    "id": "KEZCNmIMqlor",
    "outputId": "e3f26c9d-4262-4591-f24a-84e80ec60012"
   },
   "outputs": [],
   "source": [
    "def do_binning(catg_ftrs, status, data, is_train):\n",
    "    def quartile_binning(x):\n",
    "        bins = np.percentile(x, range(0, 100, 25))[1:].tolist()\n",
    "        iqr_x_150 = (bins[-1] - bins[0]) * 1.5\n",
    "        bins = [bins[0] - iqr_x_150] + bins + [bins[-1] + iqr_x_150]\n",
    "        result = pd.Series(np.digitize(x, bins)).map(pd.Series([0, 1, 2, 3, 4, 0])).values\n",
    "        return result, bins\n",
    "\n",
    "    for col in ('tenure', 'MonthlyCharges', 'TotalCharges'):\n",
    "        binned_name = f'binn_{col}'\n",
    "        if is_train:\n",
    "            result, bins = quartile_binning(data[col])\n",
    "            status['binn_mapper'][binned_name] = bins\n",
    "            data[binned_name] = result\n",
    "        else:\n",
    "            bins = status['binn_mapper'][binned_name]\n",
    "            data[binned_name] = pd.Series(np.digitize(data[col], bins))\\\n",
    "                                  .map(pd.Series([0, 1, 2, 3, 4, 0])).values\n",
    "\n",
    "        catg_ftrs.append(binned_name)\n",
    "    pass"
   ]
  },
  {
   "cell_type": "code",
   "execution_count": null,
   "metadata": {},
   "outputs": [],
   "source": [
    "# Trnasform raw data to foramt model recognized\n",
    "tr_x, tr_y, status = feature_engineering(raw, is_train=True)\n",
    "vl_x, vl_y, _ = feature_engineering(raw_vl, is_train=False, status=status)\n",
    "\n",
    "print( tr_x.shape, vl_x.shape )\n",
    "tr_x.head()"
   ]
  },
  {
   "cell_type": "markdown",
   "metadata": {},
   "source": [
    "## Model (Binning)"
   ]
  },
  {
   "cell_type": "code",
   "execution_count": null,
   "metadata": {
    "scrolled": true
   },
   "outputs": [],
   "source": [
    "K.clear_session()\n",
    "\n",
    "model = get_model(input_dim=tr_x.shape[1])\n",
    "hist = model.fit(tr_x, tr_y, validation_data=(vl_x, vl_y), batch_size=100, epochs=60)\n",
    "plot_result(hist)\n",
    "draw_roc_curve(vl_y, model.predict(vl_x))"
   ]
  },
  {
   "cell_type": "code",
   "execution_count": null,
   "metadata": {},
   "outputs": [],
   "source": [
    "vl_y.value_counts()"
   ]
  },
  {
   "cell_type": "code",
   "execution_count": null,
   "metadata": {},
   "outputs": [],
   "source": [
    "from sklearn.metrics import confusion_matrix, classification_report\n",
    "\n",
    "print( confusion_matrix(vl_y, model.predict(vl_x) > .5) )\n",
    "# draw_roc_curve(vl_y, model.predict(vl_x))"
   ]
  },
  {
   "cell_type": "code",
   "execution_count": null,
   "metadata": {},
   "outputs": [],
   "source": [
    "sns.lineplot(range(len(vl_x)), pd.Series(model.predict(vl_x).ravel()).sort_values())"
   ]
  },
  {
   "cell_type": "code",
   "execution_count": null,
   "metadata": {},
   "outputs": [],
   "source": [
    "help(confusion_matrix)"
   ]
  },
  {
   "cell_type": "code",
   "execution_count": 17,
   "metadata": {},
   "outputs": [
    {
     "name": "stdout",
     "output_type": "stream",
     "text": [
      "[[1 1]\n",
      " [2 0]]\n",
      "             precision    recall  f1-score   support\n",
      "\n",
      "          0       0.00      0.00      0.00         2\n",
      "          1       0.33      0.50      0.40         2\n",
      "\n",
      "avg / total       0.17      0.25      0.20         4\n",
      "\n"
     ]
    }
   ],
   "source": [
    "from sklearn.metrics import confusion_matrix, classification_report\n",
    "print(confusion_matrix([0, 1, 0, 1], [1, 1, 1, 0], labels=[1, 0]))\n",
    "print(classification_report([0, 1, 0, 1], [1, 1, 1, 0]))"
   ]
  },
  {
   "cell_type": "markdown",
   "metadata": {
    "colab_type": "text",
    "id": "4EtiRvZDGVfV"
   },
   "source": [
    "## Add Weight of Evidence Encoding"
   ]
  },
  {
   "cell_type": "code",
   "execution_count": null,
   "metadata": {
    "colab": {
     "base_uri": "https://localhost:8080/",
     "height": 262
    },
    "colab_type": "code",
    "executionInfo": {
     "elapsed": 615,
     "status": "ok",
     "timestamp": 1538629657376,
     "user": {
      "displayName": "Gary Chen",
      "photoUrl": "",
      "userId": "10783188122132859162"
     },
     "user_tz": -480
    },
    "id": "L_YwlDOpGVml",
    "outputId": "abfe5e13-576a-4d23-acc6-9cc8f4db9c78"
   },
   "outputs": [],
   "source": []
  },
  {
   "cell_type": "code",
   "execution_count": null,
   "metadata": {},
   "outputs": [],
   "source": [
    "# Trnasform raw data to foramt model recognized\n",
    "tr_x, tr_y, status = feature_engineering(raw, is_train=True)\n",
    "vl_x, vl_y, _ = feature_engineering(raw_vl, is_train=False, status=status)\n",
    "\n",
    "print( tr_x.shape, vl_x.shape )\n",
    "tr_x.head()"
   ]
  },
  {
   "cell_type": "markdown",
   "metadata": {
    "colab_type": "text",
    "id": "xp-VkesMgDVz"
   },
   "source": [
    "## Model (WOE)"
   ]
  },
  {
   "cell_type": "code",
   "execution_count": null,
   "metadata": {
    "colab": {
     "base_uri": "https://localhost:8080/",
     "height": 1609
    },
    "colab_type": "code",
    "executionInfo": {
     "elapsed": 4738,
     "status": "ok",
     "timestamp": 1538629717958,
     "user": {
      "displayName": "Gary Chen",
      "photoUrl": "",
      "userId": "10783188122132859162"
     },
     "user_tz": -480
    },
    "id": "_1oC02RWeZoH",
    "outputId": "2c19cff1-1626-4319-8904-bf0f5bf81d36"
   },
   "outputs": [],
   "source": [
    "K.clear_session()\n",
    "\n",
    "model = get_model(input_dim=56)\n",
    "hist = model.fit(tr_x, tr_y, validation_data=(vl_x, vl_y), batch_size=100, epochs=30)\n",
    "plot_result(hist)\n",
    "draw_roc_curve(vl_y, model.predict(vl_x))"
   ]
  },
  {
   "cell_type": "markdown",
   "metadata": {},
   "source": [
    "## Statistical Encoding, Target Encoding\n",
    "\n",
    "* Frequency encoding\n",
    "* Mean encoding"
   ]
  },
  {
   "cell_type": "code",
   "execution_count": null,
   "metadata": {},
   "outputs": [],
   "source": []
  },
  {
   "cell_type": "code",
   "execution_count": null,
   "metadata": {
    "scrolled": true
   },
   "outputs": [],
   "source": [
    "# Trnasform raw data to foramt model recognized\n",
    "tr_x, tr_y, status = feature_engineering(raw, is_train=True)\n",
    "vl_x, vl_y, _ = feature_engineering(raw_vl, is_train=False, status=status)\n",
    "\n",
    "print( tr_x.shape, vl_x.shape )\n",
    "tr_x.head()"
   ]
  },
  {
   "cell_type": "markdown",
   "metadata": {},
   "source": [
    "## Model (WOE + Binning + Freqency Encoding + Target Mean Encoding)"
   ]
  },
  {
   "cell_type": "code",
   "execution_count": null,
   "metadata": {
    "scrolled": true
   },
   "outputs": [],
   "source": [
    "K.clear_session()\n",
    "\n",
    "model = get_model(input_dim=130)\n",
    "hist = model.fit(tr_x, tr_y, validation_data=(vl_x, vl_y), batch_size=100, epochs=30)\n",
    "plot_result(hist)\n",
    "draw_roc_curve(vl_y, model.predict(vl_x))"
   ]
  },
  {
   "cell_type": "markdown",
   "metadata": {
    "colab_type": "text",
    "id": "r5crE3xFBn91"
   },
   "source": [
    "## Add Polynomial Featue Engineering\n",
    "\n",
    "* Add quradratic, cube term base on numeric features"
   ]
  },
  {
   "cell_type": "code",
   "execution_count": null,
   "metadata": {
    "colab": {
     "base_uri": "https://localhost:8080/",
     "height": 262
    },
    "colab_type": "code",
    "executionInfo": {
     "elapsed": 623,
     "status": "ok",
     "timestamp": 1538626022744,
     "user": {
      "displayName": "Gary Chen",
      "photoUrl": "",
      "userId": "10783188122132859162"
     },
     "user_tz": -480
    },
    "id": "0m8uAkjbuBa7",
    "outputId": "c318f7e6-0352-4a2a-b340-41b3b38e568a"
   },
   "outputs": [],
   "source": []
  },
  {
   "cell_type": "code",
   "execution_count": null,
   "metadata": {},
   "outputs": [],
   "source": [
    "# Trnasform raw data to foramt model recognized\n",
    "tr_x, tr_y, status = feature_engineering(raw, is_train=True)\n",
    "vl_x, vl_y, _ = feature_engineering(raw_vl, is_train=False, status=status)\n",
    "\n",
    "print( tr_x.shape, vl_x.shape )\n",
    "tr_x.head()"
   ]
  },
  {
   "cell_type": "markdown",
   "metadata": {
    "colab_type": "text",
    "id": "Wfc1V2cYFz50"
   },
   "source": [
    "## Model (WOE + Binning + Freqency Encoding + Target Mean Encoding + Polynominal)"
   ]
  },
  {
   "cell_type": "code",
   "execution_count": null,
   "metadata": {
    "colab": {
     "base_uri": "https://localhost:8080/",
     "height": 1609
    },
    "colab_type": "code",
    "executionInfo": {
     "elapsed": 4788,
     "status": "ok",
     "timestamp": 1538626029956,
     "user": {
      "displayName": "Gary Chen",
      "photoUrl": "",
      "userId": "10783188122132859162"
     },
     "user_tz": -480
    },
    "id": "Dl32_fhCFz-_",
    "outputId": "4cc0a562-f5c6-44fd-ce29-1c52974296f2",
    "scrolled": true
   },
   "outputs": [],
   "source": [
    "K.clear_session()\n",
    "\n",
    "model = get_model(input_dim=tr_x.shape[1])\n",
    "hist = model.fit(tr_x, tr_y, validation_data=(vl_x, vl_y), batch_size=100, epochs=30)\n",
    "plot_result(hist)\n",
    "draw_roc_curve(vl_y, model.predict(vl_x))"
   ]
  },
  {
   "cell_type": "markdown",
   "metadata": {},
   "source": [
    "## PCA"
   ]
  },
  {
   "cell_type": "code",
   "execution_count": null,
   "metadata": {},
   "outputs": [],
   "source": [
    "from sklearn.decomposition import PCA\n",
    "\n",
    "pca = PCA(n_components=64)\n",
    "tr_x_pca = pca.fit_transform(tr_x)\n",
    "vl_x_pca = pca.transform(vl_x)"
   ]
  },
  {
   "cell_type": "code",
   "execution_count": null,
   "metadata": {
    "scrolled": true
   },
   "outputs": [],
   "source": [
    "K.clear_session()\n",
    "\n",
    "model = get_model(input_dim=tr_x_pca.shape[1])\n",
    "hist = model.fit(tr_x_pca, tr_y, validation_data=(vl_x_pca, vl_y), batch_size=100, epochs=30)\n",
    "plot_result(hist)\n",
    "draw_roc_curve(vl_y, model.predict(vl_x_pca))"
   ]
  },
  {
   "cell_type": "markdown",
   "metadata": {},
   "source": [
    "## Model (AutoEncoder)"
   ]
  },
  {
   "cell_type": "code",
   "execution_count": null,
   "metadata": {},
   "outputs": [],
   "source": [
    "# Trnasform raw data to foramt model recognized\n",
    "tr_x, tr_y, status = feature_engineering(raw, is_train=True)\n",
    "vl_x, vl_y, _ = feature_engineering(raw_vl, is_train=False, status=status)\n",
    "\n",
    "print( tr_x.shape, vl_x.shape )\n",
    "tr_x.head()"
   ]
  },
  {
   "cell_type": "code",
   "execution_count": null,
   "metadata": {
    "scrolled": true
   },
   "outputs": [],
   "source": [
    "K.clear_session()\n",
    "\n",
    "inputs_dim = tr_x.shape[1]\n",
    "\n",
    "inputs = Input(shape=(inputs_dim, ))\n",
    "# Encoder\n",
    "encoded = Dense(inputs_dim, activation='selu')(inputs)\n",
    "encoded = Dense(64, activation='selu')(encoded)\n",
    "encoded = Dense(64, activation='selu')(encoded)\n",
    "encoded = Dense(128, activation='selu')(encoded)\n",
    "\n",
    "# Decoder\n",
    "decoded = Dense(128, activation='selu')(encoded)\n",
    "decoded = Dense(64, activation='selu')(decoded)\n",
    "decoded = Dense(64, activation='selu')(decoded)\n",
    "decoded = Dense(inputs_dim, activation='linear')(decoded)\n",
    "\n",
    "# this model maps an input to its reconstruction\n",
    "autoencoder = Model(inputs, decoded)\n",
    "\n",
    "# this model maps an input to its encoded representation\n",
    "encoder = Model(inputs, encoded)\n",
    "\n",
    "# Adam Optimizer + Mean square error loss\n",
    "autoencoder.compile(optimizer='adam', loss='mse')\n",
    "hist = autoencoder.fit(\n",
    "    tr_x, tr_x, \n",
    "    epochs=100, \n",
    "    batch_size=200, \n",
    "    shuffle=True, \n",
    "    validation_data=(vl_x, vl_x))\n",
    "\n",
    "def plot_ae(hist):\n",
    "    plt.figure(figsize=(16, 5))\n",
    "    plt.plot(hist.history['loss'], label='tr_loss')\n",
    "    plt.plot(hist.history['val_loss'], label='vl_loss')\n",
    "    plt.title('Loss')\n",
    "    plt.legend(loc='best')\n",
    "    plt.show()\n",
    "    \n",
    "plot_ae(hist)"
   ]
  },
  {
   "cell_type": "code",
   "execution_count": null,
   "metadata": {
    "scrolled": true
   },
   "outputs": [],
   "source": [
    "tr_x_ae = encoder.predict(tr_x)\n",
    "vl_x_ae = encoder.predict(vl_x)"
   ]
  },
  {
   "cell_type": "code",
   "execution_count": null,
   "metadata": {},
   "outputs": [],
   "source": [
    "tr_x_ae.shape"
   ]
  },
  {
   "cell_type": "code",
   "execution_count": null,
   "metadata": {
    "scrolled": true
   },
   "outputs": [],
   "source": [
    "K.clear_session()\n",
    "\n",
    "model = get_model(input_dim=tr_x_ae.shape[1])\n",
    "hist = model.fit(tr_x_ae, tr_y, validation_data=(vl_x_ae, vl_y), batch_size=100, epochs=30)\n",
    "\n",
    "plot_result(hist)\n",
    "draw_roc_curve(vl_y, model.predict(vl_x_ae))"
   ]
  },
  {
   "cell_type": "code",
   "execution_count": null,
   "metadata": {},
   "outputs": [],
   "source": []
  },
  {
   "cell_type": "code",
   "execution_count": null,
   "metadata": {},
   "outputs": [],
   "source": []
  }
 ],
 "metadata": {
  "accelerator": "TPU",
  "colab": {
   "collapsed_sections": [],
   "name": "model_finance_customer_churn.ipynb",
   "provenance": [],
   "version": "0.3.2"
  },
  "kernelspec": {
   "display_name": "Python 3",
   "language": "python",
   "name": "python3"
  },
  "language_info": {
   "codemirror_mode": {
    "name": "ipython",
    "version": 3
   },
   "file_extension": ".py",
   "mimetype": "text/x-python",
   "name": "python",
   "nbconvert_exporter": "python",
   "pygments_lexer": "ipython3",
   "version": "3.6.6"
  }
 },
 "nbformat": 4,
 "nbformat_minor": 1
}
