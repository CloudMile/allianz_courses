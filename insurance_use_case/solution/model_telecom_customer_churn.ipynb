{
 "cells": [
  {
   "cell_type": "markdown",
   "metadata": {
    "colab_type": "text",
    "id": "X6TzudIkLSb2"
   },
   "source": [
    "## Load Libs"
   ]
  },
  {
   "cell_type": "code",
   "execution_count": 1,
   "metadata": {
    "colab": {
     "base_uri": "https://localhost:8080/",
     "height": 221
    },
    "colab_type": "code",
    "executionInfo": {
     "elapsed": 3826,
     "status": "ok",
     "timestamp": 1538625947853,
     "user": {
      "displayName": "Gary Chen",
      "photoUrl": "",
      "userId": "10783188122132859162"
     },
     "user_tz": -480
    },
    "id": "_OceWebGEClz",
    "outputId": "979cfb33-6793-4122-a947-73d1bd147a91"
   },
   "outputs": [
    {
     "name": "stdout",
     "output_type": "stream",
     "text": [
      "Requirement already up-to-date: seaborn in d:\\python\\anaconda3-5.2.0\\envs\\py3_6\\lib\\site-packages (0.9.0)\n",
      "Requirement already satisfied, skipping upgrade: matplotlib>=1.4.3 in d:\\python\\anaconda3-5.2.0\\envs\\py3_6\\lib\\site-packages (from seaborn) (2.2.3)\n",
      "Requirement already satisfied, skipping upgrade: scipy>=0.14.0 in d:\\python\\anaconda3-5.2.0\\envs\\py3_6\\lib\\site-packages (from seaborn) (1.1.0)\n",
      "Requirement already satisfied, skipping upgrade: pandas>=0.15.2 in d:\\python\\anaconda3-5.2.0\\envs\\py3_6\\lib\\site-packages (from seaborn) (0.23.4)\n",
      "Requirement already satisfied, skipping upgrade: numpy>=1.9.3 in d:\\python\\anaconda3-5.2.0\\envs\\py3_6\\lib\\site-packages (from seaborn) (1.14.5)\n",
      "Requirement already satisfied, skipping upgrade: python-dateutil>=2.1 in d:\\python\\anaconda3-5.2.0\\envs\\py3_6\\lib\\site-packages (from matplotlib>=1.4.3->seaborn) (2.7.3)\n",
      "Requirement already satisfied, skipping upgrade: pytz in d:\\python\\anaconda3-5.2.0\\envs\\py3_6\\lib\\site-packages (from matplotlib>=1.4.3->seaborn) (2018.5)\n",
      "Requirement already satisfied, skipping upgrade: cycler>=0.10 in d:\\python\\anaconda3-5.2.0\\envs\\py3_6\\lib\\site-packages (from matplotlib>=1.4.3->seaborn) (0.10.0)\n",
      "Requirement already satisfied, skipping upgrade: six>=1.10 in d:\\python\\anaconda3-5.2.0\\envs\\py3_6\\lib\\site-packages (from matplotlib>=1.4.3->seaborn) (1.11.0)\n",
      "Requirement already satisfied, skipping upgrade: kiwisolver>=1.0.1 in d:\\python\\anaconda3-5.2.0\\envs\\py3_6\\lib\\site-packages (from matplotlib>=1.4.3->seaborn) (1.0.1)\n",
      "Requirement already satisfied, skipping upgrade: pyparsing!=2.0.4,!=2.1.2,!=2.1.6,>=2.0.1 in d:\\python\\anaconda3-5.2.0\\envs\\py3_6\\lib\\site-packages (from matplotlib>=1.4.3->seaborn) (2.2.0)\n",
      "Requirement already satisfied, skipping upgrade: setuptools in d:\\python\\anaconda3-5.2.0\\envs\\py3_6\\lib\\site-packages (from kiwisolver>=1.0.1->matplotlib>=1.4.3->seaborn) (39.1.0)\n"
     ]
    },
    {
     "name": "stderr",
     "output_type": "stream",
     "text": [
      "Using TensorFlow backend.\n"
     ]
    }
   ],
   "source": [
    "%reload_ext autoreload\n",
    "%autoreload 2\n",
    "\n",
    "!pip install seaborn --upgrade\n",
    "\n",
    "import os, sys, numpy as np, pandas as pd, tensorflow as tf, cv2\n",
    "import seaborn as sns\n",
    "import scipy.stats as stats\n",
    "\n",
    "from collections import defaultdict\n",
    "from sklearn.model_selection import train_test_split\n",
    "from sklearn.preprocessing import StandardScaler, MinMaxScaler, LabelEncoder, LabelBinarizer\n",
    "from sklearn.metrics import auc, roc_curve, f1_score, confusion_matrix\n",
    "from sklearn.metrics import precision_recall_fscore_support, accuracy_score\n",
    "\n",
    "from matplotlib import pyplot as plt\n",
    "sns.set(style=\"white\")\n",
    "\n",
    "import keras\n",
    "from keras import backend as K\n",
    "from keras.models import Sequential, Model\n",
    "from keras.layers import Dense, BatchNormalization, Activation, Input, Dropout, Embedding, Flatten, Input\n",
    "from keras.layers import Concatenate\n",
    "from keras.optimizers import Adam, Nadam\n",
    "from keras import regularizers\n",
    "\n",
    "classpath = os.path.abspath('..')\n",
    "if classpath not in sys.path: sys.path.insert(0, classpath)\n",
    "\n",
    "from solution import telecom_functions as fn\n",
    "\n",
    "%matplotlib inline\n",
    "\n",
    "def plot_result(hist):\n",
    "    plt.figure(figsize=(16, 5))\n",
    "\n",
    "    plt.subplot(1, 2, 1)\n",
    "    plt.plot(hist.history['loss'], label='tr_loss')\n",
    "    plt.plot(hist.history['val_loss'], label='vl_loss')\n",
    "    plt.title('Loss')\n",
    "\n",
    "    plt.subplot(1, 2, 2)\n",
    "    plt.plot(hist.history['acc'], label='acc')\n",
    "    plt.plot(hist.history['val_acc'], label='val_acc')\n",
    "    plt.title('Accuracy')\n",
    "\n",
    "    plt.legend(loc='best')\n",
    "    plt.show()\n",
    "    \n",
    "def draw_roc_curve(y, pred):\n",
    "    from matplotlib import pyplot as plt\n",
    "\n",
    "    fprRf, tprRf, _ = roc_curve(y, pred, pos_label=1)\n",
    "    auc_scr = auc(fprRf, tprRf)\n",
    "    print(\"auc:\", auc_scr)\n",
    "    f, ax = plt.subplots(1, 1, figsize=(6, 6))\n",
    "\n",
    "    ax.plot([0, 1], [0, 1], 'k--')\n",
    "    ax.plot(fprRf, tprRf, label='ROC CURVE')\n",
    "    ax.set_xlabel('False positive rate')\n",
    "    ax.set_ylabel('True positive rate')\n",
    "    ax.set_title('Area Under Curve(ROC) (score: {:.4f})'.format(auc_scr))\n",
    "    ax.legend(loc='best')\n",
    "    plt.show()"
   ]
  },
  {
   "cell_type": "markdown",
   "metadata": {
    "colab_type": "text",
    "id": "qeEHBniStlgU"
   },
   "source": [
    "## Data Schema\n",
    "\n",
    "Column name         | Description\n",
    "\t\t\t\t ---|---\n",
    "customerIDCustomer \t|\tID\n",
    "genderCustomer  \t|\tgender (female, male)\n",
    "SeniorCitizen    \t|\tWhether the customer is a senior citizen or not (1, 0)\n",
    "Partner    \t\t\t|\tWhether the customer has a partner or not (Yes, No)\n",
    "Dependents    \t\t|\tWhether the customer has dependents or not (Yes, No)\n",
    "tenure\t\t\t\t|\tNumber of months the customer has stayed with the company\n",
    "PhoneService    \t|\tWhether the customer has a phone service or not (Yes, No)\n",
    "MultipleLines    \t|\tWhether the customer has multiple lines or not (Yes, No, No phone service)\n",
    "InternetService\t\t|\tCustomer’s internet service provider (DSL, Fiber optic, No)\n",
    "OnlineSecurity    \t|\tWhether the customer has online security or not (Yes, No, No internet service)\n",
    "OnlineBackup    \t|\tWhether the customer has online backup or not (Yes, No, No internet service)\n",
    "DeviceProtection   \t|\tWhether the customer has device protection or not (Yes, No, No internet service)\n",
    "TechSupport    \t\t|\tWhether the customer has tech support or not (Yes, No, No internet service)\n",
    "StreamingTV    \t\t|\tWhether the customer has streaming TV or not (Yes, No, No internet service)\n",
    "StreamingMovies    \t|\tWhether the customer has streaming movies or not (Yes, No, No internet service)\n",
    "contract \t\t\t|\tThe contract term of the customer (Month-to-month, One year, Two year)\n",
    "PaperlessBilling    |\tWhether the customer has paperless billing or not (Yes, No)\n",
    "PaymentMethod\t\t|\tThe customer’s payment method (Electronic check, Mailed check, Bank transfer (automatic), Credit card (automatic))\n",
    "MonthlyCharges\t\t|\tThe amount charged to the customer monthly\n",
    "TotalCharges\t\t|\tThe total amount charged to the customer\n",
    "churned\t\t\t\t|\tWhether the customer churned or not (Yes or No)\n",
    "\n",
    "---\n",
    "\n",
    "* 16個類別變數(customer id 不算)\n",
    "* 3個numeric變數\n",
    "\n",
    "\n",
    "---\n",
    "<br/>\n",
    "<br/>\n",
    "<br/>"
   ]
  },
  {
   "cell_type": "markdown",
   "metadata": {
    "colab_type": "text",
    "id": "Ps1HdA6twJck"
   },
   "source": [
    "# Purpose: \n",
    "* 給定客戶Metadata, 繳費行為等等, 預測該客戶是否在未來有可能離開?"
   ]
  },
  {
   "cell_type": "code",
   "execution_count": 2,
   "metadata": {
    "colab": {
     "base_uri": "https://localhost:8080/",
     "height": 196
    },
    "colab_type": "code",
    "executionInfo": {
     "elapsed": 1451,
     "status": "ok",
     "timestamp": 1538625951034,
     "user": {
      "displayName": "Gary Chen",
      "photoUrl": "",
      "userId": "10783188122132859162"
     },
     "user_tz": -480
    },
    "id": "_UOyp6tUECl1",
    "outputId": "6b14c68e-7fb2-4959-dfec-8d970505dc52"
   },
   "outputs": [
    {
     "data": {
      "text/html": [
       "<div>\n",
       "<style scoped>\n",
       "    .dataframe tbody tr th:only-of-type {\n",
       "        vertical-align: middle;\n",
       "    }\n",
       "\n",
       "    .dataframe tbody tr th {\n",
       "        vertical-align: top;\n",
       "    }\n",
       "\n",
       "    .dataframe thead th {\n",
       "        text-align: right;\n",
       "    }\n",
       "</style>\n",
       "<table border=\"1\" class=\"dataframe\">\n",
       "  <thead>\n",
       "    <tr style=\"text-align: right;\">\n",
       "      <th></th>\n",
       "      <th>customerID</th>\n",
       "      <th>gender</th>\n",
       "      <th>SeniorCitizen</th>\n",
       "      <th>Partner</th>\n",
       "      <th>Dependents</th>\n",
       "      <th>tenure</th>\n",
       "      <th>PhoneService</th>\n",
       "      <th>MultipleLines</th>\n",
       "      <th>InternetService</th>\n",
       "      <th>OnlineSecurity</th>\n",
       "      <th>...</th>\n",
       "      <th>DeviceProtection</th>\n",
       "      <th>TechSupport</th>\n",
       "      <th>StreamingTV</th>\n",
       "      <th>StreamingMovies</th>\n",
       "      <th>Contract</th>\n",
       "      <th>PaperlessBilling</th>\n",
       "      <th>PaymentMethod</th>\n",
       "      <th>MonthlyCharges</th>\n",
       "      <th>TotalCharges</th>\n",
       "      <th>Churn</th>\n",
       "    </tr>\n",
       "  </thead>\n",
       "  <tbody>\n",
       "    <tr>\n",
       "      <th>0</th>\n",
       "      <td>7590-VHVEG</td>\n",
       "      <td>Female</td>\n",
       "      <td>0</td>\n",
       "      <td>Yes</td>\n",
       "      <td>No</td>\n",
       "      <td>1</td>\n",
       "      <td>No</td>\n",
       "      <td>No phone service</td>\n",
       "      <td>DSL</td>\n",
       "      <td>No</td>\n",
       "      <td>...</td>\n",
       "      <td>No</td>\n",
       "      <td>No</td>\n",
       "      <td>No</td>\n",
       "      <td>No</td>\n",
       "      <td>Month-to-month</td>\n",
       "      <td>Yes</td>\n",
       "      <td>Electronic check</td>\n",
       "      <td>29.85</td>\n",
       "      <td>29.85</td>\n",
       "      <td>No</td>\n",
       "    </tr>\n",
       "    <tr>\n",
       "      <th>1</th>\n",
       "      <td>5575-GNVDE</td>\n",
       "      <td>Male</td>\n",
       "      <td>0</td>\n",
       "      <td>No</td>\n",
       "      <td>No</td>\n",
       "      <td>34</td>\n",
       "      <td>Yes</td>\n",
       "      <td>No</td>\n",
       "      <td>DSL</td>\n",
       "      <td>Yes</td>\n",
       "      <td>...</td>\n",
       "      <td>Yes</td>\n",
       "      <td>No</td>\n",
       "      <td>No</td>\n",
       "      <td>No</td>\n",
       "      <td>One year</td>\n",
       "      <td>No</td>\n",
       "      <td>Mailed check</td>\n",
       "      <td>56.95</td>\n",
       "      <td>1889.5</td>\n",
       "      <td>No</td>\n",
       "    </tr>\n",
       "    <tr>\n",
       "      <th>2</th>\n",
       "      <td>3668-QPYBK</td>\n",
       "      <td>Male</td>\n",
       "      <td>0</td>\n",
       "      <td>No</td>\n",
       "      <td>No</td>\n",
       "      <td>2</td>\n",
       "      <td>Yes</td>\n",
       "      <td>No</td>\n",
       "      <td>DSL</td>\n",
       "      <td>Yes</td>\n",
       "      <td>...</td>\n",
       "      <td>No</td>\n",
       "      <td>No</td>\n",
       "      <td>No</td>\n",
       "      <td>No</td>\n",
       "      <td>Month-to-month</td>\n",
       "      <td>Yes</td>\n",
       "      <td>Mailed check</td>\n",
       "      <td>53.85</td>\n",
       "      <td>108.15</td>\n",
       "      <td>Yes</td>\n",
       "    </tr>\n",
       "    <tr>\n",
       "      <th>3</th>\n",
       "      <td>7795-CFOCW</td>\n",
       "      <td>Male</td>\n",
       "      <td>0</td>\n",
       "      <td>No</td>\n",
       "      <td>No</td>\n",
       "      <td>45</td>\n",
       "      <td>No</td>\n",
       "      <td>No phone service</td>\n",
       "      <td>DSL</td>\n",
       "      <td>Yes</td>\n",
       "      <td>...</td>\n",
       "      <td>Yes</td>\n",
       "      <td>Yes</td>\n",
       "      <td>No</td>\n",
       "      <td>No</td>\n",
       "      <td>One year</td>\n",
       "      <td>No</td>\n",
       "      <td>Bank transfer (automatic)</td>\n",
       "      <td>42.30</td>\n",
       "      <td>1840.75</td>\n",
       "      <td>No</td>\n",
       "    </tr>\n",
       "    <tr>\n",
       "      <th>4</th>\n",
       "      <td>9237-HQITU</td>\n",
       "      <td>Female</td>\n",
       "      <td>0</td>\n",
       "      <td>No</td>\n",
       "      <td>No</td>\n",
       "      <td>2</td>\n",
       "      <td>Yes</td>\n",
       "      <td>No</td>\n",
       "      <td>Fiber optic</td>\n",
       "      <td>No</td>\n",
       "      <td>...</td>\n",
       "      <td>No</td>\n",
       "      <td>No</td>\n",
       "      <td>No</td>\n",
       "      <td>No</td>\n",
       "      <td>Month-to-month</td>\n",
       "      <td>Yes</td>\n",
       "      <td>Electronic check</td>\n",
       "      <td>70.70</td>\n",
       "      <td>151.65</td>\n",
       "      <td>Yes</td>\n",
       "    </tr>\n",
       "  </tbody>\n",
       "</table>\n",
       "<p>5 rows × 21 columns</p>\n",
       "</div>"
      ],
      "text/plain": [
       "   customerID  gender  SeniorCitizen Partner Dependents  tenure PhoneService  \\\n",
       "0  7590-VHVEG  Female              0     Yes         No       1           No   \n",
       "1  5575-GNVDE    Male              0      No         No      34          Yes   \n",
       "2  3668-QPYBK    Male              0      No         No       2          Yes   \n",
       "3  7795-CFOCW    Male              0      No         No      45           No   \n",
       "4  9237-HQITU  Female              0      No         No       2          Yes   \n",
       "\n",
       "      MultipleLines InternetService OnlineSecurity  ...  DeviceProtection  \\\n",
       "0  No phone service             DSL             No  ...                No   \n",
       "1                No             DSL            Yes  ...               Yes   \n",
       "2                No             DSL            Yes  ...                No   \n",
       "3  No phone service             DSL            Yes  ...               Yes   \n",
       "4                No     Fiber optic             No  ...                No   \n",
       "\n",
       "  TechSupport StreamingTV StreamingMovies        Contract PaperlessBilling  \\\n",
       "0          No          No              No  Month-to-month              Yes   \n",
       "1          No          No              No        One year               No   \n",
       "2          No          No              No  Month-to-month              Yes   \n",
       "3         Yes          No              No        One year               No   \n",
       "4          No          No              No  Month-to-month              Yes   \n",
       "\n",
       "               PaymentMethod MonthlyCharges  TotalCharges Churn  \n",
       "0           Electronic check          29.85         29.85    No  \n",
       "1               Mailed check          56.95        1889.5    No  \n",
       "2               Mailed check          53.85        108.15   Yes  \n",
       "3  Bank transfer (automatic)          42.30       1840.75    No  \n",
       "4           Electronic check          70.70        151.65   Yes  \n",
       "\n",
       "[5 rows x 21 columns]"
      ]
     },
     "execution_count": 2,
     "metadata": {},
     "output_type": "execute_result"
    }
   ],
   "source": [
    "raw = pd.read_csv(\"https://storage.googleapis.com/allianz-course/data/raw_tr_telco_customer_churn.csv\")\n",
    "raw_vl = pd.read_csv(\"https://storage.googleapis.com/allianz-course/data/raw_vl_telco_customer_churn.csv\")\n",
    "raw.head()"
   ]
  },
  {
   "cell_type": "markdown",
   "metadata": {
    "colab_type": "text",
    "id": "CP0v2VzYvUmG"
   },
   "source": [
    "## Drop 不必要的欄位"
   ]
  },
  {
   "cell_type": "code",
   "execution_count": 3,
   "metadata": {
    "colab": {},
    "colab_type": "code",
    "id": "ScS756pOvTLl"
   },
   "outputs": [],
   "source": [
    "raw.drop(['customerID'], 1, inplace=True)\n",
    "raw_vl.drop(['customerID'], 1, inplace=True)"
   ]
  },
  {
   "cell_type": "markdown",
   "metadata": {},
   "source": [
    "## Data Clean: TotalCharges\n",
    "\n",
    "* 讀取進來的時候因為有空字串, 導致於變成字串type, 需要轉型為float, 並且做missing value imputing\n",
    "* Tansfer `Churn` [Yes, No] to [1, 0]"
   ]
  },
  {
   "cell_type": "code",
   "execution_count": 4,
   "metadata": {},
   "outputs": [],
   "source": [
    "# TotalCharges 讀取進來的時候因為有missing value, 導致於變成字串type, 需要轉型為float, 並且做missing value imputing\n",
    "def str2num(e):\n",
    "    try:\n",
    "        return float(e)\n",
    "    except:\n",
    "        return np.nan\n",
    "              \n",
    "tmp = raw.TotalCharges.map(str2num)\n",
    "raw['TotalCharges'] = tmp.fillna(tmp.median())\n",
    "raw['Churn'] = raw.Churn.map(lambda e: 1 if e == 'Yes' else 0)\n",
    "\n",
    "tmp = raw_vl.TotalCharges.map(str2num)\n",
    "raw_vl['TotalCharges'] = tmp.fillna(tmp.median())\n",
    "raw_vl['Churn'] = raw_vl.Churn.map(lambda e: 1 if e == 'Yes' else 0)\n",
    "del tmp"
   ]
  },
  {
   "cell_type": "code",
   "execution_count": 5,
   "metadata": {
    "colab": {
     "base_uri": "https://localhost:8080/",
     "height": 284
    },
    "colab_type": "code",
    "executionInfo": {
     "elapsed": 721,
     "status": "ok",
     "timestamp": 1538625952553,
     "user": {
      "displayName": "Gary Chen",
      "photoUrl": "",
      "userId": "10783188122132859162"
     },
     "user_tz": -480
    },
    "id": "xbmIazS-_S9Z",
    "outputId": "61861644-02ea-4079-ab13-7f9c3b329469"
   },
   "outputs": [
    {
     "name": "stdout",
     "output_type": "stream",
     "text": [
      "<class 'pandas.core.frame.DataFrame'>\n",
      "RangeIndex: 5634 entries, 0 to 5633\n",
      "Data columns (total 20 columns):\n",
      "gender              5634 non-null object\n",
      "SeniorCitizen       5634 non-null int64\n",
      "Partner             5634 non-null object\n",
      "Dependents          5634 non-null object\n",
      "tenure              5634 non-null int64\n",
      "PhoneService        5634 non-null object\n",
      "MultipleLines       5634 non-null object\n",
      "InternetService     5634 non-null object\n",
      "OnlineSecurity      5634 non-null object\n",
      "OnlineBackup        5634 non-null object\n",
      "DeviceProtection    5634 non-null object\n",
      "TechSupport         5634 non-null object\n",
      "StreamingTV         5634 non-null object\n",
      "StreamingMovies     5634 non-null object\n",
      "Contract            5634 non-null object\n",
      "PaperlessBilling    5634 non-null object\n",
      "PaymentMethod       5634 non-null object\n",
      "MonthlyCharges      5634 non-null float64\n",
      "TotalCharges        5634 non-null float64\n",
      "Churn               5634 non-null int64\n",
      "dtypes: float64(2), int64(3), object(15)\n",
      "memory usage: 880.4+ KB\n"
     ]
    }
   ],
   "source": [
    "raw.info()"
   ]
  },
  {
   "cell_type": "markdown",
   "metadata": {
    "colab_type": "text",
    "id": "xoyVZct4tpFa"
   },
   "source": [
    "## Features setting"
   ]
  },
  {
   "cell_type": "code",
   "execution_count": 6,
   "metadata": {
    "colab": {},
    "colab_type": "code",
    "id": "plpAXiiatNgD"
   },
   "outputs": [],
   "source": [
    "catg_features = [\n",
    "    'gender', 'SeniorCitizen', 'Partner', 'Dependents',\n",
    "    'OnlineSecurity', 'OnlineBackup', 'DeviceProtection', 'TechSupport', 'StreamingTV', 'StreamingMovies',\n",
    "    'PhoneService', 'MultipleLines', 'InternetService',\n",
    "    'Contract', 'PaperlessBilling', 'PaymentMethod'\n",
    "]\n",
    "num_features = ['tenure', 'MonthlyCharges', 'TotalCharges']\n",
    "# embedding_features = catg_features + ['binn_tenure', 'binn_MonthlyCharges', 'binn_TotalCharges']\n",
    "label = 'Churn'"
   ]
  },
  {
   "cell_type": "markdown",
   "metadata": {
    "colab_type": "text",
    "id": "GchbLNAmQaJo"
   },
   "source": [
    "<br/>\n",
    "\n",
    "---\n",
    "\n"
   ]
  },
  {
   "cell_type": "markdown",
   "metadata": {
    "colab_type": "text",
    "id": "oCud9-1Esa6S"
   },
   "source": [
    "## Base Feature Preprocessing\n",
    "\n",
    "* Normalize ofr numeric features\n",
    "* One Hot Encoding for categorical features"
   ]
  },
  {
   "cell_type": "code",
   "execution_count": 7,
   "metadata": {},
   "outputs": [],
   "source": [
    "def feature_engineering(raw, is_train=True, status=None):\n",
    "    data = raw.copy()\n",
    "    \n",
    "    if is_train:\n",
    "        status = {'scaler': None, \n",
    "                  'mapper': defaultdict(LabelBinarizer),\n",
    "                  'woe_mapper': {},\n",
    "                  'binn_mapper': {},\n",
    "                  'freq_mapper': {},\n",
    "                  'mean_mapper': {}}\n",
    "\n",
    "    catg_ftrs = catg_features.copy()\n",
    "        \n",
    "    # Numeric binning to categorical features\n",
    "    do_binning(catg_ftrs, status, data, is_train)\n",
    "    # -----------------------------------------------------------------------------------------\n",
    "\n",
    "    catg_part = pd.DataFrame()\n",
    "    \n",
    "    # One Hot Encoding\n",
    "    # catg_part = pd.get_dummies(data[catg_ftrs])\n",
    "    do_onehot(catg_ftrs, catg_part, status, data, is_train)\n",
    "    # -----------------------------------------------------------------------------------------\n",
    "\n",
    "    # Embedding, simple indexing categorical features, actual embedding function in keras\n",
    "    # do_embedding(catg_ftrs, catg_part, status, data, is_train)\n",
    "    # -----------------------------------------------------------------------------------------\n",
    "\n",
    "    # WOE encoding\n",
    "    do_woe_encoding(catg_ftrs, catg_part, status, data, is_train)\n",
    "    # -----------------------------------------------------------------------------------------\n",
    "\n",
    "    # Frequency encoding, target mean encoding\n",
    "    do_target_encoding(catg_ftrs, catg_part, status, data, is_train)\n",
    "    # -----------------------------------------------------------------------------------------\n",
    "\n",
    "    # Normalize\n",
    "    num_part = do_norm(num_features, status, data, is_train)\n",
    "    # -----------------------------------------------------------------------------------------\n",
    "    \n",
    "    # Merge categorical, numeric features\n",
    "    data_x, data_y = pd.concat([catg_part, num_part], 1), data['Churn'].copy()\n",
    "    \n",
    "    # Include quadratic term, cube term\n",
    "    do_nth_order_polynominal(num_features, data_x)\n",
    "    # ----------------------------------------------------------------------------------------- \n",
    "    return data_x, data_y, status\n",
    "\n",
    "\n",
    "# # import fe_functions as fn\n",
    "# do_onehot = fn.do_onehot\n",
    "# do_norm = fn.do_norm\n",
    "# do_embedding = fn.do_embedding\n",
    "# do_binning = fn.do_binning\n",
    "# do_woe_encoding = fn.do_woe_encoding\n",
    "# do_target_encoding = fn.do_target_encoding\n",
    "# do_nth_order_polynominal = fn.do_nth_order_polynominal"
   ]
  },
  {
   "cell_type": "markdown",
   "metadata": {},
   "source": [
    "## Functions of Features Processing"
   ]
  },
  {
   "cell_type": "code",
   "execution_count": 39,
   "metadata": {},
   "outputs": [],
   "source": [
    "def do_binning(catg_ftrs, status, data, is_train):\n",
    "    pass\n",
    "\n",
    "def do_onehot(catg_ftrs, catg_part, status, data, is_train):\n",
    "    mapper = status['mapper']\n",
    "    tmp = []\n",
    "    for catg_col in catg_ftrs:\n",
    "        if is_train:\n",
    "            result = mapper[catg_col].fit_transform(data[catg_col])\n",
    "        else:\n",
    "            result = mapper[catg_col].transform(data[catg_col])\n",
    "\n",
    "        columns = [f'{catg_col}_{col}' for col in mapper[catg_col].classes_]\n",
    "        if result.shape[1] == 1:\n",
    "            columns = columns[:1]\n",
    "        tmp.append(pd.DataFrame(data=result, columns=columns))\n",
    "    tmp = pd.concat(tmp, 1)\n",
    "    for col in tmp:\n",
    "        catg_part[col] = tmp[col]\n",
    "    pass\n",
    "\n",
    "def do_woe_encoding(catg_ftrs, catg_part, status, data, is_train):\n",
    "    pass\n",
    "\n",
    "def do_target_encoding(catg_ftrs, catg_part, status, data, is_train):\n",
    "    pass\n",
    "\n",
    "def do_norm(num_features, status, data, is_train):\n",
    "    num_part = data[num_features].copy()\n",
    "    if is_train:\n",
    "        scaler = StandardScaler()\n",
    "        status['scaler'] = scaler\n",
    "        num_part = pd.DataFrame(data=scaler.fit_transform(num_part), columns=num_part.columns)\n",
    "    else:\n",
    "        scaler = status['scaler']\n",
    "        num_part = pd.DataFrame(data=scaler.transform(num_part), columns=num_part.columns)\n",
    "    return num_part\n",
    "    pass\n",
    "\n",
    "def do_nth_order_polynominal(num_features, data):\n",
    "    pass"
   ]
  },
  {
   "cell_type": "markdown",
   "metadata": {
    "colab_type": "text",
    "id": "52CvQZa1t2A7"
   },
   "source": [
    "## Model on Base Featue Engineering\n",
    "\n",
    "* Network Structure: \n",
    "    * `dimension of input, 32, 16, 16, 1`\n",
    "* ReLU Activation Function\n",
    "* Adam Optimizer\n",
    "* Sigmoid Cross Entropy"
   ]
  },
  {
   "cell_type": "code",
   "execution_count": 38,
   "metadata": {},
   "outputs": [],
   "source": [
    "def get_model(input_dim):\n",
    "    model = Sequential()\n",
    "    # kernel_regularizer=regularizers.l2(0.005)\n",
    "    model.add(Dense(units = 64, activation = 'relu', kernel_initializer='uniform', input_dim = input_dim))\n",
    "    model.add(Dense(units = 32, activation = 'relu', kernel_initializer='uniform'))\n",
    "    model.add(Dense(units = 16, activation = 'relu', kernel_initializer='uniform'))\n",
    "    model.add(Dense(units = 1, activation = 'sigmoid', kernel_initializer='uniform'))\n",
    "    model.summary()\n",
    "    model.compile(optimizer = 'sgd', loss = 'binary_crossentropy', metrics = ['accuracy'])\n",
    "    \n",
    "    # def metrics_auc(y_true, y_pred):\n",
    "    #     auc, _ = K.metrics.auc(y_true, y_pred)\n",
    "    #     return K.mean(auc, axis=-1)\n",
    "    # model.compile(optimizer='sgd', loss = 'binary_crossentropy', metrics = [metrics_auc])\n",
    "    return model"
   ]
  },
  {
   "cell_type": "code",
   "execution_count": 40,
   "metadata": {
    "colab": {
     "base_uri": "https://localhost:8080/",
     "height": 233
    },
    "colab_type": "code",
    "executionInfo": {
     "elapsed": 629,
     "status": "ok",
     "timestamp": 1538622762380,
     "user": {
      "displayName": "Gary Chen",
      "photoUrl": "",
      "userId": "10783188122132859162"
     },
     "user_tz": -480
    },
    "id": "udNVad7usaNe",
    "outputId": "22eba0e1-e10a-4822-d26a-af193fdf0362",
    "scrolled": true
   },
   "outputs": [
    {
     "name": "stdout",
     "output_type": "stream",
     "text": [
      "(5634, 40) (1409, 40)\n"
     ]
    },
    {
     "data": {
      "text/html": [
       "<div>\n",
       "<style scoped>\n",
       "    .dataframe tbody tr th:only-of-type {\n",
       "        vertical-align: middle;\n",
       "    }\n",
       "\n",
       "    .dataframe tbody tr th {\n",
       "        vertical-align: top;\n",
       "    }\n",
       "\n",
       "    .dataframe thead th {\n",
       "        text-align: right;\n",
       "    }\n",
       "</style>\n",
       "<table border=\"1\" class=\"dataframe\">\n",
       "  <thead>\n",
       "    <tr style=\"text-align: right;\">\n",
       "      <th></th>\n",
       "      <th>gender_Female</th>\n",
       "      <th>SeniorCitizen_0</th>\n",
       "      <th>Partner_No</th>\n",
       "      <th>Dependents_No</th>\n",
       "      <th>OnlineSecurity_No</th>\n",
       "      <th>OnlineSecurity_No internet service</th>\n",
       "      <th>OnlineSecurity_Yes</th>\n",
       "      <th>OnlineBackup_No</th>\n",
       "      <th>OnlineBackup_No internet service</th>\n",
       "      <th>OnlineBackup_Yes</th>\n",
       "      <th>...</th>\n",
       "      <th>Contract_One year</th>\n",
       "      <th>Contract_Two year</th>\n",
       "      <th>PaperlessBilling_No</th>\n",
       "      <th>PaymentMethod_Bank transfer (automatic)</th>\n",
       "      <th>PaymentMethod_Credit card (automatic)</th>\n",
       "      <th>PaymentMethod_Electronic check</th>\n",
       "      <th>PaymentMethod_Mailed check</th>\n",
       "      <th>tenure</th>\n",
       "      <th>MonthlyCharges</th>\n",
       "      <th>TotalCharges</th>\n",
       "    </tr>\n",
       "  </thead>\n",
       "  <tbody>\n",
       "    <tr>\n",
       "      <th>0</th>\n",
       "      <td>0</td>\n",
       "      <td>0</td>\n",
       "      <td>1</td>\n",
       "      <td>0</td>\n",
       "      <td>1</td>\n",
       "      <td>0</td>\n",
       "      <td>0</td>\n",
       "      <td>0</td>\n",
       "      <td>0</td>\n",
       "      <td>1</td>\n",
       "      <td>...</td>\n",
       "      <td>0</td>\n",
       "      <td>0</td>\n",
       "      <td>1</td>\n",
       "      <td>0</td>\n",
       "      <td>0</td>\n",
       "      <td>1</td>\n",
       "      <td>0</td>\n",
       "      <td>-1.273098</td>\n",
       "      <td>-1.155973</td>\n",
       "      <td>-0.990447</td>\n",
       "    </tr>\n",
       "    <tr>\n",
       "      <th>1</th>\n",
       "      <td>1</td>\n",
       "      <td>0</td>\n",
       "      <td>0</td>\n",
       "      <td>0</td>\n",
       "      <td>0</td>\n",
       "      <td>0</td>\n",
       "      <td>1</td>\n",
       "      <td>1</td>\n",
       "      <td>0</td>\n",
       "      <td>0</td>\n",
       "      <td>...</td>\n",
       "      <td>1</td>\n",
       "      <td>0</td>\n",
       "      <td>0</td>\n",
       "      <td>0</td>\n",
       "      <td>0</td>\n",
       "      <td>0</td>\n",
       "      <td>1</td>\n",
       "      <td>0.072520</td>\n",
       "      <td>-0.253553</td>\n",
       "      <td>-0.166213</td>\n",
       "    </tr>\n",
       "    <tr>\n",
       "      <th>2</th>\n",
       "      <td>1</td>\n",
       "      <td>0</td>\n",
       "      <td>0</td>\n",
       "      <td>0</td>\n",
       "      <td>0</td>\n",
       "      <td>0</td>\n",
       "      <td>1</td>\n",
       "      <td>0</td>\n",
       "      <td>0</td>\n",
       "      <td>1</td>\n",
       "      <td>...</td>\n",
       "      <td>0</td>\n",
       "      <td>0</td>\n",
       "      <td>1</td>\n",
       "      <td>0</td>\n",
       "      <td>0</td>\n",
       "      <td>0</td>\n",
       "      <td>1</td>\n",
       "      <td>-1.232322</td>\n",
       "      <td>-0.356781</td>\n",
       "      <td>-0.955743</td>\n",
       "    </tr>\n",
       "    <tr>\n",
       "      <th>3</th>\n",
       "      <td>1</td>\n",
       "      <td>0</td>\n",
       "      <td>0</td>\n",
       "      <td>0</td>\n",
       "      <td>0</td>\n",
       "      <td>0</td>\n",
       "      <td>1</td>\n",
       "      <td>1</td>\n",
       "      <td>0</td>\n",
       "      <td>0</td>\n",
       "      <td>...</td>\n",
       "      <td>1</td>\n",
       "      <td>0</td>\n",
       "      <td>0</td>\n",
       "      <td>1</td>\n",
       "      <td>0</td>\n",
       "      <td>0</td>\n",
       "      <td>0</td>\n",
       "      <td>0.521060</td>\n",
       "      <td>-0.741392</td>\n",
       "      <td>-0.187820</td>\n",
       "    </tr>\n",
       "    <tr>\n",
       "      <th>4</th>\n",
       "      <td>0</td>\n",
       "      <td>0</td>\n",
       "      <td>0</td>\n",
       "      <td>0</td>\n",
       "      <td>1</td>\n",
       "      <td>0</td>\n",
       "      <td>0</td>\n",
       "      <td>1</td>\n",
       "      <td>0</td>\n",
       "      <td>0</td>\n",
       "      <td>...</td>\n",
       "      <td>0</td>\n",
       "      <td>0</td>\n",
       "      <td>1</td>\n",
       "      <td>0</td>\n",
       "      <td>0</td>\n",
       "      <td>1</td>\n",
       "      <td>0</td>\n",
       "      <td>-1.232322</td>\n",
       "      <td>0.204318</td>\n",
       "      <td>-0.936463</td>\n",
       "    </tr>\n",
       "  </tbody>\n",
       "</table>\n",
       "<p>5 rows × 40 columns</p>\n",
       "</div>"
      ],
      "text/plain": [
       "   gender_Female  SeniorCitizen_0  Partner_No  Dependents_No  \\\n",
       "0              0                0           1              0   \n",
       "1              1                0           0              0   \n",
       "2              1                0           0              0   \n",
       "3              1                0           0              0   \n",
       "4              0                0           0              0   \n",
       "\n",
       "   OnlineSecurity_No  OnlineSecurity_No internet service  OnlineSecurity_Yes  \\\n",
       "0                  1                                   0                   0   \n",
       "1                  0                                   0                   1   \n",
       "2                  0                                   0                   1   \n",
       "3                  0                                   0                   1   \n",
       "4                  1                                   0                   0   \n",
       "\n",
       "   OnlineBackup_No  OnlineBackup_No internet service  OnlineBackup_Yes  \\\n",
       "0                0                                 0                 1   \n",
       "1                1                                 0                 0   \n",
       "2                0                                 0                 1   \n",
       "3                1                                 0                 0   \n",
       "4                1                                 0                 0   \n",
       "\n",
       "       ...       Contract_One year  Contract_Two year  PaperlessBilling_No  \\\n",
       "0      ...                       0                  0                    1   \n",
       "1      ...                       1                  0                    0   \n",
       "2      ...                       0                  0                    1   \n",
       "3      ...                       1                  0                    0   \n",
       "4      ...                       0                  0                    1   \n",
       "\n",
       "   PaymentMethod_Bank transfer (automatic)  \\\n",
       "0                                        0   \n",
       "1                                        0   \n",
       "2                                        0   \n",
       "3                                        1   \n",
       "4                                        0   \n",
       "\n",
       "   PaymentMethod_Credit card (automatic)  PaymentMethod_Electronic check  \\\n",
       "0                                      0                               1   \n",
       "1                                      0                               0   \n",
       "2                                      0                               0   \n",
       "3                                      0                               0   \n",
       "4                                      0                               1   \n",
       "\n",
       "   PaymentMethod_Mailed check    tenure  MonthlyCharges  TotalCharges  \n",
       "0                           0 -1.273098       -1.155973     -0.990447  \n",
       "1                           1  0.072520       -0.253553     -0.166213  \n",
       "2                           1 -1.232322       -0.356781     -0.955743  \n",
       "3                           0  0.521060       -0.741392     -0.187820  \n",
       "4                           0 -1.232322        0.204318     -0.936463  \n",
       "\n",
       "[5 rows x 40 columns]"
      ]
     },
     "execution_count": 40,
     "metadata": {},
     "output_type": "execute_result"
    }
   ],
   "source": [
    "# Trnasform raw data to foramt model recognized\n",
    "tr_x, tr_y, status = feature_engineering(raw, is_train=True)\n",
    "vl_x, vl_y, _ = feature_engineering(raw_vl, is_train=False, status=status)\n",
    "\n",
    "print( tr_x.shape, vl_x.shape )\n",
    "tr_x.head()"
   ]
  },
  {
   "cell_type": "code",
   "execution_count": 41,
   "metadata": {
    "colab": {
     "base_uri": "https://localhost:8080/",
     "height": 1575
    },
    "colab_type": "code",
    "executionInfo": {
     "elapsed": 4037,
     "status": "ok",
     "timestamp": 1538621868067,
     "user": {
      "displayName": "Gary Chen",
      "photoUrl": "",
      "userId": "10783188122132859162"
     },
     "user_tz": -480
    },
    "id": "SMJbH52ot1aD",
    "outputId": "70f5e5a7-4dc3-4269-f928-8c97c08f1598",
    "scrolled": true
   },
   "outputs": [
    {
     "name": "stdout",
     "output_type": "stream",
     "text": [
      "_________________________________________________________________\n",
      "Layer (type)                 Output Shape              Param #   \n",
      "=================================================================\n",
      "dense_1 (Dense)              (None, 64)                2624      \n",
      "_________________________________________________________________\n",
      "dense_2 (Dense)              (None, 32)                2080      \n",
      "_________________________________________________________________\n",
      "dense_3 (Dense)              (None, 16)                528       \n",
      "_________________________________________________________________\n",
      "dense_4 (Dense)              (None, 1)                 17        \n",
      "=================================================================\n",
      "Total params: 5,249\n",
      "Trainable params: 5,249\n",
      "Non-trainable params: 0\n",
      "_________________________________________________________________\n",
      "Train on 5634 samples, validate on 1409 samples\n",
      "Epoch 1/30\n",
      "5634/5634 [==============================] - 1s 120us/step - loss: 0.6795 - acc: 0.7236 - val_loss: 0.6647 - val_acc: 0.7452\n",
      "Epoch 2/30\n",
      "5634/5634 [==============================] - 0s 34us/step - loss: 0.6561 - acc: 0.7320 - val_loss: 0.6430 - val_acc: 0.7452\n",
      "Epoch 3/30\n",
      "5634/5634 [==============================] - 0s 35us/step - loss: 0.6383 - acc: 0.7320 - val_loss: 0.6266 - val_acc: 0.7452\n",
      "Epoch 4/30\n",
      "5634/5634 [==============================] - 0s 30us/step - loss: 0.6251 - acc: 0.7320 - val_loss: 0.6140 - val_acc: 0.7452\n",
      "Epoch 5/30\n",
      "5634/5634 [==============================] - 0s 29us/step - loss: 0.6150 - acc: 0.7320 - val_loss: 0.6044 - val_acc: 0.7452\n",
      "Epoch 6/30\n",
      "5634/5634 [==============================] - 0s 34us/step - loss: 0.6073 - acc: 0.7320 - val_loss: 0.5968 - val_acc: 0.7452\n",
      "Epoch 7/30\n",
      "5634/5634 [==============================] - 0s 35us/step - loss: 0.6013 - acc: 0.7320 - val_loss: 0.5909 - val_acc: 0.7452\n",
      "Epoch 8/30\n",
      "5634/5634 [==============================] - 0s 32us/step - loss: 0.5968 - acc: 0.7320 - val_loss: 0.5863 - val_acc: 0.7452\n",
      "Epoch 9/30\n",
      "5634/5634 [==============================] - 0s 36us/step - loss: 0.5933 - acc: 0.7320 - val_loss: 0.5828 - val_acc: 0.7452\n",
      "Epoch 10/30\n",
      "5634/5634 [==============================] - 0s 33us/step - loss: 0.5907 - acc: 0.7320 - val_loss: 0.5800 - val_acc: 0.7452\n",
      "Epoch 11/30\n",
      "5634/5634 [==============================] - 0s 37us/step - loss: 0.5886 - acc: 0.7320 - val_loss: 0.5778 - val_acc: 0.7452\n",
      "Epoch 12/30\n",
      "5634/5634 [==============================] - 0s 32us/step - loss: 0.5870 - acc: 0.7320 - val_loss: 0.5760 - val_acc: 0.7452\n",
      "Epoch 13/30\n",
      "5634/5634 [==============================] - 0s 30us/step - loss: 0.5858 - acc: 0.7320 - val_loss: 0.5745 - val_acc: 0.7452\n",
      "Epoch 14/30\n",
      "5634/5634 [==============================] - 0s 34us/step - loss: 0.5848 - acc: 0.7320 - val_loss: 0.5734 - val_acc: 0.7452\n",
      "Epoch 15/30\n",
      "5634/5634 [==============================] - 0s 33us/step - loss: 0.5840 - acc: 0.7320 - val_loss: 0.5725 - val_acc: 0.7452\n",
      "Epoch 16/30\n",
      "5634/5634 [==============================] - 0s 32us/step - loss: 0.5835 - acc: 0.7320 - val_loss: 0.5718 - val_acc: 0.7452\n",
      "Epoch 17/30\n",
      "5634/5634 [==============================] - 0s 34us/step - loss: 0.5830 - acc: 0.7320 - val_loss: 0.5711 - val_acc: 0.7452\n",
      "Epoch 18/30\n",
      "5634/5634 [==============================] - 0s 33us/step - loss: 0.5826 - acc: 0.7320 - val_loss: 0.5706 - val_acc: 0.7452\n",
      "Epoch 19/30\n",
      "5634/5634 [==============================] - 0s 38us/step - loss: 0.5823 - acc: 0.7320 - val_loss: 0.5702 - val_acc: 0.7452\n",
      "Epoch 20/30\n",
      "5634/5634 [==============================] - 0s 33us/step - loss: 0.5821 - acc: 0.7320 - val_loss: 0.5699 - val_acc: 0.7452\n",
      "Epoch 21/30\n",
      "5634/5634 [==============================] - 0s 33us/step - loss: 0.5819 - acc: 0.7320 - val_loss: 0.5695 - val_acc: 0.7452\n",
      "Epoch 22/30\n",
      "5634/5634 [==============================] - 0s 36us/step - loss: 0.5818 - acc: 0.7320 - val_loss: 0.5693 - val_acc: 0.7452\n",
      "Epoch 23/30\n",
      "5634/5634 [==============================] - 0s 34us/step - loss: 0.5816 - acc: 0.7320 - val_loss: 0.5691 - val_acc: 0.7452\n",
      "Epoch 24/30\n",
      "5634/5634 [==============================] - 0s 36us/step - loss: 0.5815 - acc: 0.7320 - val_loss: 0.5689 - val_acc: 0.7452\n",
      "Epoch 25/30\n",
      "5634/5634 [==============================] - 0s 31us/step - loss: 0.5815 - acc: 0.7320 - val_loss: 0.5688 - val_acc: 0.7452\n",
      "Epoch 26/30\n",
      "5634/5634 [==============================] - 0s 29us/step - loss: 0.5814 - acc: 0.7320 - val_loss: 0.5687 - val_acc: 0.7452\n",
      "Epoch 27/30\n",
      "5634/5634 [==============================] - 0s 28us/step - loss: 0.5814 - acc: 0.7320 - val_loss: 0.5686 - val_acc: 0.7452\n",
      "Epoch 28/30\n",
      "5634/5634 [==============================] - 0s 30us/step - loss: 0.5814 - acc: 0.7320 - val_loss: 0.5685 - val_acc: 0.7452\n",
      "Epoch 29/30\n",
      "5634/5634 [==============================] - 0s 31us/step - loss: 0.5813 - acc: 0.7320 - val_loss: 0.5684 - val_acc: 0.7452\n",
      "Epoch 30/30\n",
      "5634/5634 [==============================] - 0s 32us/step - loss: 0.5813 - acc: 0.7320 - val_loss: 0.5684 - val_acc: 0.7452\n"
     ]
    },
    {
     "data": {
      "image/png": "[encoded data removed]",
      "text/plain": [
       "<Figure size 1152x360 with 2 Axes>"
      ]
     },
     "metadata": {},
     "output_type": "display_data"
    },
    {
     "name": "stdout",
     "output_type": "stream",
     "text": [
      "auc: 0.7594614670380686\n"
     ]
    },
    {
     "data": {
      "image/png": "[encoded data removed]",
      "text/plain": [
       "<Figure size 432x432 with 1 Axes>"
      ]
     },
     "metadata": {},
     "output_type": "display_data"
    }
   ],
   "source": [
    "K.clear_session()\n",
    "\n",
    "model = get_model(input_dim=tr_x.shape[1])\n",
    "hist = model.fit(tr_x, tr_y, validation_data=(vl_x, vl_y), batch_size=100, epochs=30)\n",
    "plot_result(hist)\n",
    "draw_roc_curve(vl_y, model.predict(vl_x))"
   ]
  },
  {
   "cell_type": "markdown",
   "metadata": {},
   "source": [
    "## Analyze the Prediction"
   ]
  },
  {
   "cell_type": "code",
   "execution_count": 42,
   "metadata": {
    "scrolled": true
   },
   "outputs": [
    {
     "data": {
      "text/plain": [
       "array([[0.27372226],\n",
       "       [0.27364352],\n",
       "       [0.27369058],\n",
       "       ...,\n",
       "       [0.2737606 ],\n",
       "       [0.27385095],\n",
       "       [0.27370417]], dtype=float32)"
      ]
     },
     "execution_count": 42,
     "metadata": {},
     "output_type": "execute_result"
    }
   ],
   "source": [
    "y_pred = model.predict(vl_x)\n",
    "y_pred"
   ]
  },
  {
   "cell_type": "code",
   "execution_count": 43,
   "metadata": {
    "scrolled": true
   },
   "outputs": [
    {
     "name": "stdout",
     "output_type": "stream",
     "text": [
      "count    1409.000000\n",
      "mean        0.273694\n",
      "std         0.000074\n",
      "min         0.273516\n",
      "25%         0.273638\n",
      "50%         0.273694\n",
      "75%         0.273756\n",
      "max         0.273865\n",
      "dtype: float64\n",
      "0.2736936 7.434905e-05\n"
     ]
    },
    {
     "data": {
      "image/png": "[encoded data removed]",
      "text/plain": [
       "<Figure size 432x288 with 1 Axes>"
      ]
     },
     "metadata": {},
     "output_type": "display_data"
    },
    {
     "data": {
      "image/png": "[encoded data removed]",
      "text/plain": [
       "<Figure size 432x288 with 1 Axes>"
      ]
     },
     "metadata": {},
     "output_type": "display_data"
    },
    {
     "data": {
      "image/png": "[encoded data removed]",
      "text/plain": [
       "<Figure size 432x288 with 1 Axes>"
      ]
     },
     "metadata": {},
     "output_type": "display_data"
    }
   ],
   "source": [
    "def pred_dist(y_pred):\n",
    "    y_pred = pd.Series(y_pred.ravel())\n",
    "    print( y_pred.describe() )\n",
    "    print( y_pred.mean(), y_pred.std() )\n",
    "    sns.lineplot(range(len(y_pred)), sorted(y_pred.ravel()))\n",
    "    plt.show()\n",
    "\n",
    "    sns.boxplot(y_pred.ravel(), orient='v')\n",
    "    plt.show()\n",
    "\n",
    "    sns.distplot(y_pred.ravel())\n",
    "    plt.show()\n",
    "    \n",
    "pred_dist(y_pred)"
   ]
  },
  {
   "cell_type": "markdown",
   "metadata": {},
   "source": [
    "## Observation\n",
    "\n",
    "* 預測機率範圍集中在 `0.273`左右, 已經是小數點3位以下的差距\n",
    "* Accuracy預設threshold = 0.5, model不會產出Positive的預測\n",
    "* 問題變成找出最佳Threshold ==> 預測機率大於多少時認為是`Churn = 1`\n",
    "\n",
    "---\n"
   ]
  },
  {
   "cell_type": "markdown",
   "metadata": {},
   "source": [
    "## 找出最佳閥值"
   ]
  },
  {
   "cell_type": "code",
   "execution_count": 44,
   "metadata": {
    "scrolled": true
   },
   "outputs": [
    {
     "name": "stdout",
     "output_type": "stream",
     "text": [
      "thres: 0.2738, f_beta score: 0.5229\n",
      "accuracy@0.2738: 0.76\n",
      "\n",
      "threshold@0.5, accuracy: 0.7452\n",
      "[[1050    0]\n",
      " [ 359    0]] \n",
      "\n",
      "threshold@0.2738, accuracy: 0.7551\n",
      "[[870 180]\n",
      " [165 194]]\n"
     ]
    },
    {
     "name": "stderr",
     "output_type": "stream",
     "text": [
      "d:\\python\\anaconda3-5.2.0\\envs\\py3_6\\lib\\site-packages\\sklearn\\metrics\\classification.py:1135: UndefinedMetricWarning: Precision and F-score are ill-defined and being set to 0.0 in labels with no predicted samples.\n",
      "  'precision', 'predicted', average, warn_for)\n"
     ]
    }
   ],
   "source": [
    "# 依照所有的閥值(切割100等分)算出F score, 找出分數最高的閥值\n",
    "def f_beta_scann(y_true, y_pred, beta=0.5):\n",
    "    y_pred = pd.Series(y_pred.ravel())\n",
    "    # 切割100等分, 尋找最佳 f beta score\n",
    "    bins = np.linspace(y_pred.min(), y_pred.max(), 100)\n",
    "    # 找出F beta score最高的點\n",
    "    result = np.array([precision_recall_fscore_support(y_true=y_true, y_pred=y_pred > thres, beta=beta)[2][1] \n",
    "                       for thres in bins])\n",
    "    best_idx = result.argmax()\n",
    "    return bins[best_idx], result[best_idx]\n",
    "\n",
    "def analyze(y_true, y_pred):\n",
    "    thres, f_beta = f_beta_scann(y_true, y_pred)\n",
    "    acc = accuracy_score(y_true, y_pred.ravel() > thres)\n",
    "    print(f'thres: {thres:.4f}, f_beta score: {f_beta:.4f}')\n",
    "    print(f'accuracy@{thres:.4f}: {acc:.2f}\\n')\n",
    "\n",
    "    print(f'threshold@0.5, accuracy: {accuracy_score(y_true, y_pred.ravel() > 0.5):.4f}')\n",
    "    print(confusion_matrix(y_true, y_pred.ravel() > 0.5), '\\n')\n",
    "\n",
    "    print(f'threshold@{thres:.4f}, accuracy: {accuracy_score(y_true, y_pred.ravel() > thres):.4f}')\n",
    "    print(confusion_matrix(y_true, y_pred.ravel() > thres))\n",
    "    \n",
    "analyze(vl_y, y_pred)"
   ]
  },
  {
   "cell_type": "markdown",
   "metadata": {},
   "source": [
    "## Observation\n",
    "\n",
    "* 整體Accuracy 0.75, 卻無法產出 `Churn = 1` 的預測\n",
    "* 經果F beta score掃描之後, 整體Accuracy 降低, 但能夠產出退租名單\n",
    "* 根據以上, 是否還會糾結於 Accuracy 的高低?"
   ]
  },
  {
   "cell_type": "markdown",
   "metadata": {
    "colab_type": "text",
    "id": "h9MWinD-e6SX"
   },
   "source": [
    "## Bining Numeric Feature\n",
    "\n",
    "* Quartile cut\n"
   ]
  },
  {
   "cell_type": "code",
   "execution_count": 47,
   "metadata": {
    "colab": {
     "base_uri": "https://localhost:8080/",
     "height": 33
    },
    "colab_type": "code",
    "executionInfo": {
     "elapsed": 623,
     "status": "ok",
     "timestamp": 1538632948251,
     "user": {
      "displayName": "Gary Chen",
      "photoUrl": "",
      "userId": "10783188122132859162"
     },
     "user_tz": -480
    },
    "id": "KEZCNmIMqlor",
    "outputId": "e3f26c9d-4262-4591-f24a-84e80ec60012"
   },
   "outputs": [],
   "source": [
    "def do_binning(catg_ftrs, status, data, is_train):\n",
    "    # Quartile binning, outlier set to class \"0\"\n",
    "    def quartile_binning(x):\n",
    "        bins = np.percentile(x, range(0, 100, 25))[1:].tolist()\n",
    "        iqr_x_150 = (bins[-1] - bins[0]) * 1.5\n",
    "        bins = [bins[0] - iqr_x_150] + bins + [bins[-1] + iqr_x_150]\n",
    "        result = pd.Series(np.digitize(x, bins)).map(pd.Series([0, 1, 2, 3, 4, 0])).values\n",
    "        return result, bins\n",
    "\n",
    "    for col in ('tenure', 'MonthlyCharges', 'TotalCharges'):\n",
    "        binned_name = f'binn_{col}'\n",
    "        if is_train:\n",
    "            result, bins = quartile_binning(data[col])\n",
    "            status['binn_mapper'][binned_name] = bins\n",
    "            data[binned_name] = result\n",
    "        else:\n",
    "            bins = status['binn_mapper'][binned_name]\n",
    "            data[binned_name] = pd.Series(np.digitize(data[col], bins))\\\n",
    "                                  .map(pd.Series([0, 1, 2, 3, 4, 0])).values\n",
    "\n",
    "        catg_ftrs.append(binned_name)\n",
    "    pass"
   ]
  },
  {
   "cell_type": "code",
   "execution_count": 46,
   "metadata": {},
   "outputs": [],
   "source": [
    "def do_binning(catg_ftrs, status, data, is_train): pass"
   ]
  },
  {
   "cell_type": "code",
   "execution_count": 48,
   "metadata": {},
   "outputs": [
    {
     "name": "stdout",
     "output_type": "stream",
     "text": [
      "(5634, 52) (1409, 52)\n"
     ]
    },
    {
     "data": {
      "text/html": [
       "<div>\n",
       "<style scoped>\n",
       "    .dataframe tbody tr th:only-of-type {\n",
       "        vertical-align: middle;\n",
       "    }\n",
       "\n",
       "    .dataframe tbody tr th {\n",
       "        vertical-align: top;\n",
       "    }\n",
       "\n",
       "    .dataframe thead th {\n",
       "        text-align: right;\n",
       "    }\n",
       "</style>\n",
       "<table border=\"1\" class=\"dataframe\">\n",
       "  <thead>\n",
       "    <tr style=\"text-align: right;\">\n",
       "      <th></th>\n",
       "      <th>gender_Female</th>\n",
       "      <th>SeniorCitizen_0</th>\n",
       "      <th>Partner_No</th>\n",
       "      <th>Dependents_No</th>\n",
       "      <th>OnlineSecurity_No</th>\n",
       "      <th>OnlineSecurity_No internet service</th>\n",
       "      <th>OnlineSecurity_Yes</th>\n",
       "      <th>OnlineBackup_No</th>\n",
       "      <th>OnlineBackup_No internet service</th>\n",
       "      <th>OnlineBackup_Yes</th>\n",
       "      <th>...</th>\n",
       "      <th>binn_MonthlyCharges_2</th>\n",
       "      <th>binn_MonthlyCharges_3</th>\n",
       "      <th>binn_MonthlyCharges_4</th>\n",
       "      <th>binn_TotalCharges_1</th>\n",
       "      <th>binn_TotalCharges_2</th>\n",
       "      <th>binn_TotalCharges_3</th>\n",
       "      <th>binn_TotalCharges_4</th>\n",
       "      <th>tenure</th>\n",
       "      <th>MonthlyCharges</th>\n",
       "      <th>TotalCharges</th>\n",
       "    </tr>\n",
       "  </thead>\n",
       "  <tbody>\n",
       "    <tr>\n",
       "      <th>0</th>\n",
       "      <td>0</td>\n",
       "      <td>0</td>\n",
       "      <td>1</td>\n",
       "      <td>0</td>\n",
       "      <td>1</td>\n",
       "      <td>0</td>\n",
       "      <td>0</td>\n",
       "      <td>0</td>\n",
       "      <td>0</td>\n",
       "      <td>1</td>\n",
       "      <td>...</td>\n",
       "      <td>0</td>\n",
       "      <td>0</td>\n",
       "      <td>0</td>\n",
       "      <td>1</td>\n",
       "      <td>0</td>\n",
       "      <td>0</td>\n",
       "      <td>0</td>\n",
       "      <td>-1.273098</td>\n",
       "      <td>-1.155973</td>\n",
       "      <td>-0.990447</td>\n",
       "    </tr>\n",
       "    <tr>\n",
       "      <th>1</th>\n",
       "      <td>1</td>\n",
       "      <td>0</td>\n",
       "      <td>0</td>\n",
       "      <td>0</td>\n",
       "      <td>0</td>\n",
       "      <td>0</td>\n",
       "      <td>1</td>\n",
       "      <td>1</td>\n",
       "      <td>0</td>\n",
       "      <td>0</td>\n",
       "      <td>...</td>\n",
       "      <td>1</td>\n",
       "      <td>0</td>\n",
       "      <td>0</td>\n",
       "      <td>0</td>\n",
       "      <td>0</td>\n",
       "      <td>1</td>\n",
       "      <td>0</td>\n",
       "      <td>0.072520</td>\n",
       "      <td>-0.253553</td>\n",
       "      <td>-0.166213</td>\n",
       "    </tr>\n",
       "    <tr>\n",
       "      <th>2</th>\n",
       "      <td>1</td>\n",
       "      <td>0</td>\n",
       "      <td>0</td>\n",
       "      <td>0</td>\n",
       "      <td>0</td>\n",
       "      <td>0</td>\n",
       "      <td>1</td>\n",
       "      <td>0</td>\n",
       "      <td>0</td>\n",
       "      <td>1</td>\n",
       "      <td>...</td>\n",
       "      <td>1</td>\n",
       "      <td>0</td>\n",
       "      <td>0</td>\n",
       "      <td>1</td>\n",
       "      <td>0</td>\n",
       "      <td>0</td>\n",
       "      <td>0</td>\n",
       "      <td>-1.232322</td>\n",
       "      <td>-0.356781</td>\n",
       "      <td>-0.955743</td>\n",
       "    </tr>\n",
       "    <tr>\n",
       "      <th>3</th>\n",
       "      <td>1</td>\n",
       "      <td>0</td>\n",
       "      <td>0</td>\n",
       "      <td>0</td>\n",
       "      <td>0</td>\n",
       "      <td>0</td>\n",
       "      <td>1</td>\n",
       "      <td>1</td>\n",
       "      <td>0</td>\n",
       "      <td>0</td>\n",
       "      <td>...</td>\n",
       "      <td>1</td>\n",
       "      <td>0</td>\n",
       "      <td>0</td>\n",
       "      <td>0</td>\n",
       "      <td>0</td>\n",
       "      <td>1</td>\n",
       "      <td>0</td>\n",
       "      <td>0.521060</td>\n",
       "      <td>-0.741392</td>\n",
       "      <td>-0.187820</td>\n",
       "    </tr>\n",
       "    <tr>\n",
       "      <th>4</th>\n",
       "      <td>0</td>\n",
       "      <td>0</td>\n",
       "      <td>0</td>\n",
       "      <td>0</td>\n",
       "      <td>1</td>\n",
       "      <td>0</td>\n",
       "      <td>0</td>\n",
       "      <td>1</td>\n",
       "      <td>0</td>\n",
       "      <td>0</td>\n",
       "      <td>...</td>\n",
       "      <td>0</td>\n",
       "      <td>1</td>\n",
       "      <td>0</td>\n",
       "      <td>1</td>\n",
       "      <td>0</td>\n",
       "      <td>0</td>\n",
       "      <td>0</td>\n",
       "      <td>-1.232322</td>\n",
       "      <td>0.204318</td>\n",
       "      <td>-0.936463</td>\n",
       "    </tr>\n",
       "  </tbody>\n",
       "</table>\n",
       "<p>5 rows × 52 columns</p>\n",
       "</div>"
      ],
      "text/plain": [
       "   gender_Female  SeniorCitizen_0  Partner_No  Dependents_No  \\\n",
       "0              0                0           1              0   \n",
       "1              1                0           0              0   \n",
       "2              1                0           0              0   \n",
       "3              1                0           0              0   \n",
       "4              0                0           0              0   \n",
       "\n",
       "   OnlineSecurity_No  OnlineSecurity_No internet service  OnlineSecurity_Yes  \\\n",
       "0                  1                                   0                   0   \n",
       "1                  0                                   0                   1   \n",
       "2                  0                                   0                   1   \n",
       "3                  0                                   0                   1   \n",
       "4                  1                                   0                   0   \n",
       "\n",
       "   OnlineBackup_No  OnlineBackup_No internet service  OnlineBackup_Yes  \\\n",
       "0                0                                 0                 1   \n",
       "1                1                                 0                 0   \n",
       "2                0                                 0                 1   \n",
       "3                1                                 0                 0   \n",
       "4                1                                 0                 0   \n",
       "\n",
       "       ...       binn_MonthlyCharges_2  binn_MonthlyCharges_3  \\\n",
       "0      ...                           0                      0   \n",
       "1      ...                           1                      0   \n",
       "2      ...                           1                      0   \n",
       "3      ...                           1                      0   \n",
       "4      ...                           0                      1   \n",
       "\n",
       "   binn_MonthlyCharges_4  binn_TotalCharges_1  binn_TotalCharges_2  \\\n",
       "0                      0                    1                    0   \n",
       "1                      0                    0                    0   \n",
       "2                      0                    1                    0   \n",
       "3                      0                    0                    0   \n",
       "4                      0                    1                    0   \n",
       "\n",
       "   binn_TotalCharges_3  binn_TotalCharges_4    tenure  MonthlyCharges  \\\n",
       "0                    0                    0 -1.273098       -1.155973   \n",
       "1                    1                    0  0.072520       -0.253553   \n",
       "2                    0                    0 -1.232322       -0.356781   \n",
       "3                    1                    0  0.521060       -0.741392   \n",
       "4                    0                    0 -1.232322        0.204318   \n",
       "\n",
       "   TotalCharges  \n",
       "0     -0.990447  \n",
       "1     -0.166213  \n",
       "2     -0.955743  \n",
       "3     -0.187820  \n",
       "4     -0.936463  \n",
       "\n",
       "[5 rows x 52 columns]"
      ]
     },
     "execution_count": 48,
     "metadata": {},
     "output_type": "execute_result"
    }
   ],
   "source": [
    "# Trnasform raw data to foramt model recognized\n",
    "tr_x, tr_y, status = feature_engineering(raw, is_train=True)\n",
    "vl_x, vl_y, _ = feature_engineering(raw_vl, is_train=False, status=status)\n",
    "\n",
    "print( tr_x.shape, vl_x.shape )\n",
    "tr_x.head()"
   ]
  },
  {
   "cell_type": "markdown",
   "metadata": {},
   "source": [
    "## Model (Binning)"
   ]
  },
  {
   "cell_type": "code",
   "execution_count": 49,
   "metadata": {
    "scrolled": true
   },
   "outputs": [
    {
     "name": "stdout",
     "output_type": "stream",
     "text": [
      "_________________________________________________________________\n",
      "Layer (type)                 Output Shape              Param #   \n",
      "=================================================================\n",
      "dense_1 (Dense)              (None, 64)                3392      \n",
      "_________________________________________________________________\n",
      "dense_2 (Dense)              (None, 32)                2080      \n",
      "_________________________________________________________________\n",
      "dense_3 (Dense)              (None, 16)                528       \n",
      "_________________________________________________________________\n",
      "dense_4 (Dense)              (None, 1)                 17        \n",
      "=================================================================\n",
      "Total params: 6,017\n",
      "Trainable params: 6,017\n",
      "Non-trainable params: 0\n",
      "_________________________________________________________________\n",
      "Train on 5634 samples, validate on 1409 samples\n",
      "Epoch 1/30\n",
      "5634/5634 [==============================] - 1s 132us/step - loss: 0.6793 - acc: 0.7307 - val_loss: 0.6645 - val_acc: 0.7452\n",
      "Epoch 2/30\n",
      "5634/5634 [==============================] - 0s 34us/step - loss: 0.6559 - acc: 0.7320 - val_loss: 0.6428 - val_acc: 0.7452\n",
      "Epoch 3/30\n",
      "5634/5634 [==============================] - 0s 37us/step - loss: 0.6381 - acc: 0.7320 - val_loss: 0.6263 - val_acc: 0.7452\n",
      "Epoch 4/30\n",
      "5634/5634 [==============================] - 0s 34us/step - loss: 0.6248 - acc: 0.7320 - val_loss: 0.6137 - val_acc: 0.7452\n",
      "Epoch 5/30\n",
      "5634/5634 [==============================] - 0s 32us/step - loss: 0.6147 - acc: 0.7320 - val_loss: 0.6041 - val_acc: 0.7452\n",
      "Epoch 6/30\n",
      "5634/5634 [==============================] - 0s 33us/step - loss: 0.6070 - acc: 0.7320 - val_loss: 0.5965 - val_acc: 0.7452\n",
      "Epoch 7/30\n",
      "5634/5634 [==============================] - 0s 29us/step - loss: 0.6011 - acc: 0.7320 - val_loss: 0.5907 - val_acc: 0.7452\n",
      "Epoch 8/30\n",
      "5634/5634 [==============================] - 0s 29us/step - loss: 0.5966 - acc: 0.7320 - val_loss: 0.5861 - val_acc: 0.7452\n",
      "Epoch 9/30\n",
      "5634/5634 [==============================] - 0s 28us/step - loss: 0.5931 - acc: 0.7320 - val_loss: 0.5825 - val_acc: 0.7452\n",
      "Epoch 10/30\n",
      "5634/5634 [==============================] - 0s 29us/step - loss: 0.5904 - acc: 0.7320 - val_loss: 0.5797 - val_acc: 0.7452\n",
      "Epoch 11/30\n",
      "5634/5634 [==============================] - 0s 29us/step - loss: 0.5884 - acc: 0.7320 - val_loss: 0.5775 - val_acc: 0.7452\n",
      "Epoch 12/30\n",
      "5634/5634 [==============================] - 0s 34us/step - loss: 0.5868 - acc: 0.7320 - val_loss: 0.5758 - val_acc: 0.7452\n",
      "Epoch 13/30\n",
      "5634/5634 [==============================] - 0s 30us/step - loss: 0.5856 - acc: 0.7320 - val_loss: 0.5743 - val_acc: 0.7452\n",
      "Epoch 14/30\n",
      "5634/5634 [==============================] - 0s 29us/step - loss: 0.5846 - acc: 0.7320 - val_loss: 0.5732 - val_acc: 0.7452\n",
      "Epoch 15/30\n",
      "5634/5634 [==============================] - 0s 29us/step - loss: 0.5839 - acc: 0.7320 - val_loss: 0.5723 - val_acc: 0.7452\n",
      "Epoch 16/30\n",
      "5634/5634 [==============================] - 0s 29us/step - loss: 0.5833 - acc: 0.7320 - val_loss: 0.5716 - val_acc: 0.7452\n",
      "Epoch 17/30\n",
      "5634/5634 [==============================] - 0s 28us/step - loss: 0.5829 - acc: 0.7320 - val_loss: 0.5710 - val_acc: 0.7452\n",
      "Epoch 18/30\n",
      "5634/5634 [==============================] - 0s 30us/step - loss: 0.5825 - acc: 0.7320 - val_loss: 0.5705 - val_acc: 0.7452\n",
      "Epoch 19/30\n",
      "5634/5634 [==============================] - 0s 29us/step - loss: 0.5822 - acc: 0.7320 - val_loss: 0.5701 - val_acc: 0.7452\n",
      "Epoch 20/30\n",
      "5634/5634 [==============================] - 0s 29us/step - loss: 0.5820 - acc: 0.7320 - val_loss: 0.5697 - val_acc: 0.7452\n",
      "Epoch 21/30\n",
      "5634/5634 [==============================] - 0s 29us/step - loss: 0.5818 - acc: 0.7320 - val_loss: 0.5694 - val_acc: 0.7452\n",
      "Epoch 22/30\n",
      "5634/5634 [==============================] - 0s 32us/step - loss: 0.5817 - acc: 0.7320 - val_loss: 0.5692 - val_acc: 0.7452\n",
      "Epoch 23/30\n",
      "5634/5634 [==============================] - 0s 30us/step - loss: 0.5816 - acc: 0.7320 - val_loss: 0.5690 - val_acc: 0.7452\n",
      "Epoch 24/30\n",
      "5634/5634 [==============================] - 0s 33us/step - loss: 0.5815 - acc: 0.7320 - val_loss: 0.5688 - val_acc: 0.7452\n",
      "Epoch 25/30\n",
      "5634/5634 [==============================] - 0s 33us/step - loss: 0.5814 - acc: 0.7320 - val_loss: 0.5687 - val_acc: 0.7452\n",
      "Epoch 26/30\n",
      "5634/5634 [==============================] - 0s 33us/step - loss: 0.5814 - acc: 0.7320 - val_loss: 0.5686 - val_acc: 0.7452\n",
      "Epoch 27/30\n",
      "5634/5634 [==============================] - 0s 32us/step - loss: 0.5813 - acc: 0.7320 - val_loss: 0.5685 - val_acc: 0.7452\n",
      "Epoch 28/30\n",
      "5634/5634 [==============================] - 0s 30us/step - loss: 0.5813 - acc: 0.7320 - val_loss: 0.5684 - val_acc: 0.7452\n",
      "Epoch 29/30\n",
      "5634/5634 [==============================] - 0s 28us/step - loss: 0.5813 - acc: 0.7320 - val_loss: 0.5683 - val_acc: 0.7452\n",
      "Epoch 30/30\n",
      "5634/5634 [==============================] - 0s 33us/step - loss: 0.5812 - acc: 0.7320 - val_loss: 0.5682 - val_acc: 0.7452\n"
     ]
    },
    {
     "data": {
      "image/png": "[encoded data removed]",
      "text/plain": [
       "<Figure size 1152x360 with 2 Axes>"
      ]
     },
     "metadata": {},
     "output_type": "display_data"
    },
    {
     "name": "stdout",
     "output_type": "stream",
     "text": [
      "auc: 0.7594097360392625\n"
     ]
    },
    {
     "data": {
      "image/png": "[encoded data removed]",
      "text/plain": [
       "<Figure size 432x432 with 1 Axes>"
      ]
     },
     "metadata": {},
     "output_type": "display_data"
    },
    {
     "name": "stdout",
     "output_type": "stream",
     "text": [
      "count    1409.000000\n",
      "mean        0.272577\n",
      "std         0.000120\n",
      "min         0.272286\n",
      "25%         0.272485\n",
      "50%         0.272589\n",
      "75%         0.272680\n",
      "max         0.272814\n",
      "dtype: float64\n",
      "0.27257746 0.00011970373\n"
     ]
    },
    {
     "data": {
      "image/png": "[encoded data removed]",
      "text/plain": [
       "<Figure size 432x288 with 1 Axes>"
      ]
     },
     "metadata": {},
     "output_type": "display_data"
    },
    {
     "data": {
      "image/png": "[encoded data removed]",
      "text/plain": [
       "<Figure size 432x288 with 1 Axes>"
      ]
     },
     "metadata": {},
     "output_type": "display_data"
    },
    {
     "data": {
      "image/png": "[encoded data removed]",
      "text/plain": [
       "<Figure size 432x288 with 1 Axes>"
      ]
     },
     "metadata": {},
     "output_type": "display_data"
    },
    {
     "name": "stdout",
     "output_type": "stream",
     "text": [
      "thres: 0.2727, f_beta score: 0.5129\n",
      "accuracy@0.2727: 0.76\n",
      "\n",
      "threshold@0.5, accuracy: 0.7452\n",
      "[[1050    0]\n",
      " [ 359    0]] \n",
      "\n",
      "threshold@0.2727, accuracy: 0.7559\n",
      "[[894 156]\n",
      " [188 171]]\n"
     ]
    },
    {
     "name": "stderr",
     "output_type": "stream",
     "text": [
      "d:\\python\\anaconda3-5.2.0\\envs\\py3_6\\lib\\site-packages\\sklearn\\metrics\\classification.py:1135: UndefinedMetricWarning: Precision and F-score are ill-defined and being set to 0.0 in labels with no predicted samples.\n",
      "  'precision', 'predicted', average, warn_for)\n"
     ]
    }
   ],
   "source": [
    "K.clear_session()\n",
    "\n",
    "model = get_model(input_dim=tr_x.shape[1])\n",
    "hist = model.fit(tr_x, tr_y, validation_data=(vl_x, vl_y), batch_size=100, epochs=30)\n",
    "plot_result(hist)\n",
    "draw_roc_curve(vl_y, model.predict(vl_x))\n",
    "\n",
    "y_pred = model.predict(vl_x)\n",
    "pred_dist(y_pred)\n",
    "analyze(vl_y, y_pred)"
   ]
  },
  {
   "cell_type": "markdown",
   "metadata": {
    "colab_type": "text",
    "id": "4EtiRvZDGVfV"
   },
   "source": [
    "## Add Weight of Evidence Encoding"
   ]
  },
  {
   "cell_type": "code",
   "execution_count": 50,
   "metadata": {
    "colab": {
     "base_uri": "https://localhost:8080/",
     "height": 262
    },
    "colab_type": "code",
    "executionInfo": {
     "elapsed": 615,
     "status": "ok",
     "timestamp": 1538629657376,
     "user": {
      "displayName": "Gary Chen",
      "photoUrl": "",
      "userId": "10783188122132859162"
     },
     "user_tz": -480
    },
    "id": "L_YwlDOpGVml",
    "outputId": "abfe5e13-576a-4d23-acc6-9cc8f4db9c78"
   },
   "outputs": [],
   "source": [
    "def do_woe_encoding(catg_ftrs, catg_part, status, data, is_train):\n",
    "\n",
    "    def woe_encode(x, label, data):\n",
    "        \"\"\"Calculate the Weight of Evidence of given categorical feature and label\n",
    "\n",
    "        :param x: Given feature name\n",
    "        :param label: Label name\n",
    "        :param data:\n",
    "        :return: WOE encoded dictionary\n",
    "        \"\"\"\n",
    "        total_vc = data[label].value_counts().sort_index()\n",
    "\n",
    "        def woe(pipe, total_vc):\n",
    "            # Count by label in this group\n",
    "            group_vc = pipe[label].value_counts().sort_index()\n",
    "\n",
    "            # Some class in the feature is missing, fill zero to missing class\n",
    "            if len(group_vc) < len(total_vc):\n",
    "                for key in total_vc.index:\n",
    "                    if key not in group_vc:\n",
    "                        group_vc[key] = 0.\n",
    "                group_vc = group_vc.sort_index()\n",
    "\n",
    "            # WOE formula\n",
    "            r = ((group_vc + 0.5) / total_vc).values\n",
    "\n",
    "            # Odd ratio => 1 to 0, you can define meaning of each class\n",
    "            return np.log(r[1] / r[0])\n",
    "\n",
    "        return data.groupby(x).apply(lambda pipe: woe(pipe, total_vc))\n",
    "\n",
    "    for catg_col in catg_ftrs:\n",
    "        if is_train:\n",
    "            kv = woe_encode(catg_col, 'Churn', data)\n",
    "            status['woe_mapper'][catg_col] = kv.to_dict()\n",
    "        else:\n",
    "            kv = pd.Series(status['woe_mapper'][catg_col])\n",
    "        catg_part[f'woe_{catg_col}'] = kv.reindex(data[catg_col]).values\n",
    "    pass"
   ]
  },
  {
   "cell_type": "code",
   "execution_count": 51,
   "metadata": {},
   "outputs": [
    {
     "name": "stdout",
     "output_type": "stream",
     "text": [
      "(5634, 71) (1409, 71)\n"
     ]
    },
    {
     "data": {
      "text/html": [
       "<div>\n",
       "<style scoped>\n",
       "    .dataframe tbody tr th:only-of-type {\n",
       "        vertical-align: middle;\n",
       "    }\n",
       "\n",
       "    .dataframe tbody tr th {\n",
       "        vertical-align: top;\n",
       "    }\n",
       "\n",
       "    .dataframe thead th {\n",
       "        text-align: right;\n",
       "    }\n",
       "</style>\n",
       "<table border=\"1\" class=\"dataframe\">\n",
       "  <thead>\n",
       "    <tr style=\"text-align: right;\">\n",
       "      <th></th>\n",
       "      <th>gender_Female</th>\n",
       "      <th>SeniorCitizen_0</th>\n",
       "      <th>Partner_No</th>\n",
       "      <th>Dependents_No</th>\n",
       "      <th>OnlineSecurity_No</th>\n",
       "      <th>OnlineSecurity_No internet service</th>\n",
       "      <th>OnlineSecurity_Yes</th>\n",
       "      <th>OnlineBackup_No</th>\n",
       "      <th>OnlineBackup_No internet service</th>\n",
       "      <th>OnlineBackup_Yes</th>\n",
       "      <th>...</th>\n",
       "      <th>woe_InternetService</th>\n",
       "      <th>woe_Contract</th>\n",
       "      <th>woe_PaperlessBilling</th>\n",
       "      <th>woe_PaymentMethod</th>\n",
       "      <th>woe_binn_tenure</th>\n",
       "      <th>woe_binn_MonthlyCharges</th>\n",
       "      <th>woe_binn_TotalCharges</th>\n",
       "      <th>tenure</th>\n",
       "      <th>MonthlyCharges</th>\n",
       "      <th>TotalCharges</th>\n",
       "    </tr>\n",
       "  </thead>\n",
       "  <tbody>\n",
       "    <tr>\n",
       "      <th>0</th>\n",
       "      <td>0</td>\n",
       "      <td>0</td>\n",
       "      <td>1</td>\n",
       "      <td>0</td>\n",
       "      <td>1</td>\n",
       "      <td>0</td>\n",
       "      <td>0</td>\n",
       "      <td>0</td>\n",
       "      <td>0</td>\n",
       "      <td>1</td>\n",
       "      <td>...</td>\n",
       "      <td>-0.445889</td>\n",
       "      <td>0.738504</td>\n",
       "      <td>0.337875</td>\n",
       "      <td>0.855740</td>\n",
       "      <td>1.070782</td>\n",
       "      <td>-1.039678</td>\n",
       "      <td>0.763840</td>\n",
       "      <td>-1.273098</td>\n",
       "      <td>-1.155973</td>\n",
       "      <td>-0.990447</td>\n",
       "    </tr>\n",
       "    <tr>\n",
       "      <th>1</th>\n",
       "      <td>1</td>\n",
       "      <td>0</td>\n",
       "      <td>0</td>\n",
       "      <td>0</td>\n",
       "      <td>0</td>\n",
       "      <td>0</td>\n",
       "      <td>1</td>\n",
       "      <td>1</td>\n",
       "      <td>0</td>\n",
       "      <td>0</td>\n",
       "      <td>...</td>\n",
       "      <td>-0.445889</td>\n",
       "      <td>-1.104910</td>\n",
       "      <td>-0.608877</td>\n",
       "      <td>-0.420783</td>\n",
       "      <td>-0.420389</td>\n",
       "      <td>-0.153503</td>\n",
       "      <td>-0.214491</td>\n",
       "      <td>0.072520</td>\n",
       "      <td>-0.253553</td>\n",
       "      <td>-0.166213</td>\n",
       "    </tr>\n",
       "    <tr>\n",
       "      <th>2</th>\n",
       "      <td>1</td>\n",
       "      <td>0</td>\n",
       "      <td>0</td>\n",
       "      <td>0</td>\n",
       "      <td>0</td>\n",
       "      <td>0</td>\n",
       "      <td>1</td>\n",
       "      <td>0</td>\n",
       "      <td>0</td>\n",
       "      <td>1</td>\n",
       "      <td>...</td>\n",
       "      <td>-0.445889</td>\n",
       "      <td>0.738504</td>\n",
       "      <td>0.337875</td>\n",
       "      <td>-0.420783</td>\n",
       "      <td>1.070782</td>\n",
       "      <td>-0.153503</td>\n",
       "      <td>0.763840</td>\n",
       "      <td>-1.232322</td>\n",
       "      <td>-0.356781</td>\n",
       "      <td>-0.955743</td>\n",
       "    </tr>\n",
       "    <tr>\n",
       "      <th>3</th>\n",
       "      <td>1</td>\n",
       "      <td>0</td>\n",
       "      <td>0</td>\n",
       "      <td>0</td>\n",
       "      <td>0</td>\n",
       "      <td>0</td>\n",
       "      <td>1</td>\n",
       "      <td>1</td>\n",
       "      <td>0</td>\n",
       "      <td>0</td>\n",
       "      <td>...</td>\n",
       "      <td>-0.445889</td>\n",
       "      <td>-1.104910</td>\n",
       "      <td>-0.608877</td>\n",
       "      <td>-0.606650</td>\n",
       "      <td>-0.420389</td>\n",
       "      <td>-0.153503</td>\n",
       "      <td>-0.214491</td>\n",
       "      <td>0.521060</td>\n",
       "      <td>-0.741392</td>\n",
       "      <td>-0.187820</td>\n",
       "    </tr>\n",
       "    <tr>\n",
       "      <th>4</th>\n",
       "      <td>0</td>\n",
       "      <td>0</td>\n",
       "      <td>0</td>\n",
       "      <td>0</td>\n",
       "      <td>1</td>\n",
       "      <td>0</td>\n",
       "      <td>0</td>\n",
       "      <td>1</td>\n",
       "      <td>0</td>\n",
       "      <td>0</td>\n",
       "      <td>...</td>\n",
       "      <td>0.714524</td>\n",
       "      <td>0.738504</td>\n",
       "      <td>0.337875</td>\n",
       "      <td>0.855740</td>\n",
       "      <td>1.070782</td>\n",
       "      <td>0.532289</td>\n",
       "      <td>0.763840</td>\n",
       "      <td>-1.232322</td>\n",
       "      <td>0.204318</td>\n",
       "      <td>-0.936463</td>\n",
       "    </tr>\n",
       "  </tbody>\n",
       "</table>\n",
       "<p>5 rows × 71 columns</p>\n",
       "</div>"
      ],
      "text/plain": [
       "   gender_Female  SeniorCitizen_0  Partner_No  Dependents_No  \\\n",
       "0              0                0           1              0   \n",
       "1              1                0           0              0   \n",
       "2              1                0           0              0   \n",
       "3              1                0           0              0   \n",
       "4              0                0           0              0   \n",
       "\n",
       "   OnlineSecurity_No  OnlineSecurity_No internet service  OnlineSecurity_Yes  \\\n",
       "0                  1                                   0                   0   \n",
       "1                  0                                   0                   1   \n",
       "2                  0                                   0                   1   \n",
       "3                  0                                   0                   1   \n",
       "4                  1                                   0                   0   \n",
       "\n",
       "   OnlineBackup_No  OnlineBackup_No internet service  OnlineBackup_Yes  \\\n",
       "0                0                                 0                 1   \n",
       "1                1                                 0                 0   \n",
       "2                0                                 0                 1   \n",
       "3                1                                 0                 0   \n",
       "4                1                                 0                 0   \n",
       "\n",
       "       ...       woe_InternetService  woe_Contract  woe_PaperlessBilling  \\\n",
       "0      ...                 -0.445889      0.738504              0.337875   \n",
       "1      ...                 -0.445889     -1.104910             -0.608877   \n",
       "2      ...                 -0.445889      0.738504              0.337875   \n",
       "3      ...                 -0.445889     -1.104910             -0.608877   \n",
       "4      ...                  0.714524      0.738504              0.337875   \n",
       "\n",
       "   woe_PaymentMethod  woe_binn_tenure  woe_binn_MonthlyCharges  \\\n",
       "0           0.855740         1.070782                -1.039678   \n",
       "1          -0.420783        -0.420389                -0.153503   \n",
       "2          -0.420783         1.070782                -0.153503   \n",
       "3          -0.606650        -0.420389                -0.153503   \n",
       "4           0.855740         1.070782                 0.532289   \n",
       "\n",
       "   woe_binn_TotalCharges    tenure  MonthlyCharges  TotalCharges  \n",
       "0               0.763840 -1.273098       -1.155973     -0.990447  \n",
       "1              -0.214491  0.072520       -0.253553     -0.166213  \n",
       "2               0.763840 -1.232322       -0.356781     -0.955743  \n",
       "3              -0.214491  0.521060       -0.741392     -0.187820  \n",
       "4               0.763840 -1.232322        0.204318     -0.936463  \n",
       "\n",
       "[5 rows x 71 columns]"
      ]
     },
     "execution_count": 51,
     "metadata": {},
     "output_type": "execute_result"
    }
   ],
   "source": [
    "# Trnasform raw data to foramt model recognized\n",
    "tr_x, tr_y, status = feature_engineering(raw, is_train=True)\n",
    "vl_x, vl_y, _ = feature_engineering(raw_vl, is_train=False, status=status)\n",
    "\n",
    "print( tr_x.shape, vl_x.shape )\n",
    "tr_x.head()"
   ]
  },
  {
   "cell_type": "markdown",
   "metadata": {
    "colab_type": "text",
    "id": "xp-VkesMgDVz"
   },
   "source": [
    "## Model (WOE)"
   ]
  },
  {
   "cell_type": "code",
   "execution_count": 52,
   "metadata": {
    "colab": {
     "base_uri": "https://localhost:8080/",
     "height": 1609
    },
    "colab_type": "code",
    "executionInfo": {
     "elapsed": 4738,
     "status": "ok",
     "timestamp": 1538629717958,
     "user": {
      "displayName": "Gary Chen",
      "photoUrl": "",
      "userId": "10783188122132859162"
     },
     "user_tz": -480
    },
    "id": "_1oC02RWeZoH",
    "outputId": "2c19cff1-1626-4319-8904-bf0f5bf81d36",
    "scrolled": true
   },
   "outputs": [
    {
     "name": "stdout",
     "output_type": "stream",
     "text": [
      "_________________________________________________________________\n",
      "Layer (type)                 Output Shape              Param #   \n",
      "=================================================================\n",
      "dense_1 (Dense)              (None, 64)                4608      \n",
      "_________________________________________________________________\n",
      "dense_2 (Dense)              (None, 32)                2080      \n",
      "_________________________________________________________________\n",
      "dense_3 (Dense)              (None, 16)                528       \n",
      "_________________________________________________________________\n",
      "dense_4 (Dense)              (None, 1)                 17        \n",
      "=================================================================\n",
      "Total params: 7,233\n",
      "Trainable params: 7,233\n",
      "Non-trainable params: 0\n",
      "_________________________________________________________________\n",
      "Train on 5634 samples, validate on 1409 samples\n",
      "Epoch 1/30\n",
      "5634/5634 [==============================] - 1s 126us/step - loss: 0.6795 - acc: 0.7268 - val_loss: 0.6647 - val_acc: 0.7452\n",
      "Epoch 2/30\n",
      "5634/5634 [==============================] - 0s 36us/step - loss: 0.6560 - acc: 0.7320 - val_loss: 0.6431 - val_acc: 0.7452\n",
      "Epoch 3/30\n",
      "5634/5634 [==============================] - 0s 35us/step - loss: 0.6384 - acc: 0.7320 - val_loss: 0.6266 - val_acc: 0.7452\n",
      "Epoch 4/30\n",
      "5634/5634 [==============================] - 0s 32us/step - loss: 0.6251 - acc: 0.7320 - val_loss: 0.6140 - val_acc: 0.7452\n",
      "Epoch 5/30\n",
      "5634/5634 [==============================] - 0s 30us/step - loss: 0.6149 - acc: 0.7320 - val_loss: 0.6043 - val_acc: 0.7452\n",
      "Epoch 6/30\n",
      "5634/5634 [==============================] - 0s 32us/step - loss: 0.6073 - acc: 0.7320 - val_loss: 0.5968 - val_acc: 0.7452\n",
      "Epoch 7/30\n",
      "5634/5634 [==============================] - 0s 31us/step - loss: 0.6013 - acc: 0.7320 - val_loss: 0.5910 - val_acc: 0.7452\n",
      "Epoch 8/30\n",
      "5634/5634 [==============================] - 0s 33us/step - loss: 0.5968 - acc: 0.7320 - val_loss: 0.5864 - val_acc: 0.7452\n",
      "Epoch 9/30\n",
      "5634/5634 [==============================] - 0s 31us/step - loss: 0.5934 - acc: 0.7320 - val_loss: 0.5828 - val_acc: 0.7452\n",
      "Epoch 10/30\n",
      "5634/5634 [==============================] - 0s 32us/step - loss: 0.5907 - acc: 0.7320 - val_loss: 0.5800 - val_acc: 0.7452\n",
      "Epoch 11/30\n",
      "5634/5634 [==============================] - 0s 33us/step - loss: 0.5886 - acc: 0.7320 - val_loss: 0.5778 - val_acc: 0.7452\n",
      "Epoch 12/30\n",
      "5634/5634 [==============================] - 0s 36us/step - loss: 0.5870 - acc: 0.7320 - val_loss: 0.5760 - val_acc: 0.7452\n",
      "Epoch 13/30\n",
      "5634/5634 [==============================] - 0s 35us/step - loss: 0.5858 - acc: 0.7320 - val_loss: 0.5746 - val_acc: 0.7452\n",
      "Epoch 14/30\n",
      "5634/5634 [==============================] - 0s 30us/step - loss: 0.5849 - acc: 0.7320 - val_loss: 0.5735 - val_acc: 0.7452\n",
      "Epoch 15/30\n",
      "5634/5634 [==============================] - 0s 29us/step - loss: 0.5841 - acc: 0.7320 - val_loss: 0.5725 - val_acc: 0.7452\n",
      "Epoch 16/30\n",
      "5634/5634 [==============================] - 0s 30us/step - loss: 0.5835 - acc: 0.7320 - val_loss: 0.5718 - val_acc: 0.7452\n",
      "Epoch 17/30\n",
      "5634/5634 [==============================] - 0s 35us/step - loss: 0.5830 - acc: 0.7320 - val_loss: 0.5712 - val_acc: 0.7452\n",
      "Epoch 18/30\n",
      "5634/5634 [==============================] - 0s 32us/step - loss: 0.5826 - acc: 0.7320 - val_loss: 0.5707 - val_acc: 0.7452\n",
      "Epoch 19/30\n",
      "5634/5634 [==============================] - 0s 35us/step - loss: 0.5823 - acc: 0.7320 - val_loss: 0.5702 - val_acc: 0.7452\n",
      "Epoch 20/30\n",
      "5634/5634 [==============================] - 0s 33us/step - loss: 0.5821 - acc: 0.7320 - val_loss: 0.5699 - val_acc: 0.7452\n",
      "Epoch 21/30\n",
      "5634/5634 [==============================] - 0s 34us/step - loss: 0.5819 - acc: 0.7320 - val_loss: 0.5696 - val_acc: 0.7452\n",
      "Epoch 22/30\n",
      "5634/5634 [==============================] - 0s 35us/step - loss: 0.5818 - acc: 0.7320 - val_loss: 0.5693 - val_acc: 0.7452\n",
      "Epoch 23/30\n",
      "5634/5634 [==============================] - 0s 32us/step - loss: 0.5817 - acc: 0.7320 - val_loss: 0.5691 - val_acc: 0.7452\n",
      "Epoch 24/30\n",
      "5634/5634 [==============================] - 0s 29us/step - loss: 0.5816 - acc: 0.7320 - val_loss: 0.5689 - val_acc: 0.7452\n",
      "Epoch 25/30\n",
      "5634/5634 [==============================] - 0s 33us/step - loss: 0.5815 - acc: 0.7320 - val_loss: 0.5688 - val_acc: 0.7452\n",
      "Epoch 26/30\n",
      "5634/5634 [==============================] - 0s 31us/step - loss: 0.5814 - acc: 0.7320 - val_loss: 0.5687 - val_acc: 0.7452\n",
      "Epoch 27/30\n",
      "5634/5634 [==============================] - 0s 32us/step - loss: 0.5814 - acc: 0.7320 - val_loss: 0.5685 - val_acc: 0.7452\n",
      "Epoch 28/30\n",
      "5634/5634 [==============================] - 0s 32us/step - loss: 0.5813 - acc: 0.7320 - val_loss: 0.5685 - val_acc: 0.7452\n",
      "Epoch 29/30\n",
      "5634/5634 [==============================] - 0s 31us/step - loss: 0.5813 - acc: 0.7320 - val_loss: 0.5684 - val_acc: 0.7452\n",
      "Epoch 30/30\n",
      "5634/5634 [==============================] - 0s 32us/step - loss: 0.5813 - acc: 0.7320 - val_loss: 0.5683 - val_acc: 0.7452\n"
     ]
    },
    {
     "data": {
      "image/png": "[encoded data removed]",
      "text/plain": [
       "<Figure size 1152x360 with 2 Axes>"
      ]
     },
     "metadata": {},
     "output_type": "display_data"
    },
    {
     "name": "stdout",
     "output_type": "stream",
     "text": [
      "auc: 0.7622801432550735\n"
     ]
    },
    {
     "data": {
      "image/png": "[encoded data removed]",
      "text/plain": [
       "<Figure size 432x432 with 1 Axes>"
      ]
     },
     "metadata": {},
     "output_type": "display_data"
    },
    {
     "name": "stdout",
     "output_type": "stream",
     "text": [
      "count    1409.000000\n",
      "mean        0.272868\n",
      "std         0.000082\n",
      "min         0.272639\n",
      "25%         0.272814\n",
      "50%         0.272881\n",
      "75%         0.272936\n",
      "max         0.273050\n",
      "dtype: float64\n",
      "0.27286768 8.150727e-05\n"
     ]
    },
    {
     "data": {
      "image/png": "[encoded data removed]",
      "text/plain": [
       "<Figure size 432x288 with 1 Axes>"
      ]
     },
     "metadata": {},
     "output_type": "display_data"
    },
    {
     "data": {
      "image/png": "[encoded data removed]",
      "text/plain": [
       "<Figure size 432x288 with 1 Axes>"
      ]
     },
     "metadata": {},
     "output_type": "display_data"
    },
    {
     "data": {
      "image/png": "[encoded data removed]",
      "text/plain": [
       "<Figure size 432x288 with 1 Axes>"
      ]
     },
     "metadata": {},
     "output_type": "display_data"
    },
    {
     "name": "stdout",
     "output_type": "stream",
     "text": [
      "thres: 0.2729, f_beta score: 0.5106\n",
      "accuracy@0.2729: 0.75\n",
      "\n",
      "threshold@0.5, accuracy: 0.7452\n",
      "[[1050    0]\n",
      " [ 359    0]] \n",
      "\n",
      "threshold@0.2729, accuracy: 0.7459\n",
      "[[853 197]\n",
      " [161 198]]\n"
     ]
    },
    {
     "name": "stderr",
     "output_type": "stream",
     "text": [
      "d:\\python\\anaconda3-5.2.0\\envs\\py3_6\\lib\\site-packages\\sklearn\\metrics\\classification.py:1135: UndefinedMetricWarning: Precision and F-score are ill-defined and being set to 0.0 in labels with no predicted samples.\n",
      "  'precision', 'predicted', average, warn_for)\n"
     ]
    }
   ],
   "source": [
    "K.clear_session()\n",
    "\n",
    "model = get_model(input_dim=tr_x.shape[1])\n",
    "hist = model.fit(tr_x, tr_y, validation_data=(vl_x, vl_y), batch_size=100, epochs=30)\n",
    "plot_result(hist)\n",
    "draw_roc_curve(vl_y, model.predict(vl_x))\n",
    "\n",
    "y_pred = model.predict(vl_x)\n",
    "pred_dist(y_pred)\n",
    "analyze(vl_y, y_pred)"
   ]
  },
  {
   "cell_type": "markdown",
   "metadata": {},
   "source": [
    "## Statistical Encoding, Target Encoding\n",
    "\n",
    "* Frequency encoding\n",
    "* Mean encoding"
   ]
  },
  {
   "cell_type": "code",
   "execution_count": 53,
   "metadata": {},
   "outputs": [],
   "source": [
    "def do_target_encoding(catg_ftrs, catg_part, status, data, is_train):\n",
    "    for catg_col in catg_ftrs:\n",
    "        if is_train:\n",
    "            freq_proportion = data[catg_col].value_counts() / len(data)\n",
    "            catg_part[f'freq_{catg_col}'] = freq_proportion.reindex(data[catg_col]).values\n",
    "            target_mean = data.groupby(catg_col).Churn.mean()\n",
    "            catg_part[f'mean_{catg_col}'] = target_mean.reindex(data[catg_col]).values\n",
    "\n",
    "            status['freq_mapper'][catg_col] = freq_proportion.to_dict()\n",
    "            status['mean_mapper'][catg_col] = target_mean.to_dict()\n",
    "        else:\n",
    "            catg_part[f'freq_{catg_col}'] = pd.Series(status['freq_mapper'][catg_col]).reindex(data[catg_col]).values\n",
    "            catg_part[f'mean_{catg_col}'] = pd.Series(status['mean_mapper'][catg_col]).reindex(data[catg_col]).values\n",
    "    pass"
   ]
  },
  {
   "cell_type": "code",
   "execution_count": 54,
   "metadata": {
    "scrolled": true
   },
   "outputs": [
    {
     "name": "stdout",
     "output_type": "stream",
     "text": [
      "(5634, 109) (1409, 109)\n"
     ]
    },
    {
     "data": {
      "text/html": [
       "<div>\n",
       "<style scoped>\n",
       "    .dataframe tbody tr th:only-of-type {\n",
       "        vertical-align: middle;\n",
       "    }\n",
       "\n",
       "    .dataframe tbody tr th {\n",
       "        vertical-align: top;\n",
       "    }\n",
       "\n",
       "    .dataframe thead th {\n",
       "        text-align: right;\n",
       "    }\n",
       "</style>\n",
       "<table border=\"1\" class=\"dataframe\">\n",
       "  <thead>\n",
       "    <tr style=\"text-align: right;\">\n",
       "      <th></th>\n",
       "      <th>gender_Female</th>\n",
       "      <th>SeniorCitizen_0</th>\n",
       "      <th>Partner_No</th>\n",
       "      <th>Dependents_No</th>\n",
       "      <th>OnlineSecurity_No</th>\n",
       "      <th>OnlineSecurity_No internet service</th>\n",
       "      <th>OnlineSecurity_Yes</th>\n",
       "      <th>OnlineBackup_No</th>\n",
       "      <th>OnlineBackup_No internet service</th>\n",
       "      <th>OnlineBackup_Yes</th>\n",
       "      <th>...</th>\n",
       "      <th>mean_PaymentMethod</th>\n",
       "      <th>freq_binn_tenure</th>\n",
       "      <th>mean_binn_tenure</th>\n",
       "      <th>freq_binn_MonthlyCharges</th>\n",
       "      <th>mean_binn_MonthlyCharges</th>\n",
       "      <th>freq_binn_TotalCharges</th>\n",
       "      <th>mean_binn_TotalCharges</th>\n",
       "      <th>tenure</th>\n",
       "      <th>MonthlyCharges</th>\n",
       "      <th>TotalCharges</th>\n",
       "    </tr>\n",
       "  </thead>\n",
       "  <tbody>\n",
       "    <tr>\n",
       "      <th>0</th>\n",
       "      <td>0</td>\n",
       "      <td>0</td>\n",
       "      <td>1</td>\n",
       "      <td>0</td>\n",
       "      <td>1</td>\n",
       "      <td>0</td>\n",
       "      <td>0</td>\n",
       "      <td>0</td>\n",
       "      <td>0</td>\n",
       "      <td>1</td>\n",
       "      <td>...</td>\n",
       "      <td>0.462806</td>\n",
       "      <td>0.247071</td>\n",
       "      <td>0.516523</td>\n",
       "      <td>0.249911</td>\n",
       "      <td>0.114347</td>\n",
       "      <td>0.250089</td>\n",
       "      <td>0.440028</td>\n",
       "      <td>-1.273098</td>\n",
       "      <td>-1.155973</td>\n",
       "      <td>-0.990447</td>\n",
       "    </tr>\n",
       "    <tr>\n",
       "      <th>1</th>\n",
       "      <td>1</td>\n",
       "      <td>0</td>\n",
       "      <td>0</td>\n",
       "      <td>0</td>\n",
       "      <td>0</td>\n",
       "      <td>0</td>\n",
       "      <td>1</td>\n",
       "      <td>1</td>\n",
       "      <td>0</td>\n",
       "      <td>0</td>\n",
       "      <td>...</td>\n",
       "      <td>0.193572</td>\n",
       "      <td>0.245651</td>\n",
       "      <td>0.193642</td>\n",
       "      <td>0.249734</td>\n",
       "      <td>0.238806</td>\n",
       "      <td>0.250799</td>\n",
       "      <td>0.227884</td>\n",
       "      <td>0.072520</td>\n",
       "      <td>-0.253553</td>\n",
       "      <td>-0.166213</td>\n",
       "    </tr>\n",
       "    <tr>\n",
       "      <th>2</th>\n",
       "      <td>1</td>\n",
       "      <td>0</td>\n",
       "      <td>0</td>\n",
       "      <td>0</td>\n",
       "      <td>0</td>\n",
       "      <td>0</td>\n",
       "      <td>1</td>\n",
       "      <td>0</td>\n",
       "      <td>0</td>\n",
       "      <td>1</td>\n",
       "      <td>...</td>\n",
       "      <td>0.193572</td>\n",
       "      <td>0.247071</td>\n",
       "      <td>0.516523</td>\n",
       "      <td>0.249734</td>\n",
       "      <td>0.238806</td>\n",
       "      <td>0.250089</td>\n",
       "      <td>0.440028</td>\n",
       "      <td>-1.232322</td>\n",
       "      <td>-0.356781</td>\n",
       "      <td>-0.955743</td>\n",
       "    </tr>\n",
       "    <tr>\n",
       "      <th>3</th>\n",
       "      <td>1</td>\n",
       "      <td>0</td>\n",
       "      <td>0</td>\n",
       "      <td>0</td>\n",
       "      <td>0</td>\n",
       "      <td>0</td>\n",
       "      <td>1</td>\n",
       "      <td>1</td>\n",
       "      <td>0</td>\n",
       "      <td>0</td>\n",
       "      <td>...</td>\n",
       "      <td>0.166132</td>\n",
       "      <td>0.245651</td>\n",
       "      <td>0.193642</td>\n",
       "      <td>0.249734</td>\n",
       "      <td>0.238806</td>\n",
       "      <td>0.250799</td>\n",
       "      <td>0.227884</td>\n",
       "      <td>0.521060</td>\n",
       "      <td>-0.741392</td>\n",
       "      <td>-0.187820</td>\n",
       "    </tr>\n",
       "    <tr>\n",
       "      <th>4</th>\n",
       "      <td>0</td>\n",
       "      <td>0</td>\n",
       "      <td>0</td>\n",
       "      <td>0</td>\n",
       "      <td>1</td>\n",
       "      <td>0</td>\n",
       "      <td>0</td>\n",
       "      <td>1</td>\n",
       "      <td>0</td>\n",
       "      <td>0</td>\n",
       "      <td>...</td>\n",
       "      <td>0.462806</td>\n",
       "      <td>0.247071</td>\n",
       "      <td>0.516523</td>\n",
       "      <td>0.250089</td>\n",
       "      <td>0.383960</td>\n",
       "      <td>0.250089</td>\n",
       "      <td>0.440028</td>\n",
       "      <td>-1.232322</td>\n",
       "      <td>0.204318</td>\n",
       "      <td>-0.936463</td>\n",
       "    </tr>\n",
       "  </tbody>\n",
       "</table>\n",
       "<p>5 rows × 109 columns</p>\n",
       "</div>"
      ],
      "text/plain": [
       "   gender_Female  SeniorCitizen_0  Partner_No  Dependents_No  \\\n",
       "0              0                0           1              0   \n",
       "1              1                0           0              0   \n",
       "2              1                0           0              0   \n",
       "3              1                0           0              0   \n",
       "4              0                0           0              0   \n",
       "\n",
       "   OnlineSecurity_No  OnlineSecurity_No internet service  OnlineSecurity_Yes  \\\n",
       "0                  1                                   0                   0   \n",
       "1                  0                                   0                   1   \n",
       "2                  0                                   0                   1   \n",
       "3                  0                                   0                   1   \n",
       "4                  1                                   0                   0   \n",
       "\n",
       "   OnlineBackup_No  OnlineBackup_No internet service  OnlineBackup_Yes  \\\n",
       "0                0                                 0                 1   \n",
       "1                1                                 0                 0   \n",
       "2                0                                 0                 1   \n",
       "3                1                                 0                 0   \n",
       "4                1                                 0                 0   \n",
       "\n",
       "       ...       mean_PaymentMethod  freq_binn_tenure  mean_binn_tenure  \\\n",
       "0      ...                 0.462806          0.247071          0.516523   \n",
       "1      ...                 0.193572          0.245651          0.193642   \n",
       "2      ...                 0.193572          0.247071          0.516523   \n",
       "3      ...                 0.166132          0.245651          0.193642   \n",
       "4      ...                 0.462806          0.247071          0.516523   \n",
       "\n",
       "   freq_binn_MonthlyCharges  mean_binn_MonthlyCharges  freq_binn_TotalCharges  \\\n",
       "0                  0.249911                  0.114347                0.250089   \n",
       "1                  0.249734                  0.238806                0.250799   \n",
       "2                  0.249734                  0.238806                0.250089   \n",
       "3                  0.249734                  0.238806                0.250799   \n",
       "4                  0.250089                  0.383960                0.250089   \n",
       "\n",
       "   mean_binn_TotalCharges    tenure  MonthlyCharges  TotalCharges  \n",
       "0                0.440028 -1.273098       -1.155973     -0.990447  \n",
       "1                0.227884  0.072520       -0.253553     -0.166213  \n",
       "2                0.440028 -1.232322       -0.356781     -0.955743  \n",
       "3                0.227884  0.521060       -0.741392     -0.187820  \n",
       "4                0.440028 -1.232322        0.204318     -0.936463  \n",
       "\n",
       "[5 rows x 109 columns]"
      ]
     },
     "execution_count": 54,
     "metadata": {},
     "output_type": "execute_result"
    }
   ],
   "source": [
    "# Trnasform raw data to foramt model recognized\n",
    "tr_x, tr_y, status = feature_engineering(raw, is_train=True)\n",
    "vl_x, vl_y, _ = feature_engineering(raw_vl, is_train=False, status=status)\n",
    "\n",
    "print( tr_x.shape, vl_x.shape )\n",
    "tr_x.head()"
   ]
  },
  {
   "cell_type": "markdown",
   "metadata": {},
   "source": [
    "## Model (WOE + Binning + Freqency Encoding + Target Mean Encoding)"
   ]
  },
  {
   "cell_type": "code",
   "execution_count": 56,
   "metadata": {
    "scrolled": true
   },
   "outputs": [
    {
     "name": "stdout",
     "output_type": "stream",
     "text": [
      "_________________________________________________________________\n",
      "Layer (type)                 Output Shape              Param #   \n",
      "=================================================================\n",
      "dense_1 (Dense)              (None, 64)                7040      \n",
      "_________________________________________________________________\n",
      "dense_2 (Dense)              (None, 32)                2080      \n",
      "_________________________________________________________________\n",
      "dense_3 (Dense)              (None, 16)                528       \n",
      "_________________________________________________________________\n",
      "dense_4 (Dense)              (None, 1)                 17        \n",
      "=================================================================\n",
      "Total params: 9,665\n",
      "Trainable params: 9,665\n",
      "Non-trainable params: 0\n",
      "_________________________________________________________________\n",
      "Train on 5634 samples, validate on 1409 samples\n",
      "Epoch 1/30\n",
      "5634/5634 [==============================] - 0s 83us/step - loss: 0.6795 - acc: 0.7261 - val_loss: 0.6647 - val_acc: 0.7452\n",
      "Epoch 2/30\n",
      "5634/5634 [==============================] - 0s 35us/step - loss: 0.6561 - acc: 0.7320 - val_loss: 0.6431 - val_acc: 0.7452\n",
      "Epoch 3/30\n",
      "5634/5634 [==============================] - 0s 33us/step - loss: 0.6384 - acc: 0.7320 - val_loss: 0.6269 - val_acc: 0.7452\n",
      "Epoch 4/30\n",
      "5634/5634 [==============================] - 0s 37us/step - loss: 0.6253 - acc: 0.7320 - val_loss: 0.6142 - val_acc: 0.7452\n",
      "Epoch 5/30\n",
      "5634/5634 [==============================] - 0s 36us/step - loss: 0.6151 - acc: 0.7320 - val_loss: 0.6043 - val_acc: 0.7452\n",
      "Epoch 6/30\n",
      "5634/5634 [==============================] - 0s 32us/step - loss: 0.6073 - acc: 0.7320 - val_loss: 0.5967 - val_acc: 0.7452\n",
      "Epoch 7/30\n",
      "5634/5634 [==============================] - 0s 36us/step - loss: 0.6013 - acc: 0.7320 - val_loss: 0.5909 - val_acc: 0.7452\n",
      "Epoch 8/30\n",
      "5634/5634 [==============================] - 0s 32us/step - loss: 0.5968 - acc: 0.7320 - val_loss: 0.5863 - val_acc: 0.7452\n",
      "Epoch 9/30\n",
      "5634/5634 [==============================] - 0s 36us/step - loss: 0.5933 - acc: 0.7320 - val_loss: 0.5828 - val_acc: 0.7452\n",
      "Epoch 10/30\n",
      "5634/5634 [==============================] - 0s 32us/step - loss: 0.5906 - acc: 0.7320 - val_loss: 0.5800 - val_acc: 0.7452\n",
      "Epoch 11/30\n",
      "5634/5634 [==============================] - 0s 30us/step - loss: 0.5886 - acc: 0.7320 - val_loss: 0.5778 - val_acc: 0.7452\n",
      "Epoch 12/30\n",
      "5634/5634 [==============================] - 0s 33us/step - loss: 0.5870 - acc: 0.7320 - val_loss: 0.5759 - val_acc: 0.7452\n",
      "Epoch 13/30\n",
      "5634/5634 [==============================] - 0s 33us/step - loss: 0.5857 - acc: 0.7320 - val_loss: 0.5745 - val_acc: 0.7452\n",
      "Epoch 14/30\n",
      "5634/5634 [==============================] - 0s 33us/step - loss: 0.5847 - acc: 0.7320 - val_loss: 0.5734 - val_acc: 0.7452\n",
      "Epoch 15/30\n",
      "5634/5634 [==============================] - 0s 36us/step - loss: 0.5840 - acc: 0.7320 - val_loss: 0.5724 - val_acc: 0.7452\n",
      "Epoch 16/30\n",
      "5634/5634 [==============================] - 0s 31us/step - loss: 0.5834 - acc: 0.7320 - val_loss: 0.5717 - val_acc: 0.7452\n",
      "Epoch 17/30\n",
      "5634/5634 [==============================] - 0s 30us/step - loss: 0.5829 - acc: 0.7320 - val_loss: 0.5711 - val_acc: 0.7452\n",
      "Epoch 18/30\n",
      "5634/5634 [==============================] - 0s 32us/step - loss: 0.5826 - acc: 0.7320 - val_loss: 0.5706 - val_acc: 0.7452\n",
      "Epoch 19/30\n",
      "5634/5634 [==============================] - 0s 31us/step - loss: 0.5823 - acc: 0.7320 - val_loss: 0.5702 - val_acc: 0.7452\n",
      "Epoch 20/30\n",
      "5634/5634 [==============================] - 0s 32us/step - loss: 0.5821 - acc: 0.7320 - val_loss: 0.5698 - val_acc: 0.7452\n",
      "Epoch 21/30\n",
      "5634/5634 [==============================] - 0s 32us/step - loss: 0.5819 - acc: 0.7320 - val_loss: 0.5695 - val_acc: 0.7452\n",
      "Epoch 22/30\n",
      "5634/5634 [==============================] - 0s 33us/step - loss: 0.5817 - acc: 0.7320 - val_loss: 0.5693 - val_acc: 0.7452\n",
      "Epoch 23/30\n",
      "5634/5634 [==============================] - 0s 31us/step - loss: 0.5816 - acc: 0.7320 - val_loss: 0.5691 - val_acc: 0.7452\n",
      "Epoch 24/30\n",
      "5634/5634 [==============================] - 0s 31us/step - loss: 0.5815 - acc: 0.7320 - val_loss: 0.5689 - val_acc: 0.7452\n",
      "Epoch 25/30\n",
      "5634/5634 [==============================] - 0s 34us/step - loss: 0.5814 - acc: 0.7320 - val_loss: 0.5688 - val_acc: 0.7452\n",
      "Epoch 26/30\n",
      "5634/5634 [==============================] - 0s 34us/step - loss: 0.5814 - acc: 0.7320 - val_loss: 0.5686 - val_acc: 0.7452\n",
      "Epoch 27/30\n",
      "5634/5634 [==============================] - 0s 32us/step - loss: 0.5813 - acc: 0.7320 - val_loss: 0.5685 - val_acc: 0.7452\n",
      "Epoch 28/30\n",
      "5634/5634 [==============================] - 0s 33us/step - loss: 0.5813 - acc: 0.7320 - val_loss: 0.5684 - val_acc: 0.7452\n",
      "Epoch 29/30\n",
      "5634/5634 [==============================] - 0s 33us/step - loss: 0.5813 - acc: 0.7320 - val_loss: 0.5684 - val_acc: 0.7452\n",
      "Epoch 30/30\n",
      "5634/5634 [==============================] - 0s 29us/step - loss: 0.5812 - acc: 0.7320 - val_loss: 0.5683 - val_acc: 0.7452\n"
     ]
    },
    {
     "data": {
      "image/png": "[encoded data removed]",
      "text/plain": [
       "<Figure size 1152x360 with 2 Axes>"
      ]
     },
     "metadata": {},
     "output_type": "display_data"
    },
    {
     "name": "stdout",
     "output_type": "stream",
     "text": [
      "auc: 0.7336012733784321\n"
     ]
    },
    {
     "data": {
      "image/png": "[encoded data removed]",
      "text/plain": [
       "<Figure size 432x432 with 1 Axes>"
      ]
     },
     "metadata": {},
     "output_type": "display_data"
    },
    {
     "name": "stdout",
     "output_type": "stream",
     "text": [
      "count    1409.000000\n",
      "mean        0.273210\n",
      "std         0.000156\n",
      "min         0.272828\n",
      "25%         0.273098\n",
      "50%         0.273250\n",
      "75%         0.273343\n",
      "max         0.273462\n",
      "dtype: float64\n",
      "0.27321044 0.00015626052\n"
     ]
    },
    {
     "data": {
      "image/png": "[encoded data removed]",
      "text/plain": [
       "<Figure size 432x288 with 1 Axes>"
      ]
     },
     "metadata": {},
     "output_type": "display_data"
    },
    {
     "data": {
      "image/png": "[encoded data removed]",
      "text/plain": [
       "<Figure size 432x288 with 1 Axes>"
      ]
     },
     "metadata": {},
     "output_type": "display_data"
    },
    {
     "data": {
      "image/png": "[encoded data removed]",
      "text/plain": [
       "<Figure size 432x288 with 1 Axes>"
      ]
     },
     "metadata": {},
     "output_type": "display_data"
    },
    {
     "name": "stdout",
     "output_type": "stream",
     "text": [
      "thres: 0.2733, f_beta score: 0.4649\n",
      "accuracy@0.2733: 0.72\n",
      "\n",
      "threshold@0.5, accuracy: 0.7452\n",
      "[[1050    0]\n",
      " [ 359    0]] \n",
      "\n",
      "threshold@0.2733, accuracy: 0.7189\n",
      "[[829 221]\n",
      " [175 184]]\n"
     ]
    },
    {
     "name": "stderr",
     "output_type": "stream",
     "text": [
      "d:\\python\\anaconda3-5.2.0\\envs\\py3_6\\lib\\site-packages\\sklearn\\metrics\\classification.py:1135: UndefinedMetricWarning: Precision and F-score are ill-defined and being set to 0.0 in labels with no predicted samples.\n",
      "  'precision', 'predicted', average, warn_for)\n"
     ]
    }
   ],
   "source": [
    "K.clear_session()\n",
    "\n",
    "model = get_model(input_dim=tr_x.shape[1])\n",
    "hist = model.fit(tr_x, tr_y, validation_data=(vl_x, vl_y), batch_size=100, epochs=30)\n",
    "plot_result(hist)\n",
    "draw_roc_curve(vl_y, model.predict(vl_x))\n",
    "\n",
    "y_pred = model.predict(vl_x)\n",
    "pred_dist(y_pred)\n",
    "analyze(vl_y, y_pred)"
   ]
  },
  {
   "cell_type": "markdown",
   "metadata": {
    "colab_type": "text",
    "id": "r5crE3xFBn91"
   },
   "source": [
    "## Add Polynomial Featue Engineering\n",
    "\n",
    "* Add quradratic, cube term base on numeric features"
   ]
  },
  {
   "cell_type": "code",
   "execution_count": 57,
   "metadata": {
    "colab": {
     "base_uri": "https://localhost:8080/",
     "height": 262
    },
    "colab_type": "code",
    "executionInfo": {
     "elapsed": 623,
     "status": "ok",
     "timestamp": 1538626022744,
     "user": {
      "displayName": "Gary Chen",
      "photoUrl": "",
      "userId": "10783188122132859162"
     },
     "user_tz": -480
    },
    "id": "0m8uAkjbuBa7",
    "outputId": "c318f7e6-0352-4a2a-b340-41b3b38e568a"
   },
   "outputs": [],
   "source": [
    "def do_nth_order_polynominal(num_features, data):\n",
    "    for num_col in num_features:\n",
    "        data[f'{num_col}_degree_2'] = data[num_col] ** 2\n",
    "        data[f'{num_col}_degree_3'] = data[num_col] ** 3\n",
    "    pass"
   ]
  },
  {
   "cell_type": "code",
   "execution_count": 58,
   "metadata": {},
   "outputs": [
    {
     "name": "stdout",
     "output_type": "stream",
     "text": [
      "(5634, 115) (1409, 115)\n"
     ]
    },
    {
     "data": {
      "text/html": [
       "<div>\n",
       "<style scoped>\n",
       "    .dataframe tbody tr th:only-of-type {\n",
       "        vertical-align: middle;\n",
       "    }\n",
       "\n",
       "    .dataframe tbody tr th {\n",
       "        vertical-align: top;\n",
       "    }\n",
       "\n",
       "    .dataframe thead th {\n",
       "        text-align: right;\n",
       "    }\n",
       "</style>\n",
       "<table border=\"1\" class=\"dataframe\">\n",
       "  <thead>\n",
       "    <tr style=\"text-align: right;\">\n",
       "      <th></th>\n",
       "      <th>gender_Female</th>\n",
       "      <th>SeniorCitizen_0</th>\n",
       "      <th>Partner_No</th>\n",
       "      <th>Dependents_No</th>\n",
       "      <th>OnlineSecurity_No</th>\n",
       "      <th>OnlineSecurity_No internet service</th>\n",
       "      <th>OnlineSecurity_Yes</th>\n",
       "      <th>OnlineBackup_No</th>\n",
       "      <th>OnlineBackup_No internet service</th>\n",
       "      <th>OnlineBackup_Yes</th>\n",
       "      <th>...</th>\n",
       "      <th>mean_binn_TotalCharges</th>\n",
       "      <th>tenure</th>\n",
       "      <th>MonthlyCharges</th>\n",
       "      <th>TotalCharges</th>\n",
       "      <th>tenure_degree_2</th>\n",
       "      <th>tenure_degree_3</th>\n",
       "      <th>MonthlyCharges_degree_2</th>\n",
       "      <th>MonthlyCharges_degree_3</th>\n",
       "      <th>TotalCharges_degree_2</th>\n",
       "      <th>TotalCharges_degree_3</th>\n",
       "    </tr>\n",
       "  </thead>\n",
       "  <tbody>\n",
       "    <tr>\n",
       "      <th>0</th>\n",
       "      <td>0</td>\n",
       "      <td>0</td>\n",
       "      <td>1</td>\n",
       "      <td>0</td>\n",
       "      <td>1</td>\n",
       "      <td>0</td>\n",
       "      <td>0</td>\n",
       "      <td>0</td>\n",
       "      <td>0</td>\n",
       "      <td>1</td>\n",
       "      <td>...</td>\n",
       "      <td>0.440028</td>\n",
       "      <td>-1.273098</td>\n",
       "      <td>-1.155973</td>\n",
       "      <td>-0.990447</td>\n",
       "      <td>1.620779</td>\n",
       "      <td>-2.063410</td>\n",
       "      <td>1.336273</td>\n",
       "      <td>-1.544696</td>\n",
       "      <td>0.980985</td>\n",
       "      <td>-0.971613</td>\n",
       "    </tr>\n",
       "    <tr>\n",
       "      <th>1</th>\n",
       "      <td>1</td>\n",
       "      <td>0</td>\n",
       "      <td>0</td>\n",
       "      <td>0</td>\n",
       "      <td>0</td>\n",
       "      <td>0</td>\n",
       "      <td>1</td>\n",
       "      <td>1</td>\n",
       "      <td>0</td>\n",
       "      <td>0</td>\n",
       "      <td>...</td>\n",
       "      <td>0.227884</td>\n",
       "      <td>0.072520</td>\n",
       "      <td>-0.253553</td>\n",
       "      <td>-0.166213</td>\n",
       "      <td>0.005259</td>\n",
       "      <td>0.000381</td>\n",
       "      <td>0.064289</td>\n",
       "      <td>-0.016301</td>\n",
       "      <td>0.027627</td>\n",
       "      <td>-0.004592</td>\n",
       "    </tr>\n",
       "    <tr>\n",
       "      <th>2</th>\n",
       "      <td>1</td>\n",
       "      <td>0</td>\n",
       "      <td>0</td>\n",
       "      <td>0</td>\n",
       "      <td>0</td>\n",
       "      <td>0</td>\n",
       "      <td>1</td>\n",
       "      <td>0</td>\n",
       "      <td>0</td>\n",
       "      <td>1</td>\n",
       "      <td>...</td>\n",
       "      <td>0.440028</td>\n",
       "      <td>-1.232322</td>\n",
       "      <td>-0.356781</td>\n",
       "      <td>-0.955743</td>\n",
       "      <td>1.518617</td>\n",
       "      <td>-1.871424</td>\n",
       "      <td>0.127293</td>\n",
       "      <td>-0.045416</td>\n",
       "      <td>0.913444</td>\n",
       "      <td>-0.873018</td>\n",
       "    </tr>\n",
       "    <tr>\n",
       "      <th>3</th>\n",
       "      <td>1</td>\n",
       "      <td>0</td>\n",
       "      <td>0</td>\n",
       "      <td>0</td>\n",
       "      <td>0</td>\n",
       "      <td>0</td>\n",
       "      <td>1</td>\n",
       "      <td>1</td>\n",
       "      <td>0</td>\n",
       "      <td>0</td>\n",
       "      <td>...</td>\n",
       "      <td>0.227884</td>\n",
       "      <td>0.521060</td>\n",
       "      <td>-0.741392</td>\n",
       "      <td>-0.187820</td>\n",
       "      <td>0.271503</td>\n",
       "      <td>0.141469</td>\n",
       "      <td>0.549663</td>\n",
       "      <td>-0.407516</td>\n",
       "      <td>0.035276</td>\n",
       "      <td>-0.006626</td>\n",
       "    </tr>\n",
       "    <tr>\n",
       "      <th>4</th>\n",
       "      <td>0</td>\n",
       "      <td>0</td>\n",
       "      <td>0</td>\n",
       "      <td>0</td>\n",
       "      <td>1</td>\n",
       "      <td>0</td>\n",
       "      <td>0</td>\n",
       "      <td>1</td>\n",
       "      <td>0</td>\n",
       "      <td>0</td>\n",
       "      <td>...</td>\n",
       "      <td>0.440028</td>\n",
       "      <td>-1.232322</td>\n",
       "      <td>0.204318</td>\n",
       "      <td>-0.936463</td>\n",
       "      <td>1.518617</td>\n",
       "      <td>-1.871424</td>\n",
       "      <td>0.041746</td>\n",
       "      <td>0.008529</td>\n",
       "      <td>0.876962</td>\n",
       "      <td>-0.821242</td>\n",
       "    </tr>\n",
       "  </tbody>\n",
       "</table>\n",
       "<p>5 rows × 115 columns</p>\n",
       "</div>"
      ],
      "text/plain": [
       "   gender_Female  SeniorCitizen_0  Partner_No  Dependents_No  \\\n",
       "0              0                0           1              0   \n",
       "1              1                0           0              0   \n",
       "2              1                0           0              0   \n",
       "3              1                0           0              0   \n",
       "4              0                0           0              0   \n",
       "\n",
       "   OnlineSecurity_No  OnlineSecurity_No internet service  OnlineSecurity_Yes  \\\n",
       "0                  1                                   0                   0   \n",
       "1                  0                                   0                   1   \n",
       "2                  0                                   0                   1   \n",
       "3                  0                                   0                   1   \n",
       "4                  1                                   0                   0   \n",
       "\n",
       "   OnlineBackup_No  OnlineBackup_No internet service  OnlineBackup_Yes  \\\n",
       "0                0                                 0                 1   \n",
       "1                1                                 0                 0   \n",
       "2                0                                 0                 1   \n",
       "3                1                                 0                 0   \n",
       "4                1                                 0                 0   \n",
       "\n",
       "           ...            mean_binn_TotalCharges    tenure  MonthlyCharges  \\\n",
       "0          ...                          0.440028 -1.273098       -1.155973   \n",
       "1          ...                          0.227884  0.072520       -0.253553   \n",
       "2          ...                          0.440028 -1.232322       -0.356781   \n",
       "3          ...                          0.227884  0.521060       -0.741392   \n",
       "4          ...                          0.440028 -1.232322        0.204318   \n",
       "\n",
       "   TotalCharges  tenure_degree_2  tenure_degree_3  MonthlyCharges_degree_2  \\\n",
       "0     -0.990447         1.620779        -2.063410                 1.336273   \n",
       "1     -0.166213         0.005259         0.000381                 0.064289   \n",
       "2     -0.955743         1.518617        -1.871424                 0.127293   \n",
       "3     -0.187820         0.271503         0.141469                 0.549663   \n",
       "4     -0.936463         1.518617        -1.871424                 0.041746   \n",
       "\n",
       "   MonthlyCharges_degree_3  TotalCharges_degree_2  TotalCharges_degree_3  \n",
       "0                -1.544696               0.980985              -0.971613  \n",
       "1                -0.016301               0.027627              -0.004592  \n",
       "2                -0.045416               0.913444              -0.873018  \n",
       "3                -0.407516               0.035276              -0.006626  \n",
       "4                 0.008529               0.876962              -0.821242  \n",
       "\n",
       "[5 rows x 115 columns]"
      ]
     },
     "execution_count": 58,
     "metadata": {},
     "output_type": "execute_result"
    }
   ],
   "source": [
    "# Trnasform raw data to foramt model recognized\n",
    "tr_x, tr_y, status = feature_engineering(raw, is_train=True)\n",
    "vl_x, vl_y, _ = feature_engineering(raw_vl, is_train=False, status=status)\n",
    "\n",
    "print( tr_x.shape, vl_x.shape )\n",
    "tr_x.head()"
   ]
  },
  {
   "cell_type": "markdown",
   "metadata": {
    "colab_type": "text",
    "id": "Wfc1V2cYFz50"
   },
   "source": [
    "## Model (WOE + Binning + Freqency Encoding + Target Mean Encoding + Polynominal)\n"
   ]
  },
  {
   "cell_type": "code",
   "execution_count": 59,
   "metadata": {
    "colab": {
     "base_uri": "https://localhost:8080/",
     "height": 1609
    },
    "colab_type": "code",
    "executionInfo": {
     "elapsed": 4788,
     "status": "ok",
     "timestamp": 1538626029956,
     "user": {
      "displayName": "Gary Chen",
      "photoUrl": "",
      "userId": "10783188122132859162"
     },
     "user_tz": -480
    },
    "id": "Dl32_fhCFz-_",
    "outputId": "4cc0a562-f5c6-44fd-ce29-1c52974296f2",
    "scrolled": true
   },
   "outputs": [
    {
     "name": "stdout",
     "output_type": "stream",
     "text": [
      "_________________________________________________________________\n",
      "Layer (type)                 Output Shape              Param #   \n",
      "=================================================================\n",
      "dense_1 (Dense)              (None, 64)                7424      \n",
      "_________________________________________________________________\n",
      "dense_2 (Dense)              (None, 32)                2080      \n",
      "_________________________________________________________________\n",
      "dense_3 (Dense)              (None, 16)                528       \n",
      "_________________________________________________________________\n",
      "dense_4 (Dense)              (None, 1)                 17        \n",
      "=================================================================\n",
      "Total params: 10,049\n",
      "Trainable params: 10,049\n",
      "Non-trainable params: 0\n",
      "_________________________________________________________________\n",
      "Train on 5634 samples, validate on 1409 samples\n",
      "Epoch 1/30\n",
      "5634/5634 [==============================] - 0s 83us/step - loss: 0.6794 - acc: 0.7318 - val_loss: 0.6643 - val_acc: 0.7452\n",
      "Epoch 2/30\n",
      "5634/5634 [==============================] - 0s 35us/step - loss: 0.6557 - acc: 0.7320 - val_loss: 0.6428 - val_acc: 0.7452\n",
      "Epoch 3/30\n",
      "5634/5634 [==============================] - 0s 35us/step - loss: 0.6382 - acc: 0.7320 - val_loss: 0.6263 - val_acc: 0.7452\n",
      "Epoch 4/30\n",
      "5634/5634 [==============================] - 0s 36us/step - loss: 0.6248 - acc: 0.7320 - val_loss: 0.6138 - val_acc: 0.7452\n",
      "Epoch 5/30\n",
      "5634/5634 [==============================] - 0s 32us/step - loss: 0.6147 - acc: 0.7320 - val_loss: 0.6040 - val_acc: 0.7452\n",
      "Epoch 6/30\n",
      "5634/5634 [==============================] - 0s 34us/step - loss: 0.6070 - acc: 0.7320 - val_loss: 0.5965 - val_acc: 0.7452\n",
      "Epoch 7/30\n",
      "5634/5634 [==============================] - 0s 30us/step - loss: 0.6011 - acc: 0.7320 - val_loss: 0.5908 - val_acc: 0.7452\n",
      "Epoch 8/30\n",
      "5634/5634 [==============================] - 0s 29us/step - loss: 0.5967 - acc: 0.7320 - val_loss: 0.5863 - val_acc: 0.7452\n",
      "Epoch 9/30\n",
      "5634/5634 [==============================] - 0s 32us/step - loss: 0.5933 - acc: 0.7320 - val_loss: 0.5828 - val_acc: 0.7452\n",
      "Epoch 10/30\n",
      "5634/5634 [==============================] - 0s 32us/step - loss: 0.5907 - acc: 0.7320 - val_loss: 0.5800 - val_acc: 0.7452\n",
      "Epoch 11/30\n",
      "5634/5634 [==============================] - 0s 31us/step - loss: 0.5886 - acc: 0.7320 - val_loss: 0.5778 - val_acc: 0.7452\n",
      "Epoch 12/30\n",
      "5634/5634 [==============================] - 0s 34us/step - loss: 0.5870 - acc: 0.7320 - val_loss: 0.5760 - val_acc: 0.7452\n",
      "Epoch 13/30\n",
      "5634/5634 [==============================] - 0s 33us/step - loss: 0.5858 - acc: 0.7320 - val_loss: 0.5746 - val_acc: 0.7452\n",
      "Epoch 14/30\n",
      "5634/5634 [==============================] - 0s 33us/step - loss: 0.5848 - acc: 0.7320 - val_loss: 0.5734 - val_acc: 0.7452\n",
      "Epoch 15/30\n",
      "5634/5634 [==============================] - 0s 30us/step - loss: 0.5840 - acc: 0.7320 - val_loss: 0.5724 - val_acc: 0.7452\n",
      "Epoch 16/30\n",
      "5634/5634 [==============================] - 0s 32us/step - loss: 0.5834 - acc: 0.7320 - val_loss: 0.5717 - val_acc: 0.7452\n",
      "Epoch 17/30\n",
      "5634/5634 [==============================] - 0s 34us/step - loss: 0.5829 - acc: 0.7320 - val_loss: 0.5711 - val_acc: 0.7452\n",
      "Epoch 18/30\n",
      "5634/5634 [==============================] - 0s 30us/step - loss: 0.5826 - acc: 0.7320 - val_loss: 0.5705 - val_acc: 0.7452\n",
      "Epoch 19/30\n",
      "5634/5634 [==============================] - 0s 28us/step - loss: 0.5822 - acc: 0.7320 - val_loss: 0.5701 - val_acc: 0.7452\n",
      "Epoch 20/30\n",
      "5634/5634 [==============================] - 0s 30us/step - loss: 0.5820 - acc: 0.7320 - val_loss: 0.5698 - val_acc: 0.7452\n",
      "Epoch 21/30\n",
      "5634/5634 [==============================] - 0s 31us/step - loss: 0.5818 - acc: 0.7320 - val_loss: 0.5695 - val_acc: 0.7452\n",
      "Epoch 22/30\n",
      "5634/5634 [==============================] - 0s 29us/step - loss: 0.5817 - acc: 0.7320 - val_loss: 0.5692 - val_acc: 0.7452\n",
      "Epoch 23/30\n",
      "5634/5634 [==============================] - 0s 32us/step - loss: 0.5816 - acc: 0.7320 - val_loss: 0.5690 - val_acc: 0.7452\n",
      "Epoch 24/30\n",
      "5634/5634 [==============================] - 0s 32us/step - loss: 0.5815 - acc: 0.7320 - val_loss: 0.5689 - val_acc: 0.7452\n",
      "Epoch 25/30\n",
      "5634/5634 [==============================] - 0s 32us/step - loss: 0.5814 - acc: 0.7320 - val_loss: 0.5687 - val_acc: 0.7452\n",
      "Epoch 26/30\n",
      "5634/5634 [==============================] - 0s 30us/step - loss: 0.5814 - acc: 0.7320 - val_loss: 0.5686 - val_acc: 0.7452\n",
      "Epoch 27/30\n",
      "5634/5634 [==============================] - 0s 29us/step - loss: 0.5813 - acc: 0.7320 - val_loss: 0.5685 - val_acc: 0.7452\n",
      "Epoch 28/30\n",
      "5634/5634 [==============================] - 0s 31us/step - loss: 0.5813 - acc: 0.7320 - val_loss: 0.5684 - val_acc: 0.7452\n",
      "Epoch 29/30\n",
      "5634/5634 [==============================] - 0s 33us/step - loss: 0.5812 - acc: 0.7320 - val_loss: 0.5683 - val_acc: 0.7452\n",
      "Epoch 30/30\n",
      "5634/5634 [==============================] - 0s 29us/step - loss: 0.5812 - acc: 0.7320 - val_loss: 0.5683 - val_acc: 0.7452\n"
     ]
    },
    {
     "data": {
      "image/png": "[encoded data removed]",
      "text/plain": [
       "<Figure size 1152x360 with 2 Axes>"
      ]
     },
     "metadata": {},
     "output_type": "display_data"
    },
    {
     "name": "stdout",
     "output_type": "stream",
     "text": [
      "auc: 0.7615108104523147\n"
     ]
    },
    {
     "data": {
      "image/png": "[encoded data removed]",
      "text/plain": [
       "<Figure size 432x432 with 1 Axes>"
      ]
     },
     "metadata": {},
     "output_type": "display_data"
    },
    {
     "name": "stdout",
     "output_type": "stream",
     "text": [
      "count    1409.000000\n",
      "mean        0.273319\n",
      "std         0.000223\n",
      "min         0.272309\n",
      "25%         0.273242\n",
      "50%         0.273365\n",
      "75%         0.273478\n",
      "max         0.273638\n",
      "dtype: float64\n",
      "0.27331904 0.000223241\n"
     ]
    },
    {
     "data": {
      "image/png": "[encoded data removed]",
      "text/plain": [
       "<Figure size 432x288 with 1 Axes>"
      ]
     },
     "metadata": {},
     "output_type": "display_data"
    },
    {
     "data": {
      "image/png": "[encoded data removed]",
      "text/plain": [
       "<Figure size 432x288 with 1 Axes>"
      ]
     },
     "metadata": {},
     "output_type": "display_data"
    },
    {
     "data": {
      "image/png": "[encoded data removed]",
      "text/plain": [
       "<Figure size 432x288 with 1 Axes>"
      ]
     },
     "metadata": {},
     "output_type": "display_data"
    },
    {
     "name": "stdout",
     "output_type": "stream",
     "text": [
      "thres: 0.2735, f_beta score: 0.5422\n",
      "accuracy@0.2735: 0.78\n",
      "\n",
      "threshold@0.5, accuracy: 0.7452\n",
      "[[1050    0]\n",
      " [ 359    0]] \n",
      "\n",
      "threshold@0.2735, accuracy: 0.7757\n",
      "[[940 110]\n",
      " [206 153]]\n"
     ]
    },
    {
     "name": "stderr",
     "output_type": "stream",
     "text": [
      "d:\\python\\anaconda3-5.2.0\\envs\\py3_6\\lib\\site-packages\\sklearn\\metrics\\classification.py:1135: UndefinedMetricWarning: Precision and F-score are ill-defined and being set to 0.0 in labels with no predicted samples.\n",
      "  'precision', 'predicted', average, warn_for)\n"
     ]
    }
   ],
   "source": [
    "K.clear_session()\n",
    "\n",
    "model = get_model(input_dim=tr_x.shape[1])\n",
    "hist = model.fit(tr_x, tr_y, validation_data=(vl_x, vl_y), batch_size=100, epochs=30)\n",
    "plot_result(hist)\n",
    "draw_roc_curve(vl_y, model.predict(vl_x))\n",
    "\n",
    "y_pred = model.predict(vl_x)\n",
    "pred_dist(y_pred)\n",
    "analyze(vl_y, y_pred)"
   ]
  },
  {
   "cell_type": "markdown",
   "metadata": {},
   "source": [
    "## PCA"
   ]
  },
  {
   "cell_type": "code",
   "execution_count": 28,
   "metadata": {},
   "outputs": [],
   "source": [
    "from sklearn.decomposition import PCA\n",
    "\n",
    "pca = PCA(n_components=64)\n",
    "tr_x_pca = pca.fit_transform(tr_x)\n",
    "vl_x_pca = pca.transform(vl_x)"
   ]
  },
  {
   "cell_type": "code",
   "execution_count": 29,
   "metadata": {},
   "outputs": [
    {
     "data": {
      "text/plain": [
       "((5634, 64), (1409, 64))"
      ]
     },
     "execution_count": 29,
     "metadata": {},
     "output_type": "execute_result"
    }
   ],
   "source": [
    "tr_x_pca.shape, vl_x_pca.shape"
   ]
  },
  {
   "cell_type": "code",
   "execution_count": 32,
   "metadata": {
    "scrolled": true
   },
   "outputs": [
    {
     "name": "stdout",
     "output_type": "stream",
     "text": [
      "_________________________________________________________________\n",
      "Layer (type)                 Output Shape              Param #   \n",
      "=================================================================\n",
      "dense_1 (Dense)              (None, 64)                4160      \n",
      "_________________________________________________________________\n",
      "dense_2 (Dense)              (None, 32)                2080      \n",
      "_________________________________________________________________\n",
      "dense_3 (Dense)              (None, 16)                528       \n",
      "_________________________________________________________________\n",
      "dense_4 (Dense)              (None, 1)                 17        \n",
      "=================================================================\n",
      "Total params: 6,785\n",
      "Trainable params: 6,785\n",
      "Non-trainable params: 0\n",
      "_________________________________________________________________\n",
      "Train on 5634 samples, validate on 1409 samples\n",
      "Epoch 1/30\n",
      "5634/5634 [==============================] - 0s 88us/step - loss: 0.4600 - acc: 0.7741 - val_loss: 0.4343 - val_acc: 0.7871\n",
      "Epoch 2/30\n",
      "5634/5634 [==============================] - 0s 42us/step - loss: 0.4083 - acc: 0.8113 - val_loss: 0.4303 - val_acc: 0.7921\n",
      "Epoch 3/30\n",
      "5634/5634 [==============================] - 0s 35us/step - loss: 0.4011 - acc: 0.8154 - val_loss: 0.4330 - val_acc: 0.7928\n",
      "Epoch 4/30\n",
      "5634/5634 [==============================] - 0s 39us/step - loss: 0.3990 - acc: 0.8170 - val_loss: 0.4294 - val_acc: 0.7991\n",
      "Epoch 5/30\n",
      "5634/5634 [==============================] - 0s 38us/step - loss: 0.3965 - acc: 0.8168 - val_loss: 0.4321 - val_acc: 0.7935\n",
      "Epoch 6/30\n",
      "5634/5634 [==============================] - 0s 35us/step - loss: 0.3955 - acc: 0.8188 - val_loss: 0.4321 - val_acc: 0.7970\n",
      "Epoch 7/30\n",
      "5634/5634 [==============================] - 0s 33us/step - loss: 0.3940 - acc: 0.8186 - val_loss: 0.4307 - val_acc: 0.7928\n",
      "Epoch 8/30\n",
      "5634/5634 [==============================] - 0s 35us/step - loss: 0.3930 - acc: 0.8198 - val_loss: 0.4318 - val_acc: 0.7963\n",
      "Epoch 9/30\n",
      "5634/5634 [==============================] - 0s 37us/step - loss: 0.3921 - acc: 0.8225 - val_loss: 0.4312 - val_acc: 0.7956\n",
      "Epoch 10/30\n",
      "5634/5634 [==============================] - 0s 39us/step - loss: 0.3913 - acc: 0.8214 - val_loss: 0.4296 - val_acc: 0.7956\n",
      "Epoch 11/30\n",
      "5634/5634 [==============================] - 0s 33us/step - loss: 0.3905 - acc: 0.8209 - val_loss: 0.4305 - val_acc: 0.7942\n",
      "Epoch 12/30\n",
      "5634/5634 [==============================] - 0s 39us/step - loss: 0.3897 - acc: 0.8214 - val_loss: 0.4304 - val_acc: 0.7977\n",
      "Epoch 13/30\n",
      "5634/5634 [==============================] - 0s 35us/step - loss: 0.3889 - acc: 0.8223 - val_loss: 0.4314 - val_acc: 0.7956\n",
      "Epoch 14/30\n",
      "5634/5634 [==============================] - 0s 35us/step - loss: 0.3881 - acc: 0.8222 - val_loss: 0.4320 - val_acc: 0.7949\n",
      "Epoch 15/30\n",
      "5634/5634 [==============================] - 0s 38us/step - loss: 0.3876 - acc: 0.8225 - val_loss: 0.4347 - val_acc: 0.7921\n",
      "Epoch 16/30\n",
      "5634/5634 [==============================] - 0s 35us/step - loss: 0.3870 - acc: 0.8237 - val_loss: 0.4328 - val_acc: 0.7949\n",
      "Epoch 17/30\n",
      "5634/5634 [==============================] - 0s 36us/step - loss: 0.3862 - acc: 0.8246 - val_loss: 0.4314 - val_acc: 0.7956\n",
      "Epoch 18/30\n",
      "5634/5634 [==============================] - 0s 38us/step - loss: 0.3857 - acc: 0.8239 - val_loss: 0.4322 - val_acc: 0.7956\n",
      "Epoch 19/30\n",
      "5634/5634 [==============================] - 0s 33us/step - loss: 0.3850 - acc: 0.8246 - val_loss: 0.4328 - val_acc: 0.7956\n",
      "Epoch 20/30\n",
      "5634/5634 [==============================] - 0s 30us/step - loss: 0.3845 - acc: 0.8262 - val_loss: 0.4339 - val_acc: 0.7984\n",
      "Epoch 21/30\n",
      "5634/5634 [==============================] - 0s 32us/step - loss: 0.3840 - acc: 0.8253 - val_loss: 0.4339 - val_acc: 0.7928\n",
      "Epoch 22/30\n",
      "5634/5634 [==============================] - 0s 33us/step - loss: 0.3834 - acc: 0.8257 - val_loss: 0.4342 - val_acc: 0.7921\n",
      "Epoch 23/30\n",
      "5634/5634 [==============================] - ETA: 0s - loss: 0.3826 - acc: 0.826 - 0s 33us/step - loss: 0.3828 - acc: 0.8266 - val_loss: 0.4345 - val_acc: 0.7942\n",
      "Epoch 24/30\n",
      "5634/5634 [==============================] - 0s 37us/step - loss: 0.3824 - acc: 0.8278 - val_loss: 0.4351 - val_acc: 0.7935\n",
      "Epoch 25/30\n",
      "5634/5634 [==============================] - 0s 37us/step - loss: 0.3820 - acc: 0.8264 - val_loss: 0.4335 - val_acc: 0.7921\n",
      "Epoch 26/30\n",
      "5634/5634 [==============================] - 0s 32us/step - loss: 0.3811 - acc: 0.8268 - val_loss: 0.4378 - val_acc: 0.7949\n",
      "Epoch 27/30\n",
      "5634/5634 [==============================] - 0s 35us/step - loss: 0.3812 - acc: 0.8273 - val_loss: 0.4357 - val_acc: 0.7935\n",
      "Epoch 28/30\n",
      "5634/5634 [==============================] - 0s 34us/step - loss: 0.3804 - acc: 0.8284 - val_loss: 0.4361 - val_acc: 0.7942\n",
      "Epoch 29/30\n",
      "5634/5634 [==============================] - 0s 38us/step - loss: 0.3801 - acc: 0.8271 - val_loss: 0.4346 - val_acc: 0.7928\n",
      "Epoch 30/30\n",
      "5634/5634 [==============================] - 0s 34us/step - loss: 0.3795 - acc: 0.8282 - val_loss: 0.4364 - val_acc: 0.7935\n"
     ]
    },
    {
     "data": {
      "image/png": "[encoded data removed]",
      "text/plain": [
       "<Figure size 1152x360 with 2 Axes>"
      ]
     },
     "metadata": {},
     "output_type": "display_data"
    },
    {
     "name": "stdout",
     "output_type": "stream",
     "text": [
      "auc: 0.8272940708316753\n"
     ]
    },
    {
     "data": {
      "image/png": "[encoded data removed]",
      "text/plain": [
       "<Figure size 432x432 with 1 Axes>"
      ]
     },
     "metadata": {},
     "output_type": "display_data"
    },
    {
     "name": "stdout",
     "output_type": "stream",
     "text": [
      "count    1409.000000\n",
      "mean        0.269307\n",
      "std         0.265477\n",
      "min         0.000998\n",
      "25%         0.035489\n",
      "50%         0.181414\n",
      "75%         0.445390\n",
      "max         0.918706\n",
      "dtype: float64\n",
      "0.26930708 0.26547673\n"
     ]
    },
    {
     "data": {
      "image/png": "[encoded data removed]",
      "text/plain": [
       "<Figure size 432x288 with 1 Axes>"
      ]
     },
     "metadata": {},
     "output_type": "display_data"
    },
    {
     "data": {
      "image/png": "[encoded data removed]",
      "text/plain": [
       "<Figure size 432x288 with 1 Axes>"
      ]
     },
     "metadata": {},
     "output_type": "display_data"
    },
    {
     "data": {
      "image/png": "[encoded data removed]",
      "text/plain": [
       "<Figure size 432x288 with 1 Axes>"
      ]
     },
     "metadata": {},
     "output_type": "display_data"
    },
    {
     "name": "stdout",
     "output_type": "stream",
     "text": [
      "thres: 0.4830, f_beta score: 0.5950\n",
      "accuracy@0.4830: 0.79\n",
      "\n",
      "threshold@0.5, accuracy: 0.7935\n",
      "[[932 118]\n",
      " [173 186]] \n",
      "\n",
      "threshold@0.4830, accuracy: 0.7949\n",
      "[[924 126]\n",
      " [163 196]]\n"
     ]
    },
    {
     "name": "stderr",
     "output_type": "stream",
     "text": [
      "d:\\python\\anaconda3-5.2.0\\envs\\py3_6\\lib\\site-packages\\sklearn\\metrics\\classification.py:1135: UndefinedMetricWarning: Precision and F-score are ill-defined and being set to 0.0 in labels with no predicted samples.\n",
      "  'precision', 'predicted', average, warn_for)\n"
     ]
    }
   ],
   "source": [
    "K.clear_session()\n",
    "\n",
    "model = get_model(input_dim=tr_x_pca.shape[1])\n",
    "hist = model.fit(tr_x_pca, tr_y, validation_data=(vl_x_pca, vl_y), batch_size=100, epochs=30)\n",
    "plot_result(hist)\n",
    "draw_roc_curve(vl_y, model.predict(vl_x_pca))\n",
    "\n",
    "y_pred = model.predict(vl_x_pca)\n",
    "pred_dist(y_pred)\n",
    "analyze(vl_y, y_pred)"
   ]
  },
  {
   "cell_type": "markdown",
   "metadata": {},
   "source": [
    "## Model (AutoEncoder)"
   ]
  },
  {
   "cell_type": "code",
   "execution_count": 33,
   "metadata": {},
   "outputs": [
    {
     "name": "stdout",
     "output_type": "stream",
     "text": [
      "(5634, 115) (1409, 115)\n"
     ]
    },
    {
     "data": {
      "text/html": [
       "<div>\n",
       "<style scoped>\n",
       "    .dataframe tbody tr th:only-of-type {\n",
       "        vertical-align: middle;\n",
       "    }\n",
       "\n",
       "    .dataframe tbody tr th {\n",
       "        vertical-align: top;\n",
       "    }\n",
       "\n",
       "    .dataframe thead th {\n",
       "        text-align: right;\n",
       "    }\n",
       "</style>\n",
       "<table border=\"1\" class=\"dataframe\">\n",
       "  <thead>\n",
       "    <tr style=\"text-align: right;\">\n",
       "      <th></th>\n",
       "      <th>gender_Female</th>\n",
       "      <th>SeniorCitizen_0</th>\n",
       "      <th>Partner_No</th>\n",
       "      <th>Dependents_No</th>\n",
       "      <th>OnlineSecurity_No</th>\n",
       "      <th>OnlineSecurity_No internet service</th>\n",
       "      <th>OnlineSecurity_Yes</th>\n",
       "      <th>OnlineBackup_No</th>\n",
       "      <th>OnlineBackup_No internet service</th>\n",
       "      <th>OnlineBackup_Yes</th>\n",
       "      <th>...</th>\n",
       "      <th>mean_binn_TotalCharges</th>\n",
       "      <th>tenure</th>\n",
       "      <th>MonthlyCharges</th>\n",
       "      <th>TotalCharges</th>\n",
       "      <th>tenure_degree_2</th>\n",
       "      <th>tenure_degree_3</th>\n",
       "      <th>MonthlyCharges_degree_2</th>\n",
       "      <th>MonthlyCharges_degree_3</th>\n",
       "      <th>TotalCharges_degree_2</th>\n",
       "      <th>TotalCharges_degree_3</th>\n",
       "    </tr>\n",
       "  </thead>\n",
       "  <tbody>\n",
       "    <tr>\n",
       "      <th>0</th>\n",
       "      <td>0</td>\n",
       "      <td>0</td>\n",
       "      <td>1</td>\n",
       "      <td>0</td>\n",
       "      <td>1</td>\n",
       "      <td>0</td>\n",
       "      <td>0</td>\n",
       "      <td>0</td>\n",
       "      <td>0</td>\n",
       "      <td>1</td>\n",
       "      <td>...</td>\n",
       "      <td>0.440028</td>\n",
       "      <td>-1.273098</td>\n",
       "      <td>-1.155973</td>\n",
       "      <td>-0.990447</td>\n",
       "      <td>1.620779</td>\n",
       "      <td>-2.063410</td>\n",
       "      <td>1.336273</td>\n",
       "      <td>-1.544696</td>\n",
       "      <td>0.980985</td>\n",
       "      <td>-0.971613</td>\n",
       "    </tr>\n",
       "    <tr>\n",
       "      <th>1</th>\n",
       "      <td>1</td>\n",
       "      <td>0</td>\n",
       "      <td>0</td>\n",
       "      <td>0</td>\n",
       "      <td>0</td>\n",
       "      <td>0</td>\n",
       "      <td>1</td>\n",
       "      <td>1</td>\n",
       "      <td>0</td>\n",
       "      <td>0</td>\n",
       "      <td>...</td>\n",
       "      <td>0.227884</td>\n",
       "      <td>0.072520</td>\n",
       "      <td>-0.253553</td>\n",
       "      <td>-0.166213</td>\n",
       "      <td>0.005259</td>\n",
       "      <td>0.000381</td>\n",
       "      <td>0.064289</td>\n",
       "      <td>-0.016301</td>\n",
       "      <td>0.027627</td>\n",
       "      <td>-0.004592</td>\n",
       "    </tr>\n",
       "    <tr>\n",
       "      <th>2</th>\n",
       "      <td>1</td>\n",
       "      <td>0</td>\n",
       "      <td>0</td>\n",
       "      <td>0</td>\n",
       "      <td>0</td>\n",
       "      <td>0</td>\n",
       "      <td>1</td>\n",
       "      <td>0</td>\n",
       "      <td>0</td>\n",
       "      <td>1</td>\n",
       "      <td>...</td>\n",
       "      <td>0.440028</td>\n",
       "      <td>-1.232322</td>\n",
       "      <td>-0.356781</td>\n",
       "      <td>-0.955743</td>\n",
       "      <td>1.518617</td>\n",
       "      <td>-1.871424</td>\n",
       "      <td>0.127293</td>\n",
       "      <td>-0.045416</td>\n",
       "      <td>0.913444</td>\n",
       "      <td>-0.873018</td>\n",
       "    </tr>\n",
       "    <tr>\n",
       "      <th>3</th>\n",
       "      <td>1</td>\n",
       "      <td>0</td>\n",
       "      <td>0</td>\n",
       "      <td>0</td>\n",
       "      <td>0</td>\n",
       "      <td>0</td>\n",
       "      <td>1</td>\n",
       "      <td>1</td>\n",
       "      <td>0</td>\n",
       "      <td>0</td>\n",
       "      <td>...</td>\n",
       "      <td>0.227884</td>\n",
       "      <td>0.521060</td>\n",
       "      <td>-0.741392</td>\n",
       "      <td>-0.187820</td>\n",
       "      <td>0.271503</td>\n",
       "      <td>0.141469</td>\n",
       "      <td>0.549663</td>\n",
       "      <td>-0.407516</td>\n",
       "      <td>0.035276</td>\n",
       "      <td>-0.006626</td>\n",
       "    </tr>\n",
       "    <tr>\n",
       "      <th>4</th>\n",
       "      <td>0</td>\n",
       "      <td>0</td>\n",
       "      <td>0</td>\n",
       "      <td>0</td>\n",
       "      <td>1</td>\n",
       "      <td>0</td>\n",
       "      <td>0</td>\n",
       "      <td>1</td>\n",
       "      <td>0</td>\n",
       "      <td>0</td>\n",
       "      <td>...</td>\n",
       "      <td>0.440028</td>\n",
       "      <td>-1.232322</td>\n",
       "      <td>0.204318</td>\n",
       "      <td>-0.936463</td>\n",
       "      <td>1.518617</td>\n",
       "      <td>-1.871424</td>\n",
       "      <td>0.041746</td>\n",
       "      <td>0.008529</td>\n",
       "      <td>0.876962</td>\n",
       "      <td>-0.821242</td>\n",
       "    </tr>\n",
       "  </tbody>\n",
       "</table>\n",
       "<p>5 rows × 115 columns</p>\n",
       "</div>"
      ],
      "text/plain": [
       "   gender_Female  SeniorCitizen_0  Partner_No  Dependents_No  \\\n",
       "0              0                0           1              0   \n",
       "1              1                0           0              0   \n",
       "2              1                0           0              0   \n",
       "3              1                0           0              0   \n",
       "4              0                0           0              0   \n",
       "\n",
       "   OnlineSecurity_No  OnlineSecurity_No internet service  OnlineSecurity_Yes  \\\n",
       "0                  1                                   0                   0   \n",
       "1                  0                                   0                   1   \n",
       "2                  0                                   0                   1   \n",
       "3                  0                                   0                   1   \n",
       "4                  1                                   0                   0   \n",
       "\n",
       "   OnlineBackup_No  OnlineBackup_No internet service  OnlineBackup_Yes  \\\n",
       "0                0                                 0                 1   \n",
       "1                1                                 0                 0   \n",
       "2                0                                 0                 1   \n",
       "3                1                                 0                 0   \n",
       "4                1                                 0                 0   \n",
       "\n",
       "           ...            mean_binn_TotalCharges    tenure  MonthlyCharges  \\\n",
       "0          ...                          0.440028 -1.273098       -1.155973   \n",
       "1          ...                          0.227884  0.072520       -0.253553   \n",
       "2          ...                          0.440028 -1.232322       -0.356781   \n",
       "3          ...                          0.227884  0.521060       -0.741392   \n",
       "4          ...                          0.440028 -1.232322        0.204318   \n",
       "\n",
       "   TotalCharges  tenure_degree_2  tenure_degree_3  MonthlyCharges_degree_2  \\\n",
       "0     -0.990447         1.620779        -2.063410                 1.336273   \n",
       "1     -0.166213         0.005259         0.000381                 0.064289   \n",
       "2     -0.955743         1.518617        -1.871424                 0.127293   \n",
       "3     -0.187820         0.271503         0.141469                 0.549663   \n",
       "4     -0.936463         1.518617        -1.871424                 0.041746   \n",
       "\n",
       "   MonthlyCharges_degree_3  TotalCharges_degree_2  TotalCharges_degree_3  \n",
       "0                -1.544696               0.980985              -0.971613  \n",
       "1                -0.016301               0.027627              -0.004592  \n",
       "2                -0.045416               0.913444              -0.873018  \n",
       "3                -0.407516               0.035276              -0.006626  \n",
       "4                 0.008529               0.876962              -0.821242  \n",
       "\n",
       "[5 rows x 115 columns]"
      ]
     },
     "execution_count": 33,
     "metadata": {},
     "output_type": "execute_result"
    }
   ],
   "source": [
    "# Trnasform raw data to foramt model recognized\n",
    "tr_x, tr_y, status = feature_engineering(raw, is_train=True)\n",
    "vl_x, vl_y, _ = feature_engineering(raw_vl, is_train=False, status=status)\n",
    "\n",
    "print( tr_x.shape, vl_x.shape )\n",
    "tr_x.head()"
   ]
  },
  {
   "cell_type": "code",
   "execution_count": 34,
   "metadata": {
    "scrolled": true
   },
   "outputs": [
    {
     "name": "stdout",
     "output_type": "stream",
     "text": [
      "Train on 5634 samples, validate on 1409 samples\n",
      "Epoch 1/100\n",
      "5634/5634 [==============================] - 1s 171us/step - loss: 0.3979 - val_loss: 0.1318\n",
      "Epoch 2/100\n",
      "5634/5634 [==============================] - 0s 30us/step - loss: 0.0977 - val_loss: 0.0764\n",
      "Epoch 3/100\n",
      "5634/5634 [==============================] - 0s 30us/step - loss: 0.0675 - val_loss: 0.0600\n",
      "Epoch 4/100\n",
      "5634/5634 [==============================] - 0s 33us/step - loss: 0.0545 - val_loss: 0.0491\n",
      "Epoch 5/100\n",
      "5634/5634 [==============================] - 0s 36us/step - loss: 0.0448 - val_loss: 0.0408\n",
      "Epoch 6/100\n",
      "5634/5634 [==============================] - 0s 33us/step - loss: 0.0374 - val_loss: 0.0341\n",
      "Epoch 7/100\n",
      "5634/5634 [==============================] - 0s 33us/step - loss: 0.0317 - val_loss: 0.0290\n",
      "Epoch 8/100\n",
      "5634/5634 [==============================] - 0s 34us/step - loss: 0.0272 - val_loss: 0.0252\n",
      "Epoch 9/100\n",
      "5634/5634 [==============================] - 0s 35us/step - loss: 0.0236 - val_loss: 0.0220\n",
      "Epoch 10/100\n",
      "5634/5634 [==============================] - 0s 33us/step - loss: 0.0208 - val_loss: 0.0199\n",
      "Epoch 11/100\n",
      "5634/5634 [==============================] - 0s 35us/step - loss: 0.0184 - val_loss: 0.0178\n",
      "Epoch 12/100\n",
      "5634/5634 [==============================] - 0s 31us/step - loss: 0.0163 - val_loss: 0.0154\n",
      "Epoch 13/100\n",
      "5634/5634 [==============================] - 0s 31us/step - loss: 0.0144 - val_loss: 0.0137\n",
      "Epoch 14/100\n",
      "5634/5634 [==============================] - 0s 35us/step - loss: 0.0129 - val_loss: 0.0124\n",
      "Epoch 15/100\n",
      "5634/5634 [==============================] - 0s 32us/step - loss: 0.0115 - val_loss: 0.0112\n",
      "Epoch 16/100\n",
      "5634/5634 [==============================] - 0s 33us/step - loss: 0.0104 - val_loss: 0.0105\n",
      "Epoch 17/100\n",
      "5634/5634 [==============================] - 0s 30us/step - loss: 0.0096 - val_loss: 0.0093\n",
      "Epoch 18/100\n",
      "5634/5634 [==============================] - 0s 31us/step - loss: 0.0088 - val_loss: 0.0088\n",
      "Epoch 19/100\n",
      "5634/5634 [==============================] - 0s 37us/step - loss: 0.0081 - val_loss: 0.0079\n",
      "Epoch 20/100\n",
      "5634/5634 [==============================] - 0s 33us/step - loss: 0.0076 - val_loss: 0.0079\n",
      "Epoch 21/100\n",
      "5634/5634 [==============================] - 0s 35us/step - loss: 0.0072 - val_loss: 0.0075\n",
      "Epoch 22/100\n",
      "5634/5634 [==============================] - 0s 35us/step - loss: 0.0068 - val_loss: 0.0072\n",
      "Epoch 23/100\n",
      "5634/5634 [==============================] - 0s 31us/step - loss: 0.0064 - val_loss: 0.0064\n",
      "Epoch 24/100\n",
      "5634/5634 [==============================] - 0s 30us/step - loss: 0.0061 - val_loss: 0.0062\n",
      "Epoch 25/100\n",
      "5634/5634 [==============================] - 0s 30us/step - loss: 0.0058 - val_loss: 0.0059\n",
      "Epoch 26/100\n",
      "5634/5634 [==============================] - 0s 32us/step - loss: 0.0055 - val_loss: 0.0058\n",
      "Epoch 27/100\n",
      "5634/5634 [==============================] - 0s 35us/step - loss: 0.0053 - val_loss: 0.0053\n",
      "Epoch 28/100\n",
      "5634/5634 [==============================] - 0s 31us/step - loss: 0.0050 - val_loss: 0.0052\n",
      "Epoch 29/100\n",
      "5634/5634 [==============================] - 0s 36us/step - loss: 0.0048 - val_loss: 0.0051\n",
      "Epoch 30/100\n",
      "5634/5634 [==============================] - 0s 35us/step - loss: 0.0047 - val_loss: 0.0052\n",
      "Epoch 31/100\n",
      "5634/5634 [==============================] - 0s 32us/step - loss: 0.0047 - val_loss: 0.0048\n",
      "Epoch 32/100\n",
      "5634/5634 [==============================] - 0s 34us/step - loss: 0.0044 - val_loss: 0.0048\n",
      "Epoch 33/100\n",
      "5634/5634 [==============================] - 0s 30us/step - loss: 0.0043 - val_loss: 0.0045\n",
      "Epoch 34/100\n",
      "5634/5634 [==============================] - 0s 32us/step - loss: 0.0042 - val_loss: 0.0046\n",
      "Epoch 35/100\n",
      "5634/5634 [==============================] - 0s 32us/step - loss: 0.0041 - val_loss: 0.0041\n",
      "Epoch 36/100\n",
      "5634/5634 [==============================] - 0s 33us/step - loss: 0.0039 - val_loss: 0.0042\n",
      "Epoch 37/100\n",
      "5634/5634 [==============================] - 0s 31us/step - loss: 0.0039 - val_loss: 0.0042\n",
      "Epoch 38/100\n",
      "5634/5634 [==============================] - 0s 33us/step - loss: 0.0039 - val_loss: 0.0043\n",
      "Epoch 39/100\n",
      "5634/5634 [==============================] - 0s 30us/step - loss: 0.0038 - val_loss: 0.0039\n",
      "Epoch 40/100\n",
      "5634/5634 [==============================] - 0s 31us/step - loss: 0.0036 - val_loss: 0.0038\n",
      "Epoch 41/100\n",
      "5634/5634 [==============================] - 0s 31us/step - loss: 0.0035 - val_loss: 0.0038\n",
      "Epoch 42/100\n",
      "5634/5634 [==============================] - 0s 32us/step - loss: 0.0034 - val_loss: 0.0037\n",
      "Epoch 43/100\n",
      "5634/5634 [==============================] - 0s 33us/step - loss: 0.0033 - val_loss: 0.0039\n",
      "Epoch 44/100\n",
      "5634/5634 [==============================] - 0s 31us/step - loss: 0.0033 - val_loss: 0.0035\n",
      "Epoch 45/100\n",
      "5634/5634 [==============================] - 0s 30us/step - loss: 0.0032 - val_loss: 0.0035\n",
      "Epoch 46/100\n",
      "5634/5634 [==============================] - 0s 33us/step - loss: 0.0032 - val_loss: 0.0036\n",
      "Epoch 47/100\n",
      "5634/5634 [==============================] - 0s 32us/step - loss: 0.0030 - val_loss: 0.0032\n",
      "Epoch 48/100\n",
      "5634/5634 [==============================] - 0s 32us/step - loss: 0.0030 - val_loss: 0.0032\n",
      "Epoch 49/100\n",
      "5634/5634 [==============================] - 0s 34us/step - loss: 0.0030 - val_loss: 0.0034\n",
      "Epoch 50/100\n",
      "5634/5634 [==============================] - 0s 30us/step - loss: 0.0029 - val_loss: 0.0030\n",
      "Epoch 51/100\n",
      "5634/5634 [==============================] - 0s 32us/step - loss: 0.0028 - val_loss: 0.0032\n",
      "Epoch 52/100\n",
      "5634/5634 [==============================] - 0s 32us/step - loss: 0.0028 - val_loss: 0.0029\n",
      "Epoch 53/100\n",
      "5634/5634 [==============================] - 0s 33us/step - loss: 0.0027 - val_loss: 0.0029\n",
      "Epoch 54/100\n",
      "5634/5634 [==============================] - 0s 36us/step - loss: 0.0026 - val_loss: 0.0032\n",
      "Epoch 55/100\n",
      "5634/5634 [==============================] - 0s 31us/step - loss: 0.0028 - val_loss: 0.0031\n",
      "Epoch 56/100\n",
      "5634/5634 [==============================] - 0s 31us/step - loss: 0.0028 - val_loss: 0.0030\n",
      "Epoch 57/100\n",
      "5634/5634 [==============================] - 0s 30us/step - loss: 0.0026 - val_loss: 0.0028\n",
      "Epoch 58/100\n",
      "5634/5634 [==============================] - 0s 32us/step - loss: 0.0025 - val_loss: 0.0027\n",
      "Epoch 59/100\n",
      "5634/5634 [==============================] - 0s 32us/step - loss: 0.0024 - val_loss: 0.0028\n",
      "Epoch 60/100\n",
      "5634/5634 [==============================] - 0s 35us/step - loss: 0.0024 - val_loss: 0.0026\n",
      "Epoch 61/100\n",
      "5634/5634 [==============================] - 0s 35us/step - loss: 0.0024 - val_loss: 0.0030\n",
      "Epoch 62/100\n",
      "5634/5634 [==============================] - 0s 32us/step - loss: 0.0024 - val_loss: 0.0026\n",
      "Epoch 63/100\n",
      "5634/5634 [==============================] - 0s 34us/step - loss: 0.0024 - val_loss: 0.0028\n",
      "Epoch 64/100\n",
      "5634/5634 [==============================] - 0s 33us/step - loss: 0.0024 - val_loss: 0.0030\n",
      "Epoch 65/100\n",
      "5634/5634 [==============================] - 0s 35us/step - loss: 0.0023 - val_loss: 0.0025\n",
      "Epoch 66/100\n",
      "5634/5634 [==============================] - 0s 30us/step - loss: 0.0022 - val_loss: 0.0024\n",
      "Epoch 67/100\n",
      "5634/5634 [==============================] - 0s 34us/step - loss: 0.0021 - val_loss: 0.0025\n",
      "Epoch 68/100\n",
      "5634/5634 [==============================] - 0s 32us/step - loss: 0.0022 - val_loss: 0.0024\n",
      "Epoch 69/100\n",
      "5634/5634 [==============================] - 0s 32us/step - loss: 0.0021 - val_loss: 0.0026\n",
      "Epoch 70/100\n",
      "5634/5634 [==============================] - 0s 33us/step - loss: 0.0021 - val_loss: 0.0023\n",
      "Epoch 71/100\n",
      "5634/5634 [==============================] - 0s 33us/step - loss: 0.0021 - val_loss: 0.0024\n",
      "Epoch 72/100\n",
      "5634/5634 [==============================] - 0s 32us/step - loss: 0.0020 - val_loss: 0.0024\n",
      "Epoch 73/100\n",
      "5634/5634 [==============================] - 0s 33us/step - loss: 0.0021 - val_loss: 0.0028\n",
      "Epoch 74/100\n",
      "5634/5634 [==============================] - 0s 33us/step - loss: 0.0021 - val_loss: 0.0023\n",
      "Epoch 75/100\n",
      "5634/5634 [==============================] - 0s 33us/step - loss: 0.0020 - val_loss: 0.0021\n",
      "Epoch 76/100\n",
      "5634/5634 [==============================] - 0s 36us/step - loss: 0.0020 - val_loss: 0.0022\n",
      "Epoch 77/100\n",
      "5634/5634 [==============================] - 0s 34us/step - loss: 0.0021 - val_loss: 0.0028\n",
      "Epoch 78/100\n"
     ]
    },
    {
     "name": "stdout",
     "output_type": "stream",
     "text": [
      "5634/5634 [==============================] - 0s 35us/step - loss: 0.0021 - val_loss: 0.0021\n",
      "Epoch 79/100\n",
      "5634/5634 [==============================] - 0s 33us/step - loss: 0.0019 - val_loss: 0.0023\n",
      "Epoch 80/100\n",
      "5634/5634 [==============================] - 0s 30us/step - loss: 0.0019 - val_loss: 0.0025\n",
      "Epoch 81/100\n",
      "5634/5634 [==============================] - 0s 35us/step - loss: 0.0019 - val_loss: 0.0024\n",
      "Epoch 82/100\n",
      "5634/5634 [==============================] - 0s 33us/step - loss: 0.0019 - val_loss: 0.0019\n",
      "Epoch 83/100\n",
      "5634/5634 [==============================] - 0s 30us/step - loss: 0.0018 - val_loss: 0.0026\n",
      "Epoch 84/100\n",
      "5634/5634 [==============================] - 0s 30us/step - loss: 0.0020 - val_loss: 0.0023\n",
      "Epoch 85/100\n",
      "5634/5634 [==============================] - 0s 36us/step - loss: 0.0018 - val_loss: 0.0022\n",
      "Epoch 86/100\n",
      "5634/5634 [==============================] - 0s 32us/step - loss: 0.0018 - val_loss: 0.0020\n",
      "Epoch 87/100\n",
      "5634/5634 [==============================] - 0s 37us/step - loss: 0.0018 - val_loss: 0.0020\n",
      "Epoch 88/100\n",
      "5634/5634 [==============================] - 0s 35us/step - loss: 0.0017 - val_loss: 0.0021\n",
      "Epoch 89/100\n",
      "5634/5634 [==============================] - 0s 29us/step - loss: 0.0018 - val_loss: 0.0022\n",
      "Epoch 90/100\n",
      "5634/5634 [==============================] - 0s 32us/step - loss: 0.0017 - val_loss: 0.0018\n",
      "Epoch 91/100\n",
      "5634/5634 [==============================] - 0s 35us/step - loss: 0.0017 - val_loss: 0.0020\n",
      "Epoch 92/100\n",
      "5634/5634 [==============================] - 0s 33us/step - loss: 0.0017 - val_loss: 0.0020\n",
      "Epoch 93/100\n",
      "5634/5634 [==============================] - 0s 31us/step - loss: 0.0016 - val_loss: 0.0020\n",
      "Epoch 94/100\n",
      "5634/5634 [==============================] - 0s 30us/step - loss: 0.0017 - val_loss: 0.0020\n",
      "Epoch 95/100\n",
      "5634/5634 [==============================] - 0s 34us/step - loss: 0.0016 - val_loss: 0.0020\n",
      "Epoch 96/100\n",
      "5634/5634 [==============================] - 0s 31us/step - loss: 0.0016 - val_loss: 0.0017\n",
      "Epoch 97/100\n",
      "5634/5634 [==============================] - 0s 33us/step - loss: 0.0015 - val_loss: 0.0021\n",
      "Epoch 98/100\n",
      "5634/5634 [==============================] - 0s 31us/step - loss: 0.0016 - val_loss: 0.0018\n",
      "Epoch 99/100\n",
      "5634/5634 [==============================] - 0s 33us/step - loss: 0.0015 - val_loss: 0.0020\n",
      "Epoch 100/100\n",
      "5634/5634 [==============================] - 0s 32us/step - loss: 0.0015 - val_loss: 0.0016\n"
     ]
    },
    {
     "data": {
      "image/png": "[encoded data removed]",
      "text/plain": [
       "<Figure size 1152x360 with 1 Axes>"
      ]
     },
     "metadata": {},
     "output_type": "display_data"
    }
   ],
   "source": [
    "K.clear_session()\n",
    "\n",
    "inputs_dim = tr_x.shape[1]\n",
    "\n",
    "inputs = Input(shape=(inputs_dim, ))\n",
    "# Encoder\n",
    "encoded = Dense(inputs_dim, activation='selu')(inputs)\n",
    "encoded = Dense(128, activation='selu')(encoded)\n",
    "encoded = Dense(64, activation='selu')(encoded)\n",
    "encoded = Dense(64, activation='selu')(encoded)\n",
    "\n",
    "# Decoder\n",
    "decoded = Dense(64, activation='selu')(encoded)\n",
    "decoded = Dense(64, activation='selu')(decoded)\n",
    "decoded = Dense(128, activation='selu')(decoded)\n",
    "decoded = Dense(inputs_dim, activation='linear')(decoded)\n",
    "\n",
    "# this model maps an input to its reconstruction\n",
    "autoencoder = Model(inputs, decoded)\n",
    "\n",
    "# this model maps an input to its encoded representation\n",
    "encoder = Model(inputs, encoded)\n",
    "\n",
    "# Adam Optimizer + Mean square error loss\n",
    "autoencoder.compile(optimizer='adam', loss='mse')\n",
    "hist = autoencoder.fit(\n",
    "    tr_x, tr_x, \n",
    "    epochs=100, \n",
    "    batch_size=200, \n",
    "    shuffle=True, \n",
    "    validation_data=(vl_x, vl_x))\n",
    "\n",
    "def plot_ae(hist):\n",
    "    plt.figure(figsize=(16, 5))\n",
    "    plt.plot(hist.history['loss'], label='tr_loss')\n",
    "    plt.plot(hist.history['val_loss'], label='vl_loss')\n",
    "    plt.title('Loss')\n",
    "    plt.legend(loc='best')\n",
    "    plt.show()\n",
    "    \n",
    "plot_ae(hist)"
   ]
  },
  {
   "cell_type": "code",
   "execution_count": 35,
   "metadata": {
    "scrolled": true
   },
   "outputs": [],
   "source": [
    "tr_x_ae = encoder.predict(tr_x)\n",
    "vl_x_ae = encoder.predict(vl_x)"
   ]
  },
  {
   "cell_type": "code",
   "execution_count": 36,
   "metadata": {},
   "outputs": [
    {
     "data": {
      "text/plain": [
       "((5634, 64), (1409, 64))"
      ]
     },
     "execution_count": 36,
     "metadata": {},
     "output_type": "execute_result"
    }
   ],
   "source": [
    "tr_x_ae.shape, vl_x_ae.shape"
   ]
  },
  {
   "cell_type": "code",
   "execution_count": 37,
   "metadata": {
    "scrolled": true
   },
   "outputs": [
    {
     "name": "stdout",
     "output_type": "stream",
     "text": [
      "_________________________________________________________________\n",
      "Layer (type)                 Output Shape              Param #   \n",
      "=================================================================\n",
      "dense_1 (Dense)              (None, 64)                4160      \n",
      "_________________________________________________________________\n",
      "dense_2 (Dense)              (None, 32)                2080      \n",
      "_________________________________________________________________\n",
      "dense_3 (Dense)              (None, 16)                528       \n",
      "_________________________________________________________________\n",
      "dense_4 (Dense)              (None, 1)                 17        \n",
      "=================================================================\n",
      "Total params: 6,785\n",
      "Trainable params: 6,785\n",
      "Non-trainable params: 0\n",
      "_________________________________________________________________\n",
      "Train on 5634 samples, validate on 1409 samples\n",
      "Epoch 1/30\n",
      "5634/5634 [==============================] - 0s 88us/step - loss: 0.4811 - acc: 0.7519 - val_loss: 0.4451 - val_acc: 0.7850\n",
      "Epoch 2/30\n",
      "5634/5634 [==============================] - 0s 39us/step - loss: 0.4335 - acc: 0.7973 - val_loss: 0.4383 - val_acc: 0.7842\n",
      "Epoch 3/30\n",
      "5634/5634 [==============================] - 0s 37us/step - loss: 0.4232 - acc: 0.8016 - val_loss: 0.4336 - val_acc: 0.7871\n",
      "Epoch 4/30\n",
      "5634/5634 [==============================] - 0s 35us/step - loss: 0.4185 - acc: 0.8016 - val_loss: 0.4318 - val_acc: 0.7999\n",
      "Epoch 5/30\n",
      "5634/5634 [==============================] - 0s 38us/step - loss: 0.4146 - acc: 0.8016 - val_loss: 0.4310 - val_acc: 0.7935\n",
      "Epoch 6/30\n",
      "5634/5634 [==============================] - 0s 31us/step - loss: 0.4125 - acc: 0.8044 - val_loss: 0.4459 - val_acc: 0.7871\n",
      "Epoch 7/30\n",
      "5634/5634 [==============================] - 0s 33us/step - loss: 0.4123 - acc: 0.8076 - val_loss: 0.4320 - val_acc: 0.7949\n",
      "Epoch 8/30\n",
      "5634/5634 [==============================] - 0s 32us/step - loss: 0.4111 - acc: 0.8035 - val_loss: 0.4351 - val_acc: 0.7850\n",
      "Epoch 9/30\n",
      "5634/5634 [==============================] - 0s 33us/step - loss: 0.4096 - acc: 0.8042 - val_loss: 0.4330 - val_acc: 0.7963\n",
      "Epoch 10/30\n",
      "5634/5634 [==============================] - 0s 36us/step - loss: 0.4086 - acc: 0.8076 - val_loss: 0.4345 - val_acc: 0.7878\n",
      "Epoch 11/30\n",
      "5634/5634 [==============================] - 0s 34us/step - loss: 0.4081 - acc: 0.8072 - val_loss: 0.4318 - val_acc: 0.7921\n",
      "Epoch 12/30\n",
      "5634/5634 [==============================] - 0s 35us/step - loss: 0.4075 - acc: 0.8069 - val_loss: 0.4342 - val_acc: 0.7906\n",
      "Epoch 13/30\n",
      "5634/5634 [==============================] - 0s 33us/step - loss: 0.4077 - acc: 0.8056 - val_loss: 0.4682 - val_acc: 0.7601\n",
      "Epoch 14/30\n",
      "5634/5634 [==============================] - 0s 35us/step - loss: 0.4092 - acc: 0.8044 - val_loss: 0.4310 - val_acc: 0.7899\n",
      "Epoch 15/30\n",
      "5634/5634 [==============================] - 0s 38us/step - loss: 0.4071 - acc: 0.8069 - val_loss: 0.4306 - val_acc: 0.7921\n",
      "Epoch 16/30\n",
      "5634/5634 [==============================] - 0s 33us/step - loss: 0.4067 - acc: 0.8060 - val_loss: 0.4340 - val_acc: 0.7906\n",
      "Epoch 17/30\n",
      "5634/5634 [==============================] - 0s 32us/step - loss: 0.4070 - acc: 0.8085 - val_loss: 0.4308 - val_acc: 0.7913\n",
      "Epoch 18/30\n",
      "5634/5634 [==============================] - 0s 35us/step - loss: 0.4059 - acc: 0.8099 - val_loss: 0.4303 - val_acc: 0.7913\n",
      "Epoch 19/30\n",
      "5634/5634 [==============================] - 0s 36us/step - loss: 0.4057 - acc: 0.8058 - val_loss: 0.4344 - val_acc: 0.7885\n",
      "Epoch 20/30\n",
      "5634/5634 [==============================] - 0s 37us/step - loss: 0.4050 - acc: 0.8111 - val_loss: 0.4301 - val_acc: 0.7899\n",
      "Epoch 21/30\n",
      "5634/5634 [==============================] - 0s 36us/step - loss: 0.4051 - acc: 0.8094 - val_loss: 0.4338 - val_acc: 0.7885\n",
      "Epoch 22/30\n",
      "5634/5634 [==============================] - 0s 35us/step - loss: 0.4052 - acc: 0.8087 - val_loss: 0.4296 - val_acc: 0.7899\n",
      "Epoch 23/30\n",
      "5634/5634 [==============================] - 0s 36us/step - loss: 0.4049 - acc: 0.8092 - val_loss: 0.4325 - val_acc: 0.7906\n",
      "Epoch 24/30\n",
      "5634/5634 [==============================] - 0s 36us/step - loss: 0.4049 - acc: 0.8062 - val_loss: 0.4314 - val_acc: 0.7921\n",
      "Epoch 25/30\n",
      "5634/5634 [==============================] - 0s 37us/step - loss: 0.4042 - acc: 0.8099 - val_loss: 0.4306 - val_acc: 0.7935\n",
      "Epoch 26/30\n",
      "5634/5634 [==============================] - 0s 33us/step - loss: 0.4042 - acc: 0.8099 - val_loss: 0.4315 - val_acc: 0.7906\n",
      "Epoch 27/30\n",
      "5634/5634 [==============================] - 0s 34us/step - loss: 0.4040 - acc: 0.8095 - val_loss: 0.4308 - val_acc: 0.7906\n",
      "Epoch 28/30\n",
      "5634/5634 [==============================] - 0s 39us/step - loss: 0.4038 - acc: 0.8103 - val_loss: 0.4307 - val_acc: 0.7921\n",
      "Epoch 29/30\n",
      "5634/5634 [==============================] - 0s 34us/step - loss: 0.4038 - acc: 0.8095 - val_loss: 0.4302 - val_acc: 0.7899\n",
      "Epoch 30/30\n",
      "5634/5634 [==============================] - 0s 42us/step - loss: 0.4032 - acc: 0.8110 - val_loss: 0.4335 - val_acc: 0.7864\n"
     ]
    },
    {
     "data": {
      "image/png": "[encoded data removed]",
      "text/plain": [
       "<Figure size 1152x360 with 2 Axes>"
      ]
     },
     "metadata": {},
     "output_type": "display_data"
    },
    {
     "name": "stdout",
     "output_type": "stream",
     "text": [
      "auc: 0.8285754078790292\n"
     ]
    },
    {
     "data": {
      "image/png": "[encoded data removed]",
      "text/plain": [
       "<Figure size 432x432 with 1 Axes>"
      ]
     },
     "metadata": {},
     "output_type": "display_data"
    },
    {
     "name": "stdout",
     "output_type": "stream",
     "text": [
      "count    1409.000000\n",
      "mean        0.287458\n",
      "std         0.259177\n",
      "min         0.005743\n",
      "25%         0.045159\n",
      "50%         0.225399\n",
      "75%         0.492873\n",
      "max         0.856229\n",
      "dtype: float64\n",
      "0.28745824 0.2591774\n"
     ]
    },
    {
     "data": {
      "image/png": "[encoded data removed]",
      "text/plain": [
       "<Figure size 432x288 with 1 Axes>"
      ]
     },
     "metadata": {},
     "output_type": "display_data"
    },
    {
     "data": {
      "image/png": "[encoded data removed]",
      "text/plain": [
       "<Figure size 432x288 with 1 Axes>"
      ]
     },
     "metadata": {},
     "output_type": "display_data"
    },
    {
     "data": {
      "image/png": "[encoded data removed]",
      "text/plain": [
       "<Figure size 432x288 with 1 Axes>"
      ]
     },
     "metadata": {},
     "output_type": "display_data"
    },
    {
     "name": "stdout",
     "output_type": "stream",
     "text": [
      "thres: 0.5126, f_beta score: 0.5914\n",
      "accuracy@0.5126: 0.79\n",
      "\n",
      "threshold@0.5, accuracy: 0.7864\n",
      "[[906 144]\n",
      " [157 202]] \n",
      "\n",
      "threshold@0.5126, accuracy: 0.7928\n",
      "[[917 133]\n",
      " [159 200]]\n"
     ]
    },
    {
     "name": "stderr",
     "output_type": "stream",
     "text": [
      "d:\\python\\anaconda3-5.2.0\\envs\\py3_6\\lib\\site-packages\\sklearn\\metrics\\classification.py:1135: UndefinedMetricWarning: Precision and F-score are ill-defined and being set to 0.0 in labels with no predicted samples.\n",
      "  'precision', 'predicted', average, warn_for)\n"
     ]
    }
   ],
   "source": [
    "K.clear_session()\n",
    "\n",
    "model = get_model(input_dim=tr_x_ae.shape[1])\n",
    "hist = model.fit(tr_x_ae, tr_y, validation_data=(vl_x_ae, vl_y), batch_size=100, epochs=30)\n",
    "\n",
    "plot_result(hist)\n",
    "draw_roc_curve(vl_y, model.predict(vl_x_ae))\n",
    "\n",
    "y_pred = model.predict(vl_x_ae)\n",
    "pred_dist(y_pred)\n",
    "analyze(vl_y, y_pred)"
   ]
  },
  {
   "cell_type": "code",
   "execution_count": null,
   "metadata": {},
   "outputs": [],
   "source": []
  },
  {
   "cell_type": "code",
   "execution_count": null,
   "metadata": {},
   "outputs": [],
   "source": []
  }
 ],
 "metadata": {
  "accelerator": "TPU",
  "colab": {
   "collapsed_sections": [],
   "name": "model_finance_customer_churn.ipynb",
   "provenance": [],
   "version": "0.3.2"
  },
  "kernelspec": {
   "display_name": "Python 3",
   "language": "python",
   "name": "python3"
  },
  "language_info": {
   "codemirror_mode": {
    "name": "ipython",
    "version": 3
   },
   "file_extension": ".py",
   "mimetype": "text/x-python",
   "name": "python",
   "nbconvert_exporter": "python",
   "pygments_lexer": "ipython3",
   "version": "3.6.6"
  }
 },
 "nbformat": 4,
 "nbformat_minor": 1
}
