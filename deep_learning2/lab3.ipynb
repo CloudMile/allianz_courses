{
  "nbformat": 4,
  "nbformat_minor": 0,
  "metadata": {
    "colab": {
      "name": "lab3.ipynb",
      "version": "0.3.2",
      "provenance": [],
      "collapsed_sections": [],
      "toc_visible": true
    },
    "kernelspec": {
      "name": "python3",
      "display_name": "Python 3"
    },
    "accelerator": "GPU"
  },
  "cells": [
    {
      "metadata": {
        "id": "vg49Kud5J9K9",
        "colab_type": "text"
      },
      "cell_type": "markdown",
      "source": [
        "# Install required package and Download Data"
      ]
    },
    {
      "metadata": {
        "id": "yVA8Z1yhFwJB",
        "colab_type": "code",
        "colab": {}
      },
      "cell_type": "code",
      "source": [
        "! pip install emoji\n",
        "! wget -q https://storage.googleapis.com/allianz-course/data/glove.6B.50d.txt"
      ],
      "execution_count": 0,
      "outputs": []
    },
    {
      "metadata": {
        "id": "2GjEoWQCKGn_",
        "colab_type": "text"
      },
      "cell_type": "markdown",
      "source": [
        "# Import packages"
      ]
    },
    {
      "metadata": {
        "id": "bHFhz73-CZJE",
        "colab_type": "code",
        "colab": {}
      },
      "cell_type": "code",
      "source": [
        "import emoji\n",
        "import csv\n",
        "import numpy as np\n",
        "import pandas as pd\n",
        "import tensorflow as tf\n",
        "import matplotlib.pyplot as plt\n",
        "\n",
        "from tensorflow import keras\n",
        "import tensorflow.keras.backend as K\n",
        "from sklearn.metrics import accuracy_score\n",
        "from tensorflow.keras.preprocessing import sequence\n",
        "from sklearn.cross_validation import train_test_split\n",
        "from tensorflow.keras.models import Model, load_model\n",
        "from tensorflow.keras.layers import Dense, Input, Dropout, LSTM, Activation, Embedding\n",
        "\n",
        "np.random.seed(0)"
      ],
      "execution_count": 0,
      "outputs": []
    },
    {
      "metadata": {
        "id": "K5BbvsxGvgYv",
        "colab_type": "text"
      },
      "cell_type": "markdown",
      "source": [
        "#**Prepare Input Data**"
      ]
    },
    {
      "metadata": {
        "id": "_71dzVE_Nlpd",
        "colab_type": "text"
      },
      "cell_type": "markdown",
      "source": [
        "## Read emojify data in csv"
      ]
    },
    {
      "metadata": {
        "id": "JzCYeThtuD4_",
        "colab_type": "code",
        "colab": {}
      },
      "cell_type": "code",
      "source": [
        "csv_path  = 'https://storage.googleapis.com/allianz-course/data/emojify_data.csv'\n",
        "csv = pd.read_csv(csv_path)"
      ],
      "execution_count": 0,
      "outputs": []
    },
    {
      "metadata": {
        "id": "77a1rJ6YCtdY",
        "colab_type": "code",
        "colab": {}
      },
      "cell_type": "code",
      "source": [
        "csv.head(5)"
      ],
      "execution_count": 0,
      "outputs": []
    },
    {
      "metadata": {
        "id": "zoOb-cAo8ncL",
        "colab_type": "text"
      },
      "cell_type": "markdown",
      "source": [
        "Baesd on the definition, "
      ]
    },
    {
      "metadata": {
        "id": "WpajT35KRlgc",
        "colab_type": "text"
      },
      "cell_type": "markdown",
      "source": [
        "![alt text](https://storage.googleapis.com/allianz-course/data/emoji.jpg =340x380)"
      ]
    },
    {
      "metadata": {
        "id": "50AMKH1Z-Bnb",
        "colab_type": "code",
        "colab": {}
      },
      "cell_type": "code",
      "source": [
        "emoji_dictionary = {\"0\": \"\\u2764\\uFE0F\",    # :heart: prints a black instead of red heart depending on the font\n",
        "                    \"1\": \":baseball:\",\n",
        "                    \"2\": \":smile:\",\n",
        "                    \"3\": \":disappointed:\",\n",
        "                    \"4\": \":fork_and_knife:\"}"
      ],
      "execution_count": 0,
      "outputs": []
    },
    {
      "metadata": {
        "id": "kyvWLBASLzFX",
        "colab_type": "code",
        "colab": {}
      },
      "cell_type": "code",
      "source": [
        "def label_to_emoji(label):\n",
        "    \"\"\"\n",
        "    Converts a label (int or string) into the corresponding emoji code (string) ready to be printed\n",
        "    \"\"\"\n",
        "    return emoji.emojize(emoji_dictionary[str(label)], use_aliases=True)"
      ],
      "execution_count": 0,
      "outputs": []
    },
    {
      "metadata": {
        "id": "I5wTigPYNbDA",
        "colab_type": "code",
        "colab": {}
      },
      "cell_type": "code",
      "source": [
        "csv['emoji'] = csv['Score'].apply(lambda x: label_to_emoji(x))"
      ],
      "execution_count": 0,
      "outputs": []
    },
    {
      "metadata": {
        "id": "-FuZjLT39oxV",
        "colab_type": "code",
        "colab": {}
      },
      "cell_type": "code",
      "source": [
        "csv.head(10)"
      ],
      "execution_count": 0,
      "outputs": []
    },
    {
      "metadata": {
        "id": "iH46noyHCC9W",
        "colab_type": "code",
        "colab": {}
      },
      "cell_type": "code",
      "source": [
        "all_data = np.asarray(csv['Text'])\n",
        "all_label = np.asarray(csv['Score'], dtype=int)"
      ],
      "execution_count": 0,
      "outputs": []
    },
    {
      "metadata": {
        "id": "L2rmgm9cN4ae",
        "colab_type": "code",
        "colab": {}
      },
      "cell_type": "code",
      "source": [
        "print(f\"The are {len(all_data)} in total \")"
      ],
      "execution_count": 0,
      "outputs": []
    },
    {
      "metadata": {
        "id": "aprmSZFSdHp1",
        "colab_type": "code",
        "colab": {}
      },
      "cell_type": "code",
      "source": [
        "def get_max_length(arr):\n",
        "    maxLen = len(max(arr, key=len).split())\n",
        "    return maxLen"
      ],
      "execution_count": 0,
      "outputs": []
    },
    {
      "metadata": {
        "id": "jqhNfYxqdFFe",
        "colab_type": "code",
        "colab": {}
      },
      "cell_type": "code",
      "source": [
        "MAX_SEQUENCE_LENGTH = get_max_length(all_data)\n",
        "\n",
        "print('There are {} words in longest sentance.'.format(MAX_SEQUENCE_LENGTH))"
      ],
      "execution_count": 0,
      "outputs": []
    },
    {
      "metadata": {
        "id": "ZwWOfoPWNx8K",
        "colab_type": "text"
      },
      "cell_type": "markdown",
      "source": [
        "## Seperate training and testing data"
      ]
    },
    {
      "metadata": {
        "id": "QVK8NMOhNxMd",
        "colab_type": "code",
        "colab": {}
      },
      "cell_type": "code",
      "source": [
        "train_data, test_data, train_label, test_label = train_test_split(all_data, all_label, test_size=0.2)"
      ],
      "execution_count": 0,
      "outputs": []
    },
    {
      "metadata": {
        "id": "8UbmHm4mm0Ay",
        "colab_type": "code",
        "colab": {}
      },
      "cell_type": "code",
      "source": [
        "print(f\"The are {len(train_data)} in training data \")\n",
        "print(f\"The are {len(test_data)} in testing data \")"
      ],
      "execution_count": 0,
      "outputs": []
    },
    {
      "metadata": {
        "id": "D7WWmC_AyA5D",
        "colab_type": "text"
      },
      "cell_type": "markdown",
      "source": [
        "# Embedding layers"
      ]
    },
    {
      "metadata": {
        "id": "rfWcsvo24YIN",
        "colab_type": "text"
      },
      "cell_type": "markdown",
      "source": [
        "## Get pretrained word vector"
      ]
    },
    {
      "metadata": {
        "id": "8hmQxcl73ixL",
        "colab_type": "code",
        "colab": {}
      },
      "cell_type": "code",
      "source": [
        "glove_file = 'glove.6B.50d.txt'\n",
        "\n",
        "f = open(glove_file)\n",
        "\n",
        "pretrained_dic = {}\n",
        "words = set()\n",
        "\n",
        "for line in f:\n",
        "    line = line.strip().split()\n",
        "    curr_word = line[0]\n",
        "    pretrained_dic[curr_word] = np.array(line[1:], dtype=np.float64)\n",
        "    words.add(curr_word)\n",
        "\n",
        "f.close()"
      ],
      "execution_count": 0,
      "outputs": []
    },
    {
      "metadata": {
        "id": "Hym-JwHF4pHc",
        "colab_type": "code",
        "colab": {}
      },
      "cell_type": "code",
      "source": [
        "# Show a few items in pretrained dictionary\n",
        "print(\"pretrained_dic\\n\")\n",
        "\n",
        "{k: pretrained_dic[k] for k in list(pretrained_dic)[10:15]}"
      ],
      "execution_count": 0,
      "outputs": []
    },
    {
      "metadata": {
        "id": "Up3GPyjT6nyZ",
        "colab_type": "code",
        "colab": {}
      },
      "cell_type": "code",
      "source": [
        "print('There are {} words in the dictionary'.format(len(pretrained_dic)))\n",
        "print('Length of vector for a word: {}'.format(len(pretrained_dic['is'])))"
      ],
      "execution_count": 0,
      "outputs": []
    },
    {
      "metadata": {
        "id": "5QNXiAQ4Ed_J",
        "colab_type": "text"
      },
      "cell_type": "markdown",
      "source": [
        "## Create word index"
      ]
    },
    {
      "metadata": {
        "id": "PNDUrOqcFUpZ",
        "colab_type": "code",
        "colab": {}
      },
      "cell_type": "code",
      "source": [
        "print(list(words)[0:10])"
      ],
      "execution_count": 0,
      "outputs": []
    },
    {
      "metadata": {
        "id": "DENsHUAGHlby",
        "colab_type": "code",
        "colab": {}
      },
      "cell_type": "code",
      "source": [
        "word_to_index = {}"
      ],
      "execution_count": 0,
      "outputs": []
    },
    {
      "metadata": {
        "id": "22zyrj7tEqHK",
        "colab_type": "code",
        "colab": {}
      },
      "cell_type": "code",
      "source": [
        "index = 1\n",
        "for key in sorted(words):\n",
        "  word_to_index[key] = index\n",
        "  index += 1"
      ],
      "execution_count": 0,
      "outputs": []
    },
    {
      "metadata": {
        "id": "9xSno5oLH2I3",
        "colab_type": "code",
        "colab": {}
      },
      "cell_type": "code",
      "source": [
        "# Show a few items in word_to_index\n",
        "print(\"word_to_index\\n\")\n",
        "{k: word_to_index[k] for k in list(word_to_index)[60000:60010]}"
      ],
      "execution_count": 0,
      "outputs": []
    },
    {
      "metadata": {
        "id": "gyLoPq3IQPkZ",
        "colab_type": "text"
      },
      "cell_type": "markdown",
      "source": [
        "## Creating embedding matrix"
      ]
    },
    {
      "metadata": {
        "id": "UOedu2wHQ3P4",
        "colab_type": "code",
        "colab": {}
      },
      "cell_type": "code",
      "source": [
        "EMBEDDING_DIM = 50\n",
        "\n",
        "embedding_matrix = np.zeros((len(word_to_index)+1, EMBEDDING_DIM))\n",
        "\n",
        "for word, i in word_to_index.items():\n",
        "  \n",
        "  embedding_vector = pretrained_dic.get(word)\n",
        "  \n",
        "  if embedding_vector is not None:\n",
        "    \n",
        "    embedding_matrix[i] = embedding_vector\n"
      ],
      "execution_count": 0,
      "outputs": []
    },
    {
      "metadata": {
        "id": "LqBWBQQI3lQj",
        "colab_type": "code",
        "colab": {}
      },
      "cell_type": "code",
      "source": [
        "embedding_matrix"
      ],
      "execution_count": 0,
      "outputs": []
    },
    {
      "metadata": {
        "id": "AJo4UT92fdTr",
        "colab_type": "text"
      },
      "cell_type": "markdown",
      "source": [
        "## Sentence to Index"
      ]
    },
    {
      "metadata": {
        "id": "Y5p835UwxVqQ",
        "colab_type": "text"
      },
      "cell_type": "markdown",
      "source": [
        "![alt text](https://storage.googleapis.com/allianz-course/data/embedding_layer.jpg =800x300)"
      ]
    },
    {
      "metadata": {
        "id": "CzTRjexMfhZW",
        "colab_type": "code",
        "colab": {}
      },
      "cell_type": "code",
      "source": [
        "def sentences_to_indices(X, word_to_index, max_len):\n",
        "    m = X.shape[0]\n",
        "    X_indices = np.zeros((m, max_len))\n",
        "    for i in range(m):\n",
        "        sentence_words = X[i].lower().split()\n",
        "        j = 0\n",
        "        for w in sentence_words:\n",
        "            X_indices[i, j] = word_to_index[w]\n",
        "            j = j + 1\n",
        "    return X_indices"
      ],
      "execution_count": 0,
      "outputs": []
    },
    {
      "metadata": {
        "id": "P-ywg0yofrci",
        "colab_type": "code",
        "colab": {}
      },
      "cell_type": "code",
      "source": [
        "test_sentence = np.array(['this book is nice', 'lets go shopping', 'hello'])\n",
        "max_len = get_max_length(test_sentence)\n",
        "test_indices = sentences_to_indices(test_sentence, word_to_index, max_len=max_len)"
      ],
      "execution_count": 0,
      "outputs": []
    },
    {
      "metadata": {
        "id": "ehsGja1WftJf",
        "colab_type": "code",
        "colab": {}
      },
      "cell_type": "code",
      "source": [
        "test_indices"
      ],
      "execution_count": 0,
      "outputs": []
    },
    {
      "metadata": {
        "id": "DqP22zHRuJZI",
        "colab_type": "text"
      },
      "cell_type": "markdown",
      "source": [
        "# **Build Model**"
      ]
    },
    {
      "metadata": {
        "id": "cFxVuFPQ8mJb",
        "colab_type": "text"
      },
      "cell_type": "markdown",
      "source": [
        "![alt text](https://storage.googleapis.com/allianz-course/data/lstm_arch.jpg =700x550 )"
      ]
    },
    {
      "metadata": {
        "id": "9Hzl2-zBUAqJ",
        "colab_type": "code",
        "colab": {}
      },
      "cell_type": "code",
      "source": [
        "K.clear_session()\n",
        "\n",
        "sequence_input = Input(shape = (MAX_SEQUENCE_LENGTH,), dtype = 'int32')\n",
        "\n",
        "embedding_layer = Embedding(len(word_to_index)+1,\n",
        "                            EMBEDDING_DIM,\n",
        "                            weights = [embedding_matrix], \n",
        "                            input_length = MAX_SEQUENCE_LENGTH,\n",
        "                            trainable = False)\n",
        "\n",
        "embeddings = embedding_layer(sequence_input)\n",
        "\n",
        "X = LSTM(128, return_sequences=True)(embeddings)\n",
        "X = Dropout(0.5)(X)\n",
        "X = LSTM(128, return_sequences=False)(X)\n",
        "X = Dropout(0.5)(X)\n",
        "X = Dense(5, activation='softmax')(X)\n",
        "\n",
        "model = Model(sequence_input, X)\n",
        "\n",
        "model.summary()"
      ],
      "execution_count": 0,
      "outputs": []
    },
    {
      "metadata": {
        "id": "HF3fPg0CJgiy",
        "colab_type": "code",
        "colab": {}
      },
      "cell_type": "code",
      "source": [
        "model.compile(loss='categorical_crossentropy', optimizer='adam', metrics=['accuracy'])"
      ],
      "execution_count": 0,
      "outputs": []
    },
    {
      "metadata": {
        "id": "wH4izR-zLMoz",
        "colab_type": "text"
      },
      "cell_type": "markdown",
      "source": [
        "#**Train Model**"
      ]
    },
    {
      "metadata": {
        "id": "iTNxFrtnvAUS",
        "colab_type": "code",
        "colab": {}
      },
      "cell_type": "code",
      "source": [
        "train_indices = sentences_to_indices(train_data, word_to_index, MAX_SEQUENCE_LENGTH)"
      ],
      "execution_count": 0,
      "outputs": []
    },
    {
      "metadata": {
        "id": "H7pKpuC0uO5N",
        "colab_type": "code",
        "colab": {}
      },
      "cell_type": "code",
      "source": [
        "train_indices"
      ],
      "execution_count": 0,
      "outputs": []
    },
    {
      "metadata": {
        "id": "BsG2ULy4tuHk",
        "colab_type": "code",
        "colab": {}
      },
      "cell_type": "code",
      "source": [
        "train_label_oh = keras.utils.to_categorical(train_label, num_classes = 5)"
      ],
      "execution_count": 0,
      "outputs": []
    },
    {
      "metadata": {
        "id": "GmXJoFNNNNYS",
        "colab_type": "code",
        "colab": {}
      },
      "cell_type": "code",
      "source": [
        "epoch = 20\n",
        "train_his = model.fit(train_indices, train_label_oh, epochs=epoch, batch_size=32, shuffle=True, validation_split = 0.2)\n",
        "\n"
      ],
      "execution_count": 0,
      "outputs": []
    },
    {
      "metadata": {
        "id": "hOjAeq-VL5rG",
        "colab_type": "code",
        "colab": {}
      },
      "cell_type": "code",
      "source": [
        "plt.figure(figsize=(15,7))\n",
        "\n",
        "plt.plot(np.arange(1, epoch+1), train_his.history['acc'], label='train_acc', lw=3)\n",
        "plt.plot(np.arange(1, epoch+1), train_his.history['val_acc'], label='val_acc', lw=3)\n",
        "\n",
        "plt.ylabel('Acc', family='serif', size=14)\n",
        "plt.xlabel('Epoch #', family='serif', size=14)\n",
        "plt.xticks(np.arange(1, epoch+1))\n",
        "plt.xlim([1, epoch])\n",
        "plt.legend(prop={'size':14, 'family':'serif'})\n",
        "plt.title('Acc.',size=14, family= 'serif')\n",
        "# plt.show()"
      ],
      "execution_count": 0,
      "outputs": []
    },
    {
      "metadata": {
        "id": "tpArH1z9PsAy",
        "colab_type": "text"
      },
      "cell_type": "markdown",
      "source": [
        "#**Test Model**"
      ]
    },
    {
      "metadata": {
        "id": "WqTLOxJBi2v4",
        "colab_type": "code",
        "colab": {}
      },
      "cell_type": "code",
      "source": [
        "test_indices = sentences_to_indices(test_data, word_to_index, MAX_SEQUENCE_LENGTH)\n",
        "test_pro = model.predict(test_indices)\n",
        "test_predict_label = test_pro.argmax(axis=-1)"
      ],
      "execution_count": 0,
      "outputs": []
    },
    {
      "metadata": {
        "id": "G7Iv174gQwtj",
        "colab_type": "code",
        "colab": {}
      },
      "cell_type": "code",
      "source": [
        "test_acc = accuracy_score(test_label, test_predict_label)\n",
        "print('Test Accuracy: {}'.format(test_acc))"
      ],
      "execution_count": 0,
      "outputs": []
    },
    {
      "metadata": {
        "id": "vQ1edP-WPZFG",
        "colab_type": "code",
        "colab": {}
      },
      "cell_type": "code",
      "source": [
        "x_test = np.array(['I eat a lot','I am angry','I like play ball'])\n",
        "X_test_indices = sentences_to_indices(x_test, word_to_index, MAX_SEQUENCE_LENGTH)\n",
        "pred = model.predict(X_test_indices)\n",
        "for i in range(len(x_test)):\n",
        "    x = X_test_indices\n",
        "    num = np.argmax(pred[i])\n",
        "    print(' prediction: ' + x_test[i] + label_to_emoji(num).strip())"
      ],
      "execution_count": 0,
      "outputs": []
    },
    {
      "metadata": {
        "id": "IhHh6S7OQ8-X",
        "colab_type": "code",
        "colab": {}
      },
      "cell_type": "code",
      "source": [
        ""
      ],
      "execution_count": 0,
      "outputs": []
    }
  ]
}