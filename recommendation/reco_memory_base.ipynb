{
  "nbformat": 4,
  "nbformat_minor": 0,
  "metadata": {
    "colab": {
      "name": "reco_memory_base.ipynb",
      "version": "0.3.2",
      "provenance": [],
      "toc_visible": true
    },
    "kernelspec": {
      "display_name": "Python 3",
      "language": "python",
      "name": "python3"
    }
  },
  "cells": [
    {
      "metadata": {
        "id": "5NRPpp3-stXe",
        "colab_type": "code",
        "colab": {}
      },
      "cell_type": "code",
      "source": [
        "! wget -q https://storage.googleapis.com/allianz-course/libs/utils.py\n"
      ],
      "execution_count": 0,
      "outputs": []
    },
    {
      "metadata": {
        "id": "B-eHy4Y-stXh",
        "colab_type": "code",
        "colab": {}
      },
      "cell_type": "code",
      "source": [
        "\"\"\"\n",
        "Import some required packages.\n",
        "\"\"\"\n",
        "\n",
        "# from __future__ import division, print_function, with_statement, absolute_import, unicode_literals\n",
        "import os, sys, numpy as np, pandas as pd, tensorflow as tf, re, codecs, json\n",
        "import pickle, collections, random, math, numbers, scipy.sparse as sp\n",
        "\n",
        "from sklearn.metrics.pairwise import cosine_similarity, euclidean_distances\n",
        "from sklearn.metrics import mean_squared_error, mean_absolute_error\n",
        "\n",
        "from math import sqrt\n",
        "from sklearn.preprocessing import LabelEncoder, minmax_scale\n",
        "from matplotlib import pyplot as plt\n",
        "import utils\n",
        "\n",
        "plt.style.use('ggplot')\n",
        "\n",
        "np.set_printoptions(precision=4, suppress=True, linewidth=100)"
      ],
      "execution_count": 0,
      "outputs": []
    },
    {
      "metadata": {
        "id": "QD2zrFhGstXk",
        "colab_type": "text"
      },
      "cell_type": "markdown",
      "source": [
        "# MovieLens Small Dataset\n",
        "\n",
        "此資料集含有約100,000筆電影評分(0.5~5分)。我們將使用此資料預測使用者對各個電影的評分。"
      ]
    },
    {
      "metadata": {
        "id": "aahS_duxstXl",
        "colab_type": "text"
      },
      "cell_type": "markdown",
      "source": [
        "## 1. Data Preprocessing\n",
        "首先我們需要先將資料集做些預處理。\n",
        "1. 載入raw data\n",
        "2. 將user_id, movie_id編碼成index 0 開始的流水號"
      ]
    },
    {
      "metadata": {
        "id": "X4x8qG80stXn",
        "colab_type": "code",
        "colab": {}
      },
      "cell_type": "code",
      "source": [
        "# 載入raw data\n",
        "ratings = pd.read_csv(\"https://storage.googleapis.com/allianz-course/data/ratings.csv\")\n",
        "movies = pd.read_csv(\"https://storage.googleapis.com/allianz-course/data/movies.csv\")\n",
        "tags = pd.read_csv(\"https://storage.googleapis.com/allianz-course/data/tags.csv\")\n",
        "\n",
        "# 將user_id, movie_id編碼成index 0 開始的流水號\n",
        "uidEnc, midEnc = LabelEncoder(), LabelEncoder()\n",
        "# encode user id and movie id to real value\n",
        "midEnc.fit(movies.movieId)\n",
        "uidEnc.fit(ratings.userId)\n",
        "ratings[\"userId\"] = uidEnc.transform(ratings.userId)\n",
        "ratings[\"movieId\"] = midEnc.transform(ratings.movieId)\n",
        "movies[\"movieId\"] = midEnc.transform(movies.movieId)\n",
        "\n",
        "tags[\"userId\"] = uidEnc.transform(tags.userId)\n",
        "tags[\"movieId\"] = midEnc.transform(tags.movieId)\n",
        "\n",
        "midMap = pd.Series(dict(zip(movies.movieId, movies.title)))\n",
        "\n",
        "nUsers, nMovies = len(uidEnc.classes_), len(midEnc.classes_)\n",
        "print(ratings.shape)\n",
        "ratings.head()"
      ],
      "execution_count": 0,
      "outputs": []
    },
    {
      "metadata": {
        "id": "w8WvbFebstXp",
        "colab_type": "code",
        "colab": {}
      },
      "cell_type": "code",
      "source": [
        "# movies profile\n",
        "movies.head()"
      ],
      "execution_count": 0,
      "outputs": []
    },
    {
      "metadata": {
        "id": "jTNSFXmPstXs",
        "colab_type": "code",
        "colab": {}
      },
      "cell_type": "code",
      "source": [
        "# tags profile\n",
        "tags.head()"
      ],
      "execution_count": 0,
      "outputs": []
    },
    {
      "metadata": {
        "id": "1QDXSb77stXu",
        "colab_type": "text"
      },
      "cell_type": "markdown",
      "source": [
        "\n",
        "## 2. Split Train and Test Data, Making Rating Matrix"
      ]
    },
    {
      "metadata": {
        "id": "YzWe8VgzstXx",
        "colab_type": "code",
        "colab": {}
      },
      "cell_type": "code",
      "source": [
        "tr = pd.read_csv(\"https://storage.googleapis.com/allianz-course/data/movielens.tr.csv\")\n",
        "te = pd.read_csv(\"https://storage.googleapis.com/allianz-course/data/movielens.te.csv\")\n",
        "\n",
        "# train data rating matrix\n",
        "trRatingMat = np.zeros((nUsers, nMovies))\n",
        "# test data rating matrix\n",
        "teRatingMat = np.zeros((nUsers, nMovies))\n",
        "\n",
        "for idx, r in tr.iterrows():\n",
        "    trRatingMat[int(r.userId), int(r.movieId)] = r.rating\n",
        "for idx, r in te.iterrows():\n",
        "    teRatingMat[int(r.userId), int(r.movieId)] = r.rating\n",
        "\n",
        "print(\"number of users: \", trRatingMat.shape[0], \"number of items: \", trRatingMat.shape[1])\n",
        "print(\"train interaction matrix shape: \", trRatingMat.shape, \"test interaction matrix shape: \", teRatingMat.shape)\n",
        "print(\"train.shape: \", tr.shape, \"test.shape: \", te.shape)\n",
        "print()\n",
        "print(tr.head())\n",
        "print()\n",
        "print(te.head())"
      ],
      "execution_count": 0,
      "outputs": []
    },
    {
      "metadata": {
        "id": "Bb9XlUdCstX1",
        "colab_type": "text"
      },
      "cell_type": "markdown",
      "source": [
        "### Observations\n",
        "```\n",
        "1. user數量遠小於item數量, 這是很常見的狀態\n",
        "2. user attributes與item attributes非常少\n",
        "```"
      ]
    },
    {
      "metadata": {
        "id": "gCrpzI7xstX2",
        "colab_type": "text"
      },
      "cell_type": "markdown",
      "source": [
        "## 3. Similarity 運作方式"
      ]
    },
    {
      "metadata": {
        "id": "pgdRWK1FstX3",
        "colab_type": "text"
      },
      "cell_type": "markdown",
      "source": [
        "![Alt text](https://github.com/CloudMile/recommendation_engine_course/blob/master/similarity.jpg?raw=true)"
      ]
    },
    {
      "metadata": {
        "id": "Sb0bmyhqstX3",
        "colab_type": "text"
      },
      "cell_type": "markdown",
      "source": [
        "### Cosine 相似度"
      ]
    },
    {
      "metadata": {
        "id": "NK4wUaoYstX3",
        "colab_type": "code",
        "colab": {}
      },
      "cell_type": "code",
      "source": [
        "uid = 66\n",
        "simMat = cosine_similarity([trRatingMat[uid]], trRatingMat)\n",
        "# 找出Top 5和自己rating狀況最像的人\n",
        "print(simMat.ravel().argsort()[::-1][:5])"
      ],
      "execution_count": 0,
      "outputs": []
    },
    {
      "metadata": {
        "id": "cQtXa8xXstX6",
        "colab_type": "text"
      },
      "cell_type": "markdown",
      "source": [
        "### Euclidean 相似度"
      ]
    },
    {
      "metadata": {
        "id": "v_M5gtspstX8",
        "colab_type": "code",
        "colab": {}
      },
      "cell_type": "code",
      "source": [
        "def euclidean_similarity(*args, **kwargs):\n",
        "    r = euclidean_distances(*args, **kwargs)\n",
        "    return 1 - r / np.max(r)\n",
        "\n",
        "  \n",
        "uid = 66\n",
        "simMat = euclidean_similarity([trRatingMat[uid]], trRatingMat)\n",
        "# 找出Top 5和自己rating狀況最像的人\n",
        "simMat.ravel().argsort()[::-1][:5]"
      ],
      "execution_count": 0,
      "outputs": []
    },
    {
      "metadata": {
        "id": "ZpwthrRSstX_",
        "colab_type": "text"
      },
      "cell_type": "markdown",
      "source": [
        "### 一次算出所有user之間的相似度\n",
        "1. 對稱矩陣\n",
        "2. 對角線(自己和自己的相似度為1)\n",
        "3. 注意user人數過多容易爆記憶體"
      ]
    },
    {
      "metadata": {
        "id": "MYktFqycstX_",
        "colab_type": "code",
        "colab": {}
      },
      "cell_type": "code",
      "source": [
        "simMat = cosine_similarity(trRatingMat)\n",
        "print(\"shape of user similarity matrix: \", simMat.shape)\n",
        "simMat"
      ],
      "execution_count": 0,
      "outputs": []
    },
    {
      "metadata": {
        "id": "PF_Uc4VnstYD",
        "colab_type": "text"
      },
      "cell_type": "markdown",
      "source": [
        "\n",
        "## 4. Memory Based Collaborative Filter 物件\n",
        "Functions\n",
        "1. fit: training, 這裡只是簡單set rating matrix\n",
        "2. predict: 產出指定user對於所有items的評分\n",
        "3. evaluateRMSE: 計算方均根誤差 (Root Mean Square Error)\n",
        "4. evaluateMAE: 計算絕對值誤差 (Mean Absolute Error)\n",
        "(evaluateRMSE, evaluateMAE選用其一即可)"
      ]
    },
    {
      "metadata": {
        "id": "cNcIXSnZstYE",
        "colab_type": "code",
        "colab": {}
      },
      "cell_type": "code",
      "source": [
        "class MemoryBaseCF(object):\n",
        "    \"\"\"使用Collaborative Filtering演算法\"\"\"\n",
        "    def __init__(self):\n",
        "        self.ratings = None\n",
        "        \n",
        "    def fit(self, ratings):\n",
        "        \"\"\"紀錄ratings (interaction matrix between users and items)\"\"\"\n",
        "        self.ratings = ratings\n",
        "        return self\n",
        "    \n",
        "    def predict(self, users:list, simFn=cosine_similarity, tpe=\"user\"):\n",
        "        \"\"\"定義以下變數\n",
        "        user_sim = similarity with other users\n",
        "        item_sim = similarity with other items\n",
        "        ratings = all user ratings on this items\n",
        "        \n",
        "        分別是user base CF與item base CF的算法\n",
        "        user base CF: item score = user_sim dot ratings / sum of user_sim\n",
        "        item base CF: item score = ratings dot item_sim / sum of item_sim\n",
        "        \"\"\"\n",
        "        return predict(self, users, simFn=cosine_similarity, tpe=tpe)\n",
        "    \n",
        "    def evaluateRMSE(self, inputs, tpe=\"user\", nBatch=500):\n",
        "        \"\"\"計算root mean square error, 不包含interaction matrix = 0的部分\"\"\"\n",
        "        return evaluateRMSE(self, inputs, tpe, nBatch)\n",
        "    \n",
        "    def evaluateMAE(self, inputs, tpe=\"user\", nBatch=500):\n",
        "        \"\"\"計算 mean absolutely error, 不包含interaction matrix = 0的部分\"\"\"\n",
        "        return evaluateMAE(self, inputs, tpe, nBatch)"
      ],
      "execution_count": 0,
      "outputs": []
    },
    {
      "metadata": {
        "id": "63h4sS35stYG",
        "colab_type": "text"
      },
      "cell_type": "markdown",
      "source": [
        "### Prediction: 計算加權平均數\n",
        "$$ r_{ij} \\leftarrow \\frac{\\sum_i(w_i \\cdot r_{ij})}{\\sum_{i, \\text{where} \\space r_{ij}\\neq 0} w_i} $$\n",
        "![Alt text](https://github.com/CloudMile/recommendation_engine_course/blob/master/weighted_avg.jpg?raw=true)"
      ]
    },
    {
      "metadata": {
        "id": "kKLP2iTMstYH",
        "colab_type": "code",
        "colab": {}
      },
      "cell_type": "code",
      "source": [
        "def predict(self, users:list, simFn=cosine_similarity, tpe=\"user\"):\n",
        "    \"\"\"定義以下變數\n",
        "    user_sim = similarity with other users\n",
        "    item_sim = similarity with other items\n",
        "    ratings = all user ratings on this items\n",
        "\n",
        "    分別是user base CF與item base CF的算法\n",
        "    user base CF: item score = user_sim dot ratings / sum of user_sim\n",
        "    item base CF: item score = ratings dot item_sim / sum of item_sim\n",
        "    \"\"\"\n",
        "    if tpe == \"user\":\n",
        "        # shape of inputUserRate is len(users) * nItems\n",
        "        inputUserRate = self.ratings[users]\n",
        "        # shape of sim is [len(users) * nUsers]\n",
        "        sim = simFn(inputUserRate, self.ratings)\n",
        "        # shape of dot is [len(users) * nItems]\n",
        "        dot = sim.dot(self.ratings)\n",
        "        # dot = sim.dot(self.ratingsDiff)\n",
        "\n",
        "        # mask 對於此item沒有rating的項目\n",
        "        # shape of simSum is [len(users) * nItems]\n",
        "        simSum = sim.dot(self.ratings != 0) # simSum = sim.dot(np.ones_like(self.ratings))\n",
        "\n",
        "        ret = np.zeros_like(dot)\n",
        "        # item rating = ((user similarity) dot product (all user rating to this item)) / masked sum of user similarity\n",
        "        for user in np.arange(dot.shape[0]):\n",
        "            for item in np.arange(dot.shape[1]):\n",
        "                # maskedSimSum = np.sum(singleUserSim * (self.ratings[:, item] != 0))\n",
        "                ret[user, item] = (dot[user, item] / simSum[user, item]) if simSum[user, item] != 0 else 0\n",
        "        return np.clip(ret, 0.5, 5)\n",
        "        # return np.clip(self.meanRating[users] + ret, 0, 5)\n",
        "        \n",
        "    elif tpe == \"item\":\n",
        "        # shape of inputUserRate is len(users) * nItems\n",
        "        inputUserRate = self.ratings[users]\n",
        "        # shape of sim is [nItems * nItems]\n",
        "        sim = simFn(self.ratings.T)\n",
        "        # shape of dot is [len(users) * nItems]\n",
        "        dot = inputUserRate.dot(sim)\n",
        "        # mask 對於此item沒有rating的項目\n",
        "        # shape of simSum is [nUsers * nItems]\n",
        "        simSum = (self.ratings != 0).dot(sim)\n",
        "        ret = np.zeros_like(dot)\n",
        "        # item rating = ((single user rating to this item) dot product (item similarity)) / masked sum of item similarity\n",
        "        for user in np.arange(dot.shape[0]):\n",
        "            for item in np.arange(dot.shape[1]):\n",
        "                # simSum = denom[item]\n",
        "                ret[user, item] = (dot[user, item] / simSum[user, item]) if simSum[user, item] != 0 else 0\n",
        "        return np.clip(ret, 0.5, 5)"
      ],
      "execution_count": 0,
      "outputs": []
    },
    {
      "metadata": {
        "id": "6g09ogucstYJ",
        "colab_type": "text"
      },
      "cell_type": "markdown",
      "source": [
        "### RMSE\n",
        "$$ \\sqrt{\\sum_i(Pred_i - True_i)^2} $$\n",
        "### MAE\n",
        "$$ \\sum_i \\left| Pred_i - True_i \\right| $$"
      ]
    },
    {
      "metadata": {
        "id": "CVAX9rhfstYK",
        "colab_type": "code",
        "colab": {}
      },
      "cell_type": "code",
      "source": [
        "def evaluateRMSE(self, inputs, tpe=\"user\", nBatch=500):\n",
        "    \"\"\"計算root mean square error, 不包含interaction matrix = 0的部分\"\"\"\n",
        "    loss = 0\n",
        "    users = np.arange(self.ratings.shape[0])\n",
        "    for startPos in range(0, self.ratings.shape[0], nBatch):\n",
        "        batchUsers = users[startPos : startPos + nBatch]\n",
        "        bRatings = self.predict(batchUsers, tpe=tpe)\n",
        "        loss += rmse(bRatings, inputs[startPos : startPos + nBatch]) ** 2 * len(batchUsers)\n",
        "    return math.sqrt(loss / len(users))\n",
        "\n",
        "def evaluateMAE(self, inputs, tpe=\"user\", nBatch=500):\n",
        "    \"\"\"計算 mean absolutely error, 不包含interaction matrix = 0的部分\"\"\"\n",
        "    loss = 0\n",
        "    users = np.arange(self.ratings.shape[0])\n",
        "    for startPos in range(0, self.ratings.shape[0], nBatch):\n",
        "        batchUsers = users[startPos : startPos + nBatch]\n",
        "        bRatings = self.predict(batchUsers, tpe=tpe)\n",
        "        loss += mae(bRatings, inputs[startPos : startPos + nBatch]) * len(batchUsers)\n",
        "    return loss / len(users)\n",
        "\n",
        "def rmse(prediction, ground_truth):\n",
        "    \"\"\"計算squared error的時候會mask掉ground_truth為0的部分\"\"\"\n",
        "    prediction = prediction[ground_truth.nonzero()].flatten()\n",
        "    ground_truth = ground_truth[ground_truth.nonzero()].flatten()\n",
        "    return math.sqrt(mean_squared_error(prediction, ground_truth))\n",
        "\n",
        "def mae(prediction, ground_truth):\n",
        "    \"\"\"計算absolute error的時候會mask掉ground_truth為0的部分\"\"\"\n",
        "    prediction = prediction[ground_truth.nonzero()].flatten()\n",
        "    ground_truth = ground_truth[ground_truth.nonzero()].flatten()\n",
        "    return mean_absolute_error(prediction, ground_truth)"
      ],
      "execution_count": 0,
      "outputs": []
    },
    {
      "metadata": {
        "id": "_1O6cTZJstYM",
        "colab_type": "text"
      },
      "cell_type": "markdown",
      "source": [
        "## Training"
      ]
    },
    {
      "metadata": {
        "id": "-MSSpLfrstYM",
        "colab_type": "code",
        "colab": {}
      },
      "cell_type": "code",
      "source": [
        "# fitting model\n",
        "model = MemoryBaseCF()\n",
        "model.fit(trRatingMat)"
      ],
      "execution_count": 0,
      "outputs": []
    },
    {
      "metadata": {
        "id": "XEfRWN82stYP",
        "colab_type": "text"
      },
      "cell_type": "markdown",
      "source": [
        "## Predict (回傳單一User對所有Items的分數)"
      ]
    },
    {
      "metadata": {
        "id": "gjP6Cru4stYQ",
        "colab_type": "code",
        "colab": {}
      },
      "cell_type": "code",
      "source": [
        "uid = 66\n",
        "model.predict([uid])"
      ],
      "execution_count": 0,
      "outputs": []
    },
    {
      "metadata": {
        "id": "n5zc80LZstYT",
        "colab_type": "text"
      },
      "cell_type": "markdown",
      "source": [
        "<br/>\n",
        "<br/>\n",
        "<br/>\n",
        "\n",
        "## evaluate model "
      ]
    },
    {
      "metadata": {
        "id": "xSij7zmTstYV",
        "colab_type": "code",
        "colab": {}
      },
      "cell_type": "code",
      "source": [
        "%%time\n",
        "print(\"user base Collaborative Filtering MAE loss: \", model.evaluateMAE(teRatingMat, tpe=\"user\"))\n",
        "print(\"user base Collaborative Filtering RMSE loss: \", model.evaluateRMSE(teRatingMat, tpe=\"user\"))"
      ],
      "execution_count": 0,
      "outputs": []
    },
    {
      "metadata": {
        "id": "FYhkQ6QhstYY",
        "colab_type": "code",
        "colab": {}
      },
      "cell_type": "code",
      "source": [
        "%%time\n",
        "print(\"item base Collaborative Filtering MAE loss: \", model.evaluateMAE(teRatingMat, tpe=\"item\"))\n",
        "print(\"item base Collaborative Filtering RMSE loss: \", model.evaluateRMSE(teRatingMat, tpe=\"item\"))"
      ],
      "execution_count": 0,
      "outputs": []
    },
    {
      "metadata": {
        "id": "-PnhY-j1stYc",
        "colab_type": "text"
      },
      "cell_type": "markdown",
      "source": [
        "<br/>\n",
        "<br/>\n",
        "<br/>\n",
        "### 發現以Item Base去推薦分數不太好, 檢查 Train Data Sparsity:"
      ]
    },
    {
      "metadata": {
        "id": "HHUNut58stYd",
        "colab_type": "code",
        "colab": {}
      },
      "cell_type": "code",
      "source": [
        "print( \"{} users didn't rate any movie!\".format((trRatingMat.sum(axis=1) == 0).sum()) )\n",
        "print( \"{} movies are not rated!\".format((trRatingMat.sum(axis=0) == 0).sum()) )"
      ],
      "execution_count": 0,
      "outputs": []
    },
    {
      "metadata": {
        "id": "yORdoP6AstYg",
        "colab_type": "text"
      },
      "cell_type": "markdown",
      "source": [
        "## 5. Performance"
      ]
    },
    {
      "metadata": {
        "id": "6loKN1VostYh",
        "colab_type": "text"
      },
      "cell_type": "markdown",
      "source": [
        "### 單一user rating分布圖"
      ]
    },
    {
      "metadata": {
        "id": "z-C2BL-tstYi",
        "colab_type": "code",
        "colab": {}
      },
      "cell_type": "code",
      "source": [
        "# valid user id from 0 ~ 670\n",
        "uid = 22\n",
        "pred = model.predict([uid]).ravel()\n",
        "print(\"shape: \", pred.shape, pred)\n",
        "\n",
        "nnzCoord = teRatingMat[uid].nonzero()\n",
        "f, ax = plt.subplots(1, 2, figsize=(10, 5))\n",
        "ax[0].set_title(\"pred distribute\")\n",
        "pd.Series(pred.ravel()[nnzCoord]).hist(bins=30, ax=ax[0])\n",
        "ax[1].set_title(\"real distribute\")\n",
        "pd.Series(teRatingMat[uid][nnzCoord]).hist(bins=30, ax=ax[1])\n",
        "plt.show()"
      ],
      "execution_count": 0,
      "outputs": []
    },
    {
      "metadata": {
        "id": "4706T-s5stYk",
        "colab_type": "text"
      },
      "cell_type": "markdown",
      "source": [
        "### Evaluate Model\n",
        "\n",
        "![alt text](https://storage.googleapis.com/allianz-course/data/confusion_matrix.png)"
      ]
    },
    {
      "metadata": {
        "id": "yAas7I2QstYk",
        "colab_type": "text"
      },
      "cell_type": "markdown",
      "source": [
        "#### User導向評估(Recall)\n",
        "\n",
        "Recall : User 給 5 分的電影, Predict  出來是多少？"
      ]
    },
    {
      "metadata": {
        "scrolled": true,
        "id": "4xUr-AfnstYl",
        "colab_type": "code",
        "colab": {}
      },
      "cell_type": "code",
      "source": [
        "# 可給定user id細看每個user的rating與model預測效果\n",
        "# valid user id from 0 ~ 670\n",
        "uid = 22\n",
        "recomm = model.predict([uid]).ravel()\n",
        "recommDf = pd.DataFrame(data={\n",
        "              \"userId\": uid,\n",
        "              \"movieId\": range(len(recomm)),\n",
        "              \"title\": midMap[np.arange(len(recomm))].values,\n",
        "              \"rating\": teRatingMat[uid, range(len(recomm))],\n",
        "              \"predRating\": recomm},\n",
        "             columns=(\"userId\", \"movieId\", \"title\", \"rating\", \"predRating\"))\n",
        "# ascending 可以調整True or False觀察結果\n",
        "recommDf.query(\"rating != 0\").sort_values(\"rating\", ascending=False).head(50)"
      ],
      "execution_count": 0,
      "outputs": []
    },
    {
      "metadata": {
        "id": "FUEqYgm6stYs",
        "colab_type": "text"
      },
      "cell_type": "markdown",
      "source": [
        "#### Model導向評估(Precision)\n",
        "\n",
        "Precision: Model Predict 5 分, 真正 user 給的評分是多少？"
      ]
    },
    {
      "metadata": {
        "scrolled": true,
        "id": "HCaL-SR9stYt",
        "colab_type": "code",
        "colab": {}
      },
      "cell_type": "code",
      "source": [
        "print(\"recommend for user {}\".format(uid))\n",
        "recommDf.query(\"rating != 0\").sort_values(\"predRating\", ascending=False)"
      ],
      "execution_count": 0,
      "outputs": []
    },
    {
      "metadata": {
        "id": "CpTFHaAystYw",
        "colab_type": "code",
        "colab": {}
      },
      "cell_type": "code",
      "source": [
        "\"\"\"\n",
        "\n",
        "區分正負向資料\n",
        "\n",
        "rating > = 4 的為正向\n",
        "rating < 4 的為負向\n",
        "\n",
        "\"\"\"\n",
        "\n",
        "pos_ary, neg_ary = [], []\n",
        "for label in teRatingMat:\n",
        "    label = label[label != 0]\n",
        "    pos_ary.append(sum(label >= 4))\n",
        "    neg_ary.append(sum(label < 4))\n",
        "    # print(\"pos: {}, neg: {}\".format(sum(label >= 4), sum(label < 4)))\n",
        "    \n",
        "def draw_pos_neg(idx):\n",
        "    ax = pd.DataFrame(\n",
        "        index=idx,\n",
        "        data={\"pos\": np.array(pos_ary)[idx], \"neg\": np.array(neg_ary)[idx]}).plot.bar(figsize=(10, 5), alpha=0.8)\n",
        "    \n",
        "    ax.set_xlabel(\"User ID\")\n",
        "    ax.set_ylabel(\"Number of Ratings\")\n",
        "    \n",
        "    plt.show()\n",
        "\n",
        "draw_pos_neg(np.arange(len(teRatingMat))[0:10])"
      ],
      "execution_count": 0,
      "outputs": []
    },
    {
      "metadata": {
        "id": "Qf1e1Aw2stYy",
        "colab_type": "text"
      },
      "cell_type": "markdown",
      "source": [
        "### About Test Data Movie Ratings(觀察上圖)\n",
        "```\n",
        "1. 0號, 2號, 5號, 9號 user 正向評價數量 < 10, 就算model全部預測命中, 命中率也不會是 100%!\n",
        "   ex: 0號user只有1個正向評價, 全部命中也指得到0.1的分數\n",
        "2. 3號user正向評價是負向評價的5倍多, 就算亂猜, 中的機率也很高\n",
        "```"
      ]
    },
    {
      "metadata": {
        "id": "zfpOt7IDstYz",
        "colab_type": "code",
        "colab": {}
      },
      "cell_type": "code",
      "source": [
        "_ = sum(np.sum(teRatingMat >= 4, 1) < 10)\n",
        "print(\"{} 個user正向評價總數小於10!\".format(_))"
      ],
      "execution_count": 0,
      "outputs": []
    },
    {
      "metadata": {
        "id": "3OTY-U8QstY1",
        "colab_type": "code",
        "colab": {}
      },
      "cell_type": "code",
      "source": [
        "def strict_condition(label):\n",
        "    label = label[label != 0]\n",
        "    pos, neg = sum(label >= 4), sum(label < 4)\n",
        "    return len(label) >= 10 and pos <= neg and pos > 0\n",
        "    \n",
        "print(\"strict_condition: test data中, rating數量 >= 10 且 負評價數量 >= 正評價數量 有 [{}] 人\".format(sum(strict_condition(label) for label in teRatingMat)))\n",
        "\n",
        "def norm_condition(label):\n",
        "    label = label[label != 0]\n",
        "    return sum(label >= 4) > 0 and sum(label < 4) > 0\n",
        "\n",
        "print(\"Normal_condition: test data中, rating正評價數量 >= 0 且 rating負評價數量 >= 0 有 [{}] 人\".format(sum(norm_condition(label) for label in teRatingMat)))"
      ],
      "execution_count": 0,
      "outputs": []
    },
    {
      "metadata": {
        "id": "taMD9bzVstY3",
        "colab_type": "text"
      },
      "cell_type": "markdown",
      "source": [
        "### Precision At K: \n",
        "> **預測分數高(rating >= 4)的前10部電影, 和實際user rating比較, 觀察命中率**"
      ]
    },
    {
      "metadata": {
        "id": "PK-QifC4stY5",
        "colab_type": "code",
        "colab": {}
      },
      "cell_type": "code",
      "source": [
        "%%time\n",
        "from sklearn.metrics import precision_score\n",
        "\n",
        "def precision_at_k(truth, pred_mat, condition_fn=None, k=10, label_thres=4):\n",
        "    hits, total = 0, 0\n",
        "    for label, pr in zip(truth, pred_mat):\n",
        "        if not condition_fn(label): continue\n",
        "\n",
        "        top_k_ind = (pr * (label != 0)).argsort()[::-1][:k]\n",
        "        hits += sum(label[top_k_ind] >= label_thres)\n",
        "        total += k\n",
        "    return hits / total\n",
        "\n",
        "pred_mat= []\n",
        "users = np.arange(nUsers)\n",
        "for pos in range(0, nUsers, 200):\n",
        "    batch = users[pos:pos + 200]\n",
        "    pred_mat.append(model.predict(batch, simFn=cosine_similarity))\n",
        "pred_mat = np.vstack(pred_mat)\n",
        "\n",
        "print( \"strict condition precision at 10: \", precision_at_k(teRatingMat, pred_mat, strict_condition, k=10) )\n",
        "print( \"norm condition precision at 10: \", precision_at_k(teRatingMat, pred_mat, norm_condition, k=10) )"
      ],
      "execution_count": 0,
      "outputs": []
    },
    {
      "metadata": {
        "id": "0R9IET5zstY9",
        "colab_type": "text"
      },
      "cell_type": "markdown",
      "source": [
        "### NDCG: Normalized Discounted Cumulative Gain\n",
        "1. A measure of ranking quality.\n",
        "2. loop 每一位user, prediciton score排序後計算DCG\n",
        "    <br/>$$ DCG_p = \\sum^p_{i = 1} \\frac{2^{rel_i} - 1}{log_2(i + 1)} $$<br/>\n",
        "3. IDCG: Ideal DCG, 為理想狀態下的DCG分數, 即model全部命中的DCG分數, 而NDCG: Normalized DCG, 公式如下\n",
        "    <br/>$$ NDCG_p = \\sum^p_{i = 1} \\frac{DCG_p}{IDCG_p} $$<br/>\n",
        "4. 所以NDCG是一個比值, 介於0 ~ 1之間"
      ]
    },
    {
      "metadata": {
        "id": "syUGMga7stY9",
        "colab_type": "code",
        "colab": {}
      },
      "cell_type": "code",
      "source": [
        "def single_user_ndcg(label, score, label_thres=4, k=10):\n",
        "    \"\"\"single user ndcg score\"\"\"\n",
        "    nnz = label.nonzero()[0]\n",
        "    # if np.sum(label >= label_thres) < k: return None\n",
        "    label, score = label[nnz], score[nnz]\n",
        "    label = (label >= label_thres).astype(int)\n",
        "    return utils.ndcg_score(label, score, k)\n",
        "\n",
        "def all_user_ndcg(label_mat, pred_mat, cond_fn, label_thres=4, k=10):\n",
        "    \"\"\"avg of all user ndcg score\"\"\"\n",
        "    tot_ndcg, actual_cnt = 0, 0\n",
        "    for i, (label, score) in enumerate(zip(label_mat, pred_mat)):\n",
        "        if not cond_fn(label): continue\n",
        "\n",
        "        ndcg = single_user_ndcg(label, score, k=10)\n",
        "        if ndcg is not None:\n",
        "            tot_ndcg += ndcg\n",
        "            actual_cnt += 1\n",
        "    return tot_ndcg / actual_cnt\n",
        "\n",
        "pred_mat = []\n",
        "for pos in range(0, nUsers, 200):\n",
        "    batch = users[pos:pos + 200]\n",
        "    pred_mat.append(model.predict(batch, simFn=cosine_similarity))\n",
        "pred_mat = np.vstack(pred_mat)\n",
        "    \n",
        "strict_ndcg = all_user_ndcg(teRatingMat, pred_mat, strict_condition, label_thres=4, k=10)\n",
        "norm_ndcg = all_user_ndcg(teRatingMat, pred_mat, norm_condition, label_thres=4, k=10)\n",
        "print(\"strict condition ndcg at 10: \", strict_ndcg)\n",
        "print(\"norm condition ndcg at 10: \", norm_ndcg)"
      ],
      "execution_count": 0,
      "outputs": []
    },
    {
      "metadata": {
        "id": "IRXFuDYdstY_",
        "colab_type": "text"
      },
      "cell_type": "markdown",
      "source": [
        "### ROC CURVE (Receiver operating characteristic), AUC (Area Under Curve)\n",
        "TP Rate cross FP Rate, 觀察curve的變化\n",
        "1. AUC = 0.5 (no discrimination 無鑑別力)\n",
        "2. 0.7 ≦ AUC ≦ 0.8 (acceptable discrimination 可接受的鑑別力)\n",
        "3. 0.8 ≦ AUC ≦ 0.9 (excellent discrimination 優良的鑑別力)\n",
        "4. 0.9 ≦ AUC ≦ 1.0 (outstanding discrimination 極佳的鑑別力)"
      ]
    },
    {
      "metadata": {
        "id": "j7rkEqZSstY_",
        "colab_type": "code",
        "colab": {}
      },
      "cell_type": "code",
      "source": [
        "from sklearn.metrics import roc_curve, auc, confusion_matrix\n",
        "\n",
        "def drawRocCurve(y, predProba):\n",
        "    fprRf, tprRf, _ = roc_curve(y, predProba, pos_label=1)\n",
        "    aucScr = auc(fprRf, tprRf)\n",
        "    print(\"AUC:\", aucScr)\n",
        "    f, ax = plt.subplots(1, 1, figsize=(6, 6))\n",
        "    \n",
        "    ax.plot([0, 1], [0, 1], 'k--')\n",
        "    ax.plot(fprRf, tprRf, label='ROC CURVE')\n",
        "    ax.set_xlabel('False positive rate')\n",
        "    ax.set_ylabel('True positive rate')\n",
        "    ax.set_title('ROC: Area Under Curve (score: {:.4f})'.format(aucScr))\n",
        "    ax.legend(loc='best')\n",
        "    plt.show()\n",
        "    \n",
        "# 只看非0的部分\n",
        "coord = teRatingMat.nonzero()\n",
        "predMat = model.predict(np.arange(teRatingMat.shape[0]).tolist(), tpe=\"user\")\n",
        "# regard rating >= 4 as user like this movie\n",
        "drawRocCurve((teRatingMat[coord] >= 4).astype(int), predMat[coord])"
      ],
      "execution_count": 0,
      "outputs": []
    },
    {
      "metadata": {
        "id": "0N0vsy83stZG",
        "colab_type": "text"
      },
      "cell_type": "markdown",
      "source": [
        "## 6. Baseline: 不經過訓練隨機產生預測值"
      ]
    },
    {
      "metadata": {
        "id": "bp7PYR8bstZG",
        "colab_type": "code",
        "colab": {}
      },
      "cell_type": "code",
      "source": [
        "dummyPredMat = np.random.random((nUsers, nMovies))\n",
        "drawRocCurve((teRatingMat >= 4).astype(int).ravel(), dummyPredMat.ravel())"
      ],
      "execution_count": 0,
      "outputs": []
    },
    {
      "metadata": {
        "id": "dyTFQMPhstZL",
        "colab_type": "text"
      },
      "cell_type": "markdown",
      "source": [
        "+ 不經過訓練隨機產生預測值 precision at 10"
      ]
    },
    {
      "metadata": {
        "id": "BUIFHQyJstZN",
        "colab_type": "code",
        "colab": {}
      },
      "cell_type": "code",
      "source": [
        "print( \"strict condition precision at 10: \", precision_at_k(teRatingMat, dummyPredMat, strict_condition, k=10) )\n",
        "print( \"norm condition precision at 10: \", precision_at_k(teRatingMat, dummyPredMat, norm_condition, k=10) )"
      ],
      "execution_count": 0,
      "outputs": []
    },
    {
      "metadata": {
        "id": "b2bc6p9YstZQ",
        "colab_type": "text"
      },
      "cell_type": "markdown",
      "source": [
        "+ 不經過訓練隨機產生預測值 ndcg at 10"
      ]
    },
    {
      "metadata": {
        "id": "5XgN804istZQ",
        "colab_type": "code",
        "colab": {}
      },
      "cell_type": "code",
      "source": [
        "strict_ndcg = all_user_ndcg(teRatingMat, dummyPredMat, strict_condition, label_thres=4, k=10)\n",
        "norm_ndcg = all_user_ndcg(teRatingMat, dummyPredMat, norm_condition, label_thres=4, k=10)\n",
        "print(\"strict condition ndcg at 10: \", strict_ndcg)\n",
        "print(\"norm condition ndcg at 10: \", norm_ndcg)"
      ],
      "execution_count": 0,
      "outputs": []
    },
    {
      "metadata": {
        "id": "eoxn8uBmstZS",
        "colab_type": "text"
      },
      "cell_type": "markdown",
      "source": [
        "## 7. Concepts\n",
        "1. MAE, RMSE, 是最基本拿來評估的指標, Netflix競賽指標就是以RMSE為指標\n",
        "2. AUC(ROC) => TP Rate cross FP Rate, 觀察curve的變化\n",
        "    + AUC = 0.5 (no discrimination 無鑑別力)\n",
        "    + 0.7 ≦ AUC ≦ 0.8 (acceptable discrimination 可接受的鑑別力)\n",
        "    + 0.8 ≦ AUC ≦ 0.9 (excellent discrimination 優良的鑑別力)\n",
        "    + 0.9 ≦ AUC ≦ 1.0 (outstanding discrimination 極佳的鑑別力)\n",
        "3. NDCG rank sensitive的指標, recommendation可視為ranking problem. ex: 跟主題相關的item擺在第1位的分數, \n",
        "    與擺在第5位的分數相比, 前者分數較高\n",
        "4. precision at k與recall at k的部分以recommendation來說會較注重precision, 因為recall需要得知user所有偏愛的items, 而這個資訊通常無法得知"
      ]
    },
    {
      "metadata": {
        "id": "gy0c6Gs6stZT",
        "colab_type": "code",
        "colab": {}
      },
      "cell_type": "code",
      "source": [
        ""
      ],
      "execution_count": 0,
      "outputs": []
    }
  ]
}