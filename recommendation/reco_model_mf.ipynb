{
 "cells": [
  {
   "cell_type": "markdown",
   "metadata": {},
   "source": [
    "# Load Libs"
   ]
  },
  {
   "cell_type": "code",
   "execution_count": 1,
   "metadata": {},
   "outputs": [
    {
     "name": "stderr",
     "output_type": "stream",
     "text": [
      "Using TensorFlow backend.\n"
     ]
    }
   ],
   "source": [
    "%reload_ext autoreload\n",
    "%autoreload 2\n",
    "\n",
    "import os, sys, numpy as np, pandas as pd, tensorflow as tf\n",
    "import seaborn as sns, keras\n",
    "sns.set(style='white')\n",
    "\n",
    "from collections import Counter\n",
    "from sklearn.preprocessing import LabelEncoder\n",
    "from matplotlib import pyplot as plt\n",
    "\n",
    "from sklearn.metrics import roc_curve, auc\n",
    "from keras import backend as K\n",
    "from keras.models import Model\n",
    "from keras.layers import Dense, BatchNormalization, Activation, Input, Dropout, Embedding, Flatten, Input\n",
    "from keras.layers import Concatenate\n",
    "from keras.optimizers import Adam, SGD\n",
    "from keras import regularizers\n",
    "\n",
    "np.set_printoptions(precision=4, suppress=True, linewidth=100)"
   ]
  },
  {
   "cell_type": "markdown",
   "metadata": {},
   "source": [
    "# Data Preview"
   ]
  },
  {
   "cell_type": "code",
   "execution_count": 2,
   "metadata": {},
   "outputs": [],
   "source": [
    "ratings = pd.read_csv('https://storage.googleapis.com/allianz-course/data/ratings.csv')\n",
    "movies = pd.read_csv('https://storage.googleapis.com/allianz-course/data/movies.csv')"
   ]
  },
  {
   "cell_type": "code",
   "execution_count": 3,
   "metadata": {},
   "outputs": [
    {
     "name": "stdout",
     "output_type": "stream",
     "text": [
      "(9125, 3)\n"
     ]
    },
    {
     "data": {
      "text/html": [
       "<div>\n",
       "<style scoped>\n",
       "    .dataframe tbody tr th:only-of-type {\n",
       "        vertical-align: middle;\n",
       "    }\n",
       "\n",
       "    .dataframe tbody tr th {\n",
       "        vertical-align: top;\n",
       "    }\n",
       "\n",
       "    .dataframe thead th {\n",
       "        text-align: right;\n",
       "    }\n",
       "</style>\n",
       "<table border=\"1\" class=\"dataframe\">\n",
       "  <thead>\n",
       "    <tr style=\"text-align: right;\">\n",
       "      <th></th>\n",
       "      <th>movieId</th>\n",
       "      <th>title</th>\n",
       "      <th>genres</th>\n",
       "    </tr>\n",
       "  </thead>\n",
       "  <tbody>\n",
       "    <tr>\n",
       "      <th>0</th>\n",
       "      <td>1</td>\n",
       "      <td>Toy Story (1995)</td>\n",
       "      <td>Adventure|Animation|Children|Comedy|Fantasy</td>\n",
       "    </tr>\n",
       "    <tr>\n",
       "      <th>1</th>\n",
       "      <td>2</td>\n",
       "      <td>Jumanji (1995)</td>\n",
       "      <td>Adventure|Children|Fantasy</td>\n",
       "    </tr>\n",
       "    <tr>\n",
       "      <th>2</th>\n",
       "      <td>3</td>\n",
       "      <td>Grumpier Old Men (1995)</td>\n",
       "      <td>Comedy|Romance</td>\n",
       "    </tr>\n",
       "    <tr>\n",
       "      <th>3</th>\n",
       "      <td>4</td>\n",
       "      <td>Waiting to Exhale (1995)</td>\n",
       "      <td>Comedy|Drama|Romance</td>\n",
       "    </tr>\n",
       "    <tr>\n",
       "      <th>4</th>\n",
       "      <td>5</td>\n",
       "      <td>Father of the Bride Part II (1995)</td>\n",
       "      <td>Comedy</td>\n",
       "    </tr>\n",
       "  </tbody>\n",
       "</table>\n",
       "</div>"
      ],
      "text/plain": [
       "   movieId                               title  \\\n",
       "0        1                    Toy Story (1995)   \n",
       "1        2                      Jumanji (1995)   \n",
       "2        3             Grumpier Old Men (1995)   \n",
       "3        4            Waiting to Exhale (1995)   \n",
       "4        5  Father of the Bride Part II (1995)   \n",
       "\n",
       "                                        genres  \n",
       "0  Adventure|Animation|Children|Comedy|Fantasy  \n",
       "1                   Adventure|Children|Fantasy  \n",
       "2                               Comedy|Romance  \n",
       "3                         Comedy|Drama|Romance  \n",
       "4                                       Comedy  "
      ]
     },
     "execution_count": 3,
     "metadata": {},
     "output_type": "execute_result"
    }
   ],
   "source": [
    "print(movies.shape)\n",
    "movies.head()"
   ]
  },
  {
   "cell_type": "code",
   "execution_count": 4,
   "metadata": {},
   "outputs": [
    {
     "name": "stdout",
     "output_type": "stream",
     "text": [
      "(100004, 4)\n"
     ]
    },
    {
     "data": {
      "text/html": [
       "<div>\n",
       "<style scoped>\n",
       "    .dataframe tbody tr th:only-of-type {\n",
       "        vertical-align: middle;\n",
       "    }\n",
       "\n",
       "    .dataframe tbody tr th {\n",
       "        vertical-align: top;\n",
       "    }\n",
       "\n",
       "    .dataframe thead th {\n",
       "        text-align: right;\n",
       "    }\n",
       "</style>\n",
       "<table border=\"1\" class=\"dataframe\">\n",
       "  <thead>\n",
       "    <tr style=\"text-align: right;\">\n",
       "      <th></th>\n",
       "      <th>userId</th>\n",
       "      <th>movieId</th>\n",
       "      <th>rating</th>\n",
       "      <th>timestamp</th>\n",
       "    </tr>\n",
       "  </thead>\n",
       "  <tbody>\n",
       "    <tr>\n",
       "      <th>0</th>\n",
       "      <td>1</td>\n",
       "      <td>31</td>\n",
       "      <td>2.5</td>\n",
       "      <td>1260759144</td>\n",
       "    </tr>\n",
       "    <tr>\n",
       "      <th>1</th>\n",
       "      <td>1</td>\n",
       "      <td>1029</td>\n",
       "      <td>3.0</td>\n",
       "      <td>1260759179</td>\n",
       "    </tr>\n",
       "    <tr>\n",
       "      <th>2</th>\n",
       "      <td>1</td>\n",
       "      <td>1061</td>\n",
       "      <td>3.0</td>\n",
       "      <td>1260759182</td>\n",
       "    </tr>\n",
       "    <tr>\n",
       "      <th>3</th>\n",
       "      <td>1</td>\n",
       "      <td>1129</td>\n",
       "      <td>2.0</td>\n",
       "      <td>1260759185</td>\n",
       "    </tr>\n",
       "    <tr>\n",
       "      <th>4</th>\n",
       "      <td>1</td>\n",
       "      <td>1172</td>\n",
       "      <td>4.0</td>\n",
       "      <td>1260759205</td>\n",
       "    </tr>\n",
       "  </tbody>\n",
       "</table>\n",
       "</div>"
      ],
      "text/plain": [
       "   userId  movieId  rating   timestamp\n",
       "0       1       31     2.5  1260759144\n",
       "1       1     1029     3.0  1260759179\n",
       "2       1     1061     3.0  1260759182\n",
       "3       1     1129     2.0  1260759185\n",
       "4       1     1172     4.0  1260759205"
      ]
     },
     "execution_count": 4,
     "metadata": {},
     "output_type": "execute_result"
    }
   ],
   "source": [
    "print(ratings.shape)\n",
    "ratings.head()"
   ]
  },
  {
   "cell_type": "code",
   "execution_count": 5,
   "metadata": {
    "scrolled": true
   },
   "outputs": [
    {
     "name": "stdout",
     "output_type": "stream",
     "text": [
      "count    100004.000000\n",
      "mean          3.543608\n",
      "std           1.058064\n",
      "min           0.500000\n",
      "25%           3.000000\n",
      "50%           4.000000\n",
      "75%           4.000000\n",
      "max           5.000000\n",
      "Name: rating, dtype: float64 \n",
      "\n",
      "4.0    28750\n",
      "3.0    20064\n",
      "5.0    15095\n",
      "3.5    10538\n",
      "4.5     7723\n",
      "2.0     7271\n",
      "2.5     4449\n",
      "1.0     3326\n",
      "1.5     1687\n",
      "0.5     1101\n",
      "Name: rating, dtype: int64\n"
     ]
    }
   ],
   "source": [
    "print(ratings.rating.describe(), '\\n')\n",
    "print(ratings.rating.value_counts())"
   ]
  },
  {
   "cell_type": "markdown",
   "metadata": {},
   "source": [
    "## Observations\n",
    "* rating的分數介於 0.5 ~ 5分, 最小差距為0.5"
   ]
  },
  {
   "cell_type": "markdown",
   "metadata": {},
   "source": [
    "# Encode"
   ]
  },
  {
   "cell_type": "code",
   "execution_count": 6,
   "metadata": {},
   "outputs": [],
   "source": [
    "# Fit user id and movie id\n",
    "uid_enc, mid_enc = LabelEncoder(), LabelEncoder()\n",
    "uid_enc.fit(ratings.userId)\n",
    "mid_enc.fit(movies.movieId)\n",
    "\n",
    "# Encode user id and movie id to indexed real value\n",
    "ratings[\"userId\"] = uid_enc.transform(ratings.userId)\n",
    "ratings[\"movieId\"] = mid_enc.transform(ratings.movieId)\n",
    "movies[\"movieId\"] = mid_enc.transform(movies.movieId)\n",
    "\n",
    "# Dictionary of movie id and title\n",
    "mid_map = pd.Series(dict(zip(movies.movieId, movies.title)))\n",
    "\n",
    "# Number of users, number of movies\n",
    "n_users, n_movies = len(uid_enc.classes_), len(mid_enc.classes_)"
   ]
  },
  {
   "cell_type": "markdown",
   "metadata": {},
   "source": [
    "# Split Train, Test Data\n",
    "* 以4分為閥值, 4分以上為positive, 未滿4分為negative\n",
    "* 每個user分positive, negative兩部分, 各取30%到valid data"
   ]
  },
  {
   "cell_type": "code",
   "execution_count": 7,
   "metadata": {},
   "outputs": [],
   "source": [
    "def split_ratings(data, pos_thres=4, test_ratio=0.3):\n",
    "    \"\"\"依照test_ratio切割movielens train test資料\"\"\"\n",
    "    tr, te = [], []\n",
    "    for u, df in data.groupby(\"userId\"):\n",
    "        if len(df) < 5: continue\n",
    "\n",
    "        pos, neg = df.query(\"rating >= {}\".format(pos_thres)), df.query(\"rating < {}\".format(pos_thres))\n",
    "        # Split positive part\n",
    "        pos_len = int(len(pos) * (1 - test_ratio))\n",
    "        tr_pos = pos[:pos_len]\n",
    "        te_pos = pos[pos_len:]\n",
    "        # Split negative part\n",
    "        neg_len = int(len(neg) * (1 - test_ratio))\n",
    "        tr_neg = neg[:neg_len]\n",
    "        te_neg = neg[neg_len:]\n",
    "\n",
    "        tr.append(tr_pos.append(tr_neg))\n",
    "        te.append(te_pos.append(te_neg))\n",
    "    return pd.concat(tr, ignore_index=True), pd.concat(te, ignore_index=True)\n",
    "\n",
    "tr, te = split_ratings(ratings, 4, .3)"
   ]
  },
  {
   "cell_type": "markdown",
   "metadata": {},
   "source": [
    "# Make Rating Matrix (Interaction Between Users and Movies)"
   ]
  },
  {
   "cell_type": "code",
   "execution_count": 8,
   "metadata": {},
   "outputs": [
    {
     "name": "stdout",
     "output_type": "stream",
     "text": [
      "Shape of train interaction matrix:  (671, 9125)\n",
      "[[0. 0. 0. ... 0. 0. 0.]\n",
      " [0. 0. 0. ... 0. 0. 0.]\n",
      " [0. 0. 0. ... 0. 0. 0.]\n",
      " ...\n",
      " [0. 0. 0. ... 0. 0. 0.]\n",
      " [4. 0. 0. ... 0. 0. 0.]\n",
      " [5. 0. 0. ... 0. 0. 0.]] \n",
      "\n",
      "Shape of test interaction matrix:  (671, 9125)\n",
      "[[0. 0. 0. ... 0. 0. 0.]\n",
      " [0. 0. 0. ... 0. 0. 0.]\n",
      " [0. 0. 0. ... 0. 0. 0.]\n",
      " ...\n",
      " [0. 0. 0. ... 0. 0. 0.]\n",
      " [0. 0. 0. ... 0. 0. 0.]\n",
      " [0. 0. 0. ... 0. 0. 0.]]\n"
     ]
    }
   ],
   "source": [
    "tr_rating_mat = np.zeros((n_users, n_movies))\n",
    "# Valid data rating matrix\n",
    "te_rating_mat = np.zeros((n_users, n_movies))\n",
    "\n",
    "# Train rating matrix\n",
    "for idx, r in tr.iterrows():\n",
    "    tr_rating_mat[int(r.userId), int(r.movieId)] = r.rating\n",
    "# Valid rating matrix    \n",
    "for idx, r in te.iterrows():\n",
    "    te_rating_mat[int(r.userId), int(r.movieId)] = r.rating\n",
    "    \n",
    "print('Shape of train interaction matrix: ', tr_rating_mat.shape)\n",
    "print(tr_rating_mat, '\\n')\n",
    "print('Shape of test interaction matrix: ', te_rating_mat.shape)\n",
    "print(te_rating_mat)"
   ]
  },
  {
   "cell_type": "markdown",
   "metadata": {},
   "source": [
    "# Transformed Data"
   ]
  },
  {
   "cell_type": "code",
   "execution_count": 9,
   "metadata": {},
   "outputs": [
    {
     "name": "stdout",
     "output_type": "stream",
     "text": [
      "   userId  movieId  rating   timestamp\n",
      "0       0      931     4.0  1260759205\n",
      "1       0     1515     4.0  1260759191\n",
      "2       0       30     2.5  1260759144\n",
      "3       0      833     3.0  1260759179\n",
      "4       0      859     3.0  1260759182\n",
      "\n",
      "   userId  movieId  rating   timestamp\n",
      "0       0     1665     4.0  1260759139\n",
      "1       0     1708     3.0  1260759194\n",
      "2       0     1743     2.0  1260759198\n",
      "3       0     1815     2.0  1260759108\n",
      "4       0     1962     2.5  1260759113\n"
     ]
    }
   ],
   "source": [
    "print( tr.head() )\n",
    "print()\n",
    "print( te.head() )"
   ]
  },
  {
   "cell_type": "markdown",
   "metadata": {},
   "source": [
    "<br/>\n",
    "<br/>\n",
    "<br/>\n",
    "<br/>\n",
    "<br/>\n",
    "<br/>"
   ]
  },
  {
   "cell_type": "markdown",
   "metadata": {},
   "source": [
    "# Model of Matrix Factorization"
   ]
  },
  {
   "cell_type": "code",
   "execution_count": 10,
   "metadata": {},
   "outputs": [],
   "source": [
    "from keras.layers import dot, add, Layer\n",
    "from keras import regularizers\n",
    "from keras.optimizers import Adagrad, SGD, Adam\n",
    "from keras.callbacks import ModelCheckpoint"
   ]
  },
  {
   "cell_type": "markdown",
   "metadata": {},
   "source": [
    "## Build model function"
   ]
  },
  {
   "cell_type": "code",
   "execution_count": 11,
   "metadata": {
    "scrolled": true
   },
   "outputs": [
    {
     "name": "stdout",
     "output_type": "stream",
     "text": [
      "__________________________________________________________________________________________________\n",
      "Layer (type)                    Output Shape         Param #     Connected to                     \n",
      "==================================================================================================\n",
      "input_1 (InputLayer)            (None, 1)            0                                            \n",
      "__________________________________________________________________________________________________\n",
      "input_2 (InputLayer)            (None, 1)            0                                            \n",
      "__________________________________________________________________________________________________\n",
      "emb_user (Embedding)            (None, 1, 16)        10736       input_1[0][0]                    \n",
      "__________________________________________________________________________________________________\n",
      "emb_movie (Embedding)           (None, 1, 16)        146000      input_2[0][0]                    \n",
      "__________________________________________________________________________________________________\n",
      "input_3 (InputLayer)            (None, 1)            0                                            \n",
      "__________________________________________________________________________________________________\n",
      "flatten_1 (Flatten)             (None, 16)           0           emb_user[0][0]                   \n",
      "__________________________________________________________________________________________________\n",
      "flatten_2 (Flatten)             (None, 16)           0           emb_movie[0][0]                  \n",
      "__________________________________________________________________________________________________\n",
      "b_user (Embedding)              (None, 1, 1)         671         input_1[0][0]                    \n",
      "__________________________________________________________________________________________________\n",
      "b_movie (Embedding)             (None, 1, 1)         9125        input_2[0][0]                    \n",
      "__________________________________________________________________________________________________\n",
      "b_global (Embedding)            (None, 1, 1)         1           input_3[0][0]                    \n",
      "__________________________________________________________________________________________________\n",
      "dot_1 (Dot)                     (None, 1)            0           flatten_1[0][0]                  \n",
      "                                                                 flatten_2[0][0]                  \n",
      "__________________________________________________________________________________________________\n",
      "flatten_3 (Flatten)             (None, 1)            0           b_user[0][0]                     \n",
      "__________________________________________________________________________________________________\n",
      "flatten_4 (Flatten)             (None, 1)            0           b_movie[0][0]                    \n",
      "__________________________________________________________________________________________________\n",
      "flatten_5 (Flatten)             (None, 1)            0           b_global[0][0]                   \n",
      "__________________________________________________________________________________________________\n",
      "add_1 (Add)                     (None, 1)            0           dot_1[0][0]                      \n",
      "                                                                 flatten_3[0][0]                  \n",
      "                                                                 flatten_4[0][0]                  \n",
      "                                                                 flatten_5[0][0]                  \n",
      "==================================================================================================\n",
      "Total params: 166,533\n",
      "Trainable params: 166,533\n",
      "Non-trainable params: 0\n",
      "__________________________________________________________________________________________________\n"
     ]
    }
   ],
   "source": [
    "def get_model(n_users, n_movies, emb_size, reg):\n",
    "    # Input tesors\n",
    "    inp_user = Input([1], dtype='int32')\n",
    "    inp_movie = Input([1], dtype='int32')\n",
    "    # Hack: only input integer => \"0\"\n",
    "    inp_global = Input([1], dtype='int32')\n",
    "    \n",
    "    # User, movie embedding\n",
    "    emb_user = Embedding(n_users, emb_size, embeddings_initializer='glorot_uniform',\n",
    "                         embeddings_regularizer=regularizers.l2(reg), name='emb_user')(inp_user)\n",
    "    emb_movie = Embedding(n_movies, emb_size, embeddings_initializer='glorot_uniform',\n",
    "                         embeddings_regularizer=regularizers.l2(reg), name='emb_movie')(inp_movie)\n",
    "    emb_user = Flatten()(emb_user)\n",
    "    emb_movie = Flatten()(emb_movie)\n",
    "    \n",
    "    # Bias terms\n",
    "    b_user = Flatten()(Embedding(n_users, 1, \n",
    "                                 embeddings_initializer='glorot_uniform', \n",
    "                                 name='b_user')(inp_user))\n",
    "    b_movie = Flatten()(Embedding(n_movies, 1, \n",
    "                                  embeddings_initializer='glorot_uniform', \n",
    "                                  name='b_movie')(inp_movie))\n",
    "    b_global = Flatten()(Embedding(1, 1, \n",
    "                                   embeddings_initializer='glorot_uniform', \n",
    "                                   name='b_global')(inp_global))\n",
    "    # Implements the formulation\n",
    "    nets = dot([emb_user, emb_movie], axes=1)\n",
    "    nets = add([nets, b_user, b_movie, b_global])\n",
    "    \n",
    "    # Input: [user, movie, zero]\n",
    "    model = Model([inp_user, inp_movie, inp_global], nets)\n",
    "    model.summary()\n",
    "    return model, Model(inp_movie, emb_movie)\n",
    "\n",
    "emb_size = 16\n",
    "reg = 0.0005\n",
    "batch_size = 128\n",
    "epochs = 20\n",
    "\n",
    "K.clear_session()\n",
    "model_mf, _ = get_model(n_users, n_movies, emb_size, reg)"
   ]
  },
  {
   "cell_type": "markdown",
   "metadata": {},
   "source": [
    "# Training"
   ]
  },
  {
   "cell_type": "code",
   "execution_count": 12,
   "metadata": {},
   "outputs": [],
   "source": [
    "tr_x = [tr.userId[:, None], \n",
    "        tr.movieId[:, None], \n",
    "        np.zeros([len(tr), 1])]\n",
    "tr_y = tr.rating[:, None]\n",
    "# -----------------------------------------------------------------------\n",
    "te_x = [te.userId[:, None], \n",
    "        te.movieId[:, None], \n",
    "        np.zeros([len(te), 1])]\n",
    "te_y = te.rating[:, None]"
   ]
  },
  {
   "cell_type": "markdown",
   "metadata": {},
   "source": [
    "## Use Callback Function\n",
    "* keras.callbacks.ModelCheckpoint: 只存檔最好的結果, 是另一種防止overfitting的方式\n",
    "    * save_best_only = True"
   ]
  },
  {
   "cell_type": "code",
   "execution_count": 13,
   "metadata": {
    "scrolled": true
   },
   "outputs": [
    {
     "name": "stdout",
     "output_type": "stream",
     "text": [
      "Train on 69399 samples, validate on 30605 samples\n",
      "Epoch 1/20\n",
      "69399/69399 [==============================] - 3s 47us/step - loss: 1.8022 - val_loss: 1.0776\n",
      "Epoch 2/20\n",
      "69399/69399 [==============================] - 2s 28us/step - loss: 0.8533 - val_loss: 0.9301\n",
      "Epoch 3/20\n",
      "69399/69399 [==============================] - 2s 28us/step - loss: 0.7767 - val_loss: 0.8968\n",
      "Epoch 4/20\n",
      "69399/69399 [==============================] - 2s 28us/step - loss: 0.7463 - val_loss: 0.8854\n",
      "Epoch 5/20\n",
      "69399/69399 [==============================] - 2s 28us/step - loss: 0.7292 - val_loss: 0.8788\n",
      "Epoch 6/20\n",
      "69399/69399 [==============================] - 2s 28us/step - loss: 0.7178 - val_loss: 0.8737\n",
      "Epoch 7/20\n",
      "69399/69399 [==============================] - 2s 29us/step - loss: 0.7095 - val_loss: 0.8726\n",
      "Epoch 8/20\n",
      "69399/69399 [==============================] - 2s 28us/step - loss: 0.7031 - val_loss: 0.8710\n",
      "Epoch 9/20\n",
      "69399/69399 [==============================] - 2s 28us/step - loss: 0.6981 - val_loss: 0.8724\n",
      "Epoch 10/20\n",
      "69399/69399 [==============================] - 2s 28us/step - loss: 0.6940 - val_loss: 0.8719\n",
      "Epoch 11/20\n",
      "69399/69399 [==============================] - 2s 28us/step - loss: 0.6906 - val_loss: 0.8737\n",
      "Epoch 12/20\n",
      "69399/69399 [==============================] - 2s 28us/step - loss: 0.6877 - val_loss: 0.8726\n",
      "Epoch 13/20\n",
      "69399/69399 [==============================] - 2s 28us/step - loss: 0.6852 - val_loss: 0.8729\n",
      "Epoch 14/20\n",
      "69399/69399 [==============================] - 2s 28us/step - loss: 0.6831 - val_loss: 0.8742\n",
      "Epoch 15/20\n",
      "69399/69399 [==============================] - 2s 28us/step - loss: 0.6812 - val_loss: 0.8757\n",
      "Epoch 16/20\n",
      "69399/69399 [==============================] - 2s 28us/step - loss: 0.6795 - val_loss: 0.8751\n",
      "Epoch 17/20\n",
      "69399/69399 [==============================] - 2s 28us/step - loss: 0.6780 - val_loss: 0.8771\n",
      "Epoch 18/20\n",
      "69399/69399 [==============================] - 2s 29us/step - loss: 0.6767 - val_loss: 0.8763\n",
      "Epoch 19/20\n",
      "69399/69399 [==============================] - 2s 28us/step - loss: 0.6754 - val_loss: 0.8769\n",
      "Epoch 20/20\n",
      "69399/69399 [==============================] - 2s 28us/step - loss: 0.6743 - val_loss: 0.8798\n"
     ]
    },
    {
     "data": {
      "image/png": "[encoded data removed]",
      "text/plain": [
       "<Figure size 432x288 with 1 Axes>"
      ]
     },
     "metadata": {
      "needs_background": "light"
     },
     "output_type": "display_data"
    }
   ],
   "source": [
    "model_mf.compile(optimizer=Adagrad(lr=0.1), loss='mse')\n",
    "\n",
    "model_dir = \"./model_mf\"\n",
    "hist = model_mf.fit(x=tr_x,\n",
    "                    y=tr_y,\n",
    "                    validation_data=(te_x, te_y),\n",
    "                    batch_size=batch_size,\n",
    "                    epochs=epochs,\n",
    "                    callbacks=[ModelCheckpoint(filepath=model_dir, \n",
    "                                               save_weights_only=True, \n",
    "                                               save_best_only=True)])\n",
    "\n",
    "# After training, load the best weights back\n",
    "model_mf.load_weights(model_dir)\n",
    "\n",
    "sns.lineplot(np.arange(len(hist.history['loss'])), hist.history['loss'], label='train')\n",
    "sns.lineplot(np.arange(len(hist.history['val_loss'])), hist.history['val_loss'], label='test')\n",
    "plt.title('loss')\n",
    "plt.grid(True)\n",
    "plt.show()"
   ]
  },
  {
   "cell_type": "markdown",
   "metadata": {},
   "source": [
    "# Prediction"
   ]
  },
  {
   "cell_type": "code",
   "execution_count": 14,
   "metadata": {},
   "outputs": [
    {
     "name": "stdout",
     "output_type": "stream",
     "text": [
      "Shape of test data:  (30605,)\n"
     ]
    }
   ],
   "source": [
    "pred = model_mf.predict(te_x).ravel()\n",
    "print('Shape of test data: ', pred.shape)"
   ]
  },
  {
   "cell_type": "markdown",
   "metadata": {},
   "source": [
    "# Metrics\n",
    "* 定義4分以上為正向評價, 4分以下為負向評價"
   ]
  },
  {
   "cell_type": "markdown",
   "metadata": {},
   "source": [
    "## RMSE "
   ]
  },
  {
   "cell_type": "code",
   "execution_count": 15,
   "metadata": {},
   "outputs": [
    {
     "name": "stdout",
     "output_type": "stream",
     "text": [
      "RMSE:  0.9329331680619126\n"
     ]
    }
   ],
   "source": [
    "print(\"RMSE: \", np.sqrt(np.mean((pred - te_y.ravel())**2)))"
   ]
  },
  {
   "cell_type": "markdown",
   "metadata": {},
   "source": [
    "## AUC"
   ]
  },
  {
   "cell_type": "code",
   "execution_count": 16,
   "metadata": {},
   "outputs": [
    {
     "name": "stdout",
     "output_type": "stream",
     "text": [
      "auc: 0.7467134204166853\n"
     ]
    },
    {
     "data": {
      "image/png": "[encoded data removed]",
      "text/plain": [
       "<Figure size 432x432 with 1 Axes>"
      ]
     },
     "metadata": {
      "needs_background": "light"
     },
     "output_type": "display_data"
    }
   ],
   "source": [
    "def draw_roc_curve(y, pred_proba):\n",
    "    fpr, tpr, _ = roc_curve(y, pred_proba, pos_label=1)\n",
    "    auc_scr = auc(fpr, tpr)\n",
    "    print(\"auc:\", auc_scr)\n",
    "    f, ax = plt.subplots(1, 1, figsize=(6, 6))\n",
    "\n",
    "    ax.plot([0, 1], [0, 1], 'k--')\n",
    "    ax.plot(fpr, tpr, label='ROC CURVE')\n",
    "    ax.set_xlabel('False positive rate')\n",
    "    ax.set_ylabel('True positive rate')\n",
    "    ax.set_title('Area Under Curve(ROC) (score: {:.4f})'.format(auc_scr))\n",
    "    ax.legend(loc='best')\n",
    "    plt.grid(True)\n",
    "    plt.show()\n",
    "    \n",
    "draw_roc_curve(te.rating >= 4, pred / pred.max())"
   ]
  },
  {
   "cell_type": "markdown",
   "metadata": {},
   "source": [
    "## Single User Rating Histogram"
   ]
  },
  {
   "cell_type": "code",
   "execution_count": null,
   "metadata": {},
   "outputs": [],
   "source": [
    "# user id from 0 ~ 670\n",
    "uid = 22\n",
    "tmp = te.query(f\"userId == {uid}\")\n",
    "single_pred = model_mf.predict(\n",
    "    [np.repeat(uid, len(tmp.movieId))[:, None],\n",
    "     tmp.movieId[:, None],\n",
    "     np.zeros([len(tmp.movieId), 1])]).ravel()\n",
    "\n",
    "f, ax = plt.subplots(1, 2, figsize=(10, 5))\n",
    "ax[0].set_title(\"pred distribute\")\n",
    "sns.distplot(single_pred, ax=ax[0])\n",
    "ax[1].set_title(\"real distribute\")\n",
    "sns.distplot(te.query(f\"userId == '{uid}'\").rating, ax=ax[1])\n",
    "plt.show()"
   ]
  },
  {
   "cell_type": "markdown",
   "metadata": {},
   "source": [
    "## Single User Detail Table"
   ]
  },
  {
   "cell_type": "code",
   "execution_count": null,
   "metadata": {
    "scrolled": true
   },
   "outputs": [],
   "source": [
    "# user id from 0 ~ 670\n",
    "uid = 22\n",
    "tmp = te.query(f\"userId == {uid}\")\n",
    "single_pred = model_mf.predict(\n",
    "    [np.repeat(uid, len(tmp.movieId))[:, None],\n",
    "     tmp.movieId[:, None],\n",
    "     np.zeros([len(tmp.movieId), 1])]).ravel()\n",
    "\n",
    "recommDf = pd.DataFrame(data={\n",
    "              \"userId\": uid,\n",
    "              \"movieId\": tmp.movieId,\n",
    "              \"title\": mid_map[tmp.movieId].values,\n",
    "              \"rating\": tmp.rating.values,\n",
    "              \"predRating\": single_pred},\n",
    "             columns=(\"userId\", \"movieId\", \"title\", \"rating\", \"predRating\"))\n",
    "# ascending 可以調整True or False觀察結果\n",
    "recommDf.sort_values(\"rating\", ascending=False)"
   ]
  },
  {
   "cell_type": "code",
   "execution_count": null,
   "metadata": {
    "scrolled": true
   },
   "outputs": [],
   "source": [
    "recommDf.sort_values(\"predRating\", ascending=False)"
   ]
  },
  {
   "cell_type": "markdown",
   "metadata": {},
   "source": [
    "## Precision@K (K = 10)"
   ]
  },
  {
   "cell_type": "markdown",
   "metadata": {},
   "source": [
    "### Before Computing Precision@K, See the Count Plot Below First"
   ]
  },
  {
   "cell_type": "code",
   "execution_count": null,
   "metadata": {},
   "outputs": [],
   "source": [
    "pos_ary, neg_ary = [], []\n",
    "for label in te_rating_mat:\n",
    "    label = label[label != 0]\n",
    "    pos_ary.append(sum(label >= 4))\n",
    "    neg_ary.append(sum(label < 4))\n",
    "    \n",
    "def draw_pos_neg(idx):\n",
    "    pd.DataFrame(\n",
    "        index=idx,\n",
    "        data={\"pos\": np.array(pos_ary)[idx], \"neg\": np.array(neg_ary)[idx]}).plot.bar(figsize=(10, 5), alpha=0.8)\n",
    "    plt.grid(True)\n",
    "    plt.show()\n",
    "\n",
    "draw_pos_neg(np.arange(len(te_rating_mat))[0:10])"
   ]
  },
  {
   "cell_type": "markdown",
   "metadata": {},
   "source": [
    "### Observations\n",
    "1. 0號, 2號, 5號, 9號 user 正向評價數量 < 10, 就算model全部預測命中, 命中率也不會是 100%!\n",
    "    ex: 0號user只有1個正向評價, 全部命中也只得到0.1的分數\n",
    "2. 3號user正向評價是負向評價的5倍多, 就算亂猜, 中的機率也很高"
   ]
  },
  {
   "cell_type": "code",
   "execution_count": null,
   "metadata": {},
   "outputs": [],
   "source": [
    "def strict_condition(label):\n",
    "    label = label[label != 0]\n",
    "    pos, neg = sum(label >= 4), sum(label < 4)\n",
    "    return len(label) >= 10 and pos <= neg and pos > 0\n",
    "\n",
    "def norm_condition(label):\n",
    "    label = label[label != 0]\n",
    "    return sum(label >= 4) > 0 and sum(label < 4) > 0\n",
    "\n",
    "_ = sum(np.sum(te_rating_mat >= 4, 1) < 10)\n",
    "print(\"{} 個user正向評價總數小於10!\".format(_))\n",
    "print(\"rating數量 >= 10 且 負評價數量 >= 正評價數量 有 [{}] 人\".format(sum(strict_condition(label) for label in te_rating_mat)))\n",
    "print(\"rating正評價數量 >= 0 且 rating負評價數量 >= 0 有 [{}] 人\".format(sum(norm_condition(label) for label in te_rating_mat)))"
   ]
  },
  {
   "cell_type": "code",
   "execution_count": null,
   "metadata": {},
   "outputs": [],
   "source": [
    "def precision_at_k(truth, pred_mat, condition_fn=None, k=10, label_thres=4):\n",
    "    hits, total = 0, 0\n",
    "    for label, pr in zip(truth, pred_mat):\n",
    "        if not condition_fn(label): continue\n",
    "\n",
    "        top_k_ind = (pr * (label != 0)).argsort()[::-1][:k]\n",
    "        hits += sum(label[top_k_ind] >= label_thres)\n",
    "        total += k\n",
    "    return hits / total"
   ]
  },
  {
   "cell_type": "code",
   "execution_count": null,
   "metadata": {
    "scrolled": true
   },
   "outputs": [],
   "source": [
    "pred_mat = np.zeros_like(te_rating_mat)\n",
    "pred_mat[te.userId, te.movieId] = pred\n",
    "    \n",
    "print( \"strict condition precision at 10: \", precision_at_k(te_rating_mat, pred_mat, strict_condition, k=10) )\n",
    "print( \"norm condition precision at 10: \", precision_at_k(te_rating_mat, pred_mat, norm_condition, k=10) )"
   ]
  },
  {
   "cell_type": "markdown",
   "metadata": {},
   "source": [
    "## NDCG: Normalized Discounted Cumulative Gain\n",
    "1. A measure of ranking quality.\n",
    "2. loop 每一位user, prediciton score排序後計算NDCG\n",
    "    <br/>$$ DCG_p = \\sum^p_{i = 1} \\frac{2^{rel_i} - 1}{log_2(i + 1)} $$<br/>\n",
    "3. IDCG: Ideal DCG, 為理想狀態下的DCG分數, 即model全部命中的DCG分數, 而NDCG: Normalized DCG, 公式如下\n",
    "    <br/>$$ NDCG_p = \\sum^p_{i = 1} \\frac{DCG_p}{IDCG_p} $$<br/>\n",
    "4. 所以NDCG是一個比值, 介於0 ~ 1之間"
   ]
  },
  {
   "cell_type": "code",
   "execution_count": null,
   "metadata": {},
   "outputs": [],
   "source": [
    "def all_user_ndcg(label_mat, pred_mat, cond_fn, label_thres=4, k=10):\n",
    "    \"\"\"avg of all user ndcg score\"\"\"\n",
    "    tot_ndcg, actual_cnt = 0, 0\n",
    "    for i, (label, score) in enumerate(zip(label_mat, pred_mat)):\n",
    "        if not cond_fn(label): continue\n",
    "\n",
    "        ndcg = single_user_ndcg(label, score, k=10)\n",
    "        if ndcg is not None:\n",
    "            tot_ndcg += ndcg\n",
    "            actual_cnt += 1\n",
    "    return tot_ndcg / actual_cnt\n",
    "\n",
    "def single_user_ndcg(label, score, label_thres=4, k=10):\n",
    "    \"\"\"single user ndcg score\"\"\"\n",
    "    nnz = label.nonzero()[0]\n",
    "    # if np.sum(label >= label_thres) < k: return None\n",
    "    label, score = label[nnz], score[nnz]\n",
    "    label = (label >= label_thres).astype(int)\n",
    "    return ndcg_score(label, score, k)\n",
    "\n",
    "def ndcg_score(y_true, y_score, k=10, gains=\"exponential\"):\n",
    "    \"\"\"Normalized discounted cumulative gain (NDCG) at rank k\"\"\"\n",
    "    best = dcg_score(y_true, y_true, k, gains)\n",
    "    actual = dcg_score(y_true, y_score, k, gains)\n",
    "    return actual / best\n",
    "\n",
    "def dcg_score(y_true, y_score, k=10, gains=\"exponential\"):\n",
    "    \"\"\"Discounted cumulative gain (DCG) at rank k\"\"\"\n",
    "    order = np.argsort(y_score)[::-1]\n",
    "    y_true = np.take(y_true, order[:k])\n",
    "    if gains == \"exponential\":\n",
    "        gains = 2 ** y_true - 1\n",
    "    elif gains == \"linear\":\n",
    "        gains = y_true\n",
    "    else:\n",
    "        raise ValueError(\"Invalid gains option.\")\n",
    "\n",
    "    # highest rank is 1 so +2 instead of +1\n",
    "    discounts = np.log2(np.arange(len(y_true)) + 2)\n",
    "    return np.sum(gains / discounts)"
   ]
  },
  {
   "cell_type": "code",
   "execution_count": null,
   "metadata": {},
   "outputs": [],
   "source": [
    "pred_mat = np.zeros_like(te_rating_mat)\n",
    "pred_mat[te.userId, te.movieId] = pred\n",
    "    \n",
    "strict_ndcg = all_user_ndcg(te_rating_mat, pred_mat, strict_condition, label_thres=4, k=10)\n",
    "norm_ndcg = all_user_ndcg(te_rating_mat, pred_mat, norm_condition, label_thres=4, k=10)\n",
    "print(\"strict condition ndcg at 10: \", strict_ndcg)\n",
    "print(\"norm condition ndcg at 10: \", norm_ndcg)"
   ]
  },
  {
   "cell_type": "markdown",
   "metadata": {},
   "source": [
    "<br/>\n",
    "<br/>\n",
    "<br/>\n",
    "<br/>\n",
    "<br/>\n",
    "\n",
    "## Baseline: 不經過訓練隨機產生預測值"
   ]
  },
  {
   "cell_type": "markdown",
   "metadata": {},
   "source": [
    "### ROC"
   ]
  },
  {
   "cell_type": "code",
   "execution_count": null,
   "metadata": {},
   "outputs": [],
   "source": [
    "dummyPredMat = np.random.random((n_users, n_movies))\n",
    "draw_roc_curve((te_rating_mat >= 4).astype(int).ravel(), dummyPredMat.ravel())"
   ]
  },
  {
   "cell_type": "markdown",
   "metadata": {},
   "source": [
    "### 不經過訓練隨機產生預測值 RMSE"
   ]
  },
  {
   "cell_type": "code",
   "execution_count": null,
   "metadata": {},
   "outputs": [],
   "source": [
    "mask = te_rating_mat > 0\n",
    "print(\"rmse of dummy model(valid data): \", np.sqrt(np.mean( (te_rating_mat[mask] - dummyPredMat[mask])**2)) )"
   ]
  },
  {
   "cell_type": "markdown",
   "metadata": {},
   "source": [
    "### 不經過訓練隨機產生預測值 precision at 10"
   ]
  },
  {
   "cell_type": "code",
   "execution_count": null,
   "metadata": {},
   "outputs": [],
   "source": [
    "print( \"strict condition precision at 10: \", precision_at_k(te_rating_mat, dummyPredMat, strict_condition, k=10) )\n",
    "print( \"norm condition precision at 10: \", precision_at_k(te_rating_mat, dummyPredMat, norm_condition, k=10) )"
   ]
  },
  {
   "cell_type": "markdown",
   "metadata": {},
   "source": [
    "### 不經過訓練隨機產生預測值 ndcg at 10"
   ]
  },
  {
   "cell_type": "code",
   "execution_count": null,
   "metadata": {},
   "outputs": [],
   "source": [
    "strict_ndcg = all_user_ndcg(te_rating_mat, dummyPredMat, strict_condition, label_thres=4, k=10)\n",
    "norm_ndcg = all_user_ndcg(te_rating_mat, dummyPredMat, norm_condition, label_thres=4, k=10)\n",
    "print(\"strict condition ndcg at 10: \", strict_ndcg)\n",
    "print(\"norm condition ndcg at 10: \", norm_ndcg)"
   ]
  }
 ],
 "metadata": {
  "anaconda-cloud": {},
  "kernelspec": {
   "display_name": "Python 3",
   "language": "python",
   "name": "python3"
  },
  "language_info": {
   "codemirror_mode": {
    "name": "ipython",
    "version": 3
   },
   "file_extension": ".py",
   "mimetype": "text/x-python",
   "name": "python",
   "nbconvert_exporter": "python",
   "pygments_lexer": "ipython3",
   "version": "3.6.6"
  }
 },
 "nbformat": 4,
 "nbformat_minor": 1
}
