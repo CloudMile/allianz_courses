{
 "cells": [
  {
   "cell_type": "code",
   "execution_count": 23,
   "metadata": {},
   "outputs": [],
   "source": [
    "# -*- coding: utf-8 -*-\n",
    "import jieba, codecs, math\n",
    "from time import localtime,strftime\n",
    "\n",
    "# Use 自建詞庫\n",
    "# jieba.load_userdict(\"jieba-userdict.txt\")"
   ]
  },
  {
   "cell_type": "code",
   "execution_count": 24,
   "metadata": {},
   "outputs": [
    {
     "name": "stdout",
     "output_type": "stream",
     "text": [
      "2018年上海MWC今天登場，光寶（2301）宣布聯手國際大廠意法半導體（STMicroelectronics），共同打造全系列通訊模組，整合Sigfox與藍牙技術，推出多元雙效模組，強化產品效能，目前已取得Sigfox官方認證，可立即投入商用市場。 吳松泉表示，上海MWC期間亮相的全系列模組WSG300S、WSG303S、WSG304S與WSG306S，皆採用意法半導體系統晶片與無線收發器，包括STM32系統單晶片、BlueNRG-1低功耗藍牙（BLE）系統單晶片（System-on-Chip, SoC）及S2-LP Sub-1GHz無線收發器，不僅產品設計符合地區規範，同時兼顧卓越品質與尺寸優勢。 其中，WSG304S雙效模組整合了Sigfox與藍牙技術，搭配意法半導體的MEMS感測器，並內建32位元處理器，具備高效處理能力，在各種使用情境下，為客戶提供雙重通訊選擇，可靈活套用於各種近場控制、遠端傳輸等創新聯網情境。至於應用地區，WSG300S能同時支援RCZ2與RCZ4通訊地區，涵蓋美洲（美國、墨西哥、巴西、哥倫比亞、阿根廷）與紐西蘭、澳洲、新加坡、台灣、香港等地；WSG303S、WSG304S、WSG306S則可運用於歐洲、中東（阿曼、伊朗）與南非等區域。\n"
     ]
    }
   ],
   "source": [
    "# Load news dataset\n",
    "inputFile = codecs.open('demo-news.txt', 'r', 'utf-8')\n",
    "articles = []\n",
    "for line in inputFile:\n",
    "    articles.append(line.strip())\n",
    "inputFile.close()\n",
    "\n",
    "print (articles[0])"
   ]
  },
  {
   "cell_type": "code",
   "execution_count": 48,
   "metadata": {},
   "outputs": [
    {
     "name": "stdout",
     "output_type": "stream",
     "text": [
      "DONE\n"
     ]
    }
   ],
   "source": [
    "# Calculate term frequency\n",
    "specialChar = u\"「」『』【】《》。，?？!！/╱:：;；()（）\"\n",
    "listOfTF = []\n",
    "segmentedArticles = []\n",
    "\n",
    "for index in range(len(articles)):\n",
    "    termFrequency = {}\n",
    "    terms = jieba.cut(articles[index], cut_all = False)\n",
    "    temp = []\n",
    "    for term in terms:\n",
    "        if term.strip() == \"\" or term in specialChar: continue\n",
    "        temp.append(term)\n",
    "        if term not in termFrequency: termFrequency[term] = 1\n",
    "        else: termFrequency[term] += 1\n",
    "    listOfTF.append(termFrequency)\n",
    "    segmentedArticles.append(\" \".join(temp))\n",
    "\n",
    "# save the segmented articles for later use\n",
    "outputFile = codecs.open('segmented.txt', 'w', 'utf-8')\n",
    "\n",
    "for index in range(len(segmentedArticles)):\n",
    "    outputFile.write(segmentedArticles[index] + \"\\n\")\n",
    "outputFile.close()\n",
    "print (\"DONE\")"
   ]
  },
  {
   "cell_type": "code",
   "execution_count": 43,
   "metadata": {},
   "outputs": [],
   "source": [
    "# Get document frequency\n",
    "termToTotalDocumentOccurrence = {}\n",
    "for termFrequency in listOfTF:\n",
    "    for term in termFrequency:\n",
    "        if term in termToTotalDocumentOccurrence: \n",
    "            termToTotalDocumentOccurrence[term] += 1\n",
    "        else: termToTotalDocumentOccurrence[term] = 1\n",
    "\n",
    "# Get TF-IDF score for each article\n",
    "listOfTFIDF = []\n",
    "for index in range(len(listOfTF)):\n",
    "    TFIDF = {}\n",
    "    for term in listOfTF[index]:\n",
    "        score = listOfTF[index][term] * math.log10 \\\n",
    "                (len(articles) * 1.0 /termToTotalDocumentOccurrence[term])\n",
    "        TFIDF[term] = score\n",
    "    listOfTFIDF.append(TFIDF)\n"
   ]
  },
  {
   "cell_type": "code",
   "execution_count": 44,
   "metadata": {},
   "outputs": [],
   "source": [
    "def getVectorLength(some_vector):\n",
    "    sum = 0\n",
    "    allKeys = some_vector.keys()\n",
    "    for singleKey in allKeys:\n",
    "        sum += some_vector[singleKey] ** 2\n",
    "    return sum ** 0.5\n",
    "\n",
    "def getCosineSimilarity(docVector1, docVector2):\n",
    "    score = 0.0\n",
    "    for word in docVector1:\n",
    "        if word in docVector2: \n",
    "            score += docVector1[word] * docVector2[word]\n",
    "    docVector1Length = getVectorLength(docVector1)\n",
    "    docVector2Length = getVectorLength(docVector2)\n",
    "    if docVector2Length > 0: return score / (docVector1Length * docVector2Length)\n",
    "    else: return 0"
   ]
  },
  {
   "cell_type": "code",
   "execution_count": 45,
   "metadata": {},
   "outputs": [
    {
     "name": "stdout",
     "output_type": "stream",
     "text": [
      "0.0168895604245814\t2018年上海MWC今天登場，光寶（2301）宣布聯手國際大廠意法半導體（STMicroelectronics），共同打造全系列通訊模組，整合Sigfox與藍牙技術，推出多元雙效模組，強化產品效能，目前已取得Sigfox官方認證，可立即投入商用市場。 吳松泉表示，上海MWC期間亮相的全系列模組WSG300S、WSG303S、WSG304S與WSG306S，皆採用意法半導體系統晶片與無線收發器，包括STM32系統單晶片、BlueNRG-1低功耗藍牙（BLE）系統單晶片（System-on-Chip, SoC）及S2-LP Sub-1GHz無線收發器，不僅產品設計符合地區規範，同時兼顧卓越品質與尺寸優勢。 其中，WSG304S雙效模組整合了Sigfox與藍牙技術，搭配意法半導體的MEMS感測器，並內建32位元處理器，具備高效處理能力，在各種使用情境下，為客戶提供雙重通訊選擇，可靈活套用於各種近場控制、遠端傳輸等創新聯網情境。至於應用地區，WSG300S能同時支援RCZ2與RCZ4通訊地區，涵蓋美洲（美國、墨西哥、巴西、哥倫比亞、阿根廷）與紐西蘭、澳洲、新加坡、台灣、香港等地；WSG303S、WSG304S、WSG306S則可運用於歐洲、中東（阿曼、伊朗）與南非等區域。\n",
      "0.05954379694969273\t「刷卡儲值」到街口支付、歐付寶等電子支付錢包，金管會再鬆綁。金管會昨預告「電子支付機構使用者身分確認機制及交易限額管理辦法」修正草案，「第一類電子支付帳戶」將新增可以「儲值」，儲值來源可以是信用卡、或是銀行帳戶。目前電子支付帳戶，依照身分認證強弱分三大類，第一類身分認證最弱，是採手機加上身分證資料，過去只能做代收付款，代收付款限額是3萬元，且無法做儲值。金管會昨對第一類電子支付帳戶，開放兩大項目，一是新增「儲值」，儲值上限是一萬元，二是代收付款限額，若民眾有臨時支付需求，可以提高到10萬元，但全年交易限額仍是36萬元。官員說，因為透過存款帳戶轉帳或是刷卡儲值等方式，可以追查資金流向，考量相關風險可以控管，因此才放行。此舉將可增加電子支付帳戶的消費支付彈性且提升電支帳戶使用便利性，有助增加使用者。至於第二類電子支付帳戶，則是以手機加上金融支付工具做身分認證，代收付限額是每月30萬元，儲值則是5萬元，第三類身分認證強度最強，採臨櫃或是電子簽章，代收付款額度則是自行約定，但儲值款項則是5萬元。但官員說，刷卡做儲值款後，該儲值金額只能做消費、也不能夠移轉或提領，避免產生「刷卡套現」的問題。根據金管會資料，到今年4月底止，共有六家專營電子支付機構、20家兼營電子支付機構業務的金融機構（含中華郵政），總使用人數約243萬人，其中專營的電支機構有111.6萬人，不到一半。4月當月，電子支付機構代理收付實質交易款項金額約21.78億元。\n",
      "0.06401160805565205\t泰銖即將成為新興亞洲本季表現最差貨幣，扭轉第1季升勢。瑞穗銀行認為，泰銖短期可能仍無法觸底。泰銖對美元今盤中貶值0.45%至33.153泰銖兌1美元，是7個月來最低價位，本季以來貶值近6%。數據顯示，外國基金本季截至昨天淨賣超38億美元泰國股票，金額至少是1999年以來最高。另外，根據泰國債券市場協會數據，外國投資人3月底以來從泰國債市撤出2.51億美元，是2016年第4季以來資金首次淨流出。資金流出泰國反映投資人擔心美國和中國貿易衝突升溫將衝擊泰國經常帳順差，該國經常帳順差吸引看多泰銖的投資人。瑞穗銀行新興市場外匯交易員深谷公勝說：「市場已將目光轉向貿易衝突，高度依賴貿易的經濟體貨幣愈來愈無法承受賣壓。」深谷公勝認為，支撐泰銖第1季升勢的因素如今反而衝擊出口導向經濟體貨幣，泰銖可能測試33.5泰銖兌1美元關卡；泰銖第1季表現在新興亞洲名列第2。\n",
      "0.050981371099191784\t「亞洲通訊獎」(Asia Communication Awards)公布得獎名單遠傳電信總經理李彬，評選為亞洲電信業年度最佳CEO(CEO of the Year)，成為台灣電信業首位獲得此殊榮的CEO。 評審團表示李彬帶領遠傳積極進行數位轉型，並取得網路領導地位的重大成就，同時李彬也展現了女性卓越的數位領導力、創新精神以及對人性的關懷。 李彬說，遠傳除了積極參與未來5G技術發展，近年來更加速投入許多資源在創新應用及新技術研發，包括遠傳電信積極推動國內物聯網產業發展，啟動國內第一個NB-IoT物聯網生態圈，引爆物聯網成長動能。另外，李彬也看好人工智慧是物聯網及工業4.0未來的展的核心，這也是遠傳近年來全力經營與佈局的領域。 李彬更指出，目前台灣電信業面臨嚴峻挑戰，市場競爭激烈，因此從組織到營運都需重視數位創新與轉型，對市場的反應速度需更加快速，才能因應市場變化帶動下一波的成長。未來遠傳將持續拓展與深耕大數據相關應用，培育相關人才，推出多元化數位內容產品與服務，打造全方位數位生活。\n",
      "0.032137407808969926\t宏達電（2498）今天在上海世界移動大會（MWCS2018）宣布與中國移動簽署「5G終端先行者計畫」合作備忘，以促進5G基礎設施及終端的快速發展。同時，中國移動還將助力宏達電系列產品的推廣與銷售，讓虛擬實境（VR）在中國市場的加速普及。宏達電表示，作為中國移動「5G終端先行者計畫」的重要合作夥伴，宏達電將攜手中國移動共同加快下一代5G終端開發進程，並進一步推動虛擬實境（VR）及擴增實境（AR）技術的全面普及。這項計畫主要針對5G規模試驗推出第一批5G預商用終端，並與合作夥伴在5G設備適用場景、產品配置、技術解決方案、測試驗證和產品研發等領域展開全面合作。這項合作將推動新型應用模式的發展，進而於2020年實現5G網路的廣泛商業應用。大會期間，宏達電董事長王雪紅也獲主辦單位GSMA頒發「亞洲移動行業卓越貢獻獎」，以表彰其推動高科技產業創新發展的不懈努力。王雪紅對此回應表示，能夠獲得GSMA頒發的亞洲移動大獎，深感榮幸。宏達電在3G和4G時代均取得了極具代表性的創新成果，隨著下一代行動技術的不斷發展，HTC將繼續實現突破創新，構建更具擴展性的人機互動生態系統，帶來更自然的沉浸式技術交互模式，來推動Vive Reality願景的實現。宏達電在上海MWC大會上也展示了一系列全新的智慧手機與VR設備間的創新交互功能。通過採用Androd系統的手機與Vive Focus間的投屏功能，通過Riftcat的優化版VRidge模擬器，便可在5GHz Wi-Fi網路環境中，將PC VR內容傳輸至一體機Vive Focus。宏達電中國區總經理汪叢青表，會展期間，宏達電圍繞手機、電腦和VR/AR設備展示的一系列豐富多彩的創新互動應用，清晰地展現了未來跨設備體驗的無限可能，沉浸式技術的發展必將為日常生活體驗的提升帶來顛覆性的變革。\n",
      "0.09845916612598393\t「世界巡迴超級750」等級的馬來西亞羽球公開賽，今天進行各組8強賽，世界排名第4的台灣一哥周天成，面對日本好手桃田賢斗，奮戰53分鐘，仍以19比21、11比21落敗，吞下兩人對戰的3連敗。 周天成在今年曾和桃田賢斗交手過3次，以1勝2敗居下風，小天面對曾高居世界第3的桃田賢斗，開賽打得相當出色，一度以13比10領先。不過拿下今年亞錦賽冠軍的桃田賢斗也非省油的燈，追到16比16平手時，連拿3分拉開比數，確保首局勝利。 第2局周天成似乎有些氣力放盡，過程中一直處於被動，沒什麼好的進攻機會，讓桃田賢斗很快拉出11比5的技術暫停優勢，小天在比賽中還因飛身撲球，再度擦破原本已經受傷的右手小指，整整掉了一塊皮。 周天成說：「這場比賽看出來我跟桃田之間還是有段技術和體力上的差距，他的速度一直保持的很好，而且不斷主動找尋機會，反觀從第一局中段開始我多半處於被動，很多時候都是二次啟動，體能上自然流失的非常快，這點還得再回去好好鍛鍊和找出破解之道。」 桃田賢斗自從因為涉賭遭日本禁賽期滿後，表現一直相當穩定，四月也剛替日本拿下首次亞錦賽男單金牌，這次馬來西亞公開賽也順利闖進4強。\n",
      "0.03255042744574257\t俄羅斯世界盃16強淘汰賽對戰全部出爐，結果上半的死亡半區，不僅出現西甲4大前鋒得提前對決的戯碼，甚至8強都有機會看到C.羅納度(Cristiano Ronaldo)對上梅西(Lionel Messi)的世紀大對決賽。 在16強的上半死亡之區中，西甲著名的4大進球王全部提前湊在一起，包括烏拉圭的蘇亞雷斯(Luis Suarez)vs.葡萄牙的C.羅(Cristiano Ronaldo)，阿根廷的梅西(Lionel Messi )vs.法國的葛列茲曼(Antoine Griezmann)，若葡萄牙和阿根廷都能雙雙獲勝晉級的話，8強更將出現C.羅與梅西的世界兩大球星的世紀對決。\n",
      "0.047600390499708226\t陽岱鋼昨敲出本季第3轟。單場2安、3得分，走出前4場的低潮，巨人今與廣島再對戰，陽岱鋼續打先發第2棒，要延續好手感。巨人為止3連敗，今由王牌先發菅野智之登板，對上廣島左投高橋昂也。菅野目前8勝，並以94次三振和2.13防禦率，暫居中央聯盟投手三振和防禦率王。\n",
      "0.21925986880276058\t富邦悍將高國麟，今天在球團安排下與媒體茶敘。高國麟在高中、大學都是外野手，但進入職棒後改練內野，他說：「原本以為自己要轉練的是三壘，沒想到是游擊，這段過程中其實接球、傳球並不難，困難的是跑位。」 高國麟也拿出剛轉練游擊時的筆記本，上面記滿了遇到狀況該怎麼跑位，甚至還自己附圖。他笑說：「現在看到這些筆記，覺得怎麼連這些都要記？但很感謝幫助我的教練與學長，特別是劉教練(劉榮華)，他罵我最兇，但也幫助我最大。」改練內野後糗事不少，高國麟透漏，當初在二軍時，常常會跑錯位置，上了一軍之後，也曾有1次在轉傳時跑位錯誤，他苦笑說：「下來馬上被罵到臭頭，不過現在比較沒問題了。」進職棒前，高國麟的大哥高國輝，就曾提醒他可以改練三壘，進入職棒後比較有發揮空間，他說：「其實我沒想到會被義大選走，那時候教練跟我說先從游擊練看看，我也接受，因為進來職棒很不容易，一定要好好珍惜機會。」 現在高國麟除了游擊之外，一壘、三壘也要視情況補上，高國麟說：「職棒就是這樣，120場比賽中，不是每個人的狀況都能一直維持得很好，如果我能順利補上這些位置，球隊的運作也會更順暢，對我們下半季的成績也會有幫助。」\n",
      "0.06292252862030638\t印地安人隊今天火力全開，全場敲出20支安打，包括11支二壘安打，與2支全壘打，單場13支長打，打得運動家暈頭轉向。前7局印地安人僅以5比3領先，8局上靠著7支安打，一口氣灌進8分拉開差距，終場印地安人15比3在客場擊敗運動家。 印地安人1棒林多(Francisco Lindor)，今天4打數3安打，3支安打都是長打，包括7局上的陽春砲，以及2支二壘安打。印地安人單場11支二壘安打，是印地安人隊史自1996年以來，單場最多二壘安打的紀錄；單場13支長打，也是大聯盟史上自2009年以來的紀錄。\n"
     ]
    }
   ],
   "source": [
    "test = \"昨天富邦悍將在新人選秀會，一口氣選入10名球員，是4隊最多。富邦領隊蔡承儒說：「這些球員都是我們想要的，而且都值得培養，雖然還有自主培訓這個方式，但我們最後還是決定用選秀選入，也算是對他們的肯定。」 富邦在第2輪選中內野手王正棠、第3輪挑中旅外投手陳品學，蔡承儒表示，這2名球員都是即戰力球員，他說：「王正棠內野中線甚至三壘都可以守，可以給球員輪替的空間，增加我們的球員深度，而且打擊跟選球能力都很好。」 陳品學在選秀會前，都跟富邦自主練球，蔡承儒笑說：「他應該很想來我們球隊，有時候我來球場，也看到他自己來新莊練習。陳品學不用簽約金，在談約上可能會快一點，我們的規劃是認為會成為下半季的即戰力。」 富邦一口氣在選秀會補進10名球員，是否今年季後會有一波釋出潮？蔡承儒說：「也不一定選了10人，就要釋出10人，就算球員多一點，也是沒什麼關係，多囤積一些年輕球員也不錯。」\"\n",
    "testTerms = jieba.cut(test, cut_all = False)\n",
    "testVector = {}\n",
    "for testTerm in testTerms:\n",
    "    if testTerm.strip() == \"\" or testTerm in specialChar: continue\n",
    "    if testTerm not in testVector: testVector[testTerm] = 1\n",
    "    else: testVector[testTerm] += 1\n",
    "\n",
    "for index in range(len(listOfTFIDF)):\n",
    "    similarityScore = getCosineSimilarity(testVector, listOfTFIDF[index])\n",
    "    print (str(similarityScore) + \"\\t\" + articles[index])"
   ]
  },
  {
   "cell_type": "code",
   "execution_count": 1,
   "metadata": {},
   "outputs": [
    {
     "name": "stderr",
     "output_type": "stream",
     "text": [
      "2018-10-04 15:10:14,915 : INFO : collecting all words and their counts\n",
      "2018-10-04 15:10:14,917 : INFO : PROGRESS: at sentence #0, processed 0 words, keeping 0 word types\n",
      "2018-10-04 15:10:14,918 : INFO : collected 1095 word types from a corpus of 2055 raw words and 10 sentences\n",
      "2018-10-04 15:10:14,920 : INFO : Loading a fresh vocabulary\n",
      "2018-10-04 15:10:14,923 : INFO : effective_min_count=5 retains 72 unique words (6% of original 1095, drops 1023)\n",
      "2018-10-04 15:10:14,923 : INFO : effective_min_count=5 leaves 628 word corpus (30% of original 2055, drops 1427)\n",
      "2018-10-04 15:10:14,924 : INFO : deleting the raw counts dictionary of 1095 items\n",
      "2018-10-04 15:10:14,926 : INFO : sample=0.001 downsamples 72 most-common words\n",
      "2018-10-04 15:10:14,926 : INFO : downsampling leaves estimated 204 word corpus (32.6% of prior 628)\n",
      "2018-10-04 15:10:14,927 : INFO : estimated required memory for 72 words and 300 dimensions: 208800 bytes\n",
      "2018-10-04 15:10:14,928 : INFO : resetting layer weights\n",
      "2018-10-04 15:10:14,935 : INFO : training model with 3 workers on 72 vocabulary and 300 features, using sg=0 hs=0 sample=0.001 negative=5 window=5\n",
      "2018-10-04 15:10:14,940 : INFO : worker thread finished; awaiting finish of 2 more threads\n",
      "2018-10-04 15:10:14,941 : INFO : worker thread finished; awaiting finish of 1 more threads\n",
      "2018-10-04 15:10:14,942 : INFO : worker thread finished; awaiting finish of 0 more threads\n",
      "2018-10-04 15:10:14,942 : INFO : EPOCH - 1 : training on 2055 raw words (203 effective words) took 0.0s, 87129 effective words/s\n",
      "2018-10-04 15:10:14,947 : INFO : worker thread finished; awaiting finish of 2 more threads\n",
      "2018-10-04 15:10:14,948 : INFO : worker thread finished; awaiting finish of 1 more threads\n",
      "2018-10-04 15:10:14,949 : INFO : worker thread finished; awaiting finish of 0 more threads\n",
      "2018-10-04 15:10:14,950 : INFO : EPOCH - 2 : training on 2055 raw words (206 effective words) took 0.0s, 36576 effective words/s\n",
      "2018-10-04 15:10:14,953 : INFO : worker thread finished; awaiting finish of 2 more threads\n",
      "2018-10-04 15:10:14,954 : INFO : worker thread finished; awaiting finish of 1 more threads\n",
      "2018-10-04 15:10:14,955 : INFO : worker thread finished; awaiting finish of 0 more threads\n",
      "2018-10-04 15:10:14,958 : INFO : EPOCH - 3 : training on 2055 raw words (196 effective words) took 0.0s, 31563 effective words/s\n",
      "2018-10-04 15:10:14,963 : INFO : worker thread finished; awaiting finish of 2 more threads\n",
      "2018-10-04 15:10:14,963 : INFO : worker thread finished; awaiting finish of 1 more threads\n",
      "2018-10-04 15:10:14,964 : INFO : worker thread finished; awaiting finish of 0 more threads\n",
      "2018-10-04 15:10:14,964 : INFO : EPOCH - 4 : training on 2055 raw words (212 effective words) took 0.0s, 54516 effective words/s\n",
      "2018-10-04 15:10:14,969 : INFO : worker thread finished; awaiting finish of 2 more threads\n",
      "2018-10-04 15:10:14,972 : INFO : worker thread finished; awaiting finish of 1 more threads\n",
      "2018-10-04 15:10:14,973 : INFO : worker thread finished; awaiting finish of 0 more threads\n",
      "2018-10-04 15:10:14,973 : INFO : EPOCH - 5 : training on 2055 raw words (197 effective words) took 0.0s, 40657 effective words/s\n",
      "2018-10-04 15:10:14,974 : INFO : training on a 10275 raw words (1014 effective words) took 0.0s, 27321 effective words/s\n",
      "2018-10-04 15:10:14,975 : WARNING : under 10 jobs per worker: consider setting a smaller `batch_words' for smoother alpha decay\n",
      "2018-10-04 15:10:14,978 : INFO : saving Word2Vec object under pttWord2Vec.model, separately None\n",
      "2018-10-04 15:10:14,979 : INFO : not storing attribute vectors_norm\n",
      "2018-10-04 15:10:14,980 : INFO : not storing attribute cum_table\n",
      "2018-10-04 15:10:14,985 : INFO : saved pttWord2Vec.model\n"
     ]
    }
   ],
   "source": [
    "import logging\n",
    "from gensim.models import word2vec\n",
    "\n",
    "logging.basicConfig(format='%(asctime)s : %(levelname)s : %(message)s', level=logging.INFO)\n",
    "sentences = word2vec.LineSentence('segmented.txt')\n",
    "model = word2vec.Word2Vec(sentences, size=300)\n",
    "\n",
    "# 保存模型，供日後使用\n",
    "model.save(\"pttWord2Vec.model\")\n",
    "\n",
    "# 模型讀取方式\n",
    "# model = word2vec.Word2Vec.load(\"your_model_name\")"
   ]
  },
  {
   "cell_type": "code",
   "execution_count": 2,
   "metadata": {},
   "outputs": [
    {
     "name": "stdout",
     "output_type": "stream",
     "text": [
      "[ 7.80497910e-04  1.06670265e-03 -1.31102221e-03  6.73092552e-04\n",
      "  1.16630072e-04 -1.58528658e-03  1.45856873e-04 -9.66102292e-04\n",
      " -8.40064080e-04 -6.04859903e-04  4.47454571e-04  1.45251432e-03\n",
      "  1.43462676e-03 -8.54947313e-04  9.16351390e-04 -8.08433178e-05\n",
      " -3.50019982e-05 -1.35207444e-03  6.01757842e-04  9.37169243e-04\n",
      "  6.96533127e-04  1.33261411e-03  4.80973307e-04 -1.03081041e-03\n",
      " -3.04491987e-04  1.03935308e-03  1.63675309e-03  1.01669726e-03\n",
      "  5.90004085e-04 -1.38276606e-03  1.53164333e-03 -6.63598184e-04\n",
      " -1.75822095e-03 -4.28906147e-04  2.88558018e-04  1.24953338e-03\n",
      " -1.62829272e-03  7.37018476e-04  2.31952508e-04 -1.05246389e-03\n",
      " -6.32293115e-04 -1.26206852e-03 -1.21160538e-03 -1.08947075e-04\n",
      "  5.54813363e-04 -1.72962388e-03 -5.54645841e-04  2.18490619e-04\n",
      " -4.87226323e-04  1.04029651e-03 -1.06744503e-03  6.42599945e-04\n",
      " -1.42968993e-03  3.55379074e-04  1.12055778e-03  3.67602537e-04\n",
      "  4.38929070e-04 -6.35809498e-04 -1.34888745e-04  1.77622424e-03\n",
      "  1.09455187e-03 -8.75782920e-04 -6.73429749e-04  1.03154127e-03\n",
      " -1.02678803e-03  7.78799294e-04 -1.20711979e-03 -1.75472174e-03\n",
      "  1.43747847e-03  1.05937339e-04  1.28283701e-03 -1.26932820e-04\n",
      " -1.02452911e-03  1.33606617e-03 -9.59167781e-04 -1.10688410e-03\n",
      " -7.29826861e-04  8.12627259e-04 -7.97466084e-04 -8.97103804e-04\n",
      "  5.01535076e-04  1.00142998e-03 -2.91530858e-04 -2.87233906e-05\n",
      " -8.49637319e-04  1.34644646e-03  1.16070127e-03  1.39740383e-04\n",
      " -1.57924276e-03  9.40488011e-04 -8.83080182e-04 -6.09901443e-04\n",
      " -5.15830936e-04  1.47136278e-03  4.76088971e-05  1.54114142e-03\n",
      "  4.64815384e-04 -9.55978976e-05  5.24806790e-04 -2.33893370e-04\n",
      "  8.19951296e-04 -1.47355709e-03 -4.08054824e-04  8.50369746e-04\n",
      " -1.68036111e-03  5.36941458e-04  1.48371677e-04  1.13452016e-03\n",
      " -9.95059148e-04  1.29517238e-03 -1.39474007e-03 -6.14955556e-04\n",
      "  1.22196507e-05  1.40868255e-03 -2.79666536e-04 -2.84149020e-04\n",
      " -4.47272905e-04 -5.92552766e-04  9.49791283e-04 -2.47305270e-05\n",
      " -1.43627147e-03 -4.34497342e-04  6.09777286e-04  9.19428887e-04\n",
      " -2.91231292e-04  3.93195951e-04  1.19603542e-03  1.31579407e-03\n",
      " -1.10987376e-03 -4.86261735e-04  5.36985055e-04  2.57899024e-04\n",
      "  1.10053818e-03 -1.33745349e-03 -1.10532215e-03  5.85463131e-04\n",
      " -1.22912996e-03  1.39781961e-03 -8.16391257e-04  1.41210004e-03\n",
      " -1.52009225e-03 -1.39392505e-03  1.36880274e-03 -6.32921234e-04\n",
      "  1.43942551e-03  1.31863193e-03  1.59275762e-04 -1.70531112e-03\n",
      "  8.89039347e-06  2.20512215e-04  6.24664593e-04 -1.89065704e-05\n",
      "  4.26529645e-04 -1.05134025e-03 -5.65473980e-04  1.80914544e-03\n",
      "  5.58412110e-04 -6.46844215e-04  1.78846341e-04 -1.42871984e-03\n",
      "  2.70225253e-04  3.53258511e-05  9.27614092e-05  1.00301963e-03\n",
      "  9.14620177e-04 -4.51825967e-04  1.30704069e-03 -1.36189430e-03\n",
      " -5.67088195e-04  7.45511265e-04  1.38848438e-04 -9.94379632e-04\n",
      "  1.69242802e-03  1.34372711e-03  6.31613948e-04  9.71653964e-04\n",
      "  1.33060850e-03  1.61820732e-03  1.27843220e-03  1.66067749e-03\n",
      "  3.72906885e-04  1.13888388e-03  1.09452137e-03  3.28595052e-04\n",
      "  1.06778636e-03 -9.82674304e-04  7.51334243e-04  6.74888433e-04\n",
      "  1.09361804e-06 -1.37717591e-03  1.19159732e-03 -1.39446129e-04\n",
      "  1.23587332e-03  3.21774743e-04  5.06209442e-04 -1.17772724e-03\n",
      "  1.25243561e-03 -1.03975215e-03 -1.58841911e-04  2.35739513e-04\n",
      " -5.62225119e-04  1.11515808e-03 -4.27416555e-04 -1.56973512e-03\n",
      " -9.50578949e-04 -9.05813475e-04  7.18241383e-04  3.56129953e-04\n",
      "  3.04549088e-04  9.20599501e-04  8.12586688e-04  1.12627947e-03\n",
      " -7.33001623e-04 -9.57259384e-04 -7.42012868e-04 -1.64312380e-03\n",
      "  1.55113661e-03  1.60769070e-03  3.31841846e-04  2.88879062e-04\n",
      " -2.96716957e-04  1.60692690e-03 -1.71061838e-03  1.60386472e-03\n",
      " -6.54273608e-04  1.14062254e-03  1.69674878e-03 -1.18903560e-03\n",
      " -5.42171241e-04  4.64091136e-04 -1.51175284e-03  1.49671081e-03\n",
      " -6.96722418e-04  1.13392004e-03  7.98011606e-04 -2.52643003e-05\n",
      "  1.39411190e-03 -4.91964864e-04 -6.81628822e-04  1.00393197e-03\n",
      " -1.45150651e-03  1.63265225e-03 -1.15468726e-03 -1.23690278e-03\n",
      " -3.06043985e-05 -4.83145006e-04 -1.01602764e-03 -8.55933235e-04\n",
      " -4.22449841e-04  3.50021757e-04  1.46817765e-03 -1.90014151e-04\n",
      " -1.17392011e-03 -1.04469527e-03 -8.92424199e-04  4.66789323e-04\n",
      " -7.30941654e-04  1.41908304e-05 -5.01749164e-04  4.81121388e-04\n",
      "  5.28311182e-04  1.17869279e-03 -1.18266582e-03 -6.31419651e-04\n",
      " -2.62453454e-04  8.74643796e-04 -2.88763957e-04 -1.29850616e-03\n",
      "  9.74441587e-04 -1.08343642e-03 -3.62876628e-04 -7.60866305e-06\n",
      "  1.30425836e-03 -1.47710356e-03  1.13895291e-03 -7.72869680e-04\n",
      "  4.11137851e-04 -8.05320218e-04  2.16621658e-04  1.69637171e-03\n",
      " -5.92427445e-04  7.67220685e-04 -5.66978670e-05  3.19848186e-04\n",
      " -1.20845856e-03  1.02203700e-03  1.20093534e-03 -1.25233482e-05\n",
      " -1.93049287e-04 -7.98683104e-05 -3.34151613e-04  8.26402626e-04\n",
      "  4.94692475e-04  1.74397149e-03 -9.90914879e-04 -1.66487205e-03\n",
      "  9.99657903e-04  1.19177462e-03  7.23153120e-04 -3.78729310e-04]\n"
     ]
    },
    {
     "name": "stderr",
     "output_type": "stream",
     "text": [
      "/Library/Frameworks/Python.framework/Versions/3.6/lib/python3.6/site-packages/ipykernel_launcher.py:1: DeprecationWarning: Call to deprecated `__getitem__` (Method will be removed in 4.0.0, use self.wv.__getitem__() instead).\n",
      "  \"\"\"Entry point for launching an IPython kernel.\n"
     ]
    }
   ],
   "source": [
    "print (model['世界'])"
   ]
  },
  {
   "cell_type": "code",
   "execution_count": 3,
   "metadata": {},
   "outputs": [
    {
     "name": "stderr",
     "output_type": "stream",
     "text": [
      "/Library/Frameworks/Python.framework/Versions/3.6/lib/python3.6/site-packages/ipykernel_launcher.py:2: DeprecationWarning: Call to deprecated `most_similar` (Method will be removed in 4.0.0, use self.wv.most_similar() instead).\n",
      "  \n",
      "2018-10-04 15:10:20,735 : INFO : precomputing L2-norms of word weight vectors\n"
     ]
    },
    {
     "name": "stdout",
     "output_type": "stream",
     "text": [
      "相似詞前 100 排序\n",
      "會,0.20158466696739197\n",
      "機構,0.1393730193376541\n",
      "支付,0.1285887509584427\n",
      "8,0.12492131441831589\n",
      "5G,0.11995314061641693\n",
      "儲值,0.11554837226867676\n",
      "高國麟,0.11407682299613953\n",
      "從,0.10970176011323929\n",
      "3,0.10261745005846024\n",
      "數位,0.10247179865837097\n",
      "是,0.09658145904541016\n",
      "移動,0.096504345536232\n",
      "到,0.09070290625095367\n",
      "、,0.09069439768791199\n",
      "與,0.08713461458683014\n",
      "的,0.08645789325237274\n",
      "在,0.08156436681747437\n",
      "後,0.0804208368062973\n",
      "應用,0.07584051787853241\n",
      "以,0.06880386173725128\n",
      "泰國,0.06588061898946762\n",
      "桃田賢斗,0.06522839516401291\n",
      "中,0.06197640299797058\n",
      "泰銖,0.04890333116054535\n",
      "4,0.04888824746012688\n",
      "來,0.048047710210084915\n",
      "包括,0.045999616384506226\n",
      "李彬,0.040957532823085785\n",
      "單場,0.038660161197185516\n",
      "我,0.03855273127555847\n",
      "美元,0.0371430329978466\n",
      "2,0.03660852834582329\n",
      "說,0.03648305684328079\n",
      "身分,0.03192094713449478\n",
      "都,0.030335498973727226\n",
      ".,0.02908411994576454\n",
      "上,0.028828009963035583\n",
      "合作,0.025292115285992622\n",
      "對,0.02498623915016651\n",
      "VR,0.023257769644260406\n",
      "電子,0.02033282443881035\n",
      "帳戶,0.020332789048552513\n",
      "印地安人,0.010733116418123245\n",
      "和,0.008594052866101265\n",
      "以來,0.006269474048167467\n",
      "今天,0.004863702226430178\n",
      "也,4.570651799440384e-05\n",
      "萬元,-0.0005273683927953243\n",
      "中國,-0.0019351383671164513\n",
      "創新,-0.0022367332130670547\n",
      "可以,-0.00565649289637804\n",
      "比,-0.006044349633157253\n",
      "等,-0.007297518663108349\n",
      "但,-0.007913775742053986\n",
      "認證,-0.010631412267684937\n",
      "安打,-0.017298638820648193\n",
      "有,-0.017418529838323593\n",
      "限額,-0.019868772476911545\n",
      "技術,-0.020068971440196037\n",
      "年,-0.03367503732442856\n",
      "於,-0.04610135033726692\n",
      "1,-0.052514657378196716\n",
      "宏達電,-0.05437447130680084\n",
      "市場,-0.0596943199634552\n",
      "打,-0.05974850058555603\n",
      "他,-0.06297525763511658\n",
      "發展,-0.06395377218723297\n",
      "第,-0.07793860137462616\n",
      "了,-0.0836256891489029\n",
      "做,-0.10787054896354675\n",
      "-,-0.12069179862737656\n"
     ]
    },
    {
     "name": "stderr",
     "output_type": "stream",
     "text": [
      "/Library/Frameworks/Python.framework/Versions/3.6/lib/python3.6/site-packages/gensim/matutils.py:737: FutureWarning: Conversion of the second argument of issubdtype from `int` to `np.signedinteger` is deprecated. In future, it will be treated as `np.int64 == np.dtype(int).type`.\n",
      "  if np.issubdtype(vec.dtype, np.int):\n"
     ]
    }
   ],
   "source": [
    "print(\"相似詞前 100 排序\")\n",
    "res = model.most_similar('世界',topn = 100)\n",
    "for item in res:\n",
    "    print(item[0]+\",\"+str(item[1]))"
   ]
  },
  {
   "cell_type": "code",
   "execution_count": null,
   "metadata": {},
   "outputs": [],
   "source": []
  }
 ],
 "metadata": {
  "kernelspec": {
   "display_name": "Python 3",
   "language": "python",
   "name": "python3"
  },
  "language_info": {
   "codemirror_mode": {
    "name": "ipython",
    "version": 3
   },
   "file_extension": ".py",
   "mimetype": "text/x-python",
   "name": "python",
   "nbconvert_exporter": "python",
   "pygments_lexer": "ipython3",
   "version": "3.6.6"
  }
 },
 "nbformat": 4,
 "nbformat_minor": 2
}
