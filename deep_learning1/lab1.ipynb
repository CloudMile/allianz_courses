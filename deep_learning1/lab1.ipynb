{
  "nbformat": 4,
  "nbformat_minor": 0,
  "metadata": {
    "colab": {
      "name": "lab1.ipynb",
      "version": "0.3.2",
      "provenance": [],
      "toc_visible": true
    },
    "kernelspec": {
      "name": "python3",
      "display_name": "Python 3"
    },
    "accelerator": "GPU"
  },
  "cells": [
    {
      "metadata": {
        "id": "DODiGiyfBZxF",
        "colab_type": "code",
        "colab": {}
      },
      "cell_type": "code",
      "source": [
        "import shutil\n",
        "import numpy as np\n",
        "import tensorflow as tf\n",
        "import matplotlib.pyplot as plt\n",
        "from tensorflow.python.client import device_lib\n",
        "\n",
        "plt.style.use('ggplot')"
      ],
      "execution_count": 0,
      "outputs": []
    },
    {
      "metadata": {
        "id": "QRUFGw74BZxL",
        "colab_type": "code",
        "colab": {}
      },
      "cell_type": "code",
      "source": [
        "def get_available_gpus():\n",
        "    local_device_protos = device_lib.list_local_devices()\n",
        "    return [x.name for x in local_device_protos]\n",
        "\n",
        "get_available_gpus()"
      ],
      "execution_count": 0,
      "outputs": []
    },
    {
      "metadata": {
        "id": "XuLYDiaOBZxN",
        "colab_type": "code",
        "colab": {}
      },
      "cell_type": "code",
      "source": [
        "print(1)"
      ],
      "execution_count": 0,
      "outputs": []
    },
    {
      "metadata": {
        "id": "YcKn0PXBBZxP",
        "colab_type": "text"
      },
      "cell_type": "markdown",
      "source": [
        "## Difference Between Tensor and Python Variable"
      ]
    },
    {
      "metadata": {
        "id": "aR2MtQeCBZxQ",
        "colab_type": "code",
        "colab": {}
      },
      "cell_type": "code",
      "source": [
        "var = 1.\n",
        "print(\"python variable: \", var)\n",
        "print()\n",
        "\n",
        "var_tensor = tf.constant(1.)\n",
        "print(\"tensor: \", var_tensor)"
      ],
      "execution_count": 0,
      "outputs": []
    },
    {
      "metadata": {
        "id": "ySMFkg6hBZxS",
        "colab_type": "code",
        "colab": {}
      },
      "cell_type": "code",
      "source": [
        "with tf.Session() as sess:\n",
        "    print(sess.run(var_tensor))"
      ],
      "execution_count": 0,
      "outputs": []
    },
    {
      "metadata": {
        "id": "v4-my0l8BZxU",
        "colab_type": "text"
      },
      "cell_type": "markdown",
      "source": [
        "<br/>\n",
        "<br/>\n",
        "<br/>\n",
        "## Simple Regression Example\n",
        "- Formula: $ Y = 0.5X + 0.3 $"
      ]
    },
    {
      "metadata": {
        "id": "JGgL6RtGBZxV",
        "colab_type": "code",
        "colab": {}
      },
      "cell_type": "code",
      "source": [
        "formula = lambda x: 0.5 * x + 0.3\n",
        "data_x = np.linspace(0, 1, 100)\n",
        "plt.plot(data_x, formula(data_x))\n",
        "plt.show()"
      ],
      "execution_count": 0,
      "outputs": []
    },
    {
      "metadata": {
        "codeCollapsed": false,
        "hiddenCell": false,
        "scrolled": true,
        "id": "i9MnVo2QBZxY",
        "colab_type": "code",
        "colab": {}
      },
      "cell_type": "code",
      "source": [
        "outerX = np.random.random(10000)\n",
        "outerY = 0.5 * outerX + 0.3\n",
        "outerX, outerY"
      ],
      "execution_count": 0,
      "outputs": []
    },
    {
      "metadata": {
        "id": "SW6apJ09e0xI",
        "colab_type": "code",
        "colab": {}
      },
      "cell_type": "code",
      "source": [
        "tf.reset_default_graph()\n",
        "# shutil.rmtree('tf_logs')\n",
        "model_dir = \"tf_logs/\""
      ],
      "execution_count": 0,
      "outputs": []
    },
    {
      "metadata": {
        "id": "dSXo9KEOgj1i",
        "colab_type": "code",
        "colab": {}
      },
      "cell_type": "code",
      "source": [
        "n_epoch = 200\n",
        "learning_rate = 0.5"
      ],
      "execution_count": 0,
      "outputs": []
    },
    {
      "metadata": {
        "id": "GQ421PO8Hbl8",
        "colab_type": "code",
        "colab": {}
      },
      "cell_type": "code",
      "source": [
        "# Create placeholder to get vlaue\n",
        "placeholderX = tf.placeholder(tf.float32, shape=[None])\n",
        "\n",
        "# Create placeholder to get vlaue\n",
        "placeholderY = tf.placeholder(tf.float32, shape=[None])\n",
        "        \n",
        "varW = tf.Variable(tf.random_uniform(shape=[1]), tf.float32)\n",
        "varB = tf.Variable(tf.random_uniform(shape=[1]), tf.float32)\n",
        "        \n",
        "  \n",
        "# 公式 0.5X + 0.3, varW will be close to 0.5 and varB will be close to 0.3\n",
        "varY = varW * placeholderX + varB\n",
        "\n",
        "# tensorboard weights logs\n",
        "tf.summary.histogram(\"varW\", varW)\n",
        "tf.summary.histogram(\"varB\", varB)\n",
        "\n",
        "# mean square error\n",
        "loss = tf.losses.mean_squared_error(placeholderY, varY)\n",
        "\n",
        "# tensorboard weights logs\n",
        "tf.summary.scalar(\"loss\", loss)\n",
        "\n",
        "# use GradientDescentOptimizer\n",
        "optimizer = tf.train.GradientDescentOptimizer(learning_rate=learning_rate)\n",
        "\n",
        "# Adjusting varW and varB to Minimize loss\n",
        "trainer = optimizer.minimize(loss)\n",
        "\n",
        "# Merges all summaries collected in the default graph.\n",
        "merge = tf.summary.merge_all()\n",
        "\n",
        "\n",
        "with tf.Session() as sess:\n",
        "    w = tf.summary.FileWriter(model_dir, sess.graph)\n",
        "    init = tf.global_variables_initializer()\n",
        "    sess.run(init)\n",
        "    for i in range(n_epoch):\n",
        "        _, w_, b_, merge_ = sess.run([trainer, varW, varB, merge], feed_dict={placeholderX: outerX, placeholderY: outerY})\n",
        "        w.add_summary(merge_, i)\n",
        "        if i % 20 == 0:\n",
        "            print('step: {} varW: {}, varB: {}'.format(i, w_, b_) )\n",
        "\n",
        "            "
      ],
      "execution_count": 0,
      "outputs": []
    },
    {
      "metadata": {
        "id": "tNTcHBYbFYqW",
        "colab_type": "text"
      },
      "cell_type": "markdown",
      "source": [
        "## Connect to Tensorboard"
      ]
    },
    {
      "metadata": {
        "id": "SAaE7fgvEiTE",
        "colab_type": "code",
        "colab": {}
      },
      "cell_type": "code",
      "source": [
        "!wget https://bin.equinox.io/c/4VmDzA7iaHb/ngrok-stable-linux-amd64.zip\n",
        "!unzip ngrok-stable-linux-amd64.zip"
      ],
      "execution_count": 0,
      "outputs": []
    },
    {
      "metadata": {
        "id": "Od_uuLIYEwnJ",
        "colab_type": "code",
        "colab": {}
      },
      "cell_type": "code",
      "source": [
        "LOG_DIR = 'tf_logs/'\n",
        "get_ipython().system_raw(\n",
        "    'tensorboard --logdir {} --host 0.0.0.0 --port 6006 &'\n",
        "    .format(LOG_DIR))"
      ],
      "execution_count": 0,
      "outputs": []
    },
    {
      "metadata": {
        "id": "hZ4ipHw3FCxX",
        "colab_type": "code",
        "colab": {}
      },
      "cell_type": "code",
      "source": [
        "get_ipython().system_raw('./ngrok http 6006 &')"
      ],
      "execution_count": 0,
      "outputs": []
    },
    {
      "metadata": {
        "id": "LnL-8g9hFFR2",
        "colab_type": "code",
        "colab": {}
      },
      "cell_type": "code",
      "source": [
        "! curl -s http://localhost:4040/api/tunnels | python3 -c \\\n",
        "    \"import sys, json; print(json.load(sys.stdin)['tunnels'][0]['public_url'])\""
      ],
      "execution_count": 0,
      "outputs": []
    },
    {
      "metadata": {
        "id": "WtVx0jZ55gMR",
        "colab_type": "code",
        "colab": {}
      },
      "cell_type": "code",
      "source": [
        ""
      ],
      "execution_count": 0,
      "outputs": []
    }
  ]
}