{
 "cells": [
  {
   "cell_type": "code",
   "execution_count": 0,
   "metadata": {
    "colab": {},
    "colab_type": "code",
    "id": "DODiGiyfBZxF"
   },
   "outputs": [],
   "source": [
    "import shutil\n",
    "import numpy as np\n",
    "import tensorflow as tf\n",
    "import matplotlib.pyplot as plt\n",
    "from tensorflow.python.client import device_lib\n",
    "\n",
    "plt.style.use('ggplot')"
   ]
  },
  {
   "cell_type": "code",
   "execution_count": 0,
   "metadata": {
    "colab": {},
    "colab_type": "code",
    "id": "QRUFGw74BZxL"
   },
   "outputs": [],
   "source": [
    "def get_available_gpus():\n",
    "    local_device_protos = device_lib.list_local_devices()\n",
    "    return [x.name for x in local_device_protos]\n",
    "\n",
    "get_available_gpus()"
   ]
  },
  {
   "cell_type": "code",
   "execution_count": 0,
   "metadata": {
    "colab": {},
    "colab_type": "code",
    "id": "XuLYDiaOBZxN"
   },
   "outputs": [],
   "source": [
    "print(1)"
   ]
  },
  {
   "cell_type": "markdown",
   "metadata": {
    "colab_type": "text",
    "id": "YcKn0PXBBZxP"
   },
   "source": [
    "## Difference Between Tensor and Python Variable"
   ]
  },
  {
   "cell_type": "code",
   "execution_count": 0,
   "metadata": {
    "colab": {},
    "colab_type": "code",
    "id": "aR2MtQeCBZxQ"
   },
   "outputs": [],
   "source": [
    "var = 1.\n",
    "print(\"python variable: \", var)\n",
    "print()\n",
    "\n",
    "var_tensor = tf.constant(1.)\n",
    "print(\"tensor: \", var_tensor)"
   ]
  },
  {
   "cell_type": "code",
   "execution_count": 0,
   "metadata": {
    "colab": {},
    "colab_type": "code",
    "id": "ySMFkg6hBZxS"
   },
   "outputs": [],
   "source": [
    "with tf.Session() as sess:\n",
    "    print(sess.run(var_tensor))"
   ]
  },
  {
   "cell_type": "markdown",
   "metadata": {
    "colab_type": "text",
    "id": "v4-my0l8BZxU"
   },
   "source": [
    "<br/>\n",
    "<br/>\n",
    "<br/>\n",
    "## Simple Regression Example\n",
    "- Formula: $ Y = 0.5X + 0.3 $"
   ]
  },
  {
   "cell_type": "code",
   "execution_count": 0,
   "metadata": {
    "colab": {},
    "colab_type": "code",
    "id": "JGgL6RtGBZxV"
   },
   "outputs": [],
   "source": [
    "formula = lambda x: 0.5 * x + 0.3\n",
    "data_x = np.linspace(0, 1, 100)\n",
    "plt.plot(data_x, formula(data_x))\n",
    "plt.show()"
   ]
  },
  {
   "cell_type": "code",
   "execution_count": 0,
   "metadata": {
    "codeCollapsed": false,
    "colab": {},
    "colab_type": "code",
    "hiddenCell": false,
    "id": "i9MnVo2QBZxY",
    "scrolled": true
   },
   "outputs": [],
   "source": [
    "outerX = np.random.random(10000)\n",
    "outerY = 0.5 * outerX + 0.3\n",
    "outerX, outerY"
   ]
  },
  {
   "cell_type": "code",
   "execution_count": 0,
   "metadata": {
    "colab": {},
    "colab_type": "code",
    "id": "SW6apJ09e0xI"
   },
   "outputs": [],
   "source": [
    "tf.reset_default_graph()\n",
    "# shutil.rmtree('tf_logs')\n",
    "model_dir = \"tf_logs/\""
   ]
  },
  {
   "cell_type": "code",
   "execution_count": 0,
   "metadata": {
    "colab": {},
    "colab_type": "code",
    "id": "dSXo9KEOgj1i"
   },
   "outputs": [],
   "source": [
    "n_epoch = 200\n",
    "learning_rate = 0.5"
   ]
  },
  {
   "cell_type": "code",
   "execution_count": 0,
   "metadata": {
    "colab": {},
    "colab_type": "code",
    "id": "GQ421PO8Hbl8"
   },
   "outputs": [],
   "source": [
    "# Create placeholder to get vlaue\n",
    "placeholderX = tf.placeholder(tf.float32, shape=[None])\n",
    "\n",
    "# Create placeholder to get vlaue\n",
    "placeholderY = tf.placeholder(tf.float32, shape=[None])\n",
    "        \n",
    "varW = tf.Variable(tf.random_uniform(shape=[1]), tf.float32)\n",
    "varB = tf.Variable(tf.random_uniform(shape=[1]), tf.float32)\n",
    "        \n",
    "  \n",
    "# 公式 0.5X + 0.3, varW will be close to 0.5 and varB will be close to 0.3\n",
    "varY = varW * placeholderX + varB\n",
    "\n",
    "# tensorboard weights logs\n",
    "tf.summary.histogram(\"varW\", varW)\n",
    "tf.summary.histogram(\"varB\", varB)\n",
    "\n",
    "# mean square error\n",
    "loss = tf.losses.mean_squared_error(placeholderY, varY)\n",
    "\n",
    "# tensorboard weights logs\n",
    "tf.summary.scalar(\"loss\", loss)\n",
    "\n",
    "# use GradientDescentOptimizer\n",
    "optimizer = tf.train.GradientDescentOptimizer(learning_rate=learning_rate)\n",
    "\n",
    "# Adjusting varW and varB to Minimize loss\n",
    "trainer = optimizer.minimize(loss)\n",
    "\n",
    "# Merges all summaries collected in the default graph.\n",
    "merge = tf.summary.merge_all()\n",
    "\n",
    "\n",
    "with tf.Session() as sess:\n",
    "    w = tf.summary.FileWriter(model_dir, sess.graph)\n",
    "    init = tf.global_variables_initializer()\n",
    "    sess.run(init)\n",
    "    for i in range(n_epoch+1):\n",
    "        _, w_, b_, merge_ = sess.run([trainer, varW, varB, merge], feed_dict={placeholderX: outerX, placeholderY: outerY})\n",
    "        w.add_summary(merge_, i)\n",
    "        if i % 20 == 0:\n",
    "            print('step: {} varW: {}, varB: {}'.format(i, w_, b_) )\n",
    "\n",
    "            "
   ]
  },
  {
   "cell_type": "markdown",
   "metadata": {
    "colab_type": "text",
    "id": "tNTcHBYbFYqW"
   },
   "source": [
    "## Connect to Tensorboard"
   ]
  },
  {
   "cell_type": "code",
   "execution_count": 0,
   "metadata": {
    "colab": {},
    "colab_type": "code",
    "id": "SAaE7fgvEiTE"
   },
   "outputs": [],
   "source": [
    "!wget https://bin.equinox.io/c/4VmDzA7iaHb/ngrok-stable-linux-amd64.zip\n",
    "!unzip ngrok-stable-linux-amd64.zip"
   ]
  },
  {
   "cell_type": "code",
   "execution_count": 0,
   "metadata": {
    "colab": {},
    "colab_type": "code",
    "id": "Od_uuLIYEwnJ"
   },
   "outputs": [],
   "source": [
    "LOG_DIR = 'tf_logs/'\n",
    "get_ipython().system_raw(\n",
    "    'tensorboard --logdir {} --host 0.0.0.0 --port 6006 &'\n",
    "    .format(LOG_DIR))"
   ]
  },
  {
   "cell_type": "code",
   "execution_count": 0,
   "metadata": {
    "colab": {},
    "colab_type": "code",
    "id": "hZ4ipHw3FCxX"
   },
   "outputs": [],
   "source": [
    "get_ipython().system_raw('./ngrok http 6006 &')"
   ]
  },
  {
   "cell_type": "code",
   "execution_count": 0,
   "metadata": {
    "colab": {},
    "colab_type": "code",
    "id": "LnL-8g9hFFR2"
   },
   "outputs": [],
   "source": [
    "! curl -s http://localhost:4040/api/tunnels | python3 -c \\\n",
    "    \"import sys, json; print(json.load(sys.stdin)['tunnels'][0]['public_url'])\""
   ]
  },
  {
   "cell_type": "code",
   "execution_count": 0,
   "metadata": {
    "colab": {},
    "colab_type": "code",
    "id": "WtVx0jZ55gMR"
   },
   "outputs": [],
   "source": []
  }
 ],
 "metadata": {
  "accelerator": "GPU",
  "colab": {
   "name": "lab1.ipynb",
   "provenance": [],
   "toc_visible": true,
   "version": "0.3.2"
  },
  "kernelspec": {
   "display_name": "Python [default]",
   "language": "python",
   "name": "python3"
  },
  "language_info": {
   "codemirror_mode": {
    "name": "ipython",
    "version": 3
   },
   "file_extension": ".py",
   "mimetype": "text/x-python",
   "name": "python",
   "nbconvert_exporter": "python",
   "pygments_lexer": "ipython3",
   "version": "3.5.5"
  }
 },
 "nbformat": 4,
 "nbformat_minor": 1
}
